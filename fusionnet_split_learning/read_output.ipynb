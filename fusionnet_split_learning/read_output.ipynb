{
 "cells": [
  {
   "cell_type": "code",
   "execution_count": 1,
   "metadata": {},
   "outputs": [],
   "source": [
    "import pandas as pd\n",
    "import numpy as np\n",
    "import os\n",
    "\n",
    "from utils_plot import nice_plot, nice_plot_multi_columns\n"
   ]
  },
  {
   "cell_type": "code",
   "execution_count": 2,
   "metadata": {},
   "outputs": [
    {
     "data": {
      "text/plain": [
       "({'cd_method',\n",
       "  'time_client_compression_decompression',\n",
       "  'time_server_compression_decompression'},\n",
       " {'time_compression_decompression'})"
      ]
     },
     "execution_count": 2,
     "metadata": {},
     "output_type": "execute_result"
    }
   ],
   "source": [
    "column_non_split = ['exp_seq', 'epoch', 'total_epochs', 'learning_rate', 'architecture_choice', 'batch_size', 'len_train_dataset', 'len_val_dataset', 'len_test_dataset', 'param_client_first', 'param_server_middle', 'param_client_last', 'train_loss', 'train_dia_acc', 'train_sps_acc', 'train_mean_acc', 'val_loss', 'val_dia_acc', 'val_sps_acc', 'val_mean_acc', 'is_best_val', 'val_dia_clic_acc', 'val_dia_derm_acc', 'val_dia_fusion_acc', 'val_sps_clic_acc', 'val_sps_derm_acc', 'val_sps_fusion_acc', 'val_pn_acc', 'val_str_acc', 'val_pig_acc', 'val_rs_acc', 'val_dag_acc', 'val_bwv_acc', 'val_vs_acc', 'val_pn_clic_acc', 'val_pn_derm_acc', 'val_pn_fusion_acc', 'val_str_clic_acc', 'val_str_derm_acc', 'val_str_fusion_acc', 'val_pig_clic_acc', 'val_pig_derm_acc', 'val_pig_fusion_acc', 'val_rs_clic_acc', 'val_rs_derm_acc', 'val_rs_fusion_acc', 'val_dag_clic_acc', 'val_dag_derm_acc', 'val_dag_fusion_acc', 'val_bwv_clic_acc', 'val_bwv_derm_acc', 'val_bwv_fusion_acc', 'val_vs_clic_acc', 'val_vs_derm_acc', 'val_vs_fusion_acc', 'test_loss', 'test_dia_acc', 'test_sps_acc', 'test_mean_acc', 'test_dia_clic_acc', 'test_dia_derm_acc', 'test_dia_fusion_acc', 'test_sps_clic_acc', 'test_sps_derm_acc', 'test_sps_fusion_acc', 'test_pn_acc', 'test_str_acc', 'test_pig_acc', 'test_rs_acc', 'test_dag_acc', 'test_bwv_acc', 'test_vs_acc', 'test_pn_clic_acc', 'test_pn_derm_acc', 'test_pn_fusion_acc', 'test_str_clic_acc', 'test_str_derm_acc', 'test_str_fusion_acc', 'test_pig_clic_acc', 'test_pig_derm_acc', 'test_pig_fusion_acc', 'test_rs_clic_acc', 'test_rs_derm_acc', 'test_rs_fusion_acc', 'test_dag_clic_acc', 'test_dag_derm_acc', 'test_dag_fusion_acc', 'test_bwv_clic_acc', 'test_bwv_derm_acc', 'test_bwv_fusion_acc', 'test_vs_clic_acc', 'test_vs_derm_acc', 'test_vs_fusion_acc', 'time_server_load', 'time_client_training', 'time_server_training', 'time_validation', 'time_test', 'time_communication_server_to_client', 'time_communication_client_to_server', 'time_compression_decompression', 'time_total', 'size_server_to_client_msg', 'size_server_output', 'size_client_head_gradient', 'size_server_model', 'size_client_to_server_msg', 'size_client_head_output', 'size_server_gradient']\n",
    "column_split = ['exp_seq', 'epoch', 'total_epochs', 'learning_rate', 'architecture_choice', 'cd_method', 'batch_size', 'len_train_dataset', 'len_val_dataset', 'len_test_dataset', 'param_client_first', 'param_server_middle', 'param_client_last', 'train_loss', 'train_dia_acc', 'train_sps_acc', 'train_mean_acc', 'val_loss', 'val_dia_acc', 'val_sps_acc', 'val_mean_acc', 'is_best_val', 'val_dia_clic_acc', 'val_dia_derm_acc', 'val_dia_fusion_acc', 'val_sps_clic_acc', 'val_sps_derm_acc', 'val_sps_fusion_acc', 'val_pn_acc', 'val_str_acc', 'val_pig_acc', 'val_rs_acc', 'val_dag_acc', 'val_bwv_acc', 'val_vs_acc', 'val_pn_clic_acc', 'val_pn_derm_acc', 'val_pn_fusion_acc', 'val_str_clic_acc', 'val_str_derm_acc', 'val_str_fusion_acc', 'val_pig_clic_acc', 'val_pig_derm_acc', 'val_pig_fusion_acc', 'val_rs_clic_acc', 'val_rs_derm_acc', 'val_rs_fusion_acc', 'val_dag_clic_acc', 'val_dag_derm_acc', 'val_dag_fusion_acc', 'val_bwv_clic_acc', 'val_bwv_derm_acc', 'val_bwv_fusion_acc', 'val_vs_clic_acc', 'val_vs_derm_acc', 'val_vs_fusion_acc', 'test_loss', 'test_dia_acc', 'test_sps_acc', 'test_mean_acc', 'test_dia_clic_acc', 'test_dia_derm_acc', 'test_dia_fusion_acc', 'test_sps_clic_acc', 'test_sps_derm_acc', 'test_sps_fusion_acc', 'test_pn_acc', 'test_str_acc', 'test_pig_acc', 'test_rs_acc', 'test_dag_acc', 'test_bwv_acc', 'test_vs_acc', 'test_pn_clic_acc', 'test_pn_derm_acc', 'test_pn_fusion_acc', 'test_str_clic_acc', 'test_str_derm_acc', 'test_str_fusion_acc', 'test_pig_clic_acc', 'test_pig_derm_acc', 'test_pig_fusion_acc', 'test_rs_clic_acc', 'test_rs_derm_acc', 'test_rs_fusion_acc', 'test_dag_clic_acc', 'test_dag_derm_acc', 'test_dag_fusion_acc', 'test_bwv_clic_acc', 'test_bwv_derm_acc', 'test_bwv_fusion_acc', 'test_vs_clic_acc', 'test_vs_derm_acc', 'test_vs_fusion_acc', 'time_server_load', 'time_client_training', 'time_server_training', 'time_validation', 'time_test', 'time_communication_server_to_client', 'time_communication_client_to_server', 'time_client_compression_decompression', 'time_server_compression_decompression', 'time_total', 'size_server_to_client_msg', 'size_server_output', 'size_client_head_gradient', 'size_server_model', 'size_client_to_server_msg', 'size_client_head_output', 'size_server_gradient']\n",
    "# len(column_non_split), len(column_split)\n",
    "\n",
    "columns_only_in_non_split = set(column_split) - set(column_non_split)\n",
    "columns_only_in_split = set(column_non_split) - set(column_split)\n",
    "columns_only_in_non_split, columns_only_in_split"
   ]
  },
  {
   "cell_type": "code",
   "execution_count": 3,
   "metadata": {},
   "outputs": [
    {
     "data": {
      "text/plain": [
       "(600, 111)"
      ]
     },
     "execution_count": 3,
     "metadata": {},
     "output_type": "execute_result"
    }
   ],
   "source": [
    "# get non_split_data\n",
    "exp_seqs = range(0, 6)\n",
    "result_path = \"result_non_split\"\n",
    "df = pd.DataFrame()\n",
    "for exp_seq in exp_seqs:\n",
    "    # check if file exists\n",
    "    if(os.path.exists(f'{result_path}/exp_{exp_seq}_fusion_net_non_splitsplit_learning/result.csv')):\n",
    "        df_ = pd.read_csv(f'{result_path}/exp_{exp_seq}_fusion_net_non_splitsplit_learning/result.csv', header=None)\n",
    "    else:\n",
    "        continue\n",
    "    # append to df\n",
    "    df = pd.concat([df, df_], ignore_index=True)\n",
    "\n",
    "df.columns = column_non_split\n",
    "\n",
    "# drop columns that are only in split\n",
    "df = df.drop(columns_only_in_split, axis=1)\n",
    "\n",
    "# add columns with nan that are only in non_split\n",
    "for column in columns_only_in_non_split:\n",
    "    df[column] = np.nan\n",
    "\n",
    "df['cd_method'] = 'no_compression'\n",
    "\n",
    "df.shape\n"
   ]
  },
  {
   "cell_type": "code",
   "execution_count": 4,
   "metadata": {},
   "outputs": [
    {
     "data": {
      "text/plain": [
       "(600, 111)"
      ]
     },
     "execution_count": 4,
     "metadata": {},
     "output_type": "execute_result"
    }
   ],
   "source": [
    "# get split data\n",
    "# exp_seqs = list(range(0, 6, 1))\n",
    "exp_seqs = []\n",
    "result_path = \"result_split\"\n",
    "for exp_seq in exp_seqs:\n",
    "    # check if file exists\n",
    "    if(os.path.exists(f'{result_path}/exp_{exp_seq}_client_u_shaped_split_learning/result.csv')):\n",
    "        df_ = pd.read_csv(f'{result_path}/exp_{exp_seq}_client_u_shaped_split_learning/result.csv', header=None)\n",
    "    elif(os.path.exists(f'{result_path}/exp_{exp_seq}_fusion_net_non_splitsplit_learning/result.csv')):\n",
    "        df_ = pd.read_csv(f'{result_path}/exp_{exp_seq}_fusion_net_non_splitsplit_learning/result.csv', header=None)\n",
    "    else:\n",
    "        continue\n",
    "    df_.columns = column_split\n",
    "    df = pd.concat([df, df_], ignore_index=True)\n",
    "\n",
    "\n",
    "# convert size to MB\n",
    "# for column in ['size_server_to_client_msg',\n",
    "#                 'size_server_output',\n",
    "#                 'size_client_head_gradient',\n",
    "#                 'size_server_model',\n",
    "#                 'size_client_to_server_msg',\n",
    "#                 'size_client_head_output',\n",
    "#                 'size_server_gradient']:\n",
    "#     df[f'{column}'] = df[f'{column}']/1024/1024\n",
    "df.shape"
   ]
  },
  {
   "cell_type": "markdown",
   "metadata": {},
   "source": [
    "## Test accuracy"
   ]
  },
  {
   "cell_type": "code",
   "execution_count": 5,
   "metadata": {},
   "outputs": [
    {
     "name": "stdout",
     "output_type": "stream",
     "text": [
      "\\begin{tabular}{llllllllll}\n",
      "\\toprule\n",
      "               Method &               DIAG &                 PN &                STR &                PIG &                 RS &                DAG &                BWV &                 VS &            Average \\\\\n",
      "\\midrule\n",
      "           Non-split  &  $ 0.65 \\pm 0.03 $ &  $ 0.58 \\pm 0.01 $ &  $ 0.67 \\pm 0.02 $ &  $ 0.62 \\pm 0.01 $ &  $ 0.73 \\pm 0.01 $ &  $ 0.54 \\pm 0.01 $ &  $ 0.83 \\pm 0.02 $ &  $ 0.78 \\pm 0.03 $ &  $ 0.68 \\pm 0.01 $ \\\\\n",
      " Non-split resnet101  &  $ 0.64 \\pm 0.02 $ &  $ 0.59 \\pm 0.01 $ &  $ 0.66 \\pm 0.01 $ &  $ 0.62 \\pm 0.01 $ &  $ 0.75 \\pm 0.01 $ &  $ 0.55 \\pm 0.02 $ &  $ 0.82 \\pm 0.01 $ &  $ 0.78 \\pm 0.01 $ &  $ 0.68 \\pm 0.00 $ \\\\\n",
      "\\bottomrule\n",
      "\\end{tabular}\n",
      "\n",
      "\\caption{Test Accuracy for clic model}\n",
      "\\begin{tabular}{llllllllll}\n",
      "\\toprule\n",
      "               Method &               DIAG &                 PN &                STR &                PIG &                 RS &                DAG &                BWV &                 VS &            Average \\\\\n",
      "\\midrule\n",
      "           Non-split  &  $ 0.58 \\pm 0.04 $ &  $ 0.49 \\pm 0.01 $ &  $ 0.63 \\pm 0.02 $ &  $ 0.58 \\pm 0.01 $ &  $ 0.71 \\pm 0.02 $ &  $ 0.49 \\pm 0.02 $ &  $ 0.80 \\pm 0.03 $ &  $ 0.76 \\pm 0.06 $ &  $ 0.63 \\pm 0.01 $ \\\\\n",
      " Non-split resnet101  &  $ 0.59 \\pm 0.01 $ &  $ 0.50 \\pm 0.00 $ &  $ 0.63 \\pm 0.02 $ &  $ 0.57 \\pm 0.02 $ &  $ 0.72 \\pm 0.01 $ &  $ 0.51 \\pm 0.03 $ &  $ 0.80 \\pm 0.02 $ &  $ 0.79 \\pm 0.01 $ &  $ 0.64 \\pm 0.00 $ \\\\\n",
      "\\bottomrule\n",
      "\\end{tabular}\n",
      "\n",
      "\n",
      "\\caption{Test Accuracy for derm model}\n",
      "\\begin{tabular}{llllllllll}\n",
      "\\toprule\n",
      "               Method &               DIAG &                 PN &                STR &                PIG &                 RS &                DAG &                BWV &                 VS &            Average \\\\\n",
      "\\midrule\n",
      "           Non-split  &  $ 0.68 \\pm 0.02 $ &  $ 0.64 \\pm 0.01 $ &  $ 0.70 \\pm 0.02 $ &  $ 0.64 \\pm 0.03 $ &  $ 0.75 \\pm 0.02 $ &  $ 0.56 \\pm 0.02 $ &  $ 0.85 \\pm 0.01 $ &  $ 0.78 \\pm 0.03 $ &  $ 0.70 \\pm 0.01 $ \\\\\n",
      " Non-split resnet101  &  $ 0.66 \\pm 0.02 $ &  $ 0.63 \\pm 0.01 $ &  $ 0.68 \\pm 0.02 $ &  $ 0.65 \\pm 0.01 $ &  $ 0.75 \\pm 0.02 $ &  $ 0.57 \\pm 0.02 $ &  $ 0.84 \\pm 0.02 $ &  $ 0.77 \\pm 0.01 $ &  $ 0.69 \\pm 0.01 $ \\\\\n",
      "\\bottomrule\n",
      "\\end{tabular}\n",
      "\n",
      "\n",
      "\\caption{Test Accuracy for fusion model}\n",
      "\\begin{tabular}{llllllllll}\n",
      "\\toprule\n",
      "               Method &               DIAG &                 PN &                STR &                PIG &                 RS &                DAG &                BWV &                 VS &            Average \\\\\n",
      "\\midrule\n",
      "           Non-split  &  $ 0.69 \\pm 0.03 $ &  $ 0.62 \\pm 0.01 $ &  $ 0.69 \\pm 0.03 $ &  $ 0.64 \\pm 0.01 $ &  $ 0.74 \\pm 0.01 $ &  $ 0.56 \\pm 0.01 $ &  $ 0.84 \\pm 0.02 $ &  $ 0.80 \\pm 0.02 $ &  $ 0.70 \\pm 0.01 $ \\\\\n",
      " Non-split resnet101  &  $ 0.68 \\pm 0.02 $ &  $ 0.63 \\pm 0.02 $ &  $ 0.68 \\pm 0.02 $ &  $ 0.65 \\pm 0.01 $ &  $ 0.76 \\pm 0.02 $ &  $ 0.57 \\pm 0.01 $ &  $ 0.83 \\pm 0.01 $ &  $ 0.79 \\pm 0.01 $ &  $ 0.70 \\pm 0.01 $ \\\\\n",
      "\\bottomrule\n",
      "\\end{tabular}\n",
      "\n",
      "\n"
     ]
    }
   ],
   "source": [
    "from utils_plot import mean_std_df\n",
    "\n",
    "\n",
    "good_name_architecture = {\n",
    "    0 : 'Non-split',\n",
    "    1 : 'Split A',\n",
    "    2 : 'Split B',\n",
    "    3 : 'Split C',\n",
    "    4 : 'Split D',\n",
    "    5 : 'Non-split resnet101',\n",
    "}\n",
    "\n",
    "good_name_cd_method = {\n",
    "    'no_compression' : '',\n",
    "    'zstd' : '(C/D)',\n",
    "}\n",
    "\n",
    "df['method_name'] = df.apply(lambda x: f\"{good_name_architecture[x['architecture_choice']]} {good_name_cd_method[x['cd_method']]}\", axis=1)\n",
    "\n",
    "\n",
    "group_list = ['exp_seq', 'method_name']\n",
    "df_test_result = df.loc[df[(df['is_best_val'] == True)].groupby(group_list)['epoch'].idxmax()]\n",
    "\n",
    "\n",
    "# mean\n",
    "df_test_result['test_mean_acc_recomputed'] =  df_test_result[['test_dia_acc', 'test_pn_acc', 'test_str_acc', 'test_pig_acc', 'test_rs_acc', 'test_dag_acc', 'test_bwv_acc', 'test_vs_acc']].mean(axis=1)\n",
    "df_test_result['test_mean_clic_acc_recomputed'] = df_test_result[['test_dia_clic_acc', 'test_pn_clic_acc', 'test_str_clic_acc', 'test_pig_clic_acc', 'test_rs_clic_acc', 'test_dag_clic_acc', 'test_bwv_clic_acc', 'test_vs_clic_acc']].mean(axis=1)\n",
    "df_test_result['test_mean_derm_acc_recomputed'] = df_test_result[['test_dia_derm_acc', 'test_pn_derm_acc', 'test_str_derm_acc', 'test_pig_derm_acc', 'test_rs_derm_acc', 'test_dag_derm_acc', 'test_bwv_derm_acc', 'test_vs_derm_acc']].mean(axis=1)\n",
    "df_test_result['test_mean_fusion_acc_recomputed'] = df_test_result[['test_dia_fusion_acc', 'test_pn_fusion_acc', 'test_str_fusion_acc', 'test_pig_fusion_acc', 'test_rs_fusion_acc', 'test_dag_fusion_acc', 'test_bwv_fusion_acc', 'test_vs_fusion_acc']].mean(axis=1)\n",
    "\n",
    "\n",
    "# Latex table\n",
    "df_arch_mean = mean_std_df(df_test_result, ['method_name'], ['test_dia_acc', 'test_sps_acc', 'test_pn_acc', 'test_str_acc', 'test_pig_acc', 'test_rs_acc', 'test_dag_acc', 'test_bwv_acc', 'test_vs_acc', 'test_mean_acc_recomputed'])\n",
    "df_arch_mean.columns = ['Method', 'DIAG', 'DIAG std', '7 Pt.', '7 Pt. std', 'PN', 'PN std', 'STR', 'STR std', 'PIG', 'PIG std', 'RS', 'RS std', 'DAG', 'DAG std', 'BWV', 'BWV std', 'VS', 'VS std', 'Average', 'Average std']\n",
    "df_arch_nice = df_arch_mean.copy()\n",
    "for column in ['DIAG', 'PN', 'STR', 'PIG', 'RS', 'DAG', 'BWV', 'VS', 'Average']:\n",
    "    df_arch_nice[f'{column}'] = df_arch_nice.apply(lambda x: f\"$ {x[column]:.2f} \\pm {x[column + ' std']:.2f} $\", axis=1)\n",
    "# df_arch_nice['Config'] = df_arch_nice.apply(lambda x: f\"$ {x['Config']} $\", axis=1)\n",
    "# print as latex table\n",
    "print(df_arch_nice[['Method', 'DIAG', 'PN', 'STR', 'PIG', 'RS', 'DAG', 'BWV', 'VS', 'Average']].to_latex(index=False, escape=False))\n",
    "\n",
    "\n",
    "# latex table for different models\n",
    "for diff_model in ['clic', 'derm', 'fusion']:\n",
    "    df_arch_mean = mean_std_df(df_test_result, ['method_name'], [f'test_dia_{diff_model}_acc', f'test_sps_{diff_model}_acc', f'test_pn_{diff_model}_acc', f'test_str_{diff_model}_acc', f'test_pig_{diff_model}_acc', f'test_rs_{diff_model}_acc', f'test_dag_{diff_model}_acc', f'test_bwv_{diff_model}_acc', f'test_vs_{diff_model}_acc', f'test_mean_{diff_model}_acc_recomputed'])\n",
    "    df_arch_mean.columns = ['Method', 'DIAG', 'DIAG std', '7 Pt.', '7 Pt. std', 'PN', 'PN std', 'STR', 'STR std', 'PIG', 'PIG std', 'RS', 'RS std', 'DAG', 'DAG std', 'BWV', 'BWV std', 'VS', 'VS std', 'Average', 'Average std']\n",
    "    df_arch_nice = df_arch_mean.copy()\n",
    "    for column in ['DIAG', 'PN', 'STR', 'PIG', 'RS', 'DAG', 'BWV', 'VS', 'Average']:\n",
    "        df_arch_nice[f'{column}'] = df_arch_nice.apply(lambda x: f\"$ {x[column]:.2f} \\pm {x[column + ' std']:.2f} $\", axis=1)\n",
    "    # df_arch_nice['Config'] = df_arch_nice.apply(lambda x: f\"$ {x['Config']} $\", axis=1)\n",
    "    # print as latex table\n",
    "    print(f\"\\\\caption{{Test Accuracy for {diff_model} model}}\")\n",
    "    print(df_arch_nice[['Method', 'DIAG', 'PN', 'STR', 'PIG', 'RS', 'DAG', 'BWV', 'VS', 'Average']].to_latex(index=False, escape=False))\n",
    "    print()"
   ]
  },
  {
   "cell_type": "markdown",
   "metadata": {},
   "source": [
    "## Time"
   ]
  },
  {
   "cell_type": "code",
   "execution_count": 65,
   "metadata": {},
   "outputs": [
    {
     "data": {
      "text/html": [
       "<div>\n",
       "<style scoped>\n",
       "    .dataframe tbody tr th:only-of-type {\n",
       "        vertical-align: middle;\n",
       "    }\n",
       "\n",
       "    .dataframe tbody tr th {\n",
       "        vertical-align: top;\n",
       "    }\n",
       "\n",
       "    .dataframe thead th {\n",
       "        text-align: right;\n",
       "    }\n",
       "</style>\n",
       "<table border=\"1\" class=\"dataframe\">\n",
       "  <thead>\n",
       "    <tr style=\"text-align: right;\">\n",
       "      <th></th>\n",
       "      <th>exp_seq</th>\n",
       "      <th>architecture_choice</th>\n",
       "      <th>cd_method</th>\n",
       "      <th>time_server_load</th>\n",
       "      <th>time_client_training</th>\n",
       "      <th>time_server_training</th>\n",
       "      <th>time_validation</th>\n",
       "      <th>time_test</th>\n",
       "      <th>time_communication_server_to_client</th>\n",
       "      <th>time_communication_client_to_server</th>\n",
       "      <th>time_total</th>\n",
       "      <th>time_server_compression_decompression</th>\n",
       "      <th>time_client_compression_decompression</th>\n",
       "      <th>time_considered</th>\n",
       "    </tr>\n",
       "  </thead>\n",
       "  <tbody>\n",
       "    <tr>\n",
       "      <th>0</th>\n",
       "      <td>0</td>\n",
       "      <td>0</td>\n",
       "      <td>no_compression</td>\n",
       "      <td>0.000000</td>\n",
       "      <td>7733.401408</td>\n",
       "      <td>0.000000</td>\n",
       "      <td>1358.900639</td>\n",
       "      <td>269.785882</td>\n",
       "      <td>0.000000</td>\n",
       "      <td>0.000000</td>\n",
       "      <td>9362.599649</td>\n",
       "      <td>0.000000</td>\n",
       "      <td>0.000000</td>\n",
       "      <td>7733.401408</td>\n",
       "    </tr>\n",
       "    <tr>\n",
       "      <th>1</th>\n",
       "      <td>0</td>\n",
       "      <td>1</td>\n",
       "      <td>no_compression</td>\n",
       "      <td>76.650426</td>\n",
       "      <td>284.352170</td>\n",
       "      <td>194.424511</td>\n",
       "      <td>1752.678160</td>\n",
       "      <td>521.773217</td>\n",
       "      <td>1185.348487</td>\n",
       "      <td>6906.293955</td>\n",
       "      <td>11065.231395</td>\n",
       "      <td>49.972452</td>\n",
       "      <td>11.122103</td>\n",
       "      <td>8708.164103</td>\n",
       "    </tr>\n",
       "    <tr>\n",
       "      <th>2</th>\n",
       "      <td>1</td>\n",
       "      <td>0</td>\n",
       "      <td>no_compression</td>\n",
       "      <td>0.000000</td>\n",
       "      <td>7480.026699</td>\n",
       "      <td>0.000000</td>\n",
       "      <td>1351.430610</td>\n",
       "      <td>239.083704</td>\n",
       "      <td>0.000000</td>\n",
       "      <td>0.000000</td>\n",
       "      <td>9071.055056</td>\n",
       "      <td>0.000000</td>\n",
       "      <td>0.000000</td>\n",
       "      <td>7480.026699</td>\n",
       "    </tr>\n",
       "    <tr>\n",
       "      <th>3</th>\n",
       "      <td>1</td>\n",
       "      <td>1</td>\n",
       "      <td>no_compression</td>\n",
       "      <td>99.657032</td>\n",
       "      <td>295.543432</td>\n",
       "      <td>203.986720</td>\n",
       "      <td>1914.645246</td>\n",
       "      <td>457.055104</td>\n",
       "      <td>1142.570212</td>\n",
       "      <td>7456.652358</td>\n",
       "      <td>11713.155315</td>\n",
       "      <td>49.004271</td>\n",
       "      <td>11.812381</td>\n",
       "      <td>9259.226407</td>\n",
       "    </tr>\n",
       "    <tr>\n",
       "      <th>4</th>\n",
       "      <td>2</td>\n",
       "      <td>0</td>\n",
       "      <td>no_compression</td>\n",
       "      <td>0.000000</td>\n",
       "      <td>7697.239909</td>\n",
       "      <td>0.000000</td>\n",
       "      <td>1356.603529</td>\n",
       "      <td>410.280694</td>\n",
       "      <td>0.000000</td>\n",
       "      <td>0.000000</td>\n",
       "      <td>9464.643524</td>\n",
       "      <td>0.000000</td>\n",
       "      <td>0.000000</td>\n",
       "      <td>7697.239909</td>\n",
       "    </tr>\n",
       "    <tr>\n",
       "      <th>5</th>\n",
       "      <td>2</td>\n",
       "      <td>1</td>\n",
       "      <td>no_compression</td>\n",
       "      <td>77.534890</td>\n",
       "      <td>300.570743</td>\n",
       "      <td>193.992621</td>\n",
       "      <td>1905.449635</td>\n",
       "      <td>608.374993</td>\n",
       "      <td>1253.106615</td>\n",
       "      <td>7620.081076</td>\n",
       "      <td>12107.340858</td>\n",
       "      <td>50.462099</td>\n",
       "      <td>11.789223</td>\n",
       "      <td>9507.537268</td>\n",
       "    </tr>\n",
       "    <tr>\n",
       "      <th>6</th>\n",
       "      <td>3</td>\n",
       "      <td>1</td>\n",
       "      <td>zstd</td>\n",
       "      <td>72.827076</td>\n",
       "      <td>285.763504</td>\n",
       "      <td>190.216199</td>\n",
       "      <td>1805.516883</td>\n",
       "      <td>471.883475</td>\n",
       "      <td>1041.004951</td>\n",
       "      <td>1670.145019</td>\n",
       "      <td>6113.873341</td>\n",
       "      <td>250.794319</td>\n",
       "      <td>247.170998</td>\n",
       "      <td>3757.922066</td>\n",
       "    </tr>\n",
       "    <tr>\n",
       "      <th>7</th>\n",
       "      <td>4</td>\n",
       "      <td>1</td>\n",
       "      <td>zstd</td>\n",
       "      <td>72.722470</td>\n",
       "      <td>286.032860</td>\n",
       "      <td>189.670654</td>\n",
       "      <td>1748.773601</td>\n",
       "      <td>554.033363</td>\n",
       "      <td>1061.938547</td>\n",
       "      <td>1675.004923</td>\n",
       "      <td>6168.185188</td>\n",
       "      <td>250.846871</td>\n",
       "      <td>248.056423</td>\n",
       "      <td>3784.272748</td>\n",
       "    </tr>\n",
       "    <tr>\n",
       "      <th>8</th>\n",
       "      <td>5</td>\n",
       "      <td>1</td>\n",
       "      <td>zstd</td>\n",
       "      <td>75.121250</td>\n",
       "      <td>294.634812</td>\n",
       "      <td>190.962469</td>\n",
       "      <td>1905.691344</td>\n",
       "      <td>397.790167</td>\n",
       "      <td>1045.768817</td>\n",
       "      <td>1663.276947</td>\n",
       "      <td>6155.788095</td>\n",
       "      <td>247.906519</td>\n",
       "      <td>253.653577</td>\n",
       "      <td>3771.324392</td>\n",
       "    </tr>\n",
       "  </tbody>\n",
       "</table>\n",
       "</div>"
      ],
      "text/plain": [
       "   exp_seq  architecture_choice       cd_method  time_server_load  \\\n",
       "0        0                    0  no_compression          0.000000   \n",
       "1        0                    1  no_compression         76.650426   \n",
       "2        1                    0  no_compression          0.000000   \n",
       "3        1                    1  no_compression         99.657032   \n",
       "4        2                    0  no_compression          0.000000   \n",
       "5        2                    1  no_compression         77.534890   \n",
       "6        3                    1            zstd         72.827076   \n",
       "7        4                    1            zstd         72.722470   \n",
       "8        5                    1            zstd         75.121250   \n",
       "\n",
       "   time_client_training  time_server_training  time_validation   time_test  \\\n",
       "0           7733.401408              0.000000      1358.900639  269.785882   \n",
       "1            284.352170            194.424511      1752.678160  521.773217   \n",
       "2           7480.026699              0.000000      1351.430610  239.083704   \n",
       "3            295.543432            203.986720      1914.645246  457.055104   \n",
       "4           7697.239909              0.000000      1356.603529  410.280694   \n",
       "5            300.570743            193.992621      1905.449635  608.374993   \n",
       "6            285.763504            190.216199      1805.516883  471.883475   \n",
       "7            286.032860            189.670654      1748.773601  554.033363   \n",
       "8            294.634812            190.962469      1905.691344  397.790167   \n",
       "\n",
       "   time_communication_server_to_client  time_communication_client_to_server  \\\n",
       "0                             0.000000                             0.000000   \n",
       "1                          1185.348487                          6906.293955   \n",
       "2                             0.000000                             0.000000   \n",
       "3                          1142.570212                          7456.652358   \n",
       "4                             0.000000                             0.000000   \n",
       "5                          1253.106615                          7620.081076   \n",
       "6                          1041.004951                          1670.145019   \n",
       "7                          1061.938547                          1675.004923   \n",
       "8                          1045.768817                          1663.276947   \n",
       "\n",
       "     time_total  time_server_compression_decompression  \\\n",
       "0   9362.599649                               0.000000   \n",
       "1  11065.231395                              49.972452   \n",
       "2   9071.055056                               0.000000   \n",
       "3  11713.155315                              49.004271   \n",
       "4   9464.643524                               0.000000   \n",
       "5  12107.340858                              50.462099   \n",
       "6   6113.873341                             250.794319   \n",
       "7   6168.185188                             250.846871   \n",
       "8   6155.788095                             247.906519   \n",
       "\n",
       "   time_client_compression_decompression  time_considered  \n",
       "0                               0.000000      7733.401408  \n",
       "1                              11.122103      8708.164103  \n",
       "2                               0.000000      7480.026699  \n",
       "3                              11.812381      9259.226407  \n",
       "4                               0.000000      7697.239909  \n",
       "5                              11.789223      9507.537268  \n",
       "6                             247.170998      3757.922066  \n",
       "7                             248.056423      3784.272748  \n",
       "8                             253.653577      3771.324392  "
      ]
     },
     "execution_count": 65,
     "metadata": {},
     "output_type": "execute_result"
    }
   ],
   "source": [
    "# column with time information\n",
    "time_columns = []\n",
    "for column in df.columns:\n",
    "    if(column.startswith(\"time\")):\n",
    "        time_columns.append(column)\n",
    "\n",
    "df_summary = df.copy()\n",
    "df_summary = df_summary.groupby(['exp_seq', 'architecture_choice', 'cd_method'])[time_columns].agg('sum')\n",
    "df_summary['time_considered'] = df_summary.sum(axis=1) - df_summary['time_total'] - df_summary['time_test'] - df_summary['time_validation']\n",
    "df_summary = df_summary.reset_index()\n",
    "df_summary"
   ]
  },
  {
   "cell_type": "code",
   "execution_count": 66,
   "metadata": {},
   "outputs": [
    {
     "data": {
      "application/vnd.plotly.v1+json": {
       "config": {
        "plotlyServerURL": "https://plot.ly"
       },
       "data": [
        {
         "alignmentgroup": "True",
         "error_y": {
          "array": [
           13.035051416060764,
           1.3557486994448162
          ]
         },
         "hovertemplate": "method_name=%{x}<br>time_server_load_mean=%{y}<extra></extra>",
         "legendgroup": "",
         "marker": {
          "color": "#636efa",
          "pattern": {
           "shape": ""
          }
         },
         "name": "",
         "offsetgroup": "",
         "orientation": "v",
         "showlegend": false,
         "textposition": "auto",
         "type": "bar",
         "x": [
          "Split A ",
          "Split A (C/D)"
         ],
         "xaxis": "x",
         "y": [
          84.61411579449971,
          73.55693205197652
         ],
         "yaxis": "y"
        }
       ],
       "layout": {
        "barmode": "group",
        "font": {
         "size": 18
        },
        "height": 400,
        "hovermode": "x",
        "legend": {
         "title": {},
         "tracegroupgap": 0
        },
        "margin": {
         "t": 60
        },
        "template": {
         "data": {
          "bar": [
           {
            "error_x": {
             "color": "#2a3f5f"
            },
            "error_y": {
             "color": "#2a3f5f"
            },
            "marker": {
             "line": {
              "color": "#E5ECF6",
              "width": 0.5
             },
             "pattern": {
              "fillmode": "overlay",
              "size": 10,
              "solidity": 0.2
             }
            },
            "type": "bar"
           }
          ],
          "barpolar": [
           {
            "marker": {
             "line": {
              "color": "#E5ECF6",
              "width": 0.5
             },
             "pattern": {
              "fillmode": "overlay",
              "size": 10,
              "solidity": 0.2
             }
            },
            "type": "barpolar"
           }
          ],
          "carpet": [
           {
            "aaxis": {
             "endlinecolor": "#2a3f5f",
             "gridcolor": "white",
             "linecolor": "white",
             "minorgridcolor": "white",
             "startlinecolor": "#2a3f5f"
            },
            "baxis": {
             "endlinecolor": "#2a3f5f",
             "gridcolor": "white",
             "linecolor": "white",
             "minorgridcolor": "white",
             "startlinecolor": "#2a3f5f"
            },
            "type": "carpet"
           }
          ],
          "choropleth": [
           {
            "colorbar": {
             "outlinewidth": 0,
             "ticks": ""
            },
            "type": "choropleth"
           }
          ],
          "contour": [
           {
            "colorbar": {
             "outlinewidth": 0,
             "ticks": ""
            },
            "colorscale": [
             [
              0,
              "#0d0887"
             ],
             [
              0.1111111111111111,
              "#46039f"
             ],
             [
              0.2222222222222222,
              "#7201a8"
             ],
             [
              0.3333333333333333,
              "#9c179e"
             ],
             [
              0.4444444444444444,
              "#bd3786"
             ],
             [
              0.5555555555555556,
              "#d8576b"
             ],
             [
              0.6666666666666666,
              "#ed7953"
             ],
             [
              0.7777777777777778,
              "#fb9f3a"
             ],
             [
              0.8888888888888888,
              "#fdca26"
             ],
             [
              1,
              "#f0f921"
             ]
            ],
            "type": "contour"
           }
          ],
          "contourcarpet": [
           {
            "colorbar": {
             "outlinewidth": 0,
             "ticks": ""
            },
            "type": "contourcarpet"
           }
          ],
          "heatmap": [
           {
            "colorbar": {
             "outlinewidth": 0,
             "ticks": ""
            },
            "colorscale": [
             [
              0,
              "#0d0887"
             ],
             [
              0.1111111111111111,
              "#46039f"
             ],
             [
              0.2222222222222222,
              "#7201a8"
             ],
             [
              0.3333333333333333,
              "#9c179e"
             ],
             [
              0.4444444444444444,
              "#bd3786"
             ],
             [
              0.5555555555555556,
              "#d8576b"
             ],
             [
              0.6666666666666666,
              "#ed7953"
             ],
             [
              0.7777777777777778,
              "#fb9f3a"
             ],
             [
              0.8888888888888888,
              "#fdca26"
             ],
             [
              1,
              "#f0f921"
             ]
            ],
            "type": "heatmap"
           }
          ],
          "heatmapgl": [
           {
            "colorbar": {
             "outlinewidth": 0,
             "ticks": ""
            },
            "colorscale": [
             [
              0,
              "#0d0887"
             ],
             [
              0.1111111111111111,
              "#46039f"
             ],
             [
              0.2222222222222222,
              "#7201a8"
             ],
             [
              0.3333333333333333,
              "#9c179e"
             ],
             [
              0.4444444444444444,
              "#bd3786"
             ],
             [
              0.5555555555555556,
              "#d8576b"
             ],
             [
              0.6666666666666666,
              "#ed7953"
             ],
             [
              0.7777777777777778,
              "#fb9f3a"
             ],
             [
              0.8888888888888888,
              "#fdca26"
             ],
             [
              1,
              "#f0f921"
             ]
            ],
            "type": "heatmapgl"
           }
          ],
          "histogram": [
           {
            "marker": {
             "pattern": {
              "fillmode": "overlay",
              "size": 10,
              "solidity": 0.2
             }
            },
            "type": "histogram"
           }
          ],
          "histogram2d": [
           {
            "colorbar": {
             "outlinewidth": 0,
             "ticks": ""
            },
            "colorscale": [
             [
              0,
              "#0d0887"
             ],
             [
              0.1111111111111111,
              "#46039f"
             ],
             [
              0.2222222222222222,
              "#7201a8"
             ],
             [
              0.3333333333333333,
              "#9c179e"
             ],
             [
              0.4444444444444444,
              "#bd3786"
             ],
             [
              0.5555555555555556,
              "#d8576b"
             ],
             [
              0.6666666666666666,
              "#ed7953"
             ],
             [
              0.7777777777777778,
              "#fb9f3a"
             ],
             [
              0.8888888888888888,
              "#fdca26"
             ],
             [
              1,
              "#f0f921"
             ]
            ],
            "type": "histogram2d"
           }
          ],
          "histogram2dcontour": [
           {
            "colorbar": {
             "outlinewidth": 0,
             "ticks": ""
            },
            "colorscale": [
             [
              0,
              "#0d0887"
             ],
             [
              0.1111111111111111,
              "#46039f"
             ],
             [
              0.2222222222222222,
              "#7201a8"
             ],
             [
              0.3333333333333333,
              "#9c179e"
             ],
             [
              0.4444444444444444,
              "#bd3786"
             ],
             [
              0.5555555555555556,
              "#d8576b"
             ],
             [
              0.6666666666666666,
              "#ed7953"
             ],
             [
              0.7777777777777778,
              "#fb9f3a"
             ],
             [
              0.8888888888888888,
              "#fdca26"
             ],
             [
              1,
              "#f0f921"
             ]
            ],
            "type": "histogram2dcontour"
           }
          ],
          "mesh3d": [
           {
            "colorbar": {
             "outlinewidth": 0,
             "ticks": ""
            },
            "type": "mesh3d"
           }
          ],
          "parcoords": [
           {
            "line": {
             "colorbar": {
              "outlinewidth": 0,
              "ticks": ""
             }
            },
            "type": "parcoords"
           }
          ],
          "pie": [
           {
            "automargin": true,
            "type": "pie"
           }
          ],
          "scatter": [
           {
            "fillpattern": {
             "fillmode": "overlay",
             "size": 10,
             "solidity": 0.2
            },
            "type": "scatter"
           }
          ],
          "scatter3d": [
           {
            "line": {
             "colorbar": {
              "outlinewidth": 0,
              "ticks": ""
             }
            },
            "marker": {
             "colorbar": {
              "outlinewidth": 0,
              "ticks": ""
             }
            },
            "type": "scatter3d"
           }
          ],
          "scattercarpet": [
           {
            "marker": {
             "colorbar": {
              "outlinewidth": 0,
              "ticks": ""
             }
            },
            "type": "scattercarpet"
           }
          ],
          "scattergeo": [
           {
            "marker": {
             "colorbar": {
              "outlinewidth": 0,
              "ticks": ""
             }
            },
            "type": "scattergeo"
           }
          ],
          "scattergl": [
           {
            "marker": {
             "colorbar": {
              "outlinewidth": 0,
              "ticks": ""
             }
            },
            "type": "scattergl"
           }
          ],
          "scattermapbox": [
           {
            "marker": {
             "colorbar": {
              "outlinewidth": 0,
              "ticks": ""
             }
            },
            "type": "scattermapbox"
           }
          ],
          "scatterpolar": [
           {
            "marker": {
             "colorbar": {
              "outlinewidth": 0,
              "ticks": ""
             }
            },
            "type": "scatterpolar"
           }
          ],
          "scatterpolargl": [
           {
            "marker": {
             "colorbar": {
              "outlinewidth": 0,
              "ticks": ""
             }
            },
            "type": "scatterpolargl"
           }
          ],
          "scatterternary": [
           {
            "marker": {
             "colorbar": {
              "outlinewidth": 0,
              "ticks": ""
             }
            },
            "type": "scatterternary"
           }
          ],
          "surface": [
           {
            "colorbar": {
             "outlinewidth": 0,
             "ticks": ""
            },
            "colorscale": [
             [
              0,
              "#0d0887"
             ],
             [
              0.1111111111111111,
              "#46039f"
             ],
             [
              0.2222222222222222,
              "#7201a8"
             ],
             [
              0.3333333333333333,
              "#9c179e"
             ],
             [
              0.4444444444444444,
              "#bd3786"
             ],
             [
              0.5555555555555556,
              "#d8576b"
             ],
             [
              0.6666666666666666,
              "#ed7953"
             ],
             [
              0.7777777777777778,
              "#fb9f3a"
             ],
             [
              0.8888888888888888,
              "#fdca26"
             ],
             [
              1,
              "#f0f921"
             ]
            ],
            "type": "surface"
           }
          ],
          "table": [
           {
            "cells": {
             "fill": {
              "color": "#EBF0F8"
             },
             "line": {
              "color": "white"
             }
            },
            "header": {
             "fill": {
              "color": "#C8D4E3"
             },
             "line": {
              "color": "white"
             }
            },
            "type": "table"
           }
          ]
         },
         "layout": {
          "annotationdefaults": {
           "arrowcolor": "#2a3f5f",
           "arrowhead": 0,
           "arrowwidth": 1
          },
          "autotypenumbers": "strict",
          "coloraxis": {
           "colorbar": {
            "outlinewidth": 0,
            "ticks": ""
           }
          },
          "colorscale": {
           "diverging": [
            [
             0,
             "#8e0152"
            ],
            [
             0.1,
             "#c51b7d"
            ],
            [
             0.2,
             "#de77ae"
            ],
            [
             0.3,
             "#f1b6da"
            ],
            [
             0.4,
             "#fde0ef"
            ],
            [
             0.5,
             "#f7f7f7"
            ],
            [
             0.6,
             "#e6f5d0"
            ],
            [
             0.7,
             "#b8e186"
            ],
            [
             0.8,
             "#7fbc41"
            ],
            [
             0.9,
             "#4d9221"
            ],
            [
             1,
             "#276419"
            ]
           ],
           "sequential": [
            [
             0,
             "#0d0887"
            ],
            [
             0.1111111111111111,
             "#46039f"
            ],
            [
             0.2222222222222222,
             "#7201a8"
            ],
            [
             0.3333333333333333,
             "#9c179e"
            ],
            [
             0.4444444444444444,
             "#bd3786"
            ],
            [
             0.5555555555555556,
             "#d8576b"
            ],
            [
             0.6666666666666666,
             "#ed7953"
            ],
            [
             0.7777777777777778,
             "#fb9f3a"
            ],
            [
             0.8888888888888888,
             "#fdca26"
            ],
            [
             1,
             "#f0f921"
            ]
           ],
           "sequentialminus": [
            [
             0,
             "#0d0887"
            ],
            [
             0.1111111111111111,
             "#46039f"
            ],
            [
             0.2222222222222222,
             "#7201a8"
            ],
            [
             0.3333333333333333,
             "#9c179e"
            ],
            [
             0.4444444444444444,
             "#bd3786"
            ],
            [
             0.5555555555555556,
             "#d8576b"
            ],
            [
             0.6666666666666666,
             "#ed7953"
            ],
            [
             0.7777777777777778,
             "#fb9f3a"
            ],
            [
             0.8888888888888888,
             "#fdca26"
            ],
            [
             1,
             "#f0f921"
            ]
           ]
          },
          "colorway": [
           "#636efa",
           "#EF553B",
           "#00cc96",
           "#ab63fa",
           "#FFA15A",
           "#19d3f3",
           "#FF6692",
           "#B6E880",
           "#FF97FF",
           "#FECB52"
          ],
          "font": {
           "color": "#2a3f5f"
          },
          "geo": {
           "bgcolor": "white",
           "lakecolor": "white",
           "landcolor": "#E5ECF6",
           "showlakes": true,
           "showland": true,
           "subunitcolor": "white"
          },
          "hoverlabel": {
           "align": "left"
          },
          "hovermode": "closest",
          "mapbox": {
           "style": "light"
          },
          "paper_bgcolor": "white",
          "plot_bgcolor": "#E5ECF6",
          "polar": {
           "angularaxis": {
            "gridcolor": "white",
            "linecolor": "white",
            "ticks": ""
           },
           "bgcolor": "#E5ECF6",
           "radialaxis": {
            "gridcolor": "white",
            "linecolor": "white",
            "ticks": ""
           }
          },
          "scene": {
           "xaxis": {
            "backgroundcolor": "#E5ECF6",
            "gridcolor": "white",
            "gridwidth": 2,
            "linecolor": "white",
            "showbackground": true,
            "ticks": "",
            "zerolinecolor": "white"
           },
           "yaxis": {
            "backgroundcolor": "#E5ECF6",
            "gridcolor": "white",
            "gridwidth": 2,
            "linecolor": "white",
            "showbackground": true,
            "ticks": "",
            "zerolinecolor": "white"
           },
           "zaxis": {
            "backgroundcolor": "#E5ECF6",
            "gridcolor": "white",
            "gridwidth": 2,
            "linecolor": "white",
            "showbackground": true,
            "ticks": "",
            "zerolinecolor": "white"
           }
          },
          "shapedefaults": {
           "line": {
            "color": "#2a3f5f"
           }
          },
          "ternary": {
           "aaxis": {
            "gridcolor": "white",
            "linecolor": "white",
            "ticks": ""
           },
           "baxis": {
            "gridcolor": "white",
            "linecolor": "white",
            "ticks": ""
           },
           "bgcolor": "#E5ECF6",
           "caxis": {
            "gridcolor": "white",
            "linecolor": "white",
            "ticks": ""
           }
          },
          "title": {
           "x": 0.05
          },
          "xaxis": {
           "automargin": true,
           "gridcolor": "white",
           "linecolor": "white",
           "ticks": "",
           "title": {
            "standoff": 15
           },
           "zerolinecolor": "white",
           "zerolinewidth": 2
          },
          "yaxis": {
           "automargin": true,
           "gridcolor": "white",
           "linecolor": "white",
           "ticks": "",
           "title": {
            "standoff": 15
           },
           "zerolinecolor": "white",
           "zerolinewidth": 2
          }
         }
        },
        "width": 600,
        "xaxis": {
         "anchor": "y",
         "domain": [
          0,
          1
         ],
         "title": {
          "text": "Method"
         }
        },
        "yaxis": {
         "anchor": "x",
         "domain": [
          0,
          1
         ],
         "title": {
          "text": "Server Load (s)"
         }
        }
       }
      }
     },
     "metadata": {},
     "output_type": "display_data"
    },
    {
     "data": {
      "application/vnd.plotly.v1+json": {
       "config": {
        "plotlyServerURL": "https://plot.ly"
       },
       "data": [
        {
         "alignmentgroup": "True",
         "error_y": {
          "array": [
           137.04498991923458,
           8.30221160416044,
           5.045893513430317
          ]
         },
         "hovertemplate": "method_name=%{x}<br>time_client_training_mean=%{y}<extra></extra>",
         "legendgroup": "",
         "marker": {
          "color": "#636efa",
          "pattern": {
           "shape": ""
          }
         },
         "name": "",
         "offsetgroup": "",
         "orientation": "v",
         "showlegend": false,
         "textposition": "auto",
         "type": "bar",
         "x": [
          "Non-split ",
          "Split A ",
          "Split A (C/D)"
         ],
         "xaxis": "x",
         "y": [
          7636.889338811238,
          293.4887816111247,
          288.8103919029236
         ],
         "yaxis": "y"
        }
       ],
       "layout": {
        "barmode": "group",
        "font": {
         "size": 18
        },
        "height": 400,
        "hovermode": "x",
        "legend": {
         "title": {},
         "tracegroupgap": 0
        },
        "margin": {
         "t": 60
        },
        "template": {
         "data": {
          "bar": [
           {
            "error_x": {
             "color": "#2a3f5f"
            },
            "error_y": {
             "color": "#2a3f5f"
            },
            "marker": {
             "line": {
              "color": "#E5ECF6",
              "width": 0.5
             },
             "pattern": {
              "fillmode": "overlay",
              "size": 10,
              "solidity": 0.2
             }
            },
            "type": "bar"
           }
          ],
          "barpolar": [
           {
            "marker": {
             "line": {
              "color": "#E5ECF6",
              "width": 0.5
             },
             "pattern": {
              "fillmode": "overlay",
              "size": 10,
              "solidity": 0.2
             }
            },
            "type": "barpolar"
           }
          ],
          "carpet": [
           {
            "aaxis": {
             "endlinecolor": "#2a3f5f",
             "gridcolor": "white",
             "linecolor": "white",
             "minorgridcolor": "white",
             "startlinecolor": "#2a3f5f"
            },
            "baxis": {
             "endlinecolor": "#2a3f5f",
             "gridcolor": "white",
             "linecolor": "white",
             "minorgridcolor": "white",
             "startlinecolor": "#2a3f5f"
            },
            "type": "carpet"
           }
          ],
          "choropleth": [
           {
            "colorbar": {
             "outlinewidth": 0,
             "ticks": ""
            },
            "type": "choropleth"
           }
          ],
          "contour": [
           {
            "colorbar": {
             "outlinewidth": 0,
             "ticks": ""
            },
            "colorscale": [
             [
              0,
              "#0d0887"
             ],
             [
              0.1111111111111111,
              "#46039f"
             ],
             [
              0.2222222222222222,
              "#7201a8"
             ],
             [
              0.3333333333333333,
              "#9c179e"
             ],
             [
              0.4444444444444444,
              "#bd3786"
             ],
             [
              0.5555555555555556,
              "#d8576b"
             ],
             [
              0.6666666666666666,
              "#ed7953"
             ],
             [
              0.7777777777777778,
              "#fb9f3a"
             ],
             [
              0.8888888888888888,
              "#fdca26"
             ],
             [
              1,
              "#f0f921"
             ]
            ],
            "type": "contour"
           }
          ],
          "contourcarpet": [
           {
            "colorbar": {
             "outlinewidth": 0,
             "ticks": ""
            },
            "type": "contourcarpet"
           }
          ],
          "heatmap": [
           {
            "colorbar": {
             "outlinewidth": 0,
             "ticks": ""
            },
            "colorscale": [
             [
              0,
              "#0d0887"
             ],
             [
              0.1111111111111111,
              "#46039f"
             ],
             [
              0.2222222222222222,
              "#7201a8"
             ],
             [
              0.3333333333333333,
              "#9c179e"
             ],
             [
              0.4444444444444444,
              "#bd3786"
             ],
             [
              0.5555555555555556,
              "#d8576b"
             ],
             [
              0.6666666666666666,
              "#ed7953"
             ],
             [
              0.7777777777777778,
              "#fb9f3a"
             ],
             [
              0.8888888888888888,
              "#fdca26"
             ],
             [
              1,
              "#f0f921"
             ]
            ],
            "type": "heatmap"
           }
          ],
          "heatmapgl": [
           {
            "colorbar": {
             "outlinewidth": 0,
             "ticks": ""
            },
            "colorscale": [
             [
              0,
              "#0d0887"
             ],
             [
              0.1111111111111111,
              "#46039f"
             ],
             [
              0.2222222222222222,
              "#7201a8"
             ],
             [
              0.3333333333333333,
              "#9c179e"
             ],
             [
              0.4444444444444444,
              "#bd3786"
             ],
             [
              0.5555555555555556,
              "#d8576b"
             ],
             [
              0.6666666666666666,
              "#ed7953"
             ],
             [
              0.7777777777777778,
              "#fb9f3a"
             ],
             [
              0.8888888888888888,
              "#fdca26"
             ],
             [
              1,
              "#f0f921"
             ]
            ],
            "type": "heatmapgl"
           }
          ],
          "histogram": [
           {
            "marker": {
             "pattern": {
              "fillmode": "overlay",
              "size": 10,
              "solidity": 0.2
             }
            },
            "type": "histogram"
           }
          ],
          "histogram2d": [
           {
            "colorbar": {
             "outlinewidth": 0,
             "ticks": ""
            },
            "colorscale": [
             [
              0,
              "#0d0887"
             ],
             [
              0.1111111111111111,
              "#46039f"
             ],
             [
              0.2222222222222222,
              "#7201a8"
             ],
             [
              0.3333333333333333,
              "#9c179e"
             ],
             [
              0.4444444444444444,
              "#bd3786"
             ],
             [
              0.5555555555555556,
              "#d8576b"
             ],
             [
              0.6666666666666666,
              "#ed7953"
             ],
             [
              0.7777777777777778,
              "#fb9f3a"
             ],
             [
              0.8888888888888888,
              "#fdca26"
             ],
             [
              1,
              "#f0f921"
             ]
            ],
            "type": "histogram2d"
           }
          ],
          "histogram2dcontour": [
           {
            "colorbar": {
             "outlinewidth": 0,
             "ticks": ""
            },
            "colorscale": [
             [
              0,
              "#0d0887"
             ],
             [
              0.1111111111111111,
              "#46039f"
             ],
             [
              0.2222222222222222,
              "#7201a8"
             ],
             [
              0.3333333333333333,
              "#9c179e"
             ],
             [
              0.4444444444444444,
              "#bd3786"
             ],
             [
              0.5555555555555556,
              "#d8576b"
             ],
             [
              0.6666666666666666,
              "#ed7953"
             ],
             [
              0.7777777777777778,
              "#fb9f3a"
             ],
             [
              0.8888888888888888,
              "#fdca26"
             ],
             [
              1,
              "#f0f921"
             ]
            ],
            "type": "histogram2dcontour"
           }
          ],
          "mesh3d": [
           {
            "colorbar": {
             "outlinewidth": 0,
             "ticks": ""
            },
            "type": "mesh3d"
           }
          ],
          "parcoords": [
           {
            "line": {
             "colorbar": {
              "outlinewidth": 0,
              "ticks": ""
             }
            },
            "type": "parcoords"
           }
          ],
          "pie": [
           {
            "automargin": true,
            "type": "pie"
           }
          ],
          "scatter": [
           {
            "fillpattern": {
             "fillmode": "overlay",
             "size": 10,
             "solidity": 0.2
            },
            "type": "scatter"
           }
          ],
          "scatter3d": [
           {
            "line": {
             "colorbar": {
              "outlinewidth": 0,
              "ticks": ""
             }
            },
            "marker": {
             "colorbar": {
              "outlinewidth": 0,
              "ticks": ""
             }
            },
            "type": "scatter3d"
           }
          ],
          "scattercarpet": [
           {
            "marker": {
             "colorbar": {
              "outlinewidth": 0,
              "ticks": ""
             }
            },
            "type": "scattercarpet"
           }
          ],
          "scattergeo": [
           {
            "marker": {
             "colorbar": {
              "outlinewidth": 0,
              "ticks": ""
             }
            },
            "type": "scattergeo"
           }
          ],
          "scattergl": [
           {
            "marker": {
             "colorbar": {
              "outlinewidth": 0,
              "ticks": ""
             }
            },
            "type": "scattergl"
           }
          ],
          "scattermapbox": [
           {
            "marker": {
             "colorbar": {
              "outlinewidth": 0,
              "ticks": ""
             }
            },
            "type": "scattermapbox"
           }
          ],
          "scatterpolar": [
           {
            "marker": {
             "colorbar": {
              "outlinewidth": 0,
              "ticks": ""
             }
            },
            "type": "scatterpolar"
           }
          ],
          "scatterpolargl": [
           {
            "marker": {
             "colorbar": {
              "outlinewidth": 0,
              "ticks": ""
             }
            },
            "type": "scatterpolargl"
           }
          ],
          "scatterternary": [
           {
            "marker": {
             "colorbar": {
              "outlinewidth": 0,
              "ticks": ""
             }
            },
            "type": "scatterternary"
           }
          ],
          "surface": [
           {
            "colorbar": {
             "outlinewidth": 0,
             "ticks": ""
            },
            "colorscale": [
             [
              0,
              "#0d0887"
             ],
             [
              0.1111111111111111,
              "#46039f"
             ],
             [
              0.2222222222222222,
              "#7201a8"
             ],
             [
              0.3333333333333333,
              "#9c179e"
             ],
             [
              0.4444444444444444,
              "#bd3786"
             ],
             [
              0.5555555555555556,
              "#d8576b"
             ],
             [
              0.6666666666666666,
              "#ed7953"
             ],
             [
              0.7777777777777778,
              "#fb9f3a"
             ],
             [
              0.8888888888888888,
              "#fdca26"
             ],
             [
              1,
              "#f0f921"
             ]
            ],
            "type": "surface"
           }
          ],
          "table": [
           {
            "cells": {
             "fill": {
              "color": "#EBF0F8"
             },
             "line": {
              "color": "white"
             }
            },
            "header": {
             "fill": {
              "color": "#C8D4E3"
             },
             "line": {
              "color": "white"
             }
            },
            "type": "table"
           }
          ]
         },
         "layout": {
          "annotationdefaults": {
           "arrowcolor": "#2a3f5f",
           "arrowhead": 0,
           "arrowwidth": 1
          },
          "autotypenumbers": "strict",
          "coloraxis": {
           "colorbar": {
            "outlinewidth": 0,
            "ticks": ""
           }
          },
          "colorscale": {
           "diverging": [
            [
             0,
             "#8e0152"
            ],
            [
             0.1,
             "#c51b7d"
            ],
            [
             0.2,
             "#de77ae"
            ],
            [
             0.3,
             "#f1b6da"
            ],
            [
             0.4,
             "#fde0ef"
            ],
            [
             0.5,
             "#f7f7f7"
            ],
            [
             0.6,
             "#e6f5d0"
            ],
            [
             0.7,
             "#b8e186"
            ],
            [
             0.8,
             "#7fbc41"
            ],
            [
             0.9,
             "#4d9221"
            ],
            [
             1,
             "#276419"
            ]
           ],
           "sequential": [
            [
             0,
             "#0d0887"
            ],
            [
             0.1111111111111111,
             "#46039f"
            ],
            [
             0.2222222222222222,
             "#7201a8"
            ],
            [
             0.3333333333333333,
             "#9c179e"
            ],
            [
             0.4444444444444444,
             "#bd3786"
            ],
            [
             0.5555555555555556,
             "#d8576b"
            ],
            [
             0.6666666666666666,
             "#ed7953"
            ],
            [
             0.7777777777777778,
             "#fb9f3a"
            ],
            [
             0.8888888888888888,
             "#fdca26"
            ],
            [
             1,
             "#f0f921"
            ]
           ],
           "sequentialminus": [
            [
             0,
             "#0d0887"
            ],
            [
             0.1111111111111111,
             "#46039f"
            ],
            [
             0.2222222222222222,
             "#7201a8"
            ],
            [
             0.3333333333333333,
             "#9c179e"
            ],
            [
             0.4444444444444444,
             "#bd3786"
            ],
            [
             0.5555555555555556,
             "#d8576b"
            ],
            [
             0.6666666666666666,
             "#ed7953"
            ],
            [
             0.7777777777777778,
             "#fb9f3a"
            ],
            [
             0.8888888888888888,
             "#fdca26"
            ],
            [
             1,
             "#f0f921"
            ]
           ]
          },
          "colorway": [
           "#636efa",
           "#EF553B",
           "#00cc96",
           "#ab63fa",
           "#FFA15A",
           "#19d3f3",
           "#FF6692",
           "#B6E880",
           "#FF97FF",
           "#FECB52"
          ],
          "font": {
           "color": "#2a3f5f"
          },
          "geo": {
           "bgcolor": "white",
           "lakecolor": "white",
           "landcolor": "#E5ECF6",
           "showlakes": true,
           "showland": true,
           "subunitcolor": "white"
          },
          "hoverlabel": {
           "align": "left"
          },
          "hovermode": "closest",
          "mapbox": {
           "style": "light"
          },
          "paper_bgcolor": "white",
          "plot_bgcolor": "#E5ECF6",
          "polar": {
           "angularaxis": {
            "gridcolor": "white",
            "linecolor": "white",
            "ticks": ""
           },
           "bgcolor": "#E5ECF6",
           "radialaxis": {
            "gridcolor": "white",
            "linecolor": "white",
            "ticks": ""
           }
          },
          "scene": {
           "xaxis": {
            "backgroundcolor": "#E5ECF6",
            "gridcolor": "white",
            "gridwidth": 2,
            "linecolor": "white",
            "showbackground": true,
            "ticks": "",
            "zerolinecolor": "white"
           },
           "yaxis": {
            "backgroundcolor": "#E5ECF6",
            "gridcolor": "white",
            "gridwidth": 2,
            "linecolor": "white",
            "showbackground": true,
            "ticks": "",
            "zerolinecolor": "white"
           },
           "zaxis": {
            "backgroundcolor": "#E5ECF6",
            "gridcolor": "white",
            "gridwidth": 2,
            "linecolor": "white",
            "showbackground": true,
            "ticks": "",
            "zerolinecolor": "white"
           }
          },
          "shapedefaults": {
           "line": {
            "color": "#2a3f5f"
           }
          },
          "ternary": {
           "aaxis": {
            "gridcolor": "white",
            "linecolor": "white",
            "ticks": ""
           },
           "baxis": {
            "gridcolor": "white",
            "linecolor": "white",
            "ticks": ""
           },
           "bgcolor": "#E5ECF6",
           "caxis": {
            "gridcolor": "white",
            "linecolor": "white",
            "ticks": ""
           }
          },
          "title": {
           "x": 0.05
          },
          "xaxis": {
           "automargin": true,
           "gridcolor": "white",
           "linecolor": "white",
           "ticks": "",
           "title": {
            "standoff": 15
           },
           "zerolinecolor": "white",
           "zerolinewidth": 2
          },
          "yaxis": {
           "automargin": true,
           "gridcolor": "white",
           "linecolor": "white",
           "ticks": "",
           "title": {
            "standoff": 15
           },
           "zerolinecolor": "white",
           "zerolinewidth": 2
          }
         }
        },
        "width": 600,
        "xaxis": {
         "anchor": "y",
         "domain": [
          0,
          1
         ],
         "title": {
          "text": "Method"
         }
        },
        "yaxis": {
         "anchor": "x",
         "domain": [
          0,
          1
         ],
         "title": {
          "text": "Training Client (s)"
         }
        }
       }
      }
     },
     "metadata": {},
     "output_type": "display_data"
    },
    {
     "data": {
      "application/vnd.plotly.v1+json": {
       "config": {
        "plotlyServerURL": "https://plot.ly"
       },
       "data": [
        {
         "alignmentgroup": "True",
         "error_y": {
          "array": [
           0,
           5.649548498482499,
           0.6485012863820897
          ]
         },
         "hovertemplate": "method_name=%{x}<br>time_server_training_mean=%{y}<extra></extra>",
         "legendgroup": "",
         "marker": {
          "color": "#636efa",
          "pattern": {
           "shape": ""
          }
         },
         "name": "",
         "offsetgroup": "",
         "orientation": "v",
         "showlegend": false,
         "textposition": "auto",
         "type": "bar",
         "x": [
          "Non-split ",
          "Split A ",
          "Split A (C/D)"
         ],
         "xaxis": "x",
         "y": [
          0,
          197.46795090039572,
          190.2831072807312
         ],
         "yaxis": "y"
        }
       ],
       "layout": {
        "barmode": "group",
        "font": {
         "size": 18
        },
        "height": 400,
        "hovermode": "x",
        "legend": {
         "title": {},
         "tracegroupgap": 0
        },
        "margin": {
         "t": 60
        },
        "template": {
         "data": {
          "bar": [
           {
            "error_x": {
             "color": "#2a3f5f"
            },
            "error_y": {
             "color": "#2a3f5f"
            },
            "marker": {
             "line": {
              "color": "#E5ECF6",
              "width": 0.5
             },
             "pattern": {
              "fillmode": "overlay",
              "size": 10,
              "solidity": 0.2
             }
            },
            "type": "bar"
           }
          ],
          "barpolar": [
           {
            "marker": {
             "line": {
              "color": "#E5ECF6",
              "width": 0.5
             },
             "pattern": {
              "fillmode": "overlay",
              "size": 10,
              "solidity": 0.2
             }
            },
            "type": "barpolar"
           }
          ],
          "carpet": [
           {
            "aaxis": {
             "endlinecolor": "#2a3f5f",
             "gridcolor": "white",
             "linecolor": "white",
             "minorgridcolor": "white",
             "startlinecolor": "#2a3f5f"
            },
            "baxis": {
             "endlinecolor": "#2a3f5f",
             "gridcolor": "white",
             "linecolor": "white",
             "minorgridcolor": "white",
             "startlinecolor": "#2a3f5f"
            },
            "type": "carpet"
           }
          ],
          "choropleth": [
           {
            "colorbar": {
             "outlinewidth": 0,
             "ticks": ""
            },
            "type": "choropleth"
           }
          ],
          "contour": [
           {
            "colorbar": {
             "outlinewidth": 0,
             "ticks": ""
            },
            "colorscale": [
             [
              0,
              "#0d0887"
             ],
             [
              0.1111111111111111,
              "#46039f"
             ],
             [
              0.2222222222222222,
              "#7201a8"
             ],
             [
              0.3333333333333333,
              "#9c179e"
             ],
             [
              0.4444444444444444,
              "#bd3786"
             ],
             [
              0.5555555555555556,
              "#d8576b"
             ],
             [
              0.6666666666666666,
              "#ed7953"
             ],
             [
              0.7777777777777778,
              "#fb9f3a"
             ],
             [
              0.8888888888888888,
              "#fdca26"
             ],
             [
              1,
              "#f0f921"
             ]
            ],
            "type": "contour"
           }
          ],
          "contourcarpet": [
           {
            "colorbar": {
             "outlinewidth": 0,
             "ticks": ""
            },
            "type": "contourcarpet"
           }
          ],
          "heatmap": [
           {
            "colorbar": {
             "outlinewidth": 0,
             "ticks": ""
            },
            "colorscale": [
             [
              0,
              "#0d0887"
             ],
             [
              0.1111111111111111,
              "#46039f"
             ],
             [
              0.2222222222222222,
              "#7201a8"
             ],
             [
              0.3333333333333333,
              "#9c179e"
             ],
             [
              0.4444444444444444,
              "#bd3786"
             ],
             [
              0.5555555555555556,
              "#d8576b"
             ],
             [
              0.6666666666666666,
              "#ed7953"
             ],
             [
              0.7777777777777778,
              "#fb9f3a"
             ],
             [
              0.8888888888888888,
              "#fdca26"
             ],
             [
              1,
              "#f0f921"
             ]
            ],
            "type": "heatmap"
           }
          ],
          "heatmapgl": [
           {
            "colorbar": {
             "outlinewidth": 0,
             "ticks": ""
            },
            "colorscale": [
             [
              0,
              "#0d0887"
             ],
             [
              0.1111111111111111,
              "#46039f"
             ],
             [
              0.2222222222222222,
              "#7201a8"
             ],
             [
              0.3333333333333333,
              "#9c179e"
             ],
             [
              0.4444444444444444,
              "#bd3786"
             ],
             [
              0.5555555555555556,
              "#d8576b"
             ],
             [
              0.6666666666666666,
              "#ed7953"
             ],
             [
              0.7777777777777778,
              "#fb9f3a"
             ],
             [
              0.8888888888888888,
              "#fdca26"
             ],
             [
              1,
              "#f0f921"
             ]
            ],
            "type": "heatmapgl"
           }
          ],
          "histogram": [
           {
            "marker": {
             "pattern": {
              "fillmode": "overlay",
              "size": 10,
              "solidity": 0.2
             }
            },
            "type": "histogram"
           }
          ],
          "histogram2d": [
           {
            "colorbar": {
             "outlinewidth": 0,
             "ticks": ""
            },
            "colorscale": [
             [
              0,
              "#0d0887"
             ],
             [
              0.1111111111111111,
              "#46039f"
             ],
             [
              0.2222222222222222,
              "#7201a8"
             ],
             [
              0.3333333333333333,
              "#9c179e"
             ],
             [
              0.4444444444444444,
              "#bd3786"
             ],
             [
              0.5555555555555556,
              "#d8576b"
             ],
             [
              0.6666666666666666,
              "#ed7953"
             ],
             [
              0.7777777777777778,
              "#fb9f3a"
             ],
             [
              0.8888888888888888,
              "#fdca26"
             ],
             [
              1,
              "#f0f921"
             ]
            ],
            "type": "histogram2d"
           }
          ],
          "histogram2dcontour": [
           {
            "colorbar": {
             "outlinewidth": 0,
             "ticks": ""
            },
            "colorscale": [
             [
              0,
              "#0d0887"
             ],
             [
              0.1111111111111111,
              "#46039f"
             ],
             [
              0.2222222222222222,
              "#7201a8"
             ],
             [
              0.3333333333333333,
              "#9c179e"
             ],
             [
              0.4444444444444444,
              "#bd3786"
             ],
             [
              0.5555555555555556,
              "#d8576b"
             ],
             [
              0.6666666666666666,
              "#ed7953"
             ],
             [
              0.7777777777777778,
              "#fb9f3a"
             ],
             [
              0.8888888888888888,
              "#fdca26"
             ],
             [
              1,
              "#f0f921"
             ]
            ],
            "type": "histogram2dcontour"
           }
          ],
          "mesh3d": [
           {
            "colorbar": {
             "outlinewidth": 0,
             "ticks": ""
            },
            "type": "mesh3d"
           }
          ],
          "parcoords": [
           {
            "line": {
             "colorbar": {
              "outlinewidth": 0,
              "ticks": ""
             }
            },
            "type": "parcoords"
           }
          ],
          "pie": [
           {
            "automargin": true,
            "type": "pie"
           }
          ],
          "scatter": [
           {
            "fillpattern": {
             "fillmode": "overlay",
             "size": 10,
             "solidity": 0.2
            },
            "type": "scatter"
           }
          ],
          "scatter3d": [
           {
            "line": {
             "colorbar": {
              "outlinewidth": 0,
              "ticks": ""
             }
            },
            "marker": {
             "colorbar": {
              "outlinewidth": 0,
              "ticks": ""
             }
            },
            "type": "scatter3d"
           }
          ],
          "scattercarpet": [
           {
            "marker": {
             "colorbar": {
              "outlinewidth": 0,
              "ticks": ""
             }
            },
            "type": "scattercarpet"
           }
          ],
          "scattergeo": [
           {
            "marker": {
             "colorbar": {
              "outlinewidth": 0,
              "ticks": ""
             }
            },
            "type": "scattergeo"
           }
          ],
          "scattergl": [
           {
            "marker": {
             "colorbar": {
              "outlinewidth": 0,
              "ticks": ""
             }
            },
            "type": "scattergl"
           }
          ],
          "scattermapbox": [
           {
            "marker": {
             "colorbar": {
              "outlinewidth": 0,
              "ticks": ""
             }
            },
            "type": "scattermapbox"
           }
          ],
          "scatterpolar": [
           {
            "marker": {
             "colorbar": {
              "outlinewidth": 0,
              "ticks": ""
             }
            },
            "type": "scatterpolar"
           }
          ],
          "scatterpolargl": [
           {
            "marker": {
             "colorbar": {
              "outlinewidth": 0,
              "ticks": ""
             }
            },
            "type": "scatterpolargl"
           }
          ],
          "scatterternary": [
           {
            "marker": {
             "colorbar": {
              "outlinewidth": 0,
              "ticks": ""
             }
            },
            "type": "scatterternary"
           }
          ],
          "surface": [
           {
            "colorbar": {
             "outlinewidth": 0,
             "ticks": ""
            },
            "colorscale": [
             [
              0,
              "#0d0887"
             ],
             [
              0.1111111111111111,
              "#46039f"
             ],
             [
              0.2222222222222222,
              "#7201a8"
             ],
             [
              0.3333333333333333,
              "#9c179e"
             ],
             [
              0.4444444444444444,
              "#bd3786"
             ],
             [
              0.5555555555555556,
              "#d8576b"
             ],
             [
              0.6666666666666666,
              "#ed7953"
             ],
             [
              0.7777777777777778,
              "#fb9f3a"
             ],
             [
              0.8888888888888888,
              "#fdca26"
             ],
             [
              1,
              "#f0f921"
             ]
            ],
            "type": "surface"
           }
          ],
          "table": [
           {
            "cells": {
             "fill": {
              "color": "#EBF0F8"
             },
             "line": {
              "color": "white"
             }
            },
            "header": {
             "fill": {
              "color": "#C8D4E3"
             },
             "line": {
              "color": "white"
             }
            },
            "type": "table"
           }
          ]
         },
         "layout": {
          "annotationdefaults": {
           "arrowcolor": "#2a3f5f",
           "arrowhead": 0,
           "arrowwidth": 1
          },
          "autotypenumbers": "strict",
          "coloraxis": {
           "colorbar": {
            "outlinewidth": 0,
            "ticks": ""
           }
          },
          "colorscale": {
           "diverging": [
            [
             0,
             "#8e0152"
            ],
            [
             0.1,
             "#c51b7d"
            ],
            [
             0.2,
             "#de77ae"
            ],
            [
             0.3,
             "#f1b6da"
            ],
            [
             0.4,
             "#fde0ef"
            ],
            [
             0.5,
             "#f7f7f7"
            ],
            [
             0.6,
             "#e6f5d0"
            ],
            [
             0.7,
             "#b8e186"
            ],
            [
             0.8,
             "#7fbc41"
            ],
            [
             0.9,
             "#4d9221"
            ],
            [
             1,
             "#276419"
            ]
           ],
           "sequential": [
            [
             0,
             "#0d0887"
            ],
            [
             0.1111111111111111,
             "#46039f"
            ],
            [
             0.2222222222222222,
             "#7201a8"
            ],
            [
             0.3333333333333333,
             "#9c179e"
            ],
            [
             0.4444444444444444,
             "#bd3786"
            ],
            [
             0.5555555555555556,
             "#d8576b"
            ],
            [
             0.6666666666666666,
             "#ed7953"
            ],
            [
             0.7777777777777778,
             "#fb9f3a"
            ],
            [
             0.8888888888888888,
             "#fdca26"
            ],
            [
             1,
             "#f0f921"
            ]
           ],
           "sequentialminus": [
            [
             0,
             "#0d0887"
            ],
            [
             0.1111111111111111,
             "#46039f"
            ],
            [
             0.2222222222222222,
             "#7201a8"
            ],
            [
             0.3333333333333333,
             "#9c179e"
            ],
            [
             0.4444444444444444,
             "#bd3786"
            ],
            [
             0.5555555555555556,
             "#d8576b"
            ],
            [
             0.6666666666666666,
             "#ed7953"
            ],
            [
             0.7777777777777778,
             "#fb9f3a"
            ],
            [
             0.8888888888888888,
             "#fdca26"
            ],
            [
             1,
             "#f0f921"
            ]
           ]
          },
          "colorway": [
           "#636efa",
           "#EF553B",
           "#00cc96",
           "#ab63fa",
           "#FFA15A",
           "#19d3f3",
           "#FF6692",
           "#B6E880",
           "#FF97FF",
           "#FECB52"
          ],
          "font": {
           "color": "#2a3f5f"
          },
          "geo": {
           "bgcolor": "white",
           "lakecolor": "white",
           "landcolor": "#E5ECF6",
           "showlakes": true,
           "showland": true,
           "subunitcolor": "white"
          },
          "hoverlabel": {
           "align": "left"
          },
          "hovermode": "closest",
          "mapbox": {
           "style": "light"
          },
          "paper_bgcolor": "white",
          "plot_bgcolor": "#E5ECF6",
          "polar": {
           "angularaxis": {
            "gridcolor": "white",
            "linecolor": "white",
            "ticks": ""
           },
           "bgcolor": "#E5ECF6",
           "radialaxis": {
            "gridcolor": "white",
            "linecolor": "white",
            "ticks": ""
           }
          },
          "scene": {
           "xaxis": {
            "backgroundcolor": "#E5ECF6",
            "gridcolor": "white",
            "gridwidth": 2,
            "linecolor": "white",
            "showbackground": true,
            "ticks": "",
            "zerolinecolor": "white"
           },
           "yaxis": {
            "backgroundcolor": "#E5ECF6",
            "gridcolor": "white",
            "gridwidth": 2,
            "linecolor": "white",
            "showbackground": true,
            "ticks": "",
            "zerolinecolor": "white"
           },
           "zaxis": {
            "backgroundcolor": "#E5ECF6",
            "gridcolor": "white",
            "gridwidth": 2,
            "linecolor": "white",
            "showbackground": true,
            "ticks": "",
            "zerolinecolor": "white"
           }
          },
          "shapedefaults": {
           "line": {
            "color": "#2a3f5f"
           }
          },
          "ternary": {
           "aaxis": {
            "gridcolor": "white",
            "linecolor": "white",
            "ticks": ""
           },
           "baxis": {
            "gridcolor": "white",
            "linecolor": "white",
            "ticks": ""
           },
           "bgcolor": "#E5ECF6",
           "caxis": {
            "gridcolor": "white",
            "linecolor": "white",
            "ticks": ""
           }
          },
          "title": {
           "x": 0.05
          },
          "xaxis": {
           "automargin": true,
           "gridcolor": "white",
           "linecolor": "white",
           "ticks": "",
           "title": {
            "standoff": 15
           },
           "zerolinecolor": "white",
           "zerolinewidth": 2
          },
          "yaxis": {
           "automargin": true,
           "gridcolor": "white",
           "linecolor": "white",
           "ticks": "",
           "title": {
            "standoff": 15
           },
           "zerolinecolor": "white",
           "zerolinewidth": 2
          }
         }
        },
        "width": 600,
        "xaxis": {
         "anchor": "y",
         "domain": [
          0,
          1
         ],
         "title": {
          "text": "Method"
         }
        },
        "yaxis": {
         "anchor": "x",
         "domain": [
          0,
          1
         ],
         "title": {
          "text": "Training Server (s)"
         }
        }
       }
      }
     },
     "metadata": {},
     "output_type": "display_data"
    },
    {
     "data": {
      "application/vnd.plotly.v1+json": {
       "config": {
        "plotlyServerURL": "https://plot.ly"
       },
       "data": [
        {
         "alignmentgroup": "True",
         "error_y": {
          "array": [
           3.826163128417418,
           90.97345730052336,
           79.45428499852626
          ]
         },
         "hovertemplate": "method_name=%{x}<br>time_validation_mean=%{y}<extra></extra>",
         "legendgroup": "",
         "marker": {
          "color": "#636efa",
          "pattern": {
           "shape": ""
          }
         },
         "name": "",
         "offsetgroup": "",
         "orientation": "v",
         "showlegend": false,
         "textposition": "auto",
         "type": "bar",
         "x": [
          "Non-split ",
          "Split A ",
          "Split A (C/D)"
         ],
         "xaxis": "x",
         "y": [
          1355.6449258327484,
          1857.591013431549,
          1819.9939424991608
         ],
         "yaxis": "y"
        }
       ],
       "layout": {
        "barmode": "group",
        "font": {
         "size": 18
        },
        "height": 400,
        "hovermode": "x",
        "legend": {
         "title": {},
         "tracegroupgap": 0
        },
        "margin": {
         "t": 60
        },
        "template": {
         "data": {
          "bar": [
           {
            "error_x": {
             "color": "#2a3f5f"
            },
            "error_y": {
             "color": "#2a3f5f"
            },
            "marker": {
             "line": {
              "color": "#E5ECF6",
              "width": 0.5
             },
             "pattern": {
              "fillmode": "overlay",
              "size": 10,
              "solidity": 0.2
             }
            },
            "type": "bar"
           }
          ],
          "barpolar": [
           {
            "marker": {
             "line": {
              "color": "#E5ECF6",
              "width": 0.5
             },
             "pattern": {
              "fillmode": "overlay",
              "size": 10,
              "solidity": 0.2
             }
            },
            "type": "barpolar"
           }
          ],
          "carpet": [
           {
            "aaxis": {
             "endlinecolor": "#2a3f5f",
             "gridcolor": "white",
             "linecolor": "white",
             "minorgridcolor": "white",
             "startlinecolor": "#2a3f5f"
            },
            "baxis": {
             "endlinecolor": "#2a3f5f",
             "gridcolor": "white",
             "linecolor": "white",
             "minorgridcolor": "white",
             "startlinecolor": "#2a3f5f"
            },
            "type": "carpet"
           }
          ],
          "choropleth": [
           {
            "colorbar": {
             "outlinewidth": 0,
             "ticks": ""
            },
            "type": "choropleth"
           }
          ],
          "contour": [
           {
            "colorbar": {
             "outlinewidth": 0,
             "ticks": ""
            },
            "colorscale": [
             [
              0,
              "#0d0887"
             ],
             [
              0.1111111111111111,
              "#46039f"
             ],
             [
              0.2222222222222222,
              "#7201a8"
             ],
             [
              0.3333333333333333,
              "#9c179e"
             ],
             [
              0.4444444444444444,
              "#bd3786"
             ],
             [
              0.5555555555555556,
              "#d8576b"
             ],
             [
              0.6666666666666666,
              "#ed7953"
             ],
             [
              0.7777777777777778,
              "#fb9f3a"
             ],
             [
              0.8888888888888888,
              "#fdca26"
             ],
             [
              1,
              "#f0f921"
             ]
            ],
            "type": "contour"
           }
          ],
          "contourcarpet": [
           {
            "colorbar": {
             "outlinewidth": 0,
             "ticks": ""
            },
            "type": "contourcarpet"
           }
          ],
          "heatmap": [
           {
            "colorbar": {
             "outlinewidth": 0,
             "ticks": ""
            },
            "colorscale": [
             [
              0,
              "#0d0887"
             ],
             [
              0.1111111111111111,
              "#46039f"
             ],
             [
              0.2222222222222222,
              "#7201a8"
             ],
             [
              0.3333333333333333,
              "#9c179e"
             ],
             [
              0.4444444444444444,
              "#bd3786"
             ],
             [
              0.5555555555555556,
              "#d8576b"
             ],
             [
              0.6666666666666666,
              "#ed7953"
             ],
             [
              0.7777777777777778,
              "#fb9f3a"
             ],
             [
              0.8888888888888888,
              "#fdca26"
             ],
             [
              1,
              "#f0f921"
             ]
            ],
            "type": "heatmap"
           }
          ],
          "heatmapgl": [
           {
            "colorbar": {
             "outlinewidth": 0,
             "ticks": ""
            },
            "colorscale": [
             [
              0,
              "#0d0887"
             ],
             [
              0.1111111111111111,
              "#46039f"
             ],
             [
              0.2222222222222222,
              "#7201a8"
             ],
             [
              0.3333333333333333,
              "#9c179e"
             ],
             [
              0.4444444444444444,
              "#bd3786"
             ],
             [
              0.5555555555555556,
              "#d8576b"
             ],
             [
              0.6666666666666666,
              "#ed7953"
             ],
             [
              0.7777777777777778,
              "#fb9f3a"
             ],
             [
              0.8888888888888888,
              "#fdca26"
             ],
             [
              1,
              "#f0f921"
             ]
            ],
            "type": "heatmapgl"
           }
          ],
          "histogram": [
           {
            "marker": {
             "pattern": {
              "fillmode": "overlay",
              "size": 10,
              "solidity": 0.2
             }
            },
            "type": "histogram"
           }
          ],
          "histogram2d": [
           {
            "colorbar": {
             "outlinewidth": 0,
             "ticks": ""
            },
            "colorscale": [
             [
              0,
              "#0d0887"
             ],
             [
              0.1111111111111111,
              "#46039f"
             ],
             [
              0.2222222222222222,
              "#7201a8"
             ],
             [
              0.3333333333333333,
              "#9c179e"
             ],
             [
              0.4444444444444444,
              "#bd3786"
             ],
             [
              0.5555555555555556,
              "#d8576b"
             ],
             [
              0.6666666666666666,
              "#ed7953"
             ],
             [
              0.7777777777777778,
              "#fb9f3a"
             ],
             [
              0.8888888888888888,
              "#fdca26"
             ],
             [
              1,
              "#f0f921"
             ]
            ],
            "type": "histogram2d"
           }
          ],
          "histogram2dcontour": [
           {
            "colorbar": {
             "outlinewidth": 0,
             "ticks": ""
            },
            "colorscale": [
             [
              0,
              "#0d0887"
             ],
             [
              0.1111111111111111,
              "#46039f"
             ],
             [
              0.2222222222222222,
              "#7201a8"
             ],
             [
              0.3333333333333333,
              "#9c179e"
             ],
             [
              0.4444444444444444,
              "#bd3786"
             ],
             [
              0.5555555555555556,
              "#d8576b"
             ],
             [
              0.6666666666666666,
              "#ed7953"
             ],
             [
              0.7777777777777778,
              "#fb9f3a"
             ],
             [
              0.8888888888888888,
              "#fdca26"
             ],
             [
              1,
              "#f0f921"
             ]
            ],
            "type": "histogram2dcontour"
           }
          ],
          "mesh3d": [
           {
            "colorbar": {
             "outlinewidth": 0,
             "ticks": ""
            },
            "type": "mesh3d"
           }
          ],
          "parcoords": [
           {
            "line": {
             "colorbar": {
              "outlinewidth": 0,
              "ticks": ""
             }
            },
            "type": "parcoords"
           }
          ],
          "pie": [
           {
            "automargin": true,
            "type": "pie"
           }
          ],
          "scatter": [
           {
            "fillpattern": {
             "fillmode": "overlay",
             "size": 10,
             "solidity": 0.2
            },
            "type": "scatter"
           }
          ],
          "scatter3d": [
           {
            "line": {
             "colorbar": {
              "outlinewidth": 0,
              "ticks": ""
             }
            },
            "marker": {
             "colorbar": {
              "outlinewidth": 0,
              "ticks": ""
             }
            },
            "type": "scatter3d"
           }
          ],
          "scattercarpet": [
           {
            "marker": {
             "colorbar": {
              "outlinewidth": 0,
              "ticks": ""
             }
            },
            "type": "scattercarpet"
           }
          ],
          "scattergeo": [
           {
            "marker": {
             "colorbar": {
              "outlinewidth": 0,
              "ticks": ""
             }
            },
            "type": "scattergeo"
           }
          ],
          "scattergl": [
           {
            "marker": {
             "colorbar": {
              "outlinewidth": 0,
              "ticks": ""
             }
            },
            "type": "scattergl"
           }
          ],
          "scattermapbox": [
           {
            "marker": {
             "colorbar": {
              "outlinewidth": 0,
              "ticks": ""
             }
            },
            "type": "scattermapbox"
           }
          ],
          "scatterpolar": [
           {
            "marker": {
             "colorbar": {
              "outlinewidth": 0,
              "ticks": ""
             }
            },
            "type": "scatterpolar"
           }
          ],
          "scatterpolargl": [
           {
            "marker": {
             "colorbar": {
              "outlinewidth": 0,
              "ticks": ""
             }
            },
            "type": "scatterpolargl"
           }
          ],
          "scatterternary": [
           {
            "marker": {
             "colorbar": {
              "outlinewidth": 0,
              "ticks": ""
             }
            },
            "type": "scatterternary"
           }
          ],
          "surface": [
           {
            "colorbar": {
             "outlinewidth": 0,
             "ticks": ""
            },
            "colorscale": [
             [
              0,
              "#0d0887"
             ],
             [
              0.1111111111111111,
              "#46039f"
             ],
             [
              0.2222222222222222,
              "#7201a8"
             ],
             [
              0.3333333333333333,
              "#9c179e"
             ],
             [
              0.4444444444444444,
              "#bd3786"
             ],
             [
              0.5555555555555556,
              "#d8576b"
             ],
             [
              0.6666666666666666,
              "#ed7953"
             ],
             [
              0.7777777777777778,
              "#fb9f3a"
             ],
             [
              0.8888888888888888,
              "#fdca26"
             ],
             [
              1,
              "#f0f921"
             ]
            ],
            "type": "surface"
           }
          ],
          "table": [
           {
            "cells": {
             "fill": {
              "color": "#EBF0F8"
             },
             "line": {
              "color": "white"
             }
            },
            "header": {
             "fill": {
              "color": "#C8D4E3"
             },
             "line": {
              "color": "white"
             }
            },
            "type": "table"
           }
          ]
         },
         "layout": {
          "annotationdefaults": {
           "arrowcolor": "#2a3f5f",
           "arrowhead": 0,
           "arrowwidth": 1
          },
          "autotypenumbers": "strict",
          "coloraxis": {
           "colorbar": {
            "outlinewidth": 0,
            "ticks": ""
           }
          },
          "colorscale": {
           "diverging": [
            [
             0,
             "#8e0152"
            ],
            [
             0.1,
             "#c51b7d"
            ],
            [
             0.2,
             "#de77ae"
            ],
            [
             0.3,
             "#f1b6da"
            ],
            [
             0.4,
             "#fde0ef"
            ],
            [
             0.5,
             "#f7f7f7"
            ],
            [
             0.6,
             "#e6f5d0"
            ],
            [
             0.7,
             "#b8e186"
            ],
            [
             0.8,
             "#7fbc41"
            ],
            [
             0.9,
             "#4d9221"
            ],
            [
             1,
             "#276419"
            ]
           ],
           "sequential": [
            [
             0,
             "#0d0887"
            ],
            [
             0.1111111111111111,
             "#46039f"
            ],
            [
             0.2222222222222222,
             "#7201a8"
            ],
            [
             0.3333333333333333,
             "#9c179e"
            ],
            [
             0.4444444444444444,
             "#bd3786"
            ],
            [
             0.5555555555555556,
             "#d8576b"
            ],
            [
             0.6666666666666666,
             "#ed7953"
            ],
            [
             0.7777777777777778,
             "#fb9f3a"
            ],
            [
             0.8888888888888888,
             "#fdca26"
            ],
            [
             1,
             "#f0f921"
            ]
           ],
           "sequentialminus": [
            [
             0,
             "#0d0887"
            ],
            [
             0.1111111111111111,
             "#46039f"
            ],
            [
             0.2222222222222222,
             "#7201a8"
            ],
            [
             0.3333333333333333,
             "#9c179e"
            ],
            [
             0.4444444444444444,
             "#bd3786"
            ],
            [
             0.5555555555555556,
             "#d8576b"
            ],
            [
             0.6666666666666666,
             "#ed7953"
            ],
            [
             0.7777777777777778,
             "#fb9f3a"
            ],
            [
             0.8888888888888888,
             "#fdca26"
            ],
            [
             1,
             "#f0f921"
            ]
           ]
          },
          "colorway": [
           "#636efa",
           "#EF553B",
           "#00cc96",
           "#ab63fa",
           "#FFA15A",
           "#19d3f3",
           "#FF6692",
           "#B6E880",
           "#FF97FF",
           "#FECB52"
          ],
          "font": {
           "color": "#2a3f5f"
          },
          "geo": {
           "bgcolor": "white",
           "lakecolor": "white",
           "landcolor": "#E5ECF6",
           "showlakes": true,
           "showland": true,
           "subunitcolor": "white"
          },
          "hoverlabel": {
           "align": "left"
          },
          "hovermode": "closest",
          "mapbox": {
           "style": "light"
          },
          "paper_bgcolor": "white",
          "plot_bgcolor": "#E5ECF6",
          "polar": {
           "angularaxis": {
            "gridcolor": "white",
            "linecolor": "white",
            "ticks": ""
           },
           "bgcolor": "#E5ECF6",
           "radialaxis": {
            "gridcolor": "white",
            "linecolor": "white",
            "ticks": ""
           }
          },
          "scene": {
           "xaxis": {
            "backgroundcolor": "#E5ECF6",
            "gridcolor": "white",
            "gridwidth": 2,
            "linecolor": "white",
            "showbackground": true,
            "ticks": "",
            "zerolinecolor": "white"
           },
           "yaxis": {
            "backgroundcolor": "#E5ECF6",
            "gridcolor": "white",
            "gridwidth": 2,
            "linecolor": "white",
            "showbackground": true,
            "ticks": "",
            "zerolinecolor": "white"
           },
           "zaxis": {
            "backgroundcolor": "#E5ECF6",
            "gridcolor": "white",
            "gridwidth": 2,
            "linecolor": "white",
            "showbackground": true,
            "ticks": "",
            "zerolinecolor": "white"
           }
          },
          "shapedefaults": {
           "line": {
            "color": "#2a3f5f"
           }
          },
          "ternary": {
           "aaxis": {
            "gridcolor": "white",
            "linecolor": "white",
            "ticks": ""
           },
           "baxis": {
            "gridcolor": "white",
            "linecolor": "white",
            "ticks": ""
           },
           "bgcolor": "#E5ECF6",
           "caxis": {
            "gridcolor": "white",
            "linecolor": "white",
            "ticks": ""
           }
          },
          "title": {
           "x": 0.05
          },
          "xaxis": {
           "automargin": true,
           "gridcolor": "white",
           "linecolor": "white",
           "ticks": "",
           "title": {
            "standoff": 15
           },
           "zerolinecolor": "white",
           "zerolinewidth": 2
          },
          "yaxis": {
           "automargin": true,
           "gridcolor": "white",
           "linecolor": "white",
           "ticks": "",
           "title": {
            "standoff": 15
           },
           "zerolinecolor": "white",
           "zerolinewidth": 2
          }
         }
        },
        "width": 600,
        "xaxis": {
         "anchor": "y",
         "domain": [
          0,
          1
         ],
         "title": {
          "text": "Method"
         }
        },
        "yaxis": {
         "anchor": "x",
         "domain": [
          0,
          1
         ],
         "title": {
          "text": "Validation Time (s)"
         }
        }
       }
      }
     },
     "metadata": {},
     "output_type": "display_data"
    },
    {
     "data": {
      "application/vnd.plotly.v1+json": {
       "config": {
        "plotlyServerURL": "https://plot.ly"
       },
       "data": [
        {
         "alignmentgroup": "True",
         "error_y": {
          "array": [
           91.27780473552808,
           75.92321820073099,
           78.15620969864244
          ]
         },
         "hovertemplate": "method_name=%{x}<br>time_test_mean=%{y}<extra></extra>",
         "legendgroup": "",
         "marker": {
          "color": "#636efa",
          "pattern": {
           "shape": ""
          }
         },
         "name": "",
         "offsetgroup": "",
         "orientation": "v",
         "showlegend": false,
         "textposition": "auto",
         "type": "bar",
         "x": [
          "Non-split ",
          "Split A ",
          "Split A (C/D)"
         ],
         "xaxis": "x",
         "y": [
          306.3834265867869,
          529.0677716732025,
          474.5690013567607
         ],
         "yaxis": "y"
        }
       ],
       "layout": {
        "barmode": "group",
        "font": {
         "size": 18
        },
        "height": 400,
        "hovermode": "x",
        "legend": {
         "title": {},
         "tracegroupgap": 0
        },
        "margin": {
         "t": 60
        },
        "template": {
         "data": {
          "bar": [
           {
            "error_x": {
             "color": "#2a3f5f"
            },
            "error_y": {
             "color": "#2a3f5f"
            },
            "marker": {
             "line": {
              "color": "#E5ECF6",
              "width": 0.5
             },
             "pattern": {
              "fillmode": "overlay",
              "size": 10,
              "solidity": 0.2
             }
            },
            "type": "bar"
           }
          ],
          "barpolar": [
           {
            "marker": {
             "line": {
              "color": "#E5ECF6",
              "width": 0.5
             },
             "pattern": {
              "fillmode": "overlay",
              "size": 10,
              "solidity": 0.2
             }
            },
            "type": "barpolar"
           }
          ],
          "carpet": [
           {
            "aaxis": {
             "endlinecolor": "#2a3f5f",
             "gridcolor": "white",
             "linecolor": "white",
             "minorgridcolor": "white",
             "startlinecolor": "#2a3f5f"
            },
            "baxis": {
             "endlinecolor": "#2a3f5f",
             "gridcolor": "white",
             "linecolor": "white",
             "minorgridcolor": "white",
             "startlinecolor": "#2a3f5f"
            },
            "type": "carpet"
           }
          ],
          "choropleth": [
           {
            "colorbar": {
             "outlinewidth": 0,
             "ticks": ""
            },
            "type": "choropleth"
           }
          ],
          "contour": [
           {
            "colorbar": {
             "outlinewidth": 0,
             "ticks": ""
            },
            "colorscale": [
             [
              0,
              "#0d0887"
             ],
             [
              0.1111111111111111,
              "#46039f"
             ],
             [
              0.2222222222222222,
              "#7201a8"
             ],
             [
              0.3333333333333333,
              "#9c179e"
             ],
             [
              0.4444444444444444,
              "#bd3786"
             ],
             [
              0.5555555555555556,
              "#d8576b"
             ],
             [
              0.6666666666666666,
              "#ed7953"
             ],
             [
              0.7777777777777778,
              "#fb9f3a"
             ],
             [
              0.8888888888888888,
              "#fdca26"
             ],
             [
              1,
              "#f0f921"
             ]
            ],
            "type": "contour"
           }
          ],
          "contourcarpet": [
           {
            "colorbar": {
             "outlinewidth": 0,
             "ticks": ""
            },
            "type": "contourcarpet"
           }
          ],
          "heatmap": [
           {
            "colorbar": {
             "outlinewidth": 0,
             "ticks": ""
            },
            "colorscale": [
             [
              0,
              "#0d0887"
             ],
             [
              0.1111111111111111,
              "#46039f"
             ],
             [
              0.2222222222222222,
              "#7201a8"
             ],
             [
              0.3333333333333333,
              "#9c179e"
             ],
             [
              0.4444444444444444,
              "#bd3786"
             ],
             [
              0.5555555555555556,
              "#d8576b"
             ],
             [
              0.6666666666666666,
              "#ed7953"
             ],
             [
              0.7777777777777778,
              "#fb9f3a"
             ],
             [
              0.8888888888888888,
              "#fdca26"
             ],
             [
              1,
              "#f0f921"
             ]
            ],
            "type": "heatmap"
           }
          ],
          "heatmapgl": [
           {
            "colorbar": {
             "outlinewidth": 0,
             "ticks": ""
            },
            "colorscale": [
             [
              0,
              "#0d0887"
             ],
             [
              0.1111111111111111,
              "#46039f"
             ],
             [
              0.2222222222222222,
              "#7201a8"
             ],
             [
              0.3333333333333333,
              "#9c179e"
             ],
             [
              0.4444444444444444,
              "#bd3786"
             ],
             [
              0.5555555555555556,
              "#d8576b"
             ],
             [
              0.6666666666666666,
              "#ed7953"
             ],
             [
              0.7777777777777778,
              "#fb9f3a"
             ],
             [
              0.8888888888888888,
              "#fdca26"
             ],
             [
              1,
              "#f0f921"
             ]
            ],
            "type": "heatmapgl"
           }
          ],
          "histogram": [
           {
            "marker": {
             "pattern": {
              "fillmode": "overlay",
              "size": 10,
              "solidity": 0.2
             }
            },
            "type": "histogram"
           }
          ],
          "histogram2d": [
           {
            "colorbar": {
             "outlinewidth": 0,
             "ticks": ""
            },
            "colorscale": [
             [
              0,
              "#0d0887"
             ],
             [
              0.1111111111111111,
              "#46039f"
             ],
             [
              0.2222222222222222,
              "#7201a8"
             ],
             [
              0.3333333333333333,
              "#9c179e"
             ],
             [
              0.4444444444444444,
              "#bd3786"
             ],
             [
              0.5555555555555556,
              "#d8576b"
             ],
             [
              0.6666666666666666,
              "#ed7953"
             ],
             [
              0.7777777777777778,
              "#fb9f3a"
             ],
             [
              0.8888888888888888,
              "#fdca26"
             ],
             [
              1,
              "#f0f921"
             ]
            ],
            "type": "histogram2d"
           }
          ],
          "histogram2dcontour": [
           {
            "colorbar": {
             "outlinewidth": 0,
             "ticks": ""
            },
            "colorscale": [
             [
              0,
              "#0d0887"
             ],
             [
              0.1111111111111111,
              "#46039f"
             ],
             [
              0.2222222222222222,
              "#7201a8"
             ],
             [
              0.3333333333333333,
              "#9c179e"
             ],
             [
              0.4444444444444444,
              "#bd3786"
             ],
             [
              0.5555555555555556,
              "#d8576b"
             ],
             [
              0.6666666666666666,
              "#ed7953"
             ],
             [
              0.7777777777777778,
              "#fb9f3a"
             ],
             [
              0.8888888888888888,
              "#fdca26"
             ],
             [
              1,
              "#f0f921"
             ]
            ],
            "type": "histogram2dcontour"
           }
          ],
          "mesh3d": [
           {
            "colorbar": {
             "outlinewidth": 0,
             "ticks": ""
            },
            "type": "mesh3d"
           }
          ],
          "parcoords": [
           {
            "line": {
             "colorbar": {
              "outlinewidth": 0,
              "ticks": ""
             }
            },
            "type": "parcoords"
           }
          ],
          "pie": [
           {
            "automargin": true,
            "type": "pie"
           }
          ],
          "scatter": [
           {
            "fillpattern": {
             "fillmode": "overlay",
             "size": 10,
             "solidity": 0.2
            },
            "type": "scatter"
           }
          ],
          "scatter3d": [
           {
            "line": {
             "colorbar": {
              "outlinewidth": 0,
              "ticks": ""
             }
            },
            "marker": {
             "colorbar": {
              "outlinewidth": 0,
              "ticks": ""
             }
            },
            "type": "scatter3d"
           }
          ],
          "scattercarpet": [
           {
            "marker": {
             "colorbar": {
              "outlinewidth": 0,
              "ticks": ""
             }
            },
            "type": "scattercarpet"
           }
          ],
          "scattergeo": [
           {
            "marker": {
             "colorbar": {
              "outlinewidth": 0,
              "ticks": ""
             }
            },
            "type": "scattergeo"
           }
          ],
          "scattergl": [
           {
            "marker": {
             "colorbar": {
              "outlinewidth": 0,
              "ticks": ""
             }
            },
            "type": "scattergl"
           }
          ],
          "scattermapbox": [
           {
            "marker": {
             "colorbar": {
              "outlinewidth": 0,
              "ticks": ""
             }
            },
            "type": "scattermapbox"
           }
          ],
          "scatterpolar": [
           {
            "marker": {
             "colorbar": {
              "outlinewidth": 0,
              "ticks": ""
             }
            },
            "type": "scatterpolar"
           }
          ],
          "scatterpolargl": [
           {
            "marker": {
             "colorbar": {
              "outlinewidth": 0,
              "ticks": ""
             }
            },
            "type": "scatterpolargl"
           }
          ],
          "scatterternary": [
           {
            "marker": {
             "colorbar": {
              "outlinewidth": 0,
              "ticks": ""
             }
            },
            "type": "scatterternary"
           }
          ],
          "surface": [
           {
            "colorbar": {
             "outlinewidth": 0,
             "ticks": ""
            },
            "colorscale": [
             [
              0,
              "#0d0887"
             ],
             [
              0.1111111111111111,
              "#46039f"
             ],
             [
              0.2222222222222222,
              "#7201a8"
             ],
             [
              0.3333333333333333,
              "#9c179e"
             ],
             [
              0.4444444444444444,
              "#bd3786"
             ],
             [
              0.5555555555555556,
              "#d8576b"
             ],
             [
              0.6666666666666666,
              "#ed7953"
             ],
             [
              0.7777777777777778,
              "#fb9f3a"
             ],
             [
              0.8888888888888888,
              "#fdca26"
             ],
             [
              1,
              "#f0f921"
             ]
            ],
            "type": "surface"
           }
          ],
          "table": [
           {
            "cells": {
             "fill": {
              "color": "#EBF0F8"
             },
             "line": {
              "color": "white"
             }
            },
            "header": {
             "fill": {
              "color": "#C8D4E3"
             },
             "line": {
              "color": "white"
             }
            },
            "type": "table"
           }
          ]
         },
         "layout": {
          "annotationdefaults": {
           "arrowcolor": "#2a3f5f",
           "arrowhead": 0,
           "arrowwidth": 1
          },
          "autotypenumbers": "strict",
          "coloraxis": {
           "colorbar": {
            "outlinewidth": 0,
            "ticks": ""
           }
          },
          "colorscale": {
           "diverging": [
            [
             0,
             "#8e0152"
            ],
            [
             0.1,
             "#c51b7d"
            ],
            [
             0.2,
             "#de77ae"
            ],
            [
             0.3,
             "#f1b6da"
            ],
            [
             0.4,
             "#fde0ef"
            ],
            [
             0.5,
             "#f7f7f7"
            ],
            [
             0.6,
             "#e6f5d0"
            ],
            [
             0.7,
             "#b8e186"
            ],
            [
             0.8,
             "#7fbc41"
            ],
            [
             0.9,
             "#4d9221"
            ],
            [
             1,
             "#276419"
            ]
           ],
           "sequential": [
            [
             0,
             "#0d0887"
            ],
            [
             0.1111111111111111,
             "#46039f"
            ],
            [
             0.2222222222222222,
             "#7201a8"
            ],
            [
             0.3333333333333333,
             "#9c179e"
            ],
            [
             0.4444444444444444,
             "#bd3786"
            ],
            [
             0.5555555555555556,
             "#d8576b"
            ],
            [
             0.6666666666666666,
             "#ed7953"
            ],
            [
             0.7777777777777778,
             "#fb9f3a"
            ],
            [
             0.8888888888888888,
             "#fdca26"
            ],
            [
             1,
             "#f0f921"
            ]
           ],
           "sequentialminus": [
            [
             0,
             "#0d0887"
            ],
            [
             0.1111111111111111,
             "#46039f"
            ],
            [
             0.2222222222222222,
             "#7201a8"
            ],
            [
             0.3333333333333333,
             "#9c179e"
            ],
            [
             0.4444444444444444,
             "#bd3786"
            ],
            [
             0.5555555555555556,
             "#d8576b"
            ],
            [
             0.6666666666666666,
             "#ed7953"
            ],
            [
             0.7777777777777778,
             "#fb9f3a"
            ],
            [
             0.8888888888888888,
             "#fdca26"
            ],
            [
             1,
             "#f0f921"
            ]
           ]
          },
          "colorway": [
           "#636efa",
           "#EF553B",
           "#00cc96",
           "#ab63fa",
           "#FFA15A",
           "#19d3f3",
           "#FF6692",
           "#B6E880",
           "#FF97FF",
           "#FECB52"
          ],
          "font": {
           "color": "#2a3f5f"
          },
          "geo": {
           "bgcolor": "white",
           "lakecolor": "white",
           "landcolor": "#E5ECF6",
           "showlakes": true,
           "showland": true,
           "subunitcolor": "white"
          },
          "hoverlabel": {
           "align": "left"
          },
          "hovermode": "closest",
          "mapbox": {
           "style": "light"
          },
          "paper_bgcolor": "white",
          "plot_bgcolor": "#E5ECF6",
          "polar": {
           "angularaxis": {
            "gridcolor": "white",
            "linecolor": "white",
            "ticks": ""
           },
           "bgcolor": "#E5ECF6",
           "radialaxis": {
            "gridcolor": "white",
            "linecolor": "white",
            "ticks": ""
           }
          },
          "scene": {
           "xaxis": {
            "backgroundcolor": "#E5ECF6",
            "gridcolor": "white",
            "gridwidth": 2,
            "linecolor": "white",
            "showbackground": true,
            "ticks": "",
            "zerolinecolor": "white"
           },
           "yaxis": {
            "backgroundcolor": "#E5ECF6",
            "gridcolor": "white",
            "gridwidth": 2,
            "linecolor": "white",
            "showbackground": true,
            "ticks": "",
            "zerolinecolor": "white"
           },
           "zaxis": {
            "backgroundcolor": "#E5ECF6",
            "gridcolor": "white",
            "gridwidth": 2,
            "linecolor": "white",
            "showbackground": true,
            "ticks": "",
            "zerolinecolor": "white"
           }
          },
          "shapedefaults": {
           "line": {
            "color": "#2a3f5f"
           }
          },
          "ternary": {
           "aaxis": {
            "gridcolor": "white",
            "linecolor": "white",
            "ticks": ""
           },
           "baxis": {
            "gridcolor": "white",
            "linecolor": "white",
            "ticks": ""
           },
           "bgcolor": "#E5ECF6",
           "caxis": {
            "gridcolor": "white",
            "linecolor": "white",
            "ticks": ""
           }
          },
          "title": {
           "x": 0.05
          },
          "xaxis": {
           "automargin": true,
           "gridcolor": "white",
           "linecolor": "white",
           "ticks": "",
           "title": {
            "standoff": 15
           },
           "zerolinecolor": "white",
           "zerolinewidth": 2
          },
          "yaxis": {
           "automargin": true,
           "gridcolor": "white",
           "linecolor": "white",
           "ticks": "",
           "title": {
            "standoff": 15
           },
           "zerolinecolor": "white",
           "zerolinewidth": 2
          }
         }
        },
        "width": 600,
        "xaxis": {
         "anchor": "y",
         "domain": [
          0,
          1
         ],
         "title": {
          "text": "Method"
         }
        },
        "yaxis": {
         "anchor": "x",
         "domain": [
          0,
          1
         ],
         "title": {
          "text": "Test (s)"
         }
        }
       }
      }
     },
     "metadata": {},
     "output_type": "display_data"
    },
    {
     "data": {
      "application/vnd.plotly.v1+json": {
       "config": {
        "plotlyServerURL": "https://plot.ly"
       },
       "data": [
        {
         "alignmentgroup": "True",
         "error_y": {
          "array": [
           55.736644325758334,
           10.972465988770422
          ]
         },
         "hovertemplate": "method_name=%{x}<br>time_communication_server_to_client_mean=%{y}<extra></extra>",
         "legendgroup": "",
         "marker": {
          "color": "#636efa",
          "pattern": {
           "shape": ""
          }
         },
         "name": "",
         "offsetgroup": "",
         "orientation": "v",
         "showlegend": false,
         "textposition": "auto",
         "type": "bar",
         "x": [
          "Split A ",
          "Split A (C/D)"
         ],
         "xaxis": "x",
         "y": [
          1193.6751047770183,
          1049.5707716147106
         ],
         "yaxis": "y"
        }
       ],
       "layout": {
        "barmode": "group",
        "font": {
         "size": 18
        },
        "height": 400,
        "hovermode": "x",
        "legend": {
         "title": {},
         "tracegroupgap": 0
        },
        "margin": {
         "t": 60
        },
        "template": {
         "data": {
          "bar": [
           {
            "error_x": {
             "color": "#2a3f5f"
            },
            "error_y": {
             "color": "#2a3f5f"
            },
            "marker": {
             "line": {
              "color": "#E5ECF6",
              "width": 0.5
             },
             "pattern": {
              "fillmode": "overlay",
              "size": 10,
              "solidity": 0.2
             }
            },
            "type": "bar"
           }
          ],
          "barpolar": [
           {
            "marker": {
             "line": {
              "color": "#E5ECF6",
              "width": 0.5
             },
             "pattern": {
              "fillmode": "overlay",
              "size": 10,
              "solidity": 0.2
             }
            },
            "type": "barpolar"
           }
          ],
          "carpet": [
           {
            "aaxis": {
             "endlinecolor": "#2a3f5f",
             "gridcolor": "white",
             "linecolor": "white",
             "minorgridcolor": "white",
             "startlinecolor": "#2a3f5f"
            },
            "baxis": {
             "endlinecolor": "#2a3f5f",
             "gridcolor": "white",
             "linecolor": "white",
             "minorgridcolor": "white",
             "startlinecolor": "#2a3f5f"
            },
            "type": "carpet"
           }
          ],
          "choropleth": [
           {
            "colorbar": {
             "outlinewidth": 0,
             "ticks": ""
            },
            "type": "choropleth"
           }
          ],
          "contour": [
           {
            "colorbar": {
             "outlinewidth": 0,
             "ticks": ""
            },
            "colorscale": [
             [
              0,
              "#0d0887"
             ],
             [
              0.1111111111111111,
              "#46039f"
             ],
             [
              0.2222222222222222,
              "#7201a8"
             ],
             [
              0.3333333333333333,
              "#9c179e"
             ],
             [
              0.4444444444444444,
              "#bd3786"
             ],
             [
              0.5555555555555556,
              "#d8576b"
             ],
             [
              0.6666666666666666,
              "#ed7953"
             ],
             [
              0.7777777777777778,
              "#fb9f3a"
             ],
             [
              0.8888888888888888,
              "#fdca26"
             ],
             [
              1,
              "#f0f921"
             ]
            ],
            "type": "contour"
           }
          ],
          "contourcarpet": [
           {
            "colorbar": {
             "outlinewidth": 0,
             "ticks": ""
            },
            "type": "contourcarpet"
           }
          ],
          "heatmap": [
           {
            "colorbar": {
             "outlinewidth": 0,
             "ticks": ""
            },
            "colorscale": [
             [
              0,
              "#0d0887"
             ],
             [
              0.1111111111111111,
              "#46039f"
             ],
             [
              0.2222222222222222,
              "#7201a8"
             ],
             [
              0.3333333333333333,
              "#9c179e"
             ],
             [
              0.4444444444444444,
              "#bd3786"
             ],
             [
              0.5555555555555556,
              "#d8576b"
             ],
             [
              0.6666666666666666,
              "#ed7953"
             ],
             [
              0.7777777777777778,
              "#fb9f3a"
             ],
             [
              0.8888888888888888,
              "#fdca26"
             ],
             [
              1,
              "#f0f921"
             ]
            ],
            "type": "heatmap"
           }
          ],
          "heatmapgl": [
           {
            "colorbar": {
             "outlinewidth": 0,
             "ticks": ""
            },
            "colorscale": [
             [
              0,
              "#0d0887"
             ],
             [
              0.1111111111111111,
              "#46039f"
             ],
             [
              0.2222222222222222,
              "#7201a8"
             ],
             [
              0.3333333333333333,
              "#9c179e"
             ],
             [
              0.4444444444444444,
              "#bd3786"
             ],
             [
              0.5555555555555556,
              "#d8576b"
             ],
             [
              0.6666666666666666,
              "#ed7953"
             ],
             [
              0.7777777777777778,
              "#fb9f3a"
             ],
             [
              0.8888888888888888,
              "#fdca26"
             ],
             [
              1,
              "#f0f921"
             ]
            ],
            "type": "heatmapgl"
           }
          ],
          "histogram": [
           {
            "marker": {
             "pattern": {
              "fillmode": "overlay",
              "size": 10,
              "solidity": 0.2
             }
            },
            "type": "histogram"
           }
          ],
          "histogram2d": [
           {
            "colorbar": {
             "outlinewidth": 0,
             "ticks": ""
            },
            "colorscale": [
             [
              0,
              "#0d0887"
             ],
             [
              0.1111111111111111,
              "#46039f"
             ],
             [
              0.2222222222222222,
              "#7201a8"
             ],
             [
              0.3333333333333333,
              "#9c179e"
             ],
             [
              0.4444444444444444,
              "#bd3786"
             ],
             [
              0.5555555555555556,
              "#d8576b"
             ],
             [
              0.6666666666666666,
              "#ed7953"
             ],
             [
              0.7777777777777778,
              "#fb9f3a"
             ],
             [
              0.8888888888888888,
              "#fdca26"
             ],
             [
              1,
              "#f0f921"
             ]
            ],
            "type": "histogram2d"
           }
          ],
          "histogram2dcontour": [
           {
            "colorbar": {
             "outlinewidth": 0,
             "ticks": ""
            },
            "colorscale": [
             [
              0,
              "#0d0887"
             ],
             [
              0.1111111111111111,
              "#46039f"
             ],
             [
              0.2222222222222222,
              "#7201a8"
             ],
             [
              0.3333333333333333,
              "#9c179e"
             ],
             [
              0.4444444444444444,
              "#bd3786"
             ],
             [
              0.5555555555555556,
              "#d8576b"
             ],
             [
              0.6666666666666666,
              "#ed7953"
             ],
             [
              0.7777777777777778,
              "#fb9f3a"
             ],
             [
              0.8888888888888888,
              "#fdca26"
             ],
             [
              1,
              "#f0f921"
             ]
            ],
            "type": "histogram2dcontour"
           }
          ],
          "mesh3d": [
           {
            "colorbar": {
             "outlinewidth": 0,
             "ticks": ""
            },
            "type": "mesh3d"
           }
          ],
          "parcoords": [
           {
            "line": {
             "colorbar": {
              "outlinewidth": 0,
              "ticks": ""
             }
            },
            "type": "parcoords"
           }
          ],
          "pie": [
           {
            "automargin": true,
            "type": "pie"
           }
          ],
          "scatter": [
           {
            "fillpattern": {
             "fillmode": "overlay",
             "size": 10,
             "solidity": 0.2
            },
            "type": "scatter"
           }
          ],
          "scatter3d": [
           {
            "line": {
             "colorbar": {
              "outlinewidth": 0,
              "ticks": ""
             }
            },
            "marker": {
             "colorbar": {
              "outlinewidth": 0,
              "ticks": ""
             }
            },
            "type": "scatter3d"
           }
          ],
          "scattercarpet": [
           {
            "marker": {
             "colorbar": {
              "outlinewidth": 0,
              "ticks": ""
             }
            },
            "type": "scattercarpet"
           }
          ],
          "scattergeo": [
           {
            "marker": {
             "colorbar": {
              "outlinewidth": 0,
              "ticks": ""
             }
            },
            "type": "scattergeo"
           }
          ],
          "scattergl": [
           {
            "marker": {
             "colorbar": {
              "outlinewidth": 0,
              "ticks": ""
             }
            },
            "type": "scattergl"
           }
          ],
          "scattermapbox": [
           {
            "marker": {
             "colorbar": {
              "outlinewidth": 0,
              "ticks": ""
             }
            },
            "type": "scattermapbox"
           }
          ],
          "scatterpolar": [
           {
            "marker": {
             "colorbar": {
              "outlinewidth": 0,
              "ticks": ""
             }
            },
            "type": "scatterpolar"
           }
          ],
          "scatterpolargl": [
           {
            "marker": {
             "colorbar": {
              "outlinewidth": 0,
              "ticks": ""
             }
            },
            "type": "scatterpolargl"
           }
          ],
          "scatterternary": [
           {
            "marker": {
             "colorbar": {
              "outlinewidth": 0,
              "ticks": ""
             }
            },
            "type": "scatterternary"
           }
          ],
          "surface": [
           {
            "colorbar": {
             "outlinewidth": 0,
             "ticks": ""
            },
            "colorscale": [
             [
              0,
              "#0d0887"
             ],
             [
              0.1111111111111111,
              "#46039f"
             ],
             [
              0.2222222222222222,
              "#7201a8"
             ],
             [
              0.3333333333333333,
              "#9c179e"
             ],
             [
              0.4444444444444444,
              "#bd3786"
             ],
             [
              0.5555555555555556,
              "#d8576b"
             ],
             [
              0.6666666666666666,
              "#ed7953"
             ],
             [
              0.7777777777777778,
              "#fb9f3a"
             ],
             [
              0.8888888888888888,
              "#fdca26"
             ],
             [
              1,
              "#f0f921"
             ]
            ],
            "type": "surface"
           }
          ],
          "table": [
           {
            "cells": {
             "fill": {
              "color": "#EBF0F8"
             },
             "line": {
              "color": "white"
             }
            },
            "header": {
             "fill": {
              "color": "#C8D4E3"
             },
             "line": {
              "color": "white"
             }
            },
            "type": "table"
           }
          ]
         },
         "layout": {
          "annotationdefaults": {
           "arrowcolor": "#2a3f5f",
           "arrowhead": 0,
           "arrowwidth": 1
          },
          "autotypenumbers": "strict",
          "coloraxis": {
           "colorbar": {
            "outlinewidth": 0,
            "ticks": ""
           }
          },
          "colorscale": {
           "diverging": [
            [
             0,
             "#8e0152"
            ],
            [
             0.1,
             "#c51b7d"
            ],
            [
             0.2,
             "#de77ae"
            ],
            [
             0.3,
             "#f1b6da"
            ],
            [
             0.4,
             "#fde0ef"
            ],
            [
             0.5,
             "#f7f7f7"
            ],
            [
             0.6,
             "#e6f5d0"
            ],
            [
             0.7,
             "#b8e186"
            ],
            [
             0.8,
             "#7fbc41"
            ],
            [
             0.9,
             "#4d9221"
            ],
            [
             1,
             "#276419"
            ]
           ],
           "sequential": [
            [
             0,
             "#0d0887"
            ],
            [
             0.1111111111111111,
             "#46039f"
            ],
            [
             0.2222222222222222,
             "#7201a8"
            ],
            [
             0.3333333333333333,
             "#9c179e"
            ],
            [
             0.4444444444444444,
             "#bd3786"
            ],
            [
             0.5555555555555556,
             "#d8576b"
            ],
            [
             0.6666666666666666,
             "#ed7953"
            ],
            [
             0.7777777777777778,
             "#fb9f3a"
            ],
            [
             0.8888888888888888,
             "#fdca26"
            ],
            [
             1,
             "#f0f921"
            ]
           ],
           "sequentialminus": [
            [
             0,
             "#0d0887"
            ],
            [
             0.1111111111111111,
             "#46039f"
            ],
            [
             0.2222222222222222,
             "#7201a8"
            ],
            [
             0.3333333333333333,
             "#9c179e"
            ],
            [
             0.4444444444444444,
             "#bd3786"
            ],
            [
             0.5555555555555556,
             "#d8576b"
            ],
            [
             0.6666666666666666,
             "#ed7953"
            ],
            [
             0.7777777777777778,
             "#fb9f3a"
            ],
            [
             0.8888888888888888,
             "#fdca26"
            ],
            [
             1,
             "#f0f921"
            ]
           ]
          },
          "colorway": [
           "#636efa",
           "#EF553B",
           "#00cc96",
           "#ab63fa",
           "#FFA15A",
           "#19d3f3",
           "#FF6692",
           "#B6E880",
           "#FF97FF",
           "#FECB52"
          ],
          "font": {
           "color": "#2a3f5f"
          },
          "geo": {
           "bgcolor": "white",
           "lakecolor": "white",
           "landcolor": "#E5ECF6",
           "showlakes": true,
           "showland": true,
           "subunitcolor": "white"
          },
          "hoverlabel": {
           "align": "left"
          },
          "hovermode": "closest",
          "mapbox": {
           "style": "light"
          },
          "paper_bgcolor": "white",
          "plot_bgcolor": "#E5ECF6",
          "polar": {
           "angularaxis": {
            "gridcolor": "white",
            "linecolor": "white",
            "ticks": ""
           },
           "bgcolor": "#E5ECF6",
           "radialaxis": {
            "gridcolor": "white",
            "linecolor": "white",
            "ticks": ""
           }
          },
          "scene": {
           "xaxis": {
            "backgroundcolor": "#E5ECF6",
            "gridcolor": "white",
            "gridwidth": 2,
            "linecolor": "white",
            "showbackground": true,
            "ticks": "",
            "zerolinecolor": "white"
           },
           "yaxis": {
            "backgroundcolor": "#E5ECF6",
            "gridcolor": "white",
            "gridwidth": 2,
            "linecolor": "white",
            "showbackground": true,
            "ticks": "",
            "zerolinecolor": "white"
           },
           "zaxis": {
            "backgroundcolor": "#E5ECF6",
            "gridcolor": "white",
            "gridwidth": 2,
            "linecolor": "white",
            "showbackground": true,
            "ticks": "",
            "zerolinecolor": "white"
           }
          },
          "shapedefaults": {
           "line": {
            "color": "#2a3f5f"
           }
          },
          "ternary": {
           "aaxis": {
            "gridcolor": "white",
            "linecolor": "white",
            "ticks": ""
           },
           "baxis": {
            "gridcolor": "white",
            "linecolor": "white",
            "ticks": ""
           },
           "bgcolor": "#E5ECF6",
           "caxis": {
            "gridcolor": "white",
            "linecolor": "white",
            "ticks": ""
           }
          },
          "title": {
           "x": 0.05
          },
          "xaxis": {
           "automargin": true,
           "gridcolor": "white",
           "linecolor": "white",
           "ticks": "",
           "title": {
            "standoff": 15
           },
           "zerolinecolor": "white",
           "zerolinewidth": 2
          },
          "yaxis": {
           "automargin": true,
           "gridcolor": "white",
           "linecolor": "white",
           "ticks": "",
           "title": {
            "standoff": 15
           },
           "zerolinecolor": "white",
           "zerolinewidth": 2
          }
         }
        },
        "width": 600,
        "xaxis": {
         "anchor": "y",
         "domain": [
          0,
          1
         ],
         "title": {
          "text": "Method"
         }
        },
        "yaxis": {
         "anchor": "x",
         "domain": [
          0,
          1
         ],
         "title": {
          "text": "Latency Server to Client (s)"
         }
        }
       }
      }
     },
     "metadata": {},
     "output_type": "display_data"
    },
    {
     "data": {
      "application/vnd.plotly.v1+json": {
       "config": {
        "plotlyServerURL": "https://plot.ly"
       },
       "data": [
        {
         "alignmentgroup": "True",
         "error_y": {
          "array": [
           373.96420751495265,
           5.892573188926955
          ]
         },
         "hovertemplate": "method_name=%{x}<br>time_communication_client_to_server_mean=%{y}<extra></extra>",
         "legendgroup": "",
         "marker": {
          "color": "#636efa",
          "pattern": {
           "shape": ""
          }
         },
         "name": "",
         "offsetgroup": "",
         "orientation": "v",
         "showlegend": false,
         "textposition": "auto",
         "type": "bar",
         "x": [
          "Split A ",
          "Split A (C/D)"
         ],
         "xaxis": "x",
         "y": [
          7327.6757964293165,
          1669.4756298859913
         ],
         "yaxis": "y"
        }
       ],
       "layout": {
        "barmode": "group",
        "font": {
         "size": 18
        },
        "height": 400,
        "hovermode": "x",
        "legend": {
         "title": {},
         "tracegroupgap": 0
        },
        "margin": {
         "t": 60
        },
        "template": {
         "data": {
          "bar": [
           {
            "error_x": {
             "color": "#2a3f5f"
            },
            "error_y": {
             "color": "#2a3f5f"
            },
            "marker": {
             "line": {
              "color": "#E5ECF6",
              "width": 0.5
             },
             "pattern": {
              "fillmode": "overlay",
              "size": 10,
              "solidity": 0.2
             }
            },
            "type": "bar"
           }
          ],
          "barpolar": [
           {
            "marker": {
             "line": {
              "color": "#E5ECF6",
              "width": 0.5
             },
             "pattern": {
              "fillmode": "overlay",
              "size": 10,
              "solidity": 0.2
             }
            },
            "type": "barpolar"
           }
          ],
          "carpet": [
           {
            "aaxis": {
             "endlinecolor": "#2a3f5f",
             "gridcolor": "white",
             "linecolor": "white",
             "minorgridcolor": "white",
             "startlinecolor": "#2a3f5f"
            },
            "baxis": {
             "endlinecolor": "#2a3f5f",
             "gridcolor": "white",
             "linecolor": "white",
             "minorgridcolor": "white",
             "startlinecolor": "#2a3f5f"
            },
            "type": "carpet"
           }
          ],
          "choropleth": [
           {
            "colorbar": {
             "outlinewidth": 0,
             "ticks": ""
            },
            "type": "choropleth"
           }
          ],
          "contour": [
           {
            "colorbar": {
             "outlinewidth": 0,
             "ticks": ""
            },
            "colorscale": [
             [
              0,
              "#0d0887"
             ],
             [
              0.1111111111111111,
              "#46039f"
             ],
             [
              0.2222222222222222,
              "#7201a8"
             ],
             [
              0.3333333333333333,
              "#9c179e"
             ],
             [
              0.4444444444444444,
              "#bd3786"
             ],
             [
              0.5555555555555556,
              "#d8576b"
             ],
             [
              0.6666666666666666,
              "#ed7953"
             ],
             [
              0.7777777777777778,
              "#fb9f3a"
             ],
             [
              0.8888888888888888,
              "#fdca26"
             ],
             [
              1,
              "#f0f921"
             ]
            ],
            "type": "contour"
           }
          ],
          "contourcarpet": [
           {
            "colorbar": {
             "outlinewidth": 0,
             "ticks": ""
            },
            "type": "contourcarpet"
           }
          ],
          "heatmap": [
           {
            "colorbar": {
             "outlinewidth": 0,
             "ticks": ""
            },
            "colorscale": [
             [
              0,
              "#0d0887"
             ],
             [
              0.1111111111111111,
              "#46039f"
             ],
             [
              0.2222222222222222,
              "#7201a8"
             ],
             [
              0.3333333333333333,
              "#9c179e"
             ],
             [
              0.4444444444444444,
              "#bd3786"
             ],
             [
              0.5555555555555556,
              "#d8576b"
             ],
             [
              0.6666666666666666,
              "#ed7953"
             ],
             [
              0.7777777777777778,
              "#fb9f3a"
             ],
             [
              0.8888888888888888,
              "#fdca26"
             ],
             [
              1,
              "#f0f921"
             ]
            ],
            "type": "heatmap"
           }
          ],
          "heatmapgl": [
           {
            "colorbar": {
             "outlinewidth": 0,
             "ticks": ""
            },
            "colorscale": [
             [
              0,
              "#0d0887"
             ],
             [
              0.1111111111111111,
              "#46039f"
             ],
             [
              0.2222222222222222,
              "#7201a8"
             ],
             [
              0.3333333333333333,
              "#9c179e"
             ],
             [
              0.4444444444444444,
              "#bd3786"
             ],
             [
              0.5555555555555556,
              "#d8576b"
             ],
             [
              0.6666666666666666,
              "#ed7953"
             ],
             [
              0.7777777777777778,
              "#fb9f3a"
             ],
             [
              0.8888888888888888,
              "#fdca26"
             ],
             [
              1,
              "#f0f921"
             ]
            ],
            "type": "heatmapgl"
           }
          ],
          "histogram": [
           {
            "marker": {
             "pattern": {
              "fillmode": "overlay",
              "size": 10,
              "solidity": 0.2
             }
            },
            "type": "histogram"
           }
          ],
          "histogram2d": [
           {
            "colorbar": {
             "outlinewidth": 0,
             "ticks": ""
            },
            "colorscale": [
             [
              0,
              "#0d0887"
             ],
             [
              0.1111111111111111,
              "#46039f"
             ],
             [
              0.2222222222222222,
              "#7201a8"
             ],
             [
              0.3333333333333333,
              "#9c179e"
             ],
             [
              0.4444444444444444,
              "#bd3786"
             ],
             [
              0.5555555555555556,
              "#d8576b"
             ],
             [
              0.6666666666666666,
              "#ed7953"
             ],
             [
              0.7777777777777778,
              "#fb9f3a"
             ],
             [
              0.8888888888888888,
              "#fdca26"
             ],
             [
              1,
              "#f0f921"
             ]
            ],
            "type": "histogram2d"
           }
          ],
          "histogram2dcontour": [
           {
            "colorbar": {
             "outlinewidth": 0,
             "ticks": ""
            },
            "colorscale": [
             [
              0,
              "#0d0887"
             ],
             [
              0.1111111111111111,
              "#46039f"
             ],
             [
              0.2222222222222222,
              "#7201a8"
             ],
             [
              0.3333333333333333,
              "#9c179e"
             ],
             [
              0.4444444444444444,
              "#bd3786"
             ],
             [
              0.5555555555555556,
              "#d8576b"
             ],
             [
              0.6666666666666666,
              "#ed7953"
             ],
             [
              0.7777777777777778,
              "#fb9f3a"
             ],
             [
              0.8888888888888888,
              "#fdca26"
             ],
             [
              1,
              "#f0f921"
             ]
            ],
            "type": "histogram2dcontour"
           }
          ],
          "mesh3d": [
           {
            "colorbar": {
             "outlinewidth": 0,
             "ticks": ""
            },
            "type": "mesh3d"
           }
          ],
          "parcoords": [
           {
            "line": {
             "colorbar": {
              "outlinewidth": 0,
              "ticks": ""
             }
            },
            "type": "parcoords"
           }
          ],
          "pie": [
           {
            "automargin": true,
            "type": "pie"
           }
          ],
          "scatter": [
           {
            "fillpattern": {
             "fillmode": "overlay",
             "size": 10,
             "solidity": 0.2
            },
            "type": "scatter"
           }
          ],
          "scatter3d": [
           {
            "line": {
             "colorbar": {
              "outlinewidth": 0,
              "ticks": ""
             }
            },
            "marker": {
             "colorbar": {
              "outlinewidth": 0,
              "ticks": ""
             }
            },
            "type": "scatter3d"
           }
          ],
          "scattercarpet": [
           {
            "marker": {
             "colorbar": {
              "outlinewidth": 0,
              "ticks": ""
             }
            },
            "type": "scattercarpet"
           }
          ],
          "scattergeo": [
           {
            "marker": {
             "colorbar": {
              "outlinewidth": 0,
              "ticks": ""
             }
            },
            "type": "scattergeo"
           }
          ],
          "scattergl": [
           {
            "marker": {
             "colorbar": {
              "outlinewidth": 0,
              "ticks": ""
             }
            },
            "type": "scattergl"
           }
          ],
          "scattermapbox": [
           {
            "marker": {
             "colorbar": {
              "outlinewidth": 0,
              "ticks": ""
             }
            },
            "type": "scattermapbox"
           }
          ],
          "scatterpolar": [
           {
            "marker": {
             "colorbar": {
              "outlinewidth": 0,
              "ticks": ""
             }
            },
            "type": "scatterpolar"
           }
          ],
          "scatterpolargl": [
           {
            "marker": {
             "colorbar": {
              "outlinewidth": 0,
              "ticks": ""
             }
            },
            "type": "scatterpolargl"
           }
          ],
          "scatterternary": [
           {
            "marker": {
             "colorbar": {
              "outlinewidth": 0,
              "ticks": ""
             }
            },
            "type": "scatterternary"
           }
          ],
          "surface": [
           {
            "colorbar": {
             "outlinewidth": 0,
             "ticks": ""
            },
            "colorscale": [
             [
              0,
              "#0d0887"
             ],
             [
              0.1111111111111111,
              "#46039f"
             ],
             [
              0.2222222222222222,
              "#7201a8"
             ],
             [
              0.3333333333333333,
              "#9c179e"
             ],
             [
              0.4444444444444444,
              "#bd3786"
             ],
             [
              0.5555555555555556,
              "#d8576b"
             ],
             [
              0.6666666666666666,
              "#ed7953"
             ],
             [
              0.7777777777777778,
              "#fb9f3a"
             ],
             [
              0.8888888888888888,
              "#fdca26"
             ],
             [
              1,
              "#f0f921"
             ]
            ],
            "type": "surface"
           }
          ],
          "table": [
           {
            "cells": {
             "fill": {
              "color": "#EBF0F8"
             },
             "line": {
              "color": "white"
             }
            },
            "header": {
             "fill": {
              "color": "#C8D4E3"
             },
             "line": {
              "color": "white"
             }
            },
            "type": "table"
           }
          ]
         },
         "layout": {
          "annotationdefaults": {
           "arrowcolor": "#2a3f5f",
           "arrowhead": 0,
           "arrowwidth": 1
          },
          "autotypenumbers": "strict",
          "coloraxis": {
           "colorbar": {
            "outlinewidth": 0,
            "ticks": ""
           }
          },
          "colorscale": {
           "diverging": [
            [
             0,
             "#8e0152"
            ],
            [
             0.1,
             "#c51b7d"
            ],
            [
             0.2,
             "#de77ae"
            ],
            [
             0.3,
             "#f1b6da"
            ],
            [
             0.4,
             "#fde0ef"
            ],
            [
             0.5,
             "#f7f7f7"
            ],
            [
             0.6,
             "#e6f5d0"
            ],
            [
             0.7,
             "#b8e186"
            ],
            [
             0.8,
             "#7fbc41"
            ],
            [
             0.9,
             "#4d9221"
            ],
            [
             1,
             "#276419"
            ]
           ],
           "sequential": [
            [
             0,
             "#0d0887"
            ],
            [
             0.1111111111111111,
             "#46039f"
            ],
            [
             0.2222222222222222,
             "#7201a8"
            ],
            [
             0.3333333333333333,
             "#9c179e"
            ],
            [
             0.4444444444444444,
             "#bd3786"
            ],
            [
             0.5555555555555556,
             "#d8576b"
            ],
            [
             0.6666666666666666,
             "#ed7953"
            ],
            [
             0.7777777777777778,
             "#fb9f3a"
            ],
            [
             0.8888888888888888,
             "#fdca26"
            ],
            [
             1,
             "#f0f921"
            ]
           ],
           "sequentialminus": [
            [
             0,
             "#0d0887"
            ],
            [
             0.1111111111111111,
             "#46039f"
            ],
            [
             0.2222222222222222,
             "#7201a8"
            ],
            [
             0.3333333333333333,
             "#9c179e"
            ],
            [
             0.4444444444444444,
             "#bd3786"
            ],
            [
             0.5555555555555556,
             "#d8576b"
            ],
            [
             0.6666666666666666,
             "#ed7953"
            ],
            [
             0.7777777777777778,
             "#fb9f3a"
            ],
            [
             0.8888888888888888,
             "#fdca26"
            ],
            [
             1,
             "#f0f921"
            ]
           ]
          },
          "colorway": [
           "#636efa",
           "#EF553B",
           "#00cc96",
           "#ab63fa",
           "#FFA15A",
           "#19d3f3",
           "#FF6692",
           "#B6E880",
           "#FF97FF",
           "#FECB52"
          ],
          "font": {
           "color": "#2a3f5f"
          },
          "geo": {
           "bgcolor": "white",
           "lakecolor": "white",
           "landcolor": "#E5ECF6",
           "showlakes": true,
           "showland": true,
           "subunitcolor": "white"
          },
          "hoverlabel": {
           "align": "left"
          },
          "hovermode": "closest",
          "mapbox": {
           "style": "light"
          },
          "paper_bgcolor": "white",
          "plot_bgcolor": "#E5ECF6",
          "polar": {
           "angularaxis": {
            "gridcolor": "white",
            "linecolor": "white",
            "ticks": ""
           },
           "bgcolor": "#E5ECF6",
           "radialaxis": {
            "gridcolor": "white",
            "linecolor": "white",
            "ticks": ""
           }
          },
          "scene": {
           "xaxis": {
            "backgroundcolor": "#E5ECF6",
            "gridcolor": "white",
            "gridwidth": 2,
            "linecolor": "white",
            "showbackground": true,
            "ticks": "",
            "zerolinecolor": "white"
           },
           "yaxis": {
            "backgroundcolor": "#E5ECF6",
            "gridcolor": "white",
            "gridwidth": 2,
            "linecolor": "white",
            "showbackground": true,
            "ticks": "",
            "zerolinecolor": "white"
           },
           "zaxis": {
            "backgroundcolor": "#E5ECF6",
            "gridcolor": "white",
            "gridwidth": 2,
            "linecolor": "white",
            "showbackground": true,
            "ticks": "",
            "zerolinecolor": "white"
           }
          },
          "shapedefaults": {
           "line": {
            "color": "#2a3f5f"
           }
          },
          "ternary": {
           "aaxis": {
            "gridcolor": "white",
            "linecolor": "white",
            "ticks": ""
           },
           "baxis": {
            "gridcolor": "white",
            "linecolor": "white",
            "ticks": ""
           },
           "bgcolor": "#E5ECF6",
           "caxis": {
            "gridcolor": "white",
            "linecolor": "white",
            "ticks": ""
           }
          },
          "title": {
           "x": 0.05
          },
          "xaxis": {
           "automargin": true,
           "gridcolor": "white",
           "linecolor": "white",
           "ticks": "",
           "title": {
            "standoff": 15
           },
           "zerolinecolor": "white",
           "zerolinewidth": 2
          },
          "yaxis": {
           "automargin": true,
           "gridcolor": "white",
           "linecolor": "white",
           "ticks": "",
           "title": {
            "standoff": 15
           },
           "zerolinecolor": "white",
           "zerolinewidth": 2
          }
         }
        },
        "width": 600,
        "xaxis": {
         "anchor": "y",
         "domain": [
          0,
          1
         ],
         "title": {
          "text": "Method"
         }
        },
        "yaxis": {
         "anchor": "x",
         "domain": [
          0,
          1
         ],
         "title": {
          "text": "Latency Client to Server (s)"
         }
        }
       }
      }
     },
     "metadata": {},
     "output_type": "display_data"
    },
    {
     "data": {
      "application/vnd.plotly.v1+json": {
       "config": {
        "plotlyServerURL": "https://plot.ly"
       },
       "data": [
        {
         "alignmentgroup": "True",
         "error_y": {
          "array": [
           204.25600159658256,
           526.1780087038584,
           28.461410177242342
          ]
         },
         "hovertemplate": "method_name=%{x}<br>time_total_mean=%{y}<extra></extra>",
         "legendgroup": "",
         "marker": {
          "color": "#636efa",
          "pattern": {
           "shape": ""
          }
         },
         "name": "",
         "offsetgroup": "",
         "orientation": "v",
         "showlegend": false,
         "textposition": "auto",
         "type": "bar",
         "x": [
          "Non-split ",
          "Split A ",
          "Split A (C/D)"
         ],
         "xaxis": "x",
         "y": [
          9299.43274307251,
          11628.575856129328,
          6145.948874473572
         ],
         "yaxis": "y"
        }
       ],
       "layout": {
        "barmode": "group",
        "font": {
         "size": 18
        },
        "height": 400,
        "hovermode": "x",
        "legend": {
         "title": {},
         "tracegroupgap": 0
        },
        "margin": {
         "t": 60
        },
        "template": {
         "data": {
          "bar": [
           {
            "error_x": {
             "color": "#2a3f5f"
            },
            "error_y": {
             "color": "#2a3f5f"
            },
            "marker": {
             "line": {
              "color": "#E5ECF6",
              "width": 0.5
             },
             "pattern": {
              "fillmode": "overlay",
              "size": 10,
              "solidity": 0.2
             }
            },
            "type": "bar"
           }
          ],
          "barpolar": [
           {
            "marker": {
             "line": {
              "color": "#E5ECF6",
              "width": 0.5
             },
             "pattern": {
              "fillmode": "overlay",
              "size": 10,
              "solidity": 0.2
             }
            },
            "type": "barpolar"
           }
          ],
          "carpet": [
           {
            "aaxis": {
             "endlinecolor": "#2a3f5f",
             "gridcolor": "white",
             "linecolor": "white",
             "minorgridcolor": "white",
             "startlinecolor": "#2a3f5f"
            },
            "baxis": {
             "endlinecolor": "#2a3f5f",
             "gridcolor": "white",
             "linecolor": "white",
             "minorgridcolor": "white",
             "startlinecolor": "#2a3f5f"
            },
            "type": "carpet"
           }
          ],
          "choropleth": [
           {
            "colorbar": {
             "outlinewidth": 0,
             "ticks": ""
            },
            "type": "choropleth"
           }
          ],
          "contour": [
           {
            "colorbar": {
             "outlinewidth": 0,
             "ticks": ""
            },
            "colorscale": [
             [
              0,
              "#0d0887"
             ],
             [
              0.1111111111111111,
              "#46039f"
             ],
             [
              0.2222222222222222,
              "#7201a8"
             ],
             [
              0.3333333333333333,
              "#9c179e"
             ],
             [
              0.4444444444444444,
              "#bd3786"
             ],
             [
              0.5555555555555556,
              "#d8576b"
             ],
             [
              0.6666666666666666,
              "#ed7953"
             ],
             [
              0.7777777777777778,
              "#fb9f3a"
             ],
             [
              0.8888888888888888,
              "#fdca26"
             ],
             [
              1,
              "#f0f921"
             ]
            ],
            "type": "contour"
           }
          ],
          "contourcarpet": [
           {
            "colorbar": {
             "outlinewidth": 0,
             "ticks": ""
            },
            "type": "contourcarpet"
           }
          ],
          "heatmap": [
           {
            "colorbar": {
             "outlinewidth": 0,
             "ticks": ""
            },
            "colorscale": [
             [
              0,
              "#0d0887"
             ],
             [
              0.1111111111111111,
              "#46039f"
             ],
             [
              0.2222222222222222,
              "#7201a8"
             ],
             [
              0.3333333333333333,
              "#9c179e"
             ],
             [
              0.4444444444444444,
              "#bd3786"
             ],
             [
              0.5555555555555556,
              "#d8576b"
             ],
             [
              0.6666666666666666,
              "#ed7953"
             ],
             [
              0.7777777777777778,
              "#fb9f3a"
             ],
             [
              0.8888888888888888,
              "#fdca26"
             ],
             [
              1,
              "#f0f921"
             ]
            ],
            "type": "heatmap"
           }
          ],
          "heatmapgl": [
           {
            "colorbar": {
             "outlinewidth": 0,
             "ticks": ""
            },
            "colorscale": [
             [
              0,
              "#0d0887"
             ],
             [
              0.1111111111111111,
              "#46039f"
             ],
             [
              0.2222222222222222,
              "#7201a8"
             ],
             [
              0.3333333333333333,
              "#9c179e"
             ],
             [
              0.4444444444444444,
              "#bd3786"
             ],
             [
              0.5555555555555556,
              "#d8576b"
             ],
             [
              0.6666666666666666,
              "#ed7953"
             ],
             [
              0.7777777777777778,
              "#fb9f3a"
             ],
             [
              0.8888888888888888,
              "#fdca26"
             ],
             [
              1,
              "#f0f921"
             ]
            ],
            "type": "heatmapgl"
           }
          ],
          "histogram": [
           {
            "marker": {
             "pattern": {
              "fillmode": "overlay",
              "size": 10,
              "solidity": 0.2
             }
            },
            "type": "histogram"
           }
          ],
          "histogram2d": [
           {
            "colorbar": {
             "outlinewidth": 0,
             "ticks": ""
            },
            "colorscale": [
             [
              0,
              "#0d0887"
             ],
             [
              0.1111111111111111,
              "#46039f"
             ],
             [
              0.2222222222222222,
              "#7201a8"
             ],
             [
              0.3333333333333333,
              "#9c179e"
             ],
             [
              0.4444444444444444,
              "#bd3786"
             ],
             [
              0.5555555555555556,
              "#d8576b"
             ],
             [
              0.6666666666666666,
              "#ed7953"
             ],
             [
              0.7777777777777778,
              "#fb9f3a"
             ],
             [
              0.8888888888888888,
              "#fdca26"
             ],
             [
              1,
              "#f0f921"
             ]
            ],
            "type": "histogram2d"
           }
          ],
          "histogram2dcontour": [
           {
            "colorbar": {
             "outlinewidth": 0,
             "ticks": ""
            },
            "colorscale": [
             [
              0,
              "#0d0887"
             ],
             [
              0.1111111111111111,
              "#46039f"
             ],
             [
              0.2222222222222222,
              "#7201a8"
             ],
             [
              0.3333333333333333,
              "#9c179e"
             ],
             [
              0.4444444444444444,
              "#bd3786"
             ],
             [
              0.5555555555555556,
              "#d8576b"
             ],
             [
              0.6666666666666666,
              "#ed7953"
             ],
             [
              0.7777777777777778,
              "#fb9f3a"
             ],
             [
              0.8888888888888888,
              "#fdca26"
             ],
             [
              1,
              "#f0f921"
             ]
            ],
            "type": "histogram2dcontour"
           }
          ],
          "mesh3d": [
           {
            "colorbar": {
             "outlinewidth": 0,
             "ticks": ""
            },
            "type": "mesh3d"
           }
          ],
          "parcoords": [
           {
            "line": {
             "colorbar": {
              "outlinewidth": 0,
              "ticks": ""
             }
            },
            "type": "parcoords"
           }
          ],
          "pie": [
           {
            "automargin": true,
            "type": "pie"
           }
          ],
          "scatter": [
           {
            "fillpattern": {
             "fillmode": "overlay",
             "size": 10,
             "solidity": 0.2
            },
            "type": "scatter"
           }
          ],
          "scatter3d": [
           {
            "line": {
             "colorbar": {
              "outlinewidth": 0,
              "ticks": ""
             }
            },
            "marker": {
             "colorbar": {
              "outlinewidth": 0,
              "ticks": ""
             }
            },
            "type": "scatter3d"
           }
          ],
          "scattercarpet": [
           {
            "marker": {
             "colorbar": {
              "outlinewidth": 0,
              "ticks": ""
             }
            },
            "type": "scattercarpet"
           }
          ],
          "scattergeo": [
           {
            "marker": {
             "colorbar": {
              "outlinewidth": 0,
              "ticks": ""
             }
            },
            "type": "scattergeo"
           }
          ],
          "scattergl": [
           {
            "marker": {
             "colorbar": {
              "outlinewidth": 0,
              "ticks": ""
             }
            },
            "type": "scattergl"
           }
          ],
          "scattermapbox": [
           {
            "marker": {
             "colorbar": {
              "outlinewidth": 0,
              "ticks": ""
             }
            },
            "type": "scattermapbox"
           }
          ],
          "scatterpolar": [
           {
            "marker": {
             "colorbar": {
              "outlinewidth": 0,
              "ticks": ""
             }
            },
            "type": "scatterpolar"
           }
          ],
          "scatterpolargl": [
           {
            "marker": {
             "colorbar": {
              "outlinewidth": 0,
              "ticks": ""
             }
            },
            "type": "scatterpolargl"
           }
          ],
          "scatterternary": [
           {
            "marker": {
             "colorbar": {
              "outlinewidth": 0,
              "ticks": ""
             }
            },
            "type": "scatterternary"
           }
          ],
          "surface": [
           {
            "colorbar": {
             "outlinewidth": 0,
             "ticks": ""
            },
            "colorscale": [
             [
              0,
              "#0d0887"
             ],
             [
              0.1111111111111111,
              "#46039f"
             ],
             [
              0.2222222222222222,
              "#7201a8"
             ],
             [
              0.3333333333333333,
              "#9c179e"
             ],
             [
              0.4444444444444444,
              "#bd3786"
             ],
             [
              0.5555555555555556,
              "#d8576b"
             ],
             [
              0.6666666666666666,
              "#ed7953"
             ],
             [
              0.7777777777777778,
              "#fb9f3a"
             ],
             [
              0.8888888888888888,
              "#fdca26"
             ],
             [
              1,
              "#f0f921"
             ]
            ],
            "type": "surface"
           }
          ],
          "table": [
           {
            "cells": {
             "fill": {
              "color": "#EBF0F8"
             },
             "line": {
              "color": "white"
             }
            },
            "header": {
             "fill": {
              "color": "#C8D4E3"
             },
             "line": {
              "color": "white"
             }
            },
            "type": "table"
           }
          ]
         },
         "layout": {
          "annotationdefaults": {
           "arrowcolor": "#2a3f5f",
           "arrowhead": 0,
           "arrowwidth": 1
          },
          "autotypenumbers": "strict",
          "coloraxis": {
           "colorbar": {
            "outlinewidth": 0,
            "ticks": ""
           }
          },
          "colorscale": {
           "diverging": [
            [
             0,
             "#8e0152"
            ],
            [
             0.1,
             "#c51b7d"
            ],
            [
             0.2,
             "#de77ae"
            ],
            [
             0.3,
             "#f1b6da"
            ],
            [
             0.4,
             "#fde0ef"
            ],
            [
             0.5,
             "#f7f7f7"
            ],
            [
             0.6,
             "#e6f5d0"
            ],
            [
             0.7,
             "#b8e186"
            ],
            [
             0.8,
             "#7fbc41"
            ],
            [
             0.9,
             "#4d9221"
            ],
            [
             1,
             "#276419"
            ]
           ],
           "sequential": [
            [
             0,
             "#0d0887"
            ],
            [
             0.1111111111111111,
             "#46039f"
            ],
            [
             0.2222222222222222,
             "#7201a8"
            ],
            [
             0.3333333333333333,
             "#9c179e"
            ],
            [
             0.4444444444444444,
             "#bd3786"
            ],
            [
             0.5555555555555556,
             "#d8576b"
            ],
            [
             0.6666666666666666,
             "#ed7953"
            ],
            [
             0.7777777777777778,
             "#fb9f3a"
            ],
            [
             0.8888888888888888,
             "#fdca26"
            ],
            [
             1,
             "#f0f921"
            ]
           ],
           "sequentialminus": [
            [
             0,
             "#0d0887"
            ],
            [
             0.1111111111111111,
             "#46039f"
            ],
            [
             0.2222222222222222,
             "#7201a8"
            ],
            [
             0.3333333333333333,
             "#9c179e"
            ],
            [
             0.4444444444444444,
             "#bd3786"
            ],
            [
             0.5555555555555556,
             "#d8576b"
            ],
            [
             0.6666666666666666,
             "#ed7953"
            ],
            [
             0.7777777777777778,
             "#fb9f3a"
            ],
            [
             0.8888888888888888,
             "#fdca26"
            ],
            [
             1,
             "#f0f921"
            ]
           ]
          },
          "colorway": [
           "#636efa",
           "#EF553B",
           "#00cc96",
           "#ab63fa",
           "#FFA15A",
           "#19d3f3",
           "#FF6692",
           "#B6E880",
           "#FF97FF",
           "#FECB52"
          ],
          "font": {
           "color": "#2a3f5f"
          },
          "geo": {
           "bgcolor": "white",
           "lakecolor": "white",
           "landcolor": "#E5ECF6",
           "showlakes": true,
           "showland": true,
           "subunitcolor": "white"
          },
          "hoverlabel": {
           "align": "left"
          },
          "hovermode": "closest",
          "mapbox": {
           "style": "light"
          },
          "paper_bgcolor": "white",
          "plot_bgcolor": "#E5ECF6",
          "polar": {
           "angularaxis": {
            "gridcolor": "white",
            "linecolor": "white",
            "ticks": ""
           },
           "bgcolor": "#E5ECF6",
           "radialaxis": {
            "gridcolor": "white",
            "linecolor": "white",
            "ticks": ""
           }
          },
          "scene": {
           "xaxis": {
            "backgroundcolor": "#E5ECF6",
            "gridcolor": "white",
            "gridwidth": 2,
            "linecolor": "white",
            "showbackground": true,
            "ticks": "",
            "zerolinecolor": "white"
           },
           "yaxis": {
            "backgroundcolor": "#E5ECF6",
            "gridcolor": "white",
            "gridwidth": 2,
            "linecolor": "white",
            "showbackground": true,
            "ticks": "",
            "zerolinecolor": "white"
           },
           "zaxis": {
            "backgroundcolor": "#E5ECF6",
            "gridcolor": "white",
            "gridwidth": 2,
            "linecolor": "white",
            "showbackground": true,
            "ticks": "",
            "zerolinecolor": "white"
           }
          },
          "shapedefaults": {
           "line": {
            "color": "#2a3f5f"
           }
          },
          "ternary": {
           "aaxis": {
            "gridcolor": "white",
            "linecolor": "white",
            "ticks": ""
           },
           "baxis": {
            "gridcolor": "white",
            "linecolor": "white",
            "ticks": ""
           },
           "bgcolor": "#E5ECF6",
           "caxis": {
            "gridcolor": "white",
            "linecolor": "white",
            "ticks": ""
           }
          },
          "title": {
           "x": 0.05
          },
          "xaxis": {
           "automargin": true,
           "gridcolor": "white",
           "linecolor": "white",
           "ticks": "",
           "title": {
            "standoff": 15
           },
           "zerolinecolor": "white",
           "zerolinewidth": 2
          },
          "yaxis": {
           "automargin": true,
           "gridcolor": "white",
           "linecolor": "white",
           "ticks": "",
           "title": {
            "standoff": 15
           },
           "zerolinecolor": "white",
           "zerolinewidth": 2
          }
         }
        },
        "width": 600,
        "xaxis": {
         "anchor": "y",
         "domain": [
          0,
          1
         ],
         "title": {
          "text": "Method"
         }
        },
        "yaxis": {
         "anchor": "x",
         "domain": [
          0,
          1
         ],
         "title": {
          "text": "Total Time (s)"
         }
        }
       }
      }
     },
     "metadata": {},
     "output_type": "display_data"
    },
    {
     "data": {
      "application/vnd.plotly.v1+json": {
       "config": {
        "plotlyServerURL": "https://plot.ly"
       },
       "data": [
        {
         "alignmentgroup": "True",
         "error_y": {
          "array": [
           0.7418884382444416,
           1.6826476453192485
          ]
         },
         "hovertemplate": "method_name=%{x}<br>time_server_compression_decompression_mean=%{y}<extra></extra>",
         "legendgroup": "",
         "marker": {
          "color": "#636efa",
          "pattern": {
           "shape": ""
          }
         },
         "name": "",
         "offsetgroup": "",
         "orientation": "v",
         "showlegend": false,
         "textposition": "auto",
         "type": "bar",
         "x": [
          "Split A ",
          "Split A (C/D)"
         ],
         "xaxis": "x",
         "y": [
          49.8129407564799,
          249.84923640886942
         ],
         "yaxis": "y"
        }
       ],
       "layout": {
        "barmode": "group",
        "font": {
         "size": 18
        },
        "height": 400,
        "hovermode": "x",
        "legend": {
         "title": {},
         "tracegroupgap": 0
        },
        "margin": {
         "t": 60
        },
        "template": {
         "data": {
          "bar": [
           {
            "error_x": {
             "color": "#2a3f5f"
            },
            "error_y": {
             "color": "#2a3f5f"
            },
            "marker": {
             "line": {
              "color": "#E5ECF6",
              "width": 0.5
             },
             "pattern": {
              "fillmode": "overlay",
              "size": 10,
              "solidity": 0.2
             }
            },
            "type": "bar"
           }
          ],
          "barpolar": [
           {
            "marker": {
             "line": {
              "color": "#E5ECF6",
              "width": 0.5
             },
             "pattern": {
              "fillmode": "overlay",
              "size": 10,
              "solidity": 0.2
             }
            },
            "type": "barpolar"
           }
          ],
          "carpet": [
           {
            "aaxis": {
             "endlinecolor": "#2a3f5f",
             "gridcolor": "white",
             "linecolor": "white",
             "minorgridcolor": "white",
             "startlinecolor": "#2a3f5f"
            },
            "baxis": {
             "endlinecolor": "#2a3f5f",
             "gridcolor": "white",
             "linecolor": "white",
             "minorgridcolor": "white",
             "startlinecolor": "#2a3f5f"
            },
            "type": "carpet"
           }
          ],
          "choropleth": [
           {
            "colorbar": {
             "outlinewidth": 0,
             "ticks": ""
            },
            "type": "choropleth"
           }
          ],
          "contour": [
           {
            "colorbar": {
             "outlinewidth": 0,
             "ticks": ""
            },
            "colorscale": [
             [
              0,
              "#0d0887"
             ],
             [
              0.1111111111111111,
              "#46039f"
             ],
             [
              0.2222222222222222,
              "#7201a8"
             ],
             [
              0.3333333333333333,
              "#9c179e"
             ],
             [
              0.4444444444444444,
              "#bd3786"
             ],
             [
              0.5555555555555556,
              "#d8576b"
             ],
             [
              0.6666666666666666,
              "#ed7953"
             ],
             [
              0.7777777777777778,
              "#fb9f3a"
             ],
             [
              0.8888888888888888,
              "#fdca26"
             ],
             [
              1,
              "#f0f921"
             ]
            ],
            "type": "contour"
           }
          ],
          "contourcarpet": [
           {
            "colorbar": {
             "outlinewidth": 0,
             "ticks": ""
            },
            "type": "contourcarpet"
           }
          ],
          "heatmap": [
           {
            "colorbar": {
             "outlinewidth": 0,
             "ticks": ""
            },
            "colorscale": [
             [
              0,
              "#0d0887"
             ],
             [
              0.1111111111111111,
              "#46039f"
             ],
             [
              0.2222222222222222,
              "#7201a8"
             ],
             [
              0.3333333333333333,
              "#9c179e"
             ],
             [
              0.4444444444444444,
              "#bd3786"
             ],
             [
              0.5555555555555556,
              "#d8576b"
             ],
             [
              0.6666666666666666,
              "#ed7953"
             ],
             [
              0.7777777777777778,
              "#fb9f3a"
             ],
             [
              0.8888888888888888,
              "#fdca26"
             ],
             [
              1,
              "#f0f921"
             ]
            ],
            "type": "heatmap"
           }
          ],
          "heatmapgl": [
           {
            "colorbar": {
             "outlinewidth": 0,
             "ticks": ""
            },
            "colorscale": [
             [
              0,
              "#0d0887"
             ],
             [
              0.1111111111111111,
              "#46039f"
             ],
             [
              0.2222222222222222,
              "#7201a8"
             ],
             [
              0.3333333333333333,
              "#9c179e"
             ],
             [
              0.4444444444444444,
              "#bd3786"
             ],
             [
              0.5555555555555556,
              "#d8576b"
             ],
             [
              0.6666666666666666,
              "#ed7953"
             ],
             [
              0.7777777777777778,
              "#fb9f3a"
             ],
             [
              0.8888888888888888,
              "#fdca26"
             ],
             [
              1,
              "#f0f921"
             ]
            ],
            "type": "heatmapgl"
           }
          ],
          "histogram": [
           {
            "marker": {
             "pattern": {
              "fillmode": "overlay",
              "size": 10,
              "solidity": 0.2
             }
            },
            "type": "histogram"
           }
          ],
          "histogram2d": [
           {
            "colorbar": {
             "outlinewidth": 0,
             "ticks": ""
            },
            "colorscale": [
             [
              0,
              "#0d0887"
             ],
             [
              0.1111111111111111,
              "#46039f"
             ],
             [
              0.2222222222222222,
              "#7201a8"
             ],
             [
              0.3333333333333333,
              "#9c179e"
             ],
             [
              0.4444444444444444,
              "#bd3786"
             ],
             [
              0.5555555555555556,
              "#d8576b"
             ],
             [
              0.6666666666666666,
              "#ed7953"
             ],
             [
              0.7777777777777778,
              "#fb9f3a"
             ],
             [
              0.8888888888888888,
              "#fdca26"
             ],
             [
              1,
              "#f0f921"
             ]
            ],
            "type": "histogram2d"
           }
          ],
          "histogram2dcontour": [
           {
            "colorbar": {
             "outlinewidth": 0,
             "ticks": ""
            },
            "colorscale": [
             [
              0,
              "#0d0887"
             ],
             [
              0.1111111111111111,
              "#46039f"
             ],
             [
              0.2222222222222222,
              "#7201a8"
             ],
             [
              0.3333333333333333,
              "#9c179e"
             ],
             [
              0.4444444444444444,
              "#bd3786"
             ],
             [
              0.5555555555555556,
              "#d8576b"
             ],
             [
              0.6666666666666666,
              "#ed7953"
             ],
             [
              0.7777777777777778,
              "#fb9f3a"
             ],
             [
              0.8888888888888888,
              "#fdca26"
             ],
             [
              1,
              "#f0f921"
             ]
            ],
            "type": "histogram2dcontour"
           }
          ],
          "mesh3d": [
           {
            "colorbar": {
             "outlinewidth": 0,
             "ticks": ""
            },
            "type": "mesh3d"
           }
          ],
          "parcoords": [
           {
            "line": {
             "colorbar": {
              "outlinewidth": 0,
              "ticks": ""
             }
            },
            "type": "parcoords"
           }
          ],
          "pie": [
           {
            "automargin": true,
            "type": "pie"
           }
          ],
          "scatter": [
           {
            "fillpattern": {
             "fillmode": "overlay",
             "size": 10,
             "solidity": 0.2
            },
            "type": "scatter"
           }
          ],
          "scatter3d": [
           {
            "line": {
             "colorbar": {
              "outlinewidth": 0,
              "ticks": ""
             }
            },
            "marker": {
             "colorbar": {
              "outlinewidth": 0,
              "ticks": ""
             }
            },
            "type": "scatter3d"
           }
          ],
          "scattercarpet": [
           {
            "marker": {
             "colorbar": {
              "outlinewidth": 0,
              "ticks": ""
             }
            },
            "type": "scattercarpet"
           }
          ],
          "scattergeo": [
           {
            "marker": {
             "colorbar": {
              "outlinewidth": 0,
              "ticks": ""
             }
            },
            "type": "scattergeo"
           }
          ],
          "scattergl": [
           {
            "marker": {
             "colorbar": {
              "outlinewidth": 0,
              "ticks": ""
             }
            },
            "type": "scattergl"
           }
          ],
          "scattermapbox": [
           {
            "marker": {
             "colorbar": {
              "outlinewidth": 0,
              "ticks": ""
             }
            },
            "type": "scattermapbox"
           }
          ],
          "scatterpolar": [
           {
            "marker": {
             "colorbar": {
              "outlinewidth": 0,
              "ticks": ""
             }
            },
            "type": "scatterpolar"
           }
          ],
          "scatterpolargl": [
           {
            "marker": {
             "colorbar": {
              "outlinewidth": 0,
              "ticks": ""
             }
            },
            "type": "scatterpolargl"
           }
          ],
          "scatterternary": [
           {
            "marker": {
             "colorbar": {
              "outlinewidth": 0,
              "ticks": ""
             }
            },
            "type": "scatterternary"
           }
          ],
          "surface": [
           {
            "colorbar": {
             "outlinewidth": 0,
             "ticks": ""
            },
            "colorscale": [
             [
              0,
              "#0d0887"
             ],
             [
              0.1111111111111111,
              "#46039f"
             ],
             [
              0.2222222222222222,
              "#7201a8"
             ],
             [
              0.3333333333333333,
              "#9c179e"
             ],
             [
              0.4444444444444444,
              "#bd3786"
             ],
             [
              0.5555555555555556,
              "#d8576b"
             ],
             [
              0.6666666666666666,
              "#ed7953"
             ],
             [
              0.7777777777777778,
              "#fb9f3a"
             ],
             [
              0.8888888888888888,
              "#fdca26"
             ],
             [
              1,
              "#f0f921"
             ]
            ],
            "type": "surface"
           }
          ],
          "table": [
           {
            "cells": {
             "fill": {
              "color": "#EBF0F8"
             },
             "line": {
              "color": "white"
             }
            },
            "header": {
             "fill": {
              "color": "#C8D4E3"
             },
             "line": {
              "color": "white"
             }
            },
            "type": "table"
           }
          ]
         },
         "layout": {
          "annotationdefaults": {
           "arrowcolor": "#2a3f5f",
           "arrowhead": 0,
           "arrowwidth": 1
          },
          "autotypenumbers": "strict",
          "coloraxis": {
           "colorbar": {
            "outlinewidth": 0,
            "ticks": ""
           }
          },
          "colorscale": {
           "diverging": [
            [
             0,
             "#8e0152"
            ],
            [
             0.1,
             "#c51b7d"
            ],
            [
             0.2,
             "#de77ae"
            ],
            [
             0.3,
             "#f1b6da"
            ],
            [
             0.4,
             "#fde0ef"
            ],
            [
             0.5,
             "#f7f7f7"
            ],
            [
             0.6,
             "#e6f5d0"
            ],
            [
             0.7,
             "#b8e186"
            ],
            [
             0.8,
             "#7fbc41"
            ],
            [
             0.9,
             "#4d9221"
            ],
            [
             1,
             "#276419"
            ]
           ],
           "sequential": [
            [
             0,
             "#0d0887"
            ],
            [
             0.1111111111111111,
             "#46039f"
            ],
            [
             0.2222222222222222,
             "#7201a8"
            ],
            [
             0.3333333333333333,
             "#9c179e"
            ],
            [
             0.4444444444444444,
             "#bd3786"
            ],
            [
             0.5555555555555556,
             "#d8576b"
            ],
            [
             0.6666666666666666,
             "#ed7953"
            ],
            [
             0.7777777777777778,
             "#fb9f3a"
            ],
            [
             0.8888888888888888,
             "#fdca26"
            ],
            [
             1,
             "#f0f921"
            ]
           ],
           "sequentialminus": [
            [
             0,
             "#0d0887"
            ],
            [
             0.1111111111111111,
             "#46039f"
            ],
            [
             0.2222222222222222,
             "#7201a8"
            ],
            [
             0.3333333333333333,
             "#9c179e"
            ],
            [
             0.4444444444444444,
             "#bd3786"
            ],
            [
             0.5555555555555556,
             "#d8576b"
            ],
            [
             0.6666666666666666,
             "#ed7953"
            ],
            [
             0.7777777777777778,
             "#fb9f3a"
            ],
            [
             0.8888888888888888,
             "#fdca26"
            ],
            [
             1,
             "#f0f921"
            ]
           ]
          },
          "colorway": [
           "#636efa",
           "#EF553B",
           "#00cc96",
           "#ab63fa",
           "#FFA15A",
           "#19d3f3",
           "#FF6692",
           "#B6E880",
           "#FF97FF",
           "#FECB52"
          ],
          "font": {
           "color": "#2a3f5f"
          },
          "geo": {
           "bgcolor": "white",
           "lakecolor": "white",
           "landcolor": "#E5ECF6",
           "showlakes": true,
           "showland": true,
           "subunitcolor": "white"
          },
          "hoverlabel": {
           "align": "left"
          },
          "hovermode": "closest",
          "mapbox": {
           "style": "light"
          },
          "paper_bgcolor": "white",
          "plot_bgcolor": "#E5ECF6",
          "polar": {
           "angularaxis": {
            "gridcolor": "white",
            "linecolor": "white",
            "ticks": ""
           },
           "bgcolor": "#E5ECF6",
           "radialaxis": {
            "gridcolor": "white",
            "linecolor": "white",
            "ticks": ""
           }
          },
          "scene": {
           "xaxis": {
            "backgroundcolor": "#E5ECF6",
            "gridcolor": "white",
            "gridwidth": 2,
            "linecolor": "white",
            "showbackground": true,
            "ticks": "",
            "zerolinecolor": "white"
           },
           "yaxis": {
            "backgroundcolor": "#E5ECF6",
            "gridcolor": "white",
            "gridwidth": 2,
            "linecolor": "white",
            "showbackground": true,
            "ticks": "",
            "zerolinecolor": "white"
           },
           "zaxis": {
            "backgroundcolor": "#E5ECF6",
            "gridcolor": "white",
            "gridwidth": 2,
            "linecolor": "white",
            "showbackground": true,
            "ticks": "",
            "zerolinecolor": "white"
           }
          },
          "shapedefaults": {
           "line": {
            "color": "#2a3f5f"
           }
          },
          "ternary": {
           "aaxis": {
            "gridcolor": "white",
            "linecolor": "white",
            "ticks": ""
           },
           "baxis": {
            "gridcolor": "white",
            "linecolor": "white",
            "ticks": ""
           },
           "bgcolor": "#E5ECF6",
           "caxis": {
            "gridcolor": "white",
            "linecolor": "white",
            "ticks": ""
           }
          },
          "title": {
           "x": 0.05
          },
          "xaxis": {
           "automargin": true,
           "gridcolor": "white",
           "linecolor": "white",
           "ticks": "",
           "title": {
            "standoff": 15
           },
           "zerolinecolor": "white",
           "zerolinewidth": 2
          },
          "yaxis": {
           "automargin": true,
           "gridcolor": "white",
           "linecolor": "white",
           "ticks": "",
           "title": {
            "standoff": 15
           },
           "zerolinecolor": "white",
           "zerolinewidth": 2
          }
         }
        },
        "width": 600,
        "xaxis": {
         "anchor": "y",
         "domain": [
          0,
          1
         ],
         "title": {
          "text": "Method"
         }
        },
        "yaxis": {
         "anchor": "x",
         "domain": [
          0,
          1
         ],
         "title": {
          "text": "(De)Compression Server (s)"
         }
        }
       }
      }
     },
     "metadata": {},
     "output_type": "display_data"
    },
    {
     "data": {
      "application/vnd.plotly.v1+json": {
       "config": {
        "plotlyServerURL": "https://plot.ly"
       },
       "data": [
        {
         "alignmentgroup": "True",
         "error_y": {
          "array": [
           0.3920182980278862,
           3.515108622938542
          ]
         },
         "hovertemplate": "method_name=%{x}<br>time_client_compression_decompression_mean=%{y}<extra></extra>",
         "legendgroup": "",
         "marker": {
          "color": "#636efa",
          "pattern": {
           "shape": ""
          }
         },
         "name": "",
         "offsetgroup": "",
         "orientation": "v",
         "showlegend": false,
         "textposition": "auto",
         "type": "bar",
         "x": [
          "Split A ",
          "Split A (C/D)"
         ],
         "xaxis": "x",
         "y": [
          11.574568986892695,
          249.62699945767721
         ],
         "yaxis": "y"
        }
       ],
       "layout": {
        "barmode": "group",
        "font": {
         "size": 18
        },
        "height": 400,
        "hovermode": "x",
        "legend": {
         "title": {},
         "tracegroupgap": 0
        },
        "margin": {
         "t": 60
        },
        "template": {
         "data": {
          "bar": [
           {
            "error_x": {
             "color": "#2a3f5f"
            },
            "error_y": {
             "color": "#2a3f5f"
            },
            "marker": {
             "line": {
              "color": "#E5ECF6",
              "width": 0.5
             },
             "pattern": {
              "fillmode": "overlay",
              "size": 10,
              "solidity": 0.2
             }
            },
            "type": "bar"
           }
          ],
          "barpolar": [
           {
            "marker": {
             "line": {
              "color": "#E5ECF6",
              "width": 0.5
             },
             "pattern": {
              "fillmode": "overlay",
              "size": 10,
              "solidity": 0.2
             }
            },
            "type": "barpolar"
           }
          ],
          "carpet": [
           {
            "aaxis": {
             "endlinecolor": "#2a3f5f",
             "gridcolor": "white",
             "linecolor": "white",
             "minorgridcolor": "white",
             "startlinecolor": "#2a3f5f"
            },
            "baxis": {
             "endlinecolor": "#2a3f5f",
             "gridcolor": "white",
             "linecolor": "white",
             "minorgridcolor": "white",
             "startlinecolor": "#2a3f5f"
            },
            "type": "carpet"
           }
          ],
          "choropleth": [
           {
            "colorbar": {
             "outlinewidth": 0,
             "ticks": ""
            },
            "type": "choropleth"
           }
          ],
          "contour": [
           {
            "colorbar": {
             "outlinewidth": 0,
             "ticks": ""
            },
            "colorscale": [
             [
              0,
              "#0d0887"
             ],
             [
              0.1111111111111111,
              "#46039f"
             ],
             [
              0.2222222222222222,
              "#7201a8"
             ],
             [
              0.3333333333333333,
              "#9c179e"
             ],
             [
              0.4444444444444444,
              "#bd3786"
             ],
             [
              0.5555555555555556,
              "#d8576b"
             ],
             [
              0.6666666666666666,
              "#ed7953"
             ],
             [
              0.7777777777777778,
              "#fb9f3a"
             ],
             [
              0.8888888888888888,
              "#fdca26"
             ],
             [
              1,
              "#f0f921"
             ]
            ],
            "type": "contour"
           }
          ],
          "contourcarpet": [
           {
            "colorbar": {
             "outlinewidth": 0,
             "ticks": ""
            },
            "type": "contourcarpet"
           }
          ],
          "heatmap": [
           {
            "colorbar": {
             "outlinewidth": 0,
             "ticks": ""
            },
            "colorscale": [
             [
              0,
              "#0d0887"
             ],
             [
              0.1111111111111111,
              "#46039f"
             ],
             [
              0.2222222222222222,
              "#7201a8"
             ],
             [
              0.3333333333333333,
              "#9c179e"
             ],
             [
              0.4444444444444444,
              "#bd3786"
             ],
             [
              0.5555555555555556,
              "#d8576b"
             ],
             [
              0.6666666666666666,
              "#ed7953"
             ],
             [
              0.7777777777777778,
              "#fb9f3a"
             ],
             [
              0.8888888888888888,
              "#fdca26"
             ],
             [
              1,
              "#f0f921"
             ]
            ],
            "type": "heatmap"
           }
          ],
          "heatmapgl": [
           {
            "colorbar": {
             "outlinewidth": 0,
             "ticks": ""
            },
            "colorscale": [
             [
              0,
              "#0d0887"
             ],
             [
              0.1111111111111111,
              "#46039f"
             ],
             [
              0.2222222222222222,
              "#7201a8"
             ],
             [
              0.3333333333333333,
              "#9c179e"
             ],
             [
              0.4444444444444444,
              "#bd3786"
             ],
             [
              0.5555555555555556,
              "#d8576b"
             ],
             [
              0.6666666666666666,
              "#ed7953"
             ],
             [
              0.7777777777777778,
              "#fb9f3a"
             ],
             [
              0.8888888888888888,
              "#fdca26"
             ],
             [
              1,
              "#f0f921"
             ]
            ],
            "type": "heatmapgl"
           }
          ],
          "histogram": [
           {
            "marker": {
             "pattern": {
              "fillmode": "overlay",
              "size": 10,
              "solidity": 0.2
             }
            },
            "type": "histogram"
           }
          ],
          "histogram2d": [
           {
            "colorbar": {
             "outlinewidth": 0,
             "ticks": ""
            },
            "colorscale": [
             [
              0,
              "#0d0887"
             ],
             [
              0.1111111111111111,
              "#46039f"
             ],
             [
              0.2222222222222222,
              "#7201a8"
             ],
             [
              0.3333333333333333,
              "#9c179e"
             ],
             [
              0.4444444444444444,
              "#bd3786"
             ],
             [
              0.5555555555555556,
              "#d8576b"
             ],
             [
              0.6666666666666666,
              "#ed7953"
             ],
             [
              0.7777777777777778,
              "#fb9f3a"
             ],
             [
              0.8888888888888888,
              "#fdca26"
             ],
             [
              1,
              "#f0f921"
             ]
            ],
            "type": "histogram2d"
           }
          ],
          "histogram2dcontour": [
           {
            "colorbar": {
             "outlinewidth": 0,
             "ticks": ""
            },
            "colorscale": [
             [
              0,
              "#0d0887"
             ],
             [
              0.1111111111111111,
              "#46039f"
             ],
             [
              0.2222222222222222,
              "#7201a8"
             ],
             [
              0.3333333333333333,
              "#9c179e"
             ],
             [
              0.4444444444444444,
              "#bd3786"
             ],
             [
              0.5555555555555556,
              "#d8576b"
             ],
             [
              0.6666666666666666,
              "#ed7953"
             ],
             [
              0.7777777777777778,
              "#fb9f3a"
             ],
             [
              0.8888888888888888,
              "#fdca26"
             ],
             [
              1,
              "#f0f921"
             ]
            ],
            "type": "histogram2dcontour"
           }
          ],
          "mesh3d": [
           {
            "colorbar": {
             "outlinewidth": 0,
             "ticks": ""
            },
            "type": "mesh3d"
           }
          ],
          "parcoords": [
           {
            "line": {
             "colorbar": {
              "outlinewidth": 0,
              "ticks": ""
             }
            },
            "type": "parcoords"
           }
          ],
          "pie": [
           {
            "automargin": true,
            "type": "pie"
           }
          ],
          "scatter": [
           {
            "fillpattern": {
             "fillmode": "overlay",
             "size": 10,
             "solidity": 0.2
            },
            "type": "scatter"
           }
          ],
          "scatter3d": [
           {
            "line": {
             "colorbar": {
              "outlinewidth": 0,
              "ticks": ""
             }
            },
            "marker": {
             "colorbar": {
              "outlinewidth": 0,
              "ticks": ""
             }
            },
            "type": "scatter3d"
           }
          ],
          "scattercarpet": [
           {
            "marker": {
             "colorbar": {
              "outlinewidth": 0,
              "ticks": ""
             }
            },
            "type": "scattercarpet"
           }
          ],
          "scattergeo": [
           {
            "marker": {
             "colorbar": {
              "outlinewidth": 0,
              "ticks": ""
             }
            },
            "type": "scattergeo"
           }
          ],
          "scattergl": [
           {
            "marker": {
             "colorbar": {
              "outlinewidth": 0,
              "ticks": ""
             }
            },
            "type": "scattergl"
           }
          ],
          "scattermapbox": [
           {
            "marker": {
             "colorbar": {
              "outlinewidth": 0,
              "ticks": ""
             }
            },
            "type": "scattermapbox"
           }
          ],
          "scatterpolar": [
           {
            "marker": {
             "colorbar": {
              "outlinewidth": 0,
              "ticks": ""
             }
            },
            "type": "scatterpolar"
           }
          ],
          "scatterpolargl": [
           {
            "marker": {
             "colorbar": {
              "outlinewidth": 0,
              "ticks": ""
             }
            },
            "type": "scatterpolargl"
           }
          ],
          "scatterternary": [
           {
            "marker": {
             "colorbar": {
              "outlinewidth": 0,
              "ticks": ""
             }
            },
            "type": "scatterternary"
           }
          ],
          "surface": [
           {
            "colorbar": {
             "outlinewidth": 0,
             "ticks": ""
            },
            "colorscale": [
             [
              0,
              "#0d0887"
             ],
             [
              0.1111111111111111,
              "#46039f"
             ],
             [
              0.2222222222222222,
              "#7201a8"
             ],
             [
              0.3333333333333333,
              "#9c179e"
             ],
             [
              0.4444444444444444,
              "#bd3786"
             ],
             [
              0.5555555555555556,
              "#d8576b"
             ],
             [
              0.6666666666666666,
              "#ed7953"
             ],
             [
              0.7777777777777778,
              "#fb9f3a"
             ],
             [
              0.8888888888888888,
              "#fdca26"
             ],
             [
              1,
              "#f0f921"
             ]
            ],
            "type": "surface"
           }
          ],
          "table": [
           {
            "cells": {
             "fill": {
              "color": "#EBF0F8"
             },
             "line": {
              "color": "white"
             }
            },
            "header": {
             "fill": {
              "color": "#C8D4E3"
             },
             "line": {
              "color": "white"
             }
            },
            "type": "table"
           }
          ]
         },
         "layout": {
          "annotationdefaults": {
           "arrowcolor": "#2a3f5f",
           "arrowhead": 0,
           "arrowwidth": 1
          },
          "autotypenumbers": "strict",
          "coloraxis": {
           "colorbar": {
            "outlinewidth": 0,
            "ticks": ""
           }
          },
          "colorscale": {
           "diverging": [
            [
             0,
             "#8e0152"
            ],
            [
             0.1,
             "#c51b7d"
            ],
            [
             0.2,
             "#de77ae"
            ],
            [
             0.3,
             "#f1b6da"
            ],
            [
             0.4,
             "#fde0ef"
            ],
            [
             0.5,
             "#f7f7f7"
            ],
            [
             0.6,
             "#e6f5d0"
            ],
            [
             0.7,
             "#b8e186"
            ],
            [
             0.8,
             "#7fbc41"
            ],
            [
             0.9,
             "#4d9221"
            ],
            [
             1,
             "#276419"
            ]
           ],
           "sequential": [
            [
             0,
             "#0d0887"
            ],
            [
             0.1111111111111111,
             "#46039f"
            ],
            [
             0.2222222222222222,
             "#7201a8"
            ],
            [
             0.3333333333333333,
             "#9c179e"
            ],
            [
             0.4444444444444444,
             "#bd3786"
            ],
            [
             0.5555555555555556,
             "#d8576b"
            ],
            [
             0.6666666666666666,
             "#ed7953"
            ],
            [
             0.7777777777777778,
             "#fb9f3a"
            ],
            [
             0.8888888888888888,
             "#fdca26"
            ],
            [
             1,
             "#f0f921"
            ]
           ],
           "sequentialminus": [
            [
             0,
             "#0d0887"
            ],
            [
             0.1111111111111111,
             "#46039f"
            ],
            [
             0.2222222222222222,
             "#7201a8"
            ],
            [
             0.3333333333333333,
             "#9c179e"
            ],
            [
             0.4444444444444444,
             "#bd3786"
            ],
            [
             0.5555555555555556,
             "#d8576b"
            ],
            [
             0.6666666666666666,
             "#ed7953"
            ],
            [
             0.7777777777777778,
             "#fb9f3a"
            ],
            [
             0.8888888888888888,
             "#fdca26"
            ],
            [
             1,
             "#f0f921"
            ]
           ]
          },
          "colorway": [
           "#636efa",
           "#EF553B",
           "#00cc96",
           "#ab63fa",
           "#FFA15A",
           "#19d3f3",
           "#FF6692",
           "#B6E880",
           "#FF97FF",
           "#FECB52"
          ],
          "font": {
           "color": "#2a3f5f"
          },
          "geo": {
           "bgcolor": "white",
           "lakecolor": "white",
           "landcolor": "#E5ECF6",
           "showlakes": true,
           "showland": true,
           "subunitcolor": "white"
          },
          "hoverlabel": {
           "align": "left"
          },
          "hovermode": "closest",
          "mapbox": {
           "style": "light"
          },
          "paper_bgcolor": "white",
          "plot_bgcolor": "#E5ECF6",
          "polar": {
           "angularaxis": {
            "gridcolor": "white",
            "linecolor": "white",
            "ticks": ""
           },
           "bgcolor": "#E5ECF6",
           "radialaxis": {
            "gridcolor": "white",
            "linecolor": "white",
            "ticks": ""
           }
          },
          "scene": {
           "xaxis": {
            "backgroundcolor": "#E5ECF6",
            "gridcolor": "white",
            "gridwidth": 2,
            "linecolor": "white",
            "showbackground": true,
            "ticks": "",
            "zerolinecolor": "white"
           },
           "yaxis": {
            "backgroundcolor": "#E5ECF6",
            "gridcolor": "white",
            "gridwidth": 2,
            "linecolor": "white",
            "showbackground": true,
            "ticks": "",
            "zerolinecolor": "white"
           },
           "zaxis": {
            "backgroundcolor": "#E5ECF6",
            "gridcolor": "white",
            "gridwidth": 2,
            "linecolor": "white",
            "showbackground": true,
            "ticks": "",
            "zerolinecolor": "white"
           }
          },
          "shapedefaults": {
           "line": {
            "color": "#2a3f5f"
           }
          },
          "ternary": {
           "aaxis": {
            "gridcolor": "white",
            "linecolor": "white",
            "ticks": ""
           },
           "baxis": {
            "gridcolor": "white",
            "linecolor": "white",
            "ticks": ""
           },
           "bgcolor": "#E5ECF6",
           "caxis": {
            "gridcolor": "white",
            "linecolor": "white",
            "ticks": ""
           }
          },
          "title": {
           "x": 0.05
          },
          "xaxis": {
           "automargin": true,
           "gridcolor": "white",
           "linecolor": "white",
           "ticks": "",
           "title": {
            "standoff": 15
           },
           "zerolinecolor": "white",
           "zerolinewidth": 2
          },
          "yaxis": {
           "automargin": true,
           "gridcolor": "white",
           "linecolor": "white",
           "ticks": "",
           "title": {
            "standoff": 15
           },
           "zerolinecolor": "white",
           "zerolinewidth": 2
          }
         }
        },
        "width": 600,
        "xaxis": {
         "anchor": "y",
         "domain": [
          0,
          1
         ],
         "title": {
          "text": "Method"
         }
        },
        "yaxis": {
         "anchor": "x",
         "domain": [
          0,
          1
         ],
         "title": {
          "text": "(De)Compression Client (s)"
         }
        }
       }
      }
     },
     "metadata": {},
     "output_type": "display_data"
    },
    {
     "data": {
      "application/vnd.plotly.v1+json": {
       "config": {
        "plotlyServerURL": "https://plot.ly"
       },
       "data": [
        {
         "alignmentgroup": "True",
         "error_y": {
          "array": [
           137.04498991923458,
           409.130257069696,
           13.175992860554507
          ]
         },
         "hovertemplate": "method_name=%{x}<br>time_considered_mean=%{y}<extra></extra>",
         "legendgroup": "",
         "marker": {
          "color": "#636efa",
          "pattern": {
           "shape": ""
          }
         },
         "name": "",
         "offsetgroup": "",
         "orientation": "v",
         "showlegend": false,
         "textposition": "auto",
         "type": "bar",
         "x": [
          "Non-split ",
          "Split A ",
          "Split A (C/D)"
         ],
         "xaxis": "x",
         "y": [
          7636.889338811238,
          9158.309259255728,
          3771.17306860288
         ],
         "yaxis": "y"
        }
       ],
       "layout": {
        "barmode": "group",
        "font": {
         "size": 18
        },
        "height": 400,
        "hovermode": "x",
        "legend": {
         "title": {},
         "tracegroupgap": 0
        },
        "margin": {
         "t": 60
        },
        "template": {
         "data": {
          "bar": [
           {
            "error_x": {
             "color": "#2a3f5f"
            },
            "error_y": {
             "color": "#2a3f5f"
            },
            "marker": {
             "line": {
              "color": "#E5ECF6",
              "width": 0.5
             },
             "pattern": {
              "fillmode": "overlay",
              "size": 10,
              "solidity": 0.2
             }
            },
            "type": "bar"
           }
          ],
          "barpolar": [
           {
            "marker": {
             "line": {
              "color": "#E5ECF6",
              "width": 0.5
             },
             "pattern": {
              "fillmode": "overlay",
              "size": 10,
              "solidity": 0.2
             }
            },
            "type": "barpolar"
           }
          ],
          "carpet": [
           {
            "aaxis": {
             "endlinecolor": "#2a3f5f",
             "gridcolor": "white",
             "linecolor": "white",
             "minorgridcolor": "white",
             "startlinecolor": "#2a3f5f"
            },
            "baxis": {
             "endlinecolor": "#2a3f5f",
             "gridcolor": "white",
             "linecolor": "white",
             "minorgridcolor": "white",
             "startlinecolor": "#2a3f5f"
            },
            "type": "carpet"
           }
          ],
          "choropleth": [
           {
            "colorbar": {
             "outlinewidth": 0,
             "ticks": ""
            },
            "type": "choropleth"
           }
          ],
          "contour": [
           {
            "colorbar": {
             "outlinewidth": 0,
             "ticks": ""
            },
            "colorscale": [
             [
              0,
              "#0d0887"
             ],
             [
              0.1111111111111111,
              "#46039f"
             ],
             [
              0.2222222222222222,
              "#7201a8"
             ],
             [
              0.3333333333333333,
              "#9c179e"
             ],
             [
              0.4444444444444444,
              "#bd3786"
             ],
             [
              0.5555555555555556,
              "#d8576b"
             ],
             [
              0.6666666666666666,
              "#ed7953"
             ],
             [
              0.7777777777777778,
              "#fb9f3a"
             ],
             [
              0.8888888888888888,
              "#fdca26"
             ],
             [
              1,
              "#f0f921"
             ]
            ],
            "type": "contour"
           }
          ],
          "contourcarpet": [
           {
            "colorbar": {
             "outlinewidth": 0,
             "ticks": ""
            },
            "type": "contourcarpet"
           }
          ],
          "heatmap": [
           {
            "colorbar": {
             "outlinewidth": 0,
             "ticks": ""
            },
            "colorscale": [
             [
              0,
              "#0d0887"
             ],
             [
              0.1111111111111111,
              "#46039f"
             ],
             [
              0.2222222222222222,
              "#7201a8"
             ],
             [
              0.3333333333333333,
              "#9c179e"
             ],
             [
              0.4444444444444444,
              "#bd3786"
             ],
             [
              0.5555555555555556,
              "#d8576b"
             ],
             [
              0.6666666666666666,
              "#ed7953"
             ],
             [
              0.7777777777777778,
              "#fb9f3a"
             ],
             [
              0.8888888888888888,
              "#fdca26"
             ],
             [
              1,
              "#f0f921"
             ]
            ],
            "type": "heatmap"
           }
          ],
          "heatmapgl": [
           {
            "colorbar": {
             "outlinewidth": 0,
             "ticks": ""
            },
            "colorscale": [
             [
              0,
              "#0d0887"
             ],
             [
              0.1111111111111111,
              "#46039f"
             ],
             [
              0.2222222222222222,
              "#7201a8"
             ],
             [
              0.3333333333333333,
              "#9c179e"
             ],
             [
              0.4444444444444444,
              "#bd3786"
             ],
             [
              0.5555555555555556,
              "#d8576b"
             ],
             [
              0.6666666666666666,
              "#ed7953"
             ],
             [
              0.7777777777777778,
              "#fb9f3a"
             ],
             [
              0.8888888888888888,
              "#fdca26"
             ],
             [
              1,
              "#f0f921"
             ]
            ],
            "type": "heatmapgl"
           }
          ],
          "histogram": [
           {
            "marker": {
             "pattern": {
              "fillmode": "overlay",
              "size": 10,
              "solidity": 0.2
             }
            },
            "type": "histogram"
           }
          ],
          "histogram2d": [
           {
            "colorbar": {
             "outlinewidth": 0,
             "ticks": ""
            },
            "colorscale": [
             [
              0,
              "#0d0887"
             ],
             [
              0.1111111111111111,
              "#46039f"
             ],
             [
              0.2222222222222222,
              "#7201a8"
             ],
             [
              0.3333333333333333,
              "#9c179e"
             ],
             [
              0.4444444444444444,
              "#bd3786"
             ],
             [
              0.5555555555555556,
              "#d8576b"
             ],
             [
              0.6666666666666666,
              "#ed7953"
             ],
             [
              0.7777777777777778,
              "#fb9f3a"
             ],
             [
              0.8888888888888888,
              "#fdca26"
             ],
             [
              1,
              "#f0f921"
             ]
            ],
            "type": "histogram2d"
           }
          ],
          "histogram2dcontour": [
           {
            "colorbar": {
             "outlinewidth": 0,
             "ticks": ""
            },
            "colorscale": [
             [
              0,
              "#0d0887"
             ],
             [
              0.1111111111111111,
              "#46039f"
             ],
             [
              0.2222222222222222,
              "#7201a8"
             ],
             [
              0.3333333333333333,
              "#9c179e"
             ],
             [
              0.4444444444444444,
              "#bd3786"
             ],
             [
              0.5555555555555556,
              "#d8576b"
             ],
             [
              0.6666666666666666,
              "#ed7953"
             ],
             [
              0.7777777777777778,
              "#fb9f3a"
             ],
             [
              0.8888888888888888,
              "#fdca26"
             ],
             [
              1,
              "#f0f921"
             ]
            ],
            "type": "histogram2dcontour"
           }
          ],
          "mesh3d": [
           {
            "colorbar": {
             "outlinewidth": 0,
             "ticks": ""
            },
            "type": "mesh3d"
           }
          ],
          "parcoords": [
           {
            "line": {
             "colorbar": {
              "outlinewidth": 0,
              "ticks": ""
             }
            },
            "type": "parcoords"
           }
          ],
          "pie": [
           {
            "automargin": true,
            "type": "pie"
           }
          ],
          "scatter": [
           {
            "fillpattern": {
             "fillmode": "overlay",
             "size": 10,
             "solidity": 0.2
            },
            "type": "scatter"
           }
          ],
          "scatter3d": [
           {
            "line": {
             "colorbar": {
              "outlinewidth": 0,
              "ticks": ""
             }
            },
            "marker": {
             "colorbar": {
              "outlinewidth": 0,
              "ticks": ""
             }
            },
            "type": "scatter3d"
           }
          ],
          "scattercarpet": [
           {
            "marker": {
             "colorbar": {
              "outlinewidth": 0,
              "ticks": ""
             }
            },
            "type": "scattercarpet"
           }
          ],
          "scattergeo": [
           {
            "marker": {
             "colorbar": {
              "outlinewidth": 0,
              "ticks": ""
             }
            },
            "type": "scattergeo"
           }
          ],
          "scattergl": [
           {
            "marker": {
             "colorbar": {
              "outlinewidth": 0,
              "ticks": ""
             }
            },
            "type": "scattergl"
           }
          ],
          "scattermapbox": [
           {
            "marker": {
             "colorbar": {
              "outlinewidth": 0,
              "ticks": ""
             }
            },
            "type": "scattermapbox"
           }
          ],
          "scatterpolar": [
           {
            "marker": {
             "colorbar": {
              "outlinewidth": 0,
              "ticks": ""
             }
            },
            "type": "scatterpolar"
           }
          ],
          "scatterpolargl": [
           {
            "marker": {
             "colorbar": {
              "outlinewidth": 0,
              "ticks": ""
             }
            },
            "type": "scatterpolargl"
           }
          ],
          "scatterternary": [
           {
            "marker": {
             "colorbar": {
              "outlinewidth": 0,
              "ticks": ""
             }
            },
            "type": "scatterternary"
           }
          ],
          "surface": [
           {
            "colorbar": {
             "outlinewidth": 0,
             "ticks": ""
            },
            "colorscale": [
             [
              0,
              "#0d0887"
             ],
             [
              0.1111111111111111,
              "#46039f"
             ],
             [
              0.2222222222222222,
              "#7201a8"
             ],
             [
              0.3333333333333333,
              "#9c179e"
             ],
             [
              0.4444444444444444,
              "#bd3786"
             ],
             [
              0.5555555555555556,
              "#d8576b"
             ],
             [
              0.6666666666666666,
              "#ed7953"
             ],
             [
              0.7777777777777778,
              "#fb9f3a"
             ],
             [
              0.8888888888888888,
              "#fdca26"
             ],
             [
              1,
              "#f0f921"
             ]
            ],
            "type": "surface"
           }
          ],
          "table": [
           {
            "cells": {
             "fill": {
              "color": "#EBF0F8"
             },
             "line": {
              "color": "white"
             }
            },
            "header": {
             "fill": {
              "color": "#C8D4E3"
             },
             "line": {
              "color": "white"
             }
            },
            "type": "table"
           }
          ]
         },
         "layout": {
          "annotationdefaults": {
           "arrowcolor": "#2a3f5f",
           "arrowhead": 0,
           "arrowwidth": 1
          },
          "autotypenumbers": "strict",
          "coloraxis": {
           "colorbar": {
            "outlinewidth": 0,
            "ticks": ""
           }
          },
          "colorscale": {
           "diverging": [
            [
             0,
             "#8e0152"
            ],
            [
             0.1,
             "#c51b7d"
            ],
            [
             0.2,
             "#de77ae"
            ],
            [
             0.3,
             "#f1b6da"
            ],
            [
             0.4,
             "#fde0ef"
            ],
            [
             0.5,
             "#f7f7f7"
            ],
            [
             0.6,
             "#e6f5d0"
            ],
            [
             0.7,
             "#b8e186"
            ],
            [
             0.8,
             "#7fbc41"
            ],
            [
             0.9,
             "#4d9221"
            ],
            [
             1,
             "#276419"
            ]
           ],
           "sequential": [
            [
             0,
             "#0d0887"
            ],
            [
             0.1111111111111111,
             "#46039f"
            ],
            [
             0.2222222222222222,
             "#7201a8"
            ],
            [
             0.3333333333333333,
             "#9c179e"
            ],
            [
             0.4444444444444444,
             "#bd3786"
            ],
            [
             0.5555555555555556,
             "#d8576b"
            ],
            [
             0.6666666666666666,
             "#ed7953"
            ],
            [
             0.7777777777777778,
             "#fb9f3a"
            ],
            [
             0.8888888888888888,
             "#fdca26"
            ],
            [
             1,
             "#f0f921"
            ]
           ],
           "sequentialminus": [
            [
             0,
             "#0d0887"
            ],
            [
             0.1111111111111111,
             "#46039f"
            ],
            [
             0.2222222222222222,
             "#7201a8"
            ],
            [
             0.3333333333333333,
             "#9c179e"
            ],
            [
             0.4444444444444444,
             "#bd3786"
            ],
            [
             0.5555555555555556,
             "#d8576b"
            ],
            [
             0.6666666666666666,
             "#ed7953"
            ],
            [
             0.7777777777777778,
             "#fb9f3a"
            ],
            [
             0.8888888888888888,
             "#fdca26"
            ],
            [
             1,
             "#f0f921"
            ]
           ]
          },
          "colorway": [
           "#636efa",
           "#EF553B",
           "#00cc96",
           "#ab63fa",
           "#FFA15A",
           "#19d3f3",
           "#FF6692",
           "#B6E880",
           "#FF97FF",
           "#FECB52"
          ],
          "font": {
           "color": "#2a3f5f"
          },
          "geo": {
           "bgcolor": "white",
           "lakecolor": "white",
           "landcolor": "#E5ECF6",
           "showlakes": true,
           "showland": true,
           "subunitcolor": "white"
          },
          "hoverlabel": {
           "align": "left"
          },
          "hovermode": "closest",
          "mapbox": {
           "style": "light"
          },
          "paper_bgcolor": "white",
          "plot_bgcolor": "#E5ECF6",
          "polar": {
           "angularaxis": {
            "gridcolor": "white",
            "linecolor": "white",
            "ticks": ""
           },
           "bgcolor": "#E5ECF6",
           "radialaxis": {
            "gridcolor": "white",
            "linecolor": "white",
            "ticks": ""
           }
          },
          "scene": {
           "xaxis": {
            "backgroundcolor": "#E5ECF6",
            "gridcolor": "white",
            "gridwidth": 2,
            "linecolor": "white",
            "showbackground": true,
            "ticks": "",
            "zerolinecolor": "white"
           },
           "yaxis": {
            "backgroundcolor": "#E5ECF6",
            "gridcolor": "white",
            "gridwidth": 2,
            "linecolor": "white",
            "showbackground": true,
            "ticks": "",
            "zerolinecolor": "white"
           },
           "zaxis": {
            "backgroundcolor": "#E5ECF6",
            "gridcolor": "white",
            "gridwidth": 2,
            "linecolor": "white",
            "showbackground": true,
            "ticks": "",
            "zerolinecolor": "white"
           }
          },
          "shapedefaults": {
           "line": {
            "color": "#2a3f5f"
           }
          },
          "ternary": {
           "aaxis": {
            "gridcolor": "white",
            "linecolor": "white",
            "ticks": ""
           },
           "baxis": {
            "gridcolor": "white",
            "linecolor": "white",
            "ticks": ""
           },
           "bgcolor": "#E5ECF6",
           "caxis": {
            "gridcolor": "white",
            "linecolor": "white",
            "ticks": ""
           }
          },
          "title": {
           "x": 0.05
          },
          "xaxis": {
           "automargin": true,
           "gridcolor": "white",
           "linecolor": "white",
           "ticks": "",
           "title": {
            "standoff": 15
           },
           "zerolinecolor": "white",
           "zerolinewidth": 2
          },
          "yaxis": {
           "automargin": true,
           "gridcolor": "white",
           "linecolor": "white",
           "ticks": "",
           "title": {
            "standoff": 15
           },
           "zerolinecolor": "white",
           "zerolinewidth": 2
          }
         }
        },
        "width": 600,
        "xaxis": {
         "anchor": "y",
         "domain": [
          0,
          1
         ],
         "title": {
          "text": "Method"
         }
        },
        "yaxis": {
         "anchor": "x",
         "domain": [
          0,
          1
         ],
         "title": {
          "text": "Training Time (s)"
         }
        }
       }
      }
     },
     "metadata": {},
     "output_type": "display_data"
    }
   ],
   "source": [
    "good_name_architecture = {\n",
    "    0 : 'Non-split',\n",
    "    1 : 'Split A',\n",
    "    2 : 'Split B',\n",
    "    3 : 'Split C',\n",
    "    4 : 'Split D',\n",
    "}\n",
    "\n",
    "good_name_cd_method = {\n",
    "    'no_compression' : '',\n",
    "    'zstd' : '(C/D)',\n",
    "}\n",
    "\n",
    "df_summary['method_name'] = df_summary.apply(lambda x: f\"{good_name_architecture[x['architecture_choice']]} {good_name_cd_method[x['cd_method']]}\", axis=1)\n",
    "\n",
    "good_name_column = {\n",
    "    'time_server_load' : 'Server Load (s)',\n",
    "    'time_client_training' : 'Training Client (s)',\n",
    "    'time_server_training' : 'Training Server (s)',\n",
    "    'time_validation' : 'Validation Time (s)',\n",
    "    'time_test' : 'Test (s)',\n",
    "    'time_communication_server_to_client' : 'Latency Server to Client (s)',\n",
    "    'time_communication_client_to_server' : 'Latency Client to Server (s)',\n",
    "    'time_client_compression_decompression' : '(De)Compression Client (s)',\n",
    "    'time_server_compression_decompression' : '(De)Compression Server (s)',\n",
    "    'time_considered' : 'Training Time (s)',\n",
    "    'time_total' : 'Total Time (s)',\n",
    "}\n",
    "\n",
    "\n",
    "split_only = [\n",
    "    'time_communication_server_to_client',\n",
    "    'time_communication_client_to_server',\n",
    "    'time_client_compression_decompression',\n",
    "    'time_server_compression_decompression',\n",
    "    'time_server_load'\n",
    "]\n",
    "\n",
    "for column in time_columns + ['time_considered']:\n",
    "\n",
    "    df_plot = df_summary.copy()\n",
    "    if(column in split_only):\n",
    "        df_plot = df_plot[df_plot['method_name'] != 'Non-split ']\n",
    "\n",
    "    fig = nice_plot(\n",
    "        df_plot,\n",
    "        x_axis='method_name',\n",
    "        x_axis_title='Method',\n",
    "        y_axis=column,\n",
    "        y_axis_title=good_name_column[column],\n",
    "        plot_type='bar',\n",
    "    )\n",
    "\n",
    "    # update_layout\n",
    "    fig.update_layout(\n",
    "        width=600,\n",
    "        height=400,\n",
    "    )\n",
    "\n",
    "    fig.show()\n",
    "\n",
    "    # save\n",
    "    fig.write_image(f'figures/{column}.pdf')\n"
   ]
  },
  {
   "cell_type": "code",
   "execution_count": 73,
   "metadata": {},
   "outputs": [
    {
     "data": {
      "application/vnd.plotly.v1+json": {
       "config": {
        "plotlyServerURL": "https://plot.ly"
       },
       "data": [
        {
         "alignmentgroup": "True",
         "error_y": {
          "array": [
           0.3920182980278862,
           3.515108622938542
          ]
         },
         "hovertemplate": "Legend=Compression Client<br>cd_method=%{x}<br>value_mean=%{y}<extra></extra>",
         "legendgroup": "Compression Client",
         "marker": {
          "color": "#636efa",
          "pattern": {
           "shape": ""
          }
         },
         "name": "Compression Client",
         "offsetgroup": "Compression Client",
         "orientation": "v",
         "showlegend": true,
         "text": [
          11.574568986892695,
          249.62699945767721
         ],
         "textposition": "outside",
         "texttemplate": "%{text:.2s}",
         "type": "bar",
         "x": [
          "Split A",
          "Split A (C/D)"
         ],
         "xaxis": "x",
         "y": [
          11.574568986892695,
          249.62699945767721
         ],
         "yaxis": "y"
        },
        {
         "alignmentgroup": "True",
         "error_y": {
          "array": [
           0.7418884382444416,
           1.6826476453192485
          ]
         },
         "hovertemplate": "Legend=Compression Server<br>cd_method=%{x}<br>value_mean=%{y}<extra></extra>",
         "legendgroup": "Compression Server",
         "marker": {
          "color": "#EF553B",
          "pattern": {
           "shape": ""
          }
         },
         "name": "Compression Server",
         "offsetgroup": "Compression Server",
         "orientation": "v",
         "showlegend": true,
         "text": [
          49.8129407564799,
          249.84923640886942
         ],
         "textposition": "outside",
         "texttemplate": "%{text:.2s}",
         "type": "bar",
         "x": [
          "Split A",
          "Split A (C/D)"
         ],
         "xaxis": "x",
         "y": [
          49.8129407564799,
          249.84923640886942
         ],
         "yaxis": "y"
        },
        {
         "alignmentgroup": "True",
         "error_y": {
          "array": [
           373.96420751495265,
           5.892573188926955
          ]
         },
         "hovertemplate": "Legend=Latency Client to Server<br>cd_method=%{x}<br>value_mean=%{y}<extra></extra>",
         "legendgroup": "Latency Client to Server",
         "marker": {
          "color": "#00cc96",
          "pattern": {
           "shape": ""
          }
         },
         "name": "Latency Client to Server",
         "offsetgroup": "Latency Client to Server",
         "orientation": "v",
         "showlegend": true,
         "text": [
          7327.6757964293165,
          1669.4756298859913
         ],
         "textposition": "outside",
         "texttemplate": "%{text:.2s}",
         "type": "bar",
         "x": [
          "Split A",
          "Split A (C/D)"
         ],
         "xaxis": "x",
         "y": [
          7327.6757964293165,
          1669.4756298859913
         ],
         "yaxis": "y"
        },
        {
         "alignmentgroup": "True",
         "error_y": {
          "array": [
           55.736644325758334,
           10.972465988770422
          ]
         },
         "hovertemplate": "Legend=Latency Server to Client<br>cd_method=%{x}<br>value_mean=%{y}<extra></extra>",
         "legendgroup": "Latency Server to Client",
         "marker": {
          "color": "#ab63fa",
          "pattern": {
           "shape": ""
          }
         },
         "name": "Latency Server to Client",
         "offsetgroup": "Latency Server to Client",
         "orientation": "v",
         "showlegend": true,
         "text": [
          1193.6751047770183,
          1049.5707716147106
         ],
         "textposition": "outside",
         "texttemplate": "%{text:.2s}",
         "type": "bar",
         "x": [
          "Split A",
          "Split A (C/D)"
         ],
         "xaxis": "x",
         "y": [
          1193.6751047770183,
          1049.5707716147106
         ],
         "yaxis": "y"
        },
        {
         "alignmentgroup": "True",
         "error_y": {
          "array": [
           8.30221160416044,
           5.045893513430317
          ]
         },
         "hovertemplate": "Legend=Training Client<br>cd_method=%{x}<br>value_mean=%{y}<extra></extra>",
         "legendgroup": "Training Client",
         "marker": {
          "color": "#FFA15A",
          "pattern": {
           "shape": ""
          }
         },
         "name": "Training Client",
         "offsetgroup": "Training Client",
         "orientation": "v",
         "showlegend": true,
         "text": [
          293.4887816111247,
          288.8103919029236
         ],
         "textposition": "outside",
         "texttemplate": "%{text:.2s}",
         "type": "bar",
         "x": [
          "Split A",
          "Split A (C/D)"
         ],
         "xaxis": "x",
         "y": [
          293.4887816111247,
          288.8103919029236
         ],
         "yaxis": "y"
        },
        {
         "alignmentgroup": "True",
         "error_y": {
          "array": [
           5.649548498482499,
           0.6485012863820897
          ]
         },
         "hovertemplate": "Legend=Training Server<br>cd_method=%{x}<br>value_mean=%{y}<extra></extra>",
         "legendgroup": "Training Server",
         "marker": {
          "color": "#19d3f3",
          "pattern": {
           "shape": ""
          }
         },
         "name": "Training Server",
         "offsetgroup": "Training Server",
         "orientation": "v",
         "showlegend": true,
         "text": [
          197.46795090039572,
          190.2831072807312
         ],
         "textposition": "outside",
         "texttemplate": "%{text:.2s}",
         "type": "bar",
         "x": [
          "Split A",
          "Split A (C/D)"
         ],
         "xaxis": "x",
         "y": [
          197.46795090039572,
          190.2831072807312
         ],
         "yaxis": "y"
        }
       ],
       "layout": {
        "barmode": "group",
        "font": {
         "size": 18
        },
        "height": 400,
        "hovermode": "x",
        "legend": {
         "title": {},
         "tracegroupgap": 0,
         "traceorder": "normal"
        },
        "margin": {
         "t": 60
        },
        "template": {
         "data": {
          "bar": [
           {
            "error_x": {
             "color": "#2a3f5f"
            },
            "error_y": {
             "color": "#2a3f5f"
            },
            "marker": {
             "line": {
              "color": "#E5ECF6",
              "width": 0.5
             },
             "pattern": {
              "fillmode": "overlay",
              "size": 10,
              "solidity": 0.2
             }
            },
            "type": "bar"
           }
          ],
          "barpolar": [
           {
            "marker": {
             "line": {
              "color": "#E5ECF6",
              "width": 0.5
             },
             "pattern": {
              "fillmode": "overlay",
              "size": 10,
              "solidity": 0.2
             }
            },
            "type": "barpolar"
           }
          ],
          "carpet": [
           {
            "aaxis": {
             "endlinecolor": "#2a3f5f",
             "gridcolor": "white",
             "linecolor": "white",
             "minorgridcolor": "white",
             "startlinecolor": "#2a3f5f"
            },
            "baxis": {
             "endlinecolor": "#2a3f5f",
             "gridcolor": "white",
             "linecolor": "white",
             "minorgridcolor": "white",
             "startlinecolor": "#2a3f5f"
            },
            "type": "carpet"
           }
          ],
          "choropleth": [
           {
            "colorbar": {
             "outlinewidth": 0,
             "ticks": ""
            },
            "type": "choropleth"
           }
          ],
          "contour": [
           {
            "colorbar": {
             "outlinewidth": 0,
             "ticks": ""
            },
            "colorscale": [
             [
              0,
              "#0d0887"
             ],
             [
              0.1111111111111111,
              "#46039f"
             ],
             [
              0.2222222222222222,
              "#7201a8"
             ],
             [
              0.3333333333333333,
              "#9c179e"
             ],
             [
              0.4444444444444444,
              "#bd3786"
             ],
             [
              0.5555555555555556,
              "#d8576b"
             ],
             [
              0.6666666666666666,
              "#ed7953"
             ],
             [
              0.7777777777777778,
              "#fb9f3a"
             ],
             [
              0.8888888888888888,
              "#fdca26"
             ],
             [
              1,
              "#f0f921"
             ]
            ],
            "type": "contour"
           }
          ],
          "contourcarpet": [
           {
            "colorbar": {
             "outlinewidth": 0,
             "ticks": ""
            },
            "type": "contourcarpet"
           }
          ],
          "heatmap": [
           {
            "colorbar": {
             "outlinewidth": 0,
             "ticks": ""
            },
            "colorscale": [
             [
              0,
              "#0d0887"
             ],
             [
              0.1111111111111111,
              "#46039f"
             ],
             [
              0.2222222222222222,
              "#7201a8"
             ],
             [
              0.3333333333333333,
              "#9c179e"
             ],
             [
              0.4444444444444444,
              "#bd3786"
             ],
             [
              0.5555555555555556,
              "#d8576b"
             ],
             [
              0.6666666666666666,
              "#ed7953"
             ],
             [
              0.7777777777777778,
              "#fb9f3a"
             ],
             [
              0.8888888888888888,
              "#fdca26"
             ],
             [
              1,
              "#f0f921"
             ]
            ],
            "type": "heatmap"
           }
          ],
          "heatmapgl": [
           {
            "colorbar": {
             "outlinewidth": 0,
             "ticks": ""
            },
            "colorscale": [
             [
              0,
              "#0d0887"
             ],
             [
              0.1111111111111111,
              "#46039f"
             ],
             [
              0.2222222222222222,
              "#7201a8"
             ],
             [
              0.3333333333333333,
              "#9c179e"
             ],
             [
              0.4444444444444444,
              "#bd3786"
             ],
             [
              0.5555555555555556,
              "#d8576b"
             ],
             [
              0.6666666666666666,
              "#ed7953"
             ],
             [
              0.7777777777777778,
              "#fb9f3a"
             ],
             [
              0.8888888888888888,
              "#fdca26"
             ],
             [
              1,
              "#f0f921"
             ]
            ],
            "type": "heatmapgl"
           }
          ],
          "histogram": [
           {
            "marker": {
             "pattern": {
              "fillmode": "overlay",
              "size": 10,
              "solidity": 0.2
             }
            },
            "type": "histogram"
           }
          ],
          "histogram2d": [
           {
            "colorbar": {
             "outlinewidth": 0,
             "ticks": ""
            },
            "colorscale": [
             [
              0,
              "#0d0887"
             ],
             [
              0.1111111111111111,
              "#46039f"
             ],
             [
              0.2222222222222222,
              "#7201a8"
             ],
             [
              0.3333333333333333,
              "#9c179e"
             ],
             [
              0.4444444444444444,
              "#bd3786"
             ],
             [
              0.5555555555555556,
              "#d8576b"
             ],
             [
              0.6666666666666666,
              "#ed7953"
             ],
             [
              0.7777777777777778,
              "#fb9f3a"
             ],
             [
              0.8888888888888888,
              "#fdca26"
             ],
             [
              1,
              "#f0f921"
             ]
            ],
            "type": "histogram2d"
           }
          ],
          "histogram2dcontour": [
           {
            "colorbar": {
             "outlinewidth": 0,
             "ticks": ""
            },
            "colorscale": [
             [
              0,
              "#0d0887"
             ],
             [
              0.1111111111111111,
              "#46039f"
             ],
             [
              0.2222222222222222,
              "#7201a8"
             ],
             [
              0.3333333333333333,
              "#9c179e"
             ],
             [
              0.4444444444444444,
              "#bd3786"
             ],
             [
              0.5555555555555556,
              "#d8576b"
             ],
             [
              0.6666666666666666,
              "#ed7953"
             ],
             [
              0.7777777777777778,
              "#fb9f3a"
             ],
             [
              0.8888888888888888,
              "#fdca26"
             ],
             [
              1,
              "#f0f921"
             ]
            ],
            "type": "histogram2dcontour"
           }
          ],
          "mesh3d": [
           {
            "colorbar": {
             "outlinewidth": 0,
             "ticks": ""
            },
            "type": "mesh3d"
           }
          ],
          "parcoords": [
           {
            "line": {
             "colorbar": {
              "outlinewidth": 0,
              "ticks": ""
             }
            },
            "type": "parcoords"
           }
          ],
          "pie": [
           {
            "automargin": true,
            "type": "pie"
           }
          ],
          "scatter": [
           {
            "fillpattern": {
             "fillmode": "overlay",
             "size": 10,
             "solidity": 0.2
            },
            "type": "scatter"
           }
          ],
          "scatter3d": [
           {
            "line": {
             "colorbar": {
              "outlinewidth": 0,
              "ticks": ""
             }
            },
            "marker": {
             "colorbar": {
              "outlinewidth": 0,
              "ticks": ""
             }
            },
            "type": "scatter3d"
           }
          ],
          "scattercarpet": [
           {
            "marker": {
             "colorbar": {
              "outlinewidth": 0,
              "ticks": ""
             }
            },
            "type": "scattercarpet"
           }
          ],
          "scattergeo": [
           {
            "marker": {
             "colorbar": {
              "outlinewidth": 0,
              "ticks": ""
             }
            },
            "type": "scattergeo"
           }
          ],
          "scattergl": [
           {
            "marker": {
             "colorbar": {
              "outlinewidth": 0,
              "ticks": ""
             }
            },
            "type": "scattergl"
           }
          ],
          "scattermapbox": [
           {
            "marker": {
             "colorbar": {
              "outlinewidth": 0,
              "ticks": ""
             }
            },
            "type": "scattermapbox"
           }
          ],
          "scatterpolar": [
           {
            "marker": {
             "colorbar": {
              "outlinewidth": 0,
              "ticks": ""
             }
            },
            "type": "scatterpolar"
           }
          ],
          "scatterpolargl": [
           {
            "marker": {
             "colorbar": {
              "outlinewidth": 0,
              "ticks": ""
             }
            },
            "type": "scatterpolargl"
           }
          ],
          "scatterternary": [
           {
            "marker": {
             "colorbar": {
              "outlinewidth": 0,
              "ticks": ""
             }
            },
            "type": "scatterternary"
           }
          ],
          "surface": [
           {
            "colorbar": {
             "outlinewidth": 0,
             "ticks": ""
            },
            "colorscale": [
             [
              0,
              "#0d0887"
             ],
             [
              0.1111111111111111,
              "#46039f"
             ],
             [
              0.2222222222222222,
              "#7201a8"
             ],
             [
              0.3333333333333333,
              "#9c179e"
             ],
             [
              0.4444444444444444,
              "#bd3786"
             ],
             [
              0.5555555555555556,
              "#d8576b"
             ],
             [
              0.6666666666666666,
              "#ed7953"
             ],
             [
              0.7777777777777778,
              "#fb9f3a"
             ],
             [
              0.8888888888888888,
              "#fdca26"
             ],
             [
              1,
              "#f0f921"
             ]
            ],
            "type": "surface"
           }
          ],
          "table": [
           {
            "cells": {
             "fill": {
              "color": "#EBF0F8"
             },
             "line": {
              "color": "white"
             }
            },
            "header": {
             "fill": {
              "color": "#C8D4E3"
             },
             "line": {
              "color": "white"
             }
            },
            "type": "table"
           }
          ]
         },
         "layout": {
          "annotationdefaults": {
           "arrowcolor": "#2a3f5f",
           "arrowhead": 0,
           "arrowwidth": 1
          },
          "autotypenumbers": "strict",
          "coloraxis": {
           "colorbar": {
            "outlinewidth": 0,
            "ticks": ""
           }
          },
          "colorscale": {
           "diverging": [
            [
             0,
             "#8e0152"
            ],
            [
             0.1,
             "#c51b7d"
            ],
            [
             0.2,
             "#de77ae"
            ],
            [
             0.3,
             "#f1b6da"
            ],
            [
             0.4,
             "#fde0ef"
            ],
            [
             0.5,
             "#f7f7f7"
            ],
            [
             0.6,
             "#e6f5d0"
            ],
            [
             0.7,
             "#b8e186"
            ],
            [
             0.8,
             "#7fbc41"
            ],
            [
             0.9,
             "#4d9221"
            ],
            [
             1,
             "#276419"
            ]
           ],
           "sequential": [
            [
             0,
             "#0d0887"
            ],
            [
             0.1111111111111111,
             "#46039f"
            ],
            [
             0.2222222222222222,
             "#7201a8"
            ],
            [
             0.3333333333333333,
             "#9c179e"
            ],
            [
             0.4444444444444444,
             "#bd3786"
            ],
            [
             0.5555555555555556,
             "#d8576b"
            ],
            [
             0.6666666666666666,
             "#ed7953"
            ],
            [
             0.7777777777777778,
             "#fb9f3a"
            ],
            [
             0.8888888888888888,
             "#fdca26"
            ],
            [
             1,
             "#f0f921"
            ]
           ],
           "sequentialminus": [
            [
             0,
             "#0d0887"
            ],
            [
             0.1111111111111111,
             "#46039f"
            ],
            [
             0.2222222222222222,
             "#7201a8"
            ],
            [
             0.3333333333333333,
             "#9c179e"
            ],
            [
             0.4444444444444444,
             "#bd3786"
            ],
            [
             0.5555555555555556,
             "#d8576b"
            ],
            [
             0.6666666666666666,
             "#ed7953"
            ],
            [
             0.7777777777777778,
             "#fb9f3a"
            ],
            [
             0.8888888888888888,
             "#fdca26"
            ],
            [
             1,
             "#f0f921"
            ]
           ]
          },
          "colorway": [
           "#636efa",
           "#EF553B",
           "#00cc96",
           "#ab63fa",
           "#FFA15A",
           "#19d3f3",
           "#FF6692",
           "#B6E880",
           "#FF97FF",
           "#FECB52"
          ],
          "font": {
           "color": "#2a3f5f"
          },
          "geo": {
           "bgcolor": "white",
           "lakecolor": "white",
           "landcolor": "#E5ECF6",
           "showlakes": true,
           "showland": true,
           "subunitcolor": "white"
          },
          "hoverlabel": {
           "align": "left"
          },
          "hovermode": "closest",
          "mapbox": {
           "style": "light"
          },
          "paper_bgcolor": "white",
          "plot_bgcolor": "#E5ECF6",
          "polar": {
           "angularaxis": {
            "gridcolor": "white",
            "linecolor": "white",
            "ticks": ""
           },
           "bgcolor": "#E5ECF6",
           "radialaxis": {
            "gridcolor": "white",
            "linecolor": "white",
            "ticks": ""
           }
          },
          "scene": {
           "xaxis": {
            "backgroundcolor": "#E5ECF6",
            "gridcolor": "white",
            "gridwidth": 2,
            "linecolor": "white",
            "showbackground": true,
            "ticks": "",
            "zerolinecolor": "white"
           },
           "yaxis": {
            "backgroundcolor": "#E5ECF6",
            "gridcolor": "white",
            "gridwidth": 2,
            "linecolor": "white",
            "showbackground": true,
            "ticks": "",
            "zerolinecolor": "white"
           },
           "zaxis": {
            "backgroundcolor": "#E5ECF6",
            "gridcolor": "white",
            "gridwidth": 2,
            "linecolor": "white",
            "showbackground": true,
            "ticks": "",
            "zerolinecolor": "white"
           }
          },
          "shapedefaults": {
           "line": {
            "color": "#2a3f5f"
           }
          },
          "ternary": {
           "aaxis": {
            "gridcolor": "white",
            "linecolor": "white",
            "ticks": ""
           },
           "baxis": {
            "gridcolor": "white",
            "linecolor": "white",
            "ticks": ""
           },
           "bgcolor": "#E5ECF6",
           "caxis": {
            "gridcolor": "white",
            "linecolor": "white",
            "ticks": ""
           }
          },
          "title": {
           "x": 0.05
          },
          "xaxis": {
           "automargin": true,
           "gridcolor": "white",
           "linecolor": "white",
           "ticks": "",
           "title": {
            "standoff": 15
           },
           "zerolinecolor": "white",
           "zerolinewidth": 2
          },
          "yaxis": {
           "automargin": true,
           "gridcolor": "white",
           "linecolor": "white",
           "ticks": "",
           "title": {
            "standoff": 15
           },
           "zerolinecolor": "white",
           "zerolinewidth": 2
          }
         }
        },
        "width": 700,
        "xaxis": {
         "anchor": "y",
         "domain": [
          0,
          1
         ],
         "title": {
          "text": ""
         }
        },
        "yaxis": {
         "anchor": "x",
         "domain": [
          0,
          1
         ],
         "title": {
          "text": "Time (s)"
         }
        }
       }
      }
     },
     "metadata": {},
     "output_type": "display_data"
    }
   ],
   "source": [
    "df_summary_time_breakdown = df_summary[df_summary['architecture_choice'] == 1].copy()\n",
    "good_name_cd_method = {\n",
    "    'no_compression': 'Split A',\n",
    "    'zstd': 'Split A (C/D)'\n",
    "}\n",
    "df_summary_time_breakdown['cd_method'] = df_summary_time_breakdown['cd_method'].map(good_name_cd_method)\n",
    "\n",
    "fig = nice_plot_multi_columns(\n",
    "    df_summary_time_breakdown,\n",
    "    x_axis='cd_method',\n",
    "    y_axiss=['time_client_training', \n",
    "             'time_server_training', \n",
    "             'time_client_compression_decompression', \n",
    "             'time_server_compression_decompression',\n",
    "             'time_communication_server_to_client', \n",
    "             'time_communication_client_to_server'],\n",
    "    plot_type='bar',\n",
    "    x_axis_title = '',\n",
    "    y_axis_title = 'Time (s)',\n",
    "    legend_names = {\n",
    "        'time_client_training': 'Training Client',\n",
    "        'time_server_training': 'Training Server',\n",
    "        'time_client_compression_decompression': 'Compression Client',\n",
    "        'time_server_compression_decompression': 'Compression Server',\n",
    "        'time_communication_server_to_client': 'Latency Server to Client',\n",
    "        'time_communication_client_to_server': 'Latency Client to Server'\n",
    "    }\n",
    ")\n",
    "\n",
    "# stacked bar plot\n",
    "fig.update_layout(\n",
    "    barmode='group',\n",
    "    legend={'traceorder':'normal'},\n",
    "    width=700,\n",
    "    height=400,\n",
    "    )\n",
    "\n",
    "\n",
    "\n",
    "# show number (pretty notation) inside bar\n",
    "for trace in fig.data:\n",
    "    trace.text = trace.y\n",
    "    trace.textposition = 'outside'\n",
    "    trace.texttemplate = '%{text:.2s}'\n",
    "\n",
    "\n",
    "fig.show()\n",
    "\n",
    "fig.write_image(\"figures/time_breakdown_compression.pdf\")\n"
   ]
  },
  {
   "cell_type": "code",
   "execution_count": 69,
   "metadata": {},
   "outputs": [
    {
     "data": {
      "application/vnd.plotly.v1+json": {
       "config": {
        "plotlyServerURL": "https://plot.ly"
       },
       "data": [
        {
         "alignmentgroup": "True",
         "error_y": {
          "array": [
           373.96420751495265,
           5.892573188926955
          ]
         },
         "hovertemplate": "Legend=Client to Server<br>cd_method=%{x}<br>value_mean=%{y}<extra></extra>",
         "legendgroup": "Client to Server",
         "marker": {
          "color": "#636efa",
          "pattern": {
           "shape": ""
          }
         },
         "name": "Client to Server",
         "offsetgroup": "Client to Server",
         "orientation": "v",
         "showlegend": true,
         "text": [
          7327.6757964293165,
          1669.4756298859913
         ],
         "textposition": "inside",
         "texttemplate": "%{text:.2s}",
         "type": "bar",
         "x": [
          "Split A",
          "Split A (C/D)"
         ],
         "xaxis": "x",
         "y": [
          7327.6757964293165,
          1669.4756298859913
         ],
         "yaxis": "y"
        },
        {
         "alignmentgroup": "True",
         "error_y": {
          "array": [
           55.736644325758334,
           10.972465988770422
          ]
         },
         "hovertemplate": "Legend=Server to Client<br>cd_method=%{x}<br>value_mean=%{y}<extra></extra>",
         "legendgroup": "Server to Client",
         "marker": {
          "color": "#EF553B",
          "pattern": {
           "shape": ""
          }
         },
         "name": "Server to Client",
         "offsetgroup": "Server to Client",
         "orientation": "v",
         "showlegend": true,
         "text": [
          1193.6751047770183,
          1049.5707716147106
         ],
         "textposition": "inside",
         "texttemplate": "%{text:.2s}",
         "type": "bar",
         "x": [
          "Split A",
          "Split A (C/D)"
         ],
         "xaxis": "x",
         "y": [
          1193.6751047770183,
          1049.5707716147106
         ],
         "yaxis": "y"
        }
       ],
       "layout": {
        "barmode": "stack",
        "font": {
         "size": 18
        },
        "height": 400,
        "hovermode": "x",
        "legend": {
         "title": {},
         "tracegroupgap": 0,
         "traceorder": "reversed"
        },
        "margin": {
         "t": 60
        },
        "template": {
         "data": {
          "bar": [
           {
            "error_x": {
             "color": "#2a3f5f"
            },
            "error_y": {
             "color": "#2a3f5f"
            },
            "marker": {
             "line": {
              "color": "#E5ECF6",
              "width": 0.5
             },
             "pattern": {
              "fillmode": "overlay",
              "size": 10,
              "solidity": 0.2
             }
            },
            "type": "bar"
           }
          ],
          "barpolar": [
           {
            "marker": {
             "line": {
              "color": "#E5ECF6",
              "width": 0.5
             },
             "pattern": {
              "fillmode": "overlay",
              "size": 10,
              "solidity": 0.2
             }
            },
            "type": "barpolar"
           }
          ],
          "carpet": [
           {
            "aaxis": {
             "endlinecolor": "#2a3f5f",
             "gridcolor": "white",
             "linecolor": "white",
             "minorgridcolor": "white",
             "startlinecolor": "#2a3f5f"
            },
            "baxis": {
             "endlinecolor": "#2a3f5f",
             "gridcolor": "white",
             "linecolor": "white",
             "minorgridcolor": "white",
             "startlinecolor": "#2a3f5f"
            },
            "type": "carpet"
           }
          ],
          "choropleth": [
           {
            "colorbar": {
             "outlinewidth": 0,
             "ticks": ""
            },
            "type": "choropleth"
           }
          ],
          "contour": [
           {
            "colorbar": {
             "outlinewidth": 0,
             "ticks": ""
            },
            "colorscale": [
             [
              0,
              "#0d0887"
             ],
             [
              0.1111111111111111,
              "#46039f"
             ],
             [
              0.2222222222222222,
              "#7201a8"
             ],
             [
              0.3333333333333333,
              "#9c179e"
             ],
             [
              0.4444444444444444,
              "#bd3786"
             ],
             [
              0.5555555555555556,
              "#d8576b"
             ],
             [
              0.6666666666666666,
              "#ed7953"
             ],
             [
              0.7777777777777778,
              "#fb9f3a"
             ],
             [
              0.8888888888888888,
              "#fdca26"
             ],
             [
              1,
              "#f0f921"
             ]
            ],
            "type": "contour"
           }
          ],
          "contourcarpet": [
           {
            "colorbar": {
             "outlinewidth": 0,
             "ticks": ""
            },
            "type": "contourcarpet"
           }
          ],
          "heatmap": [
           {
            "colorbar": {
             "outlinewidth": 0,
             "ticks": ""
            },
            "colorscale": [
             [
              0,
              "#0d0887"
             ],
             [
              0.1111111111111111,
              "#46039f"
             ],
             [
              0.2222222222222222,
              "#7201a8"
             ],
             [
              0.3333333333333333,
              "#9c179e"
             ],
             [
              0.4444444444444444,
              "#bd3786"
             ],
             [
              0.5555555555555556,
              "#d8576b"
             ],
             [
              0.6666666666666666,
              "#ed7953"
             ],
             [
              0.7777777777777778,
              "#fb9f3a"
             ],
             [
              0.8888888888888888,
              "#fdca26"
             ],
             [
              1,
              "#f0f921"
             ]
            ],
            "type": "heatmap"
           }
          ],
          "heatmapgl": [
           {
            "colorbar": {
             "outlinewidth": 0,
             "ticks": ""
            },
            "colorscale": [
             [
              0,
              "#0d0887"
             ],
             [
              0.1111111111111111,
              "#46039f"
             ],
             [
              0.2222222222222222,
              "#7201a8"
             ],
             [
              0.3333333333333333,
              "#9c179e"
             ],
             [
              0.4444444444444444,
              "#bd3786"
             ],
             [
              0.5555555555555556,
              "#d8576b"
             ],
             [
              0.6666666666666666,
              "#ed7953"
             ],
             [
              0.7777777777777778,
              "#fb9f3a"
             ],
             [
              0.8888888888888888,
              "#fdca26"
             ],
             [
              1,
              "#f0f921"
             ]
            ],
            "type": "heatmapgl"
           }
          ],
          "histogram": [
           {
            "marker": {
             "pattern": {
              "fillmode": "overlay",
              "size": 10,
              "solidity": 0.2
             }
            },
            "type": "histogram"
           }
          ],
          "histogram2d": [
           {
            "colorbar": {
             "outlinewidth": 0,
             "ticks": ""
            },
            "colorscale": [
             [
              0,
              "#0d0887"
             ],
             [
              0.1111111111111111,
              "#46039f"
             ],
             [
              0.2222222222222222,
              "#7201a8"
             ],
             [
              0.3333333333333333,
              "#9c179e"
             ],
             [
              0.4444444444444444,
              "#bd3786"
             ],
             [
              0.5555555555555556,
              "#d8576b"
             ],
             [
              0.6666666666666666,
              "#ed7953"
             ],
             [
              0.7777777777777778,
              "#fb9f3a"
             ],
             [
              0.8888888888888888,
              "#fdca26"
             ],
             [
              1,
              "#f0f921"
             ]
            ],
            "type": "histogram2d"
           }
          ],
          "histogram2dcontour": [
           {
            "colorbar": {
             "outlinewidth": 0,
             "ticks": ""
            },
            "colorscale": [
             [
              0,
              "#0d0887"
             ],
             [
              0.1111111111111111,
              "#46039f"
             ],
             [
              0.2222222222222222,
              "#7201a8"
             ],
             [
              0.3333333333333333,
              "#9c179e"
             ],
             [
              0.4444444444444444,
              "#bd3786"
             ],
             [
              0.5555555555555556,
              "#d8576b"
             ],
             [
              0.6666666666666666,
              "#ed7953"
             ],
             [
              0.7777777777777778,
              "#fb9f3a"
             ],
             [
              0.8888888888888888,
              "#fdca26"
             ],
             [
              1,
              "#f0f921"
             ]
            ],
            "type": "histogram2dcontour"
           }
          ],
          "mesh3d": [
           {
            "colorbar": {
             "outlinewidth": 0,
             "ticks": ""
            },
            "type": "mesh3d"
           }
          ],
          "parcoords": [
           {
            "line": {
             "colorbar": {
              "outlinewidth": 0,
              "ticks": ""
             }
            },
            "type": "parcoords"
           }
          ],
          "pie": [
           {
            "automargin": true,
            "type": "pie"
           }
          ],
          "scatter": [
           {
            "fillpattern": {
             "fillmode": "overlay",
             "size": 10,
             "solidity": 0.2
            },
            "type": "scatter"
           }
          ],
          "scatter3d": [
           {
            "line": {
             "colorbar": {
              "outlinewidth": 0,
              "ticks": ""
             }
            },
            "marker": {
             "colorbar": {
              "outlinewidth": 0,
              "ticks": ""
             }
            },
            "type": "scatter3d"
           }
          ],
          "scattercarpet": [
           {
            "marker": {
             "colorbar": {
              "outlinewidth": 0,
              "ticks": ""
             }
            },
            "type": "scattercarpet"
           }
          ],
          "scattergeo": [
           {
            "marker": {
             "colorbar": {
              "outlinewidth": 0,
              "ticks": ""
             }
            },
            "type": "scattergeo"
           }
          ],
          "scattergl": [
           {
            "marker": {
             "colorbar": {
              "outlinewidth": 0,
              "ticks": ""
             }
            },
            "type": "scattergl"
           }
          ],
          "scattermapbox": [
           {
            "marker": {
             "colorbar": {
              "outlinewidth": 0,
              "ticks": ""
             }
            },
            "type": "scattermapbox"
           }
          ],
          "scatterpolar": [
           {
            "marker": {
             "colorbar": {
              "outlinewidth": 0,
              "ticks": ""
             }
            },
            "type": "scatterpolar"
           }
          ],
          "scatterpolargl": [
           {
            "marker": {
             "colorbar": {
              "outlinewidth": 0,
              "ticks": ""
             }
            },
            "type": "scatterpolargl"
           }
          ],
          "scatterternary": [
           {
            "marker": {
             "colorbar": {
              "outlinewidth": 0,
              "ticks": ""
             }
            },
            "type": "scatterternary"
           }
          ],
          "surface": [
           {
            "colorbar": {
             "outlinewidth": 0,
             "ticks": ""
            },
            "colorscale": [
             [
              0,
              "#0d0887"
             ],
             [
              0.1111111111111111,
              "#46039f"
             ],
             [
              0.2222222222222222,
              "#7201a8"
             ],
             [
              0.3333333333333333,
              "#9c179e"
             ],
             [
              0.4444444444444444,
              "#bd3786"
             ],
             [
              0.5555555555555556,
              "#d8576b"
             ],
             [
              0.6666666666666666,
              "#ed7953"
             ],
             [
              0.7777777777777778,
              "#fb9f3a"
             ],
             [
              0.8888888888888888,
              "#fdca26"
             ],
             [
              1,
              "#f0f921"
             ]
            ],
            "type": "surface"
           }
          ],
          "table": [
           {
            "cells": {
             "fill": {
              "color": "#EBF0F8"
             },
             "line": {
              "color": "white"
             }
            },
            "header": {
             "fill": {
              "color": "#C8D4E3"
             },
             "line": {
              "color": "white"
             }
            },
            "type": "table"
           }
          ]
         },
         "layout": {
          "annotationdefaults": {
           "arrowcolor": "#2a3f5f",
           "arrowhead": 0,
           "arrowwidth": 1
          },
          "autotypenumbers": "strict",
          "coloraxis": {
           "colorbar": {
            "outlinewidth": 0,
            "ticks": ""
           }
          },
          "colorscale": {
           "diverging": [
            [
             0,
             "#8e0152"
            ],
            [
             0.1,
             "#c51b7d"
            ],
            [
             0.2,
             "#de77ae"
            ],
            [
             0.3,
             "#f1b6da"
            ],
            [
             0.4,
             "#fde0ef"
            ],
            [
             0.5,
             "#f7f7f7"
            ],
            [
             0.6,
             "#e6f5d0"
            ],
            [
             0.7,
             "#b8e186"
            ],
            [
             0.8,
             "#7fbc41"
            ],
            [
             0.9,
             "#4d9221"
            ],
            [
             1,
             "#276419"
            ]
           ],
           "sequential": [
            [
             0,
             "#0d0887"
            ],
            [
             0.1111111111111111,
             "#46039f"
            ],
            [
             0.2222222222222222,
             "#7201a8"
            ],
            [
             0.3333333333333333,
             "#9c179e"
            ],
            [
             0.4444444444444444,
             "#bd3786"
            ],
            [
             0.5555555555555556,
             "#d8576b"
            ],
            [
             0.6666666666666666,
             "#ed7953"
            ],
            [
             0.7777777777777778,
             "#fb9f3a"
            ],
            [
             0.8888888888888888,
             "#fdca26"
            ],
            [
             1,
             "#f0f921"
            ]
           ],
           "sequentialminus": [
            [
             0,
             "#0d0887"
            ],
            [
             0.1111111111111111,
             "#46039f"
            ],
            [
             0.2222222222222222,
             "#7201a8"
            ],
            [
             0.3333333333333333,
             "#9c179e"
            ],
            [
             0.4444444444444444,
             "#bd3786"
            ],
            [
             0.5555555555555556,
             "#d8576b"
            ],
            [
             0.6666666666666666,
             "#ed7953"
            ],
            [
             0.7777777777777778,
             "#fb9f3a"
            ],
            [
             0.8888888888888888,
             "#fdca26"
            ],
            [
             1,
             "#f0f921"
            ]
           ]
          },
          "colorway": [
           "#636efa",
           "#EF553B",
           "#00cc96",
           "#ab63fa",
           "#FFA15A",
           "#19d3f3",
           "#FF6692",
           "#B6E880",
           "#FF97FF",
           "#FECB52"
          ],
          "font": {
           "color": "#2a3f5f"
          },
          "geo": {
           "bgcolor": "white",
           "lakecolor": "white",
           "landcolor": "#E5ECF6",
           "showlakes": true,
           "showland": true,
           "subunitcolor": "white"
          },
          "hoverlabel": {
           "align": "left"
          },
          "hovermode": "closest",
          "mapbox": {
           "style": "light"
          },
          "paper_bgcolor": "white",
          "plot_bgcolor": "#E5ECF6",
          "polar": {
           "angularaxis": {
            "gridcolor": "white",
            "linecolor": "white",
            "ticks": ""
           },
           "bgcolor": "#E5ECF6",
           "radialaxis": {
            "gridcolor": "white",
            "linecolor": "white",
            "ticks": ""
           }
          },
          "scene": {
           "xaxis": {
            "backgroundcolor": "#E5ECF6",
            "gridcolor": "white",
            "gridwidth": 2,
            "linecolor": "white",
            "showbackground": true,
            "ticks": "",
            "zerolinecolor": "white"
           },
           "yaxis": {
            "backgroundcolor": "#E5ECF6",
            "gridcolor": "white",
            "gridwidth": 2,
            "linecolor": "white",
            "showbackground": true,
            "ticks": "",
            "zerolinecolor": "white"
           },
           "zaxis": {
            "backgroundcolor": "#E5ECF6",
            "gridcolor": "white",
            "gridwidth": 2,
            "linecolor": "white",
            "showbackground": true,
            "ticks": "",
            "zerolinecolor": "white"
           }
          },
          "shapedefaults": {
           "line": {
            "color": "#2a3f5f"
           }
          },
          "ternary": {
           "aaxis": {
            "gridcolor": "white",
            "linecolor": "white",
            "ticks": ""
           },
           "baxis": {
            "gridcolor": "white",
            "linecolor": "white",
            "ticks": ""
           },
           "bgcolor": "#E5ECF6",
           "caxis": {
            "gridcolor": "white",
            "linecolor": "white",
            "ticks": ""
           }
          },
          "title": {
           "x": 0.05
          },
          "xaxis": {
           "automargin": true,
           "gridcolor": "white",
           "linecolor": "white",
           "ticks": "",
           "title": {
            "standoff": 15
           },
           "zerolinecolor": "white",
           "zerolinewidth": 2
          },
          "yaxis": {
           "automargin": true,
           "gridcolor": "white",
           "linecolor": "white",
           "ticks": "",
           "title": {
            "standoff": 15
           },
           "zerolinecolor": "white",
           "zerolinewidth": 2
          }
         }
        },
        "width": 700,
        "xaxis": {
         "anchor": "y",
         "domain": [
          0,
          1
         ],
         "title": {
          "text": ""
         }
        },
        "yaxis": {
         "anchor": "x",
         "domain": [
          0,
          1
         ],
         "title": {
          "text": "Communication Time (s)"
         }
        }
       }
      }
     },
     "metadata": {},
     "output_type": "display_data"
    }
   ],
   "source": [
    "df_summary_time_breakdown = df_summary[df_summary['architecture_choice'] == 1].copy()\n",
    "good_name_cd_method = {\n",
    "    'no_compression': 'Split A',\n",
    "    'zstd': 'Split A (C/D)'\n",
    "}\n",
    "df_summary_time_breakdown['cd_method'] = df_summary_time_breakdown['cd_method'].map(good_name_cd_method)\n",
    "\n",
    "fig = nice_plot_multi_columns(\n",
    "    df_summary_time_breakdown,\n",
    "    x_axis='cd_method',\n",
    "    y_axiss=['time_communication_server_to_client', \n",
    "             'time_communication_client_to_server'],\n",
    "    plot_type='bar',\n",
    "    x_axis_title = '',\n",
    "    y_axis_title = 'Communication Time (s)',\n",
    "    legend_names = {\n",
    "        'time_communication_server_to_client': 'Server to Client',\n",
    "        'time_communication_client_to_server': 'Client to Server'\n",
    "    }\n",
    ")\n",
    "\n",
    "# stacked bar plot\n",
    "fig.update_layout(\n",
    "    barmode='stack',\n",
    "    legend={'traceorder':'reversed'},\n",
    "    width=700,\n",
    "    height=400,\n",
    "    )\n",
    "\n",
    "\n",
    "\n",
    "# show number (pretty notation) inside bar\n",
    "for trace in fig.data:\n",
    "    trace.text = trace.y\n",
    "    trace.textposition = 'inside'\n",
    "    trace.texttemplate = '%{text:.2s}'\n",
    "\n",
    "\n",
    "fig.show()\n",
    "\n",
    "fig.write_image(\"figures/time_latency_breakdown_compression.pdf\")\n"
   ]
  },
  {
   "cell_type": "markdown",
   "metadata": {},
   "source": [
    "## Parameters"
   ]
  },
  {
   "cell_type": "code",
   "execution_count": 25,
   "metadata": {},
   "outputs": [
    {
     "data": {
      "text/html": [
       "<div>\n",
       "<style scoped>\n",
       "    .dataframe tbody tr th:only-of-type {\n",
       "        vertical-align: middle;\n",
       "    }\n",
       "\n",
       "    .dataframe tbody tr th {\n",
       "        vertical-align: top;\n",
       "    }\n",
       "\n",
       "    .dataframe thead th {\n",
       "        text-align: right;\n",
       "    }\n",
       "</style>\n",
       "<table border=\"1\" class=\"dataframe\">\n",
       "  <thead>\n",
       "    <tr style=\"text-align: right;\">\n",
       "      <th></th>\n",
       "      <th>exp_seq</th>\n",
       "      <th>architecture_choice</th>\n",
       "      <th>cd_method</th>\n",
       "      <th>param_client_first</th>\n",
       "      <th>param_server_middle</th>\n",
       "      <th>param_client_last</th>\n",
       "      <th>sum_of_params</th>\n",
       "      <th>method_name</th>\n",
       "    </tr>\n",
       "  </thead>\n",
       "  <tbody>\n",
       "    <tr>\n",
       "      <th>0</th>\n",
       "      <td>0</td>\n",
       "      <td>0</td>\n",
       "      <td>no_compression</td>\n",
       "      <td>50373448.0</td>\n",
       "      <td>NaN</td>\n",
       "      <td>NaN</td>\n",
       "      <td>50373448.0</td>\n",
       "      <td>Non-split</td>\n",
       "    </tr>\n",
       "    <tr>\n",
       "      <th>1</th>\n",
       "      <td>0</td>\n",
       "      <td>1</td>\n",
       "      <td>no_compression</td>\n",
       "      <td>19072.0</td>\n",
       "      <td>50345088.0</td>\n",
       "      <td>9288.0</td>\n",
       "      <td>50373448.0</td>\n",
       "      <td>Split A</td>\n",
       "    </tr>\n",
       "    <tr>\n",
       "      <th>2</th>\n",
       "      <td>1</td>\n",
       "      <td>0</td>\n",
       "      <td>no_compression</td>\n",
       "      <td>50373448.0</td>\n",
       "      <td>NaN</td>\n",
       "      <td>NaN</td>\n",
       "      <td>50373448.0</td>\n",
       "      <td>Non-split</td>\n",
       "    </tr>\n",
       "    <tr>\n",
       "      <th>3</th>\n",
       "      <td>1</td>\n",
       "      <td>1</td>\n",
       "      <td>no_compression</td>\n",
       "      <td>19072.0</td>\n",
       "      <td>50345088.0</td>\n",
       "      <td>9288.0</td>\n",
       "      <td>50373448.0</td>\n",
       "      <td>Split A</td>\n",
       "    </tr>\n",
       "    <tr>\n",
       "      <th>4</th>\n",
       "      <td>2</td>\n",
       "      <td>0</td>\n",
       "      <td>no_compression</td>\n",
       "      <td>50373448.0</td>\n",
       "      <td>NaN</td>\n",
       "      <td>NaN</td>\n",
       "      <td>50373448.0</td>\n",
       "      <td>Non-split</td>\n",
       "    </tr>\n",
       "    <tr>\n",
       "      <th>5</th>\n",
       "      <td>2</td>\n",
       "      <td>1</td>\n",
       "      <td>no_compression</td>\n",
       "      <td>19072.0</td>\n",
       "      <td>50345088.0</td>\n",
       "      <td>9288.0</td>\n",
       "      <td>50373448.0</td>\n",
       "      <td>Split A</td>\n",
       "    </tr>\n",
       "    <tr>\n",
       "      <th>6</th>\n",
       "      <td>3</td>\n",
       "      <td>1</td>\n",
       "      <td>zstd</td>\n",
       "      <td>19072.0</td>\n",
       "      <td>50345088.0</td>\n",
       "      <td>9288.0</td>\n",
       "      <td>50373448.0</td>\n",
       "      <td>Split A (C/D)</td>\n",
       "    </tr>\n",
       "    <tr>\n",
       "      <th>7</th>\n",
       "      <td>4</td>\n",
       "      <td>1</td>\n",
       "      <td>zstd</td>\n",
       "      <td>19072.0</td>\n",
       "      <td>50345088.0</td>\n",
       "      <td>9288.0</td>\n",
       "      <td>50373448.0</td>\n",
       "      <td>Split A (C/D)</td>\n",
       "    </tr>\n",
       "    <tr>\n",
       "      <th>8</th>\n",
       "      <td>5</td>\n",
       "      <td>1</td>\n",
       "      <td>zstd</td>\n",
       "      <td>19072.0</td>\n",
       "      <td>50345088.0</td>\n",
       "      <td>9288.0</td>\n",
       "      <td>50373448.0</td>\n",
       "      <td>Split A (C/D)</td>\n",
       "    </tr>\n",
       "  </tbody>\n",
       "</table>\n",
       "</div>"
      ],
      "text/plain": [
       "   exp_seq  architecture_choice       cd_method  param_client_first  \\\n",
       "0        0                    0  no_compression          50373448.0   \n",
       "1        0                    1  no_compression             19072.0   \n",
       "2        1                    0  no_compression          50373448.0   \n",
       "3        1                    1  no_compression             19072.0   \n",
       "4        2                    0  no_compression          50373448.0   \n",
       "5        2                    1  no_compression             19072.0   \n",
       "6        3                    1            zstd             19072.0   \n",
       "7        4                    1            zstd             19072.0   \n",
       "8        5                    1            zstd             19072.0   \n",
       "\n",
       "   param_server_middle  param_client_last  sum_of_params    method_name  \n",
       "0                  NaN                NaN     50373448.0     Non-split   \n",
       "1           50345088.0             9288.0     50373448.0       Split A   \n",
       "2                  NaN                NaN     50373448.0     Non-split   \n",
       "3           50345088.0             9288.0     50373448.0       Split A   \n",
       "4                  NaN                NaN     50373448.0     Non-split   \n",
       "5           50345088.0             9288.0     50373448.0       Split A   \n",
       "6           50345088.0             9288.0     50373448.0  Split A (C/D)  \n",
       "7           50345088.0             9288.0     50373448.0  Split A (C/D)  \n",
       "8           50345088.0             9288.0     50373448.0  Split A (C/D)  "
      ]
     },
     "execution_count": 25,
     "metadata": {},
     "output_type": "execute_result"
    }
   ],
   "source": [
    "# column with parameters information\n",
    "param_columns = []\n",
    "for column in df.columns:\n",
    "    if(column.startswith(\"param\")):\n",
    "        param_columns.append(column)\n",
    "\n",
    "df_summary = df.copy()\n",
    "df_summary = df_summary.groupby(['exp_seq', 'architecture_choice', 'cd_method'])[param_columns].agg('mean').reset_index()\n",
    "\n",
    "df_summary['sum_of_params'] = df_summary[['param_client_first', 'param_server_middle', 'param_client_last']].sum(axis=1)\n",
    "\n",
    "good_name_architecture = {\n",
    "    0 : 'Non-split',\n",
    "    1 : 'Split A',\n",
    "    2 : 'Split B',\n",
    "    3 : 'Split C',\n",
    "    4 : 'Split D',\n",
    "}\n",
    "\n",
    "good_name_cd_method = {\n",
    "    'no_compression' : '',\n",
    "    'zstd' : '(C/D)',\n",
    "}\n",
    "\n",
    "df_summary['method_name'] = df_summary.apply(lambda x: f\"{good_name_architecture[x['architecture_choice']]} {good_name_cd_method[x['cd_method']]}\", axis=1)\n",
    "\n",
    "\n",
    "df_summary"
   ]
  },
  {
   "cell_type": "code",
   "execution_count": 27,
   "metadata": {},
   "outputs": [
    {
     "data": {
      "application/vnd.plotly.v1+json": {
       "config": {
        "plotlyServerURL": "https://plot.ly"
       },
       "data": [
        {
         "alignmentgroup": "True",
         "error_y": {
          "array": [
           0,
           0
          ]
         },
         "hovertemplate": "Legend=Client (Head)<br>method_name=%{x}<br>value_mean=%{y}<extra></extra>",
         "legendgroup": "Client (Head)",
         "marker": {
          "color": "#636efa",
          "pattern": {
           "shape": ""
          }
         },
         "name": "Client (Head)",
         "offsetgroup": "Client (Head)",
         "orientation": "v",
         "showlegend": true,
         "text": [
          50373448,
          19072
         ],
         "textposition": "inside",
         "texttemplate": "%{text:.2s}",
         "type": "bar",
         "x": [
          "Non-split ",
          "Split A "
         ],
         "xaxis": "x",
         "y": [
          50373448,
          19072
         ],
         "yaxis": "y"
        },
        {
         "alignmentgroup": "True",
         "error_y": {
          "array": [
           null,
           0
          ]
         },
         "hovertemplate": "Legend=Client (Tail)<br>method_name=%{x}<br>value_mean=%{y}<extra></extra>",
         "legendgroup": "Client (Tail)",
         "marker": {
          "color": "#EF553B",
          "pattern": {
           "shape": ""
          }
         },
         "name": "Client (Tail)",
         "offsetgroup": "Client (Tail)",
         "orientation": "v",
         "showlegend": true,
         "text": [
          null,
          9288
         ],
         "textposition": "inside",
         "texttemplate": "%{text:.2s}",
         "type": "bar",
         "x": [
          "Non-split ",
          "Split A "
         ],
         "xaxis": "x",
         "y": [
          null,
          9288
         ],
         "yaxis": "y"
        },
        {
         "alignmentgroup": "True",
         "error_y": {
          "array": [
           null,
           0
          ]
         },
         "hovertemplate": "Legend=Server (Body)<br>method_name=%{x}<br>value_mean=%{y}<extra></extra>",
         "legendgroup": "Server (Body)",
         "marker": {
          "color": "#00cc96",
          "pattern": {
           "shape": ""
          }
         },
         "name": "Server (Body)",
         "offsetgroup": "Server (Body)",
         "orientation": "v",
         "showlegend": true,
         "text": [
          null,
          50345088
         ],
         "textposition": "inside",
         "texttemplate": "%{text:.2s}",
         "type": "bar",
         "x": [
          "Non-split ",
          "Split A "
         ],
         "xaxis": "x",
         "y": [
          null,
          50345088
         ],
         "yaxis": "y"
        }
       ],
       "layout": {
        "barmode": "stack",
        "font": {
         "size": 18
        },
        "height": 400,
        "hovermode": "x",
        "legend": {
         "title": {},
         "tracegroupgap": 0,
         "traceorder": "reversed"
        },
        "margin": {
         "t": 60
        },
        "template": {
         "data": {
          "bar": [
           {
            "error_x": {
             "color": "#2a3f5f"
            },
            "error_y": {
             "color": "#2a3f5f"
            },
            "marker": {
             "line": {
              "color": "#E5ECF6",
              "width": 0.5
             },
             "pattern": {
              "fillmode": "overlay",
              "size": 10,
              "solidity": 0.2
             }
            },
            "type": "bar"
           }
          ],
          "barpolar": [
           {
            "marker": {
             "line": {
              "color": "#E5ECF6",
              "width": 0.5
             },
             "pattern": {
              "fillmode": "overlay",
              "size": 10,
              "solidity": 0.2
             }
            },
            "type": "barpolar"
           }
          ],
          "carpet": [
           {
            "aaxis": {
             "endlinecolor": "#2a3f5f",
             "gridcolor": "white",
             "linecolor": "white",
             "minorgridcolor": "white",
             "startlinecolor": "#2a3f5f"
            },
            "baxis": {
             "endlinecolor": "#2a3f5f",
             "gridcolor": "white",
             "linecolor": "white",
             "minorgridcolor": "white",
             "startlinecolor": "#2a3f5f"
            },
            "type": "carpet"
           }
          ],
          "choropleth": [
           {
            "colorbar": {
             "outlinewidth": 0,
             "ticks": ""
            },
            "type": "choropleth"
           }
          ],
          "contour": [
           {
            "colorbar": {
             "outlinewidth": 0,
             "ticks": ""
            },
            "colorscale": [
             [
              0,
              "#0d0887"
             ],
             [
              0.1111111111111111,
              "#46039f"
             ],
             [
              0.2222222222222222,
              "#7201a8"
             ],
             [
              0.3333333333333333,
              "#9c179e"
             ],
             [
              0.4444444444444444,
              "#bd3786"
             ],
             [
              0.5555555555555556,
              "#d8576b"
             ],
             [
              0.6666666666666666,
              "#ed7953"
             ],
             [
              0.7777777777777778,
              "#fb9f3a"
             ],
             [
              0.8888888888888888,
              "#fdca26"
             ],
             [
              1,
              "#f0f921"
             ]
            ],
            "type": "contour"
           }
          ],
          "contourcarpet": [
           {
            "colorbar": {
             "outlinewidth": 0,
             "ticks": ""
            },
            "type": "contourcarpet"
           }
          ],
          "heatmap": [
           {
            "colorbar": {
             "outlinewidth": 0,
             "ticks": ""
            },
            "colorscale": [
             [
              0,
              "#0d0887"
             ],
             [
              0.1111111111111111,
              "#46039f"
             ],
             [
              0.2222222222222222,
              "#7201a8"
             ],
             [
              0.3333333333333333,
              "#9c179e"
             ],
             [
              0.4444444444444444,
              "#bd3786"
             ],
             [
              0.5555555555555556,
              "#d8576b"
             ],
             [
              0.6666666666666666,
              "#ed7953"
             ],
             [
              0.7777777777777778,
              "#fb9f3a"
             ],
             [
              0.8888888888888888,
              "#fdca26"
             ],
             [
              1,
              "#f0f921"
             ]
            ],
            "type": "heatmap"
           }
          ],
          "heatmapgl": [
           {
            "colorbar": {
             "outlinewidth": 0,
             "ticks": ""
            },
            "colorscale": [
             [
              0,
              "#0d0887"
             ],
             [
              0.1111111111111111,
              "#46039f"
             ],
             [
              0.2222222222222222,
              "#7201a8"
             ],
             [
              0.3333333333333333,
              "#9c179e"
             ],
             [
              0.4444444444444444,
              "#bd3786"
             ],
             [
              0.5555555555555556,
              "#d8576b"
             ],
             [
              0.6666666666666666,
              "#ed7953"
             ],
             [
              0.7777777777777778,
              "#fb9f3a"
             ],
             [
              0.8888888888888888,
              "#fdca26"
             ],
             [
              1,
              "#f0f921"
             ]
            ],
            "type": "heatmapgl"
           }
          ],
          "histogram": [
           {
            "marker": {
             "pattern": {
              "fillmode": "overlay",
              "size": 10,
              "solidity": 0.2
             }
            },
            "type": "histogram"
           }
          ],
          "histogram2d": [
           {
            "colorbar": {
             "outlinewidth": 0,
             "ticks": ""
            },
            "colorscale": [
             [
              0,
              "#0d0887"
             ],
             [
              0.1111111111111111,
              "#46039f"
             ],
             [
              0.2222222222222222,
              "#7201a8"
             ],
             [
              0.3333333333333333,
              "#9c179e"
             ],
             [
              0.4444444444444444,
              "#bd3786"
             ],
             [
              0.5555555555555556,
              "#d8576b"
             ],
             [
              0.6666666666666666,
              "#ed7953"
             ],
             [
              0.7777777777777778,
              "#fb9f3a"
             ],
             [
              0.8888888888888888,
              "#fdca26"
             ],
             [
              1,
              "#f0f921"
             ]
            ],
            "type": "histogram2d"
           }
          ],
          "histogram2dcontour": [
           {
            "colorbar": {
             "outlinewidth": 0,
             "ticks": ""
            },
            "colorscale": [
             [
              0,
              "#0d0887"
             ],
             [
              0.1111111111111111,
              "#46039f"
             ],
             [
              0.2222222222222222,
              "#7201a8"
             ],
             [
              0.3333333333333333,
              "#9c179e"
             ],
             [
              0.4444444444444444,
              "#bd3786"
             ],
             [
              0.5555555555555556,
              "#d8576b"
             ],
             [
              0.6666666666666666,
              "#ed7953"
             ],
             [
              0.7777777777777778,
              "#fb9f3a"
             ],
             [
              0.8888888888888888,
              "#fdca26"
             ],
             [
              1,
              "#f0f921"
             ]
            ],
            "type": "histogram2dcontour"
           }
          ],
          "mesh3d": [
           {
            "colorbar": {
             "outlinewidth": 0,
             "ticks": ""
            },
            "type": "mesh3d"
           }
          ],
          "parcoords": [
           {
            "line": {
             "colorbar": {
              "outlinewidth": 0,
              "ticks": ""
             }
            },
            "type": "parcoords"
           }
          ],
          "pie": [
           {
            "automargin": true,
            "type": "pie"
           }
          ],
          "scatter": [
           {
            "fillpattern": {
             "fillmode": "overlay",
             "size": 10,
             "solidity": 0.2
            },
            "type": "scatter"
           }
          ],
          "scatter3d": [
           {
            "line": {
             "colorbar": {
              "outlinewidth": 0,
              "ticks": ""
             }
            },
            "marker": {
             "colorbar": {
              "outlinewidth": 0,
              "ticks": ""
             }
            },
            "type": "scatter3d"
           }
          ],
          "scattercarpet": [
           {
            "marker": {
             "colorbar": {
              "outlinewidth": 0,
              "ticks": ""
             }
            },
            "type": "scattercarpet"
           }
          ],
          "scattergeo": [
           {
            "marker": {
             "colorbar": {
              "outlinewidth": 0,
              "ticks": ""
             }
            },
            "type": "scattergeo"
           }
          ],
          "scattergl": [
           {
            "marker": {
             "colorbar": {
              "outlinewidth": 0,
              "ticks": ""
             }
            },
            "type": "scattergl"
           }
          ],
          "scattermapbox": [
           {
            "marker": {
             "colorbar": {
              "outlinewidth": 0,
              "ticks": ""
             }
            },
            "type": "scattermapbox"
           }
          ],
          "scatterpolar": [
           {
            "marker": {
             "colorbar": {
              "outlinewidth": 0,
              "ticks": ""
             }
            },
            "type": "scatterpolar"
           }
          ],
          "scatterpolargl": [
           {
            "marker": {
             "colorbar": {
              "outlinewidth": 0,
              "ticks": ""
             }
            },
            "type": "scatterpolargl"
           }
          ],
          "scatterternary": [
           {
            "marker": {
             "colorbar": {
              "outlinewidth": 0,
              "ticks": ""
             }
            },
            "type": "scatterternary"
           }
          ],
          "surface": [
           {
            "colorbar": {
             "outlinewidth": 0,
             "ticks": ""
            },
            "colorscale": [
             [
              0,
              "#0d0887"
             ],
             [
              0.1111111111111111,
              "#46039f"
             ],
             [
              0.2222222222222222,
              "#7201a8"
             ],
             [
              0.3333333333333333,
              "#9c179e"
             ],
             [
              0.4444444444444444,
              "#bd3786"
             ],
             [
              0.5555555555555556,
              "#d8576b"
             ],
             [
              0.6666666666666666,
              "#ed7953"
             ],
             [
              0.7777777777777778,
              "#fb9f3a"
             ],
             [
              0.8888888888888888,
              "#fdca26"
             ],
             [
              1,
              "#f0f921"
             ]
            ],
            "type": "surface"
           }
          ],
          "table": [
           {
            "cells": {
             "fill": {
              "color": "#EBF0F8"
             },
             "line": {
              "color": "white"
             }
            },
            "header": {
             "fill": {
              "color": "#C8D4E3"
             },
             "line": {
              "color": "white"
             }
            },
            "type": "table"
           }
          ]
         },
         "layout": {
          "annotationdefaults": {
           "arrowcolor": "#2a3f5f",
           "arrowhead": 0,
           "arrowwidth": 1
          },
          "autotypenumbers": "strict",
          "coloraxis": {
           "colorbar": {
            "outlinewidth": 0,
            "ticks": ""
           }
          },
          "colorscale": {
           "diverging": [
            [
             0,
             "#8e0152"
            ],
            [
             0.1,
             "#c51b7d"
            ],
            [
             0.2,
             "#de77ae"
            ],
            [
             0.3,
             "#f1b6da"
            ],
            [
             0.4,
             "#fde0ef"
            ],
            [
             0.5,
             "#f7f7f7"
            ],
            [
             0.6,
             "#e6f5d0"
            ],
            [
             0.7,
             "#b8e186"
            ],
            [
             0.8,
             "#7fbc41"
            ],
            [
             0.9,
             "#4d9221"
            ],
            [
             1,
             "#276419"
            ]
           ],
           "sequential": [
            [
             0,
             "#0d0887"
            ],
            [
             0.1111111111111111,
             "#46039f"
            ],
            [
             0.2222222222222222,
             "#7201a8"
            ],
            [
             0.3333333333333333,
             "#9c179e"
            ],
            [
             0.4444444444444444,
             "#bd3786"
            ],
            [
             0.5555555555555556,
             "#d8576b"
            ],
            [
             0.6666666666666666,
             "#ed7953"
            ],
            [
             0.7777777777777778,
             "#fb9f3a"
            ],
            [
             0.8888888888888888,
             "#fdca26"
            ],
            [
             1,
             "#f0f921"
            ]
           ],
           "sequentialminus": [
            [
             0,
             "#0d0887"
            ],
            [
             0.1111111111111111,
             "#46039f"
            ],
            [
             0.2222222222222222,
             "#7201a8"
            ],
            [
             0.3333333333333333,
             "#9c179e"
            ],
            [
             0.4444444444444444,
             "#bd3786"
            ],
            [
             0.5555555555555556,
             "#d8576b"
            ],
            [
             0.6666666666666666,
             "#ed7953"
            ],
            [
             0.7777777777777778,
             "#fb9f3a"
            ],
            [
             0.8888888888888888,
             "#fdca26"
            ],
            [
             1,
             "#f0f921"
            ]
           ]
          },
          "colorway": [
           "#636efa",
           "#EF553B",
           "#00cc96",
           "#ab63fa",
           "#FFA15A",
           "#19d3f3",
           "#FF6692",
           "#B6E880",
           "#FF97FF",
           "#FECB52"
          ],
          "font": {
           "color": "#2a3f5f"
          },
          "geo": {
           "bgcolor": "white",
           "lakecolor": "white",
           "landcolor": "#E5ECF6",
           "showlakes": true,
           "showland": true,
           "subunitcolor": "white"
          },
          "hoverlabel": {
           "align": "left"
          },
          "hovermode": "closest",
          "mapbox": {
           "style": "light"
          },
          "paper_bgcolor": "white",
          "plot_bgcolor": "#E5ECF6",
          "polar": {
           "angularaxis": {
            "gridcolor": "white",
            "linecolor": "white",
            "ticks": ""
           },
           "bgcolor": "#E5ECF6",
           "radialaxis": {
            "gridcolor": "white",
            "linecolor": "white",
            "ticks": ""
           }
          },
          "scene": {
           "xaxis": {
            "backgroundcolor": "#E5ECF6",
            "gridcolor": "white",
            "gridwidth": 2,
            "linecolor": "white",
            "showbackground": true,
            "ticks": "",
            "zerolinecolor": "white"
           },
           "yaxis": {
            "backgroundcolor": "#E5ECF6",
            "gridcolor": "white",
            "gridwidth": 2,
            "linecolor": "white",
            "showbackground": true,
            "ticks": "",
            "zerolinecolor": "white"
           },
           "zaxis": {
            "backgroundcolor": "#E5ECF6",
            "gridcolor": "white",
            "gridwidth": 2,
            "linecolor": "white",
            "showbackground": true,
            "ticks": "",
            "zerolinecolor": "white"
           }
          },
          "shapedefaults": {
           "line": {
            "color": "#2a3f5f"
           }
          },
          "ternary": {
           "aaxis": {
            "gridcolor": "white",
            "linecolor": "white",
            "ticks": ""
           },
           "baxis": {
            "gridcolor": "white",
            "linecolor": "white",
            "ticks": ""
           },
           "bgcolor": "#E5ECF6",
           "caxis": {
            "gridcolor": "white",
            "linecolor": "white",
            "ticks": ""
           }
          },
          "title": {
           "x": 0.05
          },
          "xaxis": {
           "automargin": true,
           "gridcolor": "white",
           "linecolor": "white",
           "ticks": "",
           "title": {
            "standoff": 15
           },
           "zerolinecolor": "white",
           "zerolinewidth": 2
          },
          "yaxis": {
           "automargin": true,
           "gridcolor": "white",
           "linecolor": "white",
           "ticks": "",
           "title": {
            "standoff": 15
           },
           "zerolinecolor": "white",
           "zerolinewidth": 2
          }
         }
        },
        "width": 600,
        "xaxis": {
         "anchor": "y",
         "domain": [
          0,
          1
         ],
         "title": {
          "text": "Method"
         }
        },
        "yaxis": {
         "anchor": "x",
         "domain": [
          0,
          1
         ],
         "title": {
          "text": "Number of Parameters"
         },
         "type": "log"
        }
       }
      }
     },
     "metadata": {},
     "output_type": "display_data"
    }
   ],
   "source": [
    "# plot\n",
    "fig = nice_plot_multi_columns(\n",
    "    df_summary[df_summary['cd_method'] == 'no_compression'],\n",
    "    x_axis='method_name',\n",
    "    y_axiss=['param_client_first', 'param_server_middle', 'param_client_last'],\n",
    "    legend_names={\n",
    "        'param_client_first': 'Client (Head)',\n",
    "        'param_server_middle': 'Server (Body)',\n",
    "        'param_client_last': 'Client (Tail)',\n",
    "    },\n",
    "    y_axis_title='Number of Parameters',\n",
    "    x_axis_title='Method',\n",
    "    plot_type='bar',\n",
    ")\n",
    "# stack bar\n",
    "fig.update_layout(\n",
    "    barmode='stack',\n",
    "    legend={'traceorder':'reversed'},\n",
    "    width=600,\n",
    "    height=400,\n",
    "    )\n",
    "\n",
    "# y_axis_log\n",
    "fig.update_yaxes(type=\"log\")\n",
    "\n",
    "# show number inside the box using readable format\n",
    "for trace in fig.data:\n",
    "    trace.text = trace.y\n",
    "    trace.textposition = 'inside'\n",
    "    trace.texttemplate = '%{text:.2s}'\n",
    "\n",
    "fig.show()\n",
    "\n",
    "fig.write_image(\"figures/number_of_parameters.pdf\")"
   ]
  },
  {
   "cell_type": "markdown",
   "metadata": {},
   "source": [
    "## Data Size"
   ]
  },
  {
   "cell_type": "code",
   "execution_count": 28,
   "metadata": {},
   "outputs": [
    {
     "data": {
      "text/html": [
       "<div>\n",
       "<style scoped>\n",
       "    .dataframe tbody tr th:only-of-type {\n",
       "        vertical-align: middle;\n",
       "    }\n",
       "\n",
       "    .dataframe tbody tr th {\n",
       "        vertical-align: top;\n",
       "    }\n",
       "\n",
       "    .dataframe thead th {\n",
       "        text-align: right;\n",
       "    }\n",
       "</style>\n",
       "<table border=\"1\" class=\"dataframe\">\n",
       "  <thead>\n",
       "    <tr style=\"text-align: right;\">\n",
       "      <th></th>\n",
       "      <th>exp_seq</th>\n",
       "      <th>architecture_choice</th>\n",
       "      <th>cd_method</th>\n",
       "      <th>size_server_to_client_msg</th>\n",
       "      <th>size_server_output</th>\n",
       "      <th>size_client_head_gradient</th>\n",
       "      <th>size_server_model</th>\n",
       "      <th>size_client_to_server_msg</th>\n",
       "      <th>size_client_head_output</th>\n",
       "      <th>size_server_gradient</th>\n",
       "      <th>method_name</th>\n",
       "    </tr>\n",
       "  </thead>\n",
       "  <tbody>\n",
       "    <tr>\n",
       "      <th>0</th>\n",
       "      <td>0</td>\n",
       "      <td>1</td>\n",
       "      <td>no_compression</td>\n",
       "      <td>8.656530e+10</td>\n",
       "      <td>64066000.0</td>\n",
       "      <td>6.631311e+10</td>\n",
       "      <td>2.018810e+10</td>\n",
       "      <td>6.635594e+10</td>\n",
       "      <td>6.631308e+10</td>\n",
       "      <td>42808600.0</td>\n",
       "      <td>Split A</td>\n",
       "    </tr>\n",
       "    <tr>\n",
       "      <th>1</th>\n",
       "      <td>1</td>\n",
       "      <td>1</td>\n",
       "      <td>no_compression</td>\n",
       "      <td>8.656530e+10</td>\n",
       "      <td>64066000.0</td>\n",
       "      <td>6.631311e+10</td>\n",
       "      <td>2.018810e+10</td>\n",
       "      <td>6.635594e+10</td>\n",
       "      <td>6.631308e+10</td>\n",
       "      <td>42808600.0</td>\n",
       "      <td>Split A</td>\n",
       "    </tr>\n",
       "    <tr>\n",
       "      <th>2</th>\n",
       "      <td>2</td>\n",
       "      <td>1</td>\n",
       "      <td>no_compression</td>\n",
       "      <td>8.656530e+10</td>\n",
       "      <td>64066000.0</td>\n",
       "      <td>6.631311e+10</td>\n",
       "      <td>2.018810e+10</td>\n",
       "      <td>6.635594e+10</td>\n",
       "      <td>6.631308e+10</td>\n",
       "      <td>42808600.0</td>\n",
       "      <td>Split A</td>\n",
       "    </tr>\n",
       "    <tr>\n",
       "      <th>3</th>\n",
       "      <td>3</td>\n",
       "      <td>1</td>\n",
       "      <td>zstd</td>\n",
       "      <td>8.106987e+10</td>\n",
       "      <td>46890910.0</td>\n",
       "      <td>6.232745e+10</td>\n",
       "      <td>1.869551e+10</td>\n",
       "      <td>4.414208e+10</td>\n",
       "      <td>4.410242e+10</td>\n",
       "      <td>39608227.0</td>\n",
       "      <td>Split A (C/D)</td>\n",
       "    </tr>\n",
       "    <tr>\n",
       "      <th>4</th>\n",
       "      <td>4</td>\n",
       "      <td>1</td>\n",
       "      <td>zstd</td>\n",
       "      <td>8.107038e+10</td>\n",
       "      <td>46894665.0</td>\n",
       "      <td>6.232824e+10</td>\n",
       "      <td>1.869523e+10</td>\n",
       "      <td>4.414463e+10</td>\n",
       "      <td>4.410496e+10</td>\n",
       "      <td>39612767.0</td>\n",
       "      <td>Split A (C/D)</td>\n",
       "    </tr>\n",
       "    <tr>\n",
       "      <th>5</th>\n",
       "      <td>5</td>\n",
       "      <td>1</td>\n",
       "      <td>zstd</td>\n",
       "      <td>8.105609e+10</td>\n",
       "      <td>46875805.0</td>\n",
       "      <td>6.231391e+10</td>\n",
       "      <td>1.869528e+10</td>\n",
       "      <td>4.414246e+10</td>\n",
       "      <td>4.410280e+10</td>\n",
       "      <td>39601083.0</td>\n",
       "      <td>Split A (C/D)</td>\n",
       "    </tr>\n",
       "  </tbody>\n",
       "</table>\n",
       "</div>"
      ],
      "text/plain": [
       "   exp_seq  architecture_choice       cd_method  size_server_to_client_msg  \\\n",
       "0        0                    1  no_compression               8.656530e+10   \n",
       "1        1                    1  no_compression               8.656530e+10   \n",
       "2        2                    1  no_compression               8.656530e+10   \n",
       "3        3                    1            zstd               8.106987e+10   \n",
       "4        4                    1            zstd               8.107038e+10   \n",
       "5        5                    1            zstd               8.105609e+10   \n",
       "\n",
       "   size_server_output  size_client_head_gradient  size_server_model  \\\n",
       "0          64066000.0               6.631311e+10       2.018810e+10   \n",
       "1          64066000.0               6.631311e+10       2.018810e+10   \n",
       "2          64066000.0               6.631311e+10       2.018810e+10   \n",
       "3          46890910.0               6.232745e+10       1.869551e+10   \n",
       "4          46894665.0               6.232824e+10       1.869523e+10   \n",
       "5          46875805.0               6.231391e+10       1.869528e+10   \n",
       "\n",
       "   size_client_to_server_msg  size_client_head_output  size_server_gradient  \\\n",
       "0               6.635594e+10             6.631308e+10            42808600.0   \n",
       "1               6.635594e+10             6.631308e+10            42808600.0   \n",
       "2               6.635594e+10             6.631308e+10            42808600.0   \n",
       "3               4.414208e+10             4.410242e+10            39608227.0   \n",
       "4               4.414463e+10             4.410496e+10            39612767.0   \n",
       "5               4.414246e+10             4.410280e+10            39601083.0   \n",
       "\n",
       "     method_name  \n",
       "0       Split A   \n",
       "1       Split A   \n",
       "2       Split A   \n",
       "3  Split A (C/D)  \n",
       "4  Split A (C/D)  \n",
       "5  Split A (C/D)  "
      ]
     },
     "execution_count": 28,
     "metadata": {},
     "output_type": "execute_result"
    }
   ],
   "source": [
    "size_columns = ['size_server_to_client_msg',\n",
    "                'size_server_output',\n",
    "                'size_client_head_gradient',\n",
    "                'size_server_model',\n",
    "                'size_client_to_server_msg',\n",
    "                'size_client_head_output',\n",
    "                'size_server_gradient']\n",
    "\n",
    "df_summary = df[df['architecture_choice'] != 0].copy()\n",
    "df_summary = df_summary.groupby(['exp_seq', 'architecture_choice', 'cd_method'])[size_columns].agg('sum').reset_index()\n",
    "\n",
    "good_name_architecture = {\n",
    "    0 : 'Non-split',\n",
    "    1 : 'Split A',\n",
    "    2 : 'Split B',\n",
    "    3 : 'Split C',\n",
    "    4 : 'Split D',\n",
    "}\n",
    "\n",
    "good_name_cd_method = {\n",
    "    'no_compression' : '',\n",
    "    'zstd' : '(C/D)',\n",
    "}\n",
    "\n",
    "df_summary['method_name'] = df_summary.apply(lambda x: f\"{good_name_architecture[x['architecture_choice']]} {good_name_cd_method[x['cd_method']]}\", axis=1)\n",
    "df_summary"
   ]
  },
  {
   "cell_type": "code",
   "execution_count": 61,
   "metadata": {},
   "outputs": [
    {
     "data": {
      "application/vnd.plotly.v1+json": {
       "config": {
        "plotlyServerURL": "https://plot.ly"
       },
       "data": [
        {
         "alignmentgroup": "True",
         "error_y": {
          "array": [
           243.55492193753753,
           1373262.2340074717
          ]
         },
         "hovertemplate": "Legend=Client to Server<br>method_name=%{x}<br>value_mean=%{y}<extra></extra>",
         "legendgroup": "Client to Server",
         "marker": {
          "color": "#636efa",
          "pattern": {
           "shape": ""
          }
         },
         "name": "Client to Server",
         "offsetgroup": "Client to Server",
         "orientation": "v",
         "showlegend": true,
         "text": [
          66355942451,
          44143054442.666664
         ],
         "textposition": "inside",
         "texttemplate": "%{text:.2s}",
         "type": "bar",
         "x": [
          "Split A ",
          "Split A (C/D)"
         ],
         "xaxis": "x",
         "y": [
          66355942451,
          44143054442.666664
         ],
         "yaxis": "y"
        },
        {
         "alignmentgroup": "True",
         "error_y": {
          "array": [
           0,
           8106451.9090622505
          ]
         },
         "hovertemplate": "Legend=Server to Client<br>method_name=%{x}<br>value_mean=%{y}<extra></extra>",
         "legendgroup": "Server to Client",
         "marker": {
          "color": "#EF553B",
          "pattern": {
           "shape": ""
          }
         },
         "name": "Server to Client",
         "offsetgroup": "Server to Client",
         "orientation": "v",
         "showlegend": true,
         "text": [
          86565300329,
          81065449054
         ],
         "textposition": "inside",
         "texttemplate": "%{text:.2s}",
         "type": "bar",
         "x": [
          "Split A ",
          "Split A (C/D)"
         ],
         "xaxis": "x",
         "y": [
          86565300329,
          81065449054
         ],
         "yaxis": "y"
        }
       ],
       "layout": {
        "barmode": "stack",
        "font": {
         "size": 18
        },
        "height": 400,
        "hovermode": "x",
        "legend": {
         "title": {},
         "tracegroupgap": 0,
         "traceorder": "reversed"
        },
        "margin": {
         "t": 60
        },
        "template": {
         "data": {
          "bar": [
           {
            "error_x": {
             "color": "#2a3f5f"
            },
            "error_y": {
             "color": "#2a3f5f"
            },
            "marker": {
             "line": {
              "color": "#E5ECF6",
              "width": 0.5
             },
             "pattern": {
              "fillmode": "overlay",
              "size": 10,
              "solidity": 0.2
             }
            },
            "type": "bar"
           }
          ],
          "barpolar": [
           {
            "marker": {
             "line": {
              "color": "#E5ECF6",
              "width": 0.5
             },
             "pattern": {
              "fillmode": "overlay",
              "size": 10,
              "solidity": 0.2
             }
            },
            "type": "barpolar"
           }
          ],
          "carpet": [
           {
            "aaxis": {
             "endlinecolor": "#2a3f5f",
             "gridcolor": "white",
             "linecolor": "white",
             "minorgridcolor": "white",
             "startlinecolor": "#2a3f5f"
            },
            "baxis": {
             "endlinecolor": "#2a3f5f",
             "gridcolor": "white",
             "linecolor": "white",
             "minorgridcolor": "white",
             "startlinecolor": "#2a3f5f"
            },
            "type": "carpet"
           }
          ],
          "choropleth": [
           {
            "colorbar": {
             "outlinewidth": 0,
             "ticks": ""
            },
            "type": "choropleth"
           }
          ],
          "contour": [
           {
            "colorbar": {
             "outlinewidth": 0,
             "ticks": ""
            },
            "colorscale": [
             [
              0,
              "#0d0887"
             ],
             [
              0.1111111111111111,
              "#46039f"
             ],
             [
              0.2222222222222222,
              "#7201a8"
             ],
             [
              0.3333333333333333,
              "#9c179e"
             ],
             [
              0.4444444444444444,
              "#bd3786"
             ],
             [
              0.5555555555555556,
              "#d8576b"
             ],
             [
              0.6666666666666666,
              "#ed7953"
             ],
             [
              0.7777777777777778,
              "#fb9f3a"
             ],
             [
              0.8888888888888888,
              "#fdca26"
             ],
             [
              1,
              "#f0f921"
             ]
            ],
            "type": "contour"
           }
          ],
          "contourcarpet": [
           {
            "colorbar": {
             "outlinewidth": 0,
             "ticks": ""
            },
            "type": "contourcarpet"
           }
          ],
          "heatmap": [
           {
            "colorbar": {
             "outlinewidth": 0,
             "ticks": ""
            },
            "colorscale": [
             [
              0,
              "#0d0887"
             ],
             [
              0.1111111111111111,
              "#46039f"
             ],
             [
              0.2222222222222222,
              "#7201a8"
             ],
             [
              0.3333333333333333,
              "#9c179e"
             ],
             [
              0.4444444444444444,
              "#bd3786"
             ],
             [
              0.5555555555555556,
              "#d8576b"
             ],
             [
              0.6666666666666666,
              "#ed7953"
             ],
             [
              0.7777777777777778,
              "#fb9f3a"
             ],
             [
              0.8888888888888888,
              "#fdca26"
             ],
             [
              1,
              "#f0f921"
             ]
            ],
            "type": "heatmap"
           }
          ],
          "heatmapgl": [
           {
            "colorbar": {
             "outlinewidth": 0,
             "ticks": ""
            },
            "colorscale": [
             [
              0,
              "#0d0887"
             ],
             [
              0.1111111111111111,
              "#46039f"
             ],
             [
              0.2222222222222222,
              "#7201a8"
             ],
             [
              0.3333333333333333,
              "#9c179e"
             ],
             [
              0.4444444444444444,
              "#bd3786"
             ],
             [
              0.5555555555555556,
              "#d8576b"
             ],
             [
              0.6666666666666666,
              "#ed7953"
             ],
             [
              0.7777777777777778,
              "#fb9f3a"
             ],
             [
              0.8888888888888888,
              "#fdca26"
             ],
             [
              1,
              "#f0f921"
             ]
            ],
            "type": "heatmapgl"
           }
          ],
          "histogram": [
           {
            "marker": {
             "pattern": {
              "fillmode": "overlay",
              "size": 10,
              "solidity": 0.2
             }
            },
            "type": "histogram"
           }
          ],
          "histogram2d": [
           {
            "colorbar": {
             "outlinewidth": 0,
             "ticks": ""
            },
            "colorscale": [
             [
              0,
              "#0d0887"
             ],
             [
              0.1111111111111111,
              "#46039f"
             ],
             [
              0.2222222222222222,
              "#7201a8"
             ],
             [
              0.3333333333333333,
              "#9c179e"
             ],
             [
              0.4444444444444444,
              "#bd3786"
             ],
             [
              0.5555555555555556,
              "#d8576b"
             ],
             [
              0.6666666666666666,
              "#ed7953"
             ],
             [
              0.7777777777777778,
              "#fb9f3a"
             ],
             [
              0.8888888888888888,
              "#fdca26"
             ],
             [
              1,
              "#f0f921"
             ]
            ],
            "type": "histogram2d"
           }
          ],
          "histogram2dcontour": [
           {
            "colorbar": {
             "outlinewidth": 0,
             "ticks": ""
            },
            "colorscale": [
             [
              0,
              "#0d0887"
             ],
             [
              0.1111111111111111,
              "#46039f"
             ],
             [
              0.2222222222222222,
              "#7201a8"
             ],
             [
              0.3333333333333333,
              "#9c179e"
             ],
             [
              0.4444444444444444,
              "#bd3786"
             ],
             [
              0.5555555555555556,
              "#d8576b"
             ],
             [
              0.6666666666666666,
              "#ed7953"
             ],
             [
              0.7777777777777778,
              "#fb9f3a"
             ],
             [
              0.8888888888888888,
              "#fdca26"
             ],
             [
              1,
              "#f0f921"
             ]
            ],
            "type": "histogram2dcontour"
           }
          ],
          "mesh3d": [
           {
            "colorbar": {
             "outlinewidth": 0,
             "ticks": ""
            },
            "type": "mesh3d"
           }
          ],
          "parcoords": [
           {
            "line": {
             "colorbar": {
              "outlinewidth": 0,
              "ticks": ""
             }
            },
            "type": "parcoords"
           }
          ],
          "pie": [
           {
            "automargin": true,
            "type": "pie"
           }
          ],
          "scatter": [
           {
            "fillpattern": {
             "fillmode": "overlay",
             "size": 10,
             "solidity": 0.2
            },
            "type": "scatter"
           }
          ],
          "scatter3d": [
           {
            "line": {
             "colorbar": {
              "outlinewidth": 0,
              "ticks": ""
             }
            },
            "marker": {
             "colorbar": {
              "outlinewidth": 0,
              "ticks": ""
             }
            },
            "type": "scatter3d"
           }
          ],
          "scattercarpet": [
           {
            "marker": {
             "colorbar": {
              "outlinewidth": 0,
              "ticks": ""
             }
            },
            "type": "scattercarpet"
           }
          ],
          "scattergeo": [
           {
            "marker": {
             "colorbar": {
              "outlinewidth": 0,
              "ticks": ""
             }
            },
            "type": "scattergeo"
           }
          ],
          "scattergl": [
           {
            "marker": {
             "colorbar": {
              "outlinewidth": 0,
              "ticks": ""
             }
            },
            "type": "scattergl"
           }
          ],
          "scattermapbox": [
           {
            "marker": {
             "colorbar": {
              "outlinewidth": 0,
              "ticks": ""
             }
            },
            "type": "scattermapbox"
           }
          ],
          "scatterpolar": [
           {
            "marker": {
             "colorbar": {
              "outlinewidth": 0,
              "ticks": ""
             }
            },
            "type": "scatterpolar"
           }
          ],
          "scatterpolargl": [
           {
            "marker": {
             "colorbar": {
              "outlinewidth": 0,
              "ticks": ""
             }
            },
            "type": "scatterpolargl"
           }
          ],
          "scatterternary": [
           {
            "marker": {
             "colorbar": {
              "outlinewidth": 0,
              "ticks": ""
             }
            },
            "type": "scatterternary"
           }
          ],
          "surface": [
           {
            "colorbar": {
             "outlinewidth": 0,
             "ticks": ""
            },
            "colorscale": [
             [
              0,
              "#0d0887"
             ],
             [
              0.1111111111111111,
              "#46039f"
             ],
             [
              0.2222222222222222,
              "#7201a8"
             ],
             [
              0.3333333333333333,
              "#9c179e"
             ],
             [
              0.4444444444444444,
              "#bd3786"
             ],
             [
              0.5555555555555556,
              "#d8576b"
             ],
             [
              0.6666666666666666,
              "#ed7953"
             ],
             [
              0.7777777777777778,
              "#fb9f3a"
             ],
             [
              0.8888888888888888,
              "#fdca26"
             ],
             [
              1,
              "#f0f921"
             ]
            ],
            "type": "surface"
           }
          ],
          "table": [
           {
            "cells": {
             "fill": {
              "color": "#EBF0F8"
             },
             "line": {
              "color": "white"
             }
            },
            "header": {
             "fill": {
              "color": "#C8D4E3"
             },
             "line": {
              "color": "white"
             }
            },
            "type": "table"
           }
          ]
         },
         "layout": {
          "annotationdefaults": {
           "arrowcolor": "#2a3f5f",
           "arrowhead": 0,
           "arrowwidth": 1
          },
          "autotypenumbers": "strict",
          "coloraxis": {
           "colorbar": {
            "outlinewidth": 0,
            "ticks": ""
           }
          },
          "colorscale": {
           "diverging": [
            [
             0,
             "#8e0152"
            ],
            [
             0.1,
             "#c51b7d"
            ],
            [
             0.2,
             "#de77ae"
            ],
            [
             0.3,
             "#f1b6da"
            ],
            [
             0.4,
             "#fde0ef"
            ],
            [
             0.5,
             "#f7f7f7"
            ],
            [
             0.6,
             "#e6f5d0"
            ],
            [
             0.7,
             "#b8e186"
            ],
            [
             0.8,
             "#7fbc41"
            ],
            [
             0.9,
             "#4d9221"
            ],
            [
             1,
             "#276419"
            ]
           ],
           "sequential": [
            [
             0,
             "#0d0887"
            ],
            [
             0.1111111111111111,
             "#46039f"
            ],
            [
             0.2222222222222222,
             "#7201a8"
            ],
            [
             0.3333333333333333,
             "#9c179e"
            ],
            [
             0.4444444444444444,
             "#bd3786"
            ],
            [
             0.5555555555555556,
             "#d8576b"
            ],
            [
             0.6666666666666666,
             "#ed7953"
            ],
            [
             0.7777777777777778,
             "#fb9f3a"
            ],
            [
             0.8888888888888888,
             "#fdca26"
            ],
            [
             1,
             "#f0f921"
            ]
           ],
           "sequentialminus": [
            [
             0,
             "#0d0887"
            ],
            [
             0.1111111111111111,
             "#46039f"
            ],
            [
             0.2222222222222222,
             "#7201a8"
            ],
            [
             0.3333333333333333,
             "#9c179e"
            ],
            [
             0.4444444444444444,
             "#bd3786"
            ],
            [
             0.5555555555555556,
             "#d8576b"
            ],
            [
             0.6666666666666666,
             "#ed7953"
            ],
            [
             0.7777777777777778,
             "#fb9f3a"
            ],
            [
             0.8888888888888888,
             "#fdca26"
            ],
            [
             1,
             "#f0f921"
            ]
           ]
          },
          "colorway": [
           "#636efa",
           "#EF553B",
           "#00cc96",
           "#ab63fa",
           "#FFA15A",
           "#19d3f3",
           "#FF6692",
           "#B6E880",
           "#FF97FF",
           "#FECB52"
          ],
          "font": {
           "color": "#2a3f5f"
          },
          "geo": {
           "bgcolor": "white",
           "lakecolor": "white",
           "landcolor": "#E5ECF6",
           "showlakes": true,
           "showland": true,
           "subunitcolor": "white"
          },
          "hoverlabel": {
           "align": "left"
          },
          "hovermode": "closest",
          "mapbox": {
           "style": "light"
          },
          "paper_bgcolor": "white",
          "plot_bgcolor": "#E5ECF6",
          "polar": {
           "angularaxis": {
            "gridcolor": "white",
            "linecolor": "white",
            "ticks": ""
           },
           "bgcolor": "#E5ECF6",
           "radialaxis": {
            "gridcolor": "white",
            "linecolor": "white",
            "ticks": ""
           }
          },
          "scene": {
           "xaxis": {
            "backgroundcolor": "#E5ECF6",
            "gridcolor": "white",
            "gridwidth": 2,
            "linecolor": "white",
            "showbackground": true,
            "ticks": "",
            "zerolinecolor": "white"
           },
           "yaxis": {
            "backgroundcolor": "#E5ECF6",
            "gridcolor": "white",
            "gridwidth": 2,
            "linecolor": "white",
            "showbackground": true,
            "ticks": "",
            "zerolinecolor": "white"
           },
           "zaxis": {
            "backgroundcolor": "#E5ECF6",
            "gridcolor": "white",
            "gridwidth": 2,
            "linecolor": "white",
            "showbackground": true,
            "ticks": "",
            "zerolinecolor": "white"
           }
          },
          "shapedefaults": {
           "line": {
            "color": "#2a3f5f"
           }
          },
          "ternary": {
           "aaxis": {
            "gridcolor": "white",
            "linecolor": "white",
            "ticks": ""
           },
           "baxis": {
            "gridcolor": "white",
            "linecolor": "white",
            "ticks": ""
           },
           "bgcolor": "#E5ECF6",
           "caxis": {
            "gridcolor": "white",
            "linecolor": "white",
            "ticks": ""
           }
          },
          "title": {
           "x": 0.05
          },
          "xaxis": {
           "automargin": true,
           "gridcolor": "white",
           "linecolor": "white",
           "ticks": "",
           "title": {
            "standoff": 15
           },
           "zerolinecolor": "white",
           "zerolinewidth": 2
          },
          "yaxis": {
           "automargin": true,
           "gridcolor": "white",
           "linecolor": "white",
           "ticks": "",
           "title": {
            "standoff": 15
           },
           "zerolinecolor": "white",
           "zerolinewidth": 2
          }
         }
        },
        "width": 600,
        "xaxis": {
         "anchor": "y",
         "domain": [
          0,
          1
         ],
         "title": {
          "text": "Method"
         }
        },
        "yaxis": {
         "anchor": "x",
         "domain": [
          0,
          1
         ],
         "tickformat": "s",
         "title": {
          "text": "Memory"
         }
        }
       }
      }
     },
     "metadata": {},
     "output_type": "display_data"
    }
   ],
   "source": [
    "good_name_size_column = {\n",
    "    'size_server_to_client_msg' : 'Server to Client',\n",
    "    'size_server_output' : 'Server Output',\n",
    "    'size_client_head_gradient' : 'Client Gradient',\n",
    "    'size_server_model' : 'Server Model',\n",
    "    'size_client_to_server_msg' : 'Client to Server',\n",
    "    'size_client_head_output' : 'Client Output',\n",
    "    'size_server_gradient' : 'Server Gradient',\n",
    "}    \n",
    "\n",
    "\n",
    "column_to_plot = ['size_server_to_client_msg', 'size_client_to_server_msg']\n",
    "\n",
    "fig = nice_plot_multi_columns(\n",
    "    df_summary,\n",
    "    x_axis='method_name',\n",
    "    y_axiss=column_to_plot,\n",
    "    plot_type='bar',\n",
    "    y_axis_title='Memory',\n",
    "    x_axis_title='Method',\n",
    "    legend_names = {column : good_name_size_column[column] for column in column_to_plot}\n",
    ")\n",
    "\n",
    "for trace in fig.data:\n",
    "    trace.text = trace.y\n",
    "    trace.textposition = 'inside'\n",
    "    trace.texttemplate = '%{text:.2s}'\n",
    "\n",
    "# update_layout\n",
    "fig.update_layout(\n",
    "    barmode='stack',\n",
    "    legend={'traceorder':'reversed'},\n",
    "    width=600,\n",
    "    height=400,\n",
    ")\n",
    "fig.update_yaxes(tickformat=\"s\")\n",
    "fig.show()\n",
    "\n",
    "fig.write_image(f\"figures/memory_server_client.pdf\")"
   ]
  },
  {
   "cell_type": "code",
   "execution_count": 63,
   "metadata": {},
   "outputs": [
    {
     "data": {
      "application/vnd.plotly.v1+json": {
       "config": {
        "plotlyServerURL": "https://plot.ly"
       },
       "data": [
        {
         "alignmentgroup": "True",
         "error_y": {
          "array": [
           0,
           8050888.514679583
          ]
         },
         "hovertemplate": "Legend=Client Gradient<br>method_name=%{x}<br>value_mean=%{y}<extra></extra>",
         "legendgroup": "Client Gradient",
         "marker": {
          "color": "#636efa",
          "pattern": {
           "shape": ""
          }
         },
         "name": "Client Gradient",
         "offsetgroup": "Client Gradient",
         "orientation": "v",
         "showlegend": true,
         "text": [
          66313108600,
          62323198950.666664
         ],
         "textposition": "outside",
         "texttemplate": "%{text:.2s}",
         "type": "bar",
         "x": [
          "Split A ",
          "Split A (C/D)"
         ],
         "xaxis": "x",
         "y": [
          66313108600,
          62323198950.666664
         ],
         "yaxis": "y"
        },
        {
         "alignmentgroup": "True",
         "error_y": {
          "array": [
           0,
           1368905.6905503771
          ]
         },
         "hovertemplate": "Legend=Client Output<br>method_name=%{x}<br>value_mean=%{y}<extra></extra>",
         "legendgroup": "Client Output",
         "marker": {
          "color": "#EF553B",
          "pattern": {
           "shape": ""
          }
         },
         "name": "Client Output",
         "offsetgroup": "Client Output",
         "orientation": "v",
         "showlegend": true,
         "text": [
          66313082600,
          44103396037.666664
         ],
         "textposition": "outside",
         "texttemplate": "%{text:.2s}",
         "type": "bar",
         "x": [
          "Split A ",
          "Split A (C/D)"
         ],
         "xaxis": "x",
         "y": [
          66313082600,
          44103396037.666664
         ],
         "yaxis": "y"
        },
        {
         "alignmentgroup": "True",
         "error_y": {
          "array": [
           0,
           5890.164004507854
          ]
         },
         "hovertemplate": "Legend=Server Gradient<br>method_name=%{x}<br>value_mean=%{y}<extra></extra>",
         "legendgroup": "Server Gradient",
         "marker": {
          "color": "#00cc96",
          "pattern": {
           "shape": ""
          }
         },
         "name": "Server Gradient",
         "offsetgroup": "Server Gradient",
         "orientation": "v",
         "showlegend": true,
         "text": [
          42808600,
          39607359
         ],
         "textposition": "outside",
         "texttemplate": "%{text:.2s}",
         "type": "bar",
         "x": [
          "Split A ",
          "Split A (C/D)"
         ],
         "xaxis": "x",
         "y": [
          42808600,
          39607359
         ],
         "yaxis": "y"
        },
        {
         "alignmentgroup": "True",
         "error_y": {
          "array": [
           0,
           148677.7831768751
          ]
         },
         "hovertemplate": "Legend=Server Model<br>method_name=%{x}<br>value_mean=%{y}<extra></extra>",
         "legendgroup": "Server Model",
         "marker": {
          "color": "#ab63fa",
          "pattern": {
           "shape": ""
          }
         },
         "name": "Server Model",
         "offsetgroup": "Server Model",
         "orientation": "v",
         "showlegend": true,
         "text": [
          20188100900,
          18695338147.666668
         ],
         "textposition": "outside",
         "texttemplate": "%{text:.2s}",
         "type": "bar",
         "x": [
          "Split A ",
          "Split A (C/D)"
         ],
         "xaxis": "x",
         "y": [
          20188100900,
          18695338147.666668
         ],
         "yaxis": "y"
        },
        {
         "alignmentgroup": "True",
         "error_y": {
          "array": [
           0,
           9982.990951278693
          ]
         },
         "hovertemplate": "Legend=Server Output<br>method_name=%{x}<br>value_mean=%{y}<extra></extra>",
         "legendgroup": "Server Output",
         "marker": {
          "color": "#FFA15A",
          "pattern": {
           "shape": ""
          }
         },
         "name": "Server Output",
         "offsetgroup": "Server Output",
         "orientation": "v",
         "showlegend": true,
         "text": [
          64066000,
          46887126.666666664
         ],
         "textposition": "outside",
         "texttemplate": "%{text:.2s}",
         "type": "bar",
         "x": [
          "Split A ",
          "Split A (C/D)"
         ],
         "xaxis": "x",
         "y": [
          64066000,
          46887126.666666664
         ],
         "yaxis": "y"
        }
       ],
       "layout": {
        "barmode": "group",
        "font": {
         "size": 18
        },
        "height": 400,
        "hovermode": "x",
        "legend": {
         "title": {},
         "tracegroupgap": 0,
         "traceorder": "normal"
        },
        "margin": {
         "t": 60
        },
        "template": {
         "data": {
          "bar": [
           {
            "error_x": {
             "color": "#2a3f5f"
            },
            "error_y": {
             "color": "#2a3f5f"
            },
            "marker": {
             "line": {
              "color": "#E5ECF6",
              "width": 0.5
             },
             "pattern": {
              "fillmode": "overlay",
              "size": 10,
              "solidity": 0.2
             }
            },
            "type": "bar"
           }
          ],
          "barpolar": [
           {
            "marker": {
             "line": {
              "color": "#E5ECF6",
              "width": 0.5
             },
             "pattern": {
              "fillmode": "overlay",
              "size": 10,
              "solidity": 0.2
             }
            },
            "type": "barpolar"
           }
          ],
          "carpet": [
           {
            "aaxis": {
             "endlinecolor": "#2a3f5f",
             "gridcolor": "white",
             "linecolor": "white",
             "minorgridcolor": "white",
             "startlinecolor": "#2a3f5f"
            },
            "baxis": {
             "endlinecolor": "#2a3f5f",
             "gridcolor": "white",
             "linecolor": "white",
             "minorgridcolor": "white",
             "startlinecolor": "#2a3f5f"
            },
            "type": "carpet"
           }
          ],
          "choropleth": [
           {
            "colorbar": {
             "outlinewidth": 0,
             "ticks": ""
            },
            "type": "choropleth"
           }
          ],
          "contour": [
           {
            "colorbar": {
             "outlinewidth": 0,
             "ticks": ""
            },
            "colorscale": [
             [
              0,
              "#0d0887"
             ],
             [
              0.1111111111111111,
              "#46039f"
             ],
             [
              0.2222222222222222,
              "#7201a8"
             ],
             [
              0.3333333333333333,
              "#9c179e"
             ],
             [
              0.4444444444444444,
              "#bd3786"
             ],
             [
              0.5555555555555556,
              "#d8576b"
             ],
             [
              0.6666666666666666,
              "#ed7953"
             ],
             [
              0.7777777777777778,
              "#fb9f3a"
             ],
             [
              0.8888888888888888,
              "#fdca26"
             ],
             [
              1,
              "#f0f921"
             ]
            ],
            "type": "contour"
           }
          ],
          "contourcarpet": [
           {
            "colorbar": {
             "outlinewidth": 0,
             "ticks": ""
            },
            "type": "contourcarpet"
           }
          ],
          "heatmap": [
           {
            "colorbar": {
             "outlinewidth": 0,
             "ticks": ""
            },
            "colorscale": [
             [
              0,
              "#0d0887"
             ],
             [
              0.1111111111111111,
              "#46039f"
             ],
             [
              0.2222222222222222,
              "#7201a8"
             ],
             [
              0.3333333333333333,
              "#9c179e"
             ],
             [
              0.4444444444444444,
              "#bd3786"
             ],
             [
              0.5555555555555556,
              "#d8576b"
             ],
             [
              0.6666666666666666,
              "#ed7953"
             ],
             [
              0.7777777777777778,
              "#fb9f3a"
             ],
             [
              0.8888888888888888,
              "#fdca26"
             ],
             [
              1,
              "#f0f921"
             ]
            ],
            "type": "heatmap"
           }
          ],
          "heatmapgl": [
           {
            "colorbar": {
             "outlinewidth": 0,
             "ticks": ""
            },
            "colorscale": [
             [
              0,
              "#0d0887"
             ],
             [
              0.1111111111111111,
              "#46039f"
             ],
             [
              0.2222222222222222,
              "#7201a8"
             ],
             [
              0.3333333333333333,
              "#9c179e"
             ],
             [
              0.4444444444444444,
              "#bd3786"
             ],
             [
              0.5555555555555556,
              "#d8576b"
             ],
             [
              0.6666666666666666,
              "#ed7953"
             ],
             [
              0.7777777777777778,
              "#fb9f3a"
             ],
             [
              0.8888888888888888,
              "#fdca26"
             ],
             [
              1,
              "#f0f921"
             ]
            ],
            "type": "heatmapgl"
           }
          ],
          "histogram": [
           {
            "marker": {
             "pattern": {
              "fillmode": "overlay",
              "size": 10,
              "solidity": 0.2
             }
            },
            "type": "histogram"
           }
          ],
          "histogram2d": [
           {
            "colorbar": {
             "outlinewidth": 0,
             "ticks": ""
            },
            "colorscale": [
             [
              0,
              "#0d0887"
             ],
             [
              0.1111111111111111,
              "#46039f"
             ],
             [
              0.2222222222222222,
              "#7201a8"
             ],
             [
              0.3333333333333333,
              "#9c179e"
             ],
             [
              0.4444444444444444,
              "#bd3786"
             ],
             [
              0.5555555555555556,
              "#d8576b"
             ],
             [
              0.6666666666666666,
              "#ed7953"
             ],
             [
              0.7777777777777778,
              "#fb9f3a"
             ],
             [
              0.8888888888888888,
              "#fdca26"
             ],
             [
              1,
              "#f0f921"
             ]
            ],
            "type": "histogram2d"
           }
          ],
          "histogram2dcontour": [
           {
            "colorbar": {
             "outlinewidth": 0,
             "ticks": ""
            },
            "colorscale": [
             [
              0,
              "#0d0887"
             ],
             [
              0.1111111111111111,
              "#46039f"
             ],
             [
              0.2222222222222222,
              "#7201a8"
             ],
             [
              0.3333333333333333,
              "#9c179e"
             ],
             [
              0.4444444444444444,
              "#bd3786"
             ],
             [
              0.5555555555555556,
              "#d8576b"
             ],
             [
              0.6666666666666666,
              "#ed7953"
             ],
             [
              0.7777777777777778,
              "#fb9f3a"
             ],
             [
              0.8888888888888888,
              "#fdca26"
             ],
             [
              1,
              "#f0f921"
             ]
            ],
            "type": "histogram2dcontour"
           }
          ],
          "mesh3d": [
           {
            "colorbar": {
             "outlinewidth": 0,
             "ticks": ""
            },
            "type": "mesh3d"
           }
          ],
          "parcoords": [
           {
            "line": {
             "colorbar": {
              "outlinewidth": 0,
              "ticks": ""
             }
            },
            "type": "parcoords"
           }
          ],
          "pie": [
           {
            "automargin": true,
            "type": "pie"
           }
          ],
          "scatter": [
           {
            "fillpattern": {
             "fillmode": "overlay",
             "size": 10,
             "solidity": 0.2
            },
            "type": "scatter"
           }
          ],
          "scatter3d": [
           {
            "line": {
             "colorbar": {
              "outlinewidth": 0,
              "ticks": ""
             }
            },
            "marker": {
             "colorbar": {
              "outlinewidth": 0,
              "ticks": ""
             }
            },
            "type": "scatter3d"
           }
          ],
          "scattercarpet": [
           {
            "marker": {
             "colorbar": {
              "outlinewidth": 0,
              "ticks": ""
             }
            },
            "type": "scattercarpet"
           }
          ],
          "scattergeo": [
           {
            "marker": {
             "colorbar": {
              "outlinewidth": 0,
              "ticks": ""
             }
            },
            "type": "scattergeo"
           }
          ],
          "scattergl": [
           {
            "marker": {
             "colorbar": {
              "outlinewidth": 0,
              "ticks": ""
             }
            },
            "type": "scattergl"
           }
          ],
          "scattermapbox": [
           {
            "marker": {
             "colorbar": {
              "outlinewidth": 0,
              "ticks": ""
             }
            },
            "type": "scattermapbox"
           }
          ],
          "scatterpolar": [
           {
            "marker": {
             "colorbar": {
              "outlinewidth": 0,
              "ticks": ""
             }
            },
            "type": "scatterpolar"
           }
          ],
          "scatterpolargl": [
           {
            "marker": {
             "colorbar": {
              "outlinewidth": 0,
              "ticks": ""
             }
            },
            "type": "scatterpolargl"
           }
          ],
          "scatterternary": [
           {
            "marker": {
             "colorbar": {
              "outlinewidth": 0,
              "ticks": ""
             }
            },
            "type": "scatterternary"
           }
          ],
          "surface": [
           {
            "colorbar": {
             "outlinewidth": 0,
             "ticks": ""
            },
            "colorscale": [
             [
              0,
              "#0d0887"
             ],
             [
              0.1111111111111111,
              "#46039f"
             ],
             [
              0.2222222222222222,
              "#7201a8"
             ],
             [
              0.3333333333333333,
              "#9c179e"
             ],
             [
              0.4444444444444444,
              "#bd3786"
             ],
             [
              0.5555555555555556,
              "#d8576b"
             ],
             [
              0.6666666666666666,
              "#ed7953"
             ],
             [
              0.7777777777777778,
              "#fb9f3a"
             ],
             [
              0.8888888888888888,
              "#fdca26"
             ],
             [
              1,
              "#f0f921"
             ]
            ],
            "type": "surface"
           }
          ],
          "table": [
           {
            "cells": {
             "fill": {
              "color": "#EBF0F8"
             },
             "line": {
              "color": "white"
             }
            },
            "header": {
             "fill": {
              "color": "#C8D4E3"
             },
             "line": {
              "color": "white"
             }
            },
            "type": "table"
           }
          ]
         },
         "layout": {
          "annotationdefaults": {
           "arrowcolor": "#2a3f5f",
           "arrowhead": 0,
           "arrowwidth": 1
          },
          "autotypenumbers": "strict",
          "coloraxis": {
           "colorbar": {
            "outlinewidth": 0,
            "ticks": ""
           }
          },
          "colorscale": {
           "diverging": [
            [
             0,
             "#8e0152"
            ],
            [
             0.1,
             "#c51b7d"
            ],
            [
             0.2,
             "#de77ae"
            ],
            [
             0.3,
             "#f1b6da"
            ],
            [
             0.4,
             "#fde0ef"
            ],
            [
             0.5,
             "#f7f7f7"
            ],
            [
             0.6,
             "#e6f5d0"
            ],
            [
             0.7,
             "#b8e186"
            ],
            [
             0.8,
             "#7fbc41"
            ],
            [
             0.9,
             "#4d9221"
            ],
            [
             1,
             "#276419"
            ]
           ],
           "sequential": [
            [
             0,
             "#0d0887"
            ],
            [
             0.1111111111111111,
             "#46039f"
            ],
            [
             0.2222222222222222,
             "#7201a8"
            ],
            [
             0.3333333333333333,
             "#9c179e"
            ],
            [
             0.4444444444444444,
             "#bd3786"
            ],
            [
             0.5555555555555556,
             "#d8576b"
            ],
            [
             0.6666666666666666,
             "#ed7953"
            ],
            [
             0.7777777777777778,
             "#fb9f3a"
            ],
            [
             0.8888888888888888,
             "#fdca26"
            ],
            [
             1,
             "#f0f921"
            ]
           ],
           "sequentialminus": [
            [
             0,
             "#0d0887"
            ],
            [
             0.1111111111111111,
             "#46039f"
            ],
            [
             0.2222222222222222,
             "#7201a8"
            ],
            [
             0.3333333333333333,
             "#9c179e"
            ],
            [
             0.4444444444444444,
             "#bd3786"
            ],
            [
             0.5555555555555556,
             "#d8576b"
            ],
            [
             0.6666666666666666,
             "#ed7953"
            ],
            [
             0.7777777777777778,
             "#fb9f3a"
            ],
            [
             0.8888888888888888,
             "#fdca26"
            ],
            [
             1,
             "#f0f921"
            ]
           ]
          },
          "colorway": [
           "#636efa",
           "#EF553B",
           "#00cc96",
           "#ab63fa",
           "#FFA15A",
           "#19d3f3",
           "#FF6692",
           "#B6E880",
           "#FF97FF",
           "#FECB52"
          ],
          "font": {
           "color": "#2a3f5f"
          },
          "geo": {
           "bgcolor": "white",
           "lakecolor": "white",
           "landcolor": "#E5ECF6",
           "showlakes": true,
           "showland": true,
           "subunitcolor": "white"
          },
          "hoverlabel": {
           "align": "left"
          },
          "hovermode": "closest",
          "mapbox": {
           "style": "light"
          },
          "paper_bgcolor": "white",
          "plot_bgcolor": "#E5ECF6",
          "polar": {
           "angularaxis": {
            "gridcolor": "white",
            "linecolor": "white",
            "ticks": ""
           },
           "bgcolor": "#E5ECF6",
           "radialaxis": {
            "gridcolor": "white",
            "linecolor": "white",
            "ticks": ""
           }
          },
          "scene": {
           "xaxis": {
            "backgroundcolor": "#E5ECF6",
            "gridcolor": "white",
            "gridwidth": 2,
            "linecolor": "white",
            "showbackground": true,
            "ticks": "",
            "zerolinecolor": "white"
           },
           "yaxis": {
            "backgroundcolor": "#E5ECF6",
            "gridcolor": "white",
            "gridwidth": 2,
            "linecolor": "white",
            "showbackground": true,
            "ticks": "",
            "zerolinecolor": "white"
           },
           "zaxis": {
            "backgroundcolor": "#E5ECF6",
            "gridcolor": "white",
            "gridwidth": 2,
            "linecolor": "white",
            "showbackground": true,
            "ticks": "",
            "zerolinecolor": "white"
           }
          },
          "shapedefaults": {
           "line": {
            "color": "#2a3f5f"
           }
          },
          "ternary": {
           "aaxis": {
            "gridcolor": "white",
            "linecolor": "white",
            "ticks": ""
           },
           "baxis": {
            "gridcolor": "white",
            "linecolor": "white",
            "ticks": ""
           },
           "bgcolor": "#E5ECF6",
           "caxis": {
            "gridcolor": "white",
            "linecolor": "white",
            "ticks": ""
           }
          },
          "title": {
           "x": 0.05
          },
          "xaxis": {
           "automargin": true,
           "gridcolor": "white",
           "linecolor": "white",
           "ticks": "",
           "title": {
            "standoff": 15
           },
           "zerolinecolor": "white",
           "zerolinewidth": 2
          },
          "yaxis": {
           "automargin": true,
           "gridcolor": "white",
           "linecolor": "white",
           "ticks": "",
           "title": {
            "standoff": 15
           },
           "zerolinecolor": "white",
           "zerolinewidth": 2
          }
         }
        },
        "width": 600,
        "xaxis": {
         "anchor": "y",
         "domain": [
          0,
          1
         ],
         "title": {
          "text": "Method"
         }
        },
        "yaxis": {
         "anchor": "x",
         "domain": [
          0,
          1
         ],
         "range": [
          0,
          80530636800
         ],
         "tickformat": "s",
         "title": {
          "text": "Memory"
         }
        }
       }
      }
     },
     "metadata": {},
     "output_type": "display_data"
    }
   ],
   "source": [
    "column_to_plot = [\n",
    "            'size_server_output',\n",
    "            'size_client_head_gradient',\n",
    "            'size_server_model',\n",
    "            'size_client_head_output',\n",
    "            'size_server_gradient'\n",
    "            ]\n",
    "fig = nice_plot_multi_columns(\n",
    "    df_summary,\n",
    "    x_axis='method_name',\n",
    "    y_axiss=column_to_plot,\n",
    "    y_axis_title='Memory',\n",
    "    x_axis_title='Method',\n",
    "    plot_type='bar',\n",
    "    legend_names = {column : good_name_size_column[column] for column in column_to_plot}\n",
    ")\n",
    "for trace in fig.data:\n",
    "    trace.text = trace.y\n",
    "    trace.textposition = 'outside'\n",
    "    trace.texttemplate = '%{text:.2s}'\n",
    "\n",
    "fig.update_layout(\n",
    "    barmode='group',\n",
    "    legend={'traceorder':'normal'},\n",
    "    width=600,\n",
    "    height=400,\n",
    ")\n",
    "fig.update_yaxes(tickformat=\"s\", range=[0, 75*1024*1024*1024])\n",
    "# y_lim to 120G\n",
    "fig.show()\n",
    "\n",
    "fig.write_image(f\"figures/memory_breakdown.pdf\")"
   ]
  },
  {
   "cell_type": "markdown",
   "metadata": {},
   "source": [
    "## Non-split learning"
   ]
  },
  {
   "cell_type": "code",
   "execution_count": 15,
   "metadata": {},
   "outputs": [
    {
     "data": {
      "application/vnd.plotly.v1+json": {
       "config": {
        "plotlyServerURL": "https://plot.ly"
       },
       "data": [
        {
         "fill": "toself",
         "fillcolor": "rgba(99,110,250,.3)",
         "hoverinfo": "skip",
         "legendgroup": "0",
         "line": {
          "color": "rgba(255,255,255,0)"
         },
         "showlegend": false,
         "type": "scatter",
         "x": [
          0,
          1,
          2,
          3,
          4,
          5,
          6,
          7,
          8,
          9,
          10,
          11,
          12,
          13,
          14,
          15,
          16,
          17,
          18,
          19,
          20,
          21,
          22,
          23,
          24,
          25,
          26,
          27,
          28,
          29,
          30,
          31,
          32,
          33,
          34,
          35,
          36,
          37,
          38,
          39,
          40,
          41,
          42,
          43,
          44,
          45,
          46,
          47,
          48,
          49,
          50,
          51,
          52,
          53,
          54,
          55,
          56,
          57,
          58,
          59,
          60,
          61,
          62,
          63,
          64,
          65,
          66,
          67,
          68,
          69,
          70,
          71,
          72,
          73,
          74,
          75,
          76,
          77,
          78,
          79,
          80,
          81,
          82,
          83,
          84,
          85,
          86,
          87,
          88,
          89,
          90,
          91,
          92,
          93,
          94,
          95,
          96,
          97,
          98,
          99,
          99,
          98,
          97,
          96,
          95,
          94,
          93,
          92,
          91,
          90,
          89,
          88,
          87,
          86,
          85,
          84,
          83,
          82,
          81,
          80,
          79,
          78,
          77,
          76,
          75,
          74,
          73,
          72,
          71,
          70,
          69,
          68,
          67,
          66,
          65,
          64,
          63,
          62,
          61,
          60,
          59,
          58,
          57,
          56,
          55,
          54,
          53,
          52,
          51,
          50,
          49,
          48,
          47,
          46,
          45,
          44,
          43,
          42,
          41,
          40,
          39,
          38,
          37,
          36,
          35,
          34,
          33,
          32,
          31,
          30,
          29,
          28,
          27,
          26,
          25,
          24,
          23,
          22,
          21,
          20,
          19,
          18,
          17,
          16,
          15,
          14,
          13,
          12,
          11,
          10,
          9,
          8,
          7,
          6,
          5,
          4,
          3,
          2,
          1,
          0
         ],
         "xaxis": "x",
         "y": [
          0.5408504881621634,
          0.5933547952157386,
          0.6229482469006322,
          0.641747327766348,
          0.6423101759190734,
          0.642557897072287,
          0.645444218102693,
          0.6276754552350794,
          0.6551961151984231,
          0.6585408583480226,
          0.6471033924266079,
          0.6642880120446397,
          0.6414611203511859,
          0.6626294068852766,
          0.6745895500525468,
          0.6610311563644619,
          0.6602794234245052,
          0.6572893145414423,
          0.6418796884191054,
          0.6595363586984976,
          0.6621768268672685,
          0.6699375992782766,
          0.6500099036543382,
          0.6662711699938768,
          0.6659184356303183,
          0.6563351621953913,
          0.6571704975568528,
          0.6673635297998969,
          0.6681871218371348,
          0.6649580820611578,
          0.6649662681129317,
          0.6736613357651656,
          0.6450475153988504,
          0.6630826006915531,
          0.661293439458922,
          0.6682441116311507,
          0.66643762898326,
          0.6507376132038811,
          0.6756428897359535,
          0.6719384894389979,
          0.6612604260220912,
          0.6512996020104977,
          0.6684429548955892,
          0.6659044319304025,
          0.6666862033670106,
          0.6663711538775435,
          0.6638813134949871,
          0.659385118756257,
          0.6658689462931481,
          0.6617399519946026,
          0.6631840403896918,
          0.66854204907912,
          0.6709943777311245,
          0.6720446091362696,
          0.6818867241834471,
          0.6782565880491528,
          0.6634716539183001,
          0.6739584807012667,
          0.6736759678261132,
          0.6643609687688059,
          0.665295564157435,
          0.6775671106098612,
          0.6699225233614989,
          0.6682041970518435,
          0.6569939569734013,
          0.668977661921358,
          0.6693029000487389,
          0.678712941444235,
          0.671800540614899,
          0.6582901219676826,
          0.6725267943138424,
          0.6782333732182997,
          0.6761769636582337,
          0.6755400904074991,
          0.6641329790527654,
          0.6725886130046796,
          0.6591770753273951,
          0.66783248234284,
          0.677650153838216,
          0.6706645147330821,
          0.6636658017271946,
          0.6679127209102929,
          0.6742879041674991,
          0.6645673810978578,
          0.6478090667215706,
          0.6499940872898293,
          0.6643366675380812,
          0.6572914779331837,
          0.6566448645208306,
          0.6631066267925348,
          0.6753461711109839,
          0.6733320694334708,
          0.6726556198166594,
          0.6542653603828241,
          0.6636575282584637,
          0.6691179454680826,
          0.6755655479586173,
          0.6608381552050032,
          0.6591144782224903,
          0.665426843758381,
          0.6376260872012522,
          0.6387752383459568,
          0.6538377095142062,
          0.6396739918548104,
          0.6561098756890097,
          0.6486847425955101,
          0.6437596367323111,
          0.6349630755389376,
          0.66318048198774,
          0.6357334541067036,
          0.641242760183344,
          0.6373329566362617,
          0.640812436796003,
          0.6409597031328277,
          0.63378124584791,
          0.6425499840234852,
          0.6604687760021157,
          0.6503762337352151,
          0.636898869928707,
          0.6395787971922424,
          0.6489716737143933,
          0.6568444472099582,
          0.6576433718354296,
          0.6422863232228428,
          0.6352780986969859,
          0.6397767622893024,
          0.6333186941290216,
          0.6626128126641541,
          0.6566445268513685,
          0.6435357281173721,
          0.6489790914873813,
          0.6535851026430821,
          0.6444518476505763,
          0.6510547930444246,
          0.6612781250112919,
          0.6318882783577933,
          0.6510148901543384,
          0.654256861673312,
          0.6528352033434931,
          0.6533147478162276,
          0.6446105426973567,
          0.6543476702179717,
          0.6527461509026325,
          0.6447332385722913,
          0.6556517722249123,
          0.6460467071978239,
          0.6463740522622773,
          0.6593403335565784,
          0.6187168097577126,
          0.6448067018367498,
          0.653939259707063,
          0.6519747701210538,
          0.6347843448157909,
          0.6383599568910504,
          0.6207636950123071,
          0.6440890805344538,
          0.6436758341904852,
          0.6389615270433175,
          0.6424527205838271,
          0.6553544778423154,
          0.6479682693263817,
          0.6292814663499599,
          0.6018666524490706,
          0.6483960780598429,
          0.6453946297854397,
          0.6514884951231299,
          0.6578951173012524,
          0.626845612644279,
          0.6480040782673163,
          0.6494277634940376,
          0.622638954016705,
          0.6402545309461908,
          0.6346635300077669,
          0.6435263082722408,
          0.6325583196098196,
          0.6365708461347341,
          0.6267934913301474,
          0.6364597893308787,
          0.6479174019272131,
          0.6399065976469798,
          0.6423216300507341,
          0.6364843930487956,
          0.6472629836751503,
          0.6296173961386339,
          0.6290911330234908,
          0.6019933438185788,
          0.6317317061975184,
          0.6321004939039246,
          0.6175482823026919,
          0.6195250492846589,
          0.6071067754514621,
          0.6004181523750471,
          0.5816725921831745,
          0.6328747703226979,
          0.6283769976086898,
          0.61746400376661,
          0.587667458490147,
          0.5915404751285542,
          0.5488147378155886,
          0.45067196307964774
         ],
         "yaxis": "y"
        },
        {
         "hovertemplate": "architecture_choice=0<br>epoch=%{x}<br>val_mean_acc_mean=%{y}<extra></extra>",
         "legendgroup": "0",
         "line": {
          "color": "#636efa",
          "dash": "solid"
         },
         "marker": {
          "symbol": "circle"
         },
         "mode": "lines",
         "name": "0",
         "orientation": "v",
         "showlegend": true,
         "type": "scatter",
         "x": [
          0,
          1,
          2,
          3,
          4,
          5,
          6,
          7,
          8,
          9,
          10,
          11,
          12,
          13,
          14,
          15,
          16,
          17,
          18,
          19,
          20,
          21,
          22,
          23,
          24,
          25,
          26,
          27,
          28,
          29,
          30,
          31,
          32,
          33,
          34,
          35,
          36,
          37,
          38,
          39,
          40,
          41,
          42,
          43,
          44,
          45,
          46,
          47,
          48,
          49,
          50,
          51,
          52,
          53,
          54,
          55,
          56,
          57,
          58,
          59,
          60,
          61,
          62,
          63,
          64,
          65,
          66,
          67,
          68,
          69,
          70,
          71,
          72,
          73,
          74,
          75,
          76,
          77,
          78,
          79,
          80,
          81,
          82,
          83,
          84,
          85,
          86,
          87,
          88,
          89,
          90,
          91,
          92,
          93,
          94,
          95,
          96,
          97,
          98,
          99
         ],
         "xaxis": "x",
         "y": [
          0.4957612256209056,
          0.5710847665156636,
          0.6072443610145932,
          0.6147073931282475,
          0.6298870898428417,
          0.6354674473404884,
          0.6391594942126955,
          0.6046740237091269,
          0.6278071337867351,
          0.6328238168997423,
          0.6333142208556334,
          0.6409181471736658,
          0.6367808071275552,
          0.6471805565413975,
          0.6382914469355628,
          0.6450611446939764,
          0.6449484097815695,
          0.6522761491082963,
          0.6391820407339505,
          0.6509289943746158,
          0.6510417122571241,
          0.6589275006027449,
          0.6432348464926084,
          0.6465323306620121,
          0.6512446408825262,
          0.6444467409026055,
          0.6503484029145468,
          0.6510135299038319,
          0.6542208263916628,
          0.6437985180389314,
          0.6571970158034847,
          0.660832707016241,
          0.6359465640215647,
          0.6604888589964028,
          0.656390967291026,
          0.6568193707082952,
          0.6574168535215514,
          0.6263021328264758,
          0.6524621780429567,
          0.6599533793826898,
          0.6583074519322033,
          0.6468761612971624,
          0.6537022409694534,
          0.6547901330604439,
          0.6553876419507322,
          0.6435674244449253,
          0.6511206351930188,
          0.647084731786024,
          0.6589218582071009,
          0.6578396058508328,
          0.6539953711132208,
          0.6436294294184163,
          0.6651673556438514,
          0.6592093306992735,
          0.6639667156906355,
          0.6669541801370326,
          0.6541024462452957,
          0.6633523158019496,
          0.6640118190220424,
          0.6544857557330813,
          0.6593051559868313,
          0.6652011569766771,
          0.6620896925174055,
          0.659609543603091,
          0.6444411176655973,
          0.665127893466325,
          0.6601788465465818,
          0.6615823945474056,
          0.6626928216289906,
          0.6536346067275319,
          0.6580312612156073,
          0.6674389500348341,
          0.6693948881611939,
          0.6544293922682604,
          0.6519548706710339,
          0.6539333558508328,
          0.650731699275119,
          0.6627379270891348,
          0.6672473005240871,
          0.6598180942237377,
          0.6516222994597185,
          0.6524057954195,
          0.6623320689513571,
          0.6625180785499868,
          0.6451795253725279,
          0.6418876665688696,
          0.6526481853354544,
          0.6490519573645933,
          0.6469889105785461,
          0.6521746934879394,
          0.6555398126088438,
          0.6682562757106054,
          0.6538093476777985,
          0.6490124985575676,
          0.6561711354269869,
          0.6626139105785461,
          0.6576197699067139,
          0.6573379323596047,
          0.6489448582842235,
          0.6515264654798166
         ],
         "yaxis": "y"
        },
        {
         "fill": "toself",
         "fillcolor": "rgba(239,85,59,.3)",
         "hoverinfo": "skip",
         "legendgroup": "5",
         "line": {
          "color": "rgba(255,255,255,0)"
         },
         "showlegend": false,
         "type": "scatter",
         "x": [
          0,
          1,
          2,
          3,
          4,
          5,
          6,
          7,
          8,
          9,
          10,
          11,
          12,
          13,
          14,
          15,
          16,
          17,
          18,
          19,
          20,
          21,
          22,
          23,
          24,
          25,
          26,
          27,
          28,
          29,
          30,
          31,
          32,
          33,
          34,
          35,
          36,
          37,
          38,
          39,
          40,
          41,
          42,
          43,
          44,
          45,
          46,
          47,
          48,
          49,
          50,
          51,
          52,
          53,
          54,
          55,
          56,
          57,
          58,
          59,
          60,
          61,
          62,
          63,
          64,
          65,
          66,
          67,
          68,
          69,
          70,
          71,
          72,
          73,
          74,
          75,
          76,
          77,
          78,
          79,
          80,
          81,
          82,
          83,
          84,
          85,
          86,
          87,
          88,
          89,
          90,
          91,
          92,
          93,
          94,
          95,
          96,
          97,
          98,
          99,
          99,
          98,
          97,
          96,
          95,
          94,
          93,
          92,
          91,
          90,
          89,
          88,
          87,
          86,
          85,
          84,
          83,
          82,
          81,
          80,
          79,
          78,
          77,
          76,
          75,
          74,
          73,
          72,
          71,
          70,
          69,
          68,
          67,
          66,
          65,
          64,
          63,
          62,
          61,
          60,
          59,
          58,
          57,
          56,
          55,
          54,
          53,
          52,
          51,
          50,
          49,
          48,
          47,
          46,
          45,
          44,
          43,
          42,
          41,
          40,
          39,
          38,
          37,
          36,
          35,
          34,
          33,
          32,
          31,
          30,
          29,
          28,
          27,
          26,
          25,
          24,
          23,
          22,
          21,
          20,
          19,
          18,
          17,
          16,
          15,
          14,
          13,
          12,
          11,
          10,
          9,
          8,
          7,
          6,
          5,
          4,
          3,
          2,
          1,
          0
         ],
         "xaxis": "x",
         "y": [
          0.5318741781987854,
          0.5933287703708308,
          0.6313688469417066,
          0.6297514294348896,
          0.6259799607686626,
          0.641260988818914,
          0.6192672619279013,
          0.6436734903359022,
          0.6425225926761066,
          0.6387009235713744,
          0.6376601615197168,
          0.6417670400719222,
          0.6676469701851956,
          0.6488017150601164,
          0.6501927000008719,
          0.6576515663461183,
          0.6523115689788467,
          0.6496326727923238,
          0.6528535693397198,
          0.6492157197599724,
          0.6494439985857254,
          0.6652371754210727,
          0.6527566139717699,
          0.6472051834236391,
          0.6549536068324824,
          0.663587454951968,
          0.658855533370538,
          0.6485295686486156,
          0.6480686691728247,
          0.6383366027499102,
          0.6677844736355393,
          0.6461072972078123,
          0.662757813340658,
          0.6524088376588585,
          0.6588313355257978,
          0.664407947640517,
          0.6632062516980084,
          0.6603463791298688,
          0.6679092512541315,
          0.6680363949509255,
          0.6593439618881939,
          0.6695552509238897,
          0.6656287834966512,
          0.6555791919973846,
          0.6508982947225042,
          0.6574288770900978,
          0.6708278432061403,
          0.6437684597127581,
          0.6672527212160797,
          0.6568590039441141,
          0.6466776917540638,
          0.6669909585300919,
          0.6649472011857479,
          0.668038051576743,
          0.665752260079649,
          0.66735651502345,
          0.6745536280015649,
          0.6677922573228912,
          0.6631728545391657,
          0.672753917317173,
          0.667262380374265,
          0.6664519482566656,
          0.6689900704887515,
          0.6616457270182967,
          0.6661259125607263,
          0.6608496661847723,
          0.6589840003214443,
          0.6646085969810215,
          0.6688047513342941,
          0.6584812054964743,
          0.6522731151285291,
          0.6681141810673199,
          0.6605613639811428,
          0.6641993408436319,
          0.6608822660851617,
          0.6558616883193975,
          0.6530955839872808,
          0.6647355909615329,
          0.6630635105209003,
          0.6579590638374792,
          0.6721770864739292,
          0.6594632840627707,
          0.663293511361533,
          0.6664133318285681,
          0.6678191926237474,
          0.6579461938605664,
          0.6702658439446496,
          0.6525274235626475,
          0.6621948758028525,
          0.6688546843762018,
          0.6582347860153158,
          0.6614189259118392,
          0.6776188503490781,
          0.6691002876755053,
          0.6595425706051716,
          0.669472882012205,
          0.6480986685966674,
          0.6622194971796238,
          0.674460727238364,
          0.664922122214772,
          0.658253915482793,
          0.6561558153876308,
          0.6393566435562068,
          0.6192850899141946,
          0.6360264183484746,
          0.6572414376678848,
          0.6467818271067144,
          0.653211876955653,
          0.6548690298008654,
          0.6369831019709583,
          0.6371293731098555,
          0.6538788867161666,
          0.6401088478261103,
          0.6584003601984887,
          0.644362700123706,
          0.650610733343083,
          0.6617343133241822,
          0.6488007502421631,
          0.6507144934319323,
          0.6398945984514,
          0.6391302137961196,
          0.6551071079223617,
          0.6510901924643204,
          0.6203419958403685,
          0.6244639866203257,
          0.6302546408849532,
          0.6249985408180784,
          0.6235409254684582,
          0.6578238681043322,
          0.6408591910811033,
          0.6453496022660122,
          0.630077017846004,
          0.6516568235636938,
          0.6429303251059971,
          0.6437702815296928,
          0.6471069623805318,
          0.6381942755241536,
          0.6359681172644944,
          0.6491145280004088,
          0.6588560565781669,
          0.6336585017209864,
          0.6335895143243715,
          0.6244043496282092,
          0.6547890090321247,
          0.6481197747938152,
          0.6514375969292625,
          0.6524661731493888,
          0.6514084171520423,
          0.64646737027045,
          0.6280676150443265,
          0.6387083861656974,
          0.6599367015729947,
          0.6323973151775965,
          0.6291136326961446,
          0.6344408125759917,
          0.6450072900130255,
          0.6302704629609772,
          0.6322721848676556,
          0.659043319686906,
          0.6448475973101627,
          0.5952212824054767,
          0.6370376148097131,
          0.6506881700752073,
          0.6399368798930165,
          0.6245644624224319,
          0.6276609181722561,
          0.6449509964558521,
          0.6168238001432251,
          0.62992319287838,
          0.6337352853638084,
          0.6324855522290009,
          0.6114800321730959,
          0.6013690527203602,
          0.6340964070552665,
          0.6457335423174126,
          0.6438492773744031,
          0.6383400883533322,
          0.6269377441812328,
          0.6176475926562325,
          0.6185259570601311,
          0.6373667107985728,
          0.6337514254795581,
          0.6271643997261158,
          0.6226028510979321,
          0.6154703767303332,
          0.635521671217696,
          0.6324145476465719,
          0.5723422924212208,
          0.6070944299660603,
          0.612452666879737,
          0.6279613473236981,
          0.6031710221189878,
          0.5925166250761743,
          0.5979045497038465,
          0.6093816993277454,
          0.5715535051532162,
          0.5907911540023034,
          0.5837512064205722,
          0.5564616237934363,
          0.4410245220979161
         ],
         "yaxis": "y"
        },
        {
         "hovertemplate": "architecture_choice=5<br>epoch=%{x}<br>val_mean_acc_mean=%{y}<extra></extra>",
         "legendgroup": "5",
         "line": {
          "color": "#EF553B",
          "dash": "solid"
         },
         "marker": {
          "symbol": "circle"
         },
         "mode": "lines",
         "name": "5",
         "orientation": "v",
         "showlegend": true,
         "type": "scatter",
         "x": [
          0,
          1,
          2,
          3,
          4,
          5,
          6,
          7,
          8,
          9,
          10,
          11,
          12,
          13,
          14,
          15,
          16,
          17,
          18,
          19,
          20,
          21,
          22,
          23,
          24,
          25,
          26,
          27,
          28,
          29,
          30,
          31,
          32,
          33,
          34,
          35,
          36,
          37,
          38,
          39,
          40,
          41,
          42,
          43,
          44,
          45,
          46,
          47,
          48,
          49,
          50,
          51,
          52,
          53,
          54,
          55,
          56,
          57,
          58,
          59,
          60,
          61,
          62,
          63,
          64,
          65,
          66,
          67,
          68,
          69,
          70,
          71,
          72,
          73,
          74,
          75,
          76,
          77,
          78,
          79,
          80,
          81,
          82,
          83,
          84,
          85,
          86,
          87,
          88,
          89,
          90,
          91,
          92,
          93,
          94,
          95,
          96,
          97,
          98,
          99
         ],
         "xaxis": "x",
         "y": [
          0.4864493501483507,
          0.5748951970821335,
          0.6075600266811394,
          0.6102712917185965,
          0.5987667329609394,
          0.6253213440733297,
          0.6085859058158739,
          0.6180950577060382,
          0.6228468073975472,
          0.6333311354475363,
          0.6250564141997269,
          0.6244307350189913,
          0.6199946313032082,
          0.6406081313533442,
          0.642857185609284,
          0.6365609715382258,
          0.6374572100383894,
          0.6383985362592198,
          0.643302497409639,
          0.6432912152792726,
          0.6339849778229283,
          0.6414423840386526,
          0.6398471790765013,
          0.6427726358884857,
          0.6494014421034427,
          0.6546604986346903,
          0.6464759702129023,
          0.6249493106844879,
          0.6297743506729603,
          0.6354110774894556,
          0.6507598794996738,
          0.6380152450430961,
          0.6397908067419416,
          0.6486799170573553,
          0.6432461268490269,
          0.6444862050314745,
          0.6515715657955125,
          0.6555172746025381,
          0.6524734330319223,
          0.6316288386782011,
          0.6520957795991783,
          0.6642992853053978,
          0.6489504841821534,
          0.6429248274791809,
          0.6479527923677648,
          0.6459348448330448,
          0.6499707379511425,
          0.6380828874451773,
          0.6635947113945372,
          0.6477836950549057,
          0.6373726533991951,
          0.656729164400271,
          0.6581778091688951,
          0.6602521123630659,
          0.6585949285044558,
          0.6577381449086326,
          0.6646713185168448,
          0.6460983034755502,
          0.6483811844317686,
          0.6532062095190797,
          0.663059218476216,
          0.6577832381285372,
          0.652479093876623,
          0.6499200012712252,
          0.656616437470629,
          0.6523099738572326,
          0.6509571627137207,
          0.6581327102723576,
          0.649440884590149,
          0.6519154038812432,
          0.6465661531048162,
          0.6629690245858261,
          0.6420511447248005,
          0.6445989408308551,
          0.6455684534850574,
          0.6401628374698616,
          0.6367187899138247,
          0.6579128917129267,
          0.659085309221631,
          0.6485446388167994,
          0.6560358424626646,
          0.6550888887473515,
          0.6560471308018481,
          0.6640738225763752,
          0.6592149629834152,
          0.6511544469921362,
          0.6643331020715691,
          0.6463181356943789,
          0.6580368812595095,
          0.6529920287430286,
          0.6476089439931371,
          0.6581439778563523,
          0.6654153636523655,
          0.6579410573911099,
          0.6583920041365282,
          0.6527496501803398,
          0.633691879255431,
          0.6507880703679153,
          0.6653082713129974,
          0.6615880188487825
         ],
         "yaxis": "y"
        }
       ],
       "layout": {
        "font": {
         "size": 18
        },
        "height": 400,
        "hovermode": "x",
        "legend": {
         "title": {
          "text": "architecture_choice"
         },
         "tracegroupgap": 0
        },
        "margin": {
         "t": 60
        },
        "template": {
         "data": {
          "bar": [
           {
            "error_x": {
             "color": "#2a3f5f"
            },
            "error_y": {
             "color": "#2a3f5f"
            },
            "marker": {
             "line": {
              "color": "#E5ECF6",
              "width": 0.5
             },
             "pattern": {
              "fillmode": "overlay",
              "size": 10,
              "solidity": 0.2
             }
            },
            "type": "bar"
           }
          ],
          "barpolar": [
           {
            "marker": {
             "line": {
              "color": "#E5ECF6",
              "width": 0.5
             },
             "pattern": {
              "fillmode": "overlay",
              "size": 10,
              "solidity": 0.2
             }
            },
            "type": "barpolar"
           }
          ],
          "carpet": [
           {
            "aaxis": {
             "endlinecolor": "#2a3f5f",
             "gridcolor": "white",
             "linecolor": "white",
             "minorgridcolor": "white",
             "startlinecolor": "#2a3f5f"
            },
            "baxis": {
             "endlinecolor": "#2a3f5f",
             "gridcolor": "white",
             "linecolor": "white",
             "minorgridcolor": "white",
             "startlinecolor": "#2a3f5f"
            },
            "type": "carpet"
           }
          ],
          "choropleth": [
           {
            "colorbar": {
             "outlinewidth": 0,
             "ticks": ""
            },
            "type": "choropleth"
           }
          ],
          "contour": [
           {
            "colorbar": {
             "outlinewidth": 0,
             "ticks": ""
            },
            "colorscale": [
             [
              0,
              "#0d0887"
             ],
             [
              0.1111111111111111,
              "#46039f"
             ],
             [
              0.2222222222222222,
              "#7201a8"
             ],
             [
              0.3333333333333333,
              "#9c179e"
             ],
             [
              0.4444444444444444,
              "#bd3786"
             ],
             [
              0.5555555555555556,
              "#d8576b"
             ],
             [
              0.6666666666666666,
              "#ed7953"
             ],
             [
              0.7777777777777778,
              "#fb9f3a"
             ],
             [
              0.8888888888888888,
              "#fdca26"
             ],
             [
              1,
              "#f0f921"
             ]
            ],
            "type": "contour"
           }
          ],
          "contourcarpet": [
           {
            "colorbar": {
             "outlinewidth": 0,
             "ticks": ""
            },
            "type": "contourcarpet"
           }
          ],
          "heatmap": [
           {
            "colorbar": {
             "outlinewidth": 0,
             "ticks": ""
            },
            "colorscale": [
             [
              0,
              "#0d0887"
             ],
             [
              0.1111111111111111,
              "#46039f"
             ],
             [
              0.2222222222222222,
              "#7201a8"
             ],
             [
              0.3333333333333333,
              "#9c179e"
             ],
             [
              0.4444444444444444,
              "#bd3786"
             ],
             [
              0.5555555555555556,
              "#d8576b"
             ],
             [
              0.6666666666666666,
              "#ed7953"
             ],
             [
              0.7777777777777778,
              "#fb9f3a"
             ],
             [
              0.8888888888888888,
              "#fdca26"
             ],
             [
              1,
              "#f0f921"
             ]
            ],
            "type": "heatmap"
           }
          ],
          "heatmapgl": [
           {
            "colorbar": {
             "outlinewidth": 0,
             "ticks": ""
            },
            "colorscale": [
             [
              0,
              "#0d0887"
             ],
             [
              0.1111111111111111,
              "#46039f"
             ],
             [
              0.2222222222222222,
              "#7201a8"
             ],
             [
              0.3333333333333333,
              "#9c179e"
             ],
             [
              0.4444444444444444,
              "#bd3786"
             ],
             [
              0.5555555555555556,
              "#d8576b"
             ],
             [
              0.6666666666666666,
              "#ed7953"
             ],
             [
              0.7777777777777778,
              "#fb9f3a"
             ],
             [
              0.8888888888888888,
              "#fdca26"
             ],
             [
              1,
              "#f0f921"
             ]
            ],
            "type": "heatmapgl"
           }
          ],
          "histogram": [
           {
            "marker": {
             "pattern": {
              "fillmode": "overlay",
              "size": 10,
              "solidity": 0.2
             }
            },
            "type": "histogram"
           }
          ],
          "histogram2d": [
           {
            "colorbar": {
             "outlinewidth": 0,
             "ticks": ""
            },
            "colorscale": [
             [
              0,
              "#0d0887"
             ],
             [
              0.1111111111111111,
              "#46039f"
             ],
             [
              0.2222222222222222,
              "#7201a8"
             ],
             [
              0.3333333333333333,
              "#9c179e"
             ],
             [
              0.4444444444444444,
              "#bd3786"
             ],
             [
              0.5555555555555556,
              "#d8576b"
             ],
             [
              0.6666666666666666,
              "#ed7953"
             ],
             [
              0.7777777777777778,
              "#fb9f3a"
             ],
             [
              0.8888888888888888,
              "#fdca26"
             ],
             [
              1,
              "#f0f921"
             ]
            ],
            "type": "histogram2d"
           }
          ],
          "histogram2dcontour": [
           {
            "colorbar": {
             "outlinewidth": 0,
             "ticks": ""
            },
            "colorscale": [
             [
              0,
              "#0d0887"
             ],
             [
              0.1111111111111111,
              "#46039f"
             ],
             [
              0.2222222222222222,
              "#7201a8"
             ],
             [
              0.3333333333333333,
              "#9c179e"
             ],
             [
              0.4444444444444444,
              "#bd3786"
             ],
             [
              0.5555555555555556,
              "#d8576b"
             ],
             [
              0.6666666666666666,
              "#ed7953"
             ],
             [
              0.7777777777777778,
              "#fb9f3a"
             ],
             [
              0.8888888888888888,
              "#fdca26"
             ],
             [
              1,
              "#f0f921"
             ]
            ],
            "type": "histogram2dcontour"
           }
          ],
          "mesh3d": [
           {
            "colorbar": {
             "outlinewidth": 0,
             "ticks": ""
            },
            "type": "mesh3d"
           }
          ],
          "parcoords": [
           {
            "line": {
             "colorbar": {
              "outlinewidth": 0,
              "ticks": ""
             }
            },
            "type": "parcoords"
           }
          ],
          "pie": [
           {
            "automargin": true,
            "type": "pie"
           }
          ],
          "scatter": [
           {
            "fillpattern": {
             "fillmode": "overlay",
             "size": 10,
             "solidity": 0.2
            },
            "type": "scatter"
           }
          ],
          "scatter3d": [
           {
            "line": {
             "colorbar": {
              "outlinewidth": 0,
              "ticks": ""
             }
            },
            "marker": {
             "colorbar": {
              "outlinewidth": 0,
              "ticks": ""
             }
            },
            "type": "scatter3d"
           }
          ],
          "scattercarpet": [
           {
            "marker": {
             "colorbar": {
              "outlinewidth": 0,
              "ticks": ""
             }
            },
            "type": "scattercarpet"
           }
          ],
          "scattergeo": [
           {
            "marker": {
             "colorbar": {
              "outlinewidth": 0,
              "ticks": ""
             }
            },
            "type": "scattergeo"
           }
          ],
          "scattergl": [
           {
            "marker": {
             "colorbar": {
              "outlinewidth": 0,
              "ticks": ""
             }
            },
            "type": "scattergl"
           }
          ],
          "scattermapbox": [
           {
            "marker": {
             "colorbar": {
              "outlinewidth": 0,
              "ticks": ""
             }
            },
            "type": "scattermapbox"
           }
          ],
          "scatterpolar": [
           {
            "marker": {
             "colorbar": {
              "outlinewidth": 0,
              "ticks": ""
             }
            },
            "type": "scatterpolar"
           }
          ],
          "scatterpolargl": [
           {
            "marker": {
             "colorbar": {
              "outlinewidth": 0,
              "ticks": ""
             }
            },
            "type": "scatterpolargl"
           }
          ],
          "scatterternary": [
           {
            "marker": {
             "colorbar": {
              "outlinewidth": 0,
              "ticks": ""
             }
            },
            "type": "scatterternary"
           }
          ],
          "surface": [
           {
            "colorbar": {
             "outlinewidth": 0,
             "ticks": ""
            },
            "colorscale": [
             [
              0,
              "#0d0887"
             ],
             [
              0.1111111111111111,
              "#46039f"
             ],
             [
              0.2222222222222222,
              "#7201a8"
             ],
             [
              0.3333333333333333,
              "#9c179e"
             ],
             [
              0.4444444444444444,
              "#bd3786"
             ],
             [
              0.5555555555555556,
              "#d8576b"
             ],
             [
              0.6666666666666666,
              "#ed7953"
             ],
             [
              0.7777777777777778,
              "#fb9f3a"
             ],
             [
              0.8888888888888888,
              "#fdca26"
             ],
             [
              1,
              "#f0f921"
             ]
            ],
            "type": "surface"
           }
          ],
          "table": [
           {
            "cells": {
             "fill": {
              "color": "#EBF0F8"
             },
             "line": {
              "color": "white"
             }
            },
            "header": {
             "fill": {
              "color": "#C8D4E3"
             },
             "line": {
              "color": "white"
             }
            },
            "type": "table"
           }
          ]
         },
         "layout": {
          "annotationdefaults": {
           "arrowcolor": "#2a3f5f",
           "arrowhead": 0,
           "arrowwidth": 1
          },
          "autotypenumbers": "strict",
          "coloraxis": {
           "colorbar": {
            "outlinewidth": 0,
            "ticks": ""
           }
          },
          "colorscale": {
           "diverging": [
            [
             0,
             "#8e0152"
            ],
            [
             0.1,
             "#c51b7d"
            ],
            [
             0.2,
             "#de77ae"
            ],
            [
             0.3,
             "#f1b6da"
            ],
            [
             0.4,
             "#fde0ef"
            ],
            [
             0.5,
             "#f7f7f7"
            ],
            [
             0.6,
             "#e6f5d0"
            ],
            [
             0.7,
             "#b8e186"
            ],
            [
             0.8,
             "#7fbc41"
            ],
            [
             0.9,
             "#4d9221"
            ],
            [
             1,
             "#276419"
            ]
           ],
           "sequential": [
            [
             0,
             "#0d0887"
            ],
            [
             0.1111111111111111,
             "#46039f"
            ],
            [
             0.2222222222222222,
             "#7201a8"
            ],
            [
             0.3333333333333333,
             "#9c179e"
            ],
            [
             0.4444444444444444,
             "#bd3786"
            ],
            [
             0.5555555555555556,
             "#d8576b"
            ],
            [
             0.6666666666666666,
             "#ed7953"
            ],
            [
             0.7777777777777778,
             "#fb9f3a"
            ],
            [
             0.8888888888888888,
             "#fdca26"
            ],
            [
             1,
             "#f0f921"
            ]
           ],
           "sequentialminus": [
            [
             0,
             "#0d0887"
            ],
            [
             0.1111111111111111,
             "#46039f"
            ],
            [
             0.2222222222222222,
             "#7201a8"
            ],
            [
             0.3333333333333333,
             "#9c179e"
            ],
            [
             0.4444444444444444,
             "#bd3786"
            ],
            [
             0.5555555555555556,
             "#d8576b"
            ],
            [
             0.6666666666666666,
             "#ed7953"
            ],
            [
             0.7777777777777778,
             "#fb9f3a"
            ],
            [
             0.8888888888888888,
             "#fdca26"
            ],
            [
             1,
             "#f0f921"
            ]
           ]
          },
          "colorway": [
           "#636efa",
           "#EF553B",
           "#00cc96",
           "#ab63fa",
           "#FFA15A",
           "#19d3f3",
           "#FF6692",
           "#B6E880",
           "#FF97FF",
           "#FECB52"
          ],
          "font": {
           "color": "#2a3f5f"
          },
          "geo": {
           "bgcolor": "white",
           "lakecolor": "white",
           "landcolor": "#E5ECF6",
           "showlakes": true,
           "showland": true,
           "subunitcolor": "white"
          },
          "hoverlabel": {
           "align": "left"
          },
          "hovermode": "closest",
          "mapbox": {
           "style": "light"
          },
          "paper_bgcolor": "white",
          "plot_bgcolor": "#E5ECF6",
          "polar": {
           "angularaxis": {
            "gridcolor": "white",
            "linecolor": "white",
            "ticks": ""
           },
           "bgcolor": "#E5ECF6",
           "radialaxis": {
            "gridcolor": "white",
            "linecolor": "white",
            "ticks": ""
           }
          },
          "scene": {
           "xaxis": {
            "backgroundcolor": "#E5ECF6",
            "gridcolor": "white",
            "gridwidth": 2,
            "linecolor": "white",
            "showbackground": true,
            "ticks": "",
            "zerolinecolor": "white"
           },
           "yaxis": {
            "backgroundcolor": "#E5ECF6",
            "gridcolor": "white",
            "gridwidth": 2,
            "linecolor": "white",
            "showbackground": true,
            "ticks": "",
            "zerolinecolor": "white"
           },
           "zaxis": {
            "backgroundcolor": "#E5ECF6",
            "gridcolor": "white",
            "gridwidth": 2,
            "linecolor": "white",
            "showbackground": true,
            "ticks": "",
            "zerolinecolor": "white"
           }
          },
          "shapedefaults": {
           "line": {
            "color": "#2a3f5f"
           }
          },
          "ternary": {
           "aaxis": {
            "gridcolor": "white",
            "linecolor": "white",
            "ticks": ""
           },
           "baxis": {
            "gridcolor": "white",
            "linecolor": "white",
            "ticks": ""
           },
           "bgcolor": "#E5ECF6",
           "caxis": {
            "gridcolor": "white",
            "linecolor": "white",
            "ticks": ""
           }
          },
          "title": {
           "x": 0.05
          },
          "xaxis": {
           "automargin": true,
           "gridcolor": "white",
           "linecolor": "white",
           "ticks": "",
           "title": {
            "standoff": 15
           },
           "zerolinecolor": "white",
           "zerolinewidth": 2
          },
          "yaxis": {
           "automargin": true,
           "gridcolor": "white",
           "linecolor": "white",
           "ticks": "",
           "title": {
            "standoff": 15
           },
           "zerolinecolor": "white",
           "zerolinewidth": 2
          }
         }
        },
        "width": 800,
        "xaxis": {
         "anchor": "y",
         "domain": [
          0,
          1
         ],
         "title": {
          "text": "Epoch"
         }
        },
        "yaxis": {
         "anchor": "x",
         "domain": [
          0,
          1
         ],
         "title": {
          "text": "val_mean_acc"
         }
        }
       }
      },
      "text/html": [
       "<div>                            <div id=\"129f1981-f3e8-47cf-9c67-e72341354a61\" class=\"plotly-graph-div\" style=\"height:400px; width:800px;\"></div>            <script type=\"text/javascript\">                require([\"plotly\"], function(Plotly) {                    window.PLOTLYENV=window.PLOTLYENV || {};                                    if (document.getElementById(\"129f1981-f3e8-47cf-9c67-e72341354a61\")) {                    Plotly.newPlot(                        \"129f1981-f3e8-47cf-9c67-e72341354a61\",                        [{\"fill\":\"toself\",\"fillcolor\":\"rgba(99,110,250,.3)\",\"hoverinfo\":\"skip\",\"legendgroup\":\"0\",\"line\":{\"color\":\"rgba(255,255,255,0)\"},\"showlegend\":false,\"x\":[0,1,2,3,4,5,6,7,8,9,10,11,12,13,14,15,16,17,18,19,20,21,22,23,24,25,26,27,28,29,30,31,32,33,34,35,36,37,38,39,40,41,42,43,44,45,46,47,48,49,50,51,52,53,54,55,56,57,58,59,60,61,62,63,64,65,66,67,68,69,70,71,72,73,74,75,76,77,78,79,80,81,82,83,84,85,86,87,88,89,90,91,92,93,94,95,96,97,98,99,99,98,97,96,95,94,93,92,91,90,89,88,87,86,85,84,83,82,81,80,79,78,77,76,75,74,73,72,71,70,69,68,67,66,65,64,63,62,61,60,59,58,57,56,55,54,53,52,51,50,49,48,47,46,45,44,43,42,41,40,39,38,37,36,35,34,33,32,31,30,29,28,27,26,25,24,23,22,21,20,19,18,17,16,15,14,13,12,11,10,9,8,7,6,5,4,3,2,1,0],\"xaxis\":\"x\",\"y\":[0.5408504881621634,0.5933547952157386,0.6229482469006322,0.641747327766348,0.6423101759190734,0.642557897072287,0.645444218102693,0.6276754552350794,0.6551961151984231,0.6585408583480226,0.6471033924266079,0.6642880120446397,0.6414611203511859,0.6626294068852766,0.6745895500525468,0.6610311563644619,0.6602794234245052,0.6572893145414423,0.6418796884191054,0.6595363586984976,0.6621768268672685,0.6699375992782766,0.6500099036543382,0.6662711699938768,0.6659184356303183,0.6563351621953913,0.6571704975568528,0.6673635297998969,0.6681871218371348,0.6649580820611578,0.6649662681129317,0.6736613357651656,0.6450475153988504,0.6630826006915531,0.661293439458922,0.6682441116311507,0.66643762898326,0.6507376132038811,0.6756428897359535,0.6719384894389979,0.6612604260220912,0.6512996020104977,0.6684429548955892,0.6659044319304025,0.6666862033670106,0.6663711538775435,0.6638813134949871,0.659385118756257,0.6658689462931481,0.6617399519946026,0.6631840403896918,0.66854204907912,0.6709943777311245,0.6720446091362696,0.6818867241834471,0.6782565880491528,0.6634716539183001,0.6739584807012667,0.6736759678261132,0.6643609687688059,0.665295564157435,0.6775671106098612,0.6699225233614989,0.6682041970518435,0.6569939569734013,0.668977661921358,0.6693029000487389,0.678712941444235,0.671800540614899,0.6582901219676826,0.6725267943138424,0.6782333732182997,0.6761769636582337,0.6755400904074991,0.6641329790527654,0.6725886130046796,0.6591770753273951,0.66783248234284,0.677650153838216,0.6706645147330821,0.6636658017271946,0.6679127209102929,0.6742879041674991,0.6645673810978578,0.6478090667215706,0.6499940872898293,0.6643366675380812,0.6572914779331837,0.6566448645208306,0.6631066267925348,0.6753461711109839,0.6733320694334708,0.6726556198166594,0.6542653603828241,0.6636575282584637,0.6691179454680826,0.6755655479586173,0.6608381552050032,0.6591144782224903,0.665426843758381,0.6376260872012522,0.6387752383459568,0.6538377095142062,0.6396739918548104,0.6561098756890097,0.6486847425955101,0.6437596367323111,0.6349630755389376,0.66318048198774,0.6357334541067036,0.641242760183344,0.6373329566362617,0.640812436796003,0.6409597031328277,0.63378124584791,0.6425499840234852,0.6604687760021157,0.6503762337352151,0.636898869928707,0.6395787971922424,0.6489716737143933,0.6568444472099582,0.6576433718354296,0.6422863232228428,0.6352780986969859,0.6397767622893024,0.6333186941290216,0.6626128126641541,0.6566445268513685,0.6435357281173721,0.6489790914873813,0.6535851026430821,0.6444518476505763,0.6510547930444246,0.6612781250112919,0.6318882783577933,0.6510148901543384,0.654256861673312,0.6528352033434931,0.6533147478162276,0.6446105426973567,0.6543476702179717,0.6527461509026325,0.6447332385722913,0.6556517722249123,0.6460467071978239,0.6463740522622773,0.6593403335565784,0.6187168097577126,0.6448067018367498,0.653939259707063,0.6519747701210538,0.6347843448157909,0.6383599568910504,0.6207636950123071,0.6440890805344538,0.6436758341904852,0.6389615270433175,0.6424527205838271,0.6553544778423154,0.6479682693263817,0.6292814663499599,0.6018666524490706,0.6483960780598429,0.6453946297854397,0.6514884951231299,0.6578951173012524,0.626845612644279,0.6480040782673163,0.6494277634940376,0.622638954016705,0.6402545309461908,0.6346635300077669,0.6435263082722408,0.6325583196098196,0.6365708461347341,0.6267934913301474,0.6364597893308787,0.6479174019272131,0.6399065976469798,0.6423216300507341,0.6364843930487956,0.6472629836751503,0.6296173961386339,0.6290911330234908,0.6019933438185788,0.6317317061975184,0.6321004939039246,0.6175482823026919,0.6195250492846589,0.6071067754514621,0.6004181523750471,0.5816725921831745,0.6328747703226979,0.6283769976086898,0.61746400376661,0.587667458490147,0.5915404751285542,0.5488147378155886,0.45067196307964774],\"yaxis\":\"y\",\"type\":\"scatter\"},{\"hovertemplate\":\"architecture_choice=0\\u003cbr\\u003eepoch=%{x}\\u003cbr\\u003eval_mean_acc_mean=%{y}\\u003cextra\\u003e\\u003c\\u002fextra\\u003e\",\"legendgroup\":\"0\",\"line\":{\"color\":\"#636efa\",\"dash\":\"solid\"},\"marker\":{\"symbol\":\"circle\"},\"mode\":\"lines\",\"name\":\"0\",\"orientation\":\"v\",\"showlegend\":true,\"x\":[0,1,2,3,4,5,6,7,8,9,10,11,12,13,14,15,16,17,18,19,20,21,22,23,24,25,26,27,28,29,30,31,32,33,34,35,36,37,38,39,40,41,42,43,44,45,46,47,48,49,50,51,52,53,54,55,56,57,58,59,60,61,62,63,64,65,66,67,68,69,70,71,72,73,74,75,76,77,78,79,80,81,82,83,84,85,86,87,88,89,90,91,92,93,94,95,96,97,98,99],\"xaxis\":\"x\",\"y\":[0.4957612256209056,0.5710847665156636,0.6072443610145932,0.6147073931282475,0.6298870898428417,0.6354674473404884,0.6391594942126955,0.6046740237091269,0.6278071337867351,0.6328238168997423,0.6333142208556334,0.6409181471736658,0.6367808071275552,0.6471805565413975,0.6382914469355628,0.6450611446939764,0.6449484097815695,0.6522761491082963,0.6391820407339505,0.6509289943746158,0.6510417122571241,0.6589275006027449,0.6432348464926084,0.6465323306620121,0.6512446408825262,0.6444467409026055,0.6503484029145468,0.6510135299038319,0.6542208263916628,0.6437985180389314,0.6571970158034847,0.660832707016241,0.6359465640215647,0.6604888589964028,0.656390967291026,0.6568193707082952,0.6574168535215514,0.6263021328264758,0.6524621780429567,0.6599533793826898,0.6583074519322033,0.6468761612971624,0.6537022409694534,0.6547901330604439,0.6553876419507322,0.6435674244449253,0.6511206351930188,0.647084731786024,0.6589218582071009,0.6578396058508328,0.6539953711132208,0.6436294294184163,0.6651673556438514,0.6592093306992735,0.6639667156906355,0.6669541801370326,0.6541024462452957,0.6633523158019496,0.6640118190220424,0.6544857557330813,0.6593051559868313,0.6652011569766771,0.6620896925174055,0.659609543603091,0.6444411176655973,0.665127893466325,0.6601788465465818,0.6615823945474056,0.6626928216289906,0.6536346067275319,0.6580312612156073,0.6674389500348341,0.6693948881611939,0.6544293922682604,0.6519548706710339,0.6539333558508328,0.650731699275119,0.6627379270891348,0.6672473005240871,0.6598180942237377,0.6516222994597185,0.6524057954195,0.6623320689513571,0.6625180785499868,0.6451795253725279,0.6418876665688696,0.6526481853354544,0.6490519573645933,0.6469889105785461,0.6521746934879394,0.6555398126088438,0.6682562757106054,0.6538093476777985,0.6490124985575676,0.6561711354269869,0.6626139105785461,0.6576197699067139,0.6573379323596047,0.6489448582842235,0.6515264654798166],\"yaxis\":\"y\",\"type\":\"scatter\"},{\"fill\":\"toself\",\"fillcolor\":\"rgba(239,85,59,.3)\",\"hoverinfo\":\"skip\",\"legendgroup\":\"5\",\"line\":{\"color\":\"rgba(255,255,255,0)\"},\"showlegend\":false,\"x\":[0,1,2,3,4,5,6,7,8,9,10,11,12,13,14,15,16,17,18,19,20,21,22,23,24,25,26,27,28,29,30,31,32,33,34,35,36,37,38,39,40,41,42,43,44,45,46,47,48,49,50,51,52,53,54,55,56,57,58,59,60,61,62,63,64,65,66,67,68,69,70,71,72,73,74,75,76,77,78,79,80,81,82,83,84,85,86,87,88,89,90,91,92,93,94,95,96,97,98,99,99,98,97,96,95,94,93,92,91,90,89,88,87,86,85,84,83,82,81,80,79,78,77,76,75,74,73,72,71,70,69,68,67,66,65,64,63,62,61,60,59,58,57,56,55,54,53,52,51,50,49,48,47,46,45,44,43,42,41,40,39,38,37,36,35,34,33,32,31,30,29,28,27,26,25,24,23,22,21,20,19,18,17,16,15,14,13,12,11,10,9,8,7,6,5,4,3,2,1,0],\"xaxis\":\"x\",\"y\":[0.5318741781987854,0.5933287703708308,0.6313688469417066,0.6297514294348896,0.6259799607686626,0.641260988818914,0.6192672619279013,0.6436734903359022,0.6425225926761066,0.6387009235713744,0.6376601615197168,0.6417670400719222,0.6676469701851956,0.6488017150601164,0.6501927000008719,0.6576515663461183,0.6523115689788467,0.6496326727923238,0.6528535693397198,0.6492157197599724,0.6494439985857254,0.6652371754210727,0.6527566139717699,0.6472051834236391,0.6549536068324824,0.663587454951968,0.658855533370538,0.6485295686486156,0.6480686691728247,0.6383366027499102,0.6677844736355393,0.6461072972078123,0.662757813340658,0.6524088376588585,0.6588313355257978,0.664407947640517,0.6632062516980084,0.6603463791298688,0.6679092512541315,0.6680363949509255,0.6593439618881939,0.6695552509238897,0.6656287834966512,0.6555791919973846,0.6508982947225042,0.6574288770900978,0.6708278432061403,0.6437684597127581,0.6672527212160797,0.6568590039441141,0.6466776917540638,0.6669909585300919,0.6649472011857479,0.668038051576743,0.665752260079649,0.66735651502345,0.6745536280015649,0.6677922573228912,0.6631728545391657,0.672753917317173,0.667262380374265,0.6664519482566656,0.6689900704887515,0.6616457270182967,0.6661259125607263,0.6608496661847723,0.6589840003214443,0.6646085969810215,0.6688047513342941,0.6584812054964743,0.6522731151285291,0.6681141810673199,0.6605613639811428,0.6641993408436319,0.6608822660851617,0.6558616883193975,0.6530955839872808,0.6647355909615329,0.6630635105209003,0.6579590638374792,0.6721770864739292,0.6594632840627707,0.663293511361533,0.6664133318285681,0.6678191926237474,0.6579461938605664,0.6702658439446496,0.6525274235626475,0.6621948758028525,0.6688546843762018,0.6582347860153158,0.6614189259118392,0.6776188503490781,0.6691002876755053,0.6595425706051716,0.669472882012205,0.6480986685966674,0.6622194971796238,0.674460727238364,0.664922122214772,0.658253915482793,0.6561558153876308,0.6393566435562068,0.6192850899141946,0.6360264183484746,0.6572414376678848,0.6467818271067144,0.653211876955653,0.6548690298008654,0.6369831019709583,0.6371293731098555,0.6538788867161666,0.6401088478261103,0.6584003601984887,0.644362700123706,0.650610733343083,0.6617343133241822,0.6488007502421631,0.6507144934319323,0.6398945984514,0.6391302137961196,0.6551071079223617,0.6510901924643204,0.6203419958403685,0.6244639866203257,0.6302546408849532,0.6249985408180784,0.6235409254684582,0.6578238681043322,0.6408591910811033,0.6453496022660122,0.630077017846004,0.6516568235636938,0.6429303251059971,0.6437702815296928,0.6471069623805318,0.6381942755241536,0.6359681172644944,0.6491145280004088,0.6588560565781669,0.6336585017209864,0.6335895143243715,0.6244043496282092,0.6547890090321247,0.6481197747938152,0.6514375969292625,0.6524661731493888,0.6514084171520423,0.64646737027045,0.6280676150443265,0.6387083861656974,0.6599367015729947,0.6323973151775965,0.6291136326961446,0.6344408125759917,0.6450072900130255,0.6302704629609772,0.6322721848676556,0.659043319686906,0.6448475973101627,0.5952212824054767,0.6370376148097131,0.6506881700752073,0.6399368798930165,0.6245644624224319,0.6276609181722561,0.6449509964558521,0.6168238001432251,0.62992319287838,0.6337352853638084,0.6324855522290009,0.6114800321730959,0.6013690527203602,0.6340964070552665,0.6457335423174126,0.6438492773744031,0.6383400883533322,0.6269377441812328,0.6176475926562325,0.6185259570601311,0.6373667107985728,0.6337514254795581,0.6271643997261158,0.6226028510979321,0.6154703767303332,0.635521671217696,0.6324145476465719,0.5723422924212208,0.6070944299660603,0.612452666879737,0.6279613473236981,0.6031710221189878,0.5925166250761743,0.5979045497038465,0.6093816993277454,0.5715535051532162,0.5907911540023034,0.5837512064205722,0.5564616237934363,0.4410245220979161],\"yaxis\":\"y\",\"type\":\"scatter\"},{\"hovertemplate\":\"architecture_choice=5\\u003cbr\\u003eepoch=%{x}\\u003cbr\\u003eval_mean_acc_mean=%{y}\\u003cextra\\u003e\\u003c\\u002fextra\\u003e\",\"legendgroup\":\"5\",\"line\":{\"color\":\"#EF553B\",\"dash\":\"solid\"},\"marker\":{\"symbol\":\"circle\"},\"mode\":\"lines\",\"name\":\"5\",\"orientation\":\"v\",\"showlegend\":true,\"x\":[0,1,2,3,4,5,6,7,8,9,10,11,12,13,14,15,16,17,18,19,20,21,22,23,24,25,26,27,28,29,30,31,32,33,34,35,36,37,38,39,40,41,42,43,44,45,46,47,48,49,50,51,52,53,54,55,56,57,58,59,60,61,62,63,64,65,66,67,68,69,70,71,72,73,74,75,76,77,78,79,80,81,82,83,84,85,86,87,88,89,90,91,92,93,94,95,96,97,98,99],\"xaxis\":\"x\",\"y\":[0.4864493501483507,0.5748951970821335,0.6075600266811394,0.6102712917185965,0.5987667329609394,0.6253213440733297,0.6085859058158739,0.6180950577060382,0.6228468073975472,0.6333311354475363,0.6250564141997269,0.6244307350189913,0.6199946313032082,0.6406081313533442,0.642857185609284,0.6365609715382258,0.6374572100383894,0.6383985362592198,0.643302497409639,0.6432912152792726,0.6339849778229283,0.6414423840386526,0.6398471790765013,0.6427726358884857,0.6494014421034427,0.6546604986346903,0.6464759702129023,0.6249493106844879,0.6297743506729603,0.6354110774894556,0.6507598794996738,0.6380152450430961,0.6397908067419416,0.6486799170573553,0.6432461268490269,0.6444862050314745,0.6515715657955125,0.6555172746025381,0.6524734330319223,0.6316288386782011,0.6520957795991783,0.6642992853053978,0.6489504841821534,0.6429248274791809,0.6479527923677648,0.6459348448330448,0.6499707379511425,0.6380828874451773,0.6635947113945372,0.6477836950549057,0.6373726533991951,0.656729164400271,0.6581778091688951,0.6602521123630659,0.6585949285044558,0.6577381449086326,0.6646713185168448,0.6460983034755502,0.6483811844317686,0.6532062095190797,0.663059218476216,0.6577832381285372,0.652479093876623,0.6499200012712252,0.656616437470629,0.6523099738572326,0.6509571627137207,0.6581327102723576,0.649440884590149,0.6519154038812432,0.6465661531048162,0.6629690245858261,0.6420511447248005,0.6445989408308551,0.6455684534850574,0.6401628374698616,0.6367187899138247,0.6579128917129267,0.659085309221631,0.6485446388167994,0.6560358424626646,0.6550888887473515,0.6560471308018481,0.6640738225763752,0.6592149629834152,0.6511544469921362,0.6643331020715691,0.6463181356943789,0.6580368812595095,0.6529920287430286,0.6476089439931371,0.6581439778563523,0.6654153636523655,0.6579410573911099,0.6583920041365282,0.6527496501803398,0.633691879255431,0.6507880703679153,0.6653082713129974,0.6615880188487825],\"yaxis\":\"y\",\"type\":\"scatter\"}],                        {\"template\":{\"data\":{\"histogram2dcontour\":[{\"type\":\"histogram2dcontour\",\"colorbar\":{\"outlinewidth\":0,\"ticks\":\"\"},\"colorscale\":[[0.0,\"#0d0887\"],[0.1111111111111111,\"#46039f\"],[0.2222222222222222,\"#7201a8\"],[0.3333333333333333,\"#9c179e\"],[0.4444444444444444,\"#bd3786\"],[0.5555555555555556,\"#d8576b\"],[0.6666666666666666,\"#ed7953\"],[0.7777777777777778,\"#fb9f3a\"],[0.8888888888888888,\"#fdca26\"],[1.0,\"#f0f921\"]]}],\"choropleth\":[{\"type\":\"choropleth\",\"colorbar\":{\"outlinewidth\":0,\"ticks\":\"\"}}],\"histogram2d\":[{\"type\":\"histogram2d\",\"colorbar\":{\"outlinewidth\":0,\"ticks\":\"\"},\"colorscale\":[[0.0,\"#0d0887\"],[0.1111111111111111,\"#46039f\"],[0.2222222222222222,\"#7201a8\"],[0.3333333333333333,\"#9c179e\"],[0.4444444444444444,\"#bd3786\"],[0.5555555555555556,\"#d8576b\"],[0.6666666666666666,\"#ed7953\"],[0.7777777777777778,\"#fb9f3a\"],[0.8888888888888888,\"#fdca26\"],[1.0,\"#f0f921\"]]}],\"heatmap\":[{\"type\":\"heatmap\",\"colorbar\":{\"outlinewidth\":0,\"ticks\":\"\"},\"colorscale\":[[0.0,\"#0d0887\"],[0.1111111111111111,\"#46039f\"],[0.2222222222222222,\"#7201a8\"],[0.3333333333333333,\"#9c179e\"],[0.4444444444444444,\"#bd3786\"],[0.5555555555555556,\"#d8576b\"],[0.6666666666666666,\"#ed7953\"],[0.7777777777777778,\"#fb9f3a\"],[0.8888888888888888,\"#fdca26\"],[1.0,\"#f0f921\"]]}],\"heatmapgl\":[{\"type\":\"heatmapgl\",\"colorbar\":{\"outlinewidth\":0,\"ticks\":\"\"},\"colorscale\":[[0.0,\"#0d0887\"],[0.1111111111111111,\"#46039f\"],[0.2222222222222222,\"#7201a8\"],[0.3333333333333333,\"#9c179e\"],[0.4444444444444444,\"#bd3786\"],[0.5555555555555556,\"#d8576b\"],[0.6666666666666666,\"#ed7953\"],[0.7777777777777778,\"#fb9f3a\"],[0.8888888888888888,\"#fdca26\"],[1.0,\"#f0f921\"]]}],\"contourcarpet\":[{\"type\":\"contourcarpet\",\"colorbar\":{\"outlinewidth\":0,\"ticks\":\"\"}}],\"contour\":[{\"type\":\"contour\",\"colorbar\":{\"outlinewidth\":0,\"ticks\":\"\"},\"colorscale\":[[0.0,\"#0d0887\"],[0.1111111111111111,\"#46039f\"],[0.2222222222222222,\"#7201a8\"],[0.3333333333333333,\"#9c179e\"],[0.4444444444444444,\"#bd3786\"],[0.5555555555555556,\"#d8576b\"],[0.6666666666666666,\"#ed7953\"],[0.7777777777777778,\"#fb9f3a\"],[0.8888888888888888,\"#fdca26\"],[1.0,\"#f0f921\"]]}],\"surface\":[{\"type\":\"surface\",\"colorbar\":{\"outlinewidth\":0,\"ticks\":\"\"},\"colorscale\":[[0.0,\"#0d0887\"],[0.1111111111111111,\"#46039f\"],[0.2222222222222222,\"#7201a8\"],[0.3333333333333333,\"#9c179e\"],[0.4444444444444444,\"#bd3786\"],[0.5555555555555556,\"#d8576b\"],[0.6666666666666666,\"#ed7953\"],[0.7777777777777778,\"#fb9f3a\"],[0.8888888888888888,\"#fdca26\"],[1.0,\"#f0f921\"]]}],\"mesh3d\":[{\"type\":\"mesh3d\",\"colorbar\":{\"outlinewidth\":0,\"ticks\":\"\"}}],\"scatter\":[{\"fillpattern\":{\"fillmode\":\"overlay\",\"size\":10,\"solidity\":0.2},\"type\":\"scatter\"}],\"parcoords\":[{\"type\":\"parcoords\",\"line\":{\"colorbar\":{\"outlinewidth\":0,\"ticks\":\"\"}}}],\"scatterpolargl\":[{\"type\":\"scatterpolargl\",\"marker\":{\"colorbar\":{\"outlinewidth\":0,\"ticks\":\"\"}}}],\"bar\":[{\"error_x\":{\"color\":\"#2a3f5f\"},\"error_y\":{\"color\":\"#2a3f5f\"},\"marker\":{\"line\":{\"color\":\"#E5ECF6\",\"width\":0.5},\"pattern\":{\"fillmode\":\"overlay\",\"size\":10,\"solidity\":0.2}},\"type\":\"bar\"}],\"scattergeo\":[{\"type\":\"scattergeo\",\"marker\":{\"colorbar\":{\"outlinewidth\":0,\"ticks\":\"\"}}}],\"scatterpolar\":[{\"type\":\"scatterpolar\",\"marker\":{\"colorbar\":{\"outlinewidth\":0,\"ticks\":\"\"}}}],\"histogram\":[{\"marker\":{\"pattern\":{\"fillmode\":\"overlay\",\"size\":10,\"solidity\":0.2}},\"type\":\"histogram\"}],\"scattergl\":[{\"type\":\"scattergl\",\"marker\":{\"colorbar\":{\"outlinewidth\":0,\"ticks\":\"\"}}}],\"scatter3d\":[{\"type\":\"scatter3d\",\"line\":{\"colorbar\":{\"outlinewidth\":0,\"ticks\":\"\"}},\"marker\":{\"colorbar\":{\"outlinewidth\":0,\"ticks\":\"\"}}}],\"scattermapbox\":[{\"type\":\"scattermapbox\",\"marker\":{\"colorbar\":{\"outlinewidth\":0,\"ticks\":\"\"}}}],\"scatterternary\":[{\"type\":\"scatterternary\",\"marker\":{\"colorbar\":{\"outlinewidth\":0,\"ticks\":\"\"}}}],\"scattercarpet\":[{\"type\":\"scattercarpet\",\"marker\":{\"colorbar\":{\"outlinewidth\":0,\"ticks\":\"\"}}}],\"carpet\":[{\"aaxis\":{\"endlinecolor\":\"#2a3f5f\",\"gridcolor\":\"white\",\"linecolor\":\"white\",\"minorgridcolor\":\"white\",\"startlinecolor\":\"#2a3f5f\"},\"baxis\":{\"endlinecolor\":\"#2a3f5f\",\"gridcolor\":\"white\",\"linecolor\":\"white\",\"minorgridcolor\":\"white\",\"startlinecolor\":\"#2a3f5f\"},\"type\":\"carpet\"}],\"table\":[{\"cells\":{\"fill\":{\"color\":\"#EBF0F8\"},\"line\":{\"color\":\"white\"}},\"header\":{\"fill\":{\"color\":\"#C8D4E3\"},\"line\":{\"color\":\"white\"}},\"type\":\"table\"}],\"barpolar\":[{\"marker\":{\"line\":{\"color\":\"#E5ECF6\",\"width\":0.5},\"pattern\":{\"fillmode\":\"overlay\",\"size\":10,\"solidity\":0.2}},\"type\":\"barpolar\"}],\"pie\":[{\"automargin\":true,\"type\":\"pie\"}]},\"layout\":{\"autotypenumbers\":\"strict\",\"colorway\":[\"#636efa\",\"#EF553B\",\"#00cc96\",\"#ab63fa\",\"#FFA15A\",\"#19d3f3\",\"#FF6692\",\"#B6E880\",\"#FF97FF\",\"#FECB52\"],\"font\":{\"color\":\"#2a3f5f\"},\"hovermode\":\"closest\",\"hoverlabel\":{\"align\":\"left\"},\"paper_bgcolor\":\"white\",\"plot_bgcolor\":\"#E5ECF6\",\"polar\":{\"bgcolor\":\"#E5ECF6\",\"angularaxis\":{\"gridcolor\":\"white\",\"linecolor\":\"white\",\"ticks\":\"\"},\"radialaxis\":{\"gridcolor\":\"white\",\"linecolor\":\"white\",\"ticks\":\"\"}},\"ternary\":{\"bgcolor\":\"#E5ECF6\",\"aaxis\":{\"gridcolor\":\"white\",\"linecolor\":\"white\",\"ticks\":\"\"},\"baxis\":{\"gridcolor\":\"white\",\"linecolor\":\"white\",\"ticks\":\"\"},\"caxis\":{\"gridcolor\":\"white\",\"linecolor\":\"white\",\"ticks\":\"\"}},\"coloraxis\":{\"colorbar\":{\"outlinewidth\":0,\"ticks\":\"\"}},\"colorscale\":{\"sequential\":[[0.0,\"#0d0887\"],[0.1111111111111111,\"#46039f\"],[0.2222222222222222,\"#7201a8\"],[0.3333333333333333,\"#9c179e\"],[0.4444444444444444,\"#bd3786\"],[0.5555555555555556,\"#d8576b\"],[0.6666666666666666,\"#ed7953\"],[0.7777777777777778,\"#fb9f3a\"],[0.8888888888888888,\"#fdca26\"],[1.0,\"#f0f921\"]],\"sequentialminus\":[[0.0,\"#0d0887\"],[0.1111111111111111,\"#46039f\"],[0.2222222222222222,\"#7201a8\"],[0.3333333333333333,\"#9c179e\"],[0.4444444444444444,\"#bd3786\"],[0.5555555555555556,\"#d8576b\"],[0.6666666666666666,\"#ed7953\"],[0.7777777777777778,\"#fb9f3a\"],[0.8888888888888888,\"#fdca26\"],[1.0,\"#f0f921\"]],\"diverging\":[[0,\"#8e0152\"],[0.1,\"#c51b7d\"],[0.2,\"#de77ae\"],[0.3,\"#f1b6da\"],[0.4,\"#fde0ef\"],[0.5,\"#f7f7f7\"],[0.6,\"#e6f5d0\"],[0.7,\"#b8e186\"],[0.8,\"#7fbc41\"],[0.9,\"#4d9221\"],[1,\"#276419\"]]},\"xaxis\":{\"gridcolor\":\"white\",\"linecolor\":\"white\",\"ticks\":\"\",\"title\":{\"standoff\":15},\"zerolinecolor\":\"white\",\"automargin\":true,\"zerolinewidth\":2},\"yaxis\":{\"gridcolor\":\"white\",\"linecolor\":\"white\",\"ticks\":\"\",\"title\":{\"standoff\":15},\"zerolinecolor\":\"white\",\"automargin\":true,\"zerolinewidth\":2},\"scene\":{\"xaxis\":{\"backgroundcolor\":\"#E5ECF6\",\"gridcolor\":\"white\",\"linecolor\":\"white\",\"showbackground\":true,\"ticks\":\"\",\"zerolinecolor\":\"white\",\"gridwidth\":2},\"yaxis\":{\"backgroundcolor\":\"#E5ECF6\",\"gridcolor\":\"white\",\"linecolor\":\"white\",\"showbackground\":true,\"ticks\":\"\",\"zerolinecolor\":\"white\",\"gridwidth\":2},\"zaxis\":{\"backgroundcolor\":\"#E5ECF6\",\"gridcolor\":\"white\",\"linecolor\":\"white\",\"showbackground\":true,\"ticks\":\"\",\"zerolinecolor\":\"white\",\"gridwidth\":2}},\"shapedefaults\":{\"line\":{\"color\":\"#2a3f5f\"}},\"annotationdefaults\":{\"arrowcolor\":\"#2a3f5f\",\"arrowhead\":0,\"arrowwidth\":1},\"geo\":{\"bgcolor\":\"white\",\"landcolor\":\"#E5ECF6\",\"subunitcolor\":\"white\",\"showland\":true,\"showlakes\":true,\"lakecolor\":\"white\"},\"title\":{\"x\":0.05},\"mapbox\":{\"style\":\"light\"}}},\"xaxis\":{\"anchor\":\"y\",\"domain\":[0.0,1.0],\"title\":{\"text\":\"Epoch\"}},\"yaxis\":{\"anchor\":\"x\",\"domain\":[0.0,1.0],\"title\":{\"text\":\"val_mean_acc\"}},\"legend\":{\"title\":{\"text\":\"architecture_choice\"},\"tracegroupgap\":0},\"margin\":{\"t\":60},\"font\":{\"size\":18},\"width\":800,\"height\":400,\"hovermode\":\"x\"},                        {\"responsive\": true}                    ).then(function(){\n",
       "                            \n",
       "var gd = document.getElementById('129f1981-f3e8-47cf-9c67-e72341354a61');\n",
       "var x = new MutationObserver(function (mutations, observer) {{\n",
       "        var display = window.getComputedStyle(gd).display;\n",
       "        if (!display || display === 'none') {{\n",
       "            console.log([gd, 'removed!']);\n",
       "            Plotly.purge(gd);\n",
       "            observer.disconnect();\n",
       "        }}\n",
       "}});\n",
       "\n",
       "// Listen for the removal of the full notebook cells\n",
       "var notebookContainer = gd.closest('#notebook-container');\n",
       "if (notebookContainer) {{\n",
       "    x.observe(notebookContainer, {childList: true});\n",
       "}}\n",
       "\n",
       "// Listen for the clearing of the current output cell\n",
       "var outputEl = gd.closest('.output');\n",
       "if (outputEl) {{\n",
       "    x.observe(outputEl, {childList: true});\n",
       "}}\n",
       "\n",
       "                        })                };                });            </script>        </div>"
      ]
     },
     "metadata": {},
     "output_type": "display_data"
    }
   ],
   "source": [
    "df_summary = df[df['architecture_choice'].isin([0, 5])].copy()\n",
    "\n",
    "\n",
    "# loss\n",
    "fig = nice_plot(\n",
    "    df_summary,\n",
    "    x_axis='epoch',\n",
    "    y_axis='val_mean_acc',\n",
    "    plot_type='line',\n",
    "    group_by='architecture_choice',\n",
    "    x_axis_title='Epoch',\n",
    ")\n",
    "\n",
    "fig.show()"
   ]
  },
  {
   "cell_type": "code",
   "execution_count": 13,
   "metadata": {},
   "outputs": [
    {
     "data": {
      "text/plain": [
       "['exp_seq',\n",
       " 'epoch',\n",
       " 'total_epochs',\n",
       " 'learning_rate',\n",
       " 'architecture_choice',\n",
       " 'batch_size',\n",
       " 'len_train_dataset',\n",
       " 'len_val_dataset',\n",
       " 'len_test_dataset',\n",
       " 'param_client_first',\n",
       " 'param_server_middle',\n",
       " 'param_client_last',\n",
       " 'train_loss',\n",
       " 'train_dia_acc',\n",
       " 'train_sps_acc',\n",
       " 'train_mean_acc',\n",
       " 'val_loss',\n",
       " 'val_dia_acc',\n",
       " 'val_sps_acc',\n",
       " 'val_mean_acc',\n",
       " 'is_best_val',\n",
       " 'val_dia_clic_acc',\n",
       " 'val_dia_derm_acc',\n",
       " 'val_dia_fusion_acc',\n",
       " 'val_sps_clic_acc',\n",
       " 'val_sps_derm_acc',\n",
       " 'val_sps_fusion_acc',\n",
       " 'val_pn_acc',\n",
       " 'val_str_acc',\n",
       " 'val_pig_acc',\n",
       " 'val_rs_acc',\n",
       " 'val_dag_acc',\n",
       " 'val_bwv_acc',\n",
       " 'val_vs_acc',\n",
       " 'val_pn_clic_acc',\n",
       " 'val_pn_derm_acc',\n",
       " 'val_pn_fusion_acc',\n",
       " 'val_str_clic_acc',\n",
       " 'val_str_derm_acc',\n",
       " 'val_str_fusion_acc',\n",
       " 'val_pig_clic_acc',\n",
       " 'val_pig_derm_acc',\n",
       " 'val_pig_fusion_acc',\n",
       " 'val_rs_clic_acc',\n",
       " 'val_rs_derm_acc',\n",
       " 'val_rs_fusion_acc',\n",
       " 'val_dag_clic_acc',\n",
       " 'val_dag_derm_acc',\n",
       " 'val_dag_fusion_acc',\n",
       " 'val_bwv_clic_acc',\n",
       " 'val_bwv_derm_acc',\n",
       " 'val_bwv_fusion_acc',\n",
       " 'val_vs_clic_acc',\n",
       " 'val_vs_derm_acc',\n",
       " 'val_vs_fusion_acc',\n",
       " 'test_loss',\n",
       " 'test_dia_acc',\n",
       " 'test_sps_acc',\n",
       " 'test_mean_acc',\n",
       " 'test_dia_clic_acc',\n",
       " 'test_dia_derm_acc',\n",
       " 'test_dia_fusion_acc',\n",
       " 'test_sps_clic_acc',\n",
       " 'test_sps_derm_acc',\n",
       " 'test_sps_fusion_acc',\n",
       " 'test_pn_acc',\n",
       " 'test_str_acc',\n",
       " 'test_pig_acc',\n",
       " 'test_rs_acc',\n",
       " 'test_dag_acc',\n",
       " 'test_bwv_acc',\n",
       " 'test_vs_acc',\n",
       " 'test_pn_clic_acc',\n",
       " 'test_pn_derm_acc',\n",
       " 'test_pn_fusion_acc',\n",
       " 'test_str_clic_acc',\n",
       " 'test_str_derm_acc',\n",
       " 'test_str_fusion_acc',\n",
       " 'test_pig_clic_acc',\n",
       " 'test_pig_derm_acc',\n",
       " 'test_pig_fusion_acc',\n",
       " 'test_rs_clic_acc',\n",
       " 'test_rs_derm_acc',\n",
       " 'test_rs_fusion_acc',\n",
       " 'test_dag_clic_acc',\n",
       " 'test_dag_derm_acc',\n",
       " 'test_dag_fusion_acc',\n",
       " 'test_bwv_clic_acc',\n",
       " 'test_bwv_derm_acc',\n",
       " 'test_bwv_fusion_acc',\n",
       " 'test_vs_clic_acc',\n",
       " 'test_vs_derm_acc',\n",
       " 'test_vs_fusion_acc',\n",
       " 'time_server_load',\n",
       " 'time_client_training',\n",
       " 'time_server_training',\n",
       " 'time_validation',\n",
       " 'time_test',\n",
       " 'time_communication_server_to_client',\n",
       " 'time_communication_client_to_server',\n",
       " 'time_total',\n",
       " 'size_server_to_client_msg',\n",
       " 'size_server_output',\n",
       " 'size_client_head_gradient',\n",
       " 'size_server_model',\n",
       " 'size_client_to_server_msg',\n",
       " 'size_client_head_output',\n",
       " 'size_server_gradient',\n",
       " 'time_client_compression_decompression',\n",
       " 'cd_method',\n",
       " 'time_server_compression_decompression']"
      ]
     },
     "execution_count": 13,
     "metadata": {},
     "output_type": "execute_result"
    }
   ],
   "source": [
    "list(df_summary.columns)"
   ]
  },
  {
   "cell_type": "code",
   "execution_count": null,
   "metadata": {},
   "outputs": [],
   "source": []
  },
  {
   "cell_type": "code",
   "execution_count": null,
   "metadata": {},
   "outputs": [],
   "source": []
  },
  {
   "cell_type": "code",
   "execution_count": null,
   "metadata": {},
   "outputs": [],
   "source": []
  },
  {
   "cell_type": "code",
   "execution_count": 13,
   "metadata": {},
   "outputs": [
    {
     "data": {
      "application/vnd.plotly.v1+json": {
       "config": {
        "plotlyServerURL": "https://plot.ly"
       },
       "data": [
        {
         "fill": "toself",
         "fillcolor": "rgba(99,110,250,.3)",
         "hoverinfo": "skip",
         "legendgroup": "0",
         "line": {
          "color": "rgba(255,255,255,0)"
         },
         "showlegend": false,
         "type": "scatter",
         "x": [
          0,
          1,
          2,
          3,
          4,
          5,
          6,
          7,
          8,
          9,
          10,
          11,
          12,
          13,
          14,
          15,
          16,
          17,
          18,
          19,
          20,
          21,
          22,
          23,
          24,
          25,
          26,
          27,
          28,
          29,
          30,
          31,
          32,
          33,
          34,
          35,
          36,
          37,
          38,
          39,
          40,
          41,
          42,
          43,
          44,
          45,
          46,
          47,
          48,
          49,
          50,
          51,
          52,
          53,
          54,
          55,
          56,
          57,
          58,
          59,
          60,
          61,
          62,
          63,
          64,
          65,
          66,
          67,
          68,
          69,
          70,
          71,
          72,
          73,
          74,
          75,
          76,
          77,
          78,
          79,
          80,
          81,
          82,
          83,
          84,
          85,
          86,
          87,
          88,
          89,
          90,
          91,
          92,
          93,
          94,
          95,
          96,
          97,
          98,
          99,
          99,
          98,
          97,
          96,
          95,
          94,
          93,
          92,
          91,
          90,
          89,
          88,
          87,
          86,
          85,
          84,
          83,
          82,
          81,
          80,
          79,
          78,
          77,
          76,
          75,
          74,
          73,
          72,
          71,
          70,
          69,
          68,
          67,
          66,
          65,
          64,
          63,
          62,
          61,
          60,
          59,
          58,
          57,
          56,
          55,
          54,
          53,
          52,
          51,
          50,
          49,
          48,
          47,
          46,
          45,
          44,
          43,
          42,
          41,
          40,
          39,
          38,
          37,
          36,
          35,
          34,
          33,
          32,
          31,
          30,
          29,
          28,
          27,
          26,
          25,
          24,
          23,
          22,
          21,
          20,
          19,
          18,
          17,
          16,
          15,
          14,
          13,
          12,
          11,
          10,
          9,
          8,
          7,
          6,
          5,
          4,
          3,
          2,
          1,
          0
         ],
         "xaxis": "x",
         "y": [
          6.116214415700584,
          5.799684026744731,
          5.522214248463331,
          5.749722244252165,
          5.694559320687135,
          5.957589327084907,
          4.246326130810643,
          4.438443174461064,
          4.343692409945064,
          4.429066119428608,
          5.597386091602138,
          5.457672978146874,
          5.5345405820564855,
          4.313130428263237,
          5.614545584460026,
          5.637732109753775,
          4.293443353036114,
          5.6129933973467026,
          4.348302956475611,
          5.620948529809543,
          4.358766088718452,
          4.309138827718267,
          5.59333816291364,
          5.402936248311191,
          4.3118508880940265,
          5.644991569001706,
          5.626970749914169,
          4.30511259301428,
          4.348085836953457,
          4.231552727704056,
          4.366569731245399,
          4.336860859554251,
          5.6097239533253,
          4.294558526190262,
          4.324323347216692,
          4.249372048543548,
          4.335442418710562,
          5.584190796830791,
          5.45769745424896,
          4.313198948869175,
          5.520325526328103,
          4.336341070804102,
          4.328774784790153,
          4.3719511301395615,
          4.3899733173610205,
          5.49501325956469,
          4.314368904865219,
          4.2711546223946595,
          4.309338411305618,
          4.324024801844852,
          4.378105514391668,
          4.218585096148917,
          4.303931359044958,
          4.292291361304973,
          5.692720679013064,
          4.370435746611732,
          4.371595003001047,
          4.278136140493704,
          4.445728267243047,
          4.46899295665408,
          4.377264807223513,
          4.297273922745004,
          4.381608265984597,
          4.312298659011857,
          4.338488606602796,
          4.364004407192904,
          4.29833554436551,
          4.358730401021795,
          4.290592929330494,
          4.342510988656246,
          4.265342039700469,
          4.340005494382696,
          4.344736904992102,
          4.3011800226665144,
          4.358427731499554,
          4.26494111462468,
          4.304226801456443,
          4.257052049852913,
          4.263076348183836,
          4.2774773526285506,
          4.348925516236706,
          4.31883819692186,
          4.400416505760577,
          4.323953818494151,
          4.3114607107884035,
          4.265111888486084,
          4.389837947937805,
          4.353023092914888,
          4.353131995349764,
          4.330142745487071,
          4.345507779386269,
          4.243899356784001,
          4.343835985831326,
          4.232116898183215,
          4.395821313180122,
          4.256161923390994,
          4.231591875267378,
          4.332178738773947,
          4.308336372539899,
          4.281804922935546,
          4.145136630816081,
          4.154160861804583,
          4.148637307622944,
          4.122248475837359,
          4.151914839762082,
          4.061884502453017,
          4.132634599721244,
          4.1139715550622284,
          4.049062558550065,
          4.045123737388227,
          4.194114914425039,
          4.082205230246346,
          4.218366741171212,
          4.104201746530375,
          4.158494189343912,
          4.108139934912686,
          4.143121688351958,
          4.074927675300214,
          4.149156810910986,
          4.114827230345325,
          4.185347945680776,
          4.140521324596519,
          4.104147964897249,
          4.162148390549986,
          4.138325156330724,
          4.135042619401731,
          4.149501504789134,
          4.109379280514084,
          4.173855526023392,
          4.161456145012259,
          4.129694968120692,
          4.092671453349764,
          4.154434278187596,
          4.084533699256316,
          4.102099623416227,
          4.051004858820789,
          4.089110966995223,
          4.088210802924096,
          4.175426991002149,
          4.141050984860227,
          4.105183990621717,
          4.101562216867467,
          4.124494188638376,
          4.077419978586684,
          4.161843426921389,
          3.7708998247304257,
          4.051648101992552,
          4.14275109411056,
          4.205535171083342,
          4.166425989921483,
          4.078343743687374,
          4.151518821106085,
          4.098698874156854,
          4.059769927227066,
          3.970853624031094,
          4.0461726240554015,
          4.188660276822515,
          4.167470599426157,
          4.088891180681087,
          3.9655775778182196,
          3.998369788160854,
          3.98423951550812,
          3.8936609118992718,
          4.120700006826548,
          4.152930216623688,
          4.155850081636661,
          4.0597891796508,
          3.824104082665096,
          4.082704818088572,
          4.136255052079797,
          4.211592070574753,
          4.123858654115065,
          4.112637129784386,
          3.8381138028507236,
          3.6722617027369813,
          4.149831431547087,
          3.912224026194424,
          3.818011769439061,
          3.9990845787555274,
          4.038086881404839,
          3.7763092750610623,
          4.0837574441693265,
          3.7660497049177017,
          4.061990587851337,
          3.794025499295704,
          3.8639248999556637,
          4.0922159653219685,
          3.842374872808017,
          3.813391939099626,
          3.824873398093093,
          4.179116469784445,
          4.102541657336024,
          4.0478566582008835,
          4.191264627195134,
          4.324167550814263,
          3.8082045864275282,
          5.5025780181990065,
          3.8722365750026517,
          5.56795424331549,
          5.79907578103607
         ],
         "yaxis": "y"
        },
        {
         "hovertemplate": "architecture_choice=0<br>epoch=%{x}<br>time_total_mean=%{y}<extra></extra>",
         "legendgroup": "0",
         "line": {
          "color": "#636efa",
          "dash": "solid"
         },
         "marker": {
          "symbol": "circle"
         },
         "mode": "lines",
         "name": "0",
         "orientation": "v",
         "showlegend": true,
         "type": "scatter",
         "x": [
          0,
          1,
          2,
          3,
          4,
          5,
          6,
          7,
          8,
          9,
          10,
          11,
          12,
          13,
          14,
          15,
          16,
          17,
          18,
          19,
          20,
          21,
          22,
          23,
          24,
          25,
          26,
          27,
          28,
          29,
          30,
          31,
          32,
          33,
          34,
          35,
          36,
          37,
          38,
          39,
          40,
          41,
          42,
          43,
          44,
          45,
          46,
          47,
          48,
          49,
          50,
          51,
          52,
          53,
          54,
          55,
          56,
          57,
          58,
          59,
          60,
          61,
          62,
          63,
          64,
          65,
          66,
          67,
          68,
          69,
          70,
          71,
          72,
          73,
          74,
          75,
          76,
          77,
          78,
          79,
          80,
          81,
          82,
          83,
          84,
          85,
          86,
          87,
          88,
          89,
          90,
          91,
          92,
          93,
          94,
          95,
          96,
          97,
          98,
          99
         ],
         "xaxis": "x",
         "y": [
          5.957645098368327,
          5.68381913503011,
          4.697225411732991,
          5.626150131225586,
          4.751381953557332,
          5.140878438949585,
          4.218795379002889,
          4.243149916330974,
          4.223117033640544,
          4.304091294606526,
          4.711129744847615,
          4.63553245862325,
          4.688457727432251,
          4.2026731967926025,
          4.739235242207845,
          4.715878804524739,
          4.177716970443726,
          4.689521551132202,
          4.216030200322469,
          4.698628902435303,
          4.1984264850616455,
          4.1541117032368975,
          4.705674966176351,
          4.657580137252808,
          4.230841159820557,
          4.658626635869344,
          4.732542276382446,
          4.208874861399333,
          4.235972245534261,
          4.221572399139404,
          4.251412391662598,
          4.209782838821411,
          4.716914017995198,
          4.177173852920531,
          4.240086714426677,
          4.201151132583618,
          4.228071212768555,
          4.738925854365031,
          4.72096848487854,
          4.155784368515015,
          4.742951552073161,
          4.212616125742595,
          4.248122692108155,
          4.280305703481038,
          4.218072970708211,
          4.732933441797892,
          4.187069416046143,
          4.184926748275757,
          4.2304286162058515,
          4.201184272766113,
          4.272265752156575,
          4.21206013361613,
          4.223341226577759,
          4.171969731648763,
          4.731810251871745,
          4.266139586766561,
          4.224507490793865,
          4.20131516456604,
          4.273645242055257,
          4.2870884736378985,
          4.25915789604187,
          4.236350456873576,
          4.234909534454347,
          4.20070481300354,
          4.194746732711793,
          4.233052015304565,
          4.191434621810913,
          4.256582339604695,
          4.191632191340129,
          4.236102978388469,
          4.213399092356364,
          4.256930510203044,
          4.227058092753093,
          4.225340763727824,
          4.246735175450643,
          4.201633135477702,
          4.233187596003215,
          4.180600007375081,
          4.201798836390178,
          4.231412649154663,
          4.231876373291016,
          4.233997503916423,
          4.2376720905303955,
          4.233537753423055,
          4.209800322850545,
          4.211803038914998,
          4.24701984723409,
          4.28569491704305,
          4.217668612798055,
          4.262128829956055,
          4.195315758387248,
          4.146480957667033,
          4.228903770446777,
          4.1823757489522295,
          4.228852907816569,
          4.204038381576538,
          4.176920175552368,
          4.240408023198445,
          4.231248617172241,
          4.2134707768758135
         ],
         "yaxis": "y"
        },
        {
         "fill": "toself",
         "fillcolor": "rgba(239,85,59,.3)",
         "hoverinfo": "skip",
         "legendgroup": "1",
         "line": {
          "color": "rgba(255,255,255,0)"
         },
         "showlegend": false,
         "type": "scatter",
         "x": [
          0,
          1,
          2,
          3,
          4,
          5,
          6,
          7,
          8,
          9,
          10,
          11,
          12,
          13,
          14,
          15,
          16,
          17,
          18,
          19,
          20,
          21,
          22,
          23,
          24,
          25,
          26,
          27,
          28,
          29,
          30,
          31,
          32,
          33,
          34,
          35,
          36,
          37,
          38,
          39,
          40,
          41,
          42,
          43,
          44,
          45,
          46,
          47,
          48,
          49,
          50,
          51,
          52,
          53,
          54,
          55,
          56,
          57,
          58,
          59,
          60,
          61,
          62,
          63,
          64,
          65,
          66,
          67,
          68,
          69,
          70,
          71,
          72,
          73,
          74,
          75,
          76,
          77,
          78,
          79,
          80,
          81,
          82,
          83,
          84,
          85,
          86,
          87,
          88,
          89,
          90,
          91,
          92,
          93,
          94,
          95,
          96,
          97,
          98,
          99,
          99,
          98,
          97,
          96,
          95,
          94,
          93,
          92,
          91,
          90,
          89,
          88,
          87,
          86,
          85,
          84,
          83,
          82,
          81,
          80,
          79,
          78,
          77,
          76,
          75,
          74,
          73,
          72,
          71,
          70,
          69,
          68,
          67,
          66,
          65,
          64,
          63,
          62,
          61,
          60,
          59,
          58,
          57,
          56,
          55,
          54,
          53,
          52,
          51,
          50,
          49,
          48,
          47,
          46,
          45,
          44,
          43,
          42,
          41,
          40,
          39,
          38,
          37,
          36,
          35,
          34,
          33,
          32,
          31,
          30,
          29,
          28,
          27,
          26,
          25,
          24,
          23,
          22,
          21,
          20,
          19,
          18,
          17,
          16,
          15,
          14,
          13,
          12,
          11,
          10,
          9,
          8,
          7,
          6,
          5,
          4,
          3,
          2,
          1,
          0
         ],
         "xaxis": "x",
         "y": [
          59.055090768671256,
          54.15386255162346,
          48.38931071564855,
          55.37550050183739,
          58.88871001333092,
          54.69387319290394,
          46.997378855356345,
          26.952081118585514,
          49.76103435766379,
          53.68918185977347,
          26.525545160810793,
          46.67698647273723,
          27.180040725226412,
          26.302771743290364,
          49.20447836450268,
          55.646711531614606,
          49.60969726028161,
          27.46678635039444,
          27.266602338771825,
          26.782255698405628,
          48.553386070417496,
          47.20902888129601,
          55.0968177067269,
          26.105967924516662,
          28.659401059903686,
          26.089357149137637,
          26.307158739814945,
          27.517673993772323,
          26.468857463109664,
          43.39888527481996,
          28.66027235408878,
          27.37059425476275,
          28.159150642228987,
          46.888271970044016,
          27.093923711133353,
          26.56966423119534,
          28.67844018328934,
          49.97572834268331,
          25.6638075767761,
          27.069113556063844,
          24.846882569750143,
          48.49359636678169,
          52.19039769134592,
          26.215290686674024,
          28.91355320247458,
          26.85702717307648,
          49.030802524946424,
          26.075318197350047,
          26.359021945795124,
          26.4061435873979,
          24.691138403170974,
          27.07144462660737,
          47.72095727043128,
          24.786344025212905,
          26.00547674437634,
          25.989699687616774,
          26.374925165432074,
          26.3121115714939,
          27.67182475746825,
          26.481286474975754,
          25.566647715707795,
          26.476501174955025,
          26.25542814965182,
          26.136834166419153,
          44.776398557439926,
          26.553346405024588,
          24.760226660441198,
          25.26869946868774,
          50.9679738112602,
          26.38252282946099,
          26.157545549240478,
          26.34716387475257,
          26.304150590386477,
          25.824127670209183,
          25.31387023536317,
          25.50120660201768,
          25.68454284592866,
          24.29251765169246,
          27.21263835545808,
          24.61120697195142,
          23.951605986780038,
          26.80657899742661,
          26.599325521719223,
          27.9144205898271,
          26.37422335490013,
          26.72188286743685,
          46.81173387121902,
          25.84157778821322,
          26.132322016010608,
          25.750361839281233,
          27.591579232036516,
          26.17878721349666,
          26.207996821650628,
          27.14823367488225,
          26.86966191806173,
          23.567753723427945,
          26.96296716116009,
          24.231522613574146,
          26.74020135457517,
          27.23893023037623,
          21.67387151217748,
          23.07363823994794,
          22.63939470667732,
          23.90145674961668,
          22.468779632284946,
          25.998955934467162,
          23.666930732212073,
          22.81718288237973,
          24.491640744673912,
          23.76467184879438,
          22.538430770887224,
          24.318418798198376,
          23.91656976936328,
          19.097437551103567,
          24.184884341934083,
          24.955350912169365,
          22.848330830511852,
          23.294728732176857,
          20.562375025298817,
          21.175062943273673,
          23.730206367027666,
          24.823452495372,
          23.119916608357993,
          22.37707103168568,
          24.13984023992161,
          22.50970875811624,
          21.120185220161506,
          22.975790332668538,
          23.441989860090363,
          23.306787667108804,
          21.737669698310008,
          16.754191773304008,
          22.77792582758708,
          23.28136228176868,
          22.476937522892893,
          18.513319275761162,
          21.452828226515013,
          21.063313489803342,
          23.416914435040496,
          23.47929697499655,
          26.098686110066566,
          22.883362944710704,
          24.324848299162433,
          22.16732514991623,
          22.424952501002206,
          24.742931096352418,
          22.89585020772777,
          17.40514756126428,
          24.28376710816436,
          22.184395495500496,
          24.879337388706837,
          26.0257479707393,
          23.18558690951234,
          18.464796109137637,
          24.971923867827243,
          25.384060736174916,
          23.29668698590288,
          18.296056477609568,
          20.130023984373903,
          23.984773727297792,
          24.70822606134745,
          23.514008973160827,
          21.104171445219524,
          22.69627164812139,
          23.73661860699029,
          22.553639110572785,
          20.986025648821947,
          22.12452105475181,
          22.3455000801575,
          23.89520415246233,
          19.774296258993516,
          25.269903167180047,
          22.94780617488816,
          22.959223795483723,
          24.62866344895603,
          23.22038368308744,
          24.51958377607538,
          28.49720329572468,
          17.829000153636443,
          19.18144510379718,
          23.20637602690565,
          24.626350580234522,
          22.586139872088875,
          18.552970649976373,
          27.91975146200722,
          17.410951513732186,
          25.653533283717692,
          21.47563881858666,
          18.276967906026613,
          24.197501300930334,
          27.689376616992476,
          48.77957150527159,
          24.439810201960956,
          20.4032611554774,
          45.69694524403656,
          29.0439507252962,
          47.18847753440732,
          43.52399806375006,
          50.34261664174609,
          58.14383266018209
         ],
         "yaxis": "y"
        },
        {
         "hovertemplate": "architecture_choice=1<br>epoch=%{x}<br>time_total_mean=%{y}<extra></extra>",
         "legendgroup": "1",
         "line": {
          "color": "#EF553B",
          "dash": "solid"
         },
         "marker": {
          "symbol": "circle"
         },
         "mode": "lines",
         "name": "1",
         "orientation": "v",
         "showlegend": true,
         "type": "scatter",
         "x": [
          0,
          1,
          2,
          3,
          4,
          5,
          6,
          7,
          8,
          9,
          10,
          11,
          12,
          13,
          14,
          15,
          16,
          17,
          18,
          19,
          20,
          21,
          22,
          23,
          24,
          25,
          26,
          27,
          28,
          29,
          30,
          31,
          32,
          33,
          34,
          35,
          36,
          37,
          38,
          39,
          40,
          41,
          42,
          43,
          44,
          45,
          46,
          47,
          48,
          49,
          50,
          51,
          52,
          53,
          54,
          55,
          56,
          57,
          58,
          59,
          60,
          61,
          62,
          63,
          64,
          65,
          66,
          67,
          68,
          69,
          70,
          71,
          72,
          73,
          74,
          75,
          76,
          77,
          78,
          79,
          80,
          81,
          82,
          83,
          84,
          85,
          86,
          87,
          88,
          89,
          90,
          91,
          92,
          93,
          94,
          95,
          96,
          97,
          98,
          99
         ],
         "xaxis": "x",
         "y": [
          58.599461714426674,
          52.248239596684776,
          45.9566543896993,
          51.28198901812235,
          43.96633036931356,
          50.19540921847025,
          33.70032000541687,
          25.695945660273235,
          49.27030293146769,
          40.68927923838297,
          25.361523230870564,
          32.47697718938192,
          24.327839771906536,
          25.97815251350403,
          33.30771493911743,
          41.78323149681091,
          34.08133395512899,
          25.026463111241657,
          25.946476459503174,
          24.99431586265564,
          33.86741558710734,
          32.519014517466225,
          41.79701050122579,
          25.31277585029602,
          25.939892371495564,
          25.359010299046833,
          24.633191267649334,
          25.232740084330242,
          25.869380315144856,
          31.58659076690674,
          26.277738253275555,
          24.858047167460125,
          25.1418358484904,
          33.93714880943298,
          24.82378141085307,
          25.153141419092815,
          25.687355915705364,
          35.539949893951416,
          24.588908274968464,
          25.888669808705647,
          24.415828148523968,
          34.3118101755778,
          35.243227084477745,
          24.755988836288452,
          27.14880696932475,
          25.914475520451862,
          33.74779931704203,
          24.630452553431194,
          26.192384958267212,
          25.642740488052368,
          23.437766949335735,
          25.677605867385864,
          32.56305241584778,
          23.841097116470337,
          25.37420392036438,
          24.20732609430949,
          24.271125157674152,
          25.318479935328167,
          25.277593851089478,
          26.28998629252116,
          24.522972345352173,
          24.94670780499776,
          23.65937081972758,
          23.794831196467083,
          31.644858916600544,
          24.51514196395874,
          24.02079447110494,
          24.02331264813741,
          33.861082792282104,
          24.060096263885498,
          24.73216660817464,
          24.894576867421467,
          24.639970461527508,
          23.472156445185345,
          23.911789496739704,
          24.820523420969646,
          24.03080693880717,
          23.706217130025227,
          26.01804542541504,
          24.170706669489544,
          22.563334465026855,
          23.684477011362713,
          24.94702712694804,
          25.381375710169475,
          25.664787133534748,
          25.453383604685467,
          32.95458571116129,
          24.87907377878825,
          25.225370407104492,
          24.14439630508423,
          25.678125540415447,
          25.335213979085285,
          24.51258985201518,
          25.40758220354716,
          26.434308926264446,
          23.018266677856445,
          25.432211955388386,
          23.435458660125732,
          24.906919797261555,
          24.456400871276855
         ],
         "yaxis": "y"
        },
        {
         "fill": "toself",
         "fillcolor": "rgba(0,204,150,.3)",
         "hoverinfo": "skip",
         "legendgroup": "2",
         "line": {
          "color": "rgba(255,255,255,0)"
         },
         "showlegend": false,
         "type": "scatter",
         "x": [
          0,
          1,
          2,
          3,
          4,
          5,
          6,
          7,
          8,
          9,
          10,
          11,
          12,
          13,
          14,
          15,
          16,
          17,
          18,
          19,
          20,
          21,
          22,
          23,
          24,
          25,
          26,
          27,
          28,
          29,
          30,
          31,
          32,
          33,
          34,
          35,
          36,
          37,
          38,
          39,
          40,
          41,
          42,
          43,
          44,
          45,
          46,
          47,
          48,
          49,
          50,
          51,
          52,
          53,
          54,
          55,
          56,
          57,
          58,
          59,
          60,
          61,
          62,
          63,
          64,
          65,
          66,
          67,
          68,
          69,
          70,
          71,
          72,
          73,
          74,
          75,
          76,
          77,
          78,
          79,
          80,
          81,
          82,
          83,
          84,
          85,
          86,
          87,
          88,
          89,
          90,
          91,
          92,
          93,
          94,
          95,
          96,
          97,
          98,
          99,
          99,
          98,
          97,
          96,
          95,
          94,
          93,
          92,
          91,
          90,
          89,
          88,
          87,
          86,
          85,
          84,
          83,
          82,
          81,
          80,
          79,
          78,
          77,
          76,
          75,
          74,
          73,
          72,
          71,
          70,
          69,
          68,
          67,
          66,
          65,
          64,
          63,
          62,
          61,
          60,
          59,
          58,
          57,
          56,
          55,
          54,
          53,
          52,
          51,
          50,
          49,
          48,
          47,
          46,
          45,
          44,
          43,
          42,
          41,
          40,
          39,
          38,
          37,
          36,
          35,
          34,
          33,
          32,
          31,
          30,
          29,
          28,
          27,
          26,
          25,
          24,
          23,
          22,
          21,
          20,
          19,
          18,
          17,
          16,
          15,
          14,
          13,
          12,
          11,
          10,
          9,
          8,
          7,
          6,
          5,
          4,
          3,
          2,
          1,
          0
         ],
         "xaxis": "x",
         "y": [
          93.03348826876564,
          112.43914026475312,
          112.90167823784853,
          107.97918278297318,
          106.22763101414422,
          107.29761048990379,
          93.90744047704806,
          99.02190716234217,
          118.84440776879697,
          111.01499169076794,
          80.91908926777056,
          97.52209177944856,
          103.27749939567987,
          106.36177991888927,
          90.46173871033538,
          85.43432210992431,
          83.49349335164352,
          108.68937867518885,
          88.19117471737323,
          111.23503674278514,
          85.9327594947253,
          90.06893866928087,
          89.53714452089744,
          87.67973515218391,
          107.27774836888261,
          89.82297908577513,
          114.60352734217622,
          94.56425054810089,
          96.03528780840188,
          100.71936672371044,
          87.10224521644466,
          92.01196416039512,
          89.97702968521057,
          108.34067776819691,
          100.46721375894239,
          83.61506334868479,
          86.50054961855302,
          82.54491514103576,
          84.24863663123871,
          89.56408469155735,
          90.1740430893725,
          87.91841628619187,
          101.2385759340006,
          85.57417782490222,
          87.06132170285615,
          90.99566203889292,
          81.45737581855882,
          83.5800035717004,
          82.24809475321857,
          89.78205517238779,
          82.03154411151127,
          111.9677614278874,
          112.71510777353458,
          85.5118229576325,
          110.66981049890927,
          83.55069446101254,
          87.11802233408888,
          89.32504474561364,
          88.61099487360131,
          88.8072917444066,
          85.6715823436303,
          81.88494129737575,
          104.95757966812774,
          83.48168207477903,
          87.98835174801283,
          86.48876960311655,
          90.77134713519962,
          83.74510638436863,
          109.14772143172047,
          89.73760000145974,
          86.86098709464616,
          87.14811879547928,
          90.29841750217294,
          87.52724235307882,
          82.69492210079837,
          84.91313428712405,
          78.11347457417752,
          85.84229050952082,
          82.75891179252702,
          94.86664670203491,
          91.40756990417563,
          104.89858431154391,
          79.68804451843559,
          86.2412640790395,
          85.77334169219897,
          86.92603997355465,
          83.74311423120167,
          111.18733873473056,
          84.64866487829178,
          89.96791201881477,
          84.280646253612,
          82.09487339102324,
          91.76270362075628,
          82.5796135852334,
          96.96199961090917,
          83.05796618741888,
          85.82298768199522,
          91.83445531894913,
          88.49742131628427,
          94.60232759805572,
          82.88741579361704,
          76.77774440052276,
          74.65764587352524,
          81.382416599621,
          75.65242008882623,
          77.01218522007431,
          66.6773412436647,
          74.58050278488336,
          78.79482431964976,
          82.30065956812463,
          74.91261023231438,
          70.87045470229498,
          68.02569637192838,
          76.92864235423738,
          81.75444018874799,
          73.23289184102451,
          84.72544458108624,
          75.98079032678942,
          73.21008989677924,
          76.2129096795646,
          72.04484135414795,
          72.30783778022689,
          82.10221645357326,
          69.66006131322278,
          77.2674809790401,
          76.80284312238685,
          78.64282257306864,
          81.47350619879548,
          80.60404906518762,
          73.35439357399397,
          73.47477961305238,
          70.6557345568456,
          81.57438134629339,
          77.32387947053363,
          83.06332247223135,
          84.03456250267891,
          76.4405143134656,
          67.22850921177543,
          72.4795929217303,
          80.24530033026902,
          80.38593189094902,
          81.60036494517514,
          81.75033097027787,
          81.45277574508388,
          72.13977909550601,
          75.57994742676007,
          78.70768855130915,
          76.74918475271053,
          73.38616157499142,
          72.13628571992999,
          77.92102818383374,
          79.75651753366702,
          78.25325616976484,
          77.25925352765294,
          78.03901562554596,
          73.95200446520415,
          74.72798370972507,
          74.90935707228603,
          78.96656677655227,
          75.6871834693128,
          86.04856761023098,
          81.28747965090646,
          76.74199189606345,
          79.40404448494225,
          75.32426071239105,
          77.27953230429003,
          77.69526971359426,
          81.85322471059226,
          74.51221784135454,
          72.28914892189152,
          72.08945050397105,
          78.05733685590477,
          71.19802562453705,
          66.98842545857451,
          73.98471662091026,
          76.35355859726323,
          85.55896984710402,
          79.99510190981749,
          81.72473834284477,
          79.06855896001713,
          85.44770791918181,
          72.36900833087506,
          86.03796710931637,
          79.22565766840653,
          74.74263279526774,
          76.91871169732859,
          103.65542277632152,
          70.84293123277878,
          75.28641073570851,
          72.68428712077925,
          71.7056643862991,
          105.80881669943423,
          75.19280720584224,
          80.75874124622871,
          78.5593165870717,
          80.38443716212531,
          81.66822331825362,
          107.2757614517877,
          91.05875751916207,
          89.77245871711489
         ],
         "yaxis": "y"
        },
        {
         "hovertemplate": "architecture_choice=2<br>epoch=%{x}<br>time_total_mean=%{y}<extra></extra>",
         "legendgroup": "2",
         "line": {
          "color": "#00cc96",
          "dash": "solid"
         },
         "marker": {
          "symbol": "circle"
         },
         "mode": "lines",
         "name": "2",
         "orientation": "v",
         "showlegend": true,
         "type": "scatter",
         "x": [
          0,
          1,
          2,
          3,
          4,
          5,
          6,
          7,
          8,
          9,
          10,
          11,
          12,
          13,
          14,
          15,
          16,
          17,
          18,
          19,
          20,
          21,
          22,
          23,
          24,
          25,
          26,
          27,
          28,
          29,
          30,
          31,
          32,
          33,
          34,
          35,
          36,
          37,
          38,
          39,
          40,
          41,
          42,
          43,
          44,
          45,
          46,
          47,
          48,
          49,
          50,
          51,
          52,
          53,
          54,
          55,
          56,
          57,
          58,
          59,
          60,
          61,
          62,
          63,
          64,
          65,
          66,
          67,
          68,
          69,
          70,
          71,
          72,
          73,
          74,
          75,
          76,
          77,
          78,
          79,
          80,
          81,
          82,
          83,
          84,
          85,
          86,
          87,
          88,
          89,
          90,
          91,
          92,
          93,
          94,
          95,
          96,
          97,
          98,
          99
         ],
         "xaxis": "x",
         "y": [
          91.40297349294026,
          101.7489488919576,
          110.08871984481812,
          94.8237030506134,
          93.30603408813477,
          92.92846353848775,
          87.33309086163838,
          87.10735718409221,
          112.3266122341156,
          91.36032803853352,
          76.8016881942749,
          86.40425125757854,
          87.06021531422932,
          105.00860134760539,
          83.69022520383199,
          80.08847745259602,
          81.35957551002502,
          97.36367289225261,
          80.28009152412415,
          98.34137233098348,
          82.50065922737122,
          85.89683850606282,
          84.76612321535747,
          86.61935249964397,
          91.81565348307292,
          81.9038478533427,
          90.79597640037537,
          82.88113808631897,
          87.04631233215332,
          86.40440861384074,
          79.69569706916809,
          83.26209100087483,
          85.91512719790141,
          93.01797374089558,
          88.87337303161621,
          79.46966203053792,
          82.95229705174764,
          79.6434535185496,
          82.76805814107259,
          87.80632615089417,
          82.93061327934265,
          83.44249153137207,
          88.07396650314331,
          80.15108076731364,
          80.50666308403015,
          84.51733883221944,
          79.35831467310588,
          80.91662987073262,
          81.0023061434428,
          83.85154167811076,
          77.08391491572063,
          92.67696150143941,
          94.73214626312256,
          82.10975575447083,
          93.12487896283467,
          77.84523677825928,
          84.28539903958638,
          85.53768785794576,
          85.10567990938823,
          84.59661181767781,
          82.95844133694966,
          77.18226710955302,
          86.09304443995158,
          79.96109819412231,
          86.01145712534587,
          84.77604603767395,
          84.04761330286662,
          82.65974386533101,
          89.90172799428304,
          81.60618980725606,
          80.10769033432007,
          83.87608393033345,
          85.88596185048421,
          83.08503246307373,
          79.7488826115926,
          81.09030763308208,
          73.88676794370015,
          83.97225348154704,
          77.53337478637695,
          83.45574402809143,
          83.81023979187012,
          89.05433710416158,
          77.8344174226125,
          85.48335433006287,
          79.50311676661174,
          84.34024008115132,
          80.33587829271953,
          89.60651755332947,
          77.75955979029338,
          82.44026112556458,
          83.29065291086832,
          80.4448488553365,
          83.17160320281982,
          74.62847741444905,
          86.98709241549174,
          79.35519313812256,
          83.6027021408081,
          83.24605059623718,
          82.63758285840352,
          88.74487169583638
         ],
         "yaxis": "y"
        },
        {
         "fill": "toself",
         "fillcolor": "rgba(171,99,250,.3)",
         "hoverinfo": "skip",
         "legendgroup": "3",
         "line": {
          "color": "rgba(255,255,255,0)"
         },
         "showlegend": false,
         "type": "scatter",
         "x": [
          0,
          1,
          2,
          3,
          4,
          5,
          6,
          7,
          8,
          9,
          10,
          11,
          12,
          13,
          14,
          15,
          16,
          17,
          18,
          19,
          20,
          21,
          22,
          23,
          24,
          25,
          26,
          27,
          28,
          29,
          30,
          31,
          32,
          33,
          34,
          35,
          36,
          37,
          38,
          39,
          40,
          41,
          42,
          43,
          44,
          45,
          46,
          47,
          48,
          49,
          50,
          51,
          52,
          53,
          54,
          55,
          56,
          57,
          58,
          59,
          60,
          61,
          62,
          63,
          64,
          65,
          66,
          67,
          68,
          69,
          70,
          71,
          72,
          73,
          74,
          75,
          76,
          77,
          78,
          79,
          80,
          81,
          82,
          83,
          84,
          85,
          86,
          87,
          88,
          89,
          90,
          91,
          92,
          93,
          94,
          95,
          96,
          97,
          98,
          99,
          99,
          98,
          97,
          96,
          95,
          94,
          93,
          92,
          91,
          90,
          89,
          88,
          87,
          86,
          85,
          84,
          83,
          82,
          81,
          80,
          79,
          78,
          77,
          76,
          75,
          74,
          73,
          72,
          71,
          70,
          69,
          68,
          67,
          66,
          65,
          64,
          63,
          62,
          61,
          60,
          59,
          58,
          57,
          56,
          55,
          54,
          53,
          52,
          51,
          50,
          49,
          48,
          47,
          46,
          45,
          44,
          43,
          42,
          41,
          40,
          39,
          38,
          37,
          36,
          35,
          34,
          33,
          32,
          31,
          30,
          29,
          28,
          27,
          26,
          25,
          24,
          23,
          22,
          21,
          20,
          19,
          18,
          17,
          16,
          15,
          14,
          13,
          12,
          11,
          10,
          9,
          8,
          7,
          6,
          5,
          4,
          3,
          2,
          1,
          0
         ],
         "xaxis": "x",
         "y": [
          56.234290975955325,
          46.303523518056025,
          47.36719177585273,
          52.788664560588316,
          53.6836631995743,
          43.92030986061382,
          45.21400585660422,
          42.0286620474506,
          52.79060803522536,
          44.03240772149872,
          45.37663937159091,
          46.181137051332286,
          44.813602816068546,
          46.111068470904776,
          46.04592507998903,
          47.54575850456567,
          26.355787443835307,
          25.875060555575615,
          44.745584018114066,
          41.98460210090971,
          43.476014600339596,
          41.55182699478712,
          25.28328439957988,
          46.676561196193454,
          24.483179424622325,
          26.010748339992322,
          25.17223732468453,
          25.248572452966844,
          25.053885207514348,
          24.40254194317941,
          26.298399660024476,
          24.530347614426514,
          24.69171393572506,
          44.435104948976225,
          25.38562860081426,
          25.047000141772617,
          41.02604481886007,
          25.4184419449794,
          24.786861676296873,
          26.073814960680707,
          26.43252730566459,
          44.9682972609279,
          24.667161677397917,
          39.7502329687574,
          26.362469138837117,
          27.370956067948896,
          24.71651215815726,
          26.151598854885236,
          26.555876828128753,
          24.832176212871488,
          26.525257269786586,
          25.502489690811267,
          24.947208223612616,
          26.520337944016774,
          45.12907163296155,
          25.537138715807025,
          24.899738927658767,
          25.674941935385625,
          25.80612130522456,
          24.370014629583448,
          26.283826379237997,
          24.664050539965487,
          25.080878325650435,
          23.376581310976995,
          27.128968043113293,
          26.460061918802175,
          23.423654413372354,
          25.194229030911707,
          25.354874288785375,
          25.660160169935043,
          25.12435109820903,
          43.381604556146556,
          25.035781524670345,
          25.826628160085832,
          26.409575407439345,
          22.764014876104838,
          24.716823798355215,
          24.688167944095667,
          26.410362692070457,
          26.02352502864717,
          24.074896172748737,
          24.693548283728518,
          26.6456060802077,
          26.5406260816744,
          25.324635555083354,
          26.68321907827833,
          25.43265091856791,
          25.22927152911485,
          26.00892862059028,
          27.45708764177183,
          26.054366588142386,
          27.19736817466947,
          25.702621370300335,
          25.520584967016838,
          25.42427088104937,
          26.697996505143166,
          25.491021422560838,
          25.1156202190085,
          26.19043707822914,
          23.12136505586367,
          22.810999248996765,
          23.29026039466108,
          22.58218756984038,
          24.758837115748893,
          22.938993088362693,
          22.770272162723007,
          24.572216285984055,
          23.70276793862911,
          22.296657373629685,
          25.686082204633088,
          23.871969574872455,
          23.783046718663467,
          22.119050226612284,
          22.716222092703248,
          24.161396381163808,
          21.47307518150926,
          23.22825476244181,
          22.939497749494045,
          22.686588206139646,
          23.10018635186878,
          23.916533838489464,
          21.919985799598244,
          22.39134481098042,
          22.851635394556567,
          21.916234497013242,
          22.503407533234483,
          22.24053355891848,
          24.546769795723538,
          19.699358578619066,
          23.048616176774697,
          24.15510039931951,
          22.031622096153185,
          22.82055578201554,
          21.914638344297728,
          22.268282362712313,
          25.075420257464504,
          22.714899420987116,
          24.390933604688104,
          21.86622861958041,
          23.75154222224312,
          22.344079214512416,
          24.04368373195602,
          23.32121141925915,
          21.755751629693933,
          24.95028104839382,
          19.863413254479447,
          24.08259784699885,
          23.443375132608903,
          22.196488415369558,
          22.935825665546666,
          22.86131540496705,
          21.762398146694245,
          23.604853864485285,
          23.309592768905727,
          21.977672929853846,
          22.6214136062699,
          19.96617576079582,
          22.591595437012483,
          21.54642254320011,
          21.149579443552124,
          21.77881025039921,
          23.418304663577395,
          24.405876622932382,
          20.15680506517313,
          22.97300905800562,
          23.095884104670763,
          19.288257496855074,
          22.04290774803145,
          23.238256346246498,
          23.03851376669265,
          21.244949829790155,
          21.406897320409236,
          20.963635818059768,
          22.508417360018022,
          24.488443738915965,
          23.79474733827644,
          20.480073452447492,
          23.215724573859656,
          17.277408400008618,
          17.79551427946183,
          17.41377293342256,
          17.919950955030465,
          20.590553922217758,
          23.333514364839825,
          17.629109602276372,
          16.48608102479816,
          17.59123128292009,
          17.894155610597714,
          15.017946276914781,
          18.351467921855946,
          15.315585334480685,
          26.74097209503384,
          19.058840273156903,
          17.115802537509953,
          19.039156437807407,
          24.581752309967527,
          26.051025012063864,
          42.49613842942884,
          43.860202970693166,
          50.67356072005908
         ],
         "yaxis": "y"
        },
        {
         "hovertemplate": "architecture_choice=3<br>epoch=%{x}<br>time_total_mean=%{y}<extra></extra>",
         "legendgroup": "3",
         "line": {
          "color": "#ab63fa",
          "dash": "solid"
         },
         "marker": {
          "symbol": "circle"
         },
         "mode": "lines",
         "name": "3",
         "orientation": "v",
         "showlegend": true,
         "type": "scatter",
         "x": [
          0,
          1,
          2,
          3,
          4,
          5,
          6,
          7,
          8,
          9,
          10,
          11,
          12,
          13,
          14,
          15,
          16,
          17,
          18,
          19,
          20,
          21,
          22,
          23,
          24,
          25,
          26,
          27,
          28,
          29,
          30,
          31,
          32,
          33,
          34,
          35,
          36,
          37,
          38,
          39,
          40,
          41,
          42,
          43,
          44,
          45,
          46,
          47,
          48,
          49,
          50,
          51,
          52,
          53,
          54,
          55,
          56,
          57,
          58,
          59,
          60,
          61,
          62,
          63,
          64,
          65,
          66,
          67,
          68,
          69,
          70,
          71,
          72,
          73,
          74,
          75,
          76,
          77,
          78,
          79,
          80,
          81,
          82,
          83,
          84,
          85,
          86,
          87,
          88,
          89,
          90,
          91,
          92,
          93,
          94,
          95,
          96,
          97,
          98,
          99
         ],
         "xaxis": "x",
         "y": [
          53.4539258480072,
          45.081863244374595,
          44.931665102640785,
          39.41984478632609,
          39.13270775477091,
          31.479733149210613,
          31.164904197057087,
          30.543751160303753,
          39.7657900651296,
          29.673996527989704,
          31.86405364672343,
          30.599541664123535,
          31.35387921333313,
          31.851149876912434,
          31.266003052393597,
          32.58743405342102,
          24.844650904337566,
          23.232807238896687,
          31.332767486572266,
          29.699187517166138,
          30.635764439900715,
          29.41461769739787,
          24.24950448671977,
          33.57831732432047,
          24.138963381449383,
          25.249596039454143,
          23.840327342351276,
          23.106104135513306,
          23.230391263961792,
          22.823745886484783,
          24.668456713358562,
          23.884301980336506,
          23.367310841878254,
          31.86168122291565,
          24.240756352742512,
          24.01000459988912,
          30.5914249420166,
          24.91215928395589,
          24.102583169937134,
          23.92631260553996,
          23.791053374608357,
          33.257359902064,
          23.6293785572052,
          29.85820436477661,
          24.49194137255351,
          24.67431449890137,
          24.013052463531494,
          24.87822635968526,
          24.1591374874115,
          23.84674580891927,
          24.730541467666626,
          23.849489053090412,
          24.19529167811076,
          25.301467895507812,
          32.4962424437205,
          25.243709882100422,
          23.32774527867635,
          24.498076677322388,
          24.92490251859029,
          23.35704692204793,
          25.01768430074056,
          23.26513957977295,
          24.73590596516927,
          23.045740365982056,
          26.1021941502889,
          24.364172140757244,
          22.66914637883504,
          24.007392406463623,
          23.69324819246928,
          24.907630284627277,
          24.086483637491863,
          31.540481567382812,
          24.79127566019694,
          24.033580859502155,
          24.456491470336914,
          22.34012468655904,
          23.78422959645589,
          23.539756377538044,
          24.16517424583435,
          24.970029433568318,
          23.587541262308758,
          23.690068244934082,
          24.792551914850872,
          24.884440422058105,
          23.398855368296307,
          25.42230772972107,
          24.07443650563558,
          23.674160877863567,
          24.895987669626873,
          25.664528608322144,
          25.870224396387737,
          24.747012774149578,
          24.70269465446472,
          25.046400626500446,
          24.09727152188619,
          24.81849479675293,
          25.124929269154865,
          23.84890389442444,
          24.74034873644511,
          22.966182152430218
         ],
         "yaxis": "y"
        },
        {
         "fill": "toself",
         "fillcolor": "rgba(255,161,90,.3)",
         "hoverinfo": "skip",
         "legendgroup": "4",
         "line": {
          "color": "rgba(255,255,255,0)"
         },
         "showlegend": false,
         "type": "scatter",
         "x": [
          0,
          1,
          2,
          3,
          4,
          5,
          6,
          7,
          8,
          9,
          10,
          11,
          12,
          13,
          14,
          15,
          16,
          17,
          18,
          19,
          20,
          21,
          22,
          23,
          24,
          25,
          26,
          27,
          28,
          29,
          30,
          31,
          32,
          33,
          34,
          35,
          36,
          37,
          38,
          39,
          40,
          41,
          42,
          43,
          44,
          45,
          46,
          47,
          48,
          49,
          50,
          51,
          52,
          53,
          54,
          55,
          56,
          57,
          58,
          59,
          60,
          61,
          62,
          63,
          64,
          65,
          66,
          67,
          68,
          69,
          70,
          71,
          72,
          73,
          74,
          75,
          76,
          77,
          78,
          79,
          80,
          81,
          82,
          83,
          84,
          85,
          86,
          87,
          88,
          89,
          90,
          91,
          92,
          93,
          94,
          95,
          96,
          97,
          98,
          99,
          99,
          98,
          97,
          96,
          95,
          94,
          93,
          92,
          91,
          90,
          89,
          88,
          87,
          86,
          85,
          84,
          83,
          82,
          81,
          80,
          79,
          78,
          77,
          76,
          75,
          74,
          73,
          72,
          71,
          70,
          69,
          68,
          67,
          66,
          65,
          64,
          63,
          62,
          61,
          60,
          59,
          58,
          57,
          56,
          55,
          54,
          53,
          52,
          51,
          50,
          49,
          48,
          47,
          46,
          45,
          44,
          43,
          42,
          41,
          40,
          39,
          38,
          37,
          36,
          35,
          34,
          33,
          32,
          31,
          30,
          29,
          28,
          27,
          26,
          25,
          24,
          23,
          22,
          21,
          20,
          19,
          18,
          17,
          16,
          15,
          14,
          13,
          12,
          11,
          10,
          9,
          8,
          7,
          6,
          5,
          4,
          3,
          2,
          1,
          0
         ],
         "xaxis": "x",
         "y": [
          95.70382188395921,
          102.80819150547205,
          109.42274236889742,
          113.82403332880907,
          107.9099319988414,
          114.54526608059604,
          118.99188274069733,
          117.51987262786187,
          105.01158271503968,
          114.04534121401491,
          104.29455020463284,
          84.92516504538949,
          91.63706522909744,
          88.2964692621458,
          90.17659962876974,
          90.90851636564413,
          106.44023037630595,
          109.2037525012448,
          92.81631678297597,
          88.14589608908912,
          100.56387811551505,
          86.46215661890695,
          87.89197217543477,
          100.21849660824873,
          88.97599830335221,
          90.59025093757461,
          113.12777654350032,
          91.5566020240982,
          87.1744360344439,
          113.4552615104612,
          90.08518518584968,
          91.43178340656257,
          89.55949423858739,
          104.49926812626197,
          87.02875203938237,
          88.85274173690283,
          88.2770841082378,
          91.7141027320738,
          91.15803487981384,
          91.24225328724394,
          108.83621974031783,
          85.41292798422383,
          97.74036844730058,
          103.45777272695423,
          80.05370603866642,
          87.91521425492688,
          88.24618501466884,
          94.46163693429457,
          84.7611587658579,
          83.48788703425572,
          87.27211024679997,
          85.53873547658483,
          85.17708366917653,
          90.19920401159177,
          91.48377034241197,
          104.91582609681474,
          87.84494581243683,
          100.15193186164402,
          84.98962750377946,
          80.84650370308108,
          86.47219509684572,
          92.14428149577984,
          94.45049199909397,
          84.98494214374193,
          91.88757109943717,
          90.83583356330722,
          85.2774480151582,
          87.68124424070103,
          92.85350077198908,
          88.87305515198744,
          91.41275205693833,
          94.10353652996163,
          86.40519556867811,
          88.12530686045966,
          86.2248779250582,
          82.44261853165462,
          84.05247624573518,
          84.45303609567237,
          85.72529009684125,
          89.20410077305438,
          111.90710390337516,
          95.29068436056536,
          87.5251105986622,
          84.73642433732181,
          92.47340190771759,
          94.85034242044506,
          91.33192245346315,
          91.05931833774264,
          86.3282503285487,
          85.41039150402298,
          86.90239084146397,
          84.50196061894296,
          91.2677204103491,
          87.93490593999279,
          89.20482153451968,
          87.90973154253084,
          94.9428176825654,
          85.72793008958581,
          86.85646879155587,
          83.66325195647549,
          80.11110297821689,
          81.22548695922742,
          82.80094271823484,
          81.18465392337127,
          82.49780019575041,
          79.83513598882627,
          80.66174068679759,
          83.2806687065739,
          76.04946754013501,
          79.1049904387993,
          78.15161067798385,
          75.25328803077542,
          86.51562202582343,
          79.63913416681679,
          79.81504950155201,
          81.03418616092661,
          70.85006327381305,
          79.83325652653107,
          78.19224216709372,
          68.99326272082122,
          76.8165918933173,
          75.83284731999835,
          74.90490521393862,
          78.49316660704802,
          69.32302045556868,
          76.83387906219562,
          78.54645957961398,
          81.5227371705797,
          77.97152924177705,
          71.50208307820367,
          76.91633398146593,
          78.88097817851141,
          75.49271994183476,
          80.99859778409717,
          76.36179636528165,
          75.44315870301239,
          71.30183265051872,
          84.32434422323675,
          74.06939877155415,
          75.76089816487303,
          72.42860972058429,
          80.63637019850121,
          74.21880298892157,
          78.0742628731202,
          75.01092122526778,
          73.3846361123101,
          74.90583097553997,
          83.25790864420848,
          77.04534076904099,
          83.52433544081194,
          76.70498231109138,
          75.94120170523179,
          74.13986405371202,
          77.30299294985957,
          71.03696358753122,
          79.25928621622656,
          73.92921384658297,
          81.85881622473717,
          78.30160041746889,
          72.9473398999308,
          76.63902204870372,
          80.65232888971741,
          77.58632931418069,
          75.11981352563265,
          75.27572693553165,
          80.30568978139806,
          81.5840637765599,
          78.93149640014552,
          77.90379074352288,
          69.72481046539544,
          63.69293979619978,
          82.75286616714506,
          75.26003072355195,
          70.49890192329656,
          81.26378889040797,
          75.0666248986538,
          76.41445353874428,
          69.05116610606953,
          73.35890356175712,
          77.05275227973846,
          76.83200616437972,
          75.90414967184785,
          71.11708086387767,
          90.86710817934795,
          75.43603424394449,
          79.9040621449119,
          86.01500204115824,
          80.12686095905359,
          77.64780566282175,
          72.00009303852106,
          82.21828774564085,
          67.76651713974752,
          83.12121426839872,
          76.9057021744638,
          82.27793668836554,
          82.74872761826471,
          79.31973132598625,
          81.72367397733467,
          98.17762115855993,
          91.17059701049065
         ],
         "yaxis": "y"
        },
        {
         "hovertemplate": "architecture_choice=4<br>epoch=%{x}<br>time_total_mean=%{y}<extra></extra>",
         "legendgroup": "4",
         "line": {
          "color": "#FFA15A",
          "dash": "solid"
         },
         "marker": {
          "symbol": "circle"
         },
         "mode": "lines",
         "name": "4",
         "orientation": "v",
         "showlegend": true,
         "type": "scatter",
         "x": [
          0,
          1,
          2,
          3,
          4,
          5,
          6,
          7,
          8,
          9,
          10,
          11,
          12,
          13,
          14,
          15,
          16,
          17,
          18,
          19,
          20,
          21,
          22,
          23,
          24,
          25,
          26,
          27,
          28,
          29,
          30,
          31,
          32,
          33,
          34,
          35,
          36,
          37,
          38,
          39,
          40,
          41,
          42,
          43,
          44,
          45,
          46,
          47,
          48,
          49,
          50,
          51,
          52,
          53,
          54,
          55,
          56,
          57,
          58,
          59,
          60,
          61,
          62,
          63,
          64,
          65,
          66,
          67,
          68,
          69,
          70,
          71,
          72,
          73,
          74,
          75,
          76,
          77,
          78,
          79,
          80,
          81,
          82,
          83,
          84,
          85,
          86,
          87,
          88,
          89,
          90,
          91,
          92,
          93,
          94,
          95,
          96,
          97,
          98,
          99
         ],
         "xaxis": "x",
         "y": [
          93.43720944722493,
          100.49290633201599,
          95.57320817311604,
          96.57188232739766,
          95.32932980855306,
          98.41160138448079,
          97.94879245758057,
          100.3205434481303,
          86.3890499273936,
          98.13181447982788,
          88.14732162157695,
          81.28648535410562,
          85.88196309407552,
          87.15573565165202,
          85.04033088684082,
          83.17227530479431,
          98.65366927782695,
          90.16041668256123,
          84.36023322741191,
          82.48895112673442,
          88.80831519762675,
          79.91053009033203,
          78.47156914075215,
          88.3164750734965,
          82.021311601003,
          85.92701991399129,
          91.81333923339844,
          83.40831637382507,
          84.96365110079448,
          88.57410065333049,
          79.90499782562256,
          84.66778707504272,
          84.24549531936646,
          93.04166595141093,
          83.66722091039021,
          82.06423433621724,
          81.69844881693523,
          84.65021602312724,
          85.90518188476562,
          83.94063766797383,
          90.89177982012431,
          81.85726420084636,
          89.79959233601888,
          88.6934932867686,
          79.65649612744649,
          79.47608892122905,
          82.7745889822642,
          84.3007504940033,
          80.35118023554485,
          80.09643467267355,
          85.39822284380595,
          81.29203812281291,
          84.2174961566925,
          82.55251749356587,
          82.43420322736104,
          89.96337366104126,
          82.95960434277852,
          87.18536742528279,
          82.81299885114034,
          76.63755671183269,
          81.11654663085938,
          83.10684013366699,
          89.38741811116536,
          78.14338739713033,
          83.66536490122478,
          83.59881496429443,
          83.13802289962769,
          81.5869820912679,
          85.86723947525024,
          82.89469456672668,
          81.457417567571,
          86.03753288586934,
          83.9639663696289,
          83.33588322003682,
          81.52937849362691,
          75.88281949361165,
          81.2728214263916,
          79.6789706548055,
          80.7790687084198,
          83.01034633318584,
          90.45018331209819,
          86.74146326382954,
          83.67918356259663,
          77.79324380556743,
          86.7537940343221,
          87.33269596099854,
          85.48552831013997,
          88.78747018178304,
          80.79076917966206,
          81.78100109100342,
          83.00369064013164,
          80.27571407953899,
          87.2741945584615,
          84.29832331339519,
          84.51997876167297,
          85.20376586914062,
          88.06373580296834,
          84.26443640391032,
          84.04097787539165,
          81.88717746734619
         ],
         "yaxis": "y"
        }
       ],
       "layout": {
        "font": {
         "size": 18
        },
        "height": 400,
        "hovermode": "x",
        "legend": {
         "title": {
          "text": "architecture_choice"
         },
         "tracegroupgap": 0
        },
        "margin": {
         "t": 60
        },
        "template": {
         "data": {
          "bar": [
           {
            "error_x": {
             "color": "#2a3f5f"
            },
            "error_y": {
             "color": "#2a3f5f"
            },
            "marker": {
             "line": {
              "color": "#E5ECF6",
              "width": 0.5
             },
             "pattern": {
              "fillmode": "overlay",
              "size": 10,
              "solidity": 0.2
             }
            },
            "type": "bar"
           }
          ],
          "barpolar": [
           {
            "marker": {
             "line": {
              "color": "#E5ECF6",
              "width": 0.5
             },
             "pattern": {
              "fillmode": "overlay",
              "size": 10,
              "solidity": 0.2
             }
            },
            "type": "barpolar"
           }
          ],
          "carpet": [
           {
            "aaxis": {
             "endlinecolor": "#2a3f5f",
             "gridcolor": "white",
             "linecolor": "white",
             "minorgridcolor": "white",
             "startlinecolor": "#2a3f5f"
            },
            "baxis": {
             "endlinecolor": "#2a3f5f",
             "gridcolor": "white",
             "linecolor": "white",
             "minorgridcolor": "white",
             "startlinecolor": "#2a3f5f"
            },
            "type": "carpet"
           }
          ],
          "choropleth": [
           {
            "colorbar": {
             "outlinewidth": 0,
             "ticks": ""
            },
            "type": "choropleth"
           }
          ],
          "contour": [
           {
            "colorbar": {
             "outlinewidth": 0,
             "ticks": ""
            },
            "colorscale": [
             [
              0,
              "#0d0887"
             ],
             [
              0.1111111111111111,
              "#46039f"
             ],
             [
              0.2222222222222222,
              "#7201a8"
             ],
             [
              0.3333333333333333,
              "#9c179e"
             ],
             [
              0.4444444444444444,
              "#bd3786"
             ],
             [
              0.5555555555555556,
              "#d8576b"
             ],
             [
              0.6666666666666666,
              "#ed7953"
             ],
             [
              0.7777777777777778,
              "#fb9f3a"
             ],
             [
              0.8888888888888888,
              "#fdca26"
             ],
             [
              1,
              "#f0f921"
             ]
            ],
            "type": "contour"
           }
          ],
          "contourcarpet": [
           {
            "colorbar": {
             "outlinewidth": 0,
             "ticks": ""
            },
            "type": "contourcarpet"
           }
          ],
          "heatmap": [
           {
            "colorbar": {
             "outlinewidth": 0,
             "ticks": ""
            },
            "colorscale": [
             [
              0,
              "#0d0887"
             ],
             [
              0.1111111111111111,
              "#46039f"
             ],
             [
              0.2222222222222222,
              "#7201a8"
             ],
             [
              0.3333333333333333,
              "#9c179e"
             ],
             [
              0.4444444444444444,
              "#bd3786"
             ],
             [
              0.5555555555555556,
              "#d8576b"
             ],
             [
              0.6666666666666666,
              "#ed7953"
             ],
             [
              0.7777777777777778,
              "#fb9f3a"
             ],
             [
              0.8888888888888888,
              "#fdca26"
             ],
             [
              1,
              "#f0f921"
             ]
            ],
            "type": "heatmap"
           }
          ],
          "heatmapgl": [
           {
            "colorbar": {
             "outlinewidth": 0,
             "ticks": ""
            },
            "colorscale": [
             [
              0,
              "#0d0887"
             ],
             [
              0.1111111111111111,
              "#46039f"
             ],
             [
              0.2222222222222222,
              "#7201a8"
             ],
             [
              0.3333333333333333,
              "#9c179e"
             ],
             [
              0.4444444444444444,
              "#bd3786"
             ],
             [
              0.5555555555555556,
              "#d8576b"
             ],
             [
              0.6666666666666666,
              "#ed7953"
             ],
             [
              0.7777777777777778,
              "#fb9f3a"
             ],
             [
              0.8888888888888888,
              "#fdca26"
             ],
             [
              1,
              "#f0f921"
             ]
            ],
            "type": "heatmapgl"
           }
          ],
          "histogram": [
           {
            "marker": {
             "pattern": {
              "fillmode": "overlay",
              "size": 10,
              "solidity": 0.2
             }
            },
            "type": "histogram"
           }
          ],
          "histogram2d": [
           {
            "colorbar": {
             "outlinewidth": 0,
             "ticks": ""
            },
            "colorscale": [
             [
              0,
              "#0d0887"
             ],
             [
              0.1111111111111111,
              "#46039f"
             ],
             [
              0.2222222222222222,
              "#7201a8"
             ],
             [
              0.3333333333333333,
              "#9c179e"
             ],
             [
              0.4444444444444444,
              "#bd3786"
             ],
             [
              0.5555555555555556,
              "#d8576b"
             ],
             [
              0.6666666666666666,
              "#ed7953"
             ],
             [
              0.7777777777777778,
              "#fb9f3a"
             ],
             [
              0.8888888888888888,
              "#fdca26"
             ],
             [
              1,
              "#f0f921"
             ]
            ],
            "type": "histogram2d"
           }
          ],
          "histogram2dcontour": [
           {
            "colorbar": {
             "outlinewidth": 0,
             "ticks": ""
            },
            "colorscale": [
             [
              0,
              "#0d0887"
             ],
             [
              0.1111111111111111,
              "#46039f"
             ],
             [
              0.2222222222222222,
              "#7201a8"
             ],
             [
              0.3333333333333333,
              "#9c179e"
             ],
             [
              0.4444444444444444,
              "#bd3786"
             ],
             [
              0.5555555555555556,
              "#d8576b"
             ],
             [
              0.6666666666666666,
              "#ed7953"
             ],
             [
              0.7777777777777778,
              "#fb9f3a"
             ],
             [
              0.8888888888888888,
              "#fdca26"
             ],
             [
              1,
              "#f0f921"
             ]
            ],
            "type": "histogram2dcontour"
           }
          ],
          "mesh3d": [
           {
            "colorbar": {
             "outlinewidth": 0,
             "ticks": ""
            },
            "type": "mesh3d"
           }
          ],
          "parcoords": [
           {
            "line": {
             "colorbar": {
              "outlinewidth": 0,
              "ticks": ""
             }
            },
            "type": "parcoords"
           }
          ],
          "pie": [
           {
            "automargin": true,
            "type": "pie"
           }
          ],
          "scatter": [
           {
            "fillpattern": {
             "fillmode": "overlay",
             "size": 10,
             "solidity": 0.2
            },
            "type": "scatter"
           }
          ],
          "scatter3d": [
           {
            "line": {
             "colorbar": {
              "outlinewidth": 0,
              "ticks": ""
             }
            },
            "marker": {
             "colorbar": {
              "outlinewidth": 0,
              "ticks": ""
             }
            },
            "type": "scatter3d"
           }
          ],
          "scattercarpet": [
           {
            "marker": {
             "colorbar": {
              "outlinewidth": 0,
              "ticks": ""
             }
            },
            "type": "scattercarpet"
           }
          ],
          "scattergeo": [
           {
            "marker": {
             "colorbar": {
              "outlinewidth": 0,
              "ticks": ""
             }
            },
            "type": "scattergeo"
           }
          ],
          "scattergl": [
           {
            "marker": {
             "colorbar": {
              "outlinewidth": 0,
              "ticks": ""
             }
            },
            "type": "scattergl"
           }
          ],
          "scattermapbox": [
           {
            "marker": {
             "colorbar": {
              "outlinewidth": 0,
              "ticks": ""
             }
            },
            "type": "scattermapbox"
           }
          ],
          "scatterpolar": [
           {
            "marker": {
             "colorbar": {
              "outlinewidth": 0,
              "ticks": ""
             }
            },
            "type": "scatterpolar"
           }
          ],
          "scatterpolargl": [
           {
            "marker": {
             "colorbar": {
              "outlinewidth": 0,
              "ticks": ""
             }
            },
            "type": "scatterpolargl"
           }
          ],
          "scatterternary": [
           {
            "marker": {
             "colorbar": {
              "outlinewidth": 0,
              "ticks": ""
             }
            },
            "type": "scatterternary"
           }
          ],
          "surface": [
           {
            "colorbar": {
             "outlinewidth": 0,
             "ticks": ""
            },
            "colorscale": [
             [
              0,
              "#0d0887"
             ],
             [
              0.1111111111111111,
              "#46039f"
             ],
             [
              0.2222222222222222,
              "#7201a8"
             ],
             [
              0.3333333333333333,
              "#9c179e"
             ],
             [
              0.4444444444444444,
              "#bd3786"
             ],
             [
              0.5555555555555556,
              "#d8576b"
             ],
             [
              0.6666666666666666,
              "#ed7953"
             ],
             [
              0.7777777777777778,
              "#fb9f3a"
             ],
             [
              0.8888888888888888,
              "#fdca26"
             ],
             [
              1,
              "#f0f921"
             ]
            ],
            "type": "surface"
           }
          ],
          "table": [
           {
            "cells": {
             "fill": {
              "color": "#EBF0F8"
             },
             "line": {
              "color": "white"
             }
            },
            "header": {
             "fill": {
              "color": "#C8D4E3"
             },
             "line": {
              "color": "white"
             }
            },
            "type": "table"
           }
          ]
         },
         "layout": {
          "annotationdefaults": {
           "arrowcolor": "#2a3f5f",
           "arrowhead": 0,
           "arrowwidth": 1
          },
          "autotypenumbers": "strict",
          "coloraxis": {
           "colorbar": {
            "outlinewidth": 0,
            "ticks": ""
           }
          },
          "colorscale": {
           "diverging": [
            [
             0,
             "#8e0152"
            ],
            [
             0.1,
             "#c51b7d"
            ],
            [
             0.2,
             "#de77ae"
            ],
            [
             0.3,
             "#f1b6da"
            ],
            [
             0.4,
             "#fde0ef"
            ],
            [
             0.5,
             "#f7f7f7"
            ],
            [
             0.6,
             "#e6f5d0"
            ],
            [
             0.7,
             "#b8e186"
            ],
            [
             0.8,
             "#7fbc41"
            ],
            [
             0.9,
             "#4d9221"
            ],
            [
             1,
             "#276419"
            ]
           ],
           "sequential": [
            [
             0,
             "#0d0887"
            ],
            [
             0.1111111111111111,
             "#46039f"
            ],
            [
             0.2222222222222222,
             "#7201a8"
            ],
            [
             0.3333333333333333,
             "#9c179e"
            ],
            [
             0.4444444444444444,
             "#bd3786"
            ],
            [
             0.5555555555555556,
             "#d8576b"
            ],
            [
             0.6666666666666666,
             "#ed7953"
            ],
            [
             0.7777777777777778,
             "#fb9f3a"
            ],
            [
             0.8888888888888888,
             "#fdca26"
            ],
            [
             1,
             "#f0f921"
            ]
           ],
           "sequentialminus": [
            [
             0,
             "#0d0887"
            ],
            [
             0.1111111111111111,
             "#46039f"
            ],
            [
             0.2222222222222222,
             "#7201a8"
            ],
            [
             0.3333333333333333,
             "#9c179e"
            ],
            [
             0.4444444444444444,
             "#bd3786"
            ],
            [
             0.5555555555555556,
             "#d8576b"
            ],
            [
             0.6666666666666666,
             "#ed7953"
            ],
            [
             0.7777777777777778,
             "#fb9f3a"
            ],
            [
             0.8888888888888888,
             "#fdca26"
            ],
            [
             1,
             "#f0f921"
            ]
           ]
          },
          "colorway": [
           "#636efa",
           "#EF553B",
           "#00cc96",
           "#ab63fa",
           "#FFA15A",
           "#19d3f3",
           "#FF6692",
           "#B6E880",
           "#FF97FF",
           "#FECB52"
          ],
          "font": {
           "color": "#2a3f5f"
          },
          "geo": {
           "bgcolor": "white",
           "lakecolor": "white",
           "landcolor": "#E5ECF6",
           "showlakes": true,
           "showland": true,
           "subunitcolor": "white"
          },
          "hoverlabel": {
           "align": "left"
          },
          "hovermode": "closest",
          "mapbox": {
           "style": "light"
          },
          "paper_bgcolor": "white",
          "plot_bgcolor": "#E5ECF6",
          "polar": {
           "angularaxis": {
            "gridcolor": "white",
            "linecolor": "white",
            "ticks": ""
           },
           "bgcolor": "#E5ECF6",
           "radialaxis": {
            "gridcolor": "white",
            "linecolor": "white",
            "ticks": ""
           }
          },
          "scene": {
           "xaxis": {
            "backgroundcolor": "#E5ECF6",
            "gridcolor": "white",
            "gridwidth": 2,
            "linecolor": "white",
            "showbackground": true,
            "ticks": "",
            "zerolinecolor": "white"
           },
           "yaxis": {
            "backgroundcolor": "#E5ECF6",
            "gridcolor": "white",
            "gridwidth": 2,
            "linecolor": "white",
            "showbackground": true,
            "ticks": "",
            "zerolinecolor": "white"
           },
           "zaxis": {
            "backgroundcolor": "#E5ECF6",
            "gridcolor": "white",
            "gridwidth": 2,
            "linecolor": "white",
            "showbackground": true,
            "ticks": "",
            "zerolinecolor": "white"
           }
          },
          "shapedefaults": {
           "line": {
            "color": "#2a3f5f"
           }
          },
          "ternary": {
           "aaxis": {
            "gridcolor": "white",
            "linecolor": "white",
            "ticks": ""
           },
           "baxis": {
            "gridcolor": "white",
            "linecolor": "white",
            "ticks": ""
           },
           "bgcolor": "#E5ECF6",
           "caxis": {
            "gridcolor": "white",
            "linecolor": "white",
            "ticks": ""
           }
          },
          "title": {
           "x": 0.05
          },
          "xaxis": {
           "automargin": true,
           "gridcolor": "white",
           "linecolor": "white",
           "ticks": "",
           "title": {
            "standoff": 15
           },
           "zerolinecolor": "white",
           "zerolinewidth": 2
          },
          "yaxis": {
           "automargin": true,
           "gridcolor": "white",
           "linecolor": "white",
           "ticks": "",
           "title": {
            "standoff": 15
           },
           "zerolinecolor": "white",
           "zerolinewidth": 2
          }
         }
        },
        "width": 800,
        "xaxis": {
         "anchor": "y",
         "domain": [
          0,
          1
         ],
         "title": {
          "text": "epoch"
         }
        },
        "yaxis": {
         "anchor": "x",
         "domain": [
          0,
          1
         ],
         "title": {
          "text": "time_total"
         }
        }
       }
      },
      "text/html": [
       "<div>                            <div id=\"0f5c19a3-dc04-4fb1-a645-168e1c9c6d68\" class=\"plotly-graph-div\" style=\"height:400px; width:800px;\"></div>            <script type=\"text/javascript\">                require([\"plotly\"], function(Plotly) {                    window.PLOTLYENV=window.PLOTLYENV || {};                                    if (document.getElementById(\"0f5c19a3-dc04-4fb1-a645-168e1c9c6d68\")) {                    Plotly.newPlot(                        \"0f5c19a3-dc04-4fb1-a645-168e1c9c6d68\",                        [{\"fill\":\"toself\",\"fillcolor\":\"rgba(99,110,250,.3)\",\"hoverinfo\":\"skip\",\"legendgroup\":\"0\",\"line\":{\"color\":\"rgba(255,255,255,0)\"},\"showlegend\":false,\"x\":[0,1,2,3,4,5,6,7,8,9,10,11,12,13,14,15,16,17,18,19,20,21,22,23,24,25,26,27,28,29,30,31,32,33,34,35,36,37,38,39,40,41,42,43,44,45,46,47,48,49,50,51,52,53,54,55,56,57,58,59,60,61,62,63,64,65,66,67,68,69,70,71,72,73,74,75,76,77,78,79,80,81,82,83,84,85,86,87,88,89,90,91,92,93,94,95,96,97,98,99,99,98,97,96,95,94,93,92,91,90,89,88,87,86,85,84,83,82,81,80,79,78,77,76,75,74,73,72,71,70,69,68,67,66,65,64,63,62,61,60,59,58,57,56,55,54,53,52,51,50,49,48,47,46,45,44,43,42,41,40,39,38,37,36,35,34,33,32,31,30,29,28,27,26,25,24,23,22,21,20,19,18,17,16,15,14,13,12,11,10,9,8,7,6,5,4,3,2,1,0],\"xaxis\":\"x\",\"y\":[6.116214415700584,5.799684026744731,5.522214248463331,5.749722244252165,5.694559320687135,5.957589327084907,4.246326130810643,4.438443174461064,4.343692409945064,4.429066119428608,5.597386091602138,5.457672978146874,5.5345405820564855,4.313130428263237,5.614545584460026,5.637732109753775,4.293443353036114,5.6129933973467026,4.348302956475611,5.620948529809543,4.358766088718452,4.309138827718267,5.59333816291364,5.402936248311191,4.3118508880940265,5.644991569001706,5.626970749914169,4.30511259301428,4.348085836953457,4.231552727704056,4.366569731245399,4.336860859554251,5.6097239533253,4.294558526190262,4.324323347216692,4.249372048543548,4.335442418710562,5.584190796830791,5.45769745424896,4.313198948869175,5.520325526328103,4.336341070804102,4.328774784790153,4.3719511301395615,4.3899733173610205,5.49501325956469,4.314368904865219,4.2711546223946595,4.309338411305618,4.324024801844852,4.378105514391668,4.218585096148917,4.303931359044958,4.292291361304973,5.692720679013064,4.370435746611732,4.371595003001047,4.278136140493704,4.445728267243047,4.46899295665408,4.377264807223513,4.297273922745004,4.381608265984597,4.312298659011857,4.338488606602796,4.364004407192904,4.29833554436551,4.358730401021795,4.290592929330494,4.342510988656246,4.265342039700469,4.340005494382696,4.344736904992102,4.3011800226665144,4.358427731499554,4.26494111462468,4.304226801456443,4.257052049852913,4.263076348183836,4.2774773526285506,4.348925516236706,4.31883819692186,4.400416505760577,4.323953818494151,4.3114607107884035,4.265111888486084,4.389837947937805,4.353023092914888,4.353131995349764,4.330142745487071,4.345507779386269,4.243899356784001,4.343835985831326,4.232116898183215,4.395821313180122,4.256161923390994,4.231591875267378,4.332178738773947,4.308336372539899,4.281804922935546,4.145136630816081,4.154160861804583,4.148637307622944,4.122248475837359,4.151914839762082,4.061884502453017,4.132634599721244,4.1139715550622284,4.049062558550065,4.045123737388227,4.194114914425039,4.082205230246346,4.218366741171212,4.104201746530375,4.158494189343912,4.108139934912686,4.143121688351958,4.074927675300214,4.149156810910986,4.114827230345325,4.185347945680776,4.140521324596519,4.104147964897249,4.162148390549986,4.138325156330724,4.135042619401731,4.149501504789134,4.109379280514084,4.173855526023392,4.161456145012259,4.129694968120692,4.092671453349764,4.154434278187596,4.084533699256316,4.102099623416227,4.051004858820789,4.089110966995223,4.088210802924096,4.175426991002149,4.141050984860227,4.105183990621717,4.101562216867467,4.124494188638376,4.077419978586684,4.161843426921389,3.7708998247304257,4.051648101992552,4.14275109411056,4.205535171083342,4.166425989921483,4.078343743687374,4.151518821106085,4.098698874156854,4.059769927227066,3.970853624031094,4.0461726240554015,4.188660276822515,4.167470599426157,4.088891180681087,3.9655775778182196,3.998369788160854,3.98423951550812,3.8936609118992718,4.120700006826548,4.152930216623688,4.155850081636661,4.0597891796508,3.824104082665096,4.082704818088572,4.136255052079797,4.211592070574753,4.123858654115065,4.112637129784386,3.8381138028507236,3.6722617027369813,4.149831431547087,3.912224026194424,3.818011769439061,3.9990845787555274,4.038086881404839,3.7763092750610623,4.0837574441693265,3.7660497049177017,4.061990587851337,3.794025499295704,3.8639248999556637,4.0922159653219685,3.842374872808017,3.813391939099626,3.824873398093093,4.179116469784445,4.102541657336024,4.0478566582008835,4.191264627195134,4.324167550814263,3.8082045864275282,5.5025780181990065,3.8722365750026517,5.56795424331549,5.79907578103607],\"yaxis\":\"y\",\"type\":\"scatter\"},{\"hovertemplate\":\"architecture_choice=0\\u003cbr\\u003eepoch=%{x}\\u003cbr\\u003etime_total_mean=%{y}\\u003cextra\\u003e\\u003c\\u002fextra\\u003e\",\"legendgroup\":\"0\",\"line\":{\"color\":\"#636efa\",\"dash\":\"solid\"},\"marker\":{\"symbol\":\"circle\"},\"mode\":\"lines\",\"name\":\"0\",\"orientation\":\"v\",\"showlegend\":true,\"x\":[0,1,2,3,4,5,6,7,8,9,10,11,12,13,14,15,16,17,18,19,20,21,22,23,24,25,26,27,28,29,30,31,32,33,34,35,36,37,38,39,40,41,42,43,44,45,46,47,48,49,50,51,52,53,54,55,56,57,58,59,60,61,62,63,64,65,66,67,68,69,70,71,72,73,74,75,76,77,78,79,80,81,82,83,84,85,86,87,88,89,90,91,92,93,94,95,96,97,98,99],\"xaxis\":\"x\",\"y\":[5.957645098368327,5.68381913503011,4.697225411732991,5.626150131225586,4.751381953557332,5.140878438949585,4.218795379002889,4.243149916330974,4.223117033640544,4.304091294606526,4.711129744847615,4.63553245862325,4.688457727432251,4.2026731967926025,4.739235242207845,4.715878804524739,4.177716970443726,4.689521551132202,4.216030200322469,4.698628902435303,4.1984264850616455,4.1541117032368975,4.705674966176351,4.657580137252808,4.230841159820557,4.658626635869344,4.732542276382446,4.208874861399333,4.235972245534261,4.221572399139404,4.251412391662598,4.209782838821411,4.716914017995198,4.177173852920531,4.240086714426677,4.201151132583618,4.228071212768555,4.738925854365031,4.72096848487854,4.155784368515015,4.742951552073161,4.212616125742595,4.248122692108155,4.280305703481038,4.218072970708211,4.732933441797892,4.187069416046143,4.184926748275757,4.2304286162058515,4.201184272766113,4.272265752156575,4.21206013361613,4.223341226577759,4.171969731648763,4.731810251871745,4.266139586766561,4.224507490793865,4.20131516456604,4.273645242055257,4.2870884736378985,4.25915789604187,4.236350456873576,4.234909534454347,4.20070481300354,4.194746732711793,4.233052015304565,4.191434621810913,4.256582339604695,4.191632191340129,4.236102978388469,4.213399092356364,4.256930510203044,4.227058092753093,4.225340763727824,4.246735175450643,4.201633135477702,4.233187596003215,4.180600007375081,4.201798836390178,4.231412649154663,4.231876373291016,4.233997503916423,4.2376720905303955,4.233537753423055,4.209800322850545,4.211803038914998,4.24701984723409,4.28569491704305,4.217668612798055,4.262128829956055,4.195315758387248,4.146480957667033,4.228903770446777,4.1823757489522295,4.228852907816569,4.204038381576538,4.176920175552368,4.240408023198445,4.231248617172241,4.2134707768758135],\"yaxis\":\"y\",\"type\":\"scatter\"},{\"fill\":\"toself\",\"fillcolor\":\"rgba(239,85,59,.3)\",\"hoverinfo\":\"skip\",\"legendgroup\":\"1\",\"line\":{\"color\":\"rgba(255,255,255,0)\"},\"showlegend\":false,\"x\":[0,1,2,3,4,5,6,7,8,9,10,11,12,13,14,15,16,17,18,19,20,21,22,23,24,25,26,27,28,29,30,31,32,33,34,35,36,37,38,39,40,41,42,43,44,45,46,47,48,49,50,51,52,53,54,55,56,57,58,59,60,61,62,63,64,65,66,67,68,69,70,71,72,73,74,75,76,77,78,79,80,81,82,83,84,85,86,87,88,89,90,91,92,93,94,95,96,97,98,99,99,98,97,96,95,94,93,92,91,90,89,88,87,86,85,84,83,82,81,80,79,78,77,76,75,74,73,72,71,70,69,68,67,66,65,64,63,62,61,60,59,58,57,56,55,54,53,52,51,50,49,48,47,46,45,44,43,42,41,40,39,38,37,36,35,34,33,32,31,30,29,28,27,26,25,24,23,22,21,20,19,18,17,16,15,14,13,12,11,10,9,8,7,6,5,4,3,2,1,0],\"xaxis\":\"x\",\"y\":[59.055090768671256,54.15386255162346,48.38931071564855,55.37550050183739,58.88871001333092,54.69387319290394,46.997378855356345,26.952081118585514,49.76103435766379,53.68918185977347,26.525545160810793,46.67698647273723,27.180040725226412,26.302771743290364,49.20447836450268,55.646711531614606,49.60969726028161,27.46678635039444,27.266602338771825,26.782255698405628,48.553386070417496,47.20902888129601,55.0968177067269,26.105967924516662,28.659401059903686,26.089357149137637,26.307158739814945,27.517673993772323,26.468857463109664,43.39888527481996,28.66027235408878,27.37059425476275,28.159150642228987,46.888271970044016,27.093923711133353,26.56966423119534,28.67844018328934,49.97572834268331,25.6638075767761,27.069113556063844,24.846882569750143,48.49359636678169,52.19039769134592,26.215290686674024,28.91355320247458,26.85702717307648,49.030802524946424,26.075318197350047,26.359021945795124,26.4061435873979,24.691138403170974,27.07144462660737,47.72095727043128,24.786344025212905,26.00547674437634,25.989699687616774,26.374925165432074,26.3121115714939,27.67182475746825,26.481286474975754,25.566647715707795,26.476501174955025,26.25542814965182,26.136834166419153,44.776398557439926,26.553346405024588,24.760226660441198,25.26869946868774,50.9679738112602,26.38252282946099,26.157545549240478,26.34716387475257,26.304150590386477,25.824127670209183,25.31387023536317,25.50120660201768,25.68454284592866,24.29251765169246,27.21263835545808,24.61120697195142,23.951605986780038,26.80657899742661,26.599325521719223,27.9144205898271,26.37422335490013,26.72188286743685,46.81173387121902,25.84157778821322,26.132322016010608,25.750361839281233,27.591579232036516,26.17878721349666,26.207996821650628,27.14823367488225,26.86966191806173,23.567753723427945,26.96296716116009,24.231522613574146,26.74020135457517,27.23893023037623,21.67387151217748,23.07363823994794,22.63939470667732,23.90145674961668,22.468779632284946,25.998955934467162,23.666930732212073,22.81718288237973,24.491640744673912,23.76467184879438,22.538430770887224,24.318418798198376,23.91656976936328,19.097437551103567,24.184884341934083,24.955350912169365,22.848330830511852,23.294728732176857,20.562375025298817,21.175062943273673,23.730206367027666,24.823452495372,23.119916608357993,22.37707103168568,24.13984023992161,22.50970875811624,21.120185220161506,22.975790332668538,23.441989860090363,23.306787667108804,21.737669698310008,16.754191773304008,22.77792582758708,23.28136228176868,22.476937522892893,18.513319275761162,21.452828226515013,21.063313489803342,23.416914435040496,23.47929697499655,26.098686110066566,22.883362944710704,24.324848299162433,22.16732514991623,22.424952501002206,24.742931096352418,22.89585020772777,17.40514756126428,24.28376710816436,22.184395495500496,24.879337388706837,26.0257479707393,23.18558690951234,18.464796109137637,24.971923867827243,25.384060736174916,23.29668698590288,18.296056477609568,20.130023984373903,23.984773727297792,24.70822606134745,23.514008973160827,21.104171445219524,22.69627164812139,23.73661860699029,22.553639110572785,20.986025648821947,22.12452105475181,22.3455000801575,23.89520415246233,19.774296258993516,25.269903167180047,22.94780617488816,22.959223795483723,24.62866344895603,23.22038368308744,24.51958377607538,28.49720329572468,17.829000153636443,19.18144510379718,23.20637602690565,24.626350580234522,22.586139872088875,18.552970649976373,27.91975146200722,17.410951513732186,25.653533283717692,21.47563881858666,18.276967906026613,24.197501300930334,27.689376616992476,48.77957150527159,24.439810201960956,20.4032611554774,45.69694524403656,29.0439507252962,47.18847753440732,43.52399806375006,50.34261664174609,58.14383266018209],\"yaxis\":\"y\",\"type\":\"scatter\"},{\"hovertemplate\":\"architecture_choice=1\\u003cbr\\u003eepoch=%{x}\\u003cbr\\u003etime_total_mean=%{y}\\u003cextra\\u003e\\u003c\\u002fextra\\u003e\",\"legendgroup\":\"1\",\"line\":{\"color\":\"#EF553B\",\"dash\":\"solid\"},\"marker\":{\"symbol\":\"circle\"},\"mode\":\"lines\",\"name\":\"1\",\"orientation\":\"v\",\"showlegend\":true,\"x\":[0,1,2,3,4,5,6,7,8,9,10,11,12,13,14,15,16,17,18,19,20,21,22,23,24,25,26,27,28,29,30,31,32,33,34,35,36,37,38,39,40,41,42,43,44,45,46,47,48,49,50,51,52,53,54,55,56,57,58,59,60,61,62,63,64,65,66,67,68,69,70,71,72,73,74,75,76,77,78,79,80,81,82,83,84,85,86,87,88,89,90,91,92,93,94,95,96,97,98,99],\"xaxis\":\"x\",\"y\":[58.599461714426674,52.248239596684776,45.9566543896993,51.28198901812235,43.96633036931356,50.19540921847025,33.70032000541687,25.695945660273235,49.27030293146769,40.68927923838297,25.361523230870564,32.47697718938192,24.327839771906536,25.97815251350403,33.30771493911743,41.78323149681091,34.08133395512899,25.026463111241657,25.946476459503174,24.99431586265564,33.86741558710734,32.519014517466225,41.79701050122579,25.31277585029602,25.939892371495564,25.359010299046833,24.633191267649334,25.232740084330242,25.869380315144856,31.58659076690674,26.277738253275555,24.858047167460125,25.1418358484904,33.93714880943298,24.82378141085307,25.153141419092815,25.687355915705364,35.539949893951416,24.588908274968464,25.888669808705647,24.415828148523968,34.3118101755778,35.243227084477745,24.755988836288452,27.14880696932475,25.914475520451862,33.74779931704203,24.630452553431194,26.192384958267212,25.642740488052368,23.437766949335735,25.677605867385864,32.56305241584778,23.841097116470337,25.37420392036438,24.20732609430949,24.271125157674152,25.318479935328167,25.277593851089478,26.28998629252116,24.522972345352173,24.94670780499776,23.65937081972758,23.794831196467083,31.644858916600544,24.51514196395874,24.02079447110494,24.02331264813741,33.861082792282104,24.060096263885498,24.73216660817464,24.894576867421467,24.639970461527508,23.472156445185345,23.911789496739704,24.820523420969646,24.03080693880717,23.706217130025227,26.01804542541504,24.170706669489544,22.563334465026855,23.684477011362713,24.94702712694804,25.381375710169475,25.664787133534748,25.453383604685467,32.95458571116129,24.87907377878825,25.225370407104492,24.14439630508423,25.678125540415447,25.335213979085285,24.51258985201518,25.40758220354716,26.434308926264446,23.018266677856445,25.432211955388386,23.435458660125732,24.906919797261555,24.456400871276855],\"yaxis\":\"y\",\"type\":\"scatter\"},{\"fill\":\"toself\",\"fillcolor\":\"rgba(0,204,150,.3)\",\"hoverinfo\":\"skip\",\"legendgroup\":\"2\",\"line\":{\"color\":\"rgba(255,255,255,0)\"},\"showlegend\":false,\"x\":[0,1,2,3,4,5,6,7,8,9,10,11,12,13,14,15,16,17,18,19,20,21,22,23,24,25,26,27,28,29,30,31,32,33,34,35,36,37,38,39,40,41,42,43,44,45,46,47,48,49,50,51,52,53,54,55,56,57,58,59,60,61,62,63,64,65,66,67,68,69,70,71,72,73,74,75,76,77,78,79,80,81,82,83,84,85,86,87,88,89,90,91,92,93,94,95,96,97,98,99,99,98,97,96,95,94,93,92,91,90,89,88,87,86,85,84,83,82,81,80,79,78,77,76,75,74,73,72,71,70,69,68,67,66,65,64,63,62,61,60,59,58,57,56,55,54,53,52,51,50,49,48,47,46,45,44,43,42,41,40,39,38,37,36,35,34,33,32,31,30,29,28,27,26,25,24,23,22,21,20,19,18,17,16,15,14,13,12,11,10,9,8,7,6,5,4,3,2,1,0],\"xaxis\":\"x\",\"y\":[93.03348826876564,112.43914026475312,112.90167823784853,107.97918278297318,106.22763101414422,107.29761048990379,93.90744047704806,99.02190716234217,118.84440776879697,111.01499169076794,80.91908926777056,97.52209177944856,103.27749939567987,106.36177991888927,90.46173871033538,85.43432210992431,83.49349335164352,108.68937867518885,88.19117471737323,111.23503674278514,85.9327594947253,90.06893866928087,89.53714452089744,87.67973515218391,107.27774836888261,89.82297908577513,114.60352734217622,94.56425054810089,96.03528780840188,100.71936672371044,87.10224521644466,92.01196416039512,89.97702968521057,108.34067776819691,100.46721375894239,83.61506334868479,86.50054961855302,82.54491514103576,84.24863663123871,89.56408469155735,90.1740430893725,87.91841628619187,101.2385759340006,85.57417782490222,87.06132170285615,90.99566203889292,81.45737581855882,83.5800035717004,82.24809475321857,89.78205517238779,82.03154411151127,111.9677614278874,112.71510777353458,85.5118229576325,110.66981049890927,83.55069446101254,87.11802233408888,89.32504474561364,88.61099487360131,88.8072917444066,85.6715823436303,81.88494129737575,104.95757966812774,83.48168207477903,87.98835174801283,86.48876960311655,90.77134713519962,83.74510638436863,109.14772143172047,89.73760000145974,86.86098709464616,87.14811879547928,90.29841750217294,87.52724235307882,82.69492210079837,84.91313428712405,78.11347457417752,85.84229050952082,82.75891179252702,94.86664670203491,91.40756990417563,104.89858431154391,79.68804451843559,86.2412640790395,85.77334169219897,86.92603997355465,83.74311423120167,111.18733873473056,84.64866487829178,89.96791201881477,84.280646253612,82.09487339102324,91.76270362075628,82.5796135852334,96.96199961090917,83.05796618741888,85.82298768199522,91.83445531894913,88.49742131628427,94.60232759805572,82.88741579361704,76.77774440052276,74.65764587352524,81.382416599621,75.65242008882623,77.01218522007431,66.6773412436647,74.58050278488336,78.79482431964976,82.30065956812463,74.91261023231438,70.87045470229498,68.02569637192838,76.92864235423738,81.75444018874799,73.23289184102451,84.72544458108624,75.98079032678942,73.21008989677924,76.2129096795646,72.04484135414795,72.30783778022689,82.10221645357326,69.66006131322278,77.2674809790401,76.80284312238685,78.64282257306864,81.47350619879548,80.60404906518762,73.35439357399397,73.47477961305238,70.6557345568456,81.57438134629339,77.32387947053363,83.06332247223135,84.03456250267891,76.4405143134656,67.22850921177543,72.4795929217303,80.24530033026902,80.38593189094902,81.60036494517514,81.75033097027787,81.45277574508388,72.13977909550601,75.57994742676007,78.70768855130915,76.74918475271053,73.38616157499142,72.13628571992999,77.92102818383374,79.75651753366702,78.25325616976484,77.25925352765294,78.03901562554596,73.95200446520415,74.72798370972507,74.90935707228603,78.96656677655227,75.6871834693128,86.04856761023098,81.28747965090646,76.74199189606345,79.40404448494225,75.32426071239105,77.27953230429003,77.69526971359426,81.85322471059226,74.51221784135454,72.28914892189152,72.08945050397105,78.05733685590477,71.19802562453705,66.98842545857451,73.98471662091026,76.35355859726323,85.55896984710402,79.99510190981749,81.72473834284477,79.06855896001713,85.44770791918181,72.36900833087506,86.03796710931637,79.22565766840653,74.74263279526774,76.91871169732859,103.65542277632152,70.84293123277878,75.28641073570851,72.68428712077925,71.7056643862991,105.80881669943423,75.19280720584224,80.75874124622871,78.5593165870717,80.38443716212531,81.66822331825362,107.2757614517877,91.05875751916207,89.77245871711489],\"yaxis\":\"y\",\"type\":\"scatter\"},{\"hovertemplate\":\"architecture_choice=2\\u003cbr\\u003eepoch=%{x}\\u003cbr\\u003etime_total_mean=%{y}\\u003cextra\\u003e\\u003c\\u002fextra\\u003e\",\"legendgroup\":\"2\",\"line\":{\"color\":\"#00cc96\",\"dash\":\"solid\"},\"marker\":{\"symbol\":\"circle\"},\"mode\":\"lines\",\"name\":\"2\",\"orientation\":\"v\",\"showlegend\":true,\"x\":[0,1,2,3,4,5,6,7,8,9,10,11,12,13,14,15,16,17,18,19,20,21,22,23,24,25,26,27,28,29,30,31,32,33,34,35,36,37,38,39,40,41,42,43,44,45,46,47,48,49,50,51,52,53,54,55,56,57,58,59,60,61,62,63,64,65,66,67,68,69,70,71,72,73,74,75,76,77,78,79,80,81,82,83,84,85,86,87,88,89,90,91,92,93,94,95,96,97,98,99],\"xaxis\":\"x\",\"y\":[91.40297349294026,101.7489488919576,110.08871984481812,94.8237030506134,93.30603408813477,92.92846353848775,87.33309086163838,87.10735718409221,112.3266122341156,91.36032803853352,76.8016881942749,86.40425125757854,87.06021531422932,105.00860134760539,83.69022520383199,80.08847745259602,81.35957551002502,97.36367289225261,80.28009152412415,98.34137233098348,82.50065922737122,85.89683850606282,84.76612321535747,86.61935249964397,91.81565348307292,81.9038478533427,90.79597640037537,82.88113808631897,87.04631233215332,86.40440861384074,79.69569706916809,83.26209100087483,85.91512719790141,93.01797374089558,88.87337303161621,79.46966203053792,82.95229705174764,79.6434535185496,82.76805814107259,87.80632615089417,82.93061327934265,83.44249153137207,88.07396650314331,80.15108076731364,80.50666308403015,84.51733883221944,79.35831467310588,80.91662987073262,81.0023061434428,83.85154167811076,77.08391491572063,92.67696150143941,94.73214626312256,82.10975575447083,93.12487896283467,77.84523677825928,84.28539903958638,85.53768785794576,85.10567990938823,84.59661181767781,82.95844133694966,77.18226710955302,86.09304443995158,79.96109819412231,86.01145712534587,84.77604603767395,84.04761330286662,82.65974386533101,89.90172799428304,81.60618980725606,80.10769033432007,83.87608393033345,85.88596185048421,83.08503246307373,79.7488826115926,81.09030763308208,73.88676794370015,83.97225348154704,77.53337478637695,83.45574402809143,83.81023979187012,89.05433710416158,77.8344174226125,85.48335433006287,79.50311676661174,84.34024008115132,80.33587829271953,89.60651755332947,77.75955979029338,82.44026112556458,83.29065291086832,80.4448488553365,83.17160320281982,74.62847741444905,86.98709241549174,79.35519313812256,83.6027021408081,83.24605059623718,82.63758285840352,88.74487169583638],\"yaxis\":\"y\",\"type\":\"scatter\"},{\"fill\":\"toself\",\"fillcolor\":\"rgba(171,99,250,.3)\",\"hoverinfo\":\"skip\",\"legendgroup\":\"3\",\"line\":{\"color\":\"rgba(255,255,255,0)\"},\"showlegend\":false,\"x\":[0,1,2,3,4,5,6,7,8,9,10,11,12,13,14,15,16,17,18,19,20,21,22,23,24,25,26,27,28,29,30,31,32,33,34,35,36,37,38,39,40,41,42,43,44,45,46,47,48,49,50,51,52,53,54,55,56,57,58,59,60,61,62,63,64,65,66,67,68,69,70,71,72,73,74,75,76,77,78,79,80,81,82,83,84,85,86,87,88,89,90,91,92,93,94,95,96,97,98,99,99,98,97,96,95,94,93,92,91,90,89,88,87,86,85,84,83,82,81,80,79,78,77,76,75,74,73,72,71,70,69,68,67,66,65,64,63,62,61,60,59,58,57,56,55,54,53,52,51,50,49,48,47,46,45,44,43,42,41,40,39,38,37,36,35,34,33,32,31,30,29,28,27,26,25,24,23,22,21,20,19,18,17,16,15,14,13,12,11,10,9,8,7,6,5,4,3,2,1,0],\"xaxis\":\"x\",\"y\":[56.234290975955325,46.303523518056025,47.36719177585273,52.788664560588316,53.6836631995743,43.92030986061382,45.21400585660422,42.0286620474506,52.79060803522536,44.03240772149872,45.37663937159091,46.181137051332286,44.813602816068546,46.111068470904776,46.04592507998903,47.54575850456567,26.355787443835307,25.875060555575615,44.745584018114066,41.98460210090971,43.476014600339596,41.55182699478712,25.28328439957988,46.676561196193454,24.483179424622325,26.010748339992322,25.17223732468453,25.248572452966844,25.053885207514348,24.40254194317941,26.298399660024476,24.530347614426514,24.69171393572506,44.435104948976225,25.38562860081426,25.047000141772617,41.02604481886007,25.4184419449794,24.786861676296873,26.073814960680707,26.43252730566459,44.9682972609279,24.667161677397917,39.7502329687574,26.362469138837117,27.370956067948896,24.71651215815726,26.151598854885236,26.555876828128753,24.832176212871488,26.525257269786586,25.502489690811267,24.947208223612616,26.520337944016774,45.12907163296155,25.537138715807025,24.899738927658767,25.674941935385625,25.80612130522456,24.370014629583448,26.283826379237997,24.664050539965487,25.080878325650435,23.376581310976995,27.128968043113293,26.460061918802175,23.423654413372354,25.194229030911707,25.354874288785375,25.660160169935043,25.12435109820903,43.381604556146556,25.035781524670345,25.826628160085832,26.409575407439345,22.764014876104838,24.716823798355215,24.688167944095667,26.410362692070457,26.02352502864717,24.074896172748737,24.693548283728518,26.6456060802077,26.5406260816744,25.324635555083354,26.68321907827833,25.43265091856791,25.22927152911485,26.00892862059028,27.45708764177183,26.054366588142386,27.19736817466947,25.702621370300335,25.520584967016838,25.42427088104937,26.697996505143166,25.491021422560838,25.1156202190085,26.19043707822914,23.12136505586367,22.810999248996765,23.29026039466108,22.58218756984038,24.758837115748893,22.938993088362693,22.770272162723007,24.572216285984055,23.70276793862911,22.296657373629685,25.686082204633088,23.871969574872455,23.783046718663467,22.119050226612284,22.716222092703248,24.161396381163808,21.47307518150926,23.22825476244181,22.939497749494045,22.686588206139646,23.10018635186878,23.916533838489464,21.919985799598244,22.39134481098042,22.851635394556567,21.916234497013242,22.503407533234483,22.24053355891848,24.546769795723538,19.699358578619066,23.048616176774697,24.15510039931951,22.031622096153185,22.82055578201554,21.914638344297728,22.268282362712313,25.075420257464504,22.714899420987116,24.390933604688104,21.86622861958041,23.75154222224312,22.344079214512416,24.04368373195602,23.32121141925915,21.755751629693933,24.95028104839382,19.863413254479447,24.08259784699885,23.443375132608903,22.196488415369558,22.935825665546666,22.86131540496705,21.762398146694245,23.604853864485285,23.309592768905727,21.977672929853846,22.6214136062699,19.96617576079582,22.591595437012483,21.54642254320011,21.149579443552124,21.77881025039921,23.418304663577395,24.405876622932382,20.15680506517313,22.97300905800562,23.095884104670763,19.288257496855074,22.04290774803145,23.238256346246498,23.03851376669265,21.244949829790155,21.406897320409236,20.963635818059768,22.508417360018022,24.488443738915965,23.79474733827644,20.480073452447492,23.215724573859656,17.277408400008618,17.79551427946183,17.41377293342256,17.919950955030465,20.590553922217758,23.333514364839825,17.629109602276372,16.48608102479816,17.59123128292009,17.894155610597714,15.017946276914781,18.351467921855946,15.315585334480685,26.74097209503384,19.058840273156903,17.115802537509953,19.039156437807407,24.581752309967527,26.051025012063864,42.49613842942884,43.860202970693166,50.67356072005908],\"yaxis\":\"y\",\"type\":\"scatter\"},{\"hovertemplate\":\"architecture_choice=3\\u003cbr\\u003eepoch=%{x}\\u003cbr\\u003etime_total_mean=%{y}\\u003cextra\\u003e\\u003c\\u002fextra\\u003e\",\"legendgroup\":\"3\",\"line\":{\"color\":\"#ab63fa\",\"dash\":\"solid\"},\"marker\":{\"symbol\":\"circle\"},\"mode\":\"lines\",\"name\":\"3\",\"orientation\":\"v\",\"showlegend\":true,\"x\":[0,1,2,3,4,5,6,7,8,9,10,11,12,13,14,15,16,17,18,19,20,21,22,23,24,25,26,27,28,29,30,31,32,33,34,35,36,37,38,39,40,41,42,43,44,45,46,47,48,49,50,51,52,53,54,55,56,57,58,59,60,61,62,63,64,65,66,67,68,69,70,71,72,73,74,75,76,77,78,79,80,81,82,83,84,85,86,87,88,89,90,91,92,93,94,95,96,97,98,99],\"xaxis\":\"x\",\"y\":[53.4539258480072,45.081863244374595,44.931665102640785,39.41984478632609,39.13270775477091,31.479733149210613,31.164904197057087,30.543751160303753,39.7657900651296,29.673996527989704,31.86405364672343,30.599541664123535,31.35387921333313,31.851149876912434,31.266003052393597,32.58743405342102,24.844650904337566,23.232807238896687,31.332767486572266,29.699187517166138,30.635764439900715,29.41461769739787,24.24950448671977,33.57831732432047,24.138963381449383,25.249596039454143,23.840327342351276,23.106104135513306,23.230391263961792,22.823745886484783,24.668456713358562,23.884301980336506,23.367310841878254,31.86168122291565,24.240756352742512,24.01000459988912,30.5914249420166,24.91215928395589,24.102583169937134,23.92631260553996,23.791053374608357,33.257359902064,23.6293785572052,29.85820436477661,24.49194137255351,24.67431449890137,24.013052463531494,24.87822635968526,24.1591374874115,23.84674580891927,24.730541467666626,23.849489053090412,24.19529167811076,25.301467895507812,32.4962424437205,25.243709882100422,23.32774527867635,24.498076677322388,24.92490251859029,23.35704692204793,25.01768430074056,23.26513957977295,24.73590596516927,23.045740365982056,26.1021941502889,24.364172140757244,22.66914637883504,24.007392406463623,23.69324819246928,24.907630284627277,24.086483637491863,31.540481567382812,24.79127566019694,24.033580859502155,24.456491470336914,22.34012468655904,23.78422959645589,23.539756377538044,24.16517424583435,24.970029433568318,23.587541262308758,23.690068244934082,24.792551914850872,24.884440422058105,23.398855368296307,25.42230772972107,24.07443650563558,23.674160877863567,24.895987669626873,25.664528608322144,25.870224396387737,24.747012774149578,24.70269465446472,25.046400626500446,24.09727152188619,24.81849479675293,25.124929269154865,23.84890389442444,24.74034873644511,22.966182152430218],\"yaxis\":\"y\",\"type\":\"scatter\"},{\"fill\":\"toself\",\"fillcolor\":\"rgba(255,161,90,.3)\",\"hoverinfo\":\"skip\",\"legendgroup\":\"4\",\"line\":{\"color\":\"rgba(255,255,255,0)\"},\"showlegend\":false,\"x\":[0,1,2,3,4,5,6,7,8,9,10,11,12,13,14,15,16,17,18,19,20,21,22,23,24,25,26,27,28,29,30,31,32,33,34,35,36,37,38,39,40,41,42,43,44,45,46,47,48,49,50,51,52,53,54,55,56,57,58,59,60,61,62,63,64,65,66,67,68,69,70,71,72,73,74,75,76,77,78,79,80,81,82,83,84,85,86,87,88,89,90,91,92,93,94,95,96,97,98,99,99,98,97,96,95,94,93,92,91,90,89,88,87,86,85,84,83,82,81,80,79,78,77,76,75,74,73,72,71,70,69,68,67,66,65,64,63,62,61,60,59,58,57,56,55,54,53,52,51,50,49,48,47,46,45,44,43,42,41,40,39,38,37,36,35,34,33,32,31,30,29,28,27,26,25,24,23,22,21,20,19,18,17,16,15,14,13,12,11,10,9,8,7,6,5,4,3,2,1,0],\"xaxis\":\"x\",\"y\":[95.70382188395921,102.80819150547205,109.42274236889742,113.82403332880907,107.9099319988414,114.54526608059604,118.99188274069733,117.51987262786187,105.01158271503968,114.04534121401491,104.29455020463284,84.92516504538949,91.63706522909744,88.2964692621458,90.17659962876974,90.90851636564413,106.44023037630595,109.2037525012448,92.81631678297597,88.14589608908912,100.56387811551505,86.46215661890695,87.89197217543477,100.21849660824873,88.97599830335221,90.59025093757461,113.12777654350032,91.5566020240982,87.1744360344439,113.4552615104612,90.08518518584968,91.43178340656257,89.55949423858739,104.49926812626197,87.02875203938237,88.85274173690283,88.2770841082378,91.7141027320738,91.15803487981384,91.24225328724394,108.83621974031783,85.41292798422383,97.74036844730058,103.45777272695423,80.05370603866642,87.91521425492688,88.24618501466884,94.46163693429457,84.7611587658579,83.48788703425572,87.27211024679997,85.53873547658483,85.17708366917653,90.19920401159177,91.48377034241197,104.91582609681474,87.84494581243683,100.15193186164402,84.98962750377946,80.84650370308108,86.47219509684572,92.14428149577984,94.45049199909397,84.98494214374193,91.88757109943717,90.83583356330722,85.2774480151582,87.68124424070103,92.85350077198908,88.87305515198744,91.41275205693833,94.10353652996163,86.40519556867811,88.12530686045966,86.2248779250582,82.44261853165462,84.05247624573518,84.45303609567237,85.72529009684125,89.20410077305438,111.90710390337516,95.29068436056536,87.5251105986622,84.73642433732181,92.47340190771759,94.85034242044506,91.33192245346315,91.05931833774264,86.3282503285487,85.41039150402298,86.90239084146397,84.50196061894296,91.2677204103491,87.93490593999279,89.20482153451968,87.90973154253084,94.9428176825654,85.72793008958581,86.85646879155587,83.66325195647549,80.11110297821689,81.22548695922742,82.80094271823484,81.18465392337127,82.49780019575041,79.83513598882627,80.66174068679759,83.2806687065739,76.04946754013501,79.1049904387993,78.15161067798385,75.25328803077542,86.51562202582343,79.63913416681679,79.81504950155201,81.03418616092661,70.85006327381305,79.83325652653107,78.19224216709372,68.99326272082122,76.8165918933173,75.83284731999835,74.90490521393862,78.49316660704802,69.32302045556868,76.83387906219562,78.54645957961398,81.5227371705797,77.97152924177705,71.50208307820367,76.91633398146593,78.88097817851141,75.49271994183476,80.99859778409717,76.36179636528165,75.44315870301239,71.30183265051872,84.32434422323675,74.06939877155415,75.76089816487303,72.42860972058429,80.63637019850121,74.21880298892157,78.0742628731202,75.01092122526778,73.3846361123101,74.90583097553997,83.25790864420848,77.04534076904099,83.52433544081194,76.70498231109138,75.94120170523179,74.13986405371202,77.30299294985957,71.03696358753122,79.25928621622656,73.92921384658297,81.85881622473717,78.30160041746889,72.9473398999308,76.63902204870372,80.65232888971741,77.58632931418069,75.11981352563265,75.27572693553165,80.30568978139806,81.5840637765599,78.93149640014552,77.90379074352288,69.72481046539544,63.69293979619978,82.75286616714506,75.26003072355195,70.49890192329656,81.26378889040797,75.0666248986538,76.41445353874428,69.05116610606953,73.35890356175712,77.05275227973846,76.83200616437972,75.90414967184785,71.11708086387767,90.86710817934795,75.43603424394449,79.9040621449119,86.01500204115824,80.12686095905359,77.64780566282175,72.00009303852106,82.21828774564085,67.76651713974752,83.12121426839872,76.9057021744638,82.27793668836554,82.74872761826471,79.31973132598625,81.72367397733467,98.17762115855993,91.17059701049065],\"yaxis\":\"y\",\"type\":\"scatter\"},{\"hovertemplate\":\"architecture_choice=4\\u003cbr\\u003eepoch=%{x}\\u003cbr\\u003etime_total_mean=%{y}\\u003cextra\\u003e\\u003c\\u002fextra\\u003e\",\"legendgroup\":\"4\",\"line\":{\"color\":\"#FFA15A\",\"dash\":\"solid\"},\"marker\":{\"symbol\":\"circle\"},\"mode\":\"lines\",\"name\":\"4\",\"orientation\":\"v\",\"showlegend\":true,\"x\":[0,1,2,3,4,5,6,7,8,9,10,11,12,13,14,15,16,17,18,19,20,21,22,23,24,25,26,27,28,29,30,31,32,33,34,35,36,37,38,39,40,41,42,43,44,45,46,47,48,49,50,51,52,53,54,55,56,57,58,59,60,61,62,63,64,65,66,67,68,69,70,71,72,73,74,75,76,77,78,79,80,81,82,83,84,85,86,87,88,89,90,91,92,93,94,95,96,97,98,99],\"xaxis\":\"x\",\"y\":[93.43720944722493,100.49290633201599,95.57320817311604,96.57188232739766,95.32932980855306,98.41160138448079,97.94879245758057,100.3205434481303,86.3890499273936,98.13181447982788,88.14732162157695,81.28648535410562,85.88196309407552,87.15573565165202,85.04033088684082,83.17227530479431,98.65366927782695,90.16041668256123,84.36023322741191,82.48895112673442,88.80831519762675,79.91053009033203,78.47156914075215,88.3164750734965,82.021311601003,85.92701991399129,91.81333923339844,83.40831637382507,84.96365110079448,88.57410065333049,79.90499782562256,84.66778707504272,84.24549531936646,93.04166595141093,83.66722091039021,82.06423433621724,81.69844881693523,84.65021602312724,85.90518188476562,83.94063766797383,90.89177982012431,81.85726420084636,89.79959233601888,88.6934932867686,79.65649612744649,79.47608892122905,82.7745889822642,84.3007504940033,80.35118023554485,80.09643467267355,85.39822284380595,81.29203812281291,84.2174961566925,82.55251749356587,82.43420322736104,89.96337366104126,82.95960434277852,87.18536742528279,82.81299885114034,76.63755671183269,81.11654663085938,83.10684013366699,89.38741811116536,78.14338739713033,83.66536490122478,83.59881496429443,83.13802289962769,81.5869820912679,85.86723947525024,82.89469456672668,81.457417567571,86.03753288586934,83.9639663696289,83.33588322003682,81.52937849362691,75.88281949361165,81.2728214263916,79.6789706548055,80.7790687084198,83.01034633318584,90.45018331209819,86.74146326382954,83.67918356259663,77.79324380556743,86.7537940343221,87.33269596099854,85.48552831013997,88.78747018178304,80.79076917966206,81.78100109100342,83.00369064013164,80.27571407953899,87.2741945584615,84.29832331339519,84.51997876167297,85.20376586914062,88.06373580296834,84.26443640391032,84.04097787539165,81.88717746734619],\"yaxis\":\"y\",\"type\":\"scatter\"}],                        {\"template\":{\"data\":{\"histogram2dcontour\":[{\"type\":\"histogram2dcontour\",\"colorbar\":{\"outlinewidth\":0,\"ticks\":\"\"},\"colorscale\":[[0.0,\"#0d0887\"],[0.1111111111111111,\"#46039f\"],[0.2222222222222222,\"#7201a8\"],[0.3333333333333333,\"#9c179e\"],[0.4444444444444444,\"#bd3786\"],[0.5555555555555556,\"#d8576b\"],[0.6666666666666666,\"#ed7953\"],[0.7777777777777778,\"#fb9f3a\"],[0.8888888888888888,\"#fdca26\"],[1.0,\"#f0f921\"]]}],\"choropleth\":[{\"type\":\"choropleth\",\"colorbar\":{\"outlinewidth\":0,\"ticks\":\"\"}}],\"histogram2d\":[{\"type\":\"histogram2d\",\"colorbar\":{\"outlinewidth\":0,\"ticks\":\"\"},\"colorscale\":[[0.0,\"#0d0887\"],[0.1111111111111111,\"#46039f\"],[0.2222222222222222,\"#7201a8\"],[0.3333333333333333,\"#9c179e\"],[0.4444444444444444,\"#bd3786\"],[0.5555555555555556,\"#d8576b\"],[0.6666666666666666,\"#ed7953\"],[0.7777777777777778,\"#fb9f3a\"],[0.8888888888888888,\"#fdca26\"],[1.0,\"#f0f921\"]]}],\"heatmap\":[{\"type\":\"heatmap\",\"colorbar\":{\"outlinewidth\":0,\"ticks\":\"\"},\"colorscale\":[[0.0,\"#0d0887\"],[0.1111111111111111,\"#46039f\"],[0.2222222222222222,\"#7201a8\"],[0.3333333333333333,\"#9c179e\"],[0.4444444444444444,\"#bd3786\"],[0.5555555555555556,\"#d8576b\"],[0.6666666666666666,\"#ed7953\"],[0.7777777777777778,\"#fb9f3a\"],[0.8888888888888888,\"#fdca26\"],[1.0,\"#f0f921\"]]}],\"heatmapgl\":[{\"type\":\"heatmapgl\",\"colorbar\":{\"outlinewidth\":0,\"ticks\":\"\"},\"colorscale\":[[0.0,\"#0d0887\"],[0.1111111111111111,\"#46039f\"],[0.2222222222222222,\"#7201a8\"],[0.3333333333333333,\"#9c179e\"],[0.4444444444444444,\"#bd3786\"],[0.5555555555555556,\"#d8576b\"],[0.6666666666666666,\"#ed7953\"],[0.7777777777777778,\"#fb9f3a\"],[0.8888888888888888,\"#fdca26\"],[1.0,\"#f0f921\"]]}],\"contourcarpet\":[{\"type\":\"contourcarpet\",\"colorbar\":{\"outlinewidth\":0,\"ticks\":\"\"}}],\"contour\":[{\"type\":\"contour\",\"colorbar\":{\"outlinewidth\":0,\"ticks\":\"\"},\"colorscale\":[[0.0,\"#0d0887\"],[0.1111111111111111,\"#46039f\"],[0.2222222222222222,\"#7201a8\"],[0.3333333333333333,\"#9c179e\"],[0.4444444444444444,\"#bd3786\"],[0.5555555555555556,\"#d8576b\"],[0.6666666666666666,\"#ed7953\"],[0.7777777777777778,\"#fb9f3a\"],[0.8888888888888888,\"#fdca26\"],[1.0,\"#f0f921\"]]}],\"surface\":[{\"type\":\"surface\",\"colorbar\":{\"outlinewidth\":0,\"ticks\":\"\"},\"colorscale\":[[0.0,\"#0d0887\"],[0.1111111111111111,\"#46039f\"],[0.2222222222222222,\"#7201a8\"],[0.3333333333333333,\"#9c179e\"],[0.4444444444444444,\"#bd3786\"],[0.5555555555555556,\"#d8576b\"],[0.6666666666666666,\"#ed7953\"],[0.7777777777777778,\"#fb9f3a\"],[0.8888888888888888,\"#fdca26\"],[1.0,\"#f0f921\"]]}],\"mesh3d\":[{\"type\":\"mesh3d\",\"colorbar\":{\"outlinewidth\":0,\"ticks\":\"\"}}],\"scatter\":[{\"fillpattern\":{\"fillmode\":\"overlay\",\"size\":10,\"solidity\":0.2},\"type\":\"scatter\"}],\"parcoords\":[{\"type\":\"parcoords\",\"line\":{\"colorbar\":{\"outlinewidth\":0,\"ticks\":\"\"}}}],\"scatterpolargl\":[{\"type\":\"scatterpolargl\",\"marker\":{\"colorbar\":{\"outlinewidth\":0,\"ticks\":\"\"}}}],\"bar\":[{\"error_x\":{\"color\":\"#2a3f5f\"},\"error_y\":{\"color\":\"#2a3f5f\"},\"marker\":{\"line\":{\"color\":\"#E5ECF6\",\"width\":0.5},\"pattern\":{\"fillmode\":\"overlay\",\"size\":10,\"solidity\":0.2}},\"type\":\"bar\"}],\"scattergeo\":[{\"type\":\"scattergeo\",\"marker\":{\"colorbar\":{\"outlinewidth\":0,\"ticks\":\"\"}}}],\"scatterpolar\":[{\"type\":\"scatterpolar\",\"marker\":{\"colorbar\":{\"outlinewidth\":0,\"ticks\":\"\"}}}],\"histogram\":[{\"marker\":{\"pattern\":{\"fillmode\":\"overlay\",\"size\":10,\"solidity\":0.2}},\"type\":\"histogram\"}],\"scattergl\":[{\"type\":\"scattergl\",\"marker\":{\"colorbar\":{\"outlinewidth\":0,\"ticks\":\"\"}}}],\"scatter3d\":[{\"type\":\"scatter3d\",\"line\":{\"colorbar\":{\"outlinewidth\":0,\"ticks\":\"\"}},\"marker\":{\"colorbar\":{\"outlinewidth\":0,\"ticks\":\"\"}}}],\"scattermapbox\":[{\"type\":\"scattermapbox\",\"marker\":{\"colorbar\":{\"outlinewidth\":0,\"ticks\":\"\"}}}],\"scatterternary\":[{\"type\":\"scatterternary\",\"marker\":{\"colorbar\":{\"outlinewidth\":0,\"ticks\":\"\"}}}],\"scattercarpet\":[{\"type\":\"scattercarpet\",\"marker\":{\"colorbar\":{\"outlinewidth\":0,\"ticks\":\"\"}}}],\"carpet\":[{\"aaxis\":{\"endlinecolor\":\"#2a3f5f\",\"gridcolor\":\"white\",\"linecolor\":\"white\",\"minorgridcolor\":\"white\",\"startlinecolor\":\"#2a3f5f\"},\"baxis\":{\"endlinecolor\":\"#2a3f5f\",\"gridcolor\":\"white\",\"linecolor\":\"white\",\"minorgridcolor\":\"white\",\"startlinecolor\":\"#2a3f5f\"},\"type\":\"carpet\"}],\"table\":[{\"cells\":{\"fill\":{\"color\":\"#EBF0F8\"},\"line\":{\"color\":\"white\"}},\"header\":{\"fill\":{\"color\":\"#C8D4E3\"},\"line\":{\"color\":\"white\"}},\"type\":\"table\"}],\"barpolar\":[{\"marker\":{\"line\":{\"color\":\"#E5ECF6\",\"width\":0.5},\"pattern\":{\"fillmode\":\"overlay\",\"size\":10,\"solidity\":0.2}},\"type\":\"barpolar\"}],\"pie\":[{\"automargin\":true,\"type\":\"pie\"}]},\"layout\":{\"autotypenumbers\":\"strict\",\"colorway\":[\"#636efa\",\"#EF553B\",\"#00cc96\",\"#ab63fa\",\"#FFA15A\",\"#19d3f3\",\"#FF6692\",\"#B6E880\",\"#FF97FF\",\"#FECB52\"],\"font\":{\"color\":\"#2a3f5f\"},\"hovermode\":\"closest\",\"hoverlabel\":{\"align\":\"left\"},\"paper_bgcolor\":\"white\",\"plot_bgcolor\":\"#E5ECF6\",\"polar\":{\"bgcolor\":\"#E5ECF6\",\"angularaxis\":{\"gridcolor\":\"white\",\"linecolor\":\"white\",\"ticks\":\"\"},\"radialaxis\":{\"gridcolor\":\"white\",\"linecolor\":\"white\",\"ticks\":\"\"}},\"ternary\":{\"bgcolor\":\"#E5ECF6\",\"aaxis\":{\"gridcolor\":\"white\",\"linecolor\":\"white\",\"ticks\":\"\"},\"baxis\":{\"gridcolor\":\"white\",\"linecolor\":\"white\",\"ticks\":\"\"},\"caxis\":{\"gridcolor\":\"white\",\"linecolor\":\"white\",\"ticks\":\"\"}},\"coloraxis\":{\"colorbar\":{\"outlinewidth\":0,\"ticks\":\"\"}},\"colorscale\":{\"sequential\":[[0.0,\"#0d0887\"],[0.1111111111111111,\"#46039f\"],[0.2222222222222222,\"#7201a8\"],[0.3333333333333333,\"#9c179e\"],[0.4444444444444444,\"#bd3786\"],[0.5555555555555556,\"#d8576b\"],[0.6666666666666666,\"#ed7953\"],[0.7777777777777778,\"#fb9f3a\"],[0.8888888888888888,\"#fdca26\"],[1.0,\"#f0f921\"]],\"sequentialminus\":[[0.0,\"#0d0887\"],[0.1111111111111111,\"#46039f\"],[0.2222222222222222,\"#7201a8\"],[0.3333333333333333,\"#9c179e\"],[0.4444444444444444,\"#bd3786\"],[0.5555555555555556,\"#d8576b\"],[0.6666666666666666,\"#ed7953\"],[0.7777777777777778,\"#fb9f3a\"],[0.8888888888888888,\"#fdca26\"],[1.0,\"#f0f921\"]],\"diverging\":[[0,\"#8e0152\"],[0.1,\"#c51b7d\"],[0.2,\"#de77ae\"],[0.3,\"#f1b6da\"],[0.4,\"#fde0ef\"],[0.5,\"#f7f7f7\"],[0.6,\"#e6f5d0\"],[0.7,\"#b8e186\"],[0.8,\"#7fbc41\"],[0.9,\"#4d9221\"],[1,\"#276419\"]]},\"xaxis\":{\"gridcolor\":\"white\",\"linecolor\":\"white\",\"ticks\":\"\",\"title\":{\"standoff\":15},\"zerolinecolor\":\"white\",\"automargin\":true,\"zerolinewidth\":2},\"yaxis\":{\"gridcolor\":\"white\",\"linecolor\":\"white\",\"ticks\":\"\",\"title\":{\"standoff\":15},\"zerolinecolor\":\"white\",\"automargin\":true,\"zerolinewidth\":2},\"scene\":{\"xaxis\":{\"backgroundcolor\":\"#E5ECF6\",\"gridcolor\":\"white\",\"linecolor\":\"white\",\"showbackground\":true,\"ticks\":\"\",\"zerolinecolor\":\"white\",\"gridwidth\":2},\"yaxis\":{\"backgroundcolor\":\"#E5ECF6\",\"gridcolor\":\"white\",\"linecolor\":\"white\",\"showbackground\":true,\"ticks\":\"\",\"zerolinecolor\":\"white\",\"gridwidth\":2},\"zaxis\":{\"backgroundcolor\":\"#E5ECF6\",\"gridcolor\":\"white\",\"linecolor\":\"white\",\"showbackground\":true,\"ticks\":\"\",\"zerolinecolor\":\"white\",\"gridwidth\":2}},\"shapedefaults\":{\"line\":{\"color\":\"#2a3f5f\"}},\"annotationdefaults\":{\"arrowcolor\":\"#2a3f5f\",\"arrowhead\":0,\"arrowwidth\":1},\"geo\":{\"bgcolor\":\"white\",\"landcolor\":\"#E5ECF6\",\"subunitcolor\":\"white\",\"showland\":true,\"showlakes\":true,\"lakecolor\":\"white\"},\"title\":{\"x\":0.05},\"mapbox\":{\"style\":\"light\"}}},\"xaxis\":{\"anchor\":\"y\",\"domain\":[0.0,1.0],\"title\":{\"text\":\"epoch\"}},\"yaxis\":{\"anchor\":\"x\",\"domain\":[0.0,1.0],\"title\":{\"text\":\"time_total\"}},\"legend\":{\"title\":{\"text\":\"architecture_choice\"},\"tracegroupgap\":0},\"margin\":{\"t\":60},\"font\":{\"size\":18},\"width\":800,\"height\":400,\"hovermode\":\"x\"},                        {\"responsive\": true}                    ).then(function(){\n",
       "                            \n",
       "var gd = document.getElementById('0f5c19a3-dc04-4fb1-a645-168e1c9c6d68');\n",
       "var x = new MutationObserver(function (mutations, observer) {{\n",
       "        var display = window.getComputedStyle(gd).display;\n",
       "        if (!display || display === 'none') {{\n",
       "            console.log([gd, 'removed!']);\n",
       "            Plotly.purge(gd);\n",
       "            observer.disconnect();\n",
       "        }}\n",
       "}});\n",
       "\n",
       "// Listen for the removal of the full notebook cells\n",
       "var notebookContainer = gd.closest('#notebook-container');\n",
       "if (notebookContainer) {{\n",
       "    x.observe(notebookContainer, {childList: true});\n",
       "}}\n",
       "\n",
       "// Listen for the clearing of the current output cell\n",
       "var outputEl = gd.closest('.output');\n",
       "if (outputEl) {{\n",
       "    x.observe(outputEl, {childList: true});\n",
       "}}\n",
       "\n",
       "                        })                };                });            </script>        </div>"
      ]
     },
     "metadata": {},
     "output_type": "display_data"
    }
   ],
   "source": [
    "fig = nice_plot(df, \n",
    "        x_axis='epoch', \n",
    "        y_axis='time_total',\n",
    "        plot_type='line',\n",
    "        group_by='architecture_choice',\n",
    "        )\n",
    "fig.show()"
   ]
  },
  {
   "cell_type": "code",
   "execution_count": 8,
   "metadata": {},
   "outputs": [
    {
     "data": {
      "application/vnd.plotly.v1+json": {
       "config": {
        "plotlyServerURL": "https://plot.ly"
       },
       "data": [
        {
         "fill": "toself",
         "fillcolor": "rgba(99,110,250,.3)",
         "hoverinfo": "skip",
         "legendgroup": "Test",
         "line": {
          "color": "rgba(255,255,255,0)"
         },
         "showlegend": false,
         "type": "scatter",
         "x": [
          0,
          1,
          2,
          3,
          4,
          5,
          6,
          7,
          8,
          9,
          10,
          11,
          12,
          13,
          14,
          15,
          16,
          17,
          18,
          19,
          20,
          21,
          22,
          23,
          24,
          25,
          26,
          27,
          28,
          29,
          30,
          31,
          32,
          33,
          34,
          35,
          36,
          37,
          38,
          39,
          40,
          41,
          42,
          43,
          44,
          45,
          46,
          47,
          48,
          49,
          50,
          51,
          52,
          53,
          54,
          55,
          56,
          57,
          58,
          59,
          60,
          61,
          62,
          63,
          64,
          65,
          66,
          67,
          68,
          69,
          70,
          71,
          72,
          73,
          74,
          75,
          76,
          77,
          78,
          79,
          80,
          81,
          82,
          83,
          84,
          85,
          86,
          87,
          88,
          89,
          90,
          91,
          92,
          93,
          94,
          95,
          96,
          97,
          98,
          99,
          99,
          98,
          97,
          96,
          95,
          94,
          93,
          92,
          91,
          90,
          89,
          88,
          87,
          86,
          85,
          84,
          83,
          82,
          81,
          80,
          79,
          78,
          77,
          76,
          75,
          74,
          73,
          72,
          71,
          70,
          69,
          68,
          67,
          66,
          65,
          64,
          63,
          62,
          61,
          60,
          59,
          58,
          57,
          56,
          55,
          54,
          53,
          52,
          51,
          50,
          49,
          48,
          47,
          46,
          45,
          44,
          43,
          42,
          41,
          40,
          39,
          38,
          37,
          36,
          35,
          34,
          33,
          32,
          31,
          30,
          29,
          28,
          27,
          26,
          25,
          24,
          23,
          22,
          21,
          20,
          19,
          18,
          17,
          16,
          15,
          14,
          13,
          12,
          11,
          10,
          9,
          8,
          7,
          6,
          5,
          4,
          3,
          2,
          1,
          0
         ],
         "xaxis": "x",
         "y": [
          0.5155747930423578,
          0.5962541335654163,
          0.5521769028601913,
          0.5854279115136347,
          0.5995422481702551,
          0.6131360822931743,
          0.6131360822931743,
          0.6131360822931743,
          0.6131360822931743,
          0.6131360822931743,
          0.611493609018849,
          0.6321227226366307,
          0.6323173138415685,
          0.6323173138415685,
          0.632758696513194,
          0.6347021115497659,
          0.6347021115497659,
          0.6351011011337105,
          0.6351011011337105,
          0.6344544589652289,
          0.6344544589652289,
          0.6344544589652289,
          0.6625032861875704,
          0.6662282179792536,
          0.6662282179792536,
          0.6657947984553104,
          0.6476531765464058,
          0.6476531765464058,
          0.6476531765464058,
          0.6476531765464058,
          0.6476531765464058,
          0.6476531765464058,
          0.6600863418603397,
          0.6600863418603397,
          0.6600863418603397,
          0.6600863418603397,
          0.6600863418603397,
          0.653967420189228,
          0.6540582762241864,
          0.6540582762241864,
          0.6495483566654754,
          0.6495483566654754,
          0.6495483566654754,
          0.6495483566654754,
          0.6495483566654754,
          0.6594803505526925,
          0.6594803505526925,
          0.6594803505526925,
          0.6594803505526925,
          0.6594803505526925,
          0.6594803505526925,
          0.6594803505526925,
          0.6594803505526925,
          0.6594803505526925,
          0.6578545319110984,
          0.6578545319110984,
          0.6578545319110984,
          0.6578545319110984,
          0.6578545319110984,
          0.6578545319110984,
          0.6578545319110984,
          0.6578545319110984,
          0.6578545319110984,
          0.6578545319110984,
          0.6578545319110984,
          0.6578545319110984,
          0.6578545319110984,
          0.6578545319110984,
          0.6578545319110984,
          0.6578545319110984,
          0.6578545319110984,
          0.6578545319110984,
          0.6578545319110984,
          0.6578545319110984,
          0.6578545319110984,
          0.6578545319110984,
          0.6578545319110984,
          0.6578545319110984,
          0.6578545319110984,
          0.6578545319110984,
          0.6578545319110984,
          0.6578545319110984,
          0.6578545319110984,
          0.6578545319110984,
          0.6578545319110984,
          0.6578545319110984,
          0.6578545319110984,
          0.6578545319110984,
          0.6578545319110984,
          0.6578545319110984,
          0.6578545319110984,
          0.6578545319110984,
          0.6578545319110984,
          0.6578545319110984,
          0.6578545319110984,
          0.6578545319110984,
          0.6578545319110984,
          0.6578545319110984,
          0.6578545319110984,
          0.6578545319110984,
          0.6496921218975933,
          0.6496921218975933,
          0.6496921218975933,
          0.6496921218975933,
          0.6496921218975933,
          0.6496921218975933,
          0.6496921218975933,
          0.6496921218975933,
          0.6496921218975933,
          0.6496921218975933,
          0.6496921218975933,
          0.6496921218975933,
          0.6496921218975933,
          0.6496921218975933,
          0.6496921218975933,
          0.6496921218975933,
          0.6496921218975933,
          0.6496921218975933,
          0.6496921218975933,
          0.6496921218975933,
          0.6496921218975933,
          0.6496921218975933,
          0.6496921218975933,
          0.6496921218975933,
          0.6496921218975933,
          0.6496921218975933,
          0.6496921218975933,
          0.6496921218975933,
          0.6496921218975933,
          0.6496921218975933,
          0.6496921218975933,
          0.6496921218975933,
          0.6496921218975933,
          0.6496921218975933,
          0.6496921218975933,
          0.6496921218975933,
          0.6496921218975933,
          0.6496921218975933,
          0.6496921218975933,
          0.6496921218975933,
          0.6496921218975933,
          0.6496921218975933,
          0.6496921218975933,
          0.6496921218975933,
          0.6496921218975933,
          0.6496921218975933,
          0.6314579091467134,
          0.6314579091467134,
          0.6314579091467134,
          0.6314579091467134,
          0.6314579091467134,
          0.6314579091467134,
          0.6314579091467134,
          0.6314579091467134,
          0.6314579091467134,
          0.6302205229315283,
          0.6302205229315283,
          0.6302205229315283,
          0.6302205229315283,
          0.6302205229315283,
          0.6316837942061779,
          0.6316837942061779,
          0.6316775252366369,
          0.6313861145337581,
          0.6313861145337581,
          0.6313861145337581,
          0.6313861145337581,
          0.6313861145337581,
          0.6263367561129392,
          0.6263367561129392,
          0.6263367561129392,
          0.6263367561129392,
          0.6263367561129392,
          0.6263367561129392,
          0.6304853471898312,
          0.6284979245372495,
          0.6284979245372495,
          0.6226074717135481,
          0.6224900216495556,
          0.6224900216495556,
          0.6224900216495556,
          0.6191238793550912,
          0.6191238793550912,
          0.6035943544462182,
          0.6035943544462182,
          0.6001473225631287,
          0.588108126873341,
          0.588108126873341,
          0.5902937867838131,
          0.5952371945992152,
          0.5881557149596276,
          0.5881557149596276,
          0.5881557149596276,
          0.5881557149596276,
          0.5881557149596276,
          0.5319166127711671,
          0.5250033653212933,
          0.49065529442695266,
          0.48882748500036316,
          0.2479741786129194
         ],
         "yaxis": "y"
        },
        {
         "hovertemplate": "Legend=Test<br>epoch=%{x}<br>value_mean=%{y}<extra></extra>",
         "legendgroup": "Test",
         "line": {
          "color": "#636efa",
          "dash": "solid"
         },
         "marker": {
          "symbol": "circle"
         },
         "mode": "lines",
         "name": "Test",
         "orientation": "v",
         "showlegend": true,
         "type": "scatter",
         "x": [
          0,
          1,
          2,
          3,
          4,
          5,
          6,
          7,
          8,
          9,
          10,
          11,
          12,
          13,
          14,
          15,
          16,
          17,
          18,
          19,
          20,
          21,
          22,
          23,
          24,
          25,
          26,
          27,
          28,
          29,
          30,
          31,
          32,
          33,
          34,
          35,
          36,
          37,
          38,
          39,
          40,
          41,
          42,
          43,
          44,
          45,
          46,
          47,
          48,
          49,
          50,
          51,
          52,
          53,
          54,
          55,
          56,
          57,
          58,
          59,
          60,
          61,
          62,
          63,
          64,
          65,
          66,
          67,
          68,
          69,
          70,
          71,
          72,
          73,
          74,
          75,
          76,
          77,
          78,
          79,
          80,
          81,
          82,
          83,
          84,
          85,
          86,
          87,
          88,
          89,
          90,
          91,
          92,
          93,
          94,
          95,
          96,
          97,
          98,
          99
         ],
         "xaxis": "x",
         "y": [
          0.38177448582763857,
          0.5425408092828897,
          0.521416098643572,
          0.555215638417464,
          0.5657294304707111,
          0.6006458986264009,
          0.6006458986264009,
          0.6006458986264009,
          0.6006458986264009,
          0.6006458986264009,
          0.6033654018090321,
          0.6112082547102219,
          0.6102127203574548,
          0.6102127203574548,
          0.6164530095381614,
          0.619148232997992,
          0.619148232997992,
          0.6271124902444009,
          0.6271124902444009,
          0.6284722403073922,
          0.6284722403073922,
          0.6284722403073922,
          0.6425553789505593,
          0.6473630712582515,
          0.6473630712582515,
          0.6481400728225708,
          0.6369949663296725,
          0.6369949663296725,
          0.6369949663296725,
          0.6369949663296725,
          0.6369949663296725,
          0.6369949663296725,
          0.6457362281970489,
          0.6457362281970489,
          0.6457362281970489,
          0.6457362281970489,
          0.6457362281970489,
          0.6428224727129325,
          0.6428710352151822,
          0.6428710352151822,
          0.6398844397985018,
          0.6398844397985018,
          0.6398844397985018,
          0.6398844397985018,
          0.6398844397985018,
          0.645469129849703,
          0.645469129849703,
          0.645469129849703,
          0.645469129849703,
          0.645469129849703,
          0.645469129849703,
          0.645469129849703,
          0.645469129849703,
          0.645469129849703,
          0.6537733269043459,
          0.6537733269043459,
          0.6537733269043459,
          0.6537733269043459,
          0.6537733269043459,
          0.6537733269043459,
          0.6537733269043459,
          0.6537733269043459,
          0.6537733269043459,
          0.6537733269043459,
          0.6537733269043459,
          0.6537733269043459,
          0.6537733269043459,
          0.6537733269043459,
          0.6537733269043459,
          0.6537733269043459,
          0.6537733269043459,
          0.6537733269043459,
          0.6537733269043459,
          0.6537733269043459,
          0.6537733269043459,
          0.6537733269043459,
          0.6537733269043459,
          0.6537733269043459,
          0.6537733269043459,
          0.6537733269043459,
          0.6537733269043459,
          0.6537733269043459,
          0.6537733269043459,
          0.6537733269043459,
          0.6537733269043459,
          0.6537733269043459,
          0.6537733269043459,
          0.6537733269043459,
          0.6537733269043459,
          0.6537733269043459,
          0.6537733269043459,
          0.6537733269043459,
          0.6537733269043459,
          0.6537733269043459,
          0.6537733269043459,
          0.6537733269043459,
          0.6537733269043459,
          0.6537733269043459,
          0.6537733269043459,
          0.6537733269043459
         ],
         "yaxis": "y"
        },
        {
         "fill": "toself",
         "fillcolor": "rgba(239,85,59,.3)",
         "hoverinfo": "skip",
         "legendgroup": "Train",
         "line": {
          "color": "rgba(255,255,255,0)"
         },
         "showlegend": false,
         "type": "scatter",
         "x": [
          0,
          1,
          2,
          3,
          4,
          5,
          6,
          7,
          8,
          9,
          10,
          11,
          12,
          13,
          14,
          15,
          16,
          17,
          18,
          19,
          20,
          21,
          22,
          23,
          24,
          25,
          26,
          27,
          28,
          29,
          30,
          31,
          32,
          33,
          34,
          35,
          36,
          37,
          38,
          39,
          40,
          41,
          42,
          43,
          44,
          45,
          46,
          47,
          48,
          49,
          50,
          51,
          52,
          53,
          54,
          55,
          56,
          57,
          58,
          59,
          60,
          61,
          62,
          63,
          64,
          65,
          66,
          67,
          68,
          69,
          70,
          71,
          72,
          73,
          74,
          75,
          76,
          77,
          78,
          79,
          80,
          81,
          82,
          83,
          84,
          85,
          86,
          87,
          88,
          89,
          90,
          91,
          92,
          93,
          94,
          95,
          96,
          97,
          98,
          99,
          99,
          98,
          97,
          96,
          95,
          94,
          93,
          92,
          91,
          90,
          89,
          88,
          87,
          86,
          85,
          84,
          83,
          82,
          81,
          80,
          79,
          78,
          77,
          76,
          75,
          74,
          73,
          72,
          71,
          70,
          69,
          68,
          67,
          66,
          65,
          64,
          63,
          62,
          61,
          60,
          59,
          58,
          57,
          56,
          55,
          54,
          53,
          52,
          51,
          50,
          49,
          48,
          47,
          46,
          45,
          44,
          43,
          42,
          41,
          40,
          39,
          38,
          37,
          36,
          35,
          34,
          33,
          32,
          31,
          30,
          29,
          28,
          27,
          26,
          25,
          24,
          23,
          22,
          21,
          20,
          19,
          18,
          17,
          16,
          15,
          14,
          13,
          12,
          11,
          10,
          9,
          8,
          7,
          6,
          5,
          4,
          3,
          2,
          1,
          0
         ],
         "xaxis": "x",
         "y": [
          0.3885963942325095,
          0.579945558739927,
          0.6353820954036893,
          0.6558654060225808,
          0.6612218607620003,
          0.6899858343794326,
          0.6949883885255779,
          0.6839679942740496,
          0.7112124190894663,
          0.7150535263305079,
          0.7206348474286337,
          0.7183347778376323,
          0.7149293537530984,
          0.7214882933470891,
          0.7155770910039901,
          0.7141932793037842,
          0.725858949378406,
          0.7386775127014434,
          0.7296114851841713,
          0.742609214117793,
          0.7486423085230158,
          0.7445140651702502,
          0.7542385815012052,
          0.7548985249837272,
          0.759422338024766,
          0.7630332828605544,
          0.7544905916246819,
          0.7600787854016053,
          0.7654735259875163,
          0.7717034436057559,
          0.7775330012729742,
          0.7983236518523118,
          0.7744931100088294,
          0.7818952815717253,
          0.7831511576480635,
          0.7977897351901337,
          0.7891845662535119,
          0.7953068015452098,
          0.7977336335277148,
          0.8015770197295039,
          0.8010159769712824,
          0.8049562321220626,
          0.8102820503578192,
          0.8108659447495697,
          0.7987082966039295,
          0.7969401164259448,
          0.8085348938520605,
          0.796913558202272,
          0.817922508627094,
          0.8177627220890001,
          0.8150130381299,
          0.8181422444027966,
          0.8338911574130156,
          0.8288295693070005,
          0.822761555494395,
          0.8285549160908908,
          0.8360747099826629,
          0.8455273422533724,
          0.8436689553501308,
          0.8443227477744107,
          0.8350979001079699,
          0.8682666482870793,
          0.8453711306417793,
          0.8459512812105656,
          0.8447440873669358,
          0.8545053538851604,
          0.855107117855329,
          0.8503943057436112,
          0.8566872186770185,
          0.8594974349370512,
          0.8575443660099661,
          0.8666978255738349,
          0.8646893751314755,
          0.8626219923258068,
          0.849624720627504,
          0.8672955626081962,
          0.8669508135433391,
          0.8642288278453283,
          0.8662731393570942,
          0.8697749232555005,
          0.8677078191686804,
          0.865886604445582,
          0.8896973237370943,
          0.8876096826311337,
          0.8958366178409437,
          0.885264611339497,
          0.8823010796778351,
          0.9012463550484355,
          0.877242610014572,
          0.8998144125953134,
          0.882111935450251,
          0.8795061900868342,
          0.8882536371927523,
          0.8820142166268485,
          0.8886766987167822,
          0.8911543240625468,
          0.9122092211686713,
          0.9043879856459944,
          0.8920398605696519,
          0.900802394738032,
          0.8899801455344117,
          0.8803960735460269,
          0.8723582904514253,
          0.8795680105857296,
          0.870892578545102,
          0.870551897603737,
          0.8696804962565381,
          0.8537704238146251,
          0.8631257343712049,
          0.8659355600493844,
          0.8562090585767259,
          0.8553134335124932,
          0.8587190463809611,
          0.866077970479174,
          0.8668169112352947,
          0.8466663710721766,
          0.84914617446972,
          0.8616473967854684,
          0.8539778648625376,
          0.8652350340497892,
          0.8640889592739296,
          0.8578095628883737,
          0.8632616339443162,
          0.8396510415390507,
          0.8409088626900543,
          0.8385937170808373,
          0.8558977839695862,
          0.8357048609930031,
          0.8352989624266143,
          0.8338976131537662,
          0.8418546508856166,
          0.8340547910483074,
          0.8277298072170087,
          0.8251169034205091,
          0.8409522482734106,
          0.8269882038302296,
          0.8302202905699081,
          0.8078119352861661,
          0.8072417897254596,
          0.8049883533761202,
          0.8069998585079455,
          0.8122771526609683,
          0.8213604087390356,
          0.8195029832474034,
          0.8016949020752061,
          0.8185772636181379,
          0.8030965056991421,
          0.7989743387578111,
          0.7970029437087287,
          0.8040004150113372,
          0.8021533196030978,
          0.788970407245333,
          0.7874329409962503,
          0.7943423929122313,
          0.7868169172889364,
          0.7815857225327437,
          0.7777540454769801,
          0.803518453910925,
          0.7965947962763046,
          0.796151031991104,
          0.7796748674452493,
          0.7676768123702924,
          0.7781532883094953,
          0.7795967882349589,
          0.7740493834250413,
          0.7787225901041993,
          0.7703999233489214,
          0.763507959646956,
          0.753750508479023,
          0.7562682548090227,
          0.756424355061565,
          0.7499811331076611,
          0.7448947270278521,
          0.7319152792286442,
          0.7423454769637581,
          0.7574690925610463,
          0.7390965057373013,
          0.727985885971947,
          0.7319264378768124,
          0.7168565576560348,
          0.7273289265312689,
          0.715293502444472,
          0.7070748115006783,
          0.7083991173124793,
          0.7070784972379016,
          0.6984186793036976,
          0.6895418004817481,
          0.6984585500472792,
          0.7074315373780409,
          0.6971923430683489,
          0.6972844156706394,
          0.681526345013176,
          0.6715618153353881,
          0.6805642474008888,
          0.6589126558905462,
          0.6460652392718821,
          0.6182467711782256,
          0.6033263242738496,
          0.5384047560484023,
          0.33467579946832987
         ],
         "yaxis": "y"
        },
        {
         "hovertemplate": "Legend=Train<br>epoch=%{x}<br>value_mean=%{y}<extra></extra>",
         "legendgroup": "Train",
         "line": {
          "color": "#EF553B",
          "dash": "solid"
         },
         "marker": {
          "symbol": "circle"
         },
         "mode": "lines",
         "name": "Train",
         "orientation": "v",
         "showlegend": true,
         "type": "scatter",
         "x": [
          0,
          1,
          2,
          3,
          4,
          5,
          6,
          7,
          8,
          9,
          10,
          11,
          12,
          13,
          14,
          15,
          16,
          17,
          18,
          19,
          20,
          21,
          22,
          23,
          24,
          25,
          26,
          27,
          28,
          29,
          30,
          31,
          32,
          33,
          34,
          35,
          36,
          37,
          38,
          39,
          40,
          41,
          42,
          43,
          44,
          45,
          46,
          47,
          48,
          49,
          50,
          51,
          52,
          53,
          54,
          55,
          56,
          57,
          58,
          59,
          60,
          61,
          62,
          63,
          64,
          65,
          66,
          67,
          68,
          69,
          70,
          71,
          72,
          73,
          74,
          75,
          76,
          77,
          78,
          79,
          80,
          81,
          82,
          83,
          84,
          85,
          86,
          87,
          88,
          89,
          90,
          91,
          92,
          93,
          94,
          95,
          96,
          97,
          98,
          99
         ],
         "xaxis": "x",
         "y": [
          0.3616360968504197,
          0.5591751573941647,
          0.6193542098387694,
          0.6370560886004032,
          0.6536435500169412,
          0.6744492451349894,
          0.6877763179632334,
          0.6777649048047188,
          0.6963693820513212,
          0.7061689710005736,
          0.7089135952484913,
          0.7128831576078366,
          0.7066939519001888,
          0.7055150469144186,
          0.7069978851538439,
          0.7106358882708429,
          0.7171290333454426,
          0.7228761621010609,
          0.7224524938143216,
          0.734969070324531,
          0.7327494330895253,
          0.7382202515235313,
          0.7411122337365761,
          0.7469975153605143,
          0.7584457152929062,
          0.7526893799121562,
          0.743202935426663,
          0.7524867562147287,
          0.7577273295475887,
          0.7640638993336605,
          0.7669006280409985,
          0.7760370801656674,
          0.7690005348278927,
          0.7761476024603233,
          0.7809368738761314,
          0.7859195593075875,
          0.7843906772442354,
          0.7867300449273525,
          0.7827052229490036,
          0.7906259435873766,
          0.7985835044811932,
          0.8007755141991836,
          0.8069002521343721,
          0.7943099951132749,
          0.7901470095683366,
          0.7918785168574406,
          0.8014386433821459,
          0.7921732495992612,
          0.8034464579362135,
          0.809958020846049,
          0.8095067265706186,
          0.8075725940557626,
          0.8164327480854133,
          0.8159630375030713,
          0.8206694095562664,
          0.8151249090830485,
          0.8277888466150332,
          0.833443875496204,
          0.8279730540055495,
          0.8256613031411781,
          0.820043126742045,
          0.8377542190062695,
          0.8265915329639727,
          0.8380857858902369,
          0.8358661455985827,
          0.8477288010792855,
          0.8401120106379191,
          0.83906205648031,
          0.8453710048626629,
          0.8506760429113339,
          0.8457209895818661,
          0.8509983940002246,
          0.8501971180622393,
          0.8592598881476965,
          0.8441092188541707,
          0.8541022126491252,
          0.8533009275411949,
          0.8637452308948222,
          0.862041351122734,
          0.8669319412647151,
          0.8664714266092348,
          0.8599322346540598,
          0.8756723602612814,
          0.8683779285504268,
          0.8712514944565601,
          0.8760407612873958,
          0.8741895250785046,
          0.8799827007146983,
          0.8662780217635326,
          0.8780117355860196,
          0.8740237477498177,
          0.8713159622290195,
          0.8710120305036887,
          0.8758473564416933,
          0.8796142981602596,
          0.8810234513038244,
          0.8958886158772005,
          0.8883731380487099,
          0.8862179670578394,
          0.8953912701362219
         ],
         "yaxis": "y"
        },
        {
         "fill": "toself",
         "fillcolor": "rgba(0,204,150,.3)",
         "hoverinfo": "skip",
         "legendgroup": "Val",
         "line": {
          "color": "rgba(255,255,255,0)"
         },
         "showlegend": false,
         "type": "scatter",
         "x": [
          0,
          1,
          2,
          3,
          4,
          5,
          6,
          7,
          8,
          9,
          10,
          11,
          12,
          13,
          14,
          15,
          16,
          17,
          18,
          19,
          20,
          21,
          22,
          23,
          24,
          25,
          26,
          27,
          28,
          29,
          30,
          31,
          32,
          33,
          34,
          35,
          36,
          37,
          38,
          39,
          40,
          41,
          42,
          43,
          44,
          45,
          46,
          47,
          48,
          49,
          50,
          51,
          52,
          53,
          54,
          55,
          56,
          57,
          58,
          59,
          60,
          61,
          62,
          63,
          64,
          65,
          66,
          67,
          68,
          69,
          70,
          71,
          72,
          73,
          74,
          75,
          76,
          77,
          78,
          79,
          80,
          81,
          82,
          83,
          84,
          85,
          86,
          87,
          88,
          89,
          90,
          91,
          92,
          93,
          94,
          95,
          96,
          97,
          98,
          99,
          99,
          98,
          97,
          96,
          95,
          94,
          93,
          92,
          91,
          90,
          89,
          88,
          87,
          86,
          85,
          84,
          83,
          82,
          81,
          80,
          79,
          78,
          77,
          76,
          75,
          74,
          73,
          72,
          71,
          70,
          69,
          68,
          67,
          66,
          65,
          64,
          63,
          62,
          61,
          60,
          59,
          58,
          57,
          56,
          55,
          54,
          53,
          52,
          51,
          50,
          49,
          48,
          47,
          46,
          45,
          44,
          43,
          42,
          41,
          40,
          39,
          38,
          37,
          36,
          35,
          34,
          33,
          32,
          31,
          30,
          29,
          28,
          27,
          26,
          25,
          24,
          23,
          22,
          21,
          20,
          19,
          18,
          17,
          16,
          15,
          14,
          13,
          12,
          11,
          10,
          9,
          8,
          7,
          6,
          5,
          4,
          3,
          2,
          1,
          0
         ],
         "xaxis": "x",
         "y": [
          0.45139799219903043,
          0.5274279062834909,
          0.4790960606669982,
          0.5088879253501576,
          0.4955382998440665,
          0.5348207347250717,
          0.5152997716439175,
          0.524688484676654,
          0.5622102938428203,
          0.543076335122494,
          0.5407156159397913,
          0.549413346673679,
          0.5518637821519093,
          0.5129323270209666,
          0.5318722665960973,
          0.5582985740589053,
          0.5406740833583042,
          0.5371724429644278,
          0.5511369927087512,
          0.5408002147227619,
          0.5546280228040461,
          0.5479244117382692,
          0.5531987348191483,
          0.5554033660321123,
          0.5484421596780212,
          0.5600641445552903,
          0.5688690911113137,
          0.5392656636470259,
          0.5625606056642007,
          0.5309481807173798,
          0.5564439574788916,
          0.5481975778612835,
          0.5728277453902947,
          0.5688487828394568,
          0.5553298239402414,
          0.591673988228315,
          0.5393505303995777,
          0.5627288297772647,
          0.5988898498249436,
          0.5407197167039361,
          0.5775529206579931,
          0.5501569939819119,
          0.5468150424263656,
          0.5509196653910523,
          0.5534367106268504,
          0.5630537837756855,
          0.5777612739891027,
          0.5723772003822961,
          0.5609977982822001,
          0.5579158326570528,
          0.5637598127167578,
          0.5761361618673502,
          0.5732616080074794,
          0.5698625228722345,
          0.5805694994257159,
          0.5503648554988513,
          0.5666605594650123,
          0.5686559543784474,
          0.5498418009712249,
          0.5727788325662925,
          0.5817650919788488,
          0.5671102393933868,
          0.5760185568738608,
          0.5508646481339498,
          0.5653256332064642,
          0.5698619027841564,
          0.5514344358462014,
          0.5590749303780136,
          0.5666231207324395,
          0.5798173396953599,
          0.5510487481240763,
          0.5491827102700801,
          0.5870441905610516,
          0.5771798065960564,
          0.5578429983461062,
          0.5754293252060031,
          0.571776898430336,
          0.5766561358634572,
          0.575413969490036,
          0.5445708544817653,
          0.575599635403386,
          0.5664065958739645,
          0.566168241298765,
          0.5694237546106978,
          0.5551992367047032,
          0.5691866750361214,
          0.5552609660368504,
          0.575328057722221,
          0.5561607165058194,
          0.5725913961856444,
          0.5619991572078185,
          0.5592722143551087,
          0.5620268145734093,
          0.5796456412641525,
          0.5490468339443009,
          0.5741223565752221,
          0.5553213130597682,
          0.581316261815974,
          0.5583165814157528,
          0.5791239959605465,
          0.528650204933037,
          0.5181625271449001,
          0.5221289303621164,
          0.5349564808018027,
          0.5324794124406805,
          0.5341061556021571,
          0.5184784910057522,
          0.5145424729764725,
          0.5302840936646201,
          0.5350427250119503,
          0.5447426915040732,
          0.4766675804280359,
          0.5374966490819638,
          0.5262686512727199,
          0.5235261927915211,
          0.5252481277164147,
          0.5431303868426366,
          0.4947084063325624,
          0.5255847747585703,
          0.5222539230007189,
          0.5319082484022548,
          0.5374107344758323,
          0.5449167701992594,
          0.528962665784098,
          0.5409126970994401,
          0.5117818542203858,
          0.48054028122735726,
          0.5184753284047149,
          0.5153014460433167,
          0.5327355539516275,
          0.5376069354985358,
          0.5342968128137178,
          0.5560946543731153,
          0.5194530389404662,
          0.5426922386691778,
          0.5121455379001467,
          0.5387818502282736,
          0.537888394303827,
          0.5327274639708494,
          0.5010271447125807,
          0.5370696752467526,
          0.5221279267038952,
          0.5471449457402441,
          0.5476973349101983,
          0.5202520567752823,
          0.5657148168415701,
          0.516086282142058,
          0.5542636733309853,
          0.48347786354380173,
          0.5200244893589461,
          0.5144146478730955,
          0.4934755308758562,
          0.5277310654944739,
          0.5347928674642317,
          0.5586994887804377,
          0.5235835257971871,
          0.5253790653229281,
          0.5383220750503248,
          0.5132449122813488,
          0.5369853430489407,
          0.5336850792606227,
          0.5118605415448306,
          0.5342228564233767,
          0.515393369785962,
          0.5084342606185567,
          0.5041038207859213,
          0.5267500964751475,
          0.5450474644861746,
          0.5305362211421358,
          0.5178706481431729,
          0.4975511330458301,
          0.537367262497682,
          0.5265712995524081,
          0.5182521429423435,
          0.5347230472217119,
          0.5051292915999387,
          0.5073672277019023,
          0.47349682886050154,
          0.525488330195281,
          0.5213099607315388,
          0.5198058618810822,
          0.5045087853568849,
          0.5016984337792523,
          0.5137992401231194,
          0.48535224892115814,
          0.49617609545464036,
          0.454509972617509,
          0.46716582664271156,
          0.49207297620611223,
          0.4969828289262073,
          0.48488184510069854,
          0.46673995744127944,
          0.49136493648009294,
          0.4688272446506528,
          0.5255147878811877,
          0.4103058748361893,
          0.47451757955772306,
          0.3112178118860553,
          0.4349638902827002,
          0.2610839890330223
         ],
         "yaxis": "y"
        },
        {
         "hovertemplate": "Legend=Val<br>epoch=%{x}<br>value_mean=%{y}<extra></extra>",
         "legendgroup": "Val",
         "line": {
          "color": "#00cc96",
          "dash": "solid"
         },
         "marker": {
          "symbol": "circle"
         },
         "mode": "lines",
         "name": "Val",
         "orientation": "v",
         "showlegend": true,
         "type": "scatter",
         "x": [
          0,
          1,
          2,
          3,
          4,
          5,
          6,
          7,
          8,
          9,
          10,
          11,
          12,
          13,
          14,
          15,
          16,
          17,
          18,
          19,
          20,
          21,
          22,
          23,
          24,
          25,
          26,
          27,
          28,
          29,
          30,
          31,
          32,
          33,
          34,
          35,
          36,
          37,
          38,
          39,
          40,
          41,
          42,
          43,
          44,
          45,
          46,
          47,
          48,
          49,
          50,
          51,
          52,
          53,
          54,
          55,
          56,
          57,
          58,
          59,
          60,
          61,
          62,
          63,
          64,
          65,
          66,
          67,
          68,
          69,
          70,
          71,
          72,
          73,
          74,
          75,
          76,
          77,
          78,
          79,
          80,
          81,
          82,
          83,
          84,
          85,
          86,
          87,
          88,
          89,
          90,
          91,
          92,
          93,
          94,
          95,
          96,
          97,
          98,
          99
         ],
         "xaxis": "x",
         "y": [
          0.3562409906160264,
          0.48119589828309556,
          0.39515693627652676,
          0.4917027524539403,
          0.4529220873401279,
          0.5301677613031297,
          0.4920635081472851,
          0.5080267105783735,
          0.5144751256420499,
          0.5139790901115963,
          0.5188492224329994,
          0.5207431614398956,
          0.5095148043973105,
          0.4837211498192378,
          0.5140241810253688,
          0.5218254114900317,
          0.5272366617407118,
          0.51943543837184,
          0.527822889032818,
          0.530303038301922,
          0.5379689917677924,
          0.5367063709667751,
          0.5133477818398249,
          0.5313852968670073,
          0.52678572563898,
          0.5473935958885011,
          0.5435606170268286,
          0.532918481599717,
          0.5499639340809414,
          0.514249656881605,
          0.5371573028110322,
          0.5393668995017097,
          0.5589376049382346,
          0.5477994396573022,
          0.5297168223630814,
          0.5500541244234358,
          0.5273719500927698,
          0.5484758431003207,
          0.5553751956848871,
          0.5372023979822794,
          0.5572691318534669,
          0.5317009531316303,
          0.5425685587383452,
          0.5381493653569902,
          0.5385101182120188,
          0.5608766362780616,
          0.5562770707266672,
          0.550054132938385,
          0.5272366645790282,
          0.5361652402650742,
          0.5418921510378519,
          0.529807012705576,
          0.5637626406692323,
          0.5429744025071462,
          0.573142158133643,
          0.5353084561370668,
          0.5571789471876053,
          0.5579004500593457,
          0.53598486383756,
          0.5549242539065226,
          0.5413961183457148,
          0.5499188516821181,
          0.5569534755888439,
          0.5448232491811117,
          0.5387355855533055,
          0.5562770707266671,
          0.5354437373933338,
          0.5575847923755645,
          0.5504599667730786,
          0.5587121375969478,
          0.5418921510378519,
          0.5322420781566984,
          0.5527597594828833,
          0.5288600439117068,
          0.534812426283246,
          0.5581710111527216,
          0.550369782107217,
          0.5607864530313583,
          0.5564123519829342,
          0.5382395514420101,
          0.5489267792020525,
          0.5459956853162674,
          0.5304383238156637,
          0.5562770707266672,
          0.5402236822105589,
          0.5463564339138213,
          0.5407648086547852,
          0.5564123534020924,
          0.5164141484669277,
          0.5586670438448588,
          0.5485209411098844,
          0.5447781540098644,
          0.5382846437749409,
          0.5490620661349523,
          0.541576494773229,
          0.5533008845079513,
          0.5451388969307854,
          0.5517225960890452,
          0.5382395542803264,
          0.5538871004467918
         ],
         "yaxis": "y"
        }
       ],
       "layout": {
        "font": {
         "size": 18
        },
        "height": 400,
        "hovermode": "x",
        "legend": {
         "title": {},
         "tracegroupgap": 0
        },
        "margin": {
         "t": 60
        },
        "template": {
         "data": {
          "bar": [
           {
            "error_x": {
             "color": "#2a3f5f"
            },
            "error_y": {
             "color": "#2a3f5f"
            },
            "marker": {
             "line": {
              "color": "#E5ECF6",
              "width": 0.5
             },
             "pattern": {
              "fillmode": "overlay",
              "size": 10,
              "solidity": 0.2
             }
            },
            "type": "bar"
           }
          ],
          "barpolar": [
           {
            "marker": {
             "line": {
              "color": "#E5ECF6",
              "width": 0.5
             },
             "pattern": {
              "fillmode": "overlay",
              "size": 10,
              "solidity": 0.2
             }
            },
            "type": "barpolar"
           }
          ],
          "carpet": [
           {
            "aaxis": {
             "endlinecolor": "#2a3f5f",
             "gridcolor": "white",
             "linecolor": "white",
             "minorgridcolor": "white",
             "startlinecolor": "#2a3f5f"
            },
            "baxis": {
             "endlinecolor": "#2a3f5f",
             "gridcolor": "white",
             "linecolor": "white",
             "minorgridcolor": "white",
             "startlinecolor": "#2a3f5f"
            },
            "type": "carpet"
           }
          ],
          "choropleth": [
           {
            "colorbar": {
             "outlinewidth": 0,
             "ticks": ""
            },
            "type": "choropleth"
           }
          ],
          "contour": [
           {
            "colorbar": {
             "outlinewidth": 0,
             "ticks": ""
            },
            "colorscale": [
             [
              0,
              "#0d0887"
             ],
             [
              0.1111111111111111,
              "#46039f"
             ],
             [
              0.2222222222222222,
              "#7201a8"
             ],
             [
              0.3333333333333333,
              "#9c179e"
             ],
             [
              0.4444444444444444,
              "#bd3786"
             ],
             [
              0.5555555555555556,
              "#d8576b"
             ],
             [
              0.6666666666666666,
              "#ed7953"
             ],
             [
              0.7777777777777778,
              "#fb9f3a"
             ],
             [
              0.8888888888888888,
              "#fdca26"
             ],
             [
              1,
              "#f0f921"
             ]
            ],
            "type": "contour"
           }
          ],
          "contourcarpet": [
           {
            "colorbar": {
             "outlinewidth": 0,
             "ticks": ""
            },
            "type": "contourcarpet"
           }
          ],
          "heatmap": [
           {
            "colorbar": {
             "outlinewidth": 0,
             "ticks": ""
            },
            "colorscale": [
             [
              0,
              "#0d0887"
             ],
             [
              0.1111111111111111,
              "#46039f"
             ],
             [
              0.2222222222222222,
              "#7201a8"
             ],
             [
              0.3333333333333333,
              "#9c179e"
             ],
             [
              0.4444444444444444,
              "#bd3786"
             ],
             [
              0.5555555555555556,
              "#d8576b"
             ],
             [
              0.6666666666666666,
              "#ed7953"
             ],
             [
              0.7777777777777778,
              "#fb9f3a"
             ],
             [
              0.8888888888888888,
              "#fdca26"
             ],
             [
              1,
              "#f0f921"
             ]
            ],
            "type": "heatmap"
           }
          ],
          "heatmapgl": [
           {
            "colorbar": {
             "outlinewidth": 0,
             "ticks": ""
            },
            "colorscale": [
             [
              0,
              "#0d0887"
             ],
             [
              0.1111111111111111,
              "#46039f"
             ],
             [
              0.2222222222222222,
              "#7201a8"
             ],
             [
              0.3333333333333333,
              "#9c179e"
             ],
             [
              0.4444444444444444,
              "#bd3786"
             ],
             [
              0.5555555555555556,
              "#d8576b"
             ],
             [
              0.6666666666666666,
              "#ed7953"
             ],
             [
              0.7777777777777778,
              "#fb9f3a"
             ],
             [
              0.8888888888888888,
              "#fdca26"
             ],
             [
              1,
              "#f0f921"
             ]
            ],
            "type": "heatmapgl"
           }
          ],
          "histogram": [
           {
            "marker": {
             "pattern": {
              "fillmode": "overlay",
              "size": 10,
              "solidity": 0.2
             }
            },
            "type": "histogram"
           }
          ],
          "histogram2d": [
           {
            "colorbar": {
             "outlinewidth": 0,
             "ticks": ""
            },
            "colorscale": [
             [
              0,
              "#0d0887"
             ],
             [
              0.1111111111111111,
              "#46039f"
             ],
             [
              0.2222222222222222,
              "#7201a8"
             ],
             [
              0.3333333333333333,
              "#9c179e"
             ],
             [
              0.4444444444444444,
              "#bd3786"
             ],
             [
              0.5555555555555556,
              "#d8576b"
             ],
             [
              0.6666666666666666,
              "#ed7953"
             ],
             [
              0.7777777777777778,
              "#fb9f3a"
             ],
             [
              0.8888888888888888,
              "#fdca26"
             ],
             [
              1,
              "#f0f921"
             ]
            ],
            "type": "histogram2d"
           }
          ],
          "histogram2dcontour": [
           {
            "colorbar": {
             "outlinewidth": 0,
             "ticks": ""
            },
            "colorscale": [
             [
              0,
              "#0d0887"
             ],
             [
              0.1111111111111111,
              "#46039f"
             ],
             [
              0.2222222222222222,
              "#7201a8"
             ],
             [
              0.3333333333333333,
              "#9c179e"
             ],
             [
              0.4444444444444444,
              "#bd3786"
             ],
             [
              0.5555555555555556,
              "#d8576b"
             ],
             [
              0.6666666666666666,
              "#ed7953"
             ],
             [
              0.7777777777777778,
              "#fb9f3a"
             ],
             [
              0.8888888888888888,
              "#fdca26"
             ],
             [
              1,
              "#f0f921"
             ]
            ],
            "type": "histogram2dcontour"
           }
          ],
          "mesh3d": [
           {
            "colorbar": {
             "outlinewidth": 0,
             "ticks": ""
            },
            "type": "mesh3d"
           }
          ],
          "parcoords": [
           {
            "line": {
             "colorbar": {
              "outlinewidth": 0,
              "ticks": ""
             }
            },
            "type": "parcoords"
           }
          ],
          "pie": [
           {
            "automargin": true,
            "type": "pie"
           }
          ],
          "scatter": [
           {
            "fillpattern": {
             "fillmode": "overlay",
             "size": 10,
             "solidity": 0.2
            },
            "type": "scatter"
           }
          ],
          "scatter3d": [
           {
            "line": {
             "colorbar": {
              "outlinewidth": 0,
              "ticks": ""
             }
            },
            "marker": {
             "colorbar": {
              "outlinewidth": 0,
              "ticks": ""
             }
            },
            "type": "scatter3d"
           }
          ],
          "scattercarpet": [
           {
            "marker": {
             "colorbar": {
              "outlinewidth": 0,
              "ticks": ""
             }
            },
            "type": "scattercarpet"
           }
          ],
          "scattergeo": [
           {
            "marker": {
             "colorbar": {
              "outlinewidth": 0,
              "ticks": ""
             }
            },
            "type": "scattergeo"
           }
          ],
          "scattergl": [
           {
            "marker": {
             "colorbar": {
              "outlinewidth": 0,
              "ticks": ""
             }
            },
            "type": "scattergl"
           }
          ],
          "scattermapbox": [
           {
            "marker": {
             "colorbar": {
              "outlinewidth": 0,
              "ticks": ""
             }
            },
            "type": "scattermapbox"
           }
          ],
          "scatterpolar": [
           {
            "marker": {
             "colorbar": {
              "outlinewidth": 0,
              "ticks": ""
             }
            },
            "type": "scatterpolar"
           }
          ],
          "scatterpolargl": [
           {
            "marker": {
             "colorbar": {
              "outlinewidth": 0,
              "ticks": ""
             }
            },
            "type": "scatterpolargl"
           }
          ],
          "scatterternary": [
           {
            "marker": {
             "colorbar": {
              "outlinewidth": 0,
              "ticks": ""
             }
            },
            "type": "scatterternary"
           }
          ],
          "surface": [
           {
            "colorbar": {
             "outlinewidth": 0,
             "ticks": ""
            },
            "colorscale": [
             [
              0,
              "#0d0887"
             ],
             [
              0.1111111111111111,
              "#46039f"
             ],
             [
              0.2222222222222222,
              "#7201a8"
             ],
             [
              0.3333333333333333,
              "#9c179e"
             ],
             [
              0.4444444444444444,
              "#bd3786"
             ],
             [
              0.5555555555555556,
              "#d8576b"
             ],
             [
              0.6666666666666666,
              "#ed7953"
             ],
             [
              0.7777777777777778,
              "#fb9f3a"
             ],
             [
              0.8888888888888888,
              "#fdca26"
             ],
             [
              1,
              "#f0f921"
             ]
            ],
            "type": "surface"
           }
          ],
          "table": [
           {
            "cells": {
             "fill": {
              "color": "#EBF0F8"
             },
             "line": {
              "color": "white"
             }
            },
            "header": {
             "fill": {
              "color": "#C8D4E3"
             },
             "line": {
              "color": "white"
             }
            },
            "type": "table"
           }
          ]
         },
         "layout": {
          "annotationdefaults": {
           "arrowcolor": "#2a3f5f",
           "arrowhead": 0,
           "arrowwidth": 1
          },
          "autotypenumbers": "strict",
          "coloraxis": {
           "colorbar": {
            "outlinewidth": 0,
            "ticks": ""
           }
          },
          "colorscale": {
           "diverging": [
            [
             0,
             "#8e0152"
            ],
            [
             0.1,
             "#c51b7d"
            ],
            [
             0.2,
             "#de77ae"
            ],
            [
             0.3,
             "#f1b6da"
            ],
            [
             0.4,
             "#fde0ef"
            ],
            [
             0.5,
             "#f7f7f7"
            ],
            [
             0.6,
             "#e6f5d0"
            ],
            [
             0.7,
             "#b8e186"
            ],
            [
             0.8,
             "#7fbc41"
            ],
            [
             0.9,
             "#4d9221"
            ],
            [
             1,
             "#276419"
            ]
           ],
           "sequential": [
            [
             0,
             "#0d0887"
            ],
            [
             0.1111111111111111,
             "#46039f"
            ],
            [
             0.2222222222222222,
             "#7201a8"
            ],
            [
             0.3333333333333333,
             "#9c179e"
            ],
            [
             0.4444444444444444,
             "#bd3786"
            ],
            [
             0.5555555555555556,
             "#d8576b"
            ],
            [
             0.6666666666666666,
             "#ed7953"
            ],
            [
             0.7777777777777778,
             "#fb9f3a"
            ],
            [
             0.8888888888888888,
             "#fdca26"
            ],
            [
             1,
             "#f0f921"
            ]
           ],
           "sequentialminus": [
            [
             0,
             "#0d0887"
            ],
            [
             0.1111111111111111,
             "#46039f"
            ],
            [
             0.2222222222222222,
             "#7201a8"
            ],
            [
             0.3333333333333333,
             "#9c179e"
            ],
            [
             0.4444444444444444,
             "#bd3786"
            ],
            [
             0.5555555555555556,
             "#d8576b"
            ],
            [
             0.6666666666666666,
             "#ed7953"
            ],
            [
             0.7777777777777778,
             "#fb9f3a"
            ],
            [
             0.8888888888888888,
             "#fdca26"
            ],
            [
             1,
             "#f0f921"
            ]
           ]
          },
          "colorway": [
           "#636efa",
           "#EF553B",
           "#00cc96",
           "#ab63fa",
           "#FFA15A",
           "#19d3f3",
           "#FF6692",
           "#B6E880",
           "#FF97FF",
           "#FECB52"
          ],
          "font": {
           "color": "#2a3f5f"
          },
          "geo": {
           "bgcolor": "white",
           "lakecolor": "white",
           "landcolor": "#E5ECF6",
           "showlakes": true,
           "showland": true,
           "subunitcolor": "white"
          },
          "hoverlabel": {
           "align": "left"
          },
          "hovermode": "closest",
          "mapbox": {
           "style": "light"
          },
          "paper_bgcolor": "white",
          "plot_bgcolor": "#E5ECF6",
          "polar": {
           "angularaxis": {
            "gridcolor": "white",
            "linecolor": "white",
            "ticks": ""
           },
           "bgcolor": "#E5ECF6",
           "radialaxis": {
            "gridcolor": "white",
            "linecolor": "white",
            "ticks": ""
           }
          },
          "scene": {
           "xaxis": {
            "backgroundcolor": "#E5ECF6",
            "gridcolor": "white",
            "gridwidth": 2,
            "linecolor": "white",
            "showbackground": true,
            "ticks": "",
            "zerolinecolor": "white"
           },
           "yaxis": {
            "backgroundcolor": "#E5ECF6",
            "gridcolor": "white",
            "gridwidth": 2,
            "linecolor": "white",
            "showbackground": true,
            "ticks": "",
            "zerolinecolor": "white"
           },
           "zaxis": {
            "backgroundcolor": "#E5ECF6",
            "gridcolor": "white",
            "gridwidth": 2,
            "linecolor": "white",
            "showbackground": true,
            "ticks": "",
            "zerolinecolor": "white"
           }
          },
          "shapedefaults": {
           "line": {
            "color": "#2a3f5f"
           }
          },
          "ternary": {
           "aaxis": {
            "gridcolor": "white",
            "linecolor": "white",
            "ticks": ""
           },
           "baxis": {
            "gridcolor": "white",
            "linecolor": "white",
            "ticks": ""
           },
           "bgcolor": "#E5ECF6",
           "caxis": {
            "gridcolor": "white",
            "linecolor": "white",
            "ticks": ""
           }
          },
          "title": {
           "x": 0.05
          },
          "xaxis": {
           "automargin": true,
           "gridcolor": "white",
           "linecolor": "white",
           "ticks": "",
           "title": {
            "standoff": 15
           },
           "zerolinecolor": "white",
           "zerolinewidth": 2
          },
          "yaxis": {
           "automargin": true,
           "gridcolor": "white",
           "linecolor": "white",
           "ticks": "",
           "title": {
            "standoff": 15
           },
           "zerolinecolor": "white",
           "zerolinewidth": 2
          }
         }
        },
        "width": 800,
        "xaxis": {
         "anchor": "y",
         "domain": [
          0,
          1
         ],
         "title": {
          "text": "epoch"
         }
        },
        "yaxis": {
         "anchor": "x",
         "domain": [
          0,
          1
         ],
         "title": {
          "text": "Diagnosis Accuracy"
         }
        }
       }
      },
      "text/html": [
       "<div>                            <div id=\"310d3924-e770-473c-948f-65bf435f2e63\" class=\"plotly-graph-div\" style=\"height:400px; width:800px;\"></div>            <script type=\"text/javascript\">                require([\"plotly\"], function(Plotly) {                    window.PLOTLYENV=window.PLOTLYENV || {};                                    if (document.getElementById(\"310d3924-e770-473c-948f-65bf435f2e63\")) {                    Plotly.newPlot(                        \"310d3924-e770-473c-948f-65bf435f2e63\",                        [{\"fill\":\"toself\",\"fillcolor\":\"rgba(99,110,250,.3)\",\"hoverinfo\":\"skip\",\"legendgroup\":\"Test\",\"line\":{\"color\":\"rgba(255,255,255,0)\"},\"showlegend\":false,\"x\":[0,1,2,3,4,5,6,7,8,9,10,11,12,13,14,15,16,17,18,19,20,21,22,23,24,25,26,27,28,29,30,31,32,33,34,35,36,37,38,39,40,41,42,43,44,45,46,47,48,49,50,51,52,53,54,55,56,57,58,59,60,61,62,63,64,65,66,67,68,69,70,71,72,73,74,75,76,77,78,79,80,81,82,83,84,85,86,87,88,89,90,91,92,93,94,95,96,97,98,99,99,98,97,96,95,94,93,92,91,90,89,88,87,86,85,84,83,82,81,80,79,78,77,76,75,74,73,72,71,70,69,68,67,66,65,64,63,62,61,60,59,58,57,56,55,54,53,52,51,50,49,48,47,46,45,44,43,42,41,40,39,38,37,36,35,34,33,32,31,30,29,28,27,26,25,24,23,22,21,20,19,18,17,16,15,14,13,12,11,10,9,8,7,6,5,4,3,2,1,0],\"xaxis\":\"x\",\"y\":[0.5155747930423578,0.5962541335654163,0.5521769028601913,0.5854279115136347,0.5995422481702551,0.6131360822931743,0.6131360822931743,0.6131360822931743,0.6131360822931743,0.6131360822931743,0.611493609018849,0.6321227226366307,0.6323173138415685,0.6323173138415685,0.632758696513194,0.6347021115497659,0.6347021115497659,0.6351011011337105,0.6351011011337105,0.6344544589652289,0.6344544589652289,0.6344544589652289,0.6625032861875704,0.6662282179792536,0.6662282179792536,0.6657947984553104,0.6476531765464058,0.6476531765464058,0.6476531765464058,0.6476531765464058,0.6476531765464058,0.6476531765464058,0.6600863418603397,0.6600863418603397,0.6600863418603397,0.6600863418603397,0.6600863418603397,0.653967420189228,0.6540582762241864,0.6540582762241864,0.6495483566654754,0.6495483566654754,0.6495483566654754,0.6495483566654754,0.6495483566654754,0.6594803505526925,0.6594803505526925,0.6594803505526925,0.6594803505526925,0.6594803505526925,0.6594803505526925,0.6594803505526925,0.6594803505526925,0.6594803505526925,0.6578545319110984,0.6578545319110984,0.6578545319110984,0.6578545319110984,0.6578545319110984,0.6578545319110984,0.6578545319110984,0.6578545319110984,0.6578545319110984,0.6578545319110984,0.6578545319110984,0.6578545319110984,0.6578545319110984,0.6578545319110984,0.6578545319110984,0.6578545319110984,0.6578545319110984,0.6578545319110984,0.6578545319110984,0.6578545319110984,0.6578545319110984,0.6578545319110984,0.6578545319110984,0.6578545319110984,0.6578545319110984,0.6578545319110984,0.6578545319110984,0.6578545319110984,0.6578545319110984,0.6578545319110984,0.6578545319110984,0.6578545319110984,0.6578545319110984,0.6578545319110984,0.6578545319110984,0.6578545319110984,0.6578545319110984,0.6578545319110984,0.6578545319110984,0.6578545319110984,0.6578545319110984,0.6578545319110984,0.6578545319110984,0.6578545319110984,0.6578545319110984,0.6578545319110984,0.6496921218975933,0.6496921218975933,0.6496921218975933,0.6496921218975933,0.6496921218975933,0.6496921218975933,0.6496921218975933,0.6496921218975933,0.6496921218975933,0.6496921218975933,0.6496921218975933,0.6496921218975933,0.6496921218975933,0.6496921218975933,0.6496921218975933,0.6496921218975933,0.6496921218975933,0.6496921218975933,0.6496921218975933,0.6496921218975933,0.6496921218975933,0.6496921218975933,0.6496921218975933,0.6496921218975933,0.6496921218975933,0.6496921218975933,0.6496921218975933,0.6496921218975933,0.6496921218975933,0.6496921218975933,0.6496921218975933,0.6496921218975933,0.6496921218975933,0.6496921218975933,0.6496921218975933,0.6496921218975933,0.6496921218975933,0.6496921218975933,0.6496921218975933,0.6496921218975933,0.6496921218975933,0.6496921218975933,0.6496921218975933,0.6496921218975933,0.6496921218975933,0.6496921218975933,0.6314579091467134,0.6314579091467134,0.6314579091467134,0.6314579091467134,0.6314579091467134,0.6314579091467134,0.6314579091467134,0.6314579091467134,0.6314579091467134,0.6302205229315283,0.6302205229315283,0.6302205229315283,0.6302205229315283,0.6302205229315283,0.6316837942061779,0.6316837942061779,0.6316775252366369,0.6313861145337581,0.6313861145337581,0.6313861145337581,0.6313861145337581,0.6313861145337581,0.6263367561129392,0.6263367561129392,0.6263367561129392,0.6263367561129392,0.6263367561129392,0.6263367561129392,0.6304853471898312,0.6284979245372495,0.6284979245372495,0.6226074717135481,0.6224900216495556,0.6224900216495556,0.6224900216495556,0.6191238793550912,0.6191238793550912,0.6035943544462182,0.6035943544462182,0.6001473225631287,0.588108126873341,0.588108126873341,0.5902937867838131,0.5952371945992152,0.5881557149596276,0.5881557149596276,0.5881557149596276,0.5881557149596276,0.5881557149596276,0.5319166127711671,0.5250033653212933,0.49065529442695266,0.48882748500036316,0.2479741786129194],\"yaxis\":\"y\",\"type\":\"scatter\"},{\"hovertemplate\":\"Legend=Test\\u003cbr\\u003eepoch=%{x}\\u003cbr\\u003evalue_mean=%{y}\\u003cextra\\u003e\\u003c\\u002fextra\\u003e\",\"legendgroup\":\"Test\",\"line\":{\"color\":\"#636efa\",\"dash\":\"solid\"},\"marker\":{\"symbol\":\"circle\"},\"mode\":\"lines\",\"name\":\"Test\",\"orientation\":\"v\",\"showlegend\":true,\"x\":[0,1,2,3,4,5,6,7,8,9,10,11,12,13,14,15,16,17,18,19,20,21,22,23,24,25,26,27,28,29,30,31,32,33,34,35,36,37,38,39,40,41,42,43,44,45,46,47,48,49,50,51,52,53,54,55,56,57,58,59,60,61,62,63,64,65,66,67,68,69,70,71,72,73,74,75,76,77,78,79,80,81,82,83,84,85,86,87,88,89,90,91,92,93,94,95,96,97,98,99],\"xaxis\":\"x\",\"y\":[0.38177448582763857,0.5425408092828897,0.521416098643572,0.555215638417464,0.5657294304707111,0.6006458986264009,0.6006458986264009,0.6006458986264009,0.6006458986264009,0.6006458986264009,0.6033654018090321,0.6112082547102219,0.6102127203574548,0.6102127203574548,0.6164530095381614,0.619148232997992,0.619148232997992,0.6271124902444009,0.6271124902444009,0.6284722403073922,0.6284722403073922,0.6284722403073922,0.6425553789505593,0.6473630712582515,0.6473630712582515,0.6481400728225708,0.6369949663296725,0.6369949663296725,0.6369949663296725,0.6369949663296725,0.6369949663296725,0.6369949663296725,0.6457362281970489,0.6457362281970489,0.6457362281970489,0.6457362281970489,0.6457362281970489,0.6428224727129325,0.6428710352151822,0.6428710352151822,0.6398844397985018,0.6398844397985018,0.6398844397985018,0.6398844397985018,0.6398844397985018,0.645469129849703,0.645469129849703,0.645469129849703,0.645469129849703,0.645469129849703,0.645469129849703,0.645469129849703,0.645469129849703,0.645469129849703,0.6537733269043459,0.6537733269043459,0.6537733269043459,0.6537733269043459,0.6537733269043459,0.6537733269043459,0.6537733269043459,0.6537733269043459,0.6537733269043459,0.6537733269043459,0.6537733269043459,0.6537733269043459,0.6537733269043459,0.6537733269043459,0.6537733269043459,0.6537733269043459,0.6537733269043459,0.6537733269043459,0.6537733269043459,0.6537733269043459,0.6537733269043459,0.6537733269043459,0.6537733269043459,0.6537733269043459,0.6537733269043459,0.6537733269043459,0.6537733269043459,0.6537733269043459,0.6537733269043459,0.6537733269043459,0.6537733269043459,0.6537733269043459,0.6537733269043459,0.6537733269043459,0.6537733269043459,0.6537733269043459,0.6537733269043459,0.6537733269043459,0.6537733269043459,0.6537733269043459,0.6537733269043459,0.6537733269043459,0.6537733269043459,0.6537733269043459,0.6537733269043459,0.6537733269043459],\"yaxis\":\"y\",\"type\":\"scatter\"},{\"fill\":\"toself\",\"fillcolor\":\"rgba(239,85,59,.3)\",\"hoverinfo\":\"skip\",\"legendgroup\":\"Train\",\"line\":{\"color\":\"rgba(255,255,255,0)\"},\"showlegend\":false,\"x\":[0,1,2,3,4,5,6,7,8,9,10,11,12,13,14,15,16,17,18,19,20,21,22,23,24,25,26,27,28,29,30,31,32,33,34,35,36,37,38,39,40,41,42,43,44,45,46,47,48,49,50,51,52,53,54,55,56,57,58,59,60,61,62,63,64,65,66,67,68,69,70,71,72,73,74,75,76,77,78,79,80,81,82,83,84,85,86,87,88,89,90,91,92,93,94,95,96,97,98,99,99,98,97,96,95,94,93,92,91,90,89,88,87,86,85,84,83,82,81,80,79,78,77,76,75,74,73,72,71,70,69,68,67,66,65,64,63,62,61,60,59,58,57,56,55,54,53,52,51,50,49,48,47,46,45,44,43,42,41,40,39,38,37,36,35,34,33,32,31,30,29,28,27,26,25,24,23,22,21,20,19,18,17,16,15,14,13,12,11,10,9,8,7,6,5,4,3,2,1,0],\"xaxis\":\"x\",\"y\":[0.3885963942325095,0.579945558739927,0.6353820954036893,0.6558654060225808,0.6612218607620003,0.6899858343794326,0.6949883885255779,0.6839679942740496,0.7112124190894663,0.7150535263305079,0.7206348474286337,0.7183347778376323,0.7149293537530984,0.7214882933470891,0.7155770910039901,0.7141932793037842,0.725858949378406,0.7386775127014434,0.7296114851841713,0.742609214117793,0.7486423085230158,0.7445140651702502,0.7542385815012052,0.7548985249837272,0.759422338024766,0.7630332828605544,0.7544905916246819,0.7600787854016053,0.7654735259875163,0.7717034436057559,0.7775330012729742,0.7983236518523118,0.7744931100088294,0.7818952815717253,0.7831511576480635,0.7977897351901337,0.7891845662535119,0.7953068015452098,0.7977336335277148,0.8015770197295039,0.8010159769712824,0.8049562321220626,0.8102820503578192,0.8108659447495697,0.7987082966039295,0.7969401164259448,0.8085348938520605,0.796913558202272,0.817922508627094,0.8177627220890001,0.8150130381299,0.8181422444027966,0.8338911574130156,0.8288295693070005,0.822761555494395,0.8285549160908908,0.8360747099826629,0.8455273422533724,0.8436689553501308,0.8443227477744107,0.8350979001079699,0.8682666482870793,0.8453711306417793,0.8459512812105656,0.8447440873669358,0.8545053538851604,0.855107117855329,0.8503943057436112,0.8566872186770185,0.8594974349370512,0.8575443660099661,0.8666978255738349,0.8646893751314755,0.8626219923258068,0.849624720627504,0.8672955626081962,0.8669508135433391,0.8642288278453283,0.8662731393570942,0.8697749232555005,0.8677078191686804,0.865886604445582,0.8896973237370943,0.8876096826311337,0.8958366178409437,0.885264611339497,0.8823010796778351,0.9012463550484355,0.877242610014572,0.8998144125953134,0.882111935450251,0.8795061900868342,0.8882536371927523,0.8820142166268485,0.8886766987167822,0.8911543240625468,0.9122092211686713,0.9043879856459944,0.8920398605696519,0.900802394738032,0.8899801455344117,0.8803960735460269,0.8723582904514253,0.8795680105857296,0.870892578545102,0.870551897603737,0.8696804962565381,0.8537704238146251,0.8631257343712049,0.8659355600493844,0.8562090585767259,0.8553134335124932,0.8587190463809611,0.866077970479174,0.8668169112352947,0.8466663710721766,0.84914617446972,0.8616473967854684,0.8539778648625376,0.8652350340497892,0.8640889592739296,0.8578095628883737,0.8632616339443162,0.8396510415390507,0.8409088626900543,0.8385937170808373,0.8558977839695862,0.8357048609930031,0.8352989624266143,0.8338976131537662,0.8418546508856166,0.8340547910483074,0.8277298072170087,0.8251169034205091,0.8409522482734106,0.8269882038302296,0.8302202905699081,0.8078119352861661,0.8072417897254596,0.8049883533761202,0.8069998585079455,0.8122771526609683,0.8213604087390356,0.8195029832474034,0.8016949020752061,0.8185772636181379,0.8030965056991421,0.7989743387578111,0.7970029437087287,0.8040004150113372,0.8021533196030978,0.788970407245333,0.7874329409962503,0.7943423929122313,0.7868169172889364,0.7815857225327437,0.7777540454769801,0.803518453910925,0.7965947962763046,0.796151031991104,0.7796748674452493,0.7676768123702924,0.7781532883094953,0.7795967882349589,0.7740493834250413,0.7787225901041993,0.7703999233489214,0.763507959646956,0.753750508479023,0.7562682548090227,0.756424355061565,0.7499811331076611,0.7448947270278521,0.7319152792286442,0.7423454769637581,0.7574690925610463,0.7390965057373013,0.727985885971947,0.7319264378768124,0.7168565576560348,0.7273289265312689,0.715293502444472,0.7070748115006783,0.7083991173124793,0.7070784972379016,0.6984186793036976,0.6895418004817481,0.6984585500472792,0.7074315373780409,0.6971923430683489,0.6972844156706394,0.681526345013176,0.6715618153353881,0.6805642474008888,0.6589126558905462,0.6460652392718821,0.6182467711782256,0.6033263242738496,0.5384047560484023,0.33467579946832987],\"yaxis\":\"y\",\"type\":\"scatter\"},{\"hovertemplate\":\"Legend=Train\\u003cbr\\u003eepoch=%{x}\\u003cbr\\u003evalue_mean=%{y}\\u003cextra\\u003e\\u003c\\u002fextra\\u003e\",\"legendgroup\":\"Train\",\"line\":{\"color\":\"#EF553B\",\"dash\":\"solid\"},\"marker\":{\"symbol\":\"circle\"},\"mode\":\"lines\",\"name\":\"Train\",\"orientation\":\"v\",\"showlegend\":true,\"x\":[0,1,2,3,4,5,6,7,8,9,10,11,12,13,14,15,16,17,18,19,20,21,22,23,24,25,26,27,28,29,30,31,32,33,34,35,36,37,38,39,40,41,42,43,44,45,46,47,48,49,50,51,52,53,54,55,56,57,58,59,60,61,62,63,64,65,66,67,68,69,70,71,72,73,74,75,76,77,78,79,80,81,82,83,84,85,86,87,88,89,90,91,92,93,94,95,96,97,98,99],\"xaxis\":\"x\",\"y\":[0.3616360968504197,0.5591751573941647,0.6193542098387694,0.6370560886004032,0.6536435500169412,0.6744492451349894,0.6877763179632334,0.6777649048047188,0.6963693820513212,0.7061689710005736,0.7089135952484913,0.7128831576078366,0.7066939519001888,0.7055150469144186,0.7069978851538439,0.7106358882708429,0.7171290333454426,0.7228761621010609,0.7224524938143216,0.734969070324531,0.7327494330895253,0.7382202515235313,0.7411122337365761,0.7469975153605143,0.7584457152929062,0.7526893799121562,0.743202935426663,0.7524867562147287,0.7577273295475887,0.7640638993336605,0.7669006280409985,0.7760370801656674,0.7690005348278927,0.7761476024603233,0.7809368738761314,0.7859195593075875,0.7843906772442354,0.7867300449273525,0.7827052229490036,0.7906259435873766,0.7985835044811932,0.8007755141991836,0.8069002521343721,0.7943099951132749,0.7901470095683366,0.7918785168574406,0.8014386433821459,0.7921732495992612,0.8034464579362135,0.809958020846049,0.8095067265706186,0.8075725940557626,0.8164327480854133,0.8159630375030713,0.8206694095562664,0.8151249090830485,0.8277888466150332,0.833443875496204,0.8279730540055495,0.8256613031411781,0.820043126742045,0.8377542190062695,0.8265915329639727,0.8380857858902369,0.8358661455985827,0.8477288010792855,0.8401120106379191,0.83906205648031,0.8453710048626629,0.8506760429113339,0.8457209895818661,0.8509983940002246,0.8501971180622393,0.8592598881476965,0.8441092188541707,0.8541022126491252,0.8533009275411949,0.8637452308948222,0.862041351122734,0.8669319412647151,0.8664714266092348,0.8599322346540598,0.8756723602612814,0.8683779285504268,0.8712514944565601,0.8760407612873958,0.8741895250785046,0.8799827007146983,0.8662780217635326,0.8780117355860196,0.8740237477498177,0.8713159622290195,0.8710120305036887,0.8758473564416933,0.8796142981602596,0.8810234513038244,0.8958886158772005,0.8883731380487099,0.8862179670578394,0.8953912701362219],\"yaxis\":\"y\",\"type\":\"scatter\"},{\"fill\":\"toself\",\"fillcolor\":\"rgba(0,204,150,.3)\",\"hoverinfo\":\"skip\",\"legendgroup\":\"Val\",\"line\":{\"color\":\"rgba(255,255,255,0)\"},\"showlegend\":false,\"x\":[0,1,2,3,4,5,6,7,8,9,10,11,12,13,14,15,16,17,18,19,20,21,22,23,24,25,26,27,28,29,30,31,32,33,34,35,36,37,38,39,40,41,42,43,44,45,46,47,48,49,50,51,52,53,54,55,56,57,58,59,60,61,62,63,64,65,66,67,68,69,70,71,72,73,74,75,76,77,78,79,80,81,82,83,84,85,86,87,88,89,90,91,92,93,94,95,96,97,98,99,99,98,97,96,95,94,93,92,91,90,89,88,87,86,85,84,83,82,81,80,79,78,77,76,75,74,73,72,71,70,69,68,67,66,65,64,63,62,61,60,59,58,57,56,55,54,53,52,51,50,49,48,47,46,45,44,43,42,41,40,39,38,37,36,35,34,33,32,31,30,29,28,27,26,25,24,23,22,21,20,19,18,17,16,15,14,13,12,11,10,9,8,7,6,5,4,3,2,1,0],\"xaxis\":\"x\",\"y\":[0.45139799219903043,0.5274279062834909,0.4790960606669982,0.5088879253501576,0.4955382998440665,0.5348207347250717,0.5152997716439175,0.524688484676654,0.5622102938428203,0.543076335122494,0.5407156159397913,0.549413346673679,0.5518637821519093,0.5129323270209666,0.5318722665960973,0.5582985740589053,0.5406740833583042,0.5371724429644278,0.5511369927087512,0.5408002147227619,0.5546280228040461,0.5479244117382692,0.5531987348191483,0.5554033660321123,0.5484421596780212,0.5600641445552903,0.5688690911113137,0.5392656636470259,0.5625606056642007,0.5309481807173798,0.5564439574788916,0.5481975778612835,0.5728277453902947,0.5688487828394568,0.5553298239402414,0.591673988228315,0.5393505303995777,0.5627288297772647,0.5988898498249436,0.5407197167039361,0.5775529206579931,0.5501569939819119,0.5468150424263656,0.5509196653910523,0.5534367106268504,0.5630537837756855,0.5777612739891027,0.5723772003822961,0.5609977982822001,0.5579158326570528,0.5637598127167578,0.5761361618673502,0.5732616080074794,0.5698625228722345,0.5805694994257159,0.5503648554988513,0.5666605594650123,0.5686559543784474,0.5498418009712249,0.5727788325662925,0.5817650919788488,0.5671102393933868,0.5760185568738608,0.5508646481339498,0.5653256332064642,0.5698619027841564,0.5514344358462014,0.5590749303780136,0.5666231207324395,0.5798173396953599,0.5510487481240763,0.5491827102700801,0.5870441905610516,0.5771798065960564,0.5578429983461062,0.5754293252060031,0.571776898430336,0.5766561358634572,0.575413969490036,0.5445708544817653,0.575599635403386,0.5664065958739645,0.566168241298765,0.5694237546106978,0.5551992367047032,0.5691866750361214,0.5552609660368504,0.575328057722221,0.5561607165058194,0.5725913961856444,0.5619991572078185,0.5592722143551087,0.5620268145734093,0.5796456412641525,0.5490468339443009,0.5741223565752221,0.5553213130597682,0.581316261815974,0.5583165814157528,0.5791239959605465,0.528650204933037,0.5181625271449001,0.5221289303621164,0.5349564808018027,0.5324794124406805,0.5341061556021571,0.5184784910057522,0.5145424729764725,0.5302840936646201,0.5350427250119503,0.5447426915040732,0.4766675804280359,0.5374966490819638,0.5262686512727199,0.5235261927915211,0.5252481277164147,0.5431303868426366,0.4947084063325624,0.5255847747585703,0.5222539230007189,0.5319082484022548,0.5374107344758323,0.5449167701992594,0.528962665784098,0.5409126970994401,0.5117818542203858,0.48054028122735726,0.5184753284047149,0.5153014460433167,0.5327355539516275,0.5376069354985358,0.5342968128137178,0.5560946543731153,0.5194530389404662,0.5426922386691778,0.5121455379001467,0.5387818502282736,0.537888394303827,0.5327274639708494,0.5010271447125807,0.5370696752467526,0.5221279267038952,0.5471449457402441,0.5476973349101983,0.5202520567752823,0.5657148168415701,0.516086282142058,0.5542636733309853,0.48347786354380173,0.5200244893589461,0.5144146478730955,0.4934755308758562,0.5277310654944739,0.5347928674642317,0.5586994887804377,0.5235835257971871,0.5253790653229281,0.5383220750503248,0.5132449122813488,0.5369853430489407,0.5336850792606227,0.5118605415448306,0.5342228564233767,0.515393369785962,0.5084342606185567,0.5041038207859213,0.5267500964751475,0.5450474644861746,0.5305362211421358,0.5178706481431729,0.4975511330458301,0.537367262497682,0.5265712995524081,0.5182521429423435,0.5347230472217119,0.5051292915999387,0.5073672277019023,0.47349682886050154,0.525488330195281,0.5213099607315388,0.5198058618810822,0.5045087853568849,0.5016984337792523,0.5137992401231194,0.48535224892115814,0.49617609545464036,0.454509972617509,0.46716582664271156,0.49207297620611223,0.4969828289262073,0.48488184510069854,0.46673995744127944,0.49136493648009294,0.4688272446506528,0.5255147878811877,0.4103058748361893,0.47451757955772306,0.3112178118860553,0.4349638902827002,0.2610839890330223],\"yaxis\":\"y\",\"type\":\"scatter\"},{\"hovertemplate\":\"Legend=Val\\u003cbr\\u003eepoch=%{x}\\u003cbr\\u003evalue_mean=%{y}\\u003cextra\\u003e\\u003c\\u002fextra\\u003e\",\"legendgroup\":\"Val\",\"line\":{\"color\":\"#00cc96\",\"dash\":\"solid\"},\"marker\":{\"symbol\":\"circle\"},\"mode\":\"lines\",\"name\":\"Val\",\"orientation\":\"v\",\"showlegend\":true,\"x\":[0,1,2,3,4,5,6,7,8,9,10,11,12,13,14,15,16,17,18,19,20,21,22,23,24,25,26,27,28,29,30,31,32,33,34,35,36,37,38,39,40,41,42,43,44,45,46,47,48,49,50,51,52,53,54,55,56,57,58,59,60,61,62,63,64,65,66,67,68,69,70,71,72,73,74,75,76,77,78,79,80,81,82,83,84,85,86,87,88,89,90,91,92,93,94,95,96,97,98,99],\"xaxis\":\"x\",\"y\":[0.3562409906160264,0.48119589828309556,0.39515693627652676,0.4917027524539403,0.4529220873401279,0.5301677613031297,0.4920635081472851,0.5080267105783735,0.5144751256420499,0.5139790901115963,0.5188492224329994,0.5207431614398956,0.5095148043973105,0.4837211498192378,0.5140241810253688,0.5218254114900317,0.5272366617407118,0.51943543837184,0.527822889032818,0.530303038301922,0.5379689917677924,0.5367063709667751,0.5133477818398249,0.5313852968670073,0.52678572563898,0.5473935958885011,0.5435606170268286,0.532918481599717,0.5499639340809414,0.514249656881605,0.5371573028110322,0.5393668995017097,0.5589376049382346,0.5477994396573022,0.5297168223630814,0.5500541244234358,0.5273719500927698,0.5484758431003207,0.5553751956848871,0.5372023979822794,0.5572691318534669,0.5317009531316303,0.5425685587383452,0.5381493653569902,0.5385101182120188,0.5608766362780616,0.5562770707266672,0.550054132938385,0.5272366645790282,0.5361652402650742,0.5418921510378519,0.529807012705576,0.5637626406692323,0.5429744025071462,0.573142158133643,0.5353084561370668,0.5571789471876053,0.5579004500593457,0.53598486383756,0.5549242539065226,0.5413961183457148,0.5499188516821181,0.5569534755888439,0.5448232491811117,0.5387355855533055,0.5562770707266671,0.5354437373933338,0.5575847923755645,0.5504599667730786,0.5587121375969478,0.5418921510378519,0.5322420781566984,0.5527597594828833,0.5288600439117068,0.534812426283246,0.5581710111527216,0.550369782107217,0.5607864530313583,0.5564123519829342,0.5382395514420101,0.5489267792020525,0.5459956853162674,0.5304383238156637,0.5562770707266672,0.5402236822105589,0.5463564339138213,0.5407648086547852,0.5564123534020924,0.5164141484669277,0.5586670438448588,0.5485209411098844,0.5447781540098644,0.5382846437749409,0.5490620661349523,0.541576494773229,0.5533008845079513,0.5451388969307854,0.5517225960890452,0.5382395542803264,0.5538871004467918],\"yaxis\":\"y\",\"type\":\"scatter\"}],                        {\"template\":{\"data\":{\"histogram2dcontour\":[{\"type\":\"histogram2dcontour\",\"colorbar\":{\"outlinewidth\":0,\"ticks\":\"\"},\"colorscale\":[[0.0,\"#0d0887\"],[0.1111111111111111,\"#46039f\"],[0.2222222222222222,\"#7201a8\"],[0.3333333333333333,\"#9c179e\"],[0.4444444444444444,\"#bd3786\"],[0.5555555555555556,\"#d8576b\"],[0.6666666666666666,\"#ed7953\"],[0.7777777777777778,\"#fb9f3a\"],[0.8888888888888888,\"#fdca26\"],[1.0,\"#f0f921\"]]}],\"choropleth\":[{\"type\":\"choropleth\",\"colorbar\":{\"outlinewidth\":0,\"ticks\":\"\"}}],\"histogram2d\":[{\"type\":\"histogram2d\",\"colorbar\":{\"outlinewidth\":0,\"ticks\":\"\"},\"colorscale\":[[0.0,\"#0d0887\"],[0.1111111111111111,\"#46039f\"],[0.2222222222222222,\"#7201a8\"],[0.3333333333333333,\"#9c179e\"],[0.4444444444444444,\"#bd3786\"],[0.5555555555555556,\"#d8576b\"],[0.6666666666666666,\"#ed7953\"],[0.7777777777777778,\"#fb9f3a\"],[0.8888888888888888,\"#fdca26\"],[1.0,\"#f0f921\"]]}],\"heatmap\":[{\"type\":\"heatmap\",\"colorbar\":{\"outlinewidth\":0,\"ticks\":\"\"},\"colorscale\":[[0.0,\"#0d0887\"],[0.1111111111111111,\"#46039f\"],[0.2222222222222222,\"#7201a8\"],[0.3333333333333333,\"#9c179e\"],[0.4444444444444444,\"#bd3786\"],[0.5555555555555556,\"#d8576b\"],[0.6666666666666666,\"#ed7953\"],[0.7777777777777778,\"#fb9f3a\"],[0.8888888888888888,\"#fdca26\"],[1.0,\"#f0f921\"]]}],\"heatmapgl\":[{\"type\":\"heatmapgl\",\"colorbar\":{\"outlinewidth\":0,\"ticks\":\"\"},\"colorscale\":[[0.0,\"#0d0887\"],[0.1111111111111111,\"#46039f\"],[0.2222222222222222,\"#7201a8\"],[0.3333333333333333,\"#9c179e\"],[0.4444444444444444,\"#bd3786\"],[0.5555555555555556,\"#d8576b\"],[0.6666666666666666,\"#ed7953\"],[0.7777777777777778,\"#fb9f3a\"],[0.8888888888888888,\"#fdca26\"],[1.0,\"#f0f921\"]]}],\"contourcarpet\":[{\"type\":\"contourcarpet\",\"colorbar\":{\"outlinewidth\":0,\"ticks\":\"\"}}],\"contour\":[{\"type\":\"contour\",\"colorbar\":{\"outlinewidth\":0,\"ticks\":\"\"},\"colorscale\":[[0.0,\"#0d0887\"],[0.1111111111111111,\"#46039f\"],[0.2222222222222222,\"#7201a8\"],[0.3333333333333333,\"#9c179e\"],[0.4444444444444444,\"#bd3786\"],[0.5555555555555556,\"#d8576b\"],[0.6666666666666666,\"#ed7953\"],[0.7777777777777778,\"#fb9f3a\"],[0.8888888888888888,\"#fdca26\"],[1.0,\"#f0f921\"]]}],\"surface\":[{\"type\":\"surface\",\"colorbar\":{\"outlinewidth\":0,\"ticks\":\"\"},\"colorscale\":[[0.0,\"#0d0887\"],[0.1111111111111111,\"#46039f\"],[0.2222222222222222,\"#7201a8\"],[0.3333333333333333,\"#9c179e\"],[0.4444444444444444,\"#bd3786\"],[0.5555555555555556,\"#d8576b\"],[0.6666666666666666,\"#ed7953\"],[0.7777777777777778,\"#fb9f3a\"],[0.8888888888888888,\"#fdca26\"],[1.0,\"#f0f921\"]]}],\"mesh3d\":[{\"type\":\"mesh3d\",\"colorbar\":{\"outlinewidth\":0,\"ticks\":\"\"}}],\"scatter\":[{\"fillpattern\":{\"fillmode\":\"overlay\",\"size\":10,\"solidity\":0.2},\"type\":\"scatter\"}],\"parcoords\":[{\"type\":\"parcoords\",\"line\":{\"colorbar\":{\"outlinewidth\":0,\"ticks\":\"\"}}}],\"scatterpolargl\":[{\"type\":\"scatterpolargl\",\"marker\":{\"colorbar\":{\"outlinewidth\":0,\"ticks\":\"\"}}}],\"bar\":[{\"error_x\":{\"color\":\"#2a3f5f\"},\"error_y\":{\"color\":\"#2a3f5f\"},\"marker\":{\"line\":{\"color\":\"#E5ECF6\",\"width\":0.5},\"pattern\":{\"fillmode\":\"overlay\",\"size\":10,\"solidity\":0.2}},\"type\":\"bar\"}],\"scattergeo\":[{\"type\":\"scattergeo\",\"marker\":{\"colorbar\":{\"outlinewidth\":0,\"ticks\":\"\"}}}],\"scatterpolar\":[{\"type\":\"scatterpolar\",\"marker\":{\"colorbar\":{\"outlinewidth\":0,\"ticks\":\"\"}}}],\"histogram\":[{\"marker\":{\"pattern\":{\"fillmode\":\"overlay\",\"size\":10,\"solidity\":0.2}},\"type\":\"histogram\"}],\"scattergl\":[{\"type\":\"scattergl\",\"marker\":{\"colorbar\":{\"outlinewidth\":0,\"ticks\":\"\"}}}],\"scatter3d\":[{\"type\":\"scatter3d\",\"line\":{\"colorbar\":{\"outlinewidth\":0,\"ticks\":\"\"}},\"marker\":{\"colorbar\":{\"outlinewidth\":0,\"ticks\":\"\"}}}],\"scattermapbox\":[{\"type\":\"scattermapbox\",\"marker\":{\"colorbar\":{\"outlinewidth\":0,\"ticks\":\"\"}}}],\"scatterternary\":[{\"type\":\"scatterternary\",\"marker\":{\"colorbar\":{\"outlinewidth\":0,\"ticks\":\"\"}}}],\"scattercarpet\":[{\"type\":\"scattercarpet\",\"marker\":{\"colorbar\":{\"outlinewidth\":0,\"ticks\":\"\"}}}],\"carpet\":[{\"aaxis\":{\"endlinecolor\":\"#2a3f5f\",\"gridcolor\":\"white\",\"linecolor\":\"white\",\"minorgridcolor\":\"white\",\"startlinecolor\":\"#2a3f5f\"},\"baxis\":{\"endlinecolor\":\"#2a3f5f\",\"gridcolor\":\"white\",\"linecolor\":\"white\",\"minorgridcolor\":\"white\",\"startlinecolor\":\"#2a3f5f\"},\"type\":\"carpet\"}],\"table\":[{\"cells\":{\"fill\":{\"color\":\"#EBF0F8\"},\"line\":{\"color\":\"white\"}},\"header\":{\"fill\":{\"color\":\"#C8D4E3\"},\"line\":{\"color\":\"white\"}},\"type\":\"table\"}],\"barpolar\":[{\"marker\":{\"line\":{\"color\":\"#E5ECF6\",\"width\":0.5},\"pattern\":{\"fillmode\":\"overlay\",\"size\":10,\"solidity\":0.2}},\"type\":\"barpolar\"}],\"pie\":[{\"automargin\":true,\"type\":\"pie\"}]},\"layout\":{\"autotypenumbers\":\"strict\",\"colorway\":[\"#636efa\",\"#EF553B\",\"#00cc96\",\"#ab63fa\",\"#FFA15A\",\"#19d3f3\",\"#FF6692\",\"#B6E880\",\"#FF97FF\",\"#FECB52\"],\"font\":{\"color\":\"#2a3f5f\"},\"hovermode\":\"closest\",\"hoverlabel\":{\"align\":\"left\"},\"paper_bgcolor\":\"white\",\"plot_bgcolor\":\"#E5ECF6\",\"polar\":{\"bgcolor\":\"#E5ECF6\",\"angularaxis\":{\"gridcolor\":\"white\",\"linecolor\":\"white\",\"ticks\":\"\"},\"radialaxis\":{\"gridcolor\":\"white\",\"linecolor\":\"white\",\"ticks\":\"\"}},\"ternary\":{\"bgcolor\":\"#E5ECF6\",\"aaxis\":{\"gridcolor\":\"white\",\"linecolor\":\"white\",\"ticks\":\"\"},\"baxis\":{\"gridcolor\":\"white\",\"linecolor\":\"white\",\"ticks\":\"\"},\"caxis\":{\"gridcolor\":\"white\",\"linecolor\":\"white\",\"ticks\":\"\"}},\"coloraxis\":{\"colorbar\":{\"outlinewidth\":0,\"ticks\":\"\"}},\"colorscale\":{\"sequential\":[[0.0,\"#0d0887\"],[0.1111111111111111,\"#46039f\"],[0.2222222222222222,\"#7201a8\"],[0.3333333333333333,\"#9c179e\"],[0.4444444444444444,\"#bd3786\"],[0.5555555555555556,\"#d8576b\"],[0.6666666666666666,\"#ed7953\"],[0.7777777777777778,\"#fb9f3a\"],[0.8888888888888888,\"#fdca26\"],[1.0,\"#f0f921\"]],\"sequentialminus\":[[0.0,\"#0d0887\"],[0.1111111111111111,\"#46039f\"],[0.2222222222222222,\"#7201a8\"],[0.3333333333333333,\"#9c179e\"],[0.4444444444444444,\"#bd3786\"],[0.5555555555555556,\"#d8576b\"],[0.6666666666666666,\"#ed7953\"],[0.7777777777777778,\"#fb9f3a\"],[0.8888888888888888,\"#fdca26\"],[1.0,\"#f0f921\"]],\"diverging\":[[0,\"#8e0152\"],[0.1,\"#c51b7d\"],[0.2,\"#de77ae\"],[0.3,\"#f1b6da\"],[0.4,\"#fde0ef\"],[0.5,\"#f7f7f7\"],[0.6,\"#e6f5d0\"],[0.7,\"#b8e186\"],[0.8,\"#7fbc41\"],[0.9,\"#4d9221\"],[1,\"#276419\"]]},\"xaxis\":{\"gridcolor\":\"white\",\"linecolor\":\"white\",\"ticks\":\"\",\"title\":{\"standoff\":15},\"zerolinecolor\":\"white\",\"automargin\":true,\"zerolinewidth\":2},\"yaxis\":{\"gridcolor\":\"white\",\"linecolor\":\"white\",\"ticks\":\"\",\"title\":{\"standoff\":15},\"zerolinecolor\":\"white\",\"automargin\":true,\"zerolinewidth\":2},\"scene\":{\"xaxis\":{\"backgroundcolor\":\"#E5ECF6\",\"gridcolor\":\"white\",\"linecolor\":\"white\",\"showbackground\":true,\"ticks\":\"\",\"zerolinecolor\":\"white\",\"gridwidth\":2},\"yaxis\":{\"backgroundcolor\":\"#E5ECF6\",\"gridcolor\":\"white\",\"linecolor\":\"white\",\"showbackground\":true,\"ticks\":\"\",\"zerolinecolor\":\"white\",\"gridwidth\":2},\"zaxis\":{\"backgroundcolor\":\"#E5ECF6\",\"gridcolor\":\"white\",\"linecolor\":\"white\",\"showbackground\":true,\"ticks\":\"\",\"zerolinecolor\":\"white\",\"gridwidth\":2}},\"shapedefaults\":{\"line\":{\"color\":\"#2a3f5f\"}},\"annotationdefaults\":{\"arrowcolor\":\"#2a3f5f\",\"arrowhead\":0,\"arrowwidth\":1},\"geo\":{\"bgcolor\":\"white\",\"landcolor\":\"#E5ECF6\",\"subunitcolor\":\"white\",\"showland\":true,\"showlakes\":true,\"lakecolor\":\"white\"},\"title\":{\"x\":0.05},\"mapbox\":{\"style\":\"light\"}}},\"xaxis\":{\"anchor\":\"y\",\"domain\":[0.0,1.0],\"title\":{\"text\":\"epoch\"}},\"yaxis\":{\"anchor\":\"x\",\"domain\":[0.0,1.0],\"title\":{\"text\":\"Diagnosis Accuracy\"}},\"legend\":{\"title\":{},\"tracegroupgap\":0},\"margin\":{\"t\":60},\"font\":{\"size\":18},\"width\":800,\"height\":400,\"hovermode\":\"x\"},                        {\"responsive\": true}                    ).then(function(){\n",
       "                            \n",
       "var gd = document.getElementById('310d3924-e770-473c-948f-65bf435f2e63');\n",
       "var x = new MutationObserver(function (mutations, observer) {{\n",
       "        var display = window.getComputedStyle(gd).display;\n",
       "        if (!display || display === 'none') {{\n",
       "            console.log([gd, 'removed!']);\n",
       "            Plotly.purge(gd);\n",
       "            observer.disconnect();\n",
       "        }}\n",
       "}});\n",
       "\n",
       "// Listen for the removal of the full notebook cells\n",
       "var notebookContainer = gd.closest('#notebook-container');\n",
       "if (notebookContainer) {{\n",
       "    x.observe(notebookContainer, {childList: true});\n",
       "}}\n",
       "\n",
       "// Listen for the clearing of the current output cell\n",
       "var outputEl = gd.closest('.output');\n",
       "if (outputEl) {{\n",
       "    x.observe(outputEl, {childList: true});\n",
       "}}\n",
       "\n",
       "                        })                };                });            </script>        </div>"
      ]
     },
     "metadata": {},
     "output_type": "display_data"
    }
   ],
   "source": [
    "fig = nice_plot_multi_columns(df,\n",
    "                        x_axis='epoch',\n",
    "                        y_axiss=['train_dia_acc', 'val_dia_acc', 'test_dia_acc'],\n",
    "                        y_axis_title='Diagnosis Accuracy',\n",
    "                        plot_type='line',\n",
    "                        legend_names={\n",
    "                            'train_dia_acc': 'Train',\n",
    "                            'val_dia_acc': 'Val',\n",
    "                            'test_dia_acc': 'Test',\n",
    "                        },\n",
    "                        )\n",
    "fig.show()\n"
   ]
  },
  {
   "cell_type": "code",
   "execution_count": 5,
   "metadata": {},
   "outputs": [],
   "source": [
    "# for column in df.columns:\n",
    "#     print(f\"{column}: {df[column].loc[0]}\")"
   ]
  },
  {
   "cell_type": "code",
   "execution_count": 6,
   "metadata": {},
   "outputs": [
    {
     "ename": "NameError",
     "evalue": "name 'mean_std_df' is not defined",
     "output_type": "error",
     "traceback": [
      "\u001b[0;31m---------------------------------------------------------------------------\u001b[0m",
      "\u001b[0;31mNameError\u001b[0m                                 Traceback (most recent call last)",
      "\u001b[0;32m/tmp/ipykernel_3443899/2321777077.py\u001b[0m in \u001b[0;36m<module>\u001b[0;34m\u001b[0m\n\u001b[1;32m    105\u001b[0m             \u001b[0mlegend_names\u001b[0m\u001b[0;34m=\u001b[0m\u001b[0;34m[\u001b[0m\u001b[0;34m'Train'\u001b[0m\u001b[0;34m,\u001b[0m \u001b[0;34m'Validation'\u001b[0m\u001b[0;34m]\u001b[0m\u001b[0;34m,\u001b[0m\u001b[0;34m\u001b[0m\u001b[0m\n\u001b[1;32m    106\u001b[0m             \u001b[0mtitle\u001b[0m\u001b[0;34m=\u001b[0m\u001b[0;34mf'Loss per Epoch: Architecture Choice {architecture_choice}'\u001b[0m\u001b[0;34m,\u001b[0m\u001b[0;34m\u001b[0m\u001b[0m\n\u001b[0;32m--> 107\u001b[0;31m             show_std=False)\n\u001b[0m\u001b[1;32m    108\u001b[0m     \u001b[0mfig\u001b[0m\u001b[0;34m.\u001b[0m\u001b[0mshow\u001b[0m\u001b[0;34m(\u001b[0m\u001b[0;34m)\u001b[0m\u001b[0;34m\u001b[0m\u001b[0m\n",
      "\u001b[0;32m/tmp/ipykernel_3443899/2321777077.py\u001b[0m in \u001b[0;36mplot_px\u001b[0;34m(df, x_axis, y_axiss, x_axis_title, y_axis_title, legend_names, title, show_std)\u001b[0m\n\u001b[1;32m     68\u001b[0m \u001b[0;34m\u001b[0m\u001b[0m\n\u001b[1;32m     69\u001b[0m     \u001b[0;32massert\u001b[0m \u001b[0mlen\u001b[0m\u001b[0;34m(\u001b[0m\u001b[0my_axiss\u001b[0m\u001b[0;34m)\u001b[0m \u001b[0;34m==\u001b[0m \u001b[0mlen\u001b[0m\u001b[0;34m(\u001b[0m\u001b[0mlegend_names\u001b[0m\u001b[0;34m)\u001b[0m\u001b[0;34m\u001b[0m\u001b[0m\n\u001b[0;32m---> 70\u001b[0;31m     \u001b[0mdf_mean\u001b[0m \u001b[0;34m=\u001b[0m \u001b[0mmean_std_df\u001b[0m\u001b[0;34m(\u001b[0m\u001b[0mdf\u001b[0m\u001b[0;34m,\u001b[0m \u001b[0;34m[\u001b[0m\u001b[0mx_axis\u001b[0m\u001b[0;34m]\u001b[0m\u001b[0;34m,\u001b[0m \u001b[0my_axiss\u001b[0m\u001b[0;34m)\u001b[0m\u001b[0;34m\u001b[0m\u001b[0m\n\u001b[0m\u001b[1;32m     71\u001b[0m \u001b[0;34m\u001b[0m\u001b[0m\n\u001b[1;32m     72\u001b[0m     \u001b[0mfig\u001b[0m \u001b[0;34m=\u001b[0m \u001b[0mpx\u001b[0m\u001b[0;34m.\u001b[0m\u001b[0mline\u001b[0m\u001b[0;34m(\u001b[0m\u001b[0;34m)\u001b[0m\u001b[0;34m\u001b[0m\u001b[0m\n",
      "\u001b[0;31mNameError\u001b[0m: name 'mean_std_df' is not defined"
     ]
    }
   ],
   "source": [
    "def plot(df, \n",
    "         x_axis='epoch', \n",
    "         y_axiss = ['train_loss', 'val_loss', 'test_loss'], \n",
    "         x_axis_title = 'Epoch',\n",
    "         y_axis_title = 'Loss',\n",
    "         legend_names=['Train Loss', 'Validation Loss', 'Test Loss'],\n",
    "         title='Loss per Epoch',\n",
    "         show_std=False):\n",
    "    \n",
    "    assert len(y_axiss) == len(legend_names)\n",
    "    df_mean = mean_std_df(df, [x_axis], y_axiss)\n",
    "\n",
    "    fig = go.Figure()\n",
    "    for i, y_axis in enumerate(y_axiss):\n",
    "        fig.add_trace(go.Scatter(x=df_mean[x_axis],\n",
    "                                y=df_mean[f'{y_axis}_mean'],\n",
    "                                # error_y=dict(type='data', array=df_mean[f'{y_axis}_std']), \n",
    "                                name=legend_names[i],\n",
    "                                mode='lines',\n",
    "                                error_y=dict(type='data', array=df_mean[f'{y_axis}_std'], visible=True),\n",
    "                                error_y_mode = 'band'\n",
    "                                ))\n",
    "        \n",
    "        if(show_std):\n",
    "            fig.add_trace(go.Scatter(x=df_mean[x_axis], \n",
    "                                    y=df_mean[f'{y_axis}_mean'] + df_mean[f'{y_axis}_std'], \n",
    "                                    mode='lines',\n",
    "                                    name=f'{legend_names[i]} + std',\n",
    "                                    line=dict(width=0), \n",
    "                                    showlegend=False,\n",
    "                                    hoverinfo='none'\n",
    "                                    )\n",
    "                        )\n",
    "            fig.add_trace(go.Scatter(x=df_mean[x_axis], \n",
    "                                    y=df_mean[f'{y_axis}_mean'] - df_mean[f'{y_axis}_std'], \n",
    "                                    mode='lines', \n",
    "                                    name=f'{legend_names[i]} - std',\n",
    "                                    fill='tonexty', \n",
    "                                    line=dict(width=0), \n",
    "                                    showlegend=False,\n",
    "                                    hoverinfo='none'\n",
    "                                    )\n",
    "                        )\n",
    "    fig.update_layout(\n",
    "        title=title,\n",
    "        xaxis_title=x_axis_title,\n",
    "        yaxis_title=y_axis_title,\n",
    "        font=dict(\n",
    "            # family=\"Courier New, monospace\",\n",
    "            size=18,\n",
    "            # color=\"RebeccaPurple\"\n",
    "        ),\n",
    "        width=800, \n",
    "        height=400,\n",
    "        hovermode=\"x\"\n",
    "    )\n",
    "    return fig\n",
    "\n",
    "\n",
    "def plot_px(df, \n",
    "         x_axis='epoch', \n",
    "         y_axiss = ['train_loss', 'val_loss', 'test_loss'], \n",
    "         x_axis_title = 'Epoch',\n",
    "         y_axis_title = 'Loss',\n",
    "         legend_names=['Train Loss', 'Validation Loss', 'Test Loss'],\n",
    "         title='Loss per Epoch',\n",
    "         show_std=False):\n",
    "    \n",
    "    assert len(y_axiss) == len(legend_names)\n",
    "    df_mean = mean_std_df(df, [x_axis], y_axiss)\n",
    "\n",
    "    fig = px.line()\n",
    "    for i, y_axis in enumerate(y_axiss):\n",
    "        fig.add_trace(px.line(x=df_mean[x_axis],\n",
    "                                y=df_mean[f'{y_axis}_mean'],\n",
    "                                # error_y=dict(type='data', array=df_mean[f'{y_axis}_std']), \n",
    "                                name=legend_names[i],\n",
    "                                mode='lines',\n",
    "                                error_y=dict(type='data', array=df_mean[f'{y_axis}_std'], visible=True),\n",
    "                                error_y_mode = 'band'\n",
    "                                ))\n",
    "        \n",
    "    fig.update_layout(\n",
    "        title=title,\n",
    "        xaxis_title=x_axis_title,\n",
    "        yaxis_title=y_axis_title,\n",
    "        font=dict(\n",
    "            # family=\"Courier New, monospace\",\n",
    "            size=18,\n",
    "            # color=\"RebeccaPurple\"\n",
    "        ),\n",
    "        width=800, \n",
    "        height=400,\n",
    "        hovermode=\"x\"\n",
    "    )\n",
    "    return fig\n",
    "\n",
    "\n",
    "for architecture_choice in df['architecture_choice'].unique():\n",
    "    fig = plot_px(df[df['architecture_choice'] == architecture_choice], \n",
    "            x_axis='epoch', \n",
    "            y_axiss = ['train_loss', 'val_loss'], \n",
    "            x_axis_title = 'Epoch',\n",
    "            y_axis_title = 'Loss',\n",
    "            legend_names=['Train', 'Validation'],\n",
    "            title=f'Loss per Epoch: Architecture Choice {architecture_choice}',\n",
    "            show_std=False)\n",
    "    fig.show()"
   ]
  },
  {
   "cell_type": "code",
   "execution_count": null,
   "metadata": {},
   "outputs": [
    {
     "data": {
      "application/vnd.plotly.v1+json": {
       "config": {
        "plotlyServerURL": "https://plot.ly"
       },
       "data": [
        {
         "fill": "toself",
         "fillcolor": "rgba(99,110,250,.3)",
         "hoverinfo": "skip",
         "legendgroup": "Train",
         "line": {
          "color": "rgba(255,255,255,0)"
         },
         "showlegend": false,
         "type": "scatter",
         "x": [
          0,
          1,
          2,
          3,
          4,
          5,
          6,
          7,
          8,
          9,
          10,
          11,
          12,
          13,
          14,
          15,
          16,
          17,
          18,
          19,
          20,
          21,
          22,
          23,
          24,
          25,
          26,
          27,
          28,
          29,
          30,
          31,
          32,
          33,
          34,
          35,
          36,
          37,
          38,
          39,
          40,
          41,
          42,
          43,
          44,
          45,
          46,
          47,
          48,
          49,
          50,
          51,
          52,
          53,
          54,
          55,
          56,
          57,
          58,
          59,
          60,
          61,
          62,
          63,
          64,
          65,
          66,
          67,
          68,
          69,
          70,
          71,
          72,
          73,
          74,
          75,
          76,
          77,
          78,
          79,
          80,
          81,
          82,
          83,
          84,
          85,
          86,
          87,
          88,
          89,
          90,
          91,
          92,
          93,
          94,
          95,
          96,
          97,
          98,
          99,
          99,
          98,
          97,
          96,
          95,
          94,
          93,
          92,
          91,
          90,
          89,
          88,
          87,
          86,
          85,
          84,
          83,
          82,
          81,
          80,
          79,
          78,
          77,
          76,
          75,
          74,
          73,
          72,
          71,
          70,
          69,
          68,
          67,
          66,
          65,
          64,
          63,
          62,
          61,
          60,
          59,
          58,
          57,
          56,
          55,
          54,
          53,
          52,
          51,
          50,
          49,
          48,
          47,
          46,
          45,
          44,
          43,
          42,
          41,
          40,
          39,
          38,
          37,
          36,
          35,
          34,
          33,
          32,
          31,
          30,
          29,
          28,
          27,
          26,
          25,
          24,
          23,
          22,
          21,
          20,
          19,
          18,
          17,
          16,
          15,
          14,
          13,
          12,
          11,
          10,
          9,
          8,
          7,
          6,
          5,
          4,
          3,
          2,
          1,
          0
         ],
         "xaxis": "x",
         "y": [
          1.0141397958776528,
          0.883129159183237,
          0.8039360057221672,
          0.7711366993448796,
          0.7443570456807737,
          0.721082248681408,
          0.7076287505191085,
          0.6985951605192142,
          0.6930213584265638,
          0.6799341231730455,
          0.6660129771292683,
          0.6687142377896321,
          0.6583292235089517,
          0.6526166059383974,
          0.6529836280027062,
          0.6465711277660576,
          0.6220994707664423,
          0.6300986478994984,
          0.6326568014923514,
          0.6148040324441224,
          0.6077092645296295,
          0.5965978405928993,
          0.6095073764735005,
          0.5917632553434468,
          0.5900193219383005,
          0.5795600298155601,
          0.5713729087012577,
          0.572531147432888,
          0.5701832702670155,
          0.5563739703268179,
          0.5451107092954448,
          0.5342327345792965,
          0.5301438375302187,
          0.5305525611232094,
          0.5333236403876183,
          0.5258367809659718,
          0.5273532343292027,
          0.5243990647148877,
          0.5058765994061422,
          0.5033396915145532,
          0.4851913114951622,
          0.4779077250715849,
          0.4693738241554989,
          0.49058029628788974,
          0.4889192633336918,
          0.48212640379206834,
          0.46719394198474523,
          0.4809696953303249,
          0.47914728515248634,
          0.44627398990870804,
          0.46323477971634447,
          0.45378682897985245,
          0.4560208744618092,
          0.44603048917793087,
          0.4263617410663015,
          0.4334360749832947,
          0.43414002534504414,
          0.40202331059328933,
          0.40865562745911194,
          0.4253361600053285,
          0.4251729405908672,
          0.41871362572227533,
          0.42633668454267915,
          0.38910273384214905,
          0.4019462312949694,
          0.3984677415607906,
          0.3766322428116698,
          0.38736173511334016,
          0.38876894245949245,
          0.38265884730017224,
          0.39343297350921796,
          0.3674623150835358,
          0.3725053896589943,
          0.36570686078682757,
          0.38153357920187125,
          0.3584319435652394,
          0.3636216110090352,
          0.3455726393954437,
          0.34065316921048416,
          0.33888332097451296,
          0.3322197404371803,
          0.33436992212978073,
          0.3278543350183399,
          0.3440969130904923,
          0.3350198266595201,
          0.3258179797451979,
          0.3318128459543882,
          0.3282176864011887,
          0.33373749518033075,
          0.3372475590043914,
          0.3133134766044844,
          0.3142123560247328,
          0.3236614140380542,
          0.30302504635391375,
          0.29279907898929497,
          0.2975626517977722,
          0.28993136163772576,
          0.3014896953582668,
          0.31473140156743545,
          0.27845182719012385,
          0.26580193552577835,
          0.26126106803676336,
          0.26591192775629463,
          0.27293182168948454,
          0.27936586748786996,
          0.288452087580586,
          0.2978107484678499,
          0.28800639477587214,
          0.30424482072173337,
          0.29262249204520874,
          0.2939530655777036,
          0.3044917419726491,
          0.29387945812306765,
          0.29410113090443546,
          0.29393828481912065,
          0.2956739574673485,
          0.295689960017809,
          0.2984781558537743,
          0.3182757498491942,
          0.31011813046632397,
          0.3277104293433784,
          0.33051053035530553,
          0.3290147754194319,
          0.3409716179791232,
          0.3528536827117061,
          0.35498271766168465,
          0.34819586483637655,
          0.35424715287341296,
          0.34887146086471976,
          0.3588824300500511,
          0.3494233729240615,
          0.3563972859082396,
          0.3817923412794939,
          0.3698512375073289,
          0.37382485408247285,
          0.37956459710224344,
          0.38177034967595264,
          0.3631598946886808,
          0.3674896226562828,
          0.38478223604379913,
          0.39600668880912226,
          0.3873511284920114,
          0.39250299130419974,
          0.41080174354572807,
          0.4248748216334211,
          0.4227500513024652,
          0.4289692953283535,
          0.4301951256427526,
          0.4337709312832482,
          0.43635864538637853,
          0.44169046201564044,
          0.4497508965182649,
          0.45881621157140146,
          0.45987922646416773,
          0.4744982813975945,
          0.4668802429271068,
          0.46136027689091513,
          0.4547786937745564,
          0.47477779612756804,
          0.48074336703491954,
          0.49246462902868704,
          0.4957624503806456,
          0.4859092514058468,
          0.48970397511362074,
          0.48835052290723724,
          0.5085104969909768,
          0.5200674415011066,
          0.517322996855971,
          0.520027522383602,
          0.5302681870387878,
          0.5403413989588636,
          0.5448965193225974,
          0.5465182060443945,
          0.5586559535183327,
          0.5649298652592354,
          0.5576377270696042,
          0.5733560778014991,
          0.5723032990497195,
          0.5863733495906913,
          0.5860300396461143,
          0.59455261329893,
          0.605675256118185,
          0.6031755337843597,
          0.6107459640092768,
          0.6235638592091964,
          0.647144676038643,
          0.6335396816216986,
          0.6394681018209512,
          0.640185198451909,
          0.6584939139501697,
          0.6658231136744651,
          0.6707589475092225,
          0.6789541790442044,
          0.6966543206564914,
          0.7144455803421,
          0.734144448433442,
          0.7535204981427801,
          0.7974347079274846,
          0.8698062687025522,
          1.0028878511896862
         ],
         "yaxis": "y"
        },
        {
         "hovertemplate": "Loss=Train<br>epoch=%{x}<br>value_mean=%{y}<extra></extra>",
         "legendgroup": "Train",
         "line": {
          "color": "#636efa",
          "dash": "solid"
         },
         "marker": {
          "symbol": "circle"
         },
         "mode": "lines",
         "name": "Train",
         "orientation": "v",
         "showlegend": true,
         "type": "scatter",
         "x": [
          0,
          1,
          2,
          3,
          4,
          5,
          6,
          7,
          8,
          9,
          10,
          11,
          12,
          13,
          14,
          15,
          16,
          17,
          18,
          19,
          20,
          21,
          22,
          23,
          24,
          25,
          26,
          27,
          28,
          29,
          30,
          31,
          32,
          33,
          34,
          35,
          36,
          37,
          38,
          39,
          40,
          41,
          42,
          43,
          44,
          45,
          46,
          47,
          48,
          49,
          50,
          51,
          52,
          53,
          54,
          55,
          56,
          57,
          58,
          59,
          60,
          61,
          62,
          63,
          64,
          65,
          66,
          67,
          68,
          69,
          70,
          71,
          72,
          73,
          74,
          75,
          76,
          77,
          78,
          79,
          80,
          81,
          82,
          83,
          84,
          85,
          86,
          87,
          88,
          89,
          90,
          91,
          92,
          93,
          94,
          95,
          96,
          97,
          98,
          99
         ],
         "xaxis": "x",
         "y": [
          1.0085138235336695,
          0.8764677139428946,
          0.8006853568248259,
          0.7623285987438299,
          0.7392507470571078,
          0.717763914511754,
          0.7021415355877999,
          0.6887746697817093,
          0.6818901529678931,
          0.6728786184237553,
          0.662253445539719,
          0.6544497181207706,
          0.6488986626649514,
          0.643078143780048,
          0.6500641520206746,
          0.635067493487627,
          0.6164227173878596,
          0.6166370908419291,
          0.6191660288052682,
          0.6046783228715262,
          0.5968696520878719,
          0.5914855950917953,
          0.59090533776161,
          0.5825596665724729,
          0.5738285245039524,
          0.5722449475373977,
          0.5650144311097952,
          0.5595246767386413,
          0.5575398947948065,
          0.5483576846428407,
          0.5376894481671163,
          0.5271301284814492,
          0.5237334171930949,
          0.525310001312158,
          0.5209170686892975,
          0.5070936519366045,
          0.5085286047214117,
          0.5051541580603672,
          0.5008195248933939,
          0.4979021602716201,
          0.4829673392650409,
          0.4763427605995765,
          0.46207625896502763,
          0.47597028658940244,
          0.4778997531303993,
          0.4783123425948314,
          0.4635365842244565,
          0.4698929534508632,
          0.4644490908353756,
          0.44398222596217424,
          0.4497967125513615,
          0.4437788801315503,
          0.4431080000522809,
          0.4374998922531422,
          0.42455589618438333,
          0.4291554483083579,
          0.4224708844453861,
          0.39726315094874454,
          0.3980033779755617,
          0.41067142440722537,
          0.40497758831733316,
          0.3931016241892791,
          0.39474828961568,
          0.38543654175905084,
          0.39075541419860643,
          0.38614629782163173,
          0.37324174015949935,
          0.38457703819641703,
          0.372583114183866,
          0.3660411101121169,
          0.37615770177963453,
          0.35816688797412777,
          0.36337627126620364,
          0.35695136281160206,
          0.36825814843177795,
          0.35564281313847274,
          0.3522966144940792,
          0.3372937074074378,
          0.33558184978289485,
          0.3332968751589457,
          0.3211689354517521,
          0.32632283598948747,
          0.3131662454360571,
          0.31989343655415065,
          0.3153468920634343,
          0.30987813228215927,
          0.31295698842941183,
          0.3110485722621282,
          0.31911461857648993,
          0.3156003122910475,
          0.30296798432484656,
          0.3092285883732331,
          0.3058339044069632,
          0.3004178974108818,
          0.2906255832849405,
          0.2884642596428211,
          0.28143159166360515,
          0.2837008115572807,
          0.2879962348020994,
          0.2721268813579511
         ],
         "yaxis": "y"
        },
        {
         "fill": "toself",
         "fillcolor": "rgba(239,85,59,.3)",
         "hoverinfo": "skip",
         "legendgroup": "Validation",
         "line": {
          "color": "rgba(255,255,255,0)"
         },
         "showlegend": false,
         "type": "scatter",
         "x": [
          0,
          1,
          2,
          3,
          4,
          5,
          6,
          7,
          8,
          9,
          10,
          11,
          12,
          13,
          14,
          15,
          16,
          17,
          18,
          19,
          20,
          21,
          22,
          23,
          24,
          25,
          26,
          27,
          28,
          29,
          30,
          31,
          32,
          33,
          34,
          35,
          36,
          37,
          38,
          39,
          40,
          41,
          42,
          43,
          44,
          45,
          46,
          47,
          48,
          49,
          50,
          51,
          52,
          53,
          54,
          55,
          56,
          57,
          58,
          59,
          60,
          61,
          62,
          63,
          64,
          65,
          66,
          67,
          68,
          69,
          70,
          71,
          72,
          73,
          74,
          75,
          76,
          77,
          78,
          79,
          80,
          81,
          82,
          83,
          84,
          85,
          86,
          87,
          88,
          89,
          90,
          91,
          92,
          93,
          94,
          95,
          96,
          97,
          98,
          99,
          99,
          98,
          97,
          96,
          95,
          94,
          93,
          92,
          91,
          90,
          89,
          88,
          87,
          86,
          85,
          84,
          83,
          82,
          81,
          80,
          79,
          78,
          77,
          76,
          75,
          74,
          73,
          72,
          71,
          70,
          69,
          68,
          67,
          66,
          65,
          64,
          63,
          62,
          61,
          60,
          59,
          58,
          57,
          56,
          55,
          54,
          53,
          52,
          51,
          50,
          49,
          48,
          47,
          46,
          45,
          44,
          43,
          42,
          41,
          40,
          39,
          38,
          37,
          36,
          35,
          34,
          33,
          32,
          31,
          30,
          29,
          28,
          27,
          26,
          25,
          24,
          23,
          22,
          21,
          20,
          19,
          18,
          17,
          16,
          15,
          14,
          13,
          12,
          11,
          10,
          9,
          8,
          7,
          6,
          5,
          4,
          3,
          2,
          1,
          0
         ],
         "xaxis": "x",
         "y": [
          3.120057294219526,
          1.382054302826527,
          1.2069751238408295,
          1.1995981475475233,
          1.0664893795315982,
          0.8563323476949258,
          0.930498109864264,
          0.9674288240482999,
          0.9146138943745623,
          1.0464180248573414,
          0.8455767705389962,
          0.8724782750932529,
          1.005164517915902,
          1.0429171023187365,
          0.9084590528783145,
          0.9383913660097576,
          0.8476208429066227,
          0.8456587746221241,
          0.9064144636574256,
          0.853538663314485,
          0.8868633764070878,
          0.9675569693720628,
          0.9065626877664995,
          0.9137889791551459,
          0.9174088089040595,
          0.8584859007794374,
          0.9851665047473724,
          0.8933195534793873,
          0.8530782509807863,
          0.9416335125548738,
          0.8761757933924796,
          0.9337742724591315,
          0.9359592781892868,
          0.9022929460715935,
          0.9434155259845389,
          0.8635483160212847,
          1.0615055279652235,
          0.9013862676284766,
          0.9760380861363204,
          0.869364380591411,
          1.0068376042869918,
          0.9383338224433305,
          0.9184277543713241,
          0.895879003712126,
          0.9314385584297612,
          0.9335047228562875,
          0.9301644230484511,
          0.8874431581791622,
          0.9664881749982581,
          0.9698613716597227,
          0.9809477413698692,
          0.9554728826370735,
          0.870197412346944,
          1.077817010029088,
          0.8818256529286991,
          1.2388574844796176,
          0.9547084009268207,
          0.9606987374826326,
          1.0480683620101803,
          0.9746289413289628,
          1.0598611650874519,
          0.9550088528230395,
          1.0661061760589792,
          1.0171782341609883,
          0.9876962940494106,
          0.9706465949407718,
          1.0075194118717807,
          1.057712857151805,
          1.0536941466039744,
          1.072070536258163,
          1.061130392664172,
          0.9803732586232903,
          0.9441629012590722,
          1.243879996504988,
          1.1049222423062122,
          1.0390007358248992,
          1.1198285738062397,
          0.9740154952715556,
          1.0042834516643713,
          0.9981693816661835,
          1.0273434884817754,
          1.088326160064308,
          1.0792935343049925,
          1.047426110960424,
          1.1177628491535898,
          1.215353345422659,
          1.2339202702433083,
          1.0852097110870187,
          1.094215800348944,
          1.040151636705935,
          1.2003401735158887,
          1.0714387561766585,
          1.327020559379978,
          1.085399827884995,
          1.0265992466474996,
          1.0454485307924486,
          1.0997781577202632,
          1.0172309095739396,
          1.1866819243017872,
          1.0344240958522188,
          0.9840486040397344,
          1.0779584296730547,
          0.96921343880674,
          1.0642454005784834,
          0.9894275660238412,
          1.010677975032188,
          0.9443089379169343,
          0.925438592024267,
          0.9704254573126924,
          1.0704558756929796,
          0.9928269547588795,
          1.0092673259280713,
          1.0244113425632466,
          0.9774075550304782,
          0.8775148577859009,
          0.9533995733444776,
          0.9921630840639757,
          0.9571266861154815,
          0.9255760329597367,
          0.9239113278005877,
          0.9736437407652537,
          0.9181261849693653,
          0.9512150078107198,
          0.932776731592974,
          0.9292090133514893,
          0.9365242334493885,
          0.9533027439789773,
          0.8738372904748786,
          0.9253426326698269,
          0.8932889193588094,
          0.9756673914057309,
          0.9384101282820205,
          0.8957805676725006,
          0.8802953540129818,
          0.9005376008502005,
          0.8845542912795544,
          0.9015807655727096,
          0.8978973755150013,
          0.8799808141157422,
          0.924627787640093,
          0.8555437166376509,
          0.8843915316705738,
          0.866673949720911,
          0.8611815536401348,
          0.8139973997588524,
          0.8211969406149441,
          0.8028477756739352,
          0.8599344749073166,
          0.8748653910925233,
          0.8536054890066013,
          0.822479349743127,
          0.8932294779129737,
          0.8581322300934411,
          0.8834628994664007,
          0.8257923982825123,
          0.8571417343173727,
          0.8653492057380052,
          0.8178674461582284,
          0.8252885636716073,
          0.7796648932498038,
          0.8374197371980846,
          0.8000005775915761,
          0.7816693148721628,
          0.7936921344337055,
          0.8020607542116513,
          0.9062215396304336,
          0.8466043225869991,
          0.7947375532414208,
          0.8400304943320759,
          0.8087089080638628,
          0.8621455956288506,
          0.8147224309508455,
          0.7994163796427932,
          0.7710029336147491,
          0.7987911496930038,
          0.8083687546905769,
          0.8039052409336314,
          0.7951515951775893,
          0.8528221686207961,
          0.7959237638033817,
          0.8324912193436105,
          0.8434396639085942,
          0.8228978190911819,
          0.8309847022281488,
          0.8106217059586842,
          0.8343353870278511,
          0.8751056721959611,
          0.8068020829563195,
          0.8030922639725167,
          0.821606571895115,
          0.7739658815070996,
          0.8447093790117117,
          0.8444947025339636,
          0.7941251842394492,
          0.7951894883134185,
          0.8898897843012932,
          0.7702018649047386,
          0.8541789805736109,
          1.1651468197298867,
          2.008252046484529
         ],
         "yaxis": "y"
        },
        {
         "hovertemplate": "Loss=Validation<br>epoch=%{x}<br>value_mean=%{y}<extra></extra>",
         "legendgroup": "Validation",
         "line": {
          "color": "#EF553B",
          "dash": "solid"
         },
         "marker": {
          "symbol": "circle"
         },
         "mode": "lines",
         "name": "Validation",
         "orientation": "v",
         "showlegend": true,
         "type": "scatter",
         "x": [
          0,
          1,
          2,
          3,
          4,
          5,
          6,
          7,
          8,
          9,
          10,
          11,
          12,
          13,
          14,
          15,
          16,
          17,
          18,
          19,
          20,
          21,
          22,
          23,
          24,
          25,
          26,
          27,
          28,
          29,
          30,
          31,
          32,
          33,
          34,
          35,
          36,
          37,
          38,
          39,
          40,
          41,
          42,
          43,
          44,
          45,
          46,
          47,
          48,
          49,
          50,
          51,
          52,
          53,
          54,
          55,
          56,
          57,
          58,
          59,
          60,
          61,
          62,
          63,
          64,
          65,
          66,
          67,
          68,
          69,
          70,
          71,
          72,
          73,
          74,
          75,
          76,
          77,
          78,
          79,
          80,
          81,
          82,
          83,
          84,
          85,
          86,
          87,
          88,
          89,
          90,
          91,
          92,
          93,
          94,
          95,
          96,
          97,
          98,
          99
         ],
         "xaxis": "x",
         "y": [
          2.5641546703520275,
          1.2736005612782069,
          1.0305770522072202,
          0.9849000062261309,
          0.9781895819164457,
          0.8257609180041722,
          0.8623116470518566,
          0.9059617632911318,
          0.879661636693137,
          0.9101919531822205,
          0.8335916712170556,
          0.8377852695328848,
          0.9059833004361106,
          0.9590113872573488,
          0.8713972199530828,
          0.8745065359842209,
          0.8393027725673857,
          0.834278296856653,
          0.8749270637830099,
          0.8430149413290478,
          0.8413935701052347,
          0.9101895689964294,
          0.8508571414720444,
          0.8588471100443886,
          0.8628887817973182,
          0.8286385252362206,
          0.8780847191810608,
          0.8463679665610903,
          0.8339003409658159,
          0.9018895540918622,
          0.8424423507281712,
          0.8869023833956037,
          0.8653484157153538,
          0.8744486343292963,
          0.9248185328074863,
          0.832804535116468,
          0.9275988311994644,
          0.8415277912503197,
          0.8880193318639482,
          0.8533920588947478,
          0.8932512487683978,
          0.8818111930574689,
          0.8681476002647762,
          0.8806141047250656,
          0.894290146373567,
          0.8796485605693999,
          0.9068136612574259,
          0.8727876941363016,
          0.9298588264556159,
          0.8961703607014249,
          0.9172766151882352,
          0.9151691368647984,
          0.8650659436271303,
          0.9403323928515116,
          0.8515112967718216,
          1.026427442119235,
          0.9079449772834778,
          0.9136863436017718,
          0.9662299468403771,
          0.9150863289833069,
          0.9922444763637724,
          0.9174948334693909,
          0.9820017757869902,
          0.9593794998668489,
          0.9361252926644825,
          0.9355920978954861,
          0.9439073829423813,
          0.9767467124121528,
          0.9960521374429975,
          1.023868963831947,
          0.9772096560114907,
          0.9528579456465586,
          0.9090000958669754,
          1.0985913702419827,
          1.0207232378778004,
          0.9841048745881943,
          1.0263026526996069,
          0.9626152515411377,
          0.9612048183168683,
          0.9859065612157186,
          0.9756274081411815,
          1.0069510965120223,
          1.018210110210237,
          1.0197945975121998,
          1.0355812112490337,
          1.04643410160428,
          1.1056639126368932,
          1.0548105268251327,
          1.0517415631385076,
          1.0164892957324072,
          1.1353980246044342,
          1.0209321067446755,
          1.1262295757021226,
          1.0148543829009646,
          1.0186386108398438,
          1.017438048408145,
          1.0820117791493733,
          0.9932221741903398,
          1.132320176987421,
          1.0092363499459767
         ],
         "yaxis": "y"
        }
       ],
       "layout": {
        "font": {
         "size": 18
        },
        "height": 400,
        "hovermode": "x",
        "legend": {
         "title": {
          "text": "Loss"
         },
         "tracegroupgap": 0
        },
        "margin": {
         "t": 60
        },
        "template": {
         "data": {
          "bar": [
           {
            "error_x": {
             "color": "#2a3f5f"
            },
            "error_y": {
             "color": "#2a3f5f"
            },
            "marker": {
             "line": {
              "color": "#E5ECF6",
              "width": 0.5
             },
             "pattern": {
              "fillmode": "overlay",
              "size": 10,
              "solidity": 0.2
             }
            },
            "type": "bar"
           }
          ],
          "barpolar": [
           {
            "marker": {
             "line": {
              "color": "#E5ECF6",
              "width": 0.5
             },
             "pattern": {
              "fillmode": "overlay",
              "size": 10,
              "solidity": 0.2
             }
            },
            "type": "barpolar"
           }
          ],
          "carpet": [
           {
            "aaxis": {
             "endlinecolor": "#2a3f5f",
             "gridcolor": "white",
             "linecolor": "white",
             "minorgridcolor": "white",
             "startlinecolor": "#2a3f5f"
            },
            "baxis": {
             "endlinecolor": "#2a3f5f",
             "gridcolor": "white",
             "linecolor": "white",
             "minorgridcolor": "white",
             "startlinecolor": "#2a3f5f"
            },
            "type": "carpet"
           }
          ],
          "choropleth": [
           {
            "colorbar": {
             "outlinewidth": 0,
             "ticks": ""
            },
            "type": "choropleth"
           }
          ],
          "contour": [
           {
            "colorbar": {
             "outlinewidth": 0,
             "ticks": ""
            },
            "colorscale": [
             [
              0,
              "#0d0887"
             ],
             [
              0.1111111111111111,
              "#46039f"
             ],
             [
              0.2222222222222222,
              "#7201a8"
             ],
             [
              0.3333333333333333,
              "#9c179e"
             ],
             [
              0.4444444444444444,
              "#bd3786"
             ],
             [
              0.5555555555555556,
              "#d8576b"
             ],
             [
              0.6666666666666666,
              "#ed7953"
             ],
             [
              0.7777777777777778,
              "#fb9f3a"
             ],
             [
              0.8888888888888888,
              "#fdca26"
             ],
             [
              1,
              "#f0f921"
             ]
            ],
            "type": "contour"
           }
          ],
          "contourcarpet": [
           {
            "colorbar": {
             "outlinewidth": 0,
             "ticks": ""
            },
            "type": "contourcarpet"
           }
          ],
          "heatmap": [
           {
            "colorbar": {
             "outlinewidth": 0,
             "ticks": ""
            },
            "colorscale": [
             [
              0,
              "#0d0887"
             ],
             [
              0.1111111111111111,
              "#46039f"
             ],
             [
              0.2222222222222222,
              "#7201a8"
             ],
             [
              0.3333333333333333,
              "#9c179e"
             ],
             [
              0.4444444444444444,
              "#bd3786"
             ],
             [
              0.5555555555555556,
              "#d8576b"
             ],
             [
              0.6666666666666666,
              "#ed7953"
             ],
             [
              0.7777777777777778,
              "#fb9f3a"
             ],
             [
              0.8888888888888888,
              "#fdca26"
             ],
             [
              1,
              "#f0f921"
             ]
            ],
            "type": "heatmap"
           }
          ],
          "heatmapgl": [
           {
            "colorbar": {
             "outlinewidth": 0,
             "ticks": ""
            },
            "colorscale": [
             [
              0,
              "#0d0887"
             ],
             [
              0.1111111111111111,
              "#46039f"
             ],
             [
              0.2222222222222222,
              "#7201a8"
             ],
             [
              0.3333333333333333,
              "#9c179e"
             ],
             [
              0.4444444444444444,
              "#bd3786"
             ],
             [
              0.5555555555555556,
              "#d8576b"
             ],
             [
              0.6666666666666666,
              "#ed7953"
             ],
             [
              0.7777777777777778,
              "#fb9f3a"
             ],
             [
              0.8888888888888888,
              "#fdca26"
             ],
             [
              1,
              "#f0f921"
             ]
            ],
            "type": "heatmapgl"
           }
          ],
          "histogram": [
           {
            "marker": {
             "pattern": {
              "fillmode": "overlay",
              "size": 10,
              "solidity": 0.2
             }
            },
            "type": "histogram"
           }
          ],
          "histogram2d": [
           {
            "colorbar": {
             "outlinewidth": 0,
             "ticks": ""
            },
            "colorscale": [
             [
              0,
              "#0d0887"
             ],
             [
              0.1111111111111111,
              "#46039f"
             ],
             [
              0.2222222222222222,
              "#7201a8"
             ],
             [
              0.3333333333333333,
              "#9c179e"
             ],
             [
              0.4444444444444444,
              "#bd3786"
             ],
             [
              0.5555555555555556,
              "#d8576b"
             ],
             [
              0.6666666666666666,
              "#ed7953"
             ],
             [
              0.7777777777777778,
              "#fb9f3a"
             ],
             [
              0.8888888888888888,
              "#fdca26"
             ],
             [
              1,
              "#f0f921"
             ]
            ],
            "type": "histogram2d"
           }
          ],
          "histogram2dcontour": [
           {
            "colorbar": {
             "outlinewidth": 0,
             "ticks": ""
            },
            "colorscale": [
             [
              0,
              "#0d0887"
             ],
             [
              0.1111111111111111,
              "#46039f"
             ],
             [
              0.2222222222222222,
              "#7201a8"
             ],
             [
              0.3333333333333333,
              "#9c179e"
             ],
             [
              0.4444444444444444,
              "#bd3786"
             ],
             [
              0.5555555555555556,
              "#d8576b"
             ],
             [
              0.6666666666666666,
              "#ed7953"
             ],
             [
              0.7777777777777778,
              "#fb9f3a"
             ],
             [
              0.8888888888888888,
              "#fdca26"
             ],
             [
              1,
              "#f0f921"
             ]
            ],
            "type": "histogram2dcontour"
           }
          ],
          "mesh3d": [
           {
            "colorbar": {
             "outlinewidth": 0,
             "ticks": ""
            },
            "type": "mesh3d"
           }
          ],
          "parcoords": [
           {
            "line": {
             "colorbar": {
              "outlinewidth": 0,
              "ticks": ""
             }
            },
            "type": "parcoords"
           }
          ],
          "pie": [
           {
            "automargin": true,
            "type": "pie"
           }
          ],
          "scatter": [
           {
            "fillpattern": {
             "fillmode": "overlay",
             "size": 10,
             "solidity": 0.2
            },
            "type": "scatter"
           }
          ],
          "scatter3d": [
           {
            "line": {
             "colorbar": {
              "outlinewidth": 0,
              "ticks": ""
             }
            },
            "marker": {
             "colorbar": {
              "outlinewidth": 0,
              "ticks": ""
             }
            },
            "type": "scatter3d"
           }
          ],
          "scattercarpet": [
           {
            "marker": {
             "colorbar": {
              "outlinewidth": 0,
              "ticks": ""
             }
            },
            "type": "scattercarpet"
           }
          ],
          "scattergeo": [
           {
            "marker": {
             "colorbar": {
              "outlinewidth": 0,
              "ticks": ""
             }
            },
            "type": "scattergeo"
           }
          ],
          "scattergl": [
           {
            "marker": {
             "colorbar": {
              "outlinewidth": 0,
              "ticks": ""
             }
            },
            "type": "scattergl"
           }
          ],
          "scattermapbox": [
           {
            "marker": {
             "colorbar": {
              "outlinewidth": 0,
              "ticks": ""
             }
            },
            "type": "scattermapbox"
           }
          ],
          "scatterpolar": [
           {
            "marker": {
             "colorbar": {
              "outlinewidth": 0,
              "ticks": ""
             }
            },
            "type": "scatterpolar"
           }
          ],
          "scatterpolargl": [
           {
            "marker": {
             "colorbar": {
              "outlinewidth": 0,
              "ticks": ""
             }
            },
            "type": "scatterpolargl"
           }
          ],
          "scatterternary": [
           {
            "marker": {
             "colorbar": {
              "outlinewidth": 0,
              "ticks": ""
             }
            },
            "type": "scatterternary"
           }
          ],
          "surface": [
           {
            "colorbar": {
             "outlinewidth": 0,
             "ticks": ""
            },
            "colorscale": [
             [
              0,
              "#0d0887"
             ],
             [
              0.1111111111111111,
              "#46039f"
             ],
             [
              0.2222222222222222,
              "#7201a8"
             ],
             [
              0.3333333333333333,
              "#9c179e"
             ],
             [
              0.4444444444444444,
              "#bd3786"
             ],
             [
              0.5555555555555556,
              "#d8576b"
             ],
             [
              0.6666666666666666,
              "#ed7953"
             ],
             [
              0.7777777777777778,
              "#fb9f3a"
             ],
             [
              0.8888888888888888,
              "#fdca26"
             ],
             [
              1,
              "#f0f921"
             ]
            ],
            "type": "surface"
           }
          ],
          "table": [
           {
            "cells": {
             "fill": {
              "color": "#EBF0F8"
             },
             "line": {
              "color": "white"
             }
            },
            "header": {
             "fill": {
              "color": "#C8D4E3"
             },
             "line": {
              "color": "white"
             }
            },
            "type": "table"
           }
          ]
         },
         "layout": {
          "annotationdefaults": {
           "arrowcolor": "#2a3f5f",
           "arrowhead": 0,
           "arrowwidth": 1
          },
          "autotypenumbers": "strict",
          "coloraxis": {
           "colorbar": {
            "outlinewidth": 0,
            "ticks": ""
           }
          },
          "colorscale": {
           "diverging": [
            [
             0,
             "#8e0152"
            ],
            [
             0.1,
             "#c51b7d"
            ],
            [
             0.2,
             "#de77ae"
            ],
            [
             0.3,
             "#f1b6da"
            ],
            [
             0.4,
             "#fde0ef"
            ],
            [
             0.5,
             "#f7f7f7"
            ],
            [
             0.6,
             "#e6f5d0"
            ],
            [
             0.7,
             "#b8e186"
            ],
            [
             0.8,
             "#7fbc41"
            ],
            [
             0.9,
             "#4d9221"
            ],
            [
             1,
             "#276419"
            ]
           ],
           "sequential": [
            [
             0,
             "#0d0887"
            ],
            [
             0.1111111111111111,
             "#46039f"
            ],
            [
             0.2222222222222222,
             "#7201a8"
            ],
            [
             0.3333333333333333,
             "#9c179e"
            ],
            [
             0.4444444444444444,
             "#bd3786"
            ],
            [
             0.5555555555555556,
             "#d8576b"
            ],
            [
             0.6666666666666666,
             "#ed7953"
            ],
            [
             0.7777777777777778,
             "#fb9f3a"
            ],
            [
             0.8888888888888888,
             "#fdca26"
            ],
            [
             1,
             "#f0f921"
            ]
           ],
           "sequentialminus": [
            [
             0,
             "#0d0887"
            ],
            [
             0.1111111111111111,
             "#46039f"
            ],
            [
             0.2222222222222222,
             "#7201a8"
            ],
            [
             0.3333333333333333,
             "#9c179e"
            ],
            [
             0.4444444444444444,
             "#bd3786"
            ],
            [
             0.5555555555555556,
             "#d8576b"
            ],
            [
             0.6666666666666666,
             "#ed7953"
            ],
            [
             0.7777777777777778,
             "#fb9f3a"
            ],
            [
             0.8888888888888888,
             "#fdca26"
            ],
            [
             1,
             "#f0f921"
            ]
           ]
          },
          "colorway": [
           "#636efa",
           "#EF553B",
           "#00cc96",
           "#ab63fa",
           "#FFA15A",
           "#19d3f3",
           "#FF6692",
           "#B6E880",
           "#FF97FF",
           "#FECB52"
          ],
          "font": {
           "color": "#2a3f5f"
          },
          "geo": {
           "bgcolor": "white",
           "lakecolor": "white",
           "landcolor": "#E5ECF6",
           "showlakes": true,
           "showland": true,
           "subunitcolor": "white"
          },
          "hoverlabel": {
           "align": "left"
          },
          "hovermode": "closest",
          "mapbox": {
           "style": "light"
          },
          "paper_bgcolor": "white",
          "plot_bgcolor": "#E5ECF6",
          "polar": {
           "angularaxis": {
            "gridcolor": "white",
            "linecolor": "white",
            "ticks": ""
           },
           "bgcolor": "#E5ECF6",
           "radialaxis": {
            "gridcolor": "white",
            "linecolor": "white",
            "ticks": ""
           }
          },
          "scene": {
           "xaxis": {
            "backgroundcolor": "#E5ECF6",
            "gridcolor": "white",
            "gridwidth": 2,
            "linecolor": "white",
            "showbackground": true,
            "ticks": "",
            "zerolinecolor": "white"
           },
           "yaxis": {
            "backgroundcolor": "#E5ECF6",
            "gridcolor": "white",
            "gridwidth": 2,
            "linecolor": "white",
            "showbackground": true,
            "ticks": "",
            "zerolinecolor": "white"
           },
           "zaxis": {
            "backgroundcolor": "#E5ECF6",
            "gridcolor": "white",
            "gridwidth": 2,
            "linecolor": "white",
            "showbackground": true,
            "ticks": "",
            "zerolinecolor": "white"
           }
          },
          "shapedefaults": {
           "line": {
            "color": "#2a3f5f"
           }
          },
          "ternary": {
           "aaxis": {
            "gridcolor": "white",
            "linecolor": "white",
            "ticks": ""
           },
           "baxis": {
            "gridcolor": "white",
            "linecolor": "white",
            "ticks": ""
           },
           "bgcolor": "#E5ECF6",
           "caxis": {
            "gridcolor": "white",
            "linecolor": "white",
            "ticks": ""
           }
          },
          "title": {
           "x": 0.05
          },
          "xaxis": {
           "automargin": true,
           "gridcolor": "white",
           "linecolor": "white",
           "ticks": "",
           "title": {
            "standoff": 15
           },
           "zerolinecolor": "white",
           "zerolinewidth": 2
          },
          "yaxis": {
           "automargin": true,
           "gridcolor": "white",
           "linecolor": "white",
           "ticks": "",
           "title": {
            "standoff": 15
           },
           "zerolinecolor": "white",
           "zerolinewidth": 2
          }
         }
        },
        "width": 800,
        "xaxis": {
         "anchor": "y",
         "domain": [
          0,
          1
         ],
         "title": {
          "text": "Epoch"
         }
        },
        "yaxis": {
         "anchor": "x",
         "domain": [
          0,
          1
         ],
         "title": {
          "text": "Loss"
         }
        }
       }
      },
      "text/html": [
       "<div>                            <div id=\"a3305fa5-14d0-4f4e-8100-aa3ff198848d\" class=\"plotly-graph-div\" style=\"height:400px; width:800px;\"></div>            <script type=\"text/javascript\">                require([\"plotly\"], function(Plotly) {                    window.PLOTLYENV=window.PLOTLYENV || {};                                    if (document.getElementById(\"a3305fa5-14d0-4f4e-8100-aa3ff198848d\")) {                    Plotly.newPlot(                        \"a3305fa5-14d0-4f4e-8100-aa3ff198848d\",                        [{\"fill\":\"toself\",\"fillcolor\":\"rgba(99,110,250,.3)\",\"hoverinfo\":\"skip\",\"legendgroup\":\"Train\",\"line\":{\"color\":\"rgba(255,255,255,0)\"},\"showlegend\":false,\"x\":[0,1,2,3,4,5,6,7,8,9,10,11,12,13,14,15,16,17,18,19,20,21,22,23,24,25,26,27,28,29,30,31,32,33,34,35,36,37,38,39,40,41,42,43,44,45,46,47,48,49,50,51,52,53,54,55,56,57,58,59,60,61,62,63,64,65,66,67,68,69,70,71,72,73,74,75,76,77,78,79,80,81,82,83,84,85,86,87,88,89,90,91,92,93,94,95,96,97,98,99,99,98,97,96,95,94,93,92,91,90,89,88,87,86,85,84,83,82,81,80,79,78,77,76,75,74,73,72,71,70,69,68,67,66,65,64,63,62,61,60,59,58,57,56,55,54,53,52,51,50,49,48,47,46,45,44,43,42,41,40,39,38,37,36,35,34,33,32,31,30,29,28,27,26,25,24,23,22,21,20,19,18,17,16,15,14,13,12,11,10,9,8,7,6,5,4,3,2,1,0],\"xaxis\":\"x\",\"y\":[1.0141397958776528,0.883129159183237,0.8039360057221672,0.7711366993448796,0.7443570456807737,0.721082248681408,0.7076287505191085,0.6985951605192142,0.6930213584265638,0.6799341231730455,0.6660129771292683,0.6687142377896321,0.6583292235089517,0.6526166059383974,0.6529836280027062,0.6465711277660576,0.6220994707664423,0.6300986478994984,0.6326568014923514,0.6148040324441224,0.6077092645296295,0.5965978405928993,0.6095073764735005,0.5917632553434468,0.5900193219383005,0.5795600298155601,0.5713729087012577,0.572531147432888,0.5701832702670155,0.5563739703268179,0.5451107092954448,0.5342327345792965,0.5301438375302187,0.5305525611232094,0.5333236403876183,0.5258367809659718,0.5273532343292027,0.5243990647148877,0.5058765994061422,0.5033396915145532,0.4851913114951622,0.4779077250715849,0.4693738241554989,0.49058029628788974,0.4889192633336918,0.48212640379206834,0.46719394198474523,0.4809696953303249,0.47914728515248634,0.44627398990870804,0.46323477971634447,0.45378682897985245,0.4560208744618092,0.44603048917793087,0.4263617410663015,0.4334360749832947,0.43414002534504414,0.40202331059328933,0.40865562745911194,0.4253361600053285,0.4251729405908672,0.41871362572227533,0.42633668454267915,0.38910273384214905,0.4019462312949694,0.3984677415607906,0.3766322428116698,0.38736173511334016,0.38876894245949245,0.38265884730017224,0.39343297350921796,0.3674623150835358,0.3725053896589943,0.36570686078682757,0.38153357920187125,0.3584319435652394,0.3636216110090352,0.3455726393954437,0.34065316921048416,0.33888332097451296,0.3322197404371803,0.33436992212978073,0.3278543350183399,0.3440969130904923,0.3350198266595201,0.3258179797451979,0.3318128459543882,0.3282176864011887,0.33373749518033075,0.3372475590043914,0.3133134766044844,0.3142123560247328,0.3236614140380542,0.30302504635391375,0.29279907898929497,0.2975626517977722,0.28993136163772576,0.3014896953582668,0.31473140156743545,0.27845182719012385,0.26580193552577835,0.26126106803676336,0.26591192775629463,0.27293182168948454,0.27936586748786996,0.288452087580586,0.2978107484678499,0.28800639477587214,0.30424482072173337,0.29262249204520874,0.2939530655777036,0.3044917419726491,0.29387945812306765,0.29410113090443546,0.29393828481912065,0.2956739574673485,0.295689960017809,0.2984781558537743,0.3182757498491942,0.31011813046632397,0.3277104293433784,0.33051053035530553,0.3290147754194319,0.3409716179791232,0.3528536827117061,0.35498271766168465,0.34819586483637655,0.35424715287341296,0.34887146086471976,0.3588824300500511,0.3494233729240615,0.3563972859082396,0.3817923412794939,0.3698512375073289,0.37382485408247285,0.37956459710224344,0.38177034967595264,0.3631598946886808,0.3674896226562828,0.38478223604379913,0.39600668880912226,0.3873511284920114,0.39250299130419974,0.41080174354572807,0.4248748216334211,0.4227500513024652,0.4289692953283535,0.4301951256427526,0.4337709312832482,0.43635864538637853,0.44169046201564044,0.4497508965182649,0.45881621157140146,0.45987922646416773,0.4744982813975945,0.4668802429271068,0.46136027689091513,0.4547786937745564,0.47477779612756804,0.48074336703491954,0.49246462902868704,0.4957624503806456,0.4859092514058468,0.48970397511362074,0.48835052290723724,0.5085104969909768,0.5200674415011066,0.517322996855971,0.520027522383602,0.5302681870387878,0.5403413989588636,0.5448965193225974,0.5465182060443945,0.5586559535183327,0.5649298652592354,0.5576377270696042,0.5733560778014991,0.5723032990497195,0.5863733495906913,0.5860300396461143,0.59455261329893,0.605675256118185,0.6031755337843597,0.6107459640092768,0.6235638592091964,0.647144676038643,0.6335396816216986,0.6394681018209512,0.640185198451909,0.6584939139501697,0.6658231136744651,0.6707589475092225,0.6789541790442044,0.6966543206564914,0.7144455803421,0.734144448433442,0.7535204981427801,0.7974347079274846,0.8698062687025522,1.0028878511896862],\"yaxis\":\"y\",\"type\":\"scatter\"},{\"hovertemplate\":\"Loss=Train\\u003cbr\\u003eepoch=%{x}\\u003cbr\\u003evalue_mean=%{y}\\u003cextra\\u003e\\u003c\\u002fextra\\u003e\",\"legendgroup\":\"Train\",\"line\":{\"color\":\"#636efa\",\"dash\":\"solid\"},\"marker\":{\"symbol\":\"circle\"},\"mode\":\"lines\",\"name\":\"Train\",\"orientation\":\"v\",\"showlegend\":true,\"x\":[0,1,2,3,4,5,6,7,8,9,10,11,12,13,14,15,16,17,18,19,20,21,22,23,24,25,26,27,28,29,30,31,32,33,34,35,36,37,38,39,40,41,42,43,44,45,46,47,48,49,50,51,52,53,54,55,56,57,58,59,60,61,62,63,64,65,66,67,68,69,70,71,72,73,74,75,76,77,78,79,80,81,82,83,84,85,86,87,88,89,90,91,92,93,94,95,96,97,98,99],\"xaxis\":\"x\",\"y\":[1.0085138235336695,0.8764677139428946,0.8006853568248259,0.7623285987438299,0.7392507470571078,0.717763914511754,0.7021415355877999,0.6887746697817093,0.6818901529678931,0.6728786184237553,0.662253445539719,0.6544497181207706,0.6488986626649514,0.643078143780048,0.6500641520206746,0.635067493487627,0.6164227173878596,0.6166370908419291,0.6191660288052682,0.6046783228715262,0.5968696520878719,0.5914855950917953,0.59090533776161,0.5825596665724729,0.5738285245039524,0.5722449475373977,0.5650144311097952,0.5595246767386413,0.5575398947948065,0.5483576846428407,0.5376894481671163,0.5271301284814492,0.5237334171930949,0.525310001312158,0.5209170686892975,0.5070936519366045,0.5085286047214117,0.5051541580603672,0.5008195248933939,0.4979021602716201,0.4829673392650409,0.4763427605995765,0.46207625896502763,0.47597028658940244,0.4778997531303993,0.4783123425948314,0.4635365842244565,0.4698929534508632,0.4644490908353756,0.44398222596217424,0.4497967125513615,0.4437788801315503,0.4431080000522809,0.4374998922531422,0.42455589618438333,0.4291554483083579,0.4224708844453861,0.39726315094874454,0.3980033779755617,0.41067142440722537,0.40497758831733316,0.3931016241892791,0.39474828961568,0.38543654175905084,0.39075541419860643,0.38614629782163173,0.37324174015949935,0.38457703819641703,0.372583114183866,0.3660411101121169,0.37615770177963453,0.35816688797412777,0.36337627126620364,0.35695136281160206,0.36825814843177795,0.35564281313847274,0.3522966144940792,0.3372937074074378,0.33558184978289485,0.3332968751589457,0.3211689354517521,0.32632283598948747,0.3131662454360571,0.31989343655415065,0.3153468920634343,0.30987813228215927,0.31295698842941183,0.3110485722621282,0.31911461857648993,0.3156003122910475,0.30296798432484656,0.3092285883732331,0.3058339044069632,0.3004178974108818,0.2906255832849405,0.2884642596428211,0.28143159166360515,0.2837008115572807,0.2879962348020994,0.2721268813579511],\"yaxis\":\"y\",\"type\":\"scatter\"},{\"fill\":\"toself\",\"fillcolor\":\"rgba(239,85,59,.3)\",\"hoverinfo\":\"skip\",\"legendgroup\":\"Validation\",\"line\":{\"color\":\"rgba(255,255,255,0)\"},\"showlegend\":false,\"x\":[0,1,2,3,4,5,6,7,8,9,10,11,12,13,14,15,16,17,18,19,20,21,22,23,24,25,26,27,28,29,30,31,32,33,34,35,36,37,38,39,40,41,42,43,44,45,46,47,48,49,50,51,52,53,54,55,56,57,58,59,60,61,62,63,64,65,66,67,68,69,70,71,72,73,74,75,76,77,78,79,80,81,82,83,84,85,86,87,88,89,90,91,92,93,94,95,96,97,98,99,99,98,97,96,95,94,93,92,91,90,89,88,87,86,85,84,83,82,81,80,79,78,77,76,75,74,73,72,71,70,69,68,67,66,65,64,63,62,61,60,59,58,57,56,55,54,53,52,51,50,49,48,47,46,45,44,43,42,41,40,39,38,37,36,35,34,33,32,31,30,29,28,27,26,25,24,23,22,21,20,19,18,17,16,15,14,13,12,11,10,9,8,7,6,5,4,3,2,1,0],\"xaxis\":\"x\",\"y\":[3.120057294219526,1.382054302826527,1.2069751238408295,1.1995981475475233,1.0664893795315982,0.8563323476949258,0.930498109864264,0.9674288240482999,0.9146138943745623,1.0464180248573414,0.8455767705389962,0.8724782750932529,1.005164517915902,1.0429171023187365,0.9084590528783145,0.9383913660097576,0.8476208429066227,0.8456587746221241,0.9064144636574256,0.853538663314485,0.8868633764070878,0.9675569693720628,0.9065626877664995,0.9137889791551459,0.9174088089040595,0.8584859007794374,0.9851665047473724,0.8933195534793873,0.8530782509807863,0.9416335125548738,0.8761757933924796,0.9337742724591315,0.9359592781892868,0.9022929460715935,0.9434155259845389,0.8635483160212847,1.0615055279652235,0.9013862676284766,0.9760380861363204,0.869364380591411,1.0068376042869918,0.9383338224433305,0.9184277543713241,0.895879003712126,0.9314385584297612,0.9335047228562875,0.9301644230484511,0.8874431581791622,0.9664881749982581,0.9698613716597227,0.9809477413698692,0.9554728826370735,0.870197412346944,1.077817010029088,0.8818256529286991,1.2388574844796176,0.9547084009268207,0.9606987374826326,1.0480683620101803,0.9746289413289628,1.0598611650874519,0.9550088528230395,1.0661061760589792,1.0171782341609883,0.9876962940494106,0.9706465949407718,1.0075194118717807,1.057712857151805,1.0536941466039744,1.072070536258163,1.061130392664172,0.9803732586232903,0.9441629012590722,1.243879996504988,1.1049222423062122,1.0390007358248992,1.1198285738062397,0.9740154952715556,1.0042834516643713,0.9981693816661835,1.0273434884817754,1.088326160064308,1.0792935343049925,1.047426110960424,1.1177628491535898,1.215353345422659,1.2339202702433083,1.0852097110870187,1.094215800348944,1.040151636705935,1.2003401735158887,1.0714387561766585,1.327020559379978,1.085399827884995,1.0265992466474996,1.0454485307924486,1.0997781577202632,1.0172309095739396,1.1866819243017872,1.0344240958522188,0.9840486040397344,1.0779584296730547,0.96921343880674,1.0642454005784834,0.9894275660238412,1.010677975032188,0.9443089379169343,0.925438592024267,0.9704254573126924,1.0704558756929796,0.9928269547588795,1.0092673259280713,1.0244113425632466,0.9774075550304782,0.8775148577859009,0.9533995733444776,0.9921630840639757,0.9571266861154815,0.9255760329597367,0.9239113278005877,0.9736437407652537,0.9181261849693653,0.9512150078107198,0.932776731592974,0.9292090133514893,0.9365242334493885,0.9533027439789773,0.8738372904748786,0.9253426326698269,0.8932889193588094,0.9756673914057309,0.9384101282820205,0.8957805676725006,0.8802953540129818,0.9005376008502005,0.8845542912795544,0.9015807655727096,0.8978973755150013,0.8799808141157422,0.924627787640093,0.8555437166376509,0.8843915316705738,0.866673949720911,0.8611815536401348,0.8139973997588524,0.8211969406149441,0.8028477756739352,0.8599344749073166,0.8748653910925233,0.8536054890066013,0.822479349743127,0.8932294779129737,0.8581322300934411,0.8834628994664007,0.8257923982825123,0.8571417343173727,0.8653492057380052,0.8178674461582284,0.8252885636716073,0.7796648932498038,0.8374197371980846,0.8000005775915761,0.7816693148721628,0.7936921344337055,0.8020607542116513,0.9062215396304336,0.8466043225869991,0.7947375532414208,0.8400304943320759,0.8087089080638628,0.8621455956288506,0.8147224309508455,0.7994163796427932,0.7710029336147491,0.7987911496930038,0.8083687546905769,0.8039052409336314,0.7951515951775893,0.8528221686207961,0.7959237638033817,0.8324912193436105,0.8434396639085942,0.8228978190911819,0.8309847022281488,0.8106217059586842,0.8343353870278511,0.8751056721959611,0.8068020829563195,0.8030922639725167,0.821606571895115,0.7739658815070996,0.8447093790117117,0.8444947025339636,0.7941251842394492,0.7951894883134185,0.8898897843012932,0.7702018649047386,0.8541789805736109,1.1651468197298867,2.008252046484529],\"yaxis\":\"y\",\"type\":\"scatter\"},{\"hovertemplate\":\"Loss=Validation\\u003cbr\\u003eepoch=%{x}\\u003cbr\\u003evalue_mean=%{y}\\u003cextra\\u003e\\u003c\\u002fextra\\u003e\",\"legendgroup\":\"Validation\",\"line\":{\"color\":\"#EF553B\",\"dash\":\"solid\"},\"marker\":{\"symbol\":\"circle\"},\"mode\":\"lines\",\"name\":\"Validation\",\"orientation\":\"v\",\"showlegend\":true,\"x\":[0,1,2,3,4,5,6,7,8,9,10,11,12,13,14,15,16,17,18,19,20,21,22,23,24,25,26,27,28,29,30,31,32,33,34,35,36,37,38,39,40,41,42,43,44,45,46,47,48,49,50,51,52,53,54,55,56,57,58,59,60,61,62,63,64,65,66,67,68,69,70,71,72,73,74,75,76,77,78,79,80,81,82,83,84,85,86,87,88,89,90,91,92,93,94,95,96,97,98,99],\"xaxis\":\"x\",\"y\":[2.5641546703520275,1.2736005612782069,1.0305770522072202,0.9849000062261309,0.9781895819164457,0.8257609180041722,0.8623116470518566,0.9059617632911318,0.879661636693137,0.9101919531822205,0.8335916712170556,0.8377852695328848,0.9059833004361106,0.9590113872573488,0.8713972199530828,0.8745065359842209,0.8393027725673857,0.834278296856653,0.8749270637830099,0.8430149413290478,0.8413935701052347,0.9101895689964294,0.8508571414720444,0.8588471100443886,0.8628887817973182,0.8286385252362206,0.8780847191810608,0.8463679665610903,0.8339003409658159,0.9018895540918622,0.8424423507281712,0.8869023833956037,0.8653484157153538,0.8744486343292963,0.9248185328074863,0.832804535116468,0.9275988311994644,0.8415277912503197,0.8880193318639482,0.8533920588947478,0.8932512487683978,0.8818111930574689,0.8681476002647762,0.8806141047250656,0.894290146373567,0.8796485605693999,0.9068136612574259,0.8727876941363016,0.9298588264556159,0.8961703607014249,0.9172766151882352,0.9151691368647984,0.8650659436271303,0.9403323928515116,0.8515112967718216,1.026427442119235,0.9079449772834778,0.9136863436017718,0.9662299468403771,0.9150863289833069,0.9922444763637724,0.9174948334693909,0.9820017757869902,0.9593794998668489,0.9361252926644825,0.9355920978954861,0.9439073829423813,0.9767467124121528,0.9960521374429975,1.023868963831947,0.9772096560114907,0.9528579456465586,0.9090000958669754,1.0985913702419827,1.0207232378778004,0.9841048745881943,1.0263026526996069,0.9626152515411377,0.9612048183168683,0.9859065612157186,0.9756274081411815,1.0069510965120223,1.018210110210237,1.0197945975121998,1.0355812112490337,1.04643410160428,1.1056639126368932,1.0548105268251327,1.0517415631385076,1.0164892957324072,1.1353980246044342,1.0209321067446755,1.1262295757021226,1.0148543829009646,1.0186386108398438,1.017438048408145,1.0820117791493733,0.9932221741903398,1.132320176987421,1.0092363499459767],\"yaxis\":\"y\",\"type\":\"scatter\"}],                        {\"template\":{\"data\":{\"histogram2dcontour\":[{\"type\":\"histogram2dcontour\",\"colorbar\":{\"outlinewidth\":0,\"ticks\":\"\"},\"colorscale\":[[0.0,\"#0d0887\"],[0.1111111111111111,\"#46039f\"],[0.2222222222222222,\"#7201a8\"],[0.3333333333333333,\"#9c179e\"],[0.4444444444444444,\"#bd3786\"],[0.5555555555555556,\"#d8576b\"],[0.6666666666666666,\"#ed7953\"],[0.7777777777777778,\"#fb9f3a\"],[0.8888888888888888,\"#fdca26\"],[1.0,\"#f0f921\"]]}],\"choropleth\":[{\"type\":\"choropleth\",\"colorbar\":{\"outlinewidth\":0,\"ticks\":\"\"}}],\"histogram2d\":[{\"type\":\"histogram2d\",\"colorbar\":{\"outlinewidth\":0,\"ticks\":\"\"},\"colorscale\":[[0.0,\"#0d0887\"],[0.1111111111111111,\"#46039f\"],[0.2222222222222222,\"#7201a8\"],[0.3333333333333333,\"#9c179e\"],[0.4444444444444444,\"#bd3786\"],[0.5555555555555556,\"#d8576b\"],[0.6666666666666666,\"#ed7953\"],[0.7777777777777778,\"#fb9f3a\"],[0.8888888888888888,\"#fdca26\"],[1.0,\"#f0f921\"]]}],\"heatmap\":[{\"type\":\"heatmap\",\"colorbar\":{\"outlinewidth\":0,\"ticks\":\"\"},\"colorscale\":[[0.0,\"#0d0887\"],[0.1111111111111111,\"#46039f\"],[0.2222222222222222,\"#7201a8\"],[0.3333333333333333,\"#9c179e\"],[0.4444444444444444,\"#bd3786\"],[0.5555555555555556,\"#d8576b\"],[0.6666666666666666,\"#ed7953\"],[0.7777777777777778,\"#fb9f3a\"],[0.8888888888888888,\"#fdca26\"],[1.0,\"#f0f921\"]]}],\"heatmapgl\":[{\"type\":\"heatmapgl\",\"colorbar\":{\"outlinewidth\":0,\"ticks\":\"\"},\"colorscale\":[[0.0,\"#0d0887\"],[0.1111111111111111,\"#46039f\"],[0.2222222222222222,\"#7201a8\"],[0.3333333333333333,\"#9c179e\"],[0.4444444444444444,\"#bd3786\"],[0.5555555555555556,\"#d8576b\"],[0.6666666666666666,\"#ed7953\"],[0.7777777777777778,\"#fb9f3a\"],[0.8888888888888888,\"#fdca26\"],[1.0,\"#f0f921\"]]}],\"contourcarpet\":[{\"type\":\"contourcarpet\",\"colorbar\":{\"outlinewidth\":0,\"ticks\":\"\"}}],\"contour\":[{\"type\":\"contour\",\"colorbar\":{\"outlinewidth\":0,\"ticks\":\"\"},\"colorscale\":[[0.0,\"#0d0887\"],[0.1111111111111111,\"#46039f\"],[0.2222222222222222,\"#7201a8\"],[0.3333333333333333,\"#9c179e\"],[0.4444444444444444,\"#bd3786\"],[0.5555555555555556,\"#d8576b\"],[0.6666666666666666,\"#ed7953\"],[0.7777777777777778,\"#fb9f3a\"],[0.8888888888888888,\"#fdca26\"],[1.0,\"#f0f921\"]]}],\"surface\":[{\"type\":\"surface\",\"colorbar\":{\"outlinewidth\":0,\"ticks\":\"\"},\"colorscale\":[[0.0,\"#0d0887\"],[0.1111111111111111,\"#46039f\"],[0.2222222222222222,\"#7201a8\"],[0.3333333333333333,\"#9c179e\"],[0.4444444444444444,\"#bd3786\"],[0.5555555555555556,\"#d8576b\"],[0.6666666666666666,\"#ed7953\"],[0.7777777777777778,\"#fb9f3a\"],[0.8888888888888888,\"#fdca26\"],[1.0,\"#f0f921\"]]}],\"mesh3d\":[{\"type\":\"mesh3d\",\"colorbar\":{\"outlinewidth\":0,\"ticks\":\"\"}}],\"scatter\":[{\"fillpattern\":{\"fillmode\":\"overlay\",\"size\":10,\"solidity\":0.2},\"type\":\"scatter\"}],\"parcoords\":[{\"type\":\"parcoords\",\"line\":{\"colorbar\":{\"outlinewidth\":0,\"ticks\":\"\"}}}],\"scatterpolargl\":[{\"type\":\"scatterpolargl\",\"marker\":{\"colorbar\":{\"outlinewidth\":0,\"ticks\":\"\"}}}],\"bar\":[{\"error_x\":{\"color\":\"#2a3f5f\"},\"error_y\":{\"color\":\"#2a3f5f\"},\"marker\":{\"line\":{\"color\":\"#E5ECF6\",\"width\":0.5},\"pattern\":{\"fillmode\":\"overlay\",\"size\":10,\"solidity\":0.2}},\"type\":\"bar\"}],\"scattergeo\":[{\"type\":\"scattergeo\",\"marker\":{\"colorbar\":{\"outlinewidth\":0,\"ticks\":\"\"}}}],\"scatterpolar\":[{\"type\":\"scatterpolar\",\"marker\":{\"colorbar\":{\"outlinewidth\":0,\"ticks\":\"\"}}}],\"histogram\":[{\"marker\":{\"pattern\":{\"fillmode\":\"overlay\",\"size\":10,\"solidity\":0.2}},\"type\":\"histogram\"}],\"scattergl\":[{\"type\":\"scattergl\",\"marker\":{\"colorbar\":{\"outlinewidth\":0,\"ticks\":\"\"}}}],\"scatter3d\":[{\"type\":\"scatter3d\",\"line\":{\"colorbar\":{\"outlinewidth\":0,\"ticks\":\"\"}},\"marker\":{\"colorbar\":{\"outlinewidth\":0,\"ticks\":\"\"}}}],\"scattermapbox\":[{\"type\":\"scattermapbox\",\"marker\":{\"colorbar\":{\"outlinewidth\":0,\"ticks\":\"\"}}}],\"scatterternary\":[{\"type\":\"scatterternary\",\"marker\":{\"colorbar\":{\"outlinewidth\":0,\"ticks\":\"\"}}}],\"scattercarpet\":[{\"type\":\"scattercarpet\",\"marker\":{\"colorbar\":{\"outlinewidth\":0,\"ticks\":\"\"}}}],\"carpet\":[{\"aaxis\":{\"endlinecolor\":\"#2a3f5f\",\"gridcolor\":\"white\",\"linecolor\":\"white\",\"minorgridcolor\":\"white\",\"startlinecolor\":\"#2a3f5f\"},\"baxis\":{\"endlinecolor\":\"#2a3f5f\",\"gridcolor\":\"white\",\"linecolor\":\"white\",\"minorgridcolor\":\"white\",\"startlinecolor\":\"#2a3f5f\"},\"type\":\"carpet\"}],\"table\":[{\"cells\":{\"fill\":{\"color\":\"#EBF0F8\"},\"line\":{\"color\":\"white\"}},\"header\":{\"fill\":{\"color\":\"#C8D4E3\"},\"line\":{\"color\":\"white\"}},\"type\":\"table\"}],\"barpolar\":[{\"marker\":{\"line\":{\"color\":\"#E5ECF6\",\"width\":0.5},\"pattern\":{\"fillmode\":\"overlay\",\"size\":10,\"solidity\":0.2}},\"type\":\"barpolar\"}],\"pie\":[{\"automargin\":true,\"type\":\"pie\"}]},\"layout\":{\"autotypenumbers\":\"strict\",\"colorway\":[\"#636efa\",\"#EF553B\",\"#00cc96\",\"#ab63fa\",\"#FFA15A\",\"#19d3f3\",\"#FF6692\",\"#B6E880\",\"#FF97FF\",\"#FECB52\"],\"font\":{\"color\":\"#2a3f5f\"},\"hovermode\":\"closest\",\"hoverlabel\":{\"align\":\"left\"},\"paper_bgcolor\":\"white\",\"plot_bgcolor\":\"#E5ECF6\",\"polar\":{\"bgcolor\":\"#E5ECF6\",\"angularaxis\":{\"gridcolor\":\"white\",\"linecolor\":\"white\",\"ticks\":\"\"},\"radialaxis\":{\"gridcolor\":\"white\",\"linecolor\":\"white\",\"ticks\":\"\"}},\"ternary\":{\"bgcolor\":\"#E5ECF6\",\"aaxis\":{\"gridcolor\":\"white\",\"linecolor\":\"white\",\"ticks\":\"\"},\"baxis\":{\"gridcolor\":\"white\",\"linecolor\":\"white\",\"ticks\":\"\"},\"caxis\":{\"gridcolor\":\"white\",\"linecolor\":\"white\",\"ticks\":\"\"}},\"coloraxis\":{\"colorbar\":{\"outlinewidth\":0,\"ticks\":\"\"}},\"colorscale\":{\"sequential\":[[0.0,\"#0d0887\"],[0.1111111111111111,\"#46039f\"],[0.2222222222222222,\"#7201a8\"],[0.3333333333333333,\"#9c179e\"],[0.4444444444444444,\"#bd3786\"],[0.5555555555555556,\"#d8576b\"],[0.6666666666666666,\"#ed7953\"],[0.7777777777777778,\"#fb9f3a\"],[0.8888888888888888,\"#fdca26\"],[1.0,\"#f0f921\"]],\"sequentialminus\":[[0.0,\"#0d0887\"],[0.1111111111111111,\"#46039f\"],[0.2222222222222222,\"#7201a8\"],[0.3333333333333333,\"#9c179e\"],[0.4444444444444444,\"#bd3786\"],[0.5555555555555556,\"#d8576b\"],[0.6666666666666666,\"#ed7953\"],[0.7777777777777778,\"#fb9f3a\"],[0.8888888888888888,\"#fdca26\"],[1.0,\"#f0f921\"]],\"diverging\":[[0,\"#8e0152\"],[0.1,\"#c51b7d\"],[0.2,\"#de77ae\"],[0.3,\"#f1b6da\"],[0.4,\"#fde0ef\"],[0.5,\"#f7f7f7\"],[0.6,\"#e6f5d0\"],[0.7,\"#b8e186\"],[0.8,\"#7fbc41\"],[0.9,\"#4d9221\"],[1,\"#276419\"]]},\"xaxis\":{\"gridcolor\":\"white\",\"linecolor\":\"white\",\"ticks\":\"\",\"title\":{\"standoff\":15},\"zerolinecolor\":\"white\",\"automargin\":true,\"zerolinewidth\":2},\"yaxis\":{\"gridcolor\":\"white\",\"linecolor\":\"white\",\"ticks\":\"\",\"title\":{\"standoff\":15},\"zerolinecolor\":\"white\",\"automargin\":true,\"zerolinewidth\":2},\"scene\":{\"xaxis\":{\"backgroundcolor\":\"#E5ECF6\",\"gridcolor\":\"white\",\"linecolor\":\"white\",\"showbackground\":true,\"ticks\":\"\",\"zerolinecolor\":\"white\",\"gridwidth\":2},\"yaxis\":{\"backgroundcolor\":\"#E5ECF6\",\"gridcolor\":\"white\",\"linecolor\":\"white\",\"showbackground\":true,\"ticks\":\"\",\"zerolinecolor\":\"white\",\"gridwidth\":2},\"zaxis\":{\"backgroundcolor\":\"#E5ECF6\",\"gridcolor\":\"white\",\"linecolor\":\"white\",\"showbackground\":true,\"ticks\":\"\",\"zerolinecolor\":\"white\",\"gridwidth\":2}},\"shapedefaults\":{\"line\":{\"color\":\"#2a3f5f\"}},\"annotationdefaults\":{\"arrowcolor\":\"#2a3f5f\",\"arrowhead\":0,\"arrowwidth\":1},\"geo\":{\"bgcolor\":\"white\",\"landcolor\":\"#E5ECF6\",\"subunitcolor\":\"white\",\"showland\":true,\"showlakes\":true,\"lakecolor\":\"white\"},\"title\":{\"x\":0.05},\"mapbox\":{\"style\":\"light\"}}},\"xaxis\":{\"anchor\":\"y\",\"domain\":[0.0,1.0],\"title\":{\"text\":\"Epoch\"}},\"yaxis\":{\"anchor\":\"x\",\"domain\":[0.0,1.0],\"title\":{\"text\":\"Loss\"}},\"legend\":{\"title\":{\"text\":\"Loss\"},\"tracegroupgap\":0},\"margin\":{\"t\":60},\"font\":{\"size\":18},\"width\":800,\"height\":400,\"hovermode\":\"x\"},                        {\"responsive\": true}                    ).then(function(){\n",
       "                            \n",
       "var gd = document.getElementById('a3305fa5-14d0-4f4e-8100-aa3ff198848d');\n",
       "var x = new MutationObserver(function (mutations, observer) {{\n",
       "        var display = window.getComputedStyle(gd).display;\n",
       "        if (!display || display === 'none') {{\n",
       "            console.log([gd, 'removed!']);\n",
       "            Plotly.purge(gd);\n",
       "            observer.disconnect();\n",
       "        }}\n",
       "}});\n",
       "\n",
       "// Listen for the removal of the full notebook cells\n",
       "var notebookContainer = gd.closest('#notebook-container');\n",
       "if (notebookContainer) {{\n",
       "    x.observe(notebookContainer, {childList: true});\n",
       "}}\n",
       "\n",
       "// Listen for the clearing of the current output cell\n",
       "var outputEl = gd.closest('.output');\n",
       "if (outputEl) {{\n",
       "    x.observe(outputEl, {childList: true});\n",
       "}}\n",
       "\n",
       "                        })                };                });            </script>        </div>"
      ]
     },
     "metadata": {},
     "output_type": "display_data"
    }
   ],
   "source": [
    "\n",
    "\n",
    "    \n",
    "fig = line_plot_for_multi_columns(df,\n",
    "                                    x_axis='epoch',\n",
    "                                    y_axiss = ['train_loss', 'val_loss'],\n",
    "                                    x_axis_title = 'Epoch',\n",
    "                                    y_axis_title = 'Loss',\n",
    "                                    legend_title = 'Loss',\n",
    "                                    legend_names={\n",
    "                                        'train_loss': 'Train',\n",
    "                                        'val_loss': 'Validation'\n",
    "                                    })\n",
    "fig.show()\n"
   ]
  },
  {
   "cell_type": "code",
   "execution_count": null,
   "metadata": {},
   "outputs": [
    {
     "data": {
      "application/vnd.plotly.v1+json": {
       "config": {
        "plotlyServerURL": "https://plot.ly"
       },
       "data": [
        {
         "fill": "toself",
         "fillcolor": "rgba(99,110,250,.3)",
         "hoverinfo": "skip",
         "legendgroup": "Non-split",
         "line": {
          "color": "rgba(255,255,255,0)"
         },
         "showlegend": false,
         "type": "scatter",
         "x": [
          0,
          1,
          2,
          3,
          4,
          5,
          6,
          7,
          8,
          9,
          10,
          11,
          12,
          13,
          14,
          15,
          16,
          17,
          18,
          19,
          20,
          21,
          22,
          23,
          24,
          25,
          26,
          27,
          28,
          29,
          30,
          31,
          32,
          33,
          34,
          35,
          36,
          37,
          38,
          39,
          40,
          41,
          42,
          43,
          44,
          45,
          46,
          47,
          48,
          49,
          50,
          51,
          52,
          53,
          54,
          55,
          56,
          57,
          58,
          59,
          60,
          61,
          62,
          63,
          64,
          65,
          66,
          67,
          68,
          69,
          70,
          71,
          72,
          73,
          74,
          75,
          76,
          77,
          78,
          79,
          80,
          81,
          82,
          83,
          84,
          85,
          86,
          87,
          88,
          89,
          90,
          91,
          92,
          93,
          94,
          95,
          96,
          97,
          98,
          99,
          99,
          98,
          97,
          96,
          95,
          94,
          93,
          92,
          91,
          90,
          89,
          88,
          87,
          86,
          85,
          84,
          83,
          82,
          81,
          80,
          79,
          78,
          77,
          76,
          75,
          74,
          73,
          72,
          71,
          70,
          69,
          68,
          67,
          66,
          65,
          64,
          63,
          62,
          61,
          60,
          59,
          58,
          57,
          56,
          55,
          54,
          53,
          52,
          51,
          50,
          49,
          48,
          47,
          46,
          45,
          44,
          43,
          42,
          41,
          40,
          39,
          38,
          37,
          36,
          35,
          34,
          33,
          32,
          31,
          30,
          29,
          28,
          27,
          26,
          25,
          24,
          23,
          22,
          21,
          20,
          19,
          18,
          17,
          16,
          15,
          14,
          13,
          12,
          11,
          10,
          9,
          8,
          7,
          6,
          5,
          4,
          3,
          2,
          1,
          0
         ],
         "xaxis": "x",
         "y": [
          1.0141397958776528,
          0.883129159183237,
          0.8039360057221672,
          0.7711366993448796,
          0.7443570456807737,
          0.721082248681408,
          0.7076287505191085,
          0.6985951605192142,
          0.6930213584265638,
          0.6799341231730455,
          0.6660129771292683,
          0.6687142377896321,
          0.6583292235089517,
          0.6526166059383974,
          0.6529836280027062,
          0.6465711277660576,
          0.6220994707664423,
          0.6300986478994984,
          0.6326568014923514,
          0.6148040324441224,
          0.6077092645296295,
          0.5965978405928993,
          0.6095073764735005,
          0.5917632553434468,
          0.5900193219383005,
          0.5795600298155601,
          0.5713729087012577,
          0.572531147432888,
          0.5701832702670155,
          0.5563739703268179,
          0.5451107092954448,
          0.5342327345792965,
          0.5301438375302187,
          0.5305525611232094,
          0.5333236403876183,
          0.5258367809659718,
          0.5273532343292027,
          0.5243990647148877,
          0.5058765994061422,
          0.5033396915145532,
          0.4851913114951622,
          0.4779077250715849,
          0.4693738241554989,
          0.49058029628788974,
          0.4889192633336918,
          0.48212640379206834,
          0.46719394198474523,
          0.4809696953303249,
          0.47914728515248634,
          0.44627398990870804,
          0.46323477971634447,
          0.45378682897985245,
          0.4560208744618092,
          0.44603048917793087,
          0.4263617410663015,
          0.4334360749832947,
          0.43414002534504414,
          0.40202331059328933,
          0.40865562745911194,
          0.4253361600053285,
          0.4251729405908672,
          0.41871362572227533,
          0.42633668454267915,
          0.38910273384214905,
          0.4019462312949694,
          0.3984677415607906,
          0.3766322428116698,
          0.38736173511334016,
          0.38876894245949245,
          0.38265884730017224,
          0.39343297350921796,
          0.3674623150835358,
          0.3725053896589943,
          0.36570686078682757,
          0.38153357920187125,
          0.3584319435652394,
          0.3636216110090352,
          0.3455726393954437,
          0.34065316921048416,
          0.33888332097451296,
          0.3322197404371803,
          0.33436992212978073,
          0.3278543350183399,
          0.3440969130904923,
          0.3350198266595201,
          0.3258179797451979,
          0.3318128459543882,
          0.3282176864011887,
          0.33373749518033075,
          0.3372475590043914,
          0.3133134766044844,
          0.3142123560247328,
          0.3236614140380542,
          0.30302504635391375,
          0.29279907898929497,
          0.2975626517977722,
          0.28993136163772576,
          0.3014896953582668,
          0.31473140156743545,
          0.27845182719012385,
          0.26580193552577835,
          0.26126106803676336,
          0.26591192775629463,
          0.27293182168948454,
          0.27936586748786996,
          0.288452087580586,
          0.2978107484678499,
          0.28800639477587214,
          0.30424482072173337,
          0.29262249204520874,
          0.2939530655777036,
          0.3044917419726491,
          0.29387945812306765,
          0.29410113090443546,
          0.29393828481912065,
          0.2956739574673485,
          0.295689960017809,
          0.2984781558537743,
          0.3182757498491942,
          0.31011813046632397,
          0.3277104293433784,
          0.33051053035530553,
          0.3290147754194319,
          0.3409716179791232,
          0.3528536827117061,
          0.35498271766168465,
          0.34819586483637655,
          0.35424715287341296,
          0.34887146086471976,
          0.3588824300500511,
          0.3494233729240615,
          0.3563972859082396,
          0.3817923412794939,
          0.3698512375073289,
          0.37382485408247285,
          0.37956459710224344,
          0.38177034967595264,
          0.3631598946886808,
          0.3674896226562828,
          0.38478223604379913,
          0.39600668880912226,
          0.3873511284920114,
          0.39250299130419974,
          0.41080174354572807,
          0.4248748216334211,
          0.4227500513024652,
          0.4289692953283535,
          0.4301951256427526,
          0.4337709312832482,
          0.43635864538637853,
          0.44169046201564044,
          0.4497508965182649,
          0.45881621157140146,
          0.45987922646416773,
          0.4744982813975945,
          0.4668802429271068,
          0.46136027689091513,
          0.4547786937745564,
          0.47477779612756804,
          0.48074336703491954,
          0.49246462902868704,
          0.4957624503806456,
          0.4859092514058468,
          0.48970397511362074,
          0.48835052290723724,
          0.5085104969909768,
          0.5200674415011066,
          0.517322996855971,
          0.520027522383602,
          0.5302681870387878,
          0.5403413989588636,
          0.5448965193225974,
          0.5465182060443945,
          0.5586559535183327,
          0.5649298652592354,
          0.5576377270696042,
          0.5733560778014991,
          0.5723032990497195,
          0.5863733495906913,
          0.5860300396461143,
          0.59455261329893,
          0.605675256118185,
          0.6031755337843597,
          0.6107459640092768,
          0.6235638592091964,
          0.647144676038643,
          0.6335396816216986,
          0.6394681018209512,
          0.640185198451909,
          0.6584939139501697,
          0.6658231136744651,
          0.6707589475092225,
          0.6789541790442044,
          0.6966543206564914,
          0.7144455803421,
          0.734144448433442,
          0.7535204981427801,
          0.7974347079274846,
          0.8698062687025522,
          1.0028878511896862
         ],
         "yaxis": "y"
        },
        {
         "hovertemplate": "architecture_choice=Non-split<br>epoch=%{x}<br>train_loss_mean=%{y}<extra></extra>",
         "legendgroup": "Non-split",
         "line": {
          "color": "#636efa",
          "dash": "solid"
         },
         "marker": {
          "symbol": "circle"
         },
         "mode": "lines",
         "name": "Non-split",
         "orientation": "v",
         "showlegend": true,
         "type": "scatter",
         "x": [
          0,
          1,
          2,
          3,
          4,
          5,
          6,
          7,
          8,
          9,
          10,
          11,
          12,
          13,
          14,
          15,
          16,
          17,
          18,
          19,
          20,
          21,
          22,
          23,
          24,
          25,
          26,
          27,
          28,
          29,
          30,
          31,
          32,
          33,
          34,
          35,
          36,
          37,
          38,
          39,
          40,
          41,
          42,
          43,
          44,
          45,
          46,
          47,
          48,
          49,
          50,
          51,
          52,
          53,
          54,
          55,
          56,
          57,
          58,
          59,
          60,
          61,
          62,
          63,
          64,
          65,
          66,
          67,
          68,
          69,
          70,
          71,
          72,
          73,
          74,
          75,
          76,
          77,
          78,
          79,
          80,
          81,
          82,
          83,
          84,
          85,
          86,
          87,
          88,
          89,
          90,
          91,
          92,
          93,
          94,
          95,
          96,
          97,
          98,
          99
         ],
         "xaxis": "x",
         "y": [
          1.0085138235336695,
          0.8764677139428946,
          0.8006853568248259,
          0.7623285987438299,
          0.7392507470571078,
          0.717763914511754,
          0.7021415355877999,
          0.6887746697817093,
          0.6818901529678931,
          0.6728786184237553,
          0.662253445539719,
          0.6544497181207706,
          0.6488986626649514,
          0.643078143780048,
          0.6500641520206746,
          0.635067493487627,
          0.6164227173878596,
          0.6166370908419291,
          0.6191660288052682,
          0.6046783228715262,
          0.5968696520878719,
          0.5914855950917953,
          0.59090533776161,
          0.5825596665724729,
          0.5738285245039524,
          0.5722449475373977,
          0.5650144311097952,
          0.5595246767386413,
          0.5575398947948065,
          0.5483576846428407,
          0.5376894481671163,
          0.5271301284814492,
          0.5237334171930949,
          0.525310001312158,
          0.5209170686892975,
          0.5070936519366045,
          0.5085286047214117,
          0.5051541580603672,
          0.5008195248933939,
          0.4979021602716201,
          0.4829673392650409,
          0.4763427605995765,
          0.46207625896502763,
          0.47597028658940244,
          0.4778997531303993,
          0.4783123425948314,
          0.4635365842244565,
          0.4698929534508632,
          0.4644490908353756,
          0.44398222596217424,
          0.4497967125513615,
          0.4437788801315503,
          0.4431080000522809,
          0.4374998922531422,
          0.42455589618438333,
          0.4291554483083579,
          0.4224708844453861,
          0.39726315094874454,
          0.3980033779755617,
          0.41067142440722537,
          0.40497758831733316,
          0.3931016241892791,
          0.39474828961568,
          0.38543654175905084,
          0.39075541419860643,
          0.38614629782163173,
          0.37324174015949935,
          0.38457703819641703,
          0.372583114183866,
          0.3660411101121169,
          0.37615770177963453,
          0.35816688797412777,
          0.36337627126620364,
          0.35695136281160206,
          0.36825814843177795,
          0.35564281313847274,
          0.3522966144940792,
          0.3372937074074378,
          0.33558184978289485,
          0.3332968751589457,
          0.3211689354517521,
          0.32632283598948747,
          0.3131662454360571,
          0.31989343655415065,
          0.3153468920634343,
          0.30987813228215927,
          0.31295698842941183,
          0.3110485722621282,
          0.31911461857648993,
          0.3156003122910475,
          0.30296798432484656,
          0.3092285883732331,
          0.3058339044069632,
          0.3004178974108818,
          0.2906255832849405,
          0.2884642596428211,
          0.28143159166360515,
          0.2837008115572807,
          0.2879962348020994,
          0.2721268813579511
         ],
         "yaxis": "y"
        }
       ],
       "layout": {
        "font": {
         "size": 18
        },
        "height": 400,
        "hovermode": "x",
        "legend": {
         "title": {
          "text": "Config"
         },
         "tracegroupgap": 0
        },
        "margin": {
         "t": 60
        },
        "template": {
         "data": {
          "bar": [
           {
            "error_x": {
             "color": "#2a3f5f"
            },
            "error_y": {
             "color": "#2a3f5f"
            },
            "marker": {
             "line": {
              "color": "#E5ECF6",
              "width": 0.5
             },
             "pattern": {
              "fillmode": "overlay",
              "size": 10,
              "solidity": 0.2
             }
            },
            "type": "bar"
           }
          ],
          "barpolar": [
           {
            "marker": {
             "line": {
              "color": "#E5ECF6",
              "width": 0.5
             },
             "pattern": {
              "fillmode": "overlay",
              "size": 10,
              "solidity": 0.2
             }
            },
            "type": "barpolar"
           }
          ],
          "carpet": [
           {
            "aaxis": {
             "endlinecolor": "#2a3f5f",
             "gridcolor": "white",
             "linecolor": "white",
             "minorgridcolor": "white",
             "startlinecolor": "#2a3f5f"
            },
            "baxis": {
             "endlinecolor": "#2a3f5f",
             "gridcolor": "white",
             "linecolor": "white",
             "minorgridcolor": "white",
             "startlinecolor": "#2a3f5f"
            },
            "type": "carpet"
           }
          ],
          "choropleth": [
           {
            "colorbar": {
             "outlinewidth": 0,
             "ticks": ""
            },
            "type": "choropleth"
           }
          ],
          "contour": [
           {
            "colorbar": {
             "outlinewidth": 0,
             "ticks": ""
            },
            "colorscale": [
             [
              0,
              "#0d0887"
             ],
             [
              0.1111111111111111,
              "#46039f"
             ],
             [
              0.2222222222222222,
              "#7201a8"
             ],
             [
              0.3333333333333333,
              "#9c179e"
             ],
             [
              0.4444444444444444,
              "#bd3786"
             ],
             [
              0.5555555555555556,
              "#d8576b"
             ],
             [
              0.6666666666666666,
              "#ed7953"
             ],
             [
              0.7777777777777778,
              "#fb9f3a"
             ],
             [
              0.8888888888888888,
              "#fdca26"
             ],
             [
              1,
              "#f0f921"
             ]
            ],
            "type": "contour"
           }
          ],
          "contourcarpet": [
           {
            "colorbar": {
             "outlinewidth": 0,
             "ticks": ""
            },
            "type": "contourcarpet"
           }
          ],
          "heatmap": [
           {
            "colorbar": {
             "outlinewidth": 0,
             "ticks": ""
            },
            "colorscale": [
             [
              0,
              "#0d0887"
             ],
             [
              0.1111111111111111,
              "#46039f"
             ],
             [
              0.2222222222222222,
              "#7201a8"
             ],
             [
              0.3333333333333333,
              "#9c179e"
             ],
             [
              0.4444444444444444,
              "#bd3786"
             ],
             [
              0.5555555555555556,
              "#d8576b"
             ],
             [
              0.6666666666666666,
              "#ed7953"
             ],
             [
              0.7777777777777778,
              "#fb9f3a"
             ],
             [
              0.8888888888888888,
              "#fdca26"
             ],
             [
              1,
              "#f0f921"
             ]
            ],
            "type": "heatmap"
           }
          ],
          "heatmapgl": [
           {
            "colorbar": {
             "outlinewidth": 0,
             "ticks": ""
            },
            "colorscale": [
             [
              0,
              "#0d0887"
             ],
             [
              0.1111111111111111,
              "#46039f"
             ],
             [
              0.2222222222222222,
              "#7201a8"
             ],
             [
              0.3333333333333333,
              "#9c179e"
             ],
             [
              0.4444444444444444,
              "#bd3786"
             ],
             [
              0.5555555555555556,
              "#d8576b"
             ],
             [
              0.6666666666666666,
              "#ed7953"
             ],
             [
              0.7777777777777778,
              "#fb9f3a"
             ],
             [
              0.8888888888888888,
              "#fdca26"
             ],
             [
              1,
              "#f0f921"
             ]
            ],
            "type": "heatmapgl"
           }
          ],
          "histogram": [
           {
            "marker": {
             "pattern": {
              "fillmode": "overlay",
              "size": 10,
              "solidity": 0.2
             }
            },
            "type": "histogram"
           }
          ],
          "histogram2d": [
           {
            "colorbar": {
             "outlinewidth": 0,
             "ticks": ""
            },
            "colorscale": [
             [
              0,
              "#0d0887"
             ],
             [
              0.1111111111111111,
              "#46039f"
             ],
             [
              0.2222222222222222,
              "#7201a8"
             ],
             [
              0.3333333333333333,
              "#9c179e"
             ],
             [
              0.4444444444444444,
              "#bd3786"
             ],
             [
              0.5555555555555556,
              "#d8576b"
             ],
             [
              0.6666666666666666,
              "#ed7953"
             ],
             [
              0.7777777777777778,
              "#fb9f3a"
             ],
             [
              0.8888888888888888,
              "#fdca26"
             ],
             [
              1,
              "#f0f921"
             ]
            ],
            "type": "histogram2d"
           }
          ],
          "histogram2dcontour": [
           {
            "colorbar": {
             "outlinewidth": 0,
             "ticks": ""
            },
            "colorscale": [
             [
              0,
              "#0d0887"
             ],
             [
              0.1111111111111111,
              "#46039f"
             ],
             [
              0.2222222222222222,
              "#7201a8"
             ],
             [
              0.3333333333333333,
              "#9c179e"
             ],
             [
              0.4444444444444444,
              "#bd3786"
             ],
             [
              0.5555555555555556,
              "#d8576b"
             ],
             [
              0.6666666666666666,
              "#ed7953"
             ],
             [
              0.7777777777777778,
              "#fb9f3a"
             ],
             [
              0.8888888888888888,
              "#fdca26"
             ],
             [
              1,
              "#f0f921"
             ]
            ],
            "type": "histogram2dcontour"
           }
          ],
          "mesh3d": [
           {
            "colorbar": {
             "outlinewidth": 0,
             "ticks": ""
            },
            "type": "mesh3d"
           }
          ],
          "parcoords": [
           {
            "line": {
             "colorbar": {
              "outlinewidth": 0,
              "ticks": ""
             }
            },
            "type": "parcoords"
           }
          ],
          "pie": [
           {
            "automargin": true,
            "type": "pie"
           }
          ],
          "scatter": [
           {
            "fillpattern": {
             "fillmode": "overlay",
             "size": 10,
             "solidity": 0.2
            },
            "type": "scatter"
           }
          ],
          "scatter3d": [
           {
            "line": {
             "colorbar": {
              "outlinewidth": 0,
              "ticks": ""
             }
            },
            "marker": {
             "colorbar": {
              "outlinewidth": 0,
              "ticks": ""
             }
            },
            "type": "scatter3d"
           }
          ],
          "scattercarpet": [
           {
            "marker": {
             "colorbar": {
              "outlinewidth": 0,
              "ticks": ""
             }
            },
            "type": "scattercarpet"
           }
          ],
          "scattergeo": [
           {
            "marker": {
             "colorbar": {
              "outlinewidth": 0,
              "ticks": ""
             }
            },
            "type": "scattergeo"
           }
          ],
          "scattergl": [
           {
            "marker": {
             "colorbar": {
              "outlinewidth": 0,
              "ticks": ""
             }
            },
            "type": "scattergl"
           }
          ],
          "scattermapbox": [
           {
            "marker": {
             "colorbar": {
              "outlinewidth": 0,
              "ticks": ""
             }
            },
            "type": "scattermapbox"
           }
          ],
          "scatterpolar": [
           {
            "marker": {
             "colorbar": {
              "outlinewidth": 0,
              "ticks": ""
             }
            },
            "type": "scatterpolar"
           }
          ],
          "scatterpolargl": [
           {
            "marker": {
             "colorbar": {
              "outlinewidth": 0,
              "ticks": ""
             }
            },
            "type": "scatterpolargl"
           }
          ],
          "scatterternary": [
           {
            "marker": {
             "colorbar": {
              "outlinewidth": 0,
              "ticks": ""
             }
            },
            "type": "scatterternary"
           }
          ],
          "surface": [
           {
            "colorbar": {
             "outlinewidth": 0,
             "ticks": ""
            },
            "colorscale": [
             [
              0,
              "#0d0887"
             ],
             [
              0.1111111111111111,
              "#46039f"
             ],
             [
              0.2222222222222222,
              "#7201a8"
             ],
             [
              0.3333333333333333,
              "#9c179e"
             ],
             [
              0.4444444444444444,
              "#bd3786"
             ],
             [
              0.5555555555555556,
              "#d8576b"
             ],
             [
              0.6666666666666666,
              "#ed7953"
             ],
             [
              0.7777777777777778,
              "#fb9f3a"
             ],
             [
              0.8888888888888888,
              "#fdca26"
             ],
             [
              1,
              "#f0f921"
             ]
            ],
            "type": "surface"
           }
          ],
          "table": [
           {
            "cells": {
             "fill": {
              "color": "#EBF0F8"
             },
             "line": {
              "color": "white"
             }
            },
            "header": {
             "fill": {
              "color": "#C8D4E3"
             },
             "line": {
              "color": "white"
             }
            },
            "type": "table"
           }
          ]
         },
         "layout": {
          "annotationdefaults": {
           "arrowcolor": "#2a3f5f",
           "arrowhead": 0,
           "arrowwidth": 1
          },
          "autotypenumbers": "strict",
          "coloraxis": {
           "colorbar": {
            "outlinewidth": 0,
            "ticks": ""
           }
          },
          "colorscale": {
           "diverging": [
            [
             0,
             "#8e0152"
            ],
            [
             0.1,
             "#c51b7d"
            ],
            [
             0.2,
             "#de77ae"
            ],
            [
             0.3,
             "#f1b6da"
            ],
            [
             0.4,
             "#fde0ef"
            ],
            [
             0.5,
             "#f7f7f7"
            ],
            [
             0.6,
             "#e6f5d0"
            ],
            [
             0.7,
             "#b8e186"
            ],
            [
             0.8,
             "#7fbc41"
            ],
            [
             0.9,
             "#4d9221"
            ],
            [
             1,
             "#276419"
            ]
           ],
           "sequential": [
            [
             0,
             "#0d0887"
            ],
            [
             0.1111111111111111,
             "#46039f"
            ],
            [
             0.2222222222222222,
             "#7201a8"
            ],
            [
             0.3333333333333333,
             "#9c179e"
            ],
            [
             0.4444444444444444,
             "#bd3786"
            ],
            [
             0.5555555555555556,
             "#d8576b"
            ],
            [
             0.6666666666666666,
             "#ed7953"
            ],
            [
             0.7777777777777778,
             "#fb9f3a"
            ],
            [
             0.8888888888888888,
             "#fdca26"
            ],
            [
             1,
             "#f0f921"
            ]
           ],
           "sequentialminus": [
            [
             0,
             "#0d0887"
            ],
            [
             0.1111111111111111,
             "#46039f"
            ],
            [
             0.2222222222222222,
             "#7201a8"
            ],
            [
             0.3333333333333333,
             "#9c179e"
            ],
            [
             0.4444444444444444,
             "#bd3786"
            ],
            [
             0.5555555555555556,
             "#d8576b"
            ],
            [
             0.6666666666666666,
             "#ed7953"
            ],
            [
             0.7777777777777778,
             "#fb9f3a"
            ],
            [
             0.8888888888888888,
             "#fdca26"
            ],
            [
             1,
             "#f0f921"
            ]
           ]
          },
          "colorway": [
           "#636efa",
           "#EF553B",
           "#00cc96",
           "#ab63fa",
           "#FFA15A",
           "#19d3f3",
           "#FF6692",
           "#B6E880",
           "#FF97FF",
           "#FECB52"
          ],
          "font": {
           "color": "#2a3f5f"
          },
          "geo": {
           "bgcolor": "white",
           "lakecolor": "white",
           "landcolor": "#E5ECF6",
           "showlakes": true,
           "showland": true,
           "subunitcolor": "white"
          },
          "hoverlabel": {
           "align": "left"
          },
          "hovermode": "closest",
          "mapbox": {
           "style": "light"
          },
          "paper_bgcolor": "white",
          "plot_bgcolor": "#E5ECF6",
          "polar": {
           "angularaxis": {
            "gridcolor": "white",
            "linecolor": "white",
            "ticks": ""
           },
           "bgcolor": "#E5ECF6",
           "radialaxis": {
            "gridcolor": "white",
            "linecolor": "white",
            "ticks": ""
           }
          },
          "scene": {
           "xaxis": {
            "backgroundcolor": "#E5ECF6",
            "gridcolor": "white",
            "gridwidth": 2,
            "linecolor": "white",
            "showbackground": true,
            "ticks": "",
            "zerolinecolor": "white"
           },
           "yaxis": {
            "backgroundcolor": "#E5ECF6",
            "gridcolor": "white",
            "gridwidth": 2,
            "linecolor": "white",
            "showbackground": true,
            "ticks": "",
            "zerolinecolor": "white"
           },
           "zaxis": {
            "backgroundcolor": "#E5ECF6",
            "gridcolor": "white",
            "gridwidth": 2,
            "linecolor": "white",
            "showbackground": true,
            "ticks": "",
            "zerolinecolor": "white"
           }
          },
          "shapedefaults": {
           "line": {
            "color": "#2a3f5f"
           }
          },
          "ternary": {
           "aaxis": {
            "gridcolor": "white",
            "linecolor": "white",
            "ticks": ""
           },
           "baxis": {
            "gridcolor": "white",
            "linecolor": "white",
            "ticks": ""
           },
           "bgcolor": "#E5ECF6",
           "caxis": {
            "gridcolor": "white",
            "linecolor": "white",
            "ticks": ""
           }
          },
          "title": {
           "x": 0.05
          },
          "xaxis": {
           "automargin": true,
           "gridcolor": "white",
           "linecolor": "white",
           "ticks": "",
           "title": {
            "standoff": 15
           },
           "zerolinecolor": "white",
           "zerolinewidth": 2
          },
          "yaxis": {
           "automargin": true,
           "gridcolor": "white",
           "linecolor": "white",
           "ticks": "",
           "title": {
            "standoff": 15
           },
           "zerolinecolor": "white",
           "zerolinewidth": 2
          }
         }
        },
        "width": 800,
        "xaxis": {
         "anchor": "y",
         "domain": [
          0,
          1
         ],
         "title": {
          "text": "Epoch"
         }
        },
        "yaxis": {
         "anchor": "x",
         "domain": [
          0,
          1
         ],
         "title": {
          "text": "Loss"
         }
        }
       }
      },
      "text/html": [
       "<div>                            <div id=\"7ec06429-ab64-4306-a039-f7602dc53560\" class=\"plotly-graph-div\" style=\"height:400px; width:800px;\"></div>            <script type=\"text/javascript\">                require([\"plotly\"], function(Plotly) {                    window.PLOTLYENV=window.PLOTLYENV || {};                                    if (document.getElementById(\"7ec06429-ab64-4306-a039-f7602dc53560\")) {                    Plotly.newPlot(                        \"7ec06429-ab64-4306-a039-f7602dc53560\",                        [{\"fill\":\"toself\",\"fillcolor\":\"rgba(99,110,250,.3)\",\"hoverinfo\":\"skip\",\"legendgroup\":\"Non-split\",\"line\":{\"color\":\"rgba(255,255,255,0)\"},\"showlegend\":false,\"x\":[0,1,2,3,4,5,6,7,8,9,10,11,12,13,14,15,16,17,18,19,20,21,22,23,24,25,26,27,28,29,30,31,32,33,34,35,36,37,38,39,40,41,42,43,44,45,46,47,48,49,50,51,52,53,54,55,56,57,58,59,60,61,62,63,64,65,66,67,68,69,70,71,72,73,74,75,76,77,78,79,80,81,82,83,84,85,86,87,88,89,90,91,92,93,94,95,96,97,98,99,99,98,97,96,95,94,93,92,91,90,89,88,87,86,85,84,83,82,81,80,79,78,77,76,75,74,73,72,71,70,69,68,67,66,65,64,63,62,61,60,59,58,57,56,55,54,53,52,51,50,49,48,47,46,45,44,43,42,41,40,39,38,37,36,35,34,33,32,31,30,29,28,27,26,25,24,23,22,21,20,19,18,17,16,15,14,13,12,11,10,9,8,7,6,5,4,3,2,1,0],\"xaxis\":\"x\",\"y\":[1.0141397958776528,0.883129159183237,0.8039360057221672,0.7711366993448796,0.7443570456807737,0.721082248681408,0.7076287505191085,0.6985951605192142,0.6930213584265638,0.6799341231730455,0.6660129771292683,0.6687142377896321,0.6583292235089517,0.6526166059383974,0.6529836280027062,0.6465711277660576,0.6220994707664423,0.6300986478994984,0.6326568014923514,0.6148040324441224,0.6077092645296295,0.5965978405928993,0.6095073764735005,0.5917632553434468,0.5900193219383005,0.5795600298155601,0.5713729087012577,0.572531147432888,0.5701832702670155,0.5563739703268179,0.5451107092954448,0.5342327345792965,0.5301438375302187,0.5305525611232094,0.5333236403876183,0.5258367809659718,0.5273532343292027,0.5243990647148877,0.5058765994061422,0.5033396915145532,0.4851913114951622,0.4779077250715849,0.4693738241554989,0.49058029628788974,0.4889192633336918,0.48212640379206834,0.46719394198474523,0.4809696953303249,0.47914728515248634,0.44627398990870804,0.46323477971634447,0.45378682897985245,0.4560208744618092,0.44603048917793087,0.4263617410663015,0.4334360749832947,0.43414002534504414,0.40202331059328933,0.40865562745911194,0.4253361600053285,0.4251729405908672,0.41871362572227533,0.42633668454267915,0.38910273384214905,0.4019462312949694,0.3984677415607906,0.3766322428116698,0.38736173511334016,0.38876894245949245,0.38265884730017224,0.39343297350921796,0.3674623150835358,0.3725053896589943,0.36570686078682757,0.38153357920187125,0.3584319435652394,0.3636216110090352,0.3455726393954437,0.34065316921048416,0.33888332097451296,0.3322197404371803,0.33436992212978073,0.3278543350183399,0.3440969130904923,0.3350198266595201,0.3258179797451979,0.3318128459543882,0.3282176864011887,0.33373749518033075,0.3372475590043914,0.3133134766044844,0.3142123560247328,0.3236614140380542,0.30302504635391375,0.29279907898929497,0.2975626517977722,0.28993136163772576,0.3014896953582668,0.31473140156743545,0.27845182719012385,0.26580193552577835,0.26126106803676336,0.26591192775629463,0.27293182168948454,0.27936586748786996,0.288452087580586,0.2978107484678499,0.28800639477587214,0.30424482072173337,0.29262249204520874,0.2939530655777036,0.3044917419726491,0.29387945812306765,0.29410113090443546,0.29393828481912065,0.2956739574673485,0.295689960017809,0.2984781558537743,0.3182757498491942,0.31011813046632397,0.3277104293433784,0.33051053035530553,0.3290147754194319,0.3409716179791232,0.3528536827117061,0.35498271766168465,0.34819586483637655,0.35424715287341296,0.34887146086471976,0.3588824300500511,0.3494233729240615,0.3563972859082396,0.3817923412794939,0.3698512375073289,0.37382485408247285,0.37956459710224344,0.38177034967595264,0.3631598946886808,0.3674896226562828,0.38478223604379913,0.39600668880912226,0.3873511284920114,0.39250299130419974,0.41080174354572807,0.4248748216334211,0.4227500513024652,0.4289692953283535,0.4301951256427526,0.4337709312832482,0.43635864538637853,0.44169046201564044,0.4497508965182649,0.45881621157140146,0.45987922646416773,0.4744982813975945,0.4668802429271068,0.46136027689091513,0.4547786937745564,0.47477779612756804,0.48074336703491954,0.49246462902868704,0.4957624503806456,0.4859092514058468,0.48970397511362074,0.48835052290723724,0.5085104969909768,0.5200674415011066,0.517322996855971,0.520027522383602,0.5302681870387878,0.5403413989588636,0.5448965193225974,0.5465182060443945,0.5586559535183327,0.5649298652592354,0.5576377270696042,0.5733560778014991,0.5723032990497195,0.5863733495906913,0.5860300396461143,0.59455261329893,0.605675256118185,0.6031755337843597,0.6107459640092768,0.6235638592091964,0.647144676038643,0.6335396816216986,0.6394681018209512,0.640185198451909,0.6584939139501697,0.6658231136744651,0.6707589475092225,0.6789541790442044,0.6966543206564914,0.7144455803421,0.734144448433442,0.7535204981427801,0.7974347079274846,0.8698062687025522,1.0028878511896862],\"yaxis\":\"y\",\"type\":\"scatter\"},{\"hovertemplate\":\"architecture_choice=Non-split\\u003cbr\\u003eepoch=%{x}\\u003cbr\\u003etrain_loss_mean=%{y}\\u003cextra\\u003e\\u003c\\u002fextra\\u003e\",\"legendgroup\":\"Non-split\",\"line\":{\"color\":\"#636efa\",\"dash\":\"solid\"},\"marker\":{\"symbol\":\"circle\"},\"mode\":\"lines\",\"name\":\"Non-split\",\"orientation\":\"v\",\"showlegend\":true,\"x\":[0,1,2,3,4,5,6,7,8,9,10,11,12,13,14,15,16,17,18,19,20,21,22,23,24,25,26,27,28,29,30,31,32,33,34,35,36,37,38,39,40,41,42,43,44,45,46,47,48,49,50,51,52,53,54,55,56,57,58,59,60,61,62,63,64,65,66,67,68,69,70,71,72,73,74,75,76,77,78,79,80,81,82,83,84,85,86,87,88,89,90,91,92,93,94,95,96,97,98,99],\"xaxis\":\"x\",\"y\":[1.0085138235336695,0.8764677139428946,0.8006853568248259,0.7623285987438299,0.7392507470571078,0.717763914511754,0.7021415355877999,0.6887746697817093,0.6818901529678931,0.6728786184237553,0.662253445539719,0.6544497181207706,0.6488986626649514,0.643078143780048,0.6500641520206746,0.635067493487627,0.6164227173878596,0.6166370908419291,0.6191660288052682,0.6046783228715262,0.5968696520878719,0.5914855950917953,0.59090533776161,0.5825596665724729,0.5738285245039524,0.5722449475373977,0.5650144311097952,0.5595246767386413,0.5575398947948065,0.5483576846428407,0.5376894481671163,0.5271301284814492,0.5237334171930949,0.525310001312158,0.5209170686892975,0.5070936519366045,0.5085286047214117,0.5051541580603672,0.5008195248933939,0.4979021602716201,0.4829673392650409,0.4763427605995765,0.46207625896502763,0.47597028658940244,0.4778997531303993,0.4783123425948314,0.4635365842244565,0.4698929534508632,0.4644490908353756,0.44398222596217424,0.4497967125513615,0.4437788801315503,0.4431080000522809,0.4374998922531422,0.42455589618438333,0.4291554483083579,0.4224708844453861,0.39726315094874454,0.3980033779755617,0.41067142440722537,0.40497758831733316,0.3931016241892791,0.39474828961568,0.38543654175905084,0.39075541419860643,0.38614629782163173,0.37324174015949935,0.38457703819641703,0.372583114183866,0.3660411101121169,0.37615770177963453,0.35816688797412777,0.36337627126620364,0.35695136281160206,0.36825814843177795,0.35564281313847274,0.3522966144940792,0.3372937074074378,0.33558184978289485,0.3332968751589457,0.3211689354517521,0.32632283598948747,0.3131662454360571,0.31989343655415065,0.3153468920634343,0.30987813228215927,0.31295698842941183,0.3110485722621282,0.31911461857648993,0.3156003122910475,0.30296798432484656,0.3092285883732331,0.3058339044069632,0.3004178974108818,0.2906255832849405,0.2884642596428211,0.28143159166360515,0.2837008115572807,0.2879962348020994,0.2721268813579511],\"yaxis\":\"y\",\"type\":\"scatter\"}],                        {\"template\":{\"data\":{\"histogram2dcontour\":[{\"type\":\"histogram2dcontour\",\"colorbar\":{\"outlinewidth\":0,\"ticks\":\"\"},\"colorscale\":[[0.0,\"#0d0887\"],[0.1111111111111111,\"#46039f\"],[0.2222222222222222,\"#7201a8\"],[0.3333333333333333,\"#9c179e\"],[0.4444444444444444,\"#bd3786\"],[0.5555555555555556,\"#d8576b\"],[0.6666666666666666,\"#ed7953\"],[0.7777777777777778,\"#fb9f3a\"],[0.8888888888888888,\"#fdca26\"],[1.0,\"#f0f921\"]]}],\"choropleth\":[{\"type\":\"choropleth\",\"colorbar\":{\"outlinewidth\":0,\"ticks\":\"\"}}],\"histogram2d\":[{\"type\":\"histogram2d\",\"colorbar\":{\"outlinewidth\":0,\"ticks\":\"\"},\"colorscale\":[[0.0,\"#0d0887\"],[0.1111111111111111,\"#46039f\"],[0.2222222222222222,\"#7201a8\"],[0.3333333333333333,\"#9c179e\"],[0.4444444444444444,\"#bd3786\"],[0.5555555555555556,\"#d8576b\"],[0.6666666666666666,\"#ed7953\"],[0.7777777777777778,\"#fb9f3a\"],[0.8888888888888888,\"#fdca26\"],[1.0,\"#f0f921\"]]}],\"heatmap\":[{\"type\":\"heatmap\",\"colorbar\":{\"outlinewidth\":0,\"ticks\":\"\"},\"colorscale\":[[0.0,\"#0d0887\"],[0.1111111111111111,\"#46039f\"],[0.2222222222222222,\"#7201a8\"],[0.3333333333333333,\"#9c179e\"],[0.4444444444444444,\"#bd3786\"],[0.5555555555555556,\"#d8576b\"],[0.6666666666666666,\"#ed7953\"],[0.7777777777777778,\"#fb9f3a\"],[0.8888888888888888,\"#fdca26\"],[1.0,\"#f0f921\"]]}],\"heatmapgl\":[{\"type\":\"heatmapgl\",\"colorbar\":{\"outlinewidth\":0,\"ticks\":\"\"},\"colorscale\":[[0.0,\"#0d0887\"],[0.1111111111111111,\"#46039f\"],[0.2222222222222222,\"#7201a8\"],[0.3333333333333333,\"#9c179e\"],[0.4444444444444444,\"#bd3786\"],[0.5555555555555556,\"#d8576b\"],[0.6666666666666666,\"#ed7953\"],[0.7777777777777778,\"#fb9f3a\"],[0.8888888888888888,\"#fdca26\"],[1.0,\"#f0f921\"]]}],\"contourcarpet\":[{\"type\":\"contourcarpet\",\"colorbar\":{\"outlinewidth\":0,\"ticks\":\"\"}}],\"contour\":[{\"type\":\"contour\",\"colorbar\":{\"outlinewidth\":0,\"ticks\":\"\"},\"colorscale\":[[0.0,\"#0d0887\"],[0.1111111111111111,\"#46039f\"],[0.2222222222222222,\"#7201a8\"],[0.3333333333333333,\"#9c179e\"],[0.4444444444444444,\"#bd3786\"],[0.5555555555555556,\"#d8576b\"],[0.6666666666666666,\"#ed7953\"],[0.7777777777777778,\"#fb9f3a\"],[0.8888888888888888,\"#fdca26\"],[1.0,\"#f0f921\"]]}],\"surface\":[{\"type\":\"surface\",\"colorbar\":{\"outlinewidth\":0,\"ticks\":\"\"},\"colorscale\":[[0.0,\"#0d0887\"],[0.1111111111111111,\"#46039f\"],[0.2222222222222222,\"#7201a8\"],[0.3333333333333333,\"#9c179e\"],[0.4444444444444444,\"#bd3786\"],[0.5555555555555556,\"#d8576b\"],[0.6666666666666666,\"#ed7953\"],[0.7777777777777778,\"#fb9f3a\"],[0.8888888888888888,\"#fdca26\"],[1.0,\"#f0f921\"]]}],\"mesh3d\":[{\"type\":\"mesh3d\",\"colorbar\":{\"outlinewidth\":0,\"ticks\":\"\"}}],\"scatter\":[{\"fillpattern\":{\"fillmode\":\"overlay\",\"size\":10,\"solidity\":0.2},\"type\":\"scatter\"}],\"parcoords\":[{\"type\":\"parcoords\",\"line\":{\"colorbar\":{\"outlinewidth\":0,\"ticks\":\"\"}}}],\"scatterpolargl\":[{\"type\":\"scatterpolargl\",\"marker\":{\"colorbar\":{\"outlinewidth\":0,\"ticks\":\"\"}}}],\"bar\":[{\"error_x\":{\"color\":\"#2a3f5f\"},\"error_y\":{\"color\":\"#2a3f5f\"},\"marker\":{\"line\":{\"color\":\"#E5ECF6\",\"width\":0.5},\"pattern\":{\"fillmode\":\"overlay\",\"size\":10,\"solidity\":0.2}},\"type\":\"bar\"}],\"scattergeo\":[{\"type\":\"scattergeo\",\"marker\":{\"colorbar\":{\"outlinewidth\":0,\"ticks\":\"\"}}}],\"scatterpolar\":[{\"type\":\"scatterpolar\",\"marker\":{\"colorbar\":{\"outlinewidth\":0,\"ticks\":\"\"}}}],\"histogram\":[{\"marker\":{\"pattern\":{\"fillmode\":\"overlay\",\"size\":10,\"solidity\":0.2}},\"type\":\"histogram\"}],\"scattergl\":[{\"type\":\"scattergl\",\"marker\":{\"colorbar\":{\"outlinewidth\":0,\"ticks\":\"\"}}}],\"scatter3d\":[{\"type\":\"scatter3d\",\"line\":{\"colorbar\":{\"outlinewidth\":0,\"ticks\":\"\"}},\"marker\":{\"colorbar\":{\"outlinewidth\":0,\"ticks\":\"\"}}}],\"scattermapbox\":[{\"type\":\"scattermapbox\",\"marker\":{\"colorbar\":{\"outlinewidth\":0,\"ticks\":\"\"}}}],\"scatterternary\":[{\"type\":\"scatterternary\",\"marker\":{\"colorbar\":{\"outlinewidth\":0,\"ticks\":\"\"}}}],\"scattercarpet\":[{\"type\":\"scattercarpet\",\"marker\":{\"colorbar\":{\"outlinewidth\":0,\"ticks\":\"\"}}}],\"carpet\":[{\"aaxis\":{\"endlinecolor\":\"#2a3f5f\",\"gridcolor\":\"white\",\"linecolor\":\"white\",\"minorgridcolor\":\"white\",\"startlinecolor\":\"#2a3f5f\"},\"baxis\":{\"endlinecolor\":\"#2a3f5f\",\"gridcolor\":\"white\",\"linecolor\":\"white\",\"minorgridcolor\":\"white\",\"startlinecolor\":\"#2a3f5f\"},\"type\":\"carpet\"}],\"table\":[{\"cells\":{\"fill\":{\"color\":\"#EBF0F8\"},\"line\":{\"color\":\"white\"}},\"header\":{\"fill\":{\"color\":\"#C8D4E3\"},\"line\":{\"color\":\"white\"}},\"type\":\"table\"}],\"barpolar\":[{\"marker\":{\"line\":{\"color\":\"#E5ECF6\",\"width\":0.5},\"pattern\":{\"fillmode\":\"overlay\",\"size\":10,\"solidity\":0.2}},\"type\":\"barpolar\"}],\"pie\":[{\"automargin\":true,\"type\":\"pie\"}]},\"layout\":{\"autotypenumbers\":\"strict\",\"colorway\":[\"#636efa\",\"#EF553B\",\"#00cc96\",\"#ab63fa\",\"#FFA15A\",\"#19d3f3\",\"#FF6692\",\"#B6E880\",\"#FF97FF\",\"#FECB52\"],\"font\":{\"color\":\"#2a3f5f\"},\"hovermode\":\"closest\",\"hoverlabel\":{\"align\":\"left\"},\"paper_bgcolor\":\"white\",\"plot_bgcolor\":\"#E5ECF6\",\"polar\":{\"bgcolor\":\"#E5ECF6\",\"angularaxis\":{\"gridcolor\":\"white\",\"linecolor\":\"white\",\"ticks\":\"\"},\"radialaxis\":{\"gridcolor\":\"white\",\"linecolor\":\"white\",\"ticks\":\"\"}},\"ternary\":{\"bgcolor\":\"#E5ECF6\",\"aaxis\":{\"gridcolor\":\"white\",\"linecolor\":\"white\",\"ticks\":\"\"},\"baxis\":{\"gridcolor\":\"white\",\"linecolor\":\"white\",\"ticks\":\"\"},\"caxis\":{\"gridcolor\":\"white\",\"linecolor\":\"white\",\"ticks\":\"\"}},\"coloraxis\":{\"colorbar\":{\"outlinewidth\":0,\"ticks\":\"\"}},\"colorscale\":{\"sequential\":[[0.0,\"#0d0887\"],[0.1111111111111111,\"#46039f\"],[0.2222222222222222,\"#7201a8\"],[0.3333333333333333,\"#9c179e\"],[0.4444444444444444,\"#bd3786\"],[0.5555555555555556,\"#d8576b\"],[0.6666666666666666,\"#ed7953\"],[0.7777777777777778,\"#fb9f3a\"],[0.8888888888888888,\"#fdca26\"],[1.0,\"#f0f921\"]],\"sequentialminus\":[[0.0,\"#0d0887\"],[0.1111111111111111,\"#46039f\"],[0.2222222222222222,\"#7201a8\"],[0.3333333333333333,\"#9c179e\"],[0.4444444444444444,\"#bd3786\"],[0.5555555555555556,\"#d8576b\"],[0.6666666666666666,\"#ed7953\"],[0.7777777777777778,\"#fb9f3a\"],[0.8888888888888888,\"#fdca26\"],[1.0,\"#f0f921\"]],\"diverging\":[[0,\"#8e0152\"],[0.1,\"#c51b7d\"],[0.2,\"#de77ae\"],[0.3,\"#f1b6da\"],[0.4,\"#fde0ef\"],[0.5,\"#f7f7f7\"],[0.6,\"#e6f5d0\"],[0.7,\"#b8e186\"],[0.8,\"#7fbc41\"],[0.9,\"#4d9221\"],[1,\"#276419\"]]},\"xaxis\":{\"gridcolor\":\"white\",\"linecolor\":\"white\",\"ticks\":\"\",\"title\":{\"standoff\":15},\"zerolinecolor\":\"white\",\"automargin\":true,\"zerolinewidth\":2},\"yaxis\":{\"gridcolor\":\"white\",\"linecolor\":\"white\",\"ticks\":\"\",\"title\":{\"standoff\":15},\"zerolinecolor\":\"white\",\"automargin\":true,\"zerolinewidth\":2},\"scene\":{\"xaxis\":{\"backgroundcolor\":\"#E5ECF6\",\"gridcolor\":\"white\",\"linecolor\":\"white\",\"showbackground\":true,\"ticks\":\"\",\"zerolinecolor\":\"white\",\"gridwidth\":2},\"yaxis\":{\"backgroundcolor\":\"#E5ECF6\",\"gridcolor\":\"white\",\"linecolor\":\"white\",\"showbackground\":true,\"ticks\":\"\",\"zerolinecolor\":\"white\",\"gridwidth\":2},\"zaxis\":{\"backgroundcolor\":\"#E5ECF6\",\"gridcolor\":\"white\",\"linecolor\":\"white\",\"showbackground\":true,\"ticks\":\"\",\"zerolinecolor\":\"white\",\"gridwidth\":2}},\"shapedefaults\":{\"line\":{\"color\":\"#2a3f5f\"}},\"annotationdefaults\":{\"arrowcolor\":\"#2a3f5f\",\"arrowhead\":0,\"arrowwidth\":1},\"geo\":{\"bgcolor\":\"white\",\"landcolor\":\"#E5ECF6\",\"subunitcolor\":\"white\",\"showland\":true,\"showlakes\":true,\"lakecolor\":\"white\"},\"title\":{\"x\":0.05},\"mapbox\":{\"style\":\"light\"}}},\"xaxis\":{\"anchor\":\"y\",\"domain\":[0.0,1.0],\"title\":{\"text\":\"Epoch\"}},\"yaxis\":{\"anchor\":\"x\",\"domain\":[0.0,1.0],\"title\":{\"text\":\"Loss\"}},\"legend\":{\"title\":{\"text\":\"Config\"},\"tracegroupgap\":0},\"margin\":{\"t\":60},\"font\":{\"size\":18},\"width\":800,\"height\":400,\"hovermode\":\"x\"},                        {\"responsive\": true}                    ).then(function(){\n",
       "                            \n",
       "var gd = document.getElementById('7ec06429-ab64-4306-a039-f7602dc53560');\n",
       "var x = new MutationObserver(function (mutations, observer) {{\n",
       "        var display = window.getComputedStyle(gd).display;\n",
       "        if (!display || display === 'none') {{\n",
       "            console.log([gd, 'removed!']);\n",
       "            Plotly.purge(gd);\n",
       "            observer.disconnect();\n",
       "        }}\n",
       "}});\n",
       "\n",
       "// Listen for the removal of the full notebook cells\n",
       "var notebookContainer = gd.closest('#notebook-container');\n",
       "if (notebookContainer) {{\n",
       "    x.observe(notebookContainer, {childList: true});\n",
       "}}\n",
       "\n",
       "// Listen for the clearing of the current output cell\n",
       "var outputEl = gd.closest('.output');\n",
       "if (outputEl) {{\n",
       "    x.observe(outputEl, {childList: true});\n",
       "}}\n",
       "\n",
       "                        })                };                });            </script>        </div>"
      ]
     },
     "metadata": {},
     "output_type": "display_data"
    }
   ],
   "source": [
    "\n",
    "    \n",
    "fig = line_plot(df,\n",
    "                x_axis='epoch',\n",
    "                y_axis='train_loss',\n",
    "                group_by='architecture_choice',\n",
    "                x_axis_title = 'Epoch',\n",
    "                y_axis_title = 'Loss',\n",
    "                legend_title = 'Config',\n",
    "                legend_names={\n",
    "                    0 : 'Non-split'\n",
    "                })\n",
    "\n",
    "fig.show()"
   ]
  },
  {
   "cell_type": "code",
   "execution_count": null,
   "metadata": {},
   "outputs": [
    {
     "data": {
      "application/vnd.plotly.v1+json": {
       "config": {
        "plotlyServerURL": "https://plot.ly"
       },
       "data": [
        {
         "alignmentgroup": "True",
         "error_y": {
          "array": [
           0.005625972343983367,
           0.006661445240342385,
           0.0032506488973413085,
           0.008808100601049765,
           0.005106298623665858,
           0.0033183341696540196,
           0.005487214931308551,
           0.009820490737504916,
           0.011131205458670588,
           0.0070555047492902164,
           0.0037595315895493113,
           0.01426451966886152,
           0.009430560844000254,
           0.009538462158349406,
           0.002919475982031608,
           0.011503634278430586,
           0.0056767533785827586,
           0.013461557057569348,
           0.01349077268708324,
           0.010125709572596148,
           0.010839612441757561,
           0.005112245501103998,
           0.018602038711890458,
           0.009203588770973863,
           0.016190797434348127,
           0.0073150822781623635,
           0.0063584775914624254,
           0.013006470694246736,
           0.012643375472209038,
           0.008016285683977177,
           0.007421261128328526,
           0.007102606097847337,
           0.006410420337123819,
           0.00524255981105138,
           0.012406571698320738,
           0.018743129029367284,
           0.018824629607790966,
           0.019244906654520444,
           0.005057074512748289,
           0.005437531242933043,
           0.00222397223012134,
           0.0015649644720084185,
           0.007297565190471268,
           0.01461000969848732,
           0.011019510203292488,
           0.0038140611972369504,
           0.003657357760288759,
           0.011076741879461732,
           0.014698194317110716,
           0.0022917639465338253,
           0.013438067164982992,
           0.010007948848302129,
           0.012912874409528324,
           0.00853059692478868,
           0.001805844881918175,
           0.004280626674936772,
           0.011669140899658053,
           0.004760159644544766,
           0.010652249483550284,
           0.014664735598103086,
           0.020195352273534053,
           0.02561200153299624,
           0.03158839492699917,
           0.00366619208309823,
           0.011190817096363003,
           0.012321443739158904,
           0.003390502652170457,
           0.00278469691692314,
           0.01618582827562641,
           0.01661773718805536,
           0.017275271729583423,
           0.00929542710940798,
           0.009129118392790696,
           0.00875549797522554,
           0.013275430770093298,
           0.0027891304267666276,
           0.011324996514956017,
           0.008278931988005887,
           0.005071319427589326,
           0.0055864458155672975,
           0.01105080498542814,
           0.008047086140293268,
           0.014688089582282769,
           0.024203476536341636,
           0.019672934596085843,
           0.01593984746303861,
           0.018855857524976382,
           0.017169114139060533,
           0.01462287660384083,
           0.021647246713343896,
           0.0103454922796378,
           0.004983767651499738,
           0.01782750963109105,
           0.002607148943031954,
           0.0021734957043544867,
           0.009098392154951137,
           0.008499769974120594,
           0.017788883800986095,
           0.026735166765336042,
           0.00632494583217273
          ]
         },
         "hovertemplate": "architecture_choice=Non-split<br>epoch=%{x}<br>train_loss_mean=%{y}<extra></extra>",
         "legendgroup": "Non-split",
         "marker": {
          "color": "#636efa",
          "pattern": {
           "shape": ""
          }
         },
         "name": "Non-split",
         "offsetgroup": "Non-split",
         "orientation": "v",
         "showlegend": true,
         "textposition": "auto",
         "type": "bar",
         "x": [
          0,
          1,
          2,
          3,
          4,
          5,
          6,
          7,
          8,
          9,
          10,
          11,
          12,
          13,
          14,
          15,
          16,
          17,
          18,
          19,
          20,
          21,
          22,
          23,
          24,
          25,
          26,
          27,
          28,
          29,
          30,
          31,
          32,
          33,
          34,
          35,
          36,
          37,
          38,
          39,
          40,
          41,
          42,
          43,
          44,
          45,
          46,
          47,
          48,
          49,
          50,
          51,
          52,
          53,
          54,
          55,
          56,
          57,
          58,
          59,
          60,
          61,
          62,
          63,
          64,
          65,
          66,
          67,
          68,
          69,
          70,
          71,
          72,
          73,
          74,
          75,
          76,
          77,
          78,
          79,
          80,
          81,
          82,
          83,
          84,
          85,
          86,
          87,
          88,
          89,
          90,
          91,
          92,
          93,
          94,
          95,
          96,
          97,
          98,
          99
         ],
         "xaxis": "x",
         "y": [
          1.0085138235336695,
          0.8764677139428946,
          0.8006853568248259,
          0.7623285987438299,
          0.7392507470571078,
          0.717763914511754,
          0.7021415355877999,
          0.6887746697817093,
          0.6818901529678931,
          0.6728786184237553,
          0.662253445539719,
          0.6544497181207706,
          0.6488986626649514,
          0.643078143780048,
          0.6500641520206746,
          0.635067493487627,
          0.6164227173878596,
          0.6166370908419291,
          0.6191660288052682,
          0.6046783228715262,
          0.5968696520878719,
          0.5914855950917953,
          0.59090533776161,
          0.5825596665724729,
          0.5738285245039524,
          0.5722449475373977,
          0.5650144311097952,
          0.5595246767386413,
          0.5575398947948065,
          0.5483576846428407,
          0.5376894481671163,
          0.5271301284814492,
          0.5237334171930949,
          0.525310001312158,
          0.5209170686892975,
          0.5070936519366045,
          0.5085286047214117,
          0.5051541580603672,
          0.5008195248933939,
          0.4979021602716201,
          0.4829673392650409,
          0.4763427605995765,
          0.46207625896502763,
          0.47597028658940244,
          0.4778997531303993,
          0.4783123425948314,
          0.4635365842244565,
          0.4698929534508632,
          0.4644490908353756,
          0.44398222596217424,
          0.4497967125513615,
          0.4437788801315503,
          0.4431080000522809,
          0.4374998922531422,
          0.42455589618438333,
          0.4291554483083579,
          0.4224708844453861,
          0.39726315094874454,
          0.3980033779755617,
          0.41067142440722537,
          0.40497758831733316,
          0.3931016241892791,
          0.39474828961568,
          0.38543654175905084,
          0.39075541419860643,
          0.38614629782163173,
          0.37324174015949935,
          0.38457703819641703,
          0.372583114183866,
          0.3660411101121169,
          0.37615770177963453,
          0.35816688797412777,
          0.36337627126620364,
          0.35695136281160206,
          0.36825814843177795,
          0.35564281313847274,
          0.3522966144940792,
          0.3372937074074378,
          0.33558184978289485,
          0.3332968751589457,
          0.3211689354517521,
          0.32632283598948747,
          0.3131662454360571,
          0.31989343655415065,
          0.3153468920634343,
          0.30987813228215927,
          0.31295698842941183,
          0.3110485722621282,
          0.31911461857648993,
          0.3156003122910475,
          0.30296798432484656,
          0.3092285883732331,
          0.3058339044069632,
          0.3004178974108818,
          0.2906255832849405,
          0.2884642596428211,
          0.28143159166360515,
          0.2837008115572807,
          0.2879962348020994,
          0.2721268813579511
         ],
         "yaxis": "y"
        }
       ],
       "layout": {
        "barmode": "relative",
        "font": {
         "size": 18
        },
        "height": 400,
        "hovermode": "x",
        "legend": {
         "title": {
          "text": "Config"
         },
         "tracegroupgap": 0
        },
        "margin": {
         "t": 60
        },
        "template": {
         "data": {
          "bar": [
           {
            "error_x": {
             "color": "#2a3f5f"
            },
            "error_y": {
             "color": "#2a3f5f"
            },
            "marker": {
             "line": {
              "color": "#E5ECF6",
              "width": 0.5
             },
             "pattern": {
              "fillmode": "overlay",
              "size": 10,
              "solidity": 0.2
             }
            },
            "type": "bar"
           }
          ],
          "barpolar": [
           {
            "marker": {
             "line": {
              "color": "#E5ECF6",
              "width": 0.5
             },
             "pattern": {
              "fillmode": "overlay",
              "size": 10,
              "solidity": 0.2
             }
            },
            "type": "barpolar"
           }
          ],
          "carpet": [
           {
            "aaxis": {
             "endlinecolor": "#2a3f5f",
             "gridcolor": "white",
             "linecolor": "white",
             "minorgridcolor": "white",
             "startlinecolor": "#2a3f5f"
            },
            "baxis": {
             "endlinecolor": "#2a3f5f",
             "gridcolor": "white",
             "linecolor": "white",
             "minorgridcolor": "white",
             "startlinecolor": "#2a3f5f"
            },
            "type": "carpet"
           }
          ],
          "choropleth": [
           {
            "colorbar": {
             "outlinewidth": 0,
             "ticks": ""
            },
            "type": "choropleth"
           }
          ],
          "contour": [
           {
            "colorbar": {
             "outlinewidth": 0,
             "ticks": ""
            },
            "colorscale": [
             [
              0,
              "#0d0887"
             ],
             [
              0.1111111111111111,
              "#46039f"
             ],
             [
              0.2222222222222222,
              "#7201a8"
             ],
             [
              0.3333333333333333,
              "#9c179e"
             ],
             [
              0.4444444444444444,
              "#bd3786"
             ],
             [
              0.5555555555555556,
              "#d8576b"
             ],
             [
              0.6666666666666666,
              "#ed7953"
             ],
             [
              0.7777777777777778,
              "#fb9f3a"
             ],
             [
              0.8888888888888888,
              "#fdca26"
             ],
             [
              1,
              "#f0f921"
             ]
            ],
            "type": "contour"
           }
          ],
          "contourcarpet": [
           {
            "colorbar": {
             "outlinewidth": 0,
             "ticks": ""
            },
            "type": "contourcarpet"
           }
          ],
          "heatmap": [
           {
            "colorbar": {
             "outlinewidth": 0,
             "ticks": ""
            },
            "colorscale": [
             [
              0,
              "#0d0887"
             ],
             [
              0.1111111111111111,
              "#46039f"
             ],
             [
              0.2222222222222222,
              "#7201a8"
             ],
             [
              0.3333333333333333,
              "#9c179e"
             ],
             [
              0.4444444444444444,
              "#bd3786"
             ],
             [
              0.5555555555555556,
              "#d8576b"
             ],
             [
              0.6666666666666666,
              "#ed7953"
             ],
             [
              0.7777777777777778,
              "#fb9f3a"
             ],
             [
              0.8888888888888888,
              "#fdca26"
             ],
             [
              1,
              "#f0f921"
             ]
            ],
            "type": "heatmap"
           }
          ],
          "heatmapgl": [
           {
            "colorbar": {
             "outlinewidth": 0,
             "ticks": ""
            },
            "colorscale": [
             [
              0,
              "#0d0887"
             ],
             [
              0.1111111111111111,
              "#46039f"
             ],
             [
              0.2222222222222222,
              "#7201a8"
             ],
             [
              0.3333333333333333,
              "#9c179e"
             ],
             [
              0.4444444444444444,
              "#bd3786"
             ],
             [
              0.5555555555555556,
              "#d8576b"
             ],
             [
              0.6666666666666666,
              "#ed7953"
             ],
             [
              0.7777777777777778,
              "#fb9f3a"
             ],
             [
              0.8888888888888888,
              "#fdca26"
             ],
             [
              1,
              "#f0f921"
             ]
            ],
            "type": "heatmapgl"
           }
          ],
          "histogram": [
           {
            "marker": {
             "pattern": {
              "fillmode": "overlay",
              "size": 10,
              "solidity": 0.2
             }
            },
            "type": "histogram"
           }
          ],
          "histogram2d": [
           {
            "colorbar": {
             "outlinewidth": 0,
             "ticks": ""
            },
            "colorscale": [
             [
              0,
              "#0d0887"
             ],
             [
              0.1111111111111111,
              "#46039f"
             ],
             [
              0.2222222222222222,
              "#7201a8"
             ],
             [
              0.3333333333333333,
              "#9c179e"
             ],
             [
              0.4444444444444444,
              "#bd3786"
             ],
             [
              0.5555555555555556,
              "#d8576b"
             ],
             [
              0.6666666666666666,
              "#ed7953"
             ],
             [
              0.7777777777777778,
              "#fb9f3a"
             ],
             [
              0.8888888888888888,
              "#fdca26"
             ],
             [
              1,
              "#f0f921"
             ]
            ],
            "type": "histogram2d"
           }
          ],
          "histogram2dcontour": [
           {
            "colorbar": {
             "outlinewidth": 0,
             "ticks": ""
            },
            "colorscale": [
             [
              0,
              "#0d0887"
             ],
             [
              0.1111111111111111,
              "#46039f"
             ],
             [
              0.2222222222222222,
              "#7201a8"
             ],
             [
              0.3333333333333333,
              "#9c179e"
             ],
             [
              0.4444444444444444,
              "#bd3786"
             ],
             [
              0.5555555555555556,
              "#d8576b"
             ],
             [
              0.6666666666666666,
              "#ed7953"
             ],
             [
              0.7777777777777778,
              "#fb9f3a"
             ],
             [
              0.8888888888888888,
              "#fdca26"
             ],
             [
              1,
              "#f0f921"
             ]
            ],
            "type": "histogram2dcontour"
           }
          ],
          "mesh3d": [
           {
            "colorbar": {
             "outlinewidth": 0,
             "ticks": ""
            },
            "type": "mesh3d"
           }
          ],
          "parcoords": [
           {
            "line": {
             "colorbar": {
              "outlinewidth": 0,
              "ticks": ""
             }
            },
            "type": "parcoords"
           }
          ],
          "pie": [
           {
            "automargin": true,
            "type": "pie"
           }
          ],
          "scatter": [
           {
            "fillpattern": {
             "fillmode": "overlay",
             "size": 10,
             "solidity": 0.2
            },
            "type": "scatter"
           }
          ],
          "scatter3d": [
           {
            "line": {
             "colorbar": {
              "outlinewidth": 0,
              "ticks": ""
             }
            },
            "marker": {
             "colorbar": {
              "outlinewidth": 0,
              "ticks": ""
             }
            },
            "type": "scatter3d"
           }
          ],
          "scattercarpet": [
           {
            "marker": {
             "colorbar": {
              "outlinewidth": 0,
              "ticks": ""
             }
            },
            "type": "scattercarpet"
           }
          ],
          "scattergeo": [
           {
            "marker": {
             "colorbar": {
              "outlinewidth": 0,
              "ticks": ""
             }
            },
            "type": "scattergeo"
           }
          ],
          "scattergl": [
           {
            "marker": {
             "colorbar": {
              "outlinewidth": 0,
              "ticks": ""
             }
            },
            "type": "scattergl"
           }
          ],
          "scattermapbox": [
           {
            "marker": {
             "colorbar": {
              "outlinewidth": 0,
              "ticks": ""
             }
            },
            "type": "scattermapbox"
           }
          ],
          "scatterpolar": [
           {
            "marker": {
             "colorbar": {
              "outlinewidth": 0,
              "ticks": ""
             }
            },
            "type": "scatterpolar"
           }
          ],
          "scatterpolargl": [
           {
            "marker": {
             "colorbar": {
              "outlinewidth": 0,
              "ticks": ""
             }
            },
            "type": "scatterpolargl"
           }
          ],
          "scatterternary": [
           {
            "marker": {
             "colorbar": {
              "outlinewidth": 0,
              "ticks": ""
             }
            },
            "type": "scatterternary"
           }
          ],
          "surface": [
           {
            "colorbar": {
             "outlinewidth": 0,
             "ticks": ""
            },
            "colorscale": [
             [
              0,
              "#0d0887"
             ],
             [
              0.1111111111111111,
              "#46039f"
             ],
             [
              0.2222222222222222,
              "#7201a8"
             ],
             [
              0.3333333333333333,
              "#9c179e"
             ],
             [
              0.4444444444444444,
              "#bd3786"
             ],
             [
              0.5555555555555556,
              "#d8576b"
             ],
             [
              0.6666666666666666,
              "#ed7953"
             ],
             [
              0.7777777777777778,
              "#fb9f3a"
             ],
             [
              0.8888888888888888,
              "#fdca26"
             ],
             [
              1,
              "#f0f921"
             ]
            ],
            "type": "surface"
           }
          ],
          "table": [
           {
            "cells": {
             "fill": {
              "color": "#EBF0F8"
             },
             "line": {
              "color": "white"
             }
            },
            "header": {
             "fill": {
              "color": "#C8D4E3"
             },
             "line": {
              "color": "white"
             }
            },
            "type": "table"
           }
          ]
         },
         "layout": {
          "annotationdefaults": {
           "arrowcolor": "#2a3f5f",
           "arrowhead": 0,
           "arrowwidth": 1
          },
          "autotypenumbers": "strict",
          "coloraxis": {
           "colorbar": {
            "outlinewidth": 0,
            "ticks": ""
           }
          },
          "colorscale": {
           "diverging": [
            [
             0,
             "#8e0152"
            ],
            [
             0.1,
             "#c51b7d"
            ],
            [
             0.2,
             "#de77ae"
            ],
            [
             0.3,
             "#f1b6da"
            ],
            [
             0.4,
             "#fde0ef"
            ],
            [
             0.5,
             "#f7f7f7"
            ],
            [
             0.6,
             "#e6f5d0"
            ],
            [
             0.7,
             "#b8e186"
            ],
            [
             0.8,
             "#7fbc41"
            ],
            [
             0.9,
             "#4d9221"
            ],
            [
             1,
             "#276419"
            ]
           ],
           "sequential": [
            [
             0,
             "#0d0887"
            ],
            [
             0.1111111111111111,
             "#46039f"
            ],
            [
             0.2222222222222222,
             "#7201a8"
            ],
            [
             0.3333333333333333,
             "#9c179e"
            ],
            [
             0.4444444444444444,
             "#bd3786"
            ],
            [
             0.5555555555555556,
             "#d8576b"
            ],
            [
             0.6666666666666666,
             "#ed7953"
            ],
            [
             0.7777777777777778,
             "#fb9f3a"
            ],
            [
             0.8888888888888888,
             "#fdca26"
            ],
            [
             1,
             "#f0f921"
            ]
           ],
           "sequentialminus": [
            [
             0,
             "#0d0887"
            ],
            [
             0.1111111111111111,
             "#46039f"
            ],
            [
             0.2222222222222222,
             "#7201a8"
            ],
            [
             0.3333333333333333,
             "#9c179e"
            ],
            [
             0.4444444444444444,
             "#bd3786"
            ],
            [
             0.5555555555555556,
             "#d8576b"
            ],
            [
             0.6666666666666666,
             "#ed7953"
            ],
            [
             0.7777777777777778,
             "#fb9f3a"
            ],
            [
             0.8888888888888888,
             "#fdca26"
            ],
            [
             1,
             "#f0f921"
            ]
           ]
          },
          "colorway": [
           "#636efa",
           "#EF553B",
           "#00cc96",
           "#ab63fa",
           "#FFA15A",
           "#19d3f3",
           "#FF6692",
           "#B6E880",
           "#FF97FF",
           "#FECB52"
          ],
          "font": {
           "color": "#2a3f5f"
          },
          "geo": {
           "bgcolor": "white",
           "lakecolor": "white",
           "landcolor": "#E5ECF6",
           "showlakes": true,
           "showland": true,
           "subunitcolor": "white"
          },
          "hoverlabel": {
           "align": "left"
          },
          "hovermode": "closest",
          "mapbox": {
           "style": "light"
          },
          "paper_bgcolor": "white",
          "plot_bgcolor": "#E5ECF6",
          "polar": {
           "angularaxis": {
            "gridcolor": "white",
            "linecolor": "white",
            "ticks": ""
           },
           "bgcolor": "#E5ECF6",
           "radialaxis": {
            "gridcolor": "white",
            "linecolor": "white",
            "ticks": ""
           }
          },
          "scene": {
           "xaxis": {
            "backgroundcolor": "#E5ECF6",
            "gridcolor": "white",
            "gridwidth": 2,
            "linecolor": "white",
            "showbackground": true,
            "ticks": "",
            "zerolinecolor": "white"
           },
           "yaxis": {
            "backgroundcolor": "#E5ECF6",
            "gridcolor": "white",
            "gridwidth": 2,
            "linecolor": "white",
            "showbackground": true,
            "ticks": "",
            "zerolinecolor": "white"
           },
           "zaxis": {
            "backgroundcolor": "#E5ECF6",
            "gridcolor": "white",
            "gridwidth": 2,
            "linecolor": "white",
            "showbackground": true,
            "ticks": "",
            "zerolinecolor": "white"
           }
          },
          "shapedefaults": {
           "line": {
            "color": "#2a3f5f"
           }
          },
          "ternary": {
           "aaxis": {
            "gridcolor": "white",
            "linecolor": "white",
            "ticks": ""
           },
           "baxis": {
            "gridcolor": "white",
            "linecolor": "white",
            "ticks": ""
           },
           "bgcolor": "#E5ECF6",
           "caxis": {
            "gridcolor": "white",
            "linecolor": "white",
            "ticks": ""
           }
          },
          "title": {
           "x": 0.05
          },
          "xaxis": {
           "automargin": true,
           "gridcolor": "white",
           "linecolor": "white",
           "ticks": "",
           "title": {
            "standoff": 15
           },
           "zerolinecolor": "white",
           "zerolinewidth": 2
          },
          "yaxis": {
           "automargin": true,
           "gridcolor": "white",
           "linecolor": "white",
           "ticks": "",
           "title": {
            "standoff": 15
           },
           "zerolinecolor": "white",
           "zerolinewidth": 2
          }
         }
        },
        "width": 800,
        "xaxis": {
         "anchor": "y",
         "domain": [
          0,
          1
         ],
         "range": [
          -0.5,
          20.5
         ],
         "title": {
          "text": "Epoch"
         }
        },
        "yaxis": {
         "anchor": "x",
         "domain": [
          0,
          1
         ],
         "title": {
          "text": "Loss"
         }
        }
       }
      },
      "text/html": [
       "<div>                            <div id=\"e31bc51a-3118-46d0-8a89-69547378e375\" class=\"plotly-graph-div\" style=\"height:400px; width:800px;\"></div>            <script type=\"text/javascript\">                require([\"plotly\"], function(Plotly) {                    window.PLOTLYENV=window.PLOTLYENV || {};                                    if (document.getElementById(\"e31bc51a-3118-46d0-8a89-69547378e375\")) {                    Plotly.newPlot(                        \"e31bc51a-3118-46d0-8a89-69547378e375\",                        [{\"alignmentgroup\":\"True\",\"error_y\":{\"array\":[0.005625972343983367,0.006661445240342385,0.0032506488973413085,0.008808100601049765,0.005106298623665858,0.0033183341696540196,0.005487214931308551,0.009820490737504916,0.011131205458670588,0.0070555047492902164,0.0037595315895493113,0.01426451966886152,0.009430560844000254,0.009538462158349406,0.002919475982031608,0.011503634278430586,0.0056767533785827586,0.013461557057569348,0.01349077268708324,0.010125709572596148,0.010839612441757561,0.005112245501103998,0.018602038711890458,0.009203588770973863,0.016190797434348127,0.0073150822781623635,0.0063584775914624254,0.013006470694246736,0.012643375472209038,0.008016285683977177,0.007421261128328526,0.007102606097847337,0.006410420337123819,0.00524255981105138,0.012406571698320738,0.018743129029367284,0.018824629607790966,0.019244906654520444,0.005057074512748289,0.005437531242933043,0.00222397223012134,0.0015649644720084185,0.007297565190471268,0.01461000969848732,0.011019510203292488,0.0038140611972369504,0.003657357760288759,0.011076741879461732,0.014698194317110716,0.0022917639465338253,0.013438067164982992,0.010007948848302129,0.012912874409528324,0.00853059692478868,0.001805844881918175,0.004280626674936772,0.011669140899658053,0.004760159644544766,0.010652249483550284,0.014664735598103086,0.020195352273534053,0.02561200153299624,0.03158839492699917,0.00366619208309823,0.011190817096363003,0.012321443739158904,0.003390502652170457,0.00278469691692314,0.01618582827562641,0.01661773718805536,0.017275271729583423,0.00929542710940798,0.009129118392790696,0.00875549797522554,0.013275430770093298,0.0027891304267666276,0.011324996514956017,0.008278931988005887,0.005071319427589326,0.0055864458155672975,0.01105080498542814,0.008047086140293268,0.014688089582282769,0.024203476536341636,0.019672934596085843,0.01593984746303861,0.018855857524976382,0.017169114139060533,0.01462287660384083,0.021647246713343896,0.0103454922796378,0.004983767651499738,0.01782750963109105,0.002607148943031954,0.0021734957043544867,0.009098392154951137,0.008499769974120594,0.017788883800986095,0.026735166765336042,0.00632494583217273]},\"hovertemplate\":\"architecture_choice=Non-split\\u003cbr\\u003eepoch=%{x}\\u003cbr\\u003etrain_loss_mean=%{y}\\u003cextra\\u003e\\u003c\\u002fextra\\u003e\",\"legendgroup\":\"Non-split\",\"marker\":{\"color\":\"#636efa\",\"pattern\":{\"shape\":\"\"}},\"name\":\"Non-split\",\"offsetgroup\":\"Non-split\",\"orientation\":\"v\",\"showlegend\":true,\"textposition\":\"auto\",\"x\":[0,1,2,3,4,5,6,7,8,9,10,11,12,13,14,15,16,17,18,19,20,21,22,23,24,25,26,27,28,29,30,31,32,33,34,35,36,37,38,39,40,41,42,43,44,45,46,47,48,49,50,51,52,53,54,55,56,57,58,59,60,61,62,63,64,65,66,67,68,69,70,71,72,73,74,75,76,77,78,79,80,81,82,83,84,85,86,87,88,89,90,91,92,93,94,95,96,97,98,99],\"xaxis\":\"x\",\"y\":[1.0085138235336695,0.8764677139428946,0.8006853568248259,0.7623285987438299,0.7392507470571078,0.717763914511754,0.7021415355877999,0.6887746697817093,0.6818901529678931,0.6728786184237553,0.662253445539719,0.6544497181207706,0.6488986626649514,0.643078143780048,0.6500641520206746,0.635067493487627,0.6164227173878596,0.6166370908419291,0.6191660288052682,0.6046783228715262,0.5968696520878719,0.5914855950917953,0.59090533776161,0.5825596665724729,0.5738285245039524,0.5722449475373977,0.5650144311097952,0.5595246767386413,0.5575398947948065,0.5483576846428407,0.5376894481671163,0.5271301284814492,0.5237334171930949,0.525310001312158,0.5209170686892975,0.5070936519366045,0.5085286047214117,0.5051541580603672,0.5008195248933939,0.4979021602716201,0.4829673392650409,0.4763427605995765,0.46207625896502763,0.47597028658940244,0.4778997531303993,0.4783123425948314,0.4635365842244565,0.4698929534508632,0.4644490908353756,0.44398222596217424,0.4497967125513615,0.4437788801315503,0.4431080000522809,0.4374998922531422,0.42455589618438333,0.4291554483083579,0.4224708844453861,0.39726315094874454,0.3980033779755617,0.41067142440722537,0.40497758831733316,0.3931016241892791,0.39474828961568,0.38543654175905084,0.39075541419860643,0.38614629782163173,0.37324174015949935,0.38457703819641703,0.372583114183866,0.3660411101121169,0.37615770177963453,0.35816688797412777,0.36337627126620364,0.35695136281160206,0.36825814843177795,0.35564281313847274,0.3522966144940792,0.3372937074074378,0.33558184978289485,0.3332968751589457,0.3211689354517521,0.32632283598948747,0.3131662454360571,0.31989343655415065,0.3153468920634343,0.30987813228215927,0.31295698842941183,0.3110485722621282,0.31911461857648993,0.3156003122910475,0.30296798432484656,0.3092285883732331,0.3058339044069632,0.3004178974108818,0.2906255832849405,0.2884642596428211,0.28143159166360515,0.2837008115572807,0.2879962348020994,0.2721268813579511],\"yaxis\":\"y\",\"type\":\"bar\"}],                        {\"template\":{\"data\":{\"histogram2dcontour\":[{\"type\":\"histogram2dcontour\",\"colorbar\":{\"outlinewidth\":0,\"ticks\":\"\"},\"colorscale\":[[0.0,\"#0d0887\"],[0.1111111111111111,\"#46039f\"],[0.2222222222222222,\"#7201a8\"],[0.3333333333333333,\"#9c179e\"],[0.4444444444444444,\"#bd3786\"],[0.5555555555555556,\"#d8576b\"],[0.6666666666666666,\"#ed7953\"],[0.7777777777777778,\"#fb9f3a\"],[0.8888888888888888,\"#fdca26\"],[1.0,\"#f0f921\"]]}],\"choropleth\":[{\"type\":\"choropleth\",\"colorbar\":{\"outlinewidth\":0,\"ticks\":\"\"}}],\"histogram2d\":[{\"type\":\"histogram2d\",\"colorbar\":{\"outlinewidth\":0,\"ticks\":\"\"},\"colorscale\":[[0.0,\"#0d0887\"],[0.1111111111111111,\"#46039f\"],[0.2222222222222222,\"#7201a8\"],[0.3333333333333333,\"#9c179e\"],[0.4444444444444444,\"#bd3786\"],[0.5555555555555556,\"#d8576b\"],[0.6666666666666666,\"#ed7953\"],[0.7777777777777778,\"#fb9f3a\"],[0.8888888888888888,\"#fdca26\"],[1.0,\"#f0f921\"]]}],\"heatmap\":[{\"type\":\"heatmap\",\"colorbar\":{\"outlinewidth\":0,\"ticks\":\"\"},\"colorscale\":[[0.0,\"#0d0887\"],[0.1111111111111111,\"#46039f\"],[0.2222222222222222,\"#7201a8\"],[0.3333333333333333,\"#9c179e\"],[0.4444444444444444,\"#bd3786\"],[0.5555555555555556,\"#d8576b\"],[0.6666666666666666,\"#ed7953\"],[0.7777777777777778,\"#fb9f3a\"],[0.8888888888888888,\"#fdca26\"],[1.0,\"#f0f921\"]]}],\"heatmapgl\":[{\"type\":\"heatmapgl\",\"colorbar\":{\"outlinewidth\":0,\"ticks\":\"\"},\"colorscale\":[[0.0,\"#0d0887\"],[0.1111111111111111,\"#46039f\"],[0.2222222222222222,\"#7201a8\"],[0.3333333333333333,\"#9c179e\"],[0.4444444444444444,\"#bd3786\"],[0.5555555555555556,\"#d8576b\"],[0.6666666666666666,\"#ed7953\"],[0.7777777777777778,\"#fb9f3a\"],[0.8888888888888888,\"#fdca26\"],[1.0,\"#f0f921\"]]}],\"contourcarpet\":[{\"type\":\"contourcarpet\",\"colorbar\":{\"outlinewidth\":0,\"ticks\":\"\"}}],\"contour\":[{\"type\":\"contour\",\"colorbar\":{\"outlinewidth\":0,\"ticks\":\"\"},\"colorscale\":[[0.0,\"#0d0887\"],[0.1111111111111111,\"#46039f\"],[0.2222222222222222,\"#7201a8\"],[0.3333333333333333,\"#9c179e\"],[0.4444444444444444,\"#bd3786\"],[0.5555555555555556,\"#d8576b\"],[0.6666666666666666,\"#ed7953\"],[0.7777777777777778,\"#fb9f3a\"],[0.8888888888888888,\"#fdca26\"],[1.0,\"#f0f921\"]]}],\"surface\":[{\"type\":\"surface\",\"colorbar\":{\"outlinewidth\":0,\"ticks\":\"\"},\"colorscale\":[[0.0,\"#0d0887\"],[0.1111111111111111,\"#46039f\"],[0.2222222222222222,\"#7201a8\"],[0.3333333333333333,\"#9c179e\"],[0.4444444444444444,\"#bd3786\"],[0.5555555555555556,\"#d8576b\"],[0.6666666666666666,\"#ed7953\"],[0.7777777777777778,\"#fb9f3a\"],[0.8888888888888888,\"#fdca26\"],[1.0,\"#f0f921\"]]}],\"mesh3d\":[{\"type\":\"mesh3d\",\"colorbar\":{\"outlinewidth\":0,\"ticks\":\"\"}}],\"scatter\":[{\"fillpattern\":{\"fillmode\":\"overlay\",\"size\":10,\"solidity\":0.2},\"type\":\"scatter\"}],\"parcoords\":[{\"type\":\"parcoords\",\"line\":{\"colorbar\":{\"outlinewidth\":0,\"ticks\":\"\"}}}],\"scatterpolargl\":[{\"type\":\"scatterpolargl\",\"marker\":{\"colorbar\":{\"outlinewidth\":0,\"ticks\":\"\"}}}],\"bar\":[{\"error_x\":{\"color\":\"#2a3f5f\"},\"error_y\":{\"color\":\"#2a3f5f\"},\"marker\":{\"line\":{\"color\":\"#E5ECF6\",\"width\":0.5},\"pattern\":{\"fillmode\":\"overlay\",\"size\":10,\"solidity\":0.2}},\"type\":\"bar\"}],\"scattergeo\":[{\"type\":\"scattergeo\",\"marker\":{\"colorbar\":{\"outlinewidth\":0,\"ticks\":\"\"}}}],\"scatterpolar\":[{\"type\":\"scatterpolar\",\"marker\":{\"colorbar\":{\"outlinewidth\":0,\"ticks\":\"\"}}}],\"histogram\":[{\"marker\":{\"pattern\":{\"fillmode\":\"overlay\",\"size\":10,\"solidity\":0.2}},\"type\":\"histogram\"}],\"scattergl\":[{\"type\":\"scattergl\",\"marker\":{\"colorbar\":{\"outlinewidth\":0,\"ticks\":\"\"}}}],\"scatter3d\":[{\"type\":\"scatter3d\",\"line\":{\"colorbar\":{\"outlinewidth\":0,\"ticks\":\"\"}},\"marker\":{\"colorbar\":{\"outlinewidth\":0,\"ticks\":\"\"}}}],\"scattermapbox\":[{\"type\":\"scattermapbox\",\"marker\":{\"colorbar\":{\"outlinewidth\":0,\"ticks\":\"\"}}}],\"scatterternary\":[{\"type\":\"scatterternary\",\"marker\":{\"colorbar\":{\"outlinewidth\":0,\"ticks\":\"\"}}}],\"scattercarpet\":[{\"type\":\"scattercarpet\",\"marker\":{\"colorbar\":{\"outlinewidth\":0,\"ticks\":\"\"}}}],\"carpet\":[{\"aaxis\":{\"endlinecolor\":\"#2a3f5f\",\"gridcolor\":\"white\",\"linecolor\":\"white\",\"minorgridcolor\":\"white\",\"startlinecolor\":\"#2a3f5f\"},\"baxis\":{\"endlinecolor\":\"#2a3f5f\",\"gridcolor\":\"white\",\"linecolor\":\"white\",\"minorgridcolor\":\"white\",\"startlinecolor\":\"#2a3f5f\"},\"type\":\"carpet\"}],\"table\":[{\"cells\":{\"fill\":{\"color\":\"#EBF0F8\"},\"line\":{\"color\":\"white\"}},\"header\":{\"fill\":{\"color\":\"#C8D4E3\"},\"line\":{\"color\":\"white\"}},\"type\":\"table\"}],\"barpolar\":[{\"marker\":{\"line\":{\"color\":\"#E5ECF6\",\"width\":0.5},\"pattern\":{\"fillmode\":\"overlay\",\"size\":10,\"solidity\":0.2}},\"type\":\"barpolar\"}],\"pie\":[{\"automargin\":true,\"type\":\"pie\"}]},\"layout\":{\"autotypenumbers\":\"strict\",\"colorway\":[\"#636efa\",\"#EF553B\",\"#00cc96\",\"#ab63fa\",\"#FFA15A\",\"#19d3f3\",\"#FF6692\",\"#B6E880\",\"#FF97FF\",\"#FECB52\"],\"font\":{\"color\":\"#2a3f5f\"},\"hovermode\":\"closest\",\"hoverlabel\":{\"align\":\"left\"},\"paper_bgcolor\":\"white\",\"plot_bgcolor\":\"#E5ECF6\",\"polar\":{\"bgcolor\":\"#E5ECF6\",\"angularaxis\":{\"gridcolor\":\"white\",\"linecolor\":\"white\",\"ticks\":\"\"},\"radialaxis\":{\"gridcolor\":\"white\",\"linecolor\":\"white\",\"ticks\":\"\"}},\"ternary\":{\"bgcolor\":\"#E5ECF6\",\"aaxis\":{\"gridcolor\":\"white\",\"linecolor\":\"white\",\"ticks\":\"\"},\"baxis\":{\"gridcolor\":\"white\",\"linecolor\":\"white\",\"ticks\":\"\"},\"caxis\":{\"gridcolor\":\"white\",\"linecolor\":\"white\",\"ticks\":\"\"}},\"coloraxis\":{\"colorbar\":{\"outlinewidth\":0,\"ticks\":\"\"}},\"colorscale\":{\"sequential\":[[0.0,\"#0d0887\"],[0.1111111111111111,\"#46039f\"],[0.2222222222222222,\"#7201a8\"],[0.3333333333333333,\"#9c179e\"],[0.4444444444444444,\"#bd3786\"],[0.5555555555555556,\"#d8576b\"],[0.6666666666666666,\"#ed7953\"],[0.7777777777777778,\"#fb9f3a\"],[0.8888888888888888,\"#fdca26\"],[1.0,\"#f0f921\"]],\"sequentialminus\":[[0.0,\"#0d0887\"],[0.1111111111111111,\"#46039f\"],[0.2222222222222222,\"#7201a8\"],[0.3333333333333333,\"#9c179e\"],[0.4444444444444444,\"#bd3786\"],[0.5555555555555556,\"#d8576b\"],[0.6666666666666666,\"#ed7953\"],[0.7777777777777778,\"#fb9f3a\"],[0.8888888888888888,\"#fdca26\"],[1.0,\"#f0f921\"]],\"diverging\":[[0,\"#8e0152\"],[0.1,\"#c51b7d\"],[0.2,\"#de77ae\"],[0.3,\"#f1b6da\"],[0.4,\"#fde0ef\"],[0.5,\"#f7f7f7\"],[0.6,\"#e6f5d0\"],[0.7,\"#b8e186\"],[0.8,\"#7fbc41\"],[0.9,\"#4d9221\"],[1,\"#276419\"]]},\"xaxis\":{\"gridcolor\":\"white\",\"linecolor\":\"white\",\"ticks\":\"\",\"title\":{\"standoff\":15},\"zerolinecolor\":\"white\",\"automargin\":true,\"zerolinewidth\":2},\"yaxis\":{\"gridcolor\":\"white\",\"linecolor\":\"white\",\"ticks\":\"\",\"title\":{\"standoff\":15},\"zerolinecolor\":\"white\",\"automargin\":true,\"zerolinewidth\":2},\"scene\":{\"xaxis\":{\"backgroundcolor\":\"#E5ECF6\",\"gridcolor\":\"white\",\"linecolor\":\"white\",\"showbackground\":true,\"ticks\":\"\",\"zerolinecolor\":\"white\",\"gridwidth\":2},\"yaxis\":{\"backgroundcolor\":\"#E5ECF6\",\"gridcolor\":\"white\",\"linecolor\":\"white\",\"showbackground\":true,\"ticks\":\"\",\"zerolinecolor\":\"white\",\"gridwidth\":2},\"zaxis\":{\"backgroundcolor\":\"#E5ECF6\",\"gridcolor\":\"white\",\"linecolor\":\"white\",\"showbackground\":true,\"ticks\":\"\",\"zerolinecolor\":\"white\",\"gridwidth\":2}},\"shapedefaults\":{\"line\":{\"color\":\"#2a3f5f\"}},\"annotationdefaults\":{\"arrowcolor\":\"#2a3f5f\",\"arrowhead\":0,\"arrowwidth\":1},\"geo\":{\"bgcolor\":\"white\",\"landcolor\":\"#E5ECF6\",\"subunitcolor\":\"white\",\"showland\":true,\"showlakes\":true,\"lakecolor\":\"white\"},\"title\":{\"x\":0.05},\"mapbox\":{\"style\":\"light\"}}},\"xaxis\":{\"anchor\":\"y\",\"domain\":[0.0,1.0],\"title\":{\"text\":\"Epoch\"},\"range\":[-0.5,20.5]},\"yaxis\":{\"anchor\":\"x\",\"domain\":[0.0,1.0],\"title\":{\"text\":\"Loss\"}},\"legend\":{\"title\":{\"text\":\"Config\"},\"tracegroupgap\":0},\"margin\":{\"t\":60},\"barmode\":\"relative\",\"font\":{\"size\":18},\"width\":800,\"height\":400,\"hovermode\":\"x\"},                        {\"responsive\": true}                    ).then(function(){\n",
       "                            \n",
       "var gd = document.getElementById('e31bc51a-3118-46d0-8a89-69547378e375');\n",
       "var x = new MutationObserver(function (mutations, observer) {{\n",
       "        var display = window.getComputedStyle(gd).display;\n",
       "        if (!display || display === 'none') {{\n",
       "            console.log([gd, 'removed!']);\n",
       "            Plotly.purge(gd);\n",
       "            observer.disconnect();\n",
       "        }}\n",
       "}});\n",
       "\n",
       "// Listen for the removal of the full notebook cells\n",
       "var notebookContainer = gd.closest('#notebook-container');\n",
       "if (notebookContainer) {{\n",
       "    x.observe(notebookContainer, {childList: true});\n",
       "}}\n",
       "\n",
       "// Listen for the clearing of the current output cell\n",
       "var outputEl = gd.closest('.output');\n",
       "if (outputEl) {{\n",
       "    x.observe(outputEl, {childList: true});\n",
       "}}\n",
       "\n",
       "                        })                };                });            </script>        </div>"
      ]
     },
     "metadata": {},
     "output_type": "display_data"
    }
   ],
   "source": [
    "\n",
    "\n",
    "fig = bar_plot(df,\n",
    "                x_axis='epoch',\n",
    "                y_axis='train_loss',\n",
    "                group_by='architecture_choice',\n",
    "                x_axis_title = 'Epoch',\n",
    "                y_axis_title = 'Loss',\n",
    "                legend_title = 'Config',\n",
    "                legend_names={\n",
    "                    0 : 'Non-split'\n",
    "                })\n",
    "\n",
    "# set x_range\n",
    "fig.update_xaxes(range=[-0.5, 20.5])\n",
    "fig.show()"
   ]
  },
  {
   "cell_type": "code",
   "execution_count": null,
   "metadata": {},
   "outputs": [
    {
     "data": {
      "application/vnd.plotly.v1+json": {
       "config": {
        "plotlyServerURL": "https://plot.ly"
       },
       "data": [
        {
         "alignmentgroup": "True",
         "error_y": {
          "array": [
           0.005625972343983367,
           0.006661445240342385,
           0.0032506488973413085,
           0.008808100601049765,
           0.005106298623665858,
           0.0033183341696540196,
           0.005487214931308551,
           0.009820490737504916,
           0.011131205458670588,
           0.0070555047492902164,
           0.0037595315895493113,
           0.01426451966886152,
           0.009430560844000254,
           0.009538462158349406,
           0.002919475982031608,
           0.011503634278430586,
           0.0056767533785827586,
           0.013461557057569348,
           0.01349077268708324,
           0.010125709572596148,
           0.010839612441757561,
           0.005112245501103998,
           0.018602038711890458,
           0.009203588770973863,
           0.016190797434348127,
           0.0073150822781623635,
           0.0063584775914624254,
           0.013006470694246736,
           0.012643375472209038,
           0.008016285683977177,
           0.007421261128328526,
           0.007102606097847337,
           0.006410420337123819,
           0.00524255981105138,
           0.012406571698320738,
           0.018743129029367284,
           0.018824629607790966,
           0.019244906654520444,
           0.005057074512748289,
           0.005437531242933043,
           0.00222397223012134,
           0.0015649644720084185,
           0.007297565190471268,
           0.01461000969848732,
           0.011019510203292488,
           0.0038140611972369504,
           0.003657357760288759,
           0.011076741879461732,
           0.014698194317110716,
           0.0022917639465338253,
           0.013438067164982992,
           0.010007948848302129,
           0.012912874409528324,
           0.00853059692478868,
           0.001805844881918175,
           0.004280626674936772,
           0.011669140899658053,
           0.004760159644544766,
           0.010652249483550284,
           0.014664735598103086,
           0.020195352273534053,
           0.02561200153299624,
           0.03158839492699917,
           0.00366619208309823,
           0.011190817096363003,
           0.012321443739158904,
           0.003390502652170457,
           0.00278469691692314,
           0.01618582827562641,
           0.01661773718805536,
           0.017275271729583423,
           0.00929542710940798,
           0.009129118392790696,
           0.00875549797522554,
           0.013275430770093298,
           0.0027891304267666276,
           0.011324996514956017,
           0.008278931988005887,
           0.005071319427589326,
           0.0055864458155672975,
           0.01105080498542814,
           0.008047086140293268,
           0.014688089582282769,
           0.024203476536341636,
           0.019672934596085843,
           0.01593984746303861,
           0.018855857524976382,
           0.017169114139060533,
           0.01462287660384083,
           0.021647246713343896,
           0.0103454922796378,
           0.004983767651499738,
           0.01782750963109105,
           0.002607148943031954,
           0.0021734957043544867,
           0.009098392154951137,
           0.008499769974120594,
           0.017788883800986095,
           0.026735166765336042,
           0.00632494583217273
          ]
         },
         "hovertemplate": "Loss=Train<br>epoch=%{x}<br>value_mean=%{y}<extra></extra>",
         "legendgroup": "Train",
         "marker": {
          "color": "#636efa",
          "pattern": {
           "shape": ""
          }
         },
         "name": "Train",
         "offsetgroup": "Train",
         "orientation": "v",
         "showlegend": true,
         "textposition": "auto",
         "type": "bar",
         "x": [
          0,
          1,
          2,
          3,
          4,
          5,
          6,
          7,
          8,
          9,
          10,
          11,
          12,
          13,
          14,
          15,
          16,
          17,
          18,
          19,
          20,
          21,
          22,
          23,
          24,
          25,
          26,
          27,
          28,
          29,
          30,
          31,
          32,
          33,
          34,
          35,
          36,
          37,
          38,
          39,
          40,
          41,
          42,
          43,
          44,
          45,
          46,
          47,
          48,
          49,
          50,
          51,
          52,
          53,
          54,
          55,
          56,
          57,
          58,
          59,
          60,
          61,
          62,
          63,
          64,
          65,
          66,
          67,
          68,
          69,
          70,
          71,
          72,
          73,
          74,
          75,
          76,
          77,
          78,
          79,
          80,
          81,
          82,
          83,
          84,
          85,
          86,
          87,
          88,
          89,
          90,
          91,
          92,
          93,
          94,
          95,
          96,
          97,
          98,
          99
         ],
         "xaxis": "x",
         "y": [
          1.0085138235336695,
          0.8764677139428946,
          0.8006853568248259,
          0.7623285987438299,
          0.7392507470571078,
          0.717763914511754,
          0.7021415355877999,
          0.6887746697817093,
          0.6818901529678931,
          0.6728786184237553,
          0.662253445539719,
          0.6544497181207706,
          0.6488986626649514,
          0.643078143780048,
          0.6500641520206746,
          0.635067493487627,
          0.6164227173878596,
          0.6166370908419291,
          0.6191660288052682,
          0.6046783228715262,
          0.5968696520878719,
          0.5914855950917953,
          0.59090533776161,
          0.5825596665724729,
          0.5738285245039524,
          0.5722449475373977,
          0.5650144311097952,
          0.5595246767386413,
          0.5575398947948065,
          0.5483576846428407,
          0.5376894481671163,
          0.5271301284814492,
          0.5237334171930949,
          0.525310001312158,
          0.5209170686892975,
          0.5070936519366045,
          0.5085286047214117,
          0.5051541580603672,
          0.5008195248933939,
          0.4979021602716201,
          0.4829673392650409,
          0.4763427605995765,
          0.46207625896502763,
          0.47597028658940244,
          0.4778997531303993,
          0.4783123425948314,
          0.4635365842244565,
          0.4698929534508632,
          0.4644490908353756,
          0.44398222596217424,
          0.4497967125513615,
          0.4437788801315503,
          0.4431080000522809,
          0.4374998922531422,
          0.42455589618438333,
          0.4291554483083579,
          0.4224708844453861,
          0.39726315094874454,
          0.3980033779755617,
          0.41067142440722537,
          0.40497758831733316,
          0.3931016241892791,
          0.39474828961568,
          0.38543654175905084,
          0.39075541419860643,
          0.38614629782163173,
          0.37324174015949935,
          0.38457703819641703,
          0.372583114183866,
          0.3660411101121169,
          0.37615770177963453,
          0.35816688797412777,
          0.36337627126620364,
          0.35695136281160206,
          0.36825814843177795,
          0.35564281313847274,
          0.3522966144940792,
          0.3372937074074378,
          0.33558184978289485,
          0.3332968751589457,
          0.3211689354517521,
          0.32632283598948747,
          0.3131662454360571,
          0.31989343655415065,
          0.3153468920634343,
          0.30987813228215927,
          0.31295698842941183,
          0.3110485722621282,
          0.31911461857648993,
          0.3156003122910475,
          0.30296798432484656,
          0.3092285883732331,
          0.3058339044069632,
          0.3004178974108818,
          0.2906255832849405,
          0.2884642596428211,
          0.28143159166360515,
          0.2837008115572807,
          0.2879962348020994,
          0.2721268813579511
         ],
         "yaxis": "y"
        },
        {
         "alignmentgroup": "True",
         "error_y": {
          "array": [
           0.5559026238674988,
           0.10845374154832017,
           0.1763980716336093,
           0.2146981413213923,
           0.08829979761515253,
           0.030571429690753694,
           0.0681864628124074,
           0.06146706075716814,
           0.0349522576814253,
           0.13622607167512085,
           0.011985099321940605,
           0.0346930055603681,
           0.09918121747979114,
           0.08390571506138766,
           0.03706183292523174,
           0.06388483002553667,
           0.00831807033923697,
           0.011380477765471079,
           0.03148739987441569,
           0.010523721985437311,
           0.04546980630185307,
           0.057367400375633336,
           0.05570554629445516,
           0.05494186911075723,
           0.05452002710674134,
           0.029847375543216825,
           0.10708178556631164,
           0.04695158691829703,
           0.01917791001497038,
           0.03974395846301155,
           0.03373344266430849,
           0.04687188906352778,
           0.07061086247393296,
           0.02784431174229719,
           0.018596993177052656,
           0.030743780904816623,
           0.13390669676575898,
           0.05985847637815684,
           0.08801875427237217,
           0.0159723216966632,
           0.11358635551859392,
           0.05652262938586159,
           0.050280154106547875,
           0.015264898987060457,
           0.03714841205619419,
           0.05385616228688756,
           0.023350761791025222,
           0.014655464042860528,
           0.03662934854264218,
           0.07369101095829786,
           0.06367112618163392,
           0.040303745772275155,
           0.0051314687198137565,
           0.1374846171775764,
           0.030314356156877487,
           0.21243004236038257,
           0.046763423643343,
           0.04701239388086075,
           0.08183841516980327,
           0.059542612345655985,
           0.06761668872367949,
           0.03751401935364863,
           0.08410440027198898,
           0.057798734294139315,
           0.051571001384928136,
           0.03505449704528562,
           0.0636120289293995,
           0.0809661447396522,
           0.05764200916097695,
           0.048201572426216074,
           0.08392073665268125,
           0.027515312976731713,
           0.03516280539209687,
           0.14528862626300543,
           0.08419900442841184,
           0.05489586123670493,
           0.09352592110663284,
           0.01140024373041798,
           0.043078633347503024,
           0.012262820450464873,
           0.05171608034059388,
           0.08137506355228566,
           0.061083424094755534,
           0.02763151344822412,
           0.08218163790455611,
           0.16891924381837906,
           0.1282563576064151,
           0.03039918426188612,
           0.0424742372104363,
           0.023662340973527696,
           0.06494214891145449,
           0.0505066494319831,
           0.2007909836778555,
           0.07054544498403033,
           0.007960635807655866,
           0.028010482384303675,
           0.017766378570890005,
           0.024008735383599735,
           0.05436174731436636,
           0.025187745906242256
          ]
         },
         "hovertemplate": "Loss=Validation<br>epoch=%{x}<br>value_mean=%{y}<extra></extra>",
         "legendgroup": "Validation",
         "marker": {
          "color": "#EF553B",
          "pattern": {
           "shape": ""
          }
         },
         "name": "Validation",
         "offsetgroup": "Validation",
         "orientation": "v",
         "showlegend": true,
         "textposition": "auto",
         "type": "bar",
         "x": [
          0,
          1,
          2,
          3,
          4,
          5,
          6,
          7,
          8,
          9,
          10,
          11,
          12,
          13,
          14,
          15,
          16,
          17,
          18,
          19,
          20,
          21,
          22,
          23,
          24,
          25,
          26,
          27,
          28,
          29,
          30,
          31,
          32,
          33,
          34,
          35,
          36,
          37,
          38,
          39,
          40,
          41,
          42,
          43,
          44,
          45,
          46,
          47,
          48,
          49,
          50,
          51,
          52,
          53,
          54,
          55,
          56,
          57,
          58,
          59,
          60,
          61,
          62,
          63,
          64,
          65,
          66,
          67,
          68,
          69,
          70,
          71,
          72,
          73,
          74,
          75,
          76,
          77,
          78,
          79,
          80,
          81,
          82,
          83,
          84,
          85,
          86,
          87,
          88,
          89,
          90,
          91,
          92,
          93,
          94,
          95,
          96,
          97,
          98,
          99
         ],
         "xaxis": "x",
         "y": [
          2.5641546703520275,
          1.2736005612782069,
          1.0305770522072202,
          0.9849000062261309,
          0.9781895819164457,
          0.8257609180041722,
          0.8623116470518566,
          0.9059617632911318,
          0.879661636693137,
          0.9101919531822205,
          0.8335916712170556,
          0.8377852695328848,
          0.9059833004361106,
          0.9590113872573488,
          0.8713972199530828,
          0.8745065359842209,
          0.8393027725673857,
          0.834278296856653,
          0.8749270637830099,
          0.8430149413290478,
          0.8413935701052347,
          0.9101895689964294,
          0.8508571414720444,
          0.8588471100443886,
          0.8628887817973182,
          0.8286385252362206,
          0.8780847191810608,
          0.8463679665610903,
          0.8339003409658159,
          0.9018895540918622,
          0.8424423507281712,
          0.8869023833956037,
          0.8653484157153538,
          0.8744486343292963,
          0.9248185328074863,
          0.832804535116468,
          0.9275988311994644,
          0.8415277912503197,
          0.8880193318639482,
          0.8533920588947478,
          0.8932512487683978,
          0.8818111930574689,
          0.8681476002647762,
          0.8806141047250656,
          0.894290146373567,
          0.8796485605693999,
          0.9068136612574259,
          0.8727876941363016,
          0.9298588264556159,
          0.8961703607014249,
          0.9172766151882352,
          0.9151691368647984,
          0.8650659436271303,
          0.9403323928515116,
          0.8515112967718216,
          1.026427442119235,
          0.9079449772834778,
          0.9136863436017718,
          0.9662299468403771,
          0.9150863289833069,
          0.9922444763637724,
          0.9174948334693909,
          0.9820017757869902,
          0.9593794998668489,
          0.9361252926644825,
          0.9355920978954861,
          0.9439073829423813,
          0.9767467124121528,
          0.9960521374429975,
          1.023868963831947,
          0.9772096560114907,
          0.9528579456465586,
          0.9090000958669754,
          1.0985913702419827,
          1.0207232378778004,
          0.9841048745881943,
          1.0263026526996069,
          0.9626152515411377,
          0.9612048183168683,
          0.9859065612157186,
          0.9756274081411815,
          1.0069510965120223,
          1.018210110210237,
          1.0197945975121998,
          1.0355812112490337,
          1.04643410160428,
          1.1056639126368932,
          1.0548105268251327,
          1.0517415631385076,
          1.0164892957324072,
          1.1353980246044342,
          1.0209321067446755,
          1.1262295757021226,
          1.0148543829009646,
          1.0186386108398438,
          1.017438048408145,
          1.0820117791493733,
          0.9932221741903398,
          1.132320176987421,
          1.0092363499459767
         ],
         "yaxis": "y"
        }
       ],
       "layout": {
        "barmode": "group",
        "font": {
         "size": 18
        },
        "height": 400,
        "hovermode": "x",
        "legend": {
         "title": {
          "text": "Loss"
         },
         "tracegroupgap": 0
        },
        "margin": {
         "t": 60
        },
        "template": {
         "data": {
          "bar": [
           {
            "error_x": {
             "color": "#2a3f5f"
            },
            "error_y": {
             "color": "#2a3f5f"
            },
            "marker": {
             "line": {
              "color": "#E5ECF6",
              "width": 0.5
             },
             "pattern": {
              "fillmode": "overlay",
              "size": 10,
              "solidity": 0.2
             }
            },
            "type": "bar"
           }
          ],
          "barpolar": [
           {
            "marker": {
             "line": {
              "color": "#E5ECF6",
              "width": 0.5
             },
             "pattern": {
              "fillmode": "overlay",
              "size": 10,
              "solidity": 0.2
             }
            },
            "type": "barpolar"
           }
          ],
          "carpet": [
           {
            "aaxis": {
             "endlinecolor": "#2a3f5f",
             "gridcolor": "white",
             "linecolor": "white",
             "minorgridcolor": "white",
             "startlinecolor": "#2a3f5f"
            },
            "baxis": {
             "endlinecolor": "#2a3f5f",
             "gridcolor": "white",
             "linecolor": "white",
             "minorgridcolor": "white",
             "startlinecolor": "#2a3f5f"
            },
            "type": "carpet"
           }
          ],
          "choropleth": [
           {
            "colorbar": {
             "outlinewidth": 0,
             "ticks": ""
            },
            "type": "choropleth"
           }
          ],
          "contour": [
           {
            "colorbar": {
             "outlinewidth": 0,
             "ticks": ""
            },
            "colorscale": [
             [
              0,
              "#0d0887"
             ],
             [
              0.1111111111111111,
              "#46039f"
             ],
             [
              0.2222222222222222,
              "#7201a8"
             ],
             [
              0.3333333333333333,
              "#9c179e"
             ],
             [
              0.4444444444444444,
              "#bd3786"
             ],
             [
              0.5555555555555556,
              "#d8576b"
             ],
             [
              0.6666666666666666,
              "#ed7953"
             ],
             [
              0.7777777777777778,
              "#fb9f3a"
             ],
             [
              0.8888888888888888,
              "#fdca26"
             ],
             [
              1,
              "#f0f921"
             ]
            ],
            "type": "contour"
           }
          ],
          "contourcarpet": [
           {
            "colorbar": {
             "outlinewidth": 0,
             "ticks": ""
            },
            "type": "contourcarpet"
           }
          ],
          "heatmap": [
           {
            "colorbar": {
             "outlinewidth": 0,
             "ticks": ""
            },
            "colorscale": [
             [
              0,
              "#0d0887"
             ],
             [
              0.1111111111111111,
              "#46039f"
             ],
             [
              0.2222222222222222,
              "#7201a8"
             ],
             [
              0.3333333333333333,
              "#9c179e"
             ],
             [
              0.4444444444444444,
              "#bd3786"
             ],
             [
              0.5555555555555556,
              "#d8576b"
             ],
             [
              0.6666666666666666,
              "#ed7953"
             ],
             [
              0.7777777777777778,
              "#fb9f3a"
             ],
             [
              0.8888888888888888,
              "#fdca26"
             ],
             [
              1,
              "#f0f921"
             ]
            ],
            "type": "heatmap"
           }
          ],
          "heatmapgl": [
           {
            "colorbar": {
             "outlinewidth": 0,
             "ticks": ""
            },
            "colorscale": [
             [
              0,
              "#0d0887"
             ],
             [
              0.1111111111111111,
              "#46039f"
             ],
             [
              0.2222222222222222,
              "#7201a8"
             ],
             [
              0.3333333333333333,
              "#9c179e"
             ],
             [
              0.4444444444444444,
              "#bd3786"
             ],
             [
              0.5555555555555556,
              "#d8576b"
             ],
             [
              0.6666666666666666,
              "#ed7953"
             ],
             [
              0.7777777777777778,
              "#fb9f3a"
             ],
             [
              0.8888888888888888,
              "#fdca26"
             ],
             [
              1,
              "#f0f921"
             ]
            ],
            "type": "heatmapgl"
           }
          ],
          "histogram": [
           {
            "marker": {
             "pattern": {
              "fillmode": "overlay",
              "size": 10,
              "solidity": 0.2
             }
            },
            "type": "histogram"
           }
          ],
          "histogram2d": [
           {
            "colorbar": {
             "outlinewidth": 0,
             "ticks": ""
            },
            "colorscale": [
             [
              0,
              "#0d0887"
             ],
             [
              0.1111111111111111,
              "#46039f"
             ],
             [
              0.2222222222222222,
              "#7201a8"
             ],
             [
              0.3333333333333333,
              "#9c179e"
             ],
             [
              0.4444444444444444,
              "#bd3786"
             ],
             [
              0.5555555555555556,
              "#d8576b"
             ],
             [
              0.6666666666666666,
              "#ed7953"
             ],
             [
              0.7777777777777778,
              "#fb9f3a"
             ],
             [
              0.8888888888888888,
              "#fdca26"
             ],
             [
              1,
              "#f0f921"
             ]
            ],
            "type": "histogram2d"
           }
          ],
          "histogram2dcontour": [
           {
            "colorbar": {
             "outlinewidth": 0,
             "ticks": ""
            },
            "colorscale": [
             [
              0,
              "#0d0887"
             ],
             [
              0.1111111111111111,
              "#46039f"
             ],
             [
              0.2222222222222222,
              "#7201a8"
             ],
             [
              0.3333333333333333,
              "#9c179e"
             ],
             [
              0.4444444444444444,
              "#bd3786"
             ],
             [
              0.5555555555555556,
              "#d8576b"
             ],
             [
              0.6666666666666666,
              "#ed7953"
             ],
             [
              0.7777777777777778,
              "#fb9f3a"
             ],
             [
              0.8888888888888888,
              "#fdca26"
             ],
             [
              1,
              "#f0f921"
             ]
            ],
            "type": "histogram2dcontour"
           }
          ],
          "mesh3d": [
           {
            "colorbar": {
             "outlinewidth": 0,
             "ticks": ""
            },
            "type": "mesh3d"
           }
          ],
          "parcoords": [
           {
            "line": {
             "colorbar": {
              "outlinewidth": 0,
              "ticks": ""
             }
            },
            "type": "parcoords"
           }
          ],
          "pie": [
           {
            "automargin": true,
            "type": "pie"
           }
          ],
          "scatter": [
           {
            "fillpattern": {
             "fillmode": "overlay",
             "size": 10,
             "solidity": 0.2
            },
            "type": "scatter"
           }
          ],
          "scatter3d": [
           {
            "line": {
             "colorbar": {
              "outlinewidth": 0,
              "ticks": ""
             }
            },
            "marker": {
             "colorbar": {
              "outlinewidth": 0,
              "ticks": ""
             }
            },
            "type": "scatter3d"
           }
          ],
          "scattercarpet": [
           {
            "marker": {
             "colorbar": {
              "outlinewidth": 0,
              "ticks": ""
             }
            },
            "type": "scattercarpet"
           }
          ],
          "scattergeo": [
           {
            "marker": {
             "colorbar": {
              "outlinewidth": 0,
              "ticks": ""
             }
            },
            "type": "scattergeo"
           }
          ],
          "scattergl": [
           {
            "marker": {
             "colorbar": {
              "outlinewidth": 0,
              "ticks": ""
             }
            },
            "type": "scattergl"
           }
          ],
          "scattermapbox": [
           {
            "marker": {
             "colorbar": {
              "outlinewidth": 0,
              "ticks": ""
             }
            },
            "type": "scattermapbox"
           }
          ],
          "scatterpolar": [
           {
            "marker": {
             "colorbar": {
              "outlinewidth": 0,
              "ticks": ""
             }
            },
            "type": "scatterpolar"
           }
          ],
          "scatterpolargl": [
           {
            "marker": {
             "colorbar": {
              "outlinewidth": 0,
              "ticks": ""
             }
            },
            "type": "scatterpolargl"
           }
          ],
          "scatterternary": [
           {
            "marker": {
             "colorbar": {
              "outlinewidth": 0,
              "ticks": ""
             }
            },
            "type": "scatterternary"
           }
          ],
          "surface": [
           {
            "colorbar": {
             "outlinewidth": 0,
             "ticks": ""
            },
            "colorscale": [
             [
              0,
              "#0d0887"
             ],
             [
              0.1111111111111111,
              "#46039f"
             ],
             [
              0.2222222222222222,
              "#7201a8"
             ],
             [
              0.3333333333333333,
              "#9c179e"
             ],
             [
              0.4444444444444444,
              "#bd3786"
             ],
             [
              0.5555555555555556,
              "#d8576b"
             ],
             [
              0.6666666666666666,
              "#ed7953"
             ],
             [
              0.7777777777777778,
              "#fb9f3a"
             ],
             [
              0.8888888888888888,
              "#fdca26"
             ],
             [
              1,
              "#f0f921"
             ]
            ],
            "type": "surface"
           }
          ],
          "table": [
           {
            "cells": {
             "fill": {
              "color": "#EBF0F8"
             },
             "line": {
              "color": "white"
             }
            },
            "header": {
             "fill": {
              "color": "#C8D4E3"
             },
             "line": {
              "color": "white"
             }
            },
            "type": "table"
           }
          ]
         },
         "layout": {
          "annotationdefaults": {
           "arrowcolor": "#2a3f5f",
           "arrowhead": 0,
           "arrowwidth": 1
          },
          "autotypenumbers": "strict",
          "coloraxis": {
           "colorbar": {
            "outlinewidth": 0,
            "ticks": ""
           }
          },
          "colorscale": {
           "diverging": [
            [
             0,
             "#8e0152"
            ],
            [
             0.1,
             "#c51b7d"
            ],
            [
             0.2,
             "#de77ae"
            ],
            [
             0.3,
             "#f1b6da"
            ],
            [
             0.4,
             "#fde0ef"
            ],
            [
             0.5,
             "#f7f7f7"
            ],
            [
             0.6,
             "#e6f5d0"
            ],
            [
             0.7,
             "#b8e186"
            ],
            [
             0.8,
             "#7fbc41"
            ],
            [
             0.9,
             "#4d9221"
            ],
            [
             1,
             "#276419"
            ]
           ],
           "sequential": [
            [
             0,
             "#0d0887"
            ],
            [
             0.1111111111111111,
             "#46039f"
            ],
            [
             0.2222222222222222,
             "#7201a8"
            ],
            [
             0.3333333333333333,
             "#9c179e"
            ],
            [
             0.4444444444444444,
             "#bd3786"
            ],
            [
             0.5555555555555556,
             "#d8576b"
            ],
            [
             0.6666666666666666,
             "#ed7953"
            ],
            [
             0.7777777777777778,
             "#fb9f3a"
            ],
            [
             0.8888888888888888,
             "#fdca26"
            ],
            [
             1,
             "#f0f921"
            ]
           ],
           "sequentialminus": [
            [
             0,
             "#0d0887"
            ],
            [
             0.1111111111111111,
             "#46039f"
            ],
            [
             0.2222222222222222,
             "#7201a8"
            ],
            [
             0.3333333333333333,
             "#9c179e"
            ],
            [
             0.4444444444444444,
             "#bd3786"
            ],
            [
             0.5555555555555556,
             "#d8576b"
            ],
            [
             0.6666666666666666,
             "#ed7953"
            ],
            [
             0.7777777777777778,
             "#fb9f3a"
            ],
            [
             0.8888888888888888,
             "#fdca26"
            ],
            [
             1,
             "#f0f921"
            ]
           ]
          },
          "colorway": [
           "#636efa",
           "#EF553B",
           "#00cc96",
           "#ab63fa",
           "#FFA15A",
           "#19d3f3",
           "#FF6692",
           "#B6E880",
           "#FF97FF",
           "#FECB52"
          ],
          "font": {
           "color": "#2a3f5f"
          },
          "geo": {
           "bgcolor": "white",
           "lakecolor": "white",
           "landcolor": "#E5ECF6",
           "showlakes": true,
           "showland": true,
           "subunitcolor": "white"
          },
          "hoverlabel": {
           "align": "left"
          },
          "hovermode": "closest",
          "mapbox": {
           "style": "light"
          },
          "paper_bgcolor": "white",
          "plot_bgcolor": "#E5ECF6",
          "polar": {
           "angularaxis": {
            "gridcolor": "white",
            "linecolor": "white",
            "ticks": ""
           },
           "bgcolor": "#E5ECF6",
           "radialaxis": {
            "gridcolor": "white",
            "linecolor": "white",
            "ticks": ""
           }
          },
          "scene": {
           "xaxis": {
            "backgroundcolor": "#E5ECF6",
            "gridcolor": "white",
            "gridwidth": 2,
            "linecolor": "white",
            "showbackground": true,
            "ticks": "",
            "zerolinecolor": "white"
           },
           "yaxis": {
            "backgroundcolor": "#E5ECF6",
            "gridcolor": "white",
            "gridwidth": 2,
            "linecolor": "white",
            "showbackground": true,
            "ticks": "",
            "zerolinecolor": "white"
           },
           "zaxis": {
            "backgroundcolor": "#E5ECF6",
            "gridcolor": "white",
            "gridwidth": 2,
            "linecolor": "white",
            "showbackground": true,
            "ticks": "",
            "zerolinecolor": "white"
           }
          },
          "shapedefaults": {
           "line": {
            "color": "#2a3f5f"
           }
          },
          "ternary": {
           "aaxis": {
            "gridcolor": "white",
            "linecolor": "white",
            "ticks": ""
           },
           "baxis": {
            "gridcolor": "white",
            "linecolor": "white",
            "ticks": ""
           },
           "bgcolor": "#E5ECF6",
           "caxis": {
            "gridcolor": "white",
            "linecolor": "white",
            "ticks": ""
           }
          },
          "title": {
           "x": 0.05
          },
          "xaxis": {
           "automargin": true,
           "gridcolor": "white",
           "linecolor": "white",
           "ticks": "",
           "title": {
            "standoff": 15
           },
           "zerolinecolor": "white",
           "zerolinewidth": 2
          },
          "yaxis": {
           "automargin": true,
           "gridcolor": "white",
           "linecolor": "white",
           "ticks": "",
           "title": {
            "standoff": 15
           },
           "zerolinecolor": "white",
           "zerolinewidth": 2
          }
         }
        },
        "width": 800,
        "xaxis": {
         "anchor": "y",
         "domain": [
          0,
          1
         ],
         "range": [
          -0.5,
          20.5
         ],
         "title": {
          "text": "Epoch"
         }
        },
        "yaxis": {
         "anchor": "x",
         "domain": [
          0,
          1
         ],
         "title": {
          "text": "Loss"
         }
        }
       }
      },
      "text/html": [
       "<div>                            <div id=\"1b836dc8-4b83-40e2-8600-8385335049e1\" class=\"plotly-graph-div\" style=\"height:400px; width:800px;\"></div>            <script type=\"text/javascript\">                require([\"plotly\"], function(Plotly) {                    window.PLOTLYENV=window.PLOTLYENV || {};                                    if (document.getElementById(\"1b836dc8-4b83-40e2-8600-8385335049e1\")) {                    Plotly.newPlot(                        \"1b836dc8-4b83-40e2-8600-8385335049e1\",                        [{\"alignmentgroup\":\"True\",\"error_y\":{\"array\":[0.005625972343983367,0.006661445240342385,0.0032506488973413085,0.008808100601049765,0.005106298623665858,0.0033183341696540196,0.005487214931308551,0.009820490737504916,0.011131205458670588,0.0070555047492902164,0.0037595315895493113,0.01426451966886152,0.009430560844000254,0.009538462158349406,0.002919475982031608,0.011503634278430586,0.0056767533785827586,0.013461557057569348,0.01349077268708324,0.010125709572596148,0.010839612441757561,0.005112245501103998,0.018602038711890458,0.009203588770973863,0.016190797434348127,0.0073150822781623635,0.0063584775914624254,0.013006470694246736,0.012643375472209038,0.008016285683977177,0.007421261128328526,0.007102606097847337,0.006410420337123819,0.00524255981105138,0.012406571698320738,0.018743129029367284,0.018824629607790966,0.019244906654520444,0.005057074512748289,0.005437531242933043,0.00222397223012134,0.0015649644720084185,0.007297565190471268,0.01461000969848732,0.011019510203292488,0.0038140611972369504,0.003657357760288759,0.011076741879461732,0.014698194317110716,0.0022917639465338253,0.013438067164982992,0.010007948848302129,0.012912874409528324,0.00853059692478868,0.001805844881918175,0.004280626674936772,0.011669140899658053,0.004760159644544766,0.010652249483550284,0.014664735598103086,0.020195352273534053,0.02561200153299624,0.03158839492699917,0.00366619208309823,0.011190817096363003,0.012321443739158904,0.003390502652170457,0.00278469691692314,0.01618582827562641,0.01661773718805536,0.017275271729583423,0.00929542710940798,0.009129118392790696,0.00875549797522554,0.013275430770093298,0.0027891304267666276,0.011324996514956017,0.008278931988005887,0.005071319427589326,0.0055864458155672975,0.01105080498542814,0.008047086140293268,0.014688089582282769,0.024203476536341636,0.019672934596085843,0.01593984746303861,0.018855857524976382,0.017169114139060533,0.01462287660384083,0.021647246713343896,0.0103454922796378,0.004983767651499738,0.01782750963109105,0.002607148943031954,0.0021734957043544867,0.009098392154951137,0.008499769974120594,0.017788883800986095,0.026735166765336042,0.00632494583217273]},\"hovertemplate\":\"Loss=Train\\u003cbr\\u003eepoch=%{x}\\u003cbr\\u003evalue_mean=%{y}\\u003cextra\\u003e\\u003c\\u002fextra\\u003e\",\"legendgroup\":\"Train\",\"marker\":{\"color\":\"#636efa\",\"pattern\":{\"shape\":\"\"}},\"name\":\"Train\",\"offsetgroup\":\"Train\",\"orientation\":\"v\",\"showlegend\":true,\"textposition\":\"auto\",\"x\":[0,1,2,3,4,5,6,7,8,9,10,11,12,13,14,15,16,17,18,19,20,21,22,23,24,25,26,27,28,29,30,31,32,33,34,35,36,37,38,39,40,41,42,43,44,45,46,47,48,49,50,51,52,53,54,55,56,57,58,59,60,61,62,63,64,65,66,67,68,69,70,71,72,73,74,75,76,77,78,79,80,81,82,83,84,85,86,87,88,89,90,91,92,93,94,95,96,97,98,99],\"xaxis\":\"x\",\"y\":[1.0085138235336695,0.8764677139428946,0.8006853568248259,0.7623285987438299,0.7392507470571078,0.717763914511754,0.7021415355877999,0.6887746697817093,0.6818901529678931,0.6728786184237553,0.662253445539719,0.6544497181207706,0.6488986626649514,0.643078143780048,0.6500641520206746,0.635067493487627,0.6164227173878596,0.6166370908419291,0.6191660288052682,0.6046783228715262,0.5968696520878719,0.5914855950917953,0.59090533776161,0.5825596665724729,0.5738285245039524,0.5722449475373977,0.5650144311097952,0.5595246767386413,0.5575398947948065,0.5483576846428407,0.5376894481671163,0.5271301284814492,0.5237334171930949,0.525310001312158,0.5209170686892975,0.5070936519366045,0.5085286047214117,0.5051541580603672,0.5008195248933939,0.4979021602716201,0.4829673392650409,0.4763427605995765,0.46207625896502763,0.47597028658940244,0.4778997531303993,0.4783123425948314,0.4635365842244565,0.4698929534508632,0.4644490908353756,0.44398222596217424,0.4497967125513615,0.4437788801315503,0.4431080000522809,0.4374998922531422,0.42455589618438333,0.4291554483083579,0.4224708844453861,0.39726315094874454,0.3980033779755617,0.41067142440722537,0.40497758831733316,0.3931016241892791,0.39474828961568,0.38543654175905084,0.39075541419860643,0.38614629782163173,0.37324174015949935,0.38457703819641703,0.372583114183866,0.3660411101121169,0.37615770177963453,0.35816688797412777,0.36337627126620364,0.35695136281160206,0.36825814843177795,0.35564281313847274,0.3522966144940792,0.3372937074074378,0.33558184978289485,0.3332968751589457,0.3211689354517521,0.32632283598948747,0.3131662454360571,0.31989343655415065,0.3153468920634343,0.30987813228215927,0.31295698842941183,0.3110485722621282,0.31911461857648993,0.3156003122910475,0.30296798432484656,0.3092285883732331,0.3058339044069632,0.3004178974108818,0.2906255832849405,0.2884642596428211,0.28143159166360515,0.2837008115572807,0.2879962348020994,0.2721268813579511],\"yaxis\":\"y\",\"type\":\"bar\"},{\"alignmentgroup\":\"True\",\"error_y\":{\"array\":[0.5559026238674988,0.10845374154832017,0.1763980716336093,0.2146981413213923,0.08829979761515253,0.030571429690753694,0.0681864628124074,0.06146706075716814,0.0349522576814253,0.13622607167512085,0.011985099321940605,0.0346930055603681,0.09918121747979114,0.08390571506138766,0.03706183292523174,0.06388483002553667,0.00831807033923697,0.011380477765471079,0.03148739987441569,0.010523721985437311,0.04546980630185307,0.057367400375633336,0.05570554629445516,0.05494186911075723,0.05452002710674134,0.029847375543216825,0.10708178556631164,0.04695158691829703,0.01917791001497038,0.03974395846301155,0.03373344266430849,0.04687188906352778,0.07061086247393296,0.02784431174229719,0.018596993177052656,0.030743780904816623,0.13390669676575898,0.05985847637815684,0.08801875427237217,0.0159723216966632,0.11358635551859392,0.05652262938586159,0.050280154106547875,0.015264898987060457,0.03714841205619419,0.05385616228688756,0.023350761791025222,0.014655464042860528,0.03662934854264218,0.07369101095829786,0.06367112618163392,0.040303745772275155,0.0051314687198137565,0.1374846171775764,0.030314356156877487,0.21243004236038257,0.046763423643343,0.04701239388086075,0.08183841516980327,0.059542612345655985,0.06761668872367949,0.03751401935364863,0.08410440027198898,0.057798734294139315,0.051571001384928136,0.03505449704528562,0.0636120289293995,0.0809661447396522,0.05764200916097695,0.048201572426216074,0.08392073665268125,0.027515312976731713,0.03516280539209687,0.14528862626300543,0.08419900442841184,0.05489586123670493,0.09352592110663284,0.01140024373041798,0.043078633347503024,0.012262820450464873,0.05171608034059388,0.08137506355228566,0.061083424094755534,0.02763151344822412,0.08218163790455611,0.16891924381837906,0.1282563576064151,0.03039918426188612,0.0424742372104363,0.023662340973527696,0.06494214891145449,0.0505066494319831,0.2007909836778555,0.07054544498403033,0.007960635807655866,0.028010482384303675,0.017766378570890005,0.024008735383599735,0.05436174731436636,0.025187745906242256]},\"hovertemplate\":\"Loss=Validation\\u003cbr\\u003eepoch=%{x}\\u003cbr\\u003evalue_mean=%{y}\\u003cextra\\u003e\\u003c\\u002fextra\\u003e\",\"legendgroup\":\"Validation\",\"marker\":{\"color\":\"#EF553B\",\"pattern\":{\"shape\":\"\"}},\"name\":\"Validation\",\"offsetgroup\":\"Validation\",\"orientation\":\"v\",\"showlegend\":true,\"textposition\":\"auto\",\"x\":[0,1,2,3,4,5,6,7,8,9,10,11,12,13,14,15,16,17,18,19,20,21,22,23,24,25,26,27,28,29,30,31,32,33,34,35,36,37,38,39,40,41,42,43,44,45,46,47,48,49,50,51,52,53,54,55,56,57,58,59,60,61,62,63,64,65,66,67,68,69,70,71,72,73,74,75,76,77,78,79,80,81,82,83,84,85,86,87,88,89,90,91,92,93,94,95,96,97,98,99],\"xaxis\":\"x\",\"y\":[2.5641546703520275,1.2736005612782069,1.0305770522072202,0.9849000062261309,0.9781895819164457,0.8257609180041722,0.8623116470518566,0.9059617632911318,0.879661636693137,0.9101919531822205,0.8335916712170556,0.8377852695328848,0.9059833004361106,0.9590113872573488,0.8713972199530828,0.8745065359842209,0.8393027725673857,0.834278296856653,0.8749270637830099,0.8430149413290478,0.8413935701052347,0.9101895689964294,0.8508571414720444,0.8588471100443886,0.8628887817973182,0.8286385252362206,0.8780847191810608,0.8463679665610903,0.8339003409658159,0.9018895540918622,0.8424423507281712,0.8869023833956037,0.8653484157153538,0.8744486343292963,0.9248185328074863,0.832804535116468,0.9275988311994644,0.8415277912503197,0.8880193318639482,0.8533920588947478,0.8932512487683978,0.8818111930574689,0.8681476002647762,0.8806141047250656,0.894290146373567,0.8796485605693999,0.9068136612574259,0.8727876941363016,0.9298588264556159,0.8961703607014249,0.9172766151882352,0.9151691368647984,0.8650659436271303,0.9403323928515116,0.8515112967718216,1.026427442119235,0.9079449772834778,0.9136863436017718,0.9662299468403771,0.9150863289833069,0.9922444763637724,0.9174948334693909,0.9820017757869902,0.9593794998668489,0.9361252926644825,0.9355920978954861,0.9439073829423813,0.9767467124121528,0.9960521374429975,1.023868963831947,0.9772096560114907,0.9528579456465586,0.9090000958669754,1.0985913702419827,1.0207232378778004,0.9841048745881943,1.0263026526996069,0.9626152515411377,0.9612048183168683,0.9859065612157186,0.9756274081411815,1.0069510965120223,1.018210110210237,1.0197945975121998,1.0355812112490337,1.04643410160428,1.1056639126368932,1.0548105268251327,1.0517415631385076,1.0164892957324072,1.1353980246044342,1.0209321067446755,1.1262295757021226,1.0148543829009646,1.0186386108398438,1.017438048408145,1.0820117791493733,0.9932221741903398,1.132320176987421,1.0092363499459767],\"yaxis\":\"y\",\"type\":\"bar\"}],                        {\"template\":{\"data\":{\"histogram2dcontour\":[{\"type\":\"histogram2dcontour\",\"colorbar\":{\"outlinewidth\":0,\"ticks\":\"\"},\"colorscale\":[[0.0,\"#0d0887\"],[0.1111111111111111,\"#46039f\"],[0.2222222222222222,\"#7201a8\"],[0.3333333333333333,\"#9c179e\"],[0.4444444444444444,\"#bd3786\"],[0.5555555555555556,\"#d8576b\"],[0.6666666666666666,\"#ed7953\"],[0.7777777777777778,\"#fb9f3a\"],[0.8888888888888888,\"#fdca26\"],[1.0,\"#f0f921\"]]}],\"choropleth\":[{\"type\":\"choropleth\",\"colorbar\":{\"outlinewidth\":0,\"ticks\":\"\"}}],\"histogram2d\":[{\"type\":\"histogram2d\",\"colorbar\":{\"outlinewidth\":0,\"ticks\":\"\"},\"colorscale\":[[0.0,\"#0d0887\"],[0.1111111111111111,\"#46039f\"],[0.2222222222222222,\"#7201a8\"],[0.3333333333333333,\"#9c179e\"],[0.4444444444444444,\"#bd3786\"],[0.5555555555555556,\"#d8576b\"],[0.6666666666666666,\"#ed7953\"],[0.7777777777777778,\"#fb9f3a\"],[0.8888888888888888,\"#fdca26\"],[1.0,\"#f0f921\"]]}],\"heatmap\":[{\"type\":\"heatmap\",\"colorbar\":{\"outlinewidth\":0,\"ticks\":\"\"},\"colorscale\":[[0.0,\"#0d0887\"],[0.1111111111111111,\"#46039f\"],[0.2222222222222222,\"#7201a8\"],[0.3333333333333333,\"#9c179e\"],[0.4444444444444444,\"#bd3786\"],[0.5555555555555556,\"#d8576b\"],[0.6666666666666666,\"#ed7953\"],[0.7777777777777778,\"#fb9f3a\"],[0.8888888888888888,\"#fdca26\"],[1.0,\"#f0f921\"]]}],\"heatmapgl\":[{\"type\":\"heatmapgl\",\"colorbar\":{\"outlinewidth\":0,\"ticks\":\"\"},\"colorscale\":[[0.0,\"#0d0887\"],[0.1111111111111111,\"#46039f\"],[0.2222222222222222,\"#7201a8\"],[0.3333333333333333,\"#9c179e\"],[0.4444444444444444,\"#bd3786\"],[0.5555555555555556,\"#d8576b\"],[0.6666666666666666,\"#ed7953\"],[0.7777777777777778,\"#fb9f3a\"],[0.8888888888888888,\"#fdca26\"],[1.0,\"#f0f921\"]]}],\"contourcarpet\":[{\"type\":\"contourcarpet\",\"colorbar\":{\"outlinewidth\":0,\"ticks\":\"\"}}],\"contour\":[{\"type\":\"contour\",\"colorbar\":{\"outlinewidth\":0,\"ticks\":\"\"},\"colorscale\":[[0.0,\"#0d0887\"],[0.1111111111111111,\"#46039f\"],[0.2222222222222222,\"#7201a8\"],[0.3333333333333333,\"#9c179e\"],[0.4444444444444444,\"#bd3786\"],[0.5555555555555556,\"#d8576b\"],[0.6666666666666666,\"#ed7953\"],[0.7777777777777778,\"#fb9f3a\"],[0.8888888888888888,\"#fdca26\"],[1.0,\"#f0f921\"]]}],\"surface\":[{\"type\":\"surface\",\"colorbar\":{\"outlinewidth\":0,\"ticks\":\"\"},\"colorscale\":[[0.0,\"#0d0887\"],[0.1111111111111111,\"#46039f\"],[0.2222222222222222,\"#7201a8\"],[0.3333333333333333,\"#9c179e\"],[0.4444444444444444,\"#bd3786\"],[0.5555555555555556,\"#d8576b\"],[0.6666666666666666,\"#ed7953\"],[0.7777777777777778,\"#fb9f3a\"],[0.8888888888888888,\"#fdca26\"],[1.0,\"#f0f921\"]]}],\"mesh3d\":[{\"type\":\"mesh3d\",\"colorbar\":{\"outlinewidth\":0,\"ticks\":\"\"}}],\"scatter\":[{\"fillpattern\":{\"fillmode\":\"overlay\",\"size\":10,\"solidity\":0.2},\"type\":\"scatter\"}],\"parcoords\":[{\"type\":\"parcoords\",\"line\":{\"colorbar\":{\"outlinewidth\":0,\"ticks\":\"\"}}}],\"scatterpolargl\":[{\"type\":\"scatterpolargl\",\"marker\":{\"colorbar\":{\"outlinewidth\":0,\"ticks\":\"\"}}}],\"bar\":[{\"error_x\":{\"color\":\"#2a3f5f\"},\"error_y\":{\"color\":\"#2a3f5f\"},\"marker\":{\"line\":{\"color\":\"#E5ECF6\",\"width\":0.5},\"pattern\":{\"fillmode\":\"overlay\",\"size\":10,\"solidity\":0.2}},\"type\":\"bar\"}],\"scattergeo\":[{\"type\":\"scattergeo\",\"marker\":{\"colorbar\":{\"outlinewidth\":0,\"ticks\":\"\"}}}],\"scatterpolar\":[{\"type\":\"scatterpolar\",\"marker\":{\"colorbar\":{\"outlinewidth\":0,\"ticks\":\"\"}}}],\"histogram\":[{\"marker\":{\"pattern\":{\"fillmode\":\"overlay\",\"size\":10,\"solidity\":0.2}},\"type\":\"histogram\"}],\"scattergl\":[{\"type\":\"scattergl\",\"marker\":{\"colorbar\":{\"outlinewidth\":0,\"ticks\":\"\"}}}],\"scatter3d\":[{\"type\":\"scatter3d\",\"line\":{\"colorbar\":{\"outlinewidth\":0,\"ticks\":\"\"}},\"marker\":{\"colorbar\":{\"outlinewidth\":0,\"ticks\":\"\"}}}],\"scattermapbox\":[{\"type\":\"scattermapbox\",\"marker\":{\"colorbar\":{\"outlinewidth\":0,\"ticks\":\"\"}}}],\"scatterternary\":[{\"type\":\"scatterternary\",\"marker\":{\"colorbar\":{\"outlinewidth\":0,\"ticks\":\"\"}}}],\"scattercarpet\":[{\"type\":\"scattercarpet\",\"marker\":{\"colorbar\":{\"outlinewidth\":0,\"ticks\":\"\"}}}],\"carpet\":[{\"aaxis\":{\"endlinecolor\":\"#2a3f5f\",\"gridcolor\":\"white\",\"linecolor\":\"white\",\"minorgridcolor\":\"white\",\"startlinecolor\":\"#2a3f5f\"},\"baxis\":{\"endlinecolor\":\"#2a3f5f\",\"gridcolor\":\"white\",\"linecolor\":\"white\",\"minorgridcolor\":\"white\",\"startlinecolor\":\"#2a3f5f\"},\"type\":\"carpet\"}],\"table\":[{\"cells\":{\"fill\":{\"color\":\"#EBF0F8\"},\"line\":{\"color\":\"white\"}},\"header\":{\"fill\":{\"color\":\"#C8D4E3\"},\"line\":{\"color\":\"white\"}},\"type\":\"table\"}],\"barpolar\":[{\"marker\":{\"line\":{\"color\":\"#E5ECF6\",\"width\":0.5},\"pattern\":{\"fillmode\":\"overlay\",\"size\":10,\"solidity\":0.2}},\"type\":\"barpolar\"}],\"pie\":[{\"automargin\":true,\"type\":\"pie\"}]},\"layout\":{\"autotypenumbers\":\"strict\",\"colorway\":[\"#636efa\",\"#EF553B\",\"#00cc96\",\"#ab63fa\",\"#FFA15A\",\"#19d3f3\",\"#FF6692\",\"#B6E880\",\"#FF97FF\",\"#FECB52\"],\"font\":{\"color\":\"#2a3f5f\"},\"hovermode\":\"closest\",\"hoverlabel\":{\"align\":\"left\"},\"paper_bgcolor\":\"white\",\"plot_bgcolor\":\"#E5ECF6\",\"polar\":{\"bgcolor\":\"#E5ECF6\",\"angularaxis\":{\"gridcolor\":\"white\",\"linecolor\":\"white\",\"ticks\":\"\"},\"radialaxis\":{\"gridcolor\":\"white\",\"linecolor\":\"white\",\"ticks\":\"\"}},\"ternary\":{\"bgcolor\":\"#E5ECF6\",\"aaxis\":{\"gridcolor\":\"white\",\"linecolor\":\"white\",\"ticks\":\"\"},\"baxis\":{\"gridcolor\":\"white\",\"linecolor\":\"white\",\"ticks\":\"\"},\"caxis\":{\"gridcolor\":\"white\",\"linecolor\":\"white\",\"ticks\":\"\"}},\"coloraxis\":{\"colorbar\":{\"outlinewidth\":0,\"ticks\":\"\"}},\"colorscale\":{\"sequential\":[[0.0,\"#0d0887\"],[0.1111111111111111,\"#46039f\"],[0.2222222222222222,\"#7201a8\"],[0.3333333333333333,\"#9c179e\"],[0.4444444444444444,\"#bd3786\"],[0.5555555555555556,\"#d8576b\"],[0.6666666666666666,\"#ed7953\"],[0.7777777777777778,\"#fb9f3a\"],[0.8888888888888888,\"#fdca26\"],[1.0,\"#f0f921\"]],\"sequentialminus\":[[0.0,\"#0d0887\"],[0.1111111111111111,\"#46039f\"],[0.2222222222222222,\"#7201a8\"],[0.3333333333333333,\"#9c179e\"],[0.4444444444444444,\"#bd3786\"],[0.5555555555555556,\"#d8576b\"],[0.6666666666666666,\"#ed7953\"],[0.7777777777777778,\"#fb9f3a\"],[0.8888888888888888,\"#fdca26\"],[1.0,\"#f0f921\"]],\"diverging\":[[0,\"#8e0152\"],[0.1,\"#c51b7d\"],[0.2,\"#de77ae\"],[0.3,\"#f1b6da\"],[0.4,\"#fde0ef\"],[0.5,\"#f7f7f7\"],[0.6,\"#e6f5d0\"],[0.7,\"#b8e186\"],[0.8,\"#7fbc41\"],[0.9,\"#4d9221\"],[1,\"#276419\"]]},\"xaxis\":{\"gridcolor\":\"white\",\"linecolor\":\"white\",\"ticks\":\"\",\"title\":{\"standoff\":15},\"zerolinecolor\":\"white\",\"automargin\":true,\"zerolinewidth\":2},\"yaxis\":{\"gridcolor\":\"white\",\"linecolor\":\"white\",\"ticks\":\"\",\"title\":{\"standoff\":15},\"zerolinecolor\":\"white\",\"automargin\":true,\"zerolinewidth\":2},\"scene\":{\"xaxis\":{\"backgroundcolor\":\"#E5ECF6\",\"gridcolor\":\"white\",\"linecolor\":\"white\",\"showbackground\":true,\"ticks\":\"\",\"zerolinecolor\":\"white\",\"gridwidth\":2},\"yaxis\":{\"backgroundcolor\":\"#E5ECF6\",\"gridcolor\":\"white\",\"linecolor\":\"white\",\"showbackground\":true,\"ticks\":\"\",\"zerolinecolor\":\"white\",\"gridwidth\":2},\"zaxis\":{\"backgroundcolor\":\"#E5ECF6\",\"gridcolor\":\"white\",\"linecolor\":\"white\",\"showbackground\":true,\"ticks\":\"\",\"zerolinecolor\":\"white\",\"gridwidth\":2}},\"shapedefaults\":{\"line\":{\"color\":\"#2a3f5f\"}},\"annotationdefaults\":{\"arrowcolor\":\"#2a3f5f\",\"arrowhead\":0,\"arrowwidth\":1},\"geo\":{\"bgcolor\":\"white\",\"landcolor\":\"#E5ECF6\",\"subunitcolor\":\"white\",\"showland\":true,\"showlakes\":true,\"lakecolor\":\"white\"},\"title\":{\"x\":0.05},\"mapbox\":{\"style\":\"light\"}}},\"xaxis\":{\"anchor\":\"y\",\"domain\":[0.0,1.0],\"title\":{\"text\":\"Epoch\"},\"range\":[-0.5,20.5]},\"yaxis\":{\"anchor\":\"x\",\"domain\":[0.0,1.0],\"title\":{\"text\":\"Loss\"}},\"legend\":{\"title\":{\"text\":\"Loss\"},\"tracegroupgap\":0},\"margin\":{\"t\":60},\"barmode\":\"group\",\"font\":{\"size\":18},\"width\":800,\"height\":400,\"hovermode\":\"x\"},                        {\"responsive\": true}                    ).then(function(){\n",
       "                            \n",
       "var gd = document.getElementById('1b836dc8-4b83-40e2-8600-8385335049e1');\n",
       "var x = new MutationObserver(function (mutations, observer) {{\n",
       "        var display = window.getComputedStyle(gd).display;\n",
       "        if (!display || display === 'none') {{\n",
       "            console.log([gd, 'removed!']);\n",
       "            Plotly.purge(gd);\n",
       "            observer.disconnect();\n",
       "        }}\n",
       "}});\n",
       "\n",
       "// Listen for the removal of the full notebook cells\n",
       "var notebookContainer = gd.closest('#notebook-container');\n",
       "if (notebookContainer) {{\n",
       "    x.observe(notebookContainer, {childList: true});\n",
       "}}\n",
       "\n",
       "// Listen for the clearing of the current output cell\n",
       "var outputEl = gd.closest('.output');\n",
       "if (outputEl) {{\n",
       "    x.observe(outputEl, {childList: true});\n",
       "}}\n",
       "\n",
       "                        })                };                });            </script>        </div>"
      ]
     },
     "metadata": {},
     "output_type": "display_data"
    }
   ],
   "source": [
    "# df_melt with rename\n",
    "\n",
    "\n",
    "\n",
    "    \n",
    "fig = bar_plot_for_multi_columns(df,\n",
    "                                    x_axis='epoch',\n",
    "                                    y_axiss = ['train_loss', 'val_loss'],\n",
    "                                    x_axis_title = 'Epoch',\n",
    "                                    y_axis_title = 'Loss',\n",
    "                                    legend_title = 'Loss',\n",
    "                                    legend_names={\n",
    "                                        'train_loss': 'Train',\n",
    "                                        'val_loss': 'Validation'\n",
    "                                    })\n",
    "# set x_range\n",
    "fig.update_xaxes(range=[-0.5, 20.5])\n",
    "\n",
    "# separate bars\n",
    "fig.update_layout(barmode='group')\n",
    "\n",
    "fig.show()\n"
   ]
  },
  {
   "cell_type": "code",
   "execution_count": null,
   "metadata": {},
   "outputs": [
    {
     "data": {
      "text/html": [
       "<div>\n",
       "<style scoped>\n",
       "    .dataframe tbody tr th:only-of-type {\n",
       "        vertical-align: middle;\n",
       "    }\n",
       "\n",
       "    .dataframe tbody tr th {\n",
       "        vertical-align: top;\n",
       "    }\n",
       "\n",
       "    .dataframe thead th {\n",
       "        text-align: right;\n",
       "    }\n",
       "</style>\n",
       "<table border=\"1\" class=\"dataframe\">\n",
       "  <thead>\n",
       "    <tr style=\"text-align: right;\">\n",
       "      <th></th>\n",
       "      <th>epoch</th>\n",
       "      <th>train_loss_mean</th>\n",
       "      <th>train_loss_std</th>\n",
       "    </tr>\n",
       "  </thead>\n",
       "  <tbody>\n",
       "    <tr>\n",
       "      <th>0</th>\n",
       "      <td>0</td>\n",
       "      <td>1.008514</td>\n",
       "      <td>0.005626</td>\n",
       "    </tr>\n",
       "    <tr>\n",
       "      <th>1</th>\n",
       "      <td>1</td>\n",
       "      <td>0.876468</td>\n",
       "      <td>0.006661</td>\n",
       "    </tr>\n",
       "    <tr>\n",
       "      <th>2</th>\n",
       "      <td>2</td>\n",
       "      <td>0.800685</td>\n",
       "      <td>0.003251</td>\n",
       "    </tr>\n",
       "    <tr>\n",
       "      <th>3</th>\n",
       "      <td>3</td>\n",
       "      <td>0.762329</td>\n",
       "      <td>0.008808</td>\n",
       "    </tr>\n",
       "    <tr>\n",
       "      <th>4</th>\n",
       "      <td>4</td>\n",
       "      <td>0.739251</td>\n",
       "      <td>0.005106</td>\n",
       "    </tr>\n",
       "    <tr>\n",
       "      <th>...</th>\n",
       "      <td>...</td>\n",
       "      <td>...</td>\n",
       "      <td>...</td>\n",
       "    </tr>\n",
       "    <tr>\n",
       "      <th>95</th>\n",
       "      <td>95</td>\n",
       "      <td>0.288464</td>\n",
       "      <td>0.009098</td>\n",
       "    </tr>\n",
       "    <tr>\n",
       "      <th>96</th>\n",
       "      <td>96</td>\n",
       "      <td>0.281432</td>\n",
       "      <td>0.008500</td>\n",
       "    </tr>\n",
       "    <tr>\n",
       "      <th>97</th>\n",
       "      <td>97</td>\n",
       "      <td>0.283701</td>\n",
       "      <td>0.017789</td>\n",
       "    </tr>\n",
       "    <tr>\n",
       "      <th>98</th>\n",
       "      <td>98</td>\n",
       "      <td>0.287996</td>\n",
       "      <td>0.026735</td>\n",
       "    </tr>\n",
       "    <tr>\n",
       "      <th>99</th>\n",
       "      <td>99</td>\n",
       "      <td>0.272127</td>\n",
       "      <td>0.006325</td>\n",
       "    </tr>\n",
       "  </tbody>\n",
       "</table>\n",
       "<p>100 rows × 3 columns</p>\n",
       "</div>"
      ],
      "text/plain": [
       "    epoch  train_loss_mean  train_loss_std\n",
       "0       0         1.008514        0.005626\n",
       "1       1         0.876468        0.006661\n",
       "2       2         0.800685        0.003251\n",
       "3       3         0.762329        0.008808\n",
       "4       4         0.739251        0.005106\n",
       "..    ...              ...             ...\n",
       "95     95         0.288464        0.009098\n",
       "96     96         0.281432        0.008500\n",
       "97     97         0.283701        0.017789\n",
       "98     98         0.287996        0.026735\n",
       "99     99         0.272127        0.006325\n",
       "\n",
       "[100 rows x 3 columns]"
      ]
     },
     "execution_count": 8,
     "metadata": {},
     "output_type": "execute_result"
    }
   ],
   "source": [
    "df_mean"
   ]
  },
  {
   "cell_type": "code",
   "execution_count": null,
   "metadata": {},
   "outputs": [],
   "source": []
  },
  {
   "cell_type": "code",
   "execution_count": null,
   "metadata": {},
   "outputs": [
    {
     "ename": "TypeError",
     "evalue": "line() got multiple values for argument 'error_y_mode'",
     "output_type": "error",
     "traceback": [
      "\u001b[0;31m---------------------------------------------------------------------------\u001b[0m",
      "\u001b[0;31mTypeError\u001b[0m                                 Traceback (most recent call last)",
      "\u001b[0;32m/tmp/ipykernel_3430124/4170464630.py\u001b[0m in \u001b[0;36m<module>\u001b[0;34m\u001b[0m\n\u001b[1;32m     57\u001b[0m         \u001b[0mcolor\u001b[0m \u001b[0;34m=\u001b[0m \u001b[0;34m'country'\u001b[0m\u001b[0;34m,\u001b[0m\u001b[0;34m\u001b[0m\u001b[0m\n\u001b[1;32m     58\u001b[0m         \u001b[0mtitle\u001b[0m \u001b[0;34m=\u001b[0m \u001b[0;34mf'Using error {error_y_mode}'\u001b[0m\u001b[0;34m,\u001b[0m\u001b[0;34m\u001b[0m\u001b[0m\n\u001b[0;32m---> 59\u001b[0;31m         \u001b[0mmarkers\u001b[0m \u001b[0;34m=\u001b[0m \u001b[0;34m'.'\u001b[0m\u001b[0;34m,\u001b[0m\u001b[0;34m\u001b[0m\u001b[0m\n\u001b[0m\u001b[1;32m     60\u001b[0m     )\n\u001b[1;32m     61\u001b[0m \u001b[0;34m\u001b[0m\u001b[0m\n",
      "\u001b[0;31mTypeError\u001b[0m: line() got multiple values for argument 'error_y_mode'"
     ]
    }
   ],
   "source": [
    "import plotly.express as px\n",
    "import plotly.graph_objs as go\n",
    "\n",
    "def line(error_y_mode=None, **kwargs):\n",
    "    \"\"\"Extension of `plotly.express.line` to use error bands.\"\"\"\n",
    "    ERROR_MODES = {'bar','band','bars','bands',None}\n",
    "    if error_y_mode not in ERROR_MODES:\n",
    "        raise ValueError(f\"'error_y_mode' must be one of {ERROR_MODES}, received {repr(error_y_mode)}.\")\n",
    "    if error_y_mode in {'bar','bars',None}:\n",
    "        fig = px.line(**kwargs)\n",
    "    elif error_y_mode in {'band','bands'}:\n",
    "        if 'error_y' not in kwargs:\n",
    "            raise ValueError(f\"If you provide argument 'error_y_mode' you must also provide 'error_y'.\")\n",
    "        figure_with_error_bars = px.line(**kwargs)\n",
    "        fig = px.line(**{arg: val for arg,val in kwargs.items() if arg != 'error_y'})\n",
    "        for data in figure_with_error_bars.data:\n",
    "            x = list(data['x'])\n",
    "            y_upper = list(data['y'] + data['error_y']['array'])\n",
    "            y_lower = list(data['y'] - data['error_y']['array'] if data['error_y']['arrayminus'] is None else data['y'] - data['error_y']['arrayminus'])\n",
    "            color = f\"rgba({tuple(int(data['line']['color'].lstrip('#')[i:i+2], 16) for i in (0, 2, 4))},.3)\".replace('((','(').replace('),',',').replace(' ','')\n",
    "            fig.add_trace(\n",
    "                go.Scatter(\n",
    "                    x = x+x[::-1],\n",
    "                    y = y_upper+y_lower[::-1],\n",
    "                    fill = 'toself',\n",
    "                    fillcolor = color,\n",
    "                    line = dict(\n",
    "                        color = 'rgba(255,255,255,0)'\n",
    "                    ),\n",
    "                    hoverinfo = \"skip\",\n",
    "                    showlegend = False,\n",
    "                    legendgroup = data['legendgroup'],\n",
    "                    xaxis = data['xaxis'],\n",
    "                    yaxis = data['yaxis'],\n",
    "                )\n",
    "            )\n",
    "        # Reorder data as said here: https://stackoverflow.com/a/66854398/8849755\n",
    "        reordered_data = []\n",
    "        for i in range(int(len(fig.data)/2)):\n",
    "            reordered_data.append(fig.data[i+int(len(fig.data)/2)])\n",
    "            reordered_data.append(fig.data[i])\n",
    "        fig.data = tuple(reordered_data)\n",
    "    return fig\n",
    "\n",
    "\n",
    "df = px.data.gapminder().query('continent==\"Americas\"')\n",
    "df = df[df['country'].isin({'Argentina','Brazil','Colombia'})]\n",
    "df['lifeExp std'] = df['lifeExp']*.1 # Invent some error data...\n",
    "\n",
    "for error_y_mode in ['band', 'bar']:\n",
    "    fig = line(\n",
    "        data_frame = df,\n",
    "        x = 'year',\n",
    "        y = 'lifeExp',\n",
    "        error_y = 'lifeExp std',\n",
    "        error_y_mode = error_y_mode, # Here you say `band` or `bar`.\n",
    "        color = 'country',\n",
    "        title = f'Using error {error_y_mode}',\n",
    "        markers = '.',\n",
    "    )\n",
    "\n",
    "    fig.update_layout(\n",
    "        yaxis_title = 'life expectancy',\n",
    "        legend_title = None,\n",
    "        width = 600,\n",
    "    )\n",
    "\n",
    "    fig.show()"
   ]
  },
  {
   "cell_type": "code",
   "execution_count": null,
   "metadata": {},
   "outputs": [],
   "source": [
    "df_mean = mean_std_df(df, ['country', 'year'], ['lifeExp'])\n",
    "df_mean"
   ]
  },
  {
   "cell_type": "code",
   "execution_count": null,
   "metadata": {},
   "outputs": [],
   "source": [
    "df[df['country'] == 'Australia'][['year', 'lifeExp']]"
   ]
  },
  {
   "cell_type": "code",
   "execution_count": null,
   "metadata": {},
   "outputs": [],
   "source": []
  },
  {
   "cell_type": "code",
   "execution_count": null,
   "metadata": {},
   "outputs": [],
   "source": []
  },
  {
   "cell_type": "code",
   "execution_count": null,
   "metadata": {},
   "outputs": [],
   "source": []
  },
  {
   "cell_type": "code",
   "execution_count": null,
   "metadata": {},
   "outputs": [],
   "source": [
    "for architecture_choice in df['architecture_choice'].unique():\n",
    "    fig = plot(df[df['architecture_choice'] == architecture_choice], \n",
    "                x_axis='epoch', \n",
    "                y_axiss = ['train_dia_acc', 'val_dia_acc', 'test_dia_acc'], \n",
    "                x_axis_title = 'Epoch',\n",
    "                y_axis_title = 'Diagnosis Accuracy',\n",
    "                legend_names=['Train', 'Validation', 'Test'],\n",
    "                title=f'Accuracy per Epoch: Architecture Choice {architecture_choice}')\n",
    "    fig.show()"
   ]
  },
  {
   "cell_type": "code",
   "execution_count": null,
   "metadata": {},
   "outputs": [],
   "source": [
    "for architecture_choice in df['architecture_choice'].unique():\n",
    "    fig = plot(df[df['architecture_choice'] == architecture_choice], \n",
    "            x_axis='epoch', \n",
    "            y_axiss = ['train_sps_acc', 'val_sps_acc', 'test_sps_acc'], \n",
    "            x_axis_title = 'Epoch',\n",
    "            y_axis_title = '7 Pt. Accuracy',\n",
    "            legend_names=['Train', 'Validation', 'Test'],\n",
    "            title=f'Accuracy per Epoch: Architecture Choice {architecture_choice}')\n",
    "    fig.show()"
   ]
  },
  {
   "cell_type": "code",
   "execution_count": null,
   "metadata": {},
   "outputs": [],
   "source": [
    "for architecture_choice in df['architecture_choice'].unique():\n",
    "    fig = plot(df[df['architecture_choice'] == architecture_choice], \n",
    "        x_axis='epoch',\n",
    "        y_axiss = ['time_total',\n",
    "                   'time_server_load',\n",
    "                   'time_client_training',\n",
    "                   'time_server_training',\n",
    "                   'time_validation',\n",
    "                   'time_test',\n",
    "                   'time_communication_server_to_client', \n",
    "                   'time_communication_client_to_server'],\n",
    "        x_axis_title = 'Epoch',\n",
    "        y_axis_title = 'Time (s)',\n",
    "        legend_names=['Total Time',\n",
    "                        'Server Load',\n",
    "                        'Client Training',\n",
    "                        'Server Training',\n",
    "                        'Validation',\n",
    "                        'Test',\n",
    "                        'Server to Client',\n",
    "                        'Client to Server'],\n",
    "        title=f'Time per Epoch: Architecture Choice {architecture_choice}')\n",
    "    fig.show()"
   ]
  },
  {
   "cell_type": "code",
   "execution_count": null,
   "metadata": {},
   "outputs": [],
   "source": [
    "for architecture_choice in df['architecture_choice'].unique():\n",
    "        fig = plot(df[df['architecture_choice'] == architecture_choice], \n",
    "                x_axis='epoch',\n",
    "                y_axiss = ['size_server_msg',\n",
    "                        'size_server_output',\n",
    "                        'size_client_head_gradient',\n",
    "                        'size_server_model',\n",
    "                        'size_client_msg',\n",
    "                        'size_client_head_output',\n",
    "                        'size_server_gradient'],\n",
    "                x_axis_title = 'Epoch',\n",
    "                y_axis_title = 'Size (MB)',\n",
    "                legend_names=['Server Message',\n",
    "                                'Server Output',\n",
    "                                'Client Head Gradient',\n",
    "                                'Server Model',\n",
    "                                'Client Message',\n",
    "                                'Client Head Output',\n",
    "                                'Server Gradient'],\n",
    "                title=f'Message Size per Epoch: Architectur Choice {architecture_choice}')\n",
    "        fig.show()"
   ]
  },
  {
   "cell_type": "code",
   "execution_count": null,
   "metadata": {},
   "outputs": [],
   "source": [
    "def plot_architecture(df, \n",
    "         x_axis='epoch', \n",
    "         y_axiss = ['train_loss', 'val_loss', 'test_loss'], \n",
    "         x_axis_title = 'Epoch',\n",
    "         y_axis_title = 'Loss',\n",
    "         legend_names=['Train Loss', 'Validation Loss', 'Test Loss'],\n",
    "         title='Loss per Epoch',\n",
    "         show_std=False):\n",
    "    \n",
    "    assert len(y_axiss) == len(legend_names)\n",
    "    \n",
    "\n",
    "    fig = go.Figure()\n",
    "    for architecture_choice in df['architecture_choice'].unique():\n",
    "        df_mean = mean_std_df(df[df['architecture_choice'] == architecture_choice], [x_axis], y_axiss)\n",
    "        for i, y_axis in enumerate(y_axiss):\n",
    "            fig.add_trace(go.Scatter(x=df_mean[x_axis],\n",
    "                                    y=df_mean[f'{y_axis}_mean'],\n",
    "                                    # error_y=dict(type='data', array=df_mean[f'{y_axis}_std']), \n",
    "                                    name=f\"{architecture_choice} {legend_names[i]}\",\n",
    "                                    mode='lines+markers',\n",
    "                                    ))\n",
    "            \n",
    "            if(show_std):\n",
    "                fig.add_trace(go.Scatter(x=df_mean[x_axis], \n",
    "                                        y=df_mean[f'{y_axis}_mean'] + df_mean[f'{y_axis}_std'], \n",
    "                                        mode='lines',\n",
    "                                        name=f'{architecture_choice} {legend_names[i]} + std',\n",
    "                                        line=dict(width=0), \n",
    "                                        showlegend=False,\n",
    "                                        hoverinfo='none'\n",
    "                                        )\n",
    "                            )\n",
    "                fig.add_trace(go.Scatter(x=df_mean[x_axis], \n",
    "                                        y=df_mean[f'{y_axis}_mean'] - df_mean[f'{y_axis}_std'], \n",
    "                                        mode='lines', \n",
    "                                        name=f'{architecture_choice} {legend_names[i]} - std',\n",
    "                                        fill='tonexty', \n",
    "                                        line=dict(width=0), \n",
    "                                        showlegend=False,\n",
    "                                        hoverinfo='none'\n",
    "                                        )\n",
    "                            )\n",
    "    fig.update_layout(\n",
    "        title=title,\n",
    "        xaxis_title=x_axis_title,\n",
    "        yaxis_title=y_axis_title,\n",
    "        font=dict(\n",
    "            # family=\"Courier New, monospace\",\n",
    "            size=18,\n",
    "            # color=\"RebeccaPurple\"\n",
    "        ),\n",
    "        width=800, \n",
    "        height=400,\n",
    "        hovermode=\"x\"\n",
    "    )\n",
    "    return fig\n",
    "\n"
   ]
  },
  {
   "cell_type": "code",
   "execution_count": null,
   "metadata": {},
   "outputs": [],
   "source": [
    "# (legend, y_axis, title)\n",
    "column_goodname = {\n",
    "    'train_loss': ('Train', 'Loss', 'Loss per Epoch'),\n",
    "    'val_loss': ('Validation', 'Loss', 'Loss per Epoch'),\n",
    "    'test_loss': ('Test', 'Loss', 'Loss per Epoch'),\n",
    "    'train_dia_acc': ('Train', 'Diagnosis Accuracy', 'Diagnosis Accuracy per Epoch'),\n",
    "    'val_dia_acc': ('Validation', 'Diagnosis Accuracy', 'Diagnosis Accuracy per Epoch'),\n",
    "    'test_dia_acc': ('Test', 'Diagnosis Accuracy', 'Diagnosis Accuracy per Epoch'),\n",
    "    'train_sps_acc': ('Train', '7 Pt. Accuracy', '7 Pt. Accuracy per Epoch'),\n",
    "    'val_sps_acc': ('Validation', '7 Pt. Accuracy', '7 Pt. Accuracy per Epoch'),\n",
    "    'test_sps_acc': ('Test', '7 Pt. Accuracy', '7 Pt. Accuracy per Epoch'),\n",
    "    'train_mean_acc': ('Train', 'Mean Accuracy', 'Mean Accuracy per Epoch'),\n",
    "    'val_mean_acc': ('Validation', 'Mean Accuracy', 'Mean Accuracy per Epoch'),\n",
    "    'test_mean_acc': ('Test', 'Mean Accuracy', 'Mean Accuracy per Epoch'),\n",
    "    'time_total': ('Total', 'Time (s)', 'Time per Epoch'),\n",
    "    'time_server_load': ('Server Load', 'Time (s)', 'Time per Epoch'),\n",
    "    'time_client_training': ('Client Training', 'Time (s)', 'Time per Epoch'),\n",
    "    'time_server_training': ('Server Training', 'Time (s)', 'Time per Epoch'),\n",
    "    'time_validation': ('Validation', 'Time (s)', 'Time per Epoch'),\n",
    "    'time_test': ('Test', 'Time (s)', 'Time per Epoch'),\n",
    "    'time_communication_server_to_client': ('Server to Client', 'Communication Time (s)', 'Time per Epoch'),\n",
    "    'time_communication_client_to_server': ('Client to Server', 'Communicaiton Time (s)', 'Time per Epoch'),\n",
    "    'size_server_msg': ('Server Message', 'Size (MB)', 'Message Size per Epoch'),\n",
    "    'size_server_output': ('Server Output', 'Size (MB)', 'Message Size per Epoch'),\n",
    "    'size_client_head_gradient': ('Client Head Gradient', 'Size (MB)', 'Message Size per Epoch'),\n",
    "    'size_server_model': ('Server Model', 'Size (MB)', 'Message Size per Epoch'),\n",
    "    'size_client_msg': ('Client Message', 'Size (MB)', 'Message Size per Epoch'),\n",
    "    'size_client_head_output': ('Client Head Output', 'Size (MB)', 'Message Size per Epoch'),\n",
    "    'size_server_gradient': ('Server Gradient', 'Size (MB)', 'Message Size per Epoch'),\n",
    "    'param_client_first': ('Client First', 'Parameters', 'Number of Parameters per Epoch'),\n",
    "    'param_server_middle': ('Server Middle', 'Parameters', 'Number of Parameters per Epoch'),\n",
    "    'param_client_last': ('Client Last', 'Parameters', 'Number of Parameters per Epoch')\n",
    "}\n",
    "\n",
    "for column in column_goodname:\n",
    "    fig = plot_architecture(df,\n",
    "                        x_axis='epoch', \n",
    "                        y_axiss = [column], \n",
    "                        x_axis_title = 'Epoch',\n",
    "                        y_axis_title = column_goodname[column][1],\n",
    "                        legend_names=[column_goodname[column][0]],\n",
    "                        title=column_goodname[column][2],\n",
    "                        show_std=False)\n",
    "    fig.show()\n",
    "\n",
    "    # store in html and pdf\n",
    "    fig.write_html(f'figures/{column}_diff_arch.html')\n",
    "    fig.write_image(f'figures/{column}_diff_arch.pdf')"
   ]
  },
  {
   "cell_type": "markdown",
   "metadata": {},
   "source": [
    "Test accuracy based on best validation result"
   ]
  },
  {
   "cell_type": "code",
   "execution_count": null,
   "metadata": {},
   "outputs": [],
   "source": []
  },
  {
   "cell_type": "code",
   "execution_count": null,
   "metadata": {},
   "outputs": [],
   "source": [
    "def plot_acc(df, \n",
    "         x_axis='architecture_choice', \n",
    "         y_axiss = ['dia_test_acc'], \n",
    "         x_axis_title = 'Architecture Choice',\n",
    "         y_axis_title = 'Diagnosis Accuracy',\n",
    "         legend_names=['Diag'],\n",
    "         title='Accuracy'):\n",
    "    \n",
    "    assert len(y_axiss) == len(legend_names)\n",
    "    df_mean = mean_std_df(df, [x_axis], y_axiss)\n",
    "\n",
    "    fig = go.Figure()\n",
    "    for i, y_axis in enumerate(y_axiss):\n",
    "        fig.add_trace(go.Bar(x=df_mean[x_axis],\n",
    "                                y=df_mean[f'{y_axis}_mean'],\n",
    "                                error_y=dict(type='data', array=df_mean[f'{y_axis}_std']), \n",
    "                                name=legend_names[i]\n",
    "                                ))\n",
    "    \n",
    "    # categorical xaxis\n",
    "    fig.update_xaxes(type='category')\n",
    "        \n",
    "    fig.update_layout(\n",
    "        title=title,\n",
    "        xaxis_title=x_axis_title,\n",
    "        yaxis_title=y_axis_title,\n",
    "        font=dict(\n",
    "            # family=\"Courier New, monospace\",\n",
    "            size=18,\n",
    "            # color=\"RebeccaPurple\"\n",
    "        ),\n",
    "        width=800, \n",
    "        height=400,\n",
    "        # hovermode=\"x\"\n",
    "    )\n",
    "    return fig\n",
    "\n",
    "\n",
    "fig = plot_acc(df_test_result,\n",
    "                x_axis='architecture_choice', \n",
    "                y_axiss = ['test_dia_acc', 'test_sps_acc'], \n",
    "                x_axis_title = 'Architecture Choice',\n",
    "                y_axis_title = 'Test Accuracy',\n",
    "                legend_names=['Diag', '7 Pt.'],\n",
    "                title='Test Accuracy')\n",
    "fig.show()"
   ]
  },
  {
   "cell_type": "code",
   "execution_count": null,
   "metadata": {},
   "outputs": [],
   "source": [
    "fig = plot_acc(df_test_result,\n",
    "                x_axis='architecture_choice', \n",
    "                y_axiss = ['test_dia_acc', 'test_pn_acc', 'test_str_acc', 'test_pig_acc', 'test_rs_acc', 'test_dag_acc', 'test_bwv_acc', 'test_vs_acc'], \n",
    "                x_axis_title = 'Architecture Choice',\n",
    "                y_axis_title = 'Test Accuracy',\n",
    "                legend_names=['Diag', 'PN', 'STR', 'PIG', 'RS', 'DAG', 'BWV', 'VS'],\n",
    "                title='Test Accuracy')\n",
    "fig.show()"
   ]
  },
  {
   "cell_type": "code",
   "execution_count": null,
   "metadata": {},
   "outputs": [],
   "source": []
  },
  {
   "cell_type": "code",
   "execution_count": null,
   "metadata": {},
   "outputs": [],
   "source": []
  },
  {
   "cell_type": "code",
   "execution_count": 5,
   "metadata": {},
   "outputs": [],
   "source": [
    "d1 = {\n",
    "    'a' : [1, 2, 3],\n",
    "    'b' : [4, 5, 6],\n",
    "}\n",
    "\n",
    "d2 = {\n",
    "    'a' : [7, 8, 9],\n",
    "    'c' : [10, 11, 12],\n",
    "}\n",
    "\n",
    "df1 = pd.DataFrame(d1)\n",
    "df2 = pd.DataFrame(d2)"
   ]
  },
  {
   "cell_type": "code",
   "execution_count": 8,
   "metadata": {},
   "outputs": [
    {
     "data": {
      "text/html": [
       "<div>\n",
       "<style scoped>\n",
       "    .dataframe tbody tr th:only-of-type {\n",
       "        vertical-align: middle;\n",
       "    }\n",
       "\n",
       "    .dataframe tbody tr th {\n",
       "        vertical-align: top;\n",
       "    }\n",
       "\n",
       "    .dataframe thead th {\n",
       "        text-align: right;\n",
       "    }\n",
       "</style>\n",
       "<table border=\"1\" class=\"dataframe\">\n",
       "  <thead>\n",
       "    <tr style=\"text-align: right;\">\n",
       "      <th></th>\n",
       "      <th>a</th>\n",
       "      <th>b</th>\n",
       "      <th>c</th>\n",
       "    </tr>\n",
       "  </thead>\n",
       "  <tbody>\n",
       "    <tr>\n",
       "      <th>0</th>\n",
       "      <td>1</td>\n",
       "      <td>4</td>\n",
       "      <td>None</td>\n",
       "    </tr>\n",
       "    <tr>\n",
       "      <th>1</th>\n",
       "      <td>2</td>\n",
       "      <td>5</td>\n",
       "      <td>None</td>\n",
       "    </tr>\n",
       "    <tr>\n",
       "      <th>2</th>\n",
       "      <td>3</td>\n",
       "      <td>6</td>\n",
       "      <td>None</td>\n",
       "    </tr>\n",
       "  </tbody>\n",
       "</table>\n",
       "</div>"
      ],
      "text/plain": [
       "   a  b     c\n",
       "0  1  4  None\n",
       "1  2  5  None\n",
       "2  3  6  None"
      ]
     },
     "execution_count": 8,
     "metadata": {},
     "output_type": "execute_result"
    }
   ],
   "source": [
    "df1['c'] = None\n",
    "df1"
   ]
  },
  {
   "cell_type": "code",
   "execution_count": 9,
   "metadata": {},
   "outputs": [
    {
     "data": {
      "text/html": [
       "<div>\n",
       "<style scoped>\n",
       "    .dataframe tbody tr th:only-of-type {\n",
       "        vertical-align: middle;\n",
       "    }\n",
       "\n",
       "    .dataframe tbody tr th {\n",
       "        vertical-align: top;\n",
       "    }\n",
       "\n",
       "    .dataframe thead th {\n",
       "        text-align: right;\n",
       "    }\n",
       "</style>\n",
       "<table border=\"1\" class=\"dataframe\">\n",
       "  <thead>\n",
       "    <tr style=\"text-align: right;\">\n",
       "      <th></th>\n",
       "      <th>a</th>\n",
       "      <th>c</th>\n",
       "      <th>b</th>\n",
       "    </tr>\n",
       "  </thead>\n",
       "  <tbody>\n",
       "    <tr>\n",
       "      <th>0</th>\n",
       "      <td>7</td>\n",
       "      <td>10</td>\n",
       "      <td>None</td>\n",
       "    </tr>\n",
       "    <tr>\n",
       "      <th>1</th>\n",
       "      <td>8</td>\n",
       "      <td>11</td>\n",
       "      <td>None</td>\n",
       "    </tr>\n",
       "    <tr>\n",
       "      <th>2</th>\n",
       "      <td>9</td>\n",
       "      <td>12</td>\n",
       "      <td>None</td>\n",
       "    </tr>\n",
       "  </tbody>\n",
       "</table>\n",
       "</div>"
      ],
      "text/plain": [
       "   a   c     b\n",
       "0  7  10  None\n",
       "1  8  11  None\n",
       "2  9  12  None"
      ]
     },
     "execution_count": 9,
     "metadata": {},
     "output_type": "execute_result"
    }
   ],
   "source": [
    "df2['b'] = None\n",
    "df2"
   ]
  },
  {
   "cell_type": "code",
   "execution_count": 10,
   "metadata": {},
   "outputs": [
    {
     "data": {
      "text/html": [
       "<div>\n",
       "<style scoped>\n",
       "    .dataframe tbody tr th:only-of-type {\n",
       "        vertical-align: middle;\n",
       "    }\n",
       "\n",
       "    .dataframe tbody tr th {\n",
       "        vertical-align: top;\n",
       "    }\n",
       "\n",
       "    .dataframe thead th {\n",
       "        text-align: right;\n",
       "    }\n",
       "</style>\n",
       "<table border=\"1\" class=\"dataframe\">\n",
       "  <thead>\n",
       "    <tr style=\"text-align: right;\">\n",
       "      <th></th>\n",
       "      <th>a</th>\n",
       "      <th>b</th>\n",
       "      <th>c</th>\n",
       "    </tr>\n",
       "  </thead>\n",
       "  <tbody>\n",
       "    <tr>\n",
       "      <th>0</th>\n",
       "      <td>1</td>\n",
       "      <td>4</td>\n",
       "      <td>None</td>\n",
       "    </tr>\n",
       "    <tr>\n",
       "      <th>1</th>\n",
       "      <td>2</td>\n",
       "      <td>5</td>\n",
       "      <td>None</td>\n",
       "    </tr>\n",
       "    <tr>\n",
       "      <th>2</th>\n",
       "      <td>3</td>\n",
       "      <td>6</td>\n",
       "      <td>None</td>\n",
       "    </tr>\n",
       "    <tr>\n",
       "      <th>3</th>\n",
       "      <td>7</td>\n",
       "      <td>None</td>\n",
       "      <td>10</td>\n",
       "    </tr>\n",
       "    <tr>\n",
       "      <th>4</th>\n",
       "      <td>8</td>\n",
       "      <td>None</td>\n",
       "      <td>11</td>\n",
       "    </tr>\n",
       "    <tr>\n",
       "      <th>5</th>\n",
       "      <td>9</td>\n",
       "      <td>None</td>\n",
       "      <td>12</td>\n",
       "    </tr>\n",
       "  </tbody>\n",
       "</table>\n",
       "</div>"
      ],
      "text/plain": [
       "   a     b     c\n",
       "0  1     4  None\n",
       "1  2     5  None\n",
       "2  3     6  None\n",
       "3  7  None    10\n",
       "4  8  None    11\n",
       "5  9  None    12"
      ]
     },
     "execution_count": 10,
     "metadata": {},
     "output_type": "execute_result"
    }
   ],
   "source": [
    "pd.concat([df1, df2], ignore_index=True)"
   ]
  },
  {
   "cell_type": "code",
   "execution_count": null,
   "metadata": {},
   "outputs": [],
   "source": []
  }
 ],
 "metadata": {
  "kernelspec": {
   "display_name": "multimodal",
   "language": "python",
   "name": "python3"
  },
  "language_info": {
   "codemirror_mode": {
    "name": "ipython",
    "version": 3
   },
   "file_extension": ".py",
   "mimetype": "text/x-python",
   "name": "python",
   "nbconvert_exporter": "python",
   "pygments_lexer": "ipython3",
   "version": "3.7.0"
  }
 },
 "nbformat": 4,
 "nbformat_minor": 2
}
