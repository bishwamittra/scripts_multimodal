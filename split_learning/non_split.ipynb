{
 "cells": [
  {
   "cell_type": "code",
   "execution_count": 1,
   "metadata": {},
   "outputs": [
    {
     "name": "stderr",
     "output_type": "stream",
     "text": [
      "/mnt/data/home/bishwa/mambaforge-pypy3/envs/multimodal/lib/python3.7/site-packages/tqdm/auto.py:21: TqdmWarning: IProgress not found. Please update jupyter and ipywidgets. See https://ipywidgets.readthedocs.io/en/stable/user_install.html\n",
      "  from .autonotebook import tqdm as notebook_tqdm\n"
     ]
    }
   ],
   "source": [
    "import os\n",
    "import struct\n",
    "import socket\n",
    "import pickle\n",
    "import time\n",
    "\n",
    "import h5py\n",
    "from tqdm import tqdm\n",
    "\n",
    "import torch\n",
    "import torch.nn as nn\n",
    "import torch.nn.functional as F\n",
    "import torchvision\n",
    "import torchvision.transforms as transforms\n",
    "import torch.optim as optim\n",
    "\n",
    "from torch.utils.data import Subset\n",
    "from torch.autograd import Variable\n",
    "import torch.nn.init as init\n",
    "from model import ResNet18, ResNet50\n",
    "from utils import get_metrics_\n",
    "import copy\n",
    "import random\n",
    "import numpy as np"
   ]
  },
  {
   "cell_type": "code",
   "execution_count": 2,
   "metadata": {},
   "outputs": [
    {
     "name": "stdout",
     "output_type": "stream",
     "text": [
      "Client starts from:  0\n",
      "Downloading https://www.cs.toronto.edu/~kriz/cifar-10-python.tar.gz to ../cifar10_data/cifar-10-python.tar.gz\n"
     ]
    },
    {
     "name": "stderr",
     "output_type": "stream",
     "text": [
      "170499072it [00:23, 7259710.49it/s]                               \n"
     ]
    },
    {
     "name": "stdout",
     "output_type": "stream",
     "text": [
      "Extracting ../cifar10_data/cifar-10-python.tar.gz to ../cifar10_data\n",
      "Files already downloaded and verified\n",
      "Train batch shape x: torch.Size([64, 3, 32, 32]) y: torch.Size([64])\n",
      "Num Batch 782\n"
     ]
    }
   ],
   "source": [
    "root_path = '../cifar10_data'\n",
    "\n",
    "# Setup cpu\n",
    "# device = 'cuda:0' if torch.cuda.is_available() else 'cpu'\n",
    "device = 'cuda:0'\n",
    "\n",
    "seed = 42\n",
    "random.seed(seed)\n",
    "np.random.seed(seed)\n",
    "torch.manual_seed(seed)\n",
    "if torch.cuda.is_available():\n",
    "    torch.cuda.manual_seed(seed) \n",
    "\n",
    "\n",
    "# Setup client order\n",
    "client_order = int(0)\n",
    "print('Client starts from: ', client_order)\n",
    "\n",
    "num_train_data = 50000\n",
    "\n",
    "# Load data\n",
    "from random import shuffle\n",
    "\n",
    "transform = transforms.Compose([\n",
    "    transforms.ToTensor(), \n",
    "    transforms.Normalize((0.4914, 0.4822, 0.4465), (0.2470, 0.2435, 0.2616))\n",
    "])\n",
    "\n",
    "indices = list(range(50000))\n",
    "\n",
    "part_tr = indices[num_train_data * client_order : num_train_data * (client_order + 1)]\n",
    "\n",
    "train_set  = torchvision.datasets.CIFAR10(root=root_path, train=True, download=True, transform=transform)\n",
    "train_set_sub = Subset(train_set, part_tr)\n",
    "train_loader = torch.utils.data.DataLoader(train_set_sub, batch_size=64, shuffle=True, num_workers=2)\n",
    "\n",
    "test_set = torchvision.datasets.CIFAR10(root=root_path, train=False, download=True, transform=transform)\n",
    "test_loader = torch.utils.data.DataLoader(test_set, batch_size=64, shuffle=False, num_workers=2)\n",
    "\n",
    "x_train, y_train = next(iter(train_loader))\n",
    "print(f'Train batch shape x: {x_train.size()} y: {y_train.size()}')\n",
    "total_batch = len(train_loader)\n",
    "print(f'Num Batch {total_batch}')\n"
   ]
  },
  {
   "cell_type": "code",
   "execution_count": 3,
   "metadata": {},
   "outputs": [
    {
     "name": "stdout",
     "output_type": "stream",
     "text": [
      "Start training @  Tue Nov 21 13:02:50 2023\n"
     ]
    },
    {
     "name": "stderr",
     "output_type": "stream",
     "text": [
      "Centralized training: 100%|███████████████████████████████████████| 782/782 [01:13<00:00, 10.66it/s]\n"
     ]
    },
    {
     "name": "stdout",
     "output_type": "stream",
     "text": [
      "Epoch: 1/20 => Test Loss: 2.0676 Test Accuracy: 0.2394 Test AUC: 0.7291 Test Balanced Accuracy: 0.2394\n",
      "78.14146280288696\n"
     ]
    },
    {
     "name": "stderr",
     "output_type": "stream",
     "text": [
      "Centralized training:  24%|█████████▎                             | 187/782 [00:16<00:53, 11.16it/s]"
     ]
    }
   ],
   "source": [
    "resnet_model = ResNet50(channel=3, num_classes=10).to(device)\n",
    "epoch = 20\n",
    "lr = 0.001\n",
    "criterion = nn.CrossEntropyLoss()\n",
    "optimizer = optim.SGD(resnet_model.parameters(), lr = lr, momentum = 0.9)\n",
    "\n",
    "# Start training\n",
    "print(\"Start training @ \", time.asctime())\n",
    "\n",
    "for epc in range(epoch):\n",
    "    start_time = time.time()    \n",
    "    for i, data in enumerate(tqdm(train_loader, ncols=100, desc='Centralized training', disable=False)):\n",
    "        x, label = data\n",
    "        x = x.to(device)\n",
    "        label = label.to(device)\n",
    "        optimizer.zero_grad()\n",
    "        output = resnet_model(x)\n",
    "        loss = criterion(output, label)\n",
    "        loss.backward()\n",
    "        optimizer.step()\n",
    "\n",
    "        # if (i + 1) % 100 == 0:\n",
    "        #     # measure accuracy and record loss\n",
    "        #     _, predicted = torch.max(output, 1)\n",
    "        #     correct = (predicted == label).sum().item()\n",
    "        #     accuracy = correct / len(label)\n",
    "        #     print(f'Epoch: {epc+1}/{epoch}, Batch: {i+1}/{total_batch}, Train Loss: {round(loss.item(), 2)} Train Accuracy: {round(accuracy, 2)}')\n",
    "\n",
    "        # if (i + 1) % 1000 == 0:\n",
    "    test_loss, test_acc, test_auc, test_bal_acc = get_metrics_(resnet_model, test_loader, device)\n",
    "    print(f'Epoch: {epc+1}/{epoch} => Test Loss: {round(test_loss, 4)} Test Accuracy: {round(test_acc, 4)} Test AUC: {round(test_auc, 4)} Test Balanced Accuracy: {round(test_bal_acc, 4)}')\n",
    "\n",
    "\n",
    "    print(time.time() - start_time)"
   ]
  },
  {
   "cell_type": "code",
   "execution_count": null,
   "metadata": {},
   "outputs": [],
   "source": []
  }
 ],
 "metadata": {
  "kernelspec": {
   "display_name": "Python 3 (ipykernel)",
   "language": "python",
   "name": "python3"
  },
  "language_info": {
   "codemirror_mode": {
    "name": "ipython",
    "version": 3
   },
   "file_extension": ".py",
   "mimetype": "text/x-python",
   "name": "python",
   "nbconvert_exporter": "python",
   "pygments_lexer": "ipython3",
   "version": "3.7.0"
  },
  "vscode": {
   "interpreter": {
    "hash": "31f2aee4e71d21fbe5cf8b01ff0e069b9275f58929596ceb00d14d90e3e16cd6"
   }
  }
 },
 "nbformat": 4,
 "nbformat_minor": 2
}
