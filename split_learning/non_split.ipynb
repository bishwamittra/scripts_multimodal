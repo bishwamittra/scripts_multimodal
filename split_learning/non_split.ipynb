{
 "cells": [
  {
   "cell_type": "code",
   "execution_count": 1,
   "metadata": {},
   "outputs": [
    {
     "name": "stderr",
     "output_type": "stream",
     "text": [
      "/mnt/data/home/bishwa/mambaforge-pypy3/envs/multimodal/lib/python3.7/site-packages/tqdm/auto.py:21: TqdmWarning: IProgress not found. Please update jupyter and ipywidgets. See https://ipywidgets.readthedocs.io/en/stable/user_install.html\n",
      "  from .autonotebook import tqdm as notebook_tqdm\n"
     ]
    }
   ],
   "source": [
    "import os\n",
    "import struct\n",
    "import socket\n",
    "import pickle\n",
    "import time\n",
    "\n",
    "import h5py\n",
    "from tqdm import tqdm\n",
    "\n",
    "import torch\n",
    "import torch.nn as nn\n",
    "import torch.nn.functional as F\n",
    "import torchvision\n",
    "import torchvision.transforms as transforms\n",
    "import torch.optim as optim\n",
    "\n",
    "from torch.utils.data import Subset\n",
    "from torch.autograd import Variable\n",
    "import torch.nn.init as init\n",
    "from model import ResNet18, ResNet50\n",
    "from utils import get_metrics\n",
    "import copy"
   ]
  },
  {
   "cell_type": "code",
   "execution_count": 2,
   "metadata": {},
   "outputs": [
    {
     "name": "stdout",
     "output_type": "stream",
     "text": [
      "Client starts from:  0\n",
      "Files already downloaded and verified\n",
      "Files already downloaded and verified\n",
      "Train batch shape x: torch.Size([8, 3, 32, 32]) y: torch.Size([8])\n",
      "Num Batch 6250\n"
     ]
    }
   ],
   "source": [
    "root_path = '../../models/cifar10_data'\n",
    "\n",
    "# Setup cpu\n",
    "# device = 'cuda:0' if torch.cuda.is_available() else 'cpu'\n",
    "device = 'cuda:0'\n",
    "torch.manual_seed(777)\n",
    "\n",
    "# Setup client order\n",
    "client_order = int(0)\n",
    "print('Client starts from: ', client_order)\n",
    "\n",
    "num_train_data = 50000\n",
    "\n",
    "# Load data\n",
    "from random import shuffle\n",
    "\n",
    "transform = transforms.Compose([\n",
    "    transforms.ToTensor(), \n",
    "    transforms.Normalize((0.4914, 0.4822, 0.4465), (0.2470, 0.2435, 0.2616))\n",
    "])\n",
    "\n",
    "indices = list(range(50000))\n",
    "\n",
    "part_tr = indices[num_train_data * client_order : num_train_data * (client_order + 1)]\n",
    "\n",
    "train_set  = torchvision.datasets.CIFAR10(root=root_path, train=True, download=True, transform=transform)\n",
    "train_set_sub = Subset(train_set, part_tr)\n",
    "train_loader = torch.utils.data.DataLoader(train_set_sub, batch_size=8, shuffle=True, num_workers=2)\n",
    "\n",
    "test_set = torchvision.datasets.CIFAR10(root=root_path, train=False, download=True, transform=transform)\n",
    "test_loader = torch.utils.data.DataLoader(test_set, batch_size=8, shuffle=False, num_workers=2)\n",
    "\n",
    "x_train, y_train = next(iter(train_loader))\n",
    "print(f'Train batch shape x: {x_train.size()} y: {y_train.size()}')\n",
    "total_batch = len(train_loader)\n",
    "print(f'Num Batch {total_batch}')\n"
   ]
  },
  {
   "cell_type": "code",
   "execution_count": 3,
   "metadata": {},
   "outputs": [
    {
     "name": "stdout",
     "output_type": "stream",
     "text": [
      "Start training @  Mon Oct  9 13:10:24 2023\n",
      "Epoch: 1/1, Batch: 100/6250, Train Loss: 2.61 Train Accuracy: 0.0\n",
      "Epoch: 1/1, Batch: 200/6250, Train Loss: 2.86 Train Accuracy: 0.0\n",
      "Epoch: 1/1, Batch: 300/6250, Train Loss: 2.93 Train Accuracy: 0.0\n",
      "Epoch: 1/1, Batch: 400/6250, Train Loss: 2.64 Train Accuracy: 0.25\n",
      "Epoch: 1/1, Batch: 500/6250, Train Loss: 2.35 Train Accuracy: 0.12\n",
      "Epoch: 1/1, Batch: 600/6250, Train Loss: 2.82 Train Accuracy: 0.0\n",
      "Epoch: 1/1, Batch: 700/6250, Train Loss: 2.29 Train Accuracy: 0.12\n",
      "Epoch: 1/1, Batch: 800/6250, Train Loss: 2.55 Train Accuracy: 0.25\n",
      "Epoch: 1/1, Batch: 900/6250, Train Loss: 2.18 Train Accuracy: 0.25\n",
      "Epoch: 1/1, Batch: 1000/6250, Train Loss: 2.09 Train Accuracy: 0.25\n",
      "                                           Test Loss: 2.46 Test Accuracy: 0.1 Test AUC: 0.62 Test Balanced Accuracy: 0.1\n",
      "Epoch: 1/1, Batch: 1100/6250, Train Loss: 2.1 Train Accuracy: 0.12\n",
      "Epoch: 1/1, Batch: 1200/6250, Train Loss: 3.01 Train Accuracy: 0.0\n",
      "Epoch: 1/1, Batch: 1300/6250, Train Loss: 2.83 Train Accuracy: 0.0\n",
      "Epoch: 1/1, Batch: 1400/6250, Train Loss: 3.1 Train Accuracy: 0.12\n",
      "Epoch: 1/1, Batch: 1500/6250, Train Loss: 2.24 Train Accuracy: 0.25\n",
      "Epoch: 1/1, Batch: 1600/6250, Train Loss: 2.43 Train Accuracy: 0.0\n",
      "Epoch: 1/1, Batch: 1700/6250, Train Loss: 2.08 Train Accuracy: 0.25\n",
      "Epoch: 1/1, Batch: 1800/6250, Train Loss: 1.89 Train Accuracy: 0.25\n",
      "Epoch: 1/1, Batch: 1900/6250, Train Loss: 2.0 Train Accuracy: 0.38\n",
      "Epoch: 1/1, Batch: 2000/6250, Train Loss: 1.99 Train Accuracy: 0.5\n",
      "                                           Test Loss: 2.36 Test Accuracy: 0.19 Test AUC: 0.69 Test Balanced Accuracy: 0.19\n",
      "Epoch: 1/1, Batch: 2100/6250, Train Loss: 2.34 Train Accuracy: 0.12\n",
      "Epoch: 1/1, Batch: 2200/6250, Train Loss: 1.99 Train Accuracy: 0.25\n",
      "Epoch: 1/1, Batch: 2300/6250, Train Loss: 2.13 Train Accuracy: 0.0\n",
      "Epoch: 1/1, Batch: 2400/6250, Train Loss: 2.69 Train Accuracy: 0.12\n",
      "Epoch: 1/1, Batch: 2500/6250, Train Loss: 2.17 Train Accuracy: 0.0\n",
      "Epoch: 1/1, Batch: 2600/6250, Train Loss: 2.25 Train Accuracy: 0.38\n",
      "Epoch: 1/1, Batch: 2700/6250, Train Loss: 2.01 Train Accuracy: 0.25\n",
      "Epoch: 1/1, Batch: 2800/6250, Train Loss: 1.91 Train Accuracy: 0.25\n",
      "Epoch: 1/1, Batch: 2900/6250, Train Loss: 2.21 Train Accuracy: 0.25\n",
      "Epoch: 1/1, Batch: 3000/6250, Train Loss: 2.16 Train Accuracy: 0.25\n",
      "                                           Test Loss: 2.12 Test Accuracy: 0.24 Test AUC: 0.76 Test Balanced Accuracy: 0.24\n",
      "Epoch: 1/1, Batch: 3100/6250, Train Loss: 1.88 Train Accuracy: 0.38\n",
      "Epoch: 1/1, Batch: 3200/6250, Train Loss: 1.93 Train Accuracy: 0.25\n",
      "Epoch: 1/1, Batch: 3300/6250, Train Loss: 1.63 Train Accuracy: 0.38\n",
      "Epoch: 1/1, Batch: 3400/6250, Train Loss: 2.03 Train Accuracy: 0.38\n",
      "Epoch: 1/1, Batch: 3500/6250, Train Loss: 2.31 Train Accuracy: 0.12\n",
      "Epoch: 1/1, Batch: 3600/6250, Train Loss: 1.82 Train Accuracy: 0.25\n",
      "Epoch: 1/1, Batch: 3700/6250, Train Loss: 1.54 Train Accuracy: 0.62\n",
      "Epoch: 1/1, Batch: 3800/6250, Train Loss: 1.65 Train Accuracy: 0.5\n",
      "Epoch: 1/1, Batch: 3900/6250, Train Loss: 2.16 Train Accuracy: 0.38\n",
      "Epoch: 1/1, Batch: 4000/6250, Train Loss: 2.44 Train Accuracy: 0.25\n",
      "                                           Test Loss: 2.01 Test Accuracy: 0.26 Test AUC: 0.79 Test Balanced Accuracy: 0.26\n",
      "Epoch: 1/1, Batch: 4100/6250, Train Loss: 1.89 Train Accuracy: 0.12\n",
      "Epoch: 1/1, Batch: 4200/6250, Train Loss: 1.73 Train Accuracy: 0.25\n",
      "Epoch: 1/1, Batch: 4300/6250, Train Loss: 2.07 Train Accuracy: 0.25\n",
      "Epoch: 1/1, Batch: 4400/6250, Train Loss: 1.73 Train Accuracy: 0.25\n",
      "Epoch: 1/1, Batch: 4500/6250, Train Loss: 1.96 Train Accuracy: 0.12\n",
      "Epoch: 1/1, Batch: 4600/6250, Train Loss: 1.93 Train Accuracy: 0.12\n",
      "Epoch: 1/1, Batch: 4700/6250, Train Loss: 1.55 Train Accuracy: 0.5\n",
      "Epoch: 1/1, Batch: 4800/6250, Train Loss: 1.92 Train Accuracy: 0.12\n",
      "Epoch: 1/1, Batch: 4900/6250, Train Loss: 3.04 Train Accuracy: 0.0\n",
      "Epoch: 1/1, Batch: 5000/6250, Train Loss: 2.41 Train Accuracy: 0.25\n",
      "                                           Test Loss: 1.79 Test Accuracy: 0.33 Test AUC: 0.82 Test Balanced Accuracy: 0.33\n",
      "Epoch: 1/1, Batch: 5100/6250, Train Loss: 1.45 Train Accuracy: 0.38\n",
      "Epoch: 1/1, Batch: 5200/6250, Train Loss: 2.57 Train Accuracy: 0.25\n",
      "Epoch: 1/1, Batch: 5300/6250, Train Loss: 1.58 Train Accuracy: 0.25\n",
      "Epoch: 1/1, Batch: 5400/6250, Train Loss: 1.57 Train Accuracy: 0.25\n",
      "Epoch: 1/1, Batch: 5500/6250, Train Loss: 2.48 Train Accuracy: 0.0\n",
      "Epoch: 1/1, Batch: 5600/6250, Train Loss: 1.52 Train Accuracy: 0.5\n",
      "Epoch: 1/1, Batch: 5700/6250, Train Loss: 1.89 Train Accuracy: 0.25\n",
      "Epoch: 1/1, Batch: 5800/6250, Train Loss: 1.6 Train Accuracy: 0.25\n",
      "Epoch: 1/1, Batch: 5900/6250, Train Loss: 1.67 Train Accuracy: 0.38\n",
      "Epoch: 1/1, Batch: 6000/6250, Train Loss: 1.02 Train Accuracy: 0.75\n",
      "                                           Test Loss: 1.73 Test Accuracy: 0.36 Test AUC: 0.84 Test Balanced Accuracy: 0.36\n",
      "Epoch: 1/1, Batch: 6100/6250, Train Loss: 1.05 Train Accuracy: 0.5\n",
      "Epoch: 1/1, Batch: 6200/6250, Train Loss: 1.64 Train Accuracy: 0.25\n"
     ]
    }
   ],
   "source": [
    "resnet_model = ResNet50(channel=3, num_classes=10).to(device)\n",
    "epoch = 1\n",
    "lr = 0.001\n",
    "criterion = nn.CrossEntropyLoss()\n",
    "optimizer = optim.SGD(resnet_model.parameters(), lr = lr, momentum = 0.9)\n",
    "\n",
    "# Start training\n",
    "start_time = time.time()\n",
    "print(\"Start training @ \", time.asctime())\n",
    "\n",
    "for epc in range(epoch):\n",
    "\n",
    "    for i, data in enumerate(tqdm(train_loader, ncols=100, desc='Centralized training', disable=True)):\n",
    "        x, label = data\n",
    "        x = x.to(device)\n",
    "        label = label.to(device)\n",
    "        optimizer.zero_grad()\n",
    "        output = resnet_model(x)\n",
    "        loss = criterion(output, label)\n",
    "        loss.backward()\n",
    "        optimizer.step()\n",
    "\n",
    "        if (i + 1) % 100 == 0:\n",
    "            # measure accuracy and record loss\n",
    "            _, predicted = torch.max(output, 1)\n",
    "            correct = (predicted == label).sum().item()\n",
    "            accuracy = correct / len(label)\n",
    "            print(f'Epoch: {epc+1}/{epoch}, Batch: {i+1}/{total_batch}, Train Loss: {round(loss.item(), 2)} Train Accuracy: {round(accuracy, 2)}')\n",
    "\n",
    "        if (i + 1) % 1000 == 0:\n",
    "            test_loss, test_acc, test_auc, test_bal_acc = get_metrics(resnet_model, test_loader, device)\n",
    "            print(f'                                           Test Loss: {round(test_loss, 2)} Test Accuracy: {round(test_acc, 2)} Test AUC: {round(test_auc, 2)} Test Balanced Accuracy: {round(test_bal_acc, 2)}')\n",
    "\n"
   ]
  },
  {
   "cell_type": "code",
   "execution_count": null,
   "metadata": {},
   "outputs": [],
   "source": []
  }
 ],
 "metadata": {
  "kernelspec": {
   "display_name": "Python 3 (ipykernel)",
   "language": "python",
   "name": "python3"
  },
  "language_info": {
   "codemirror_mode": {
    "name": "ipython",
    "version": 3
   },
   "file_extension": ".py",
   "mimetype": "text/x-python",
   "name": "python",
   "nbconvert_exporter": "python",
   "pygments_lexer": "ipython3",
   "version": "3.7.0"
  },
  "vscode": {
   "interpreter": {
    "hash": "31f2aee4e71d21fbe5cf8b01ff0e069b9275f58929596ceb00d14d90e3e16cd6"
   }
  }
 },
 "nbformat": 4,
 "nbformat_minor": 2
}
