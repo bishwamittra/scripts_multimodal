{
 "cells": [
  {
   "cell_type": "code",
   "execution_count": 1,
   "id": "saved-trading",
   "metadata": {},
   "outputs": [
    {
     "name": "stderr",
     "output_type": "stream",
     "text": [
      "2023-08-30 13:41:18.065696: I tensorflow/core/platform/cpu_feature_guard.cc:193] This TensorFlow binary is optimized with oneAPI Deep Neural Network Library (oneDNN) to use the following CPU instructions in performance-critical operations:  AVX2 FMA\n",
      "To enable them in other operations, rebuild TensorFlow with the appropriate compiler flags.\n",
      "2023-08-30 13:41:18.210064: E tensorflow/stream_executor/cuda/cuda_blas.cc:2981] Unable to register cuBLAS factory: Attempting to register factory for plugin cuBLAS when one has already been registered\n",
      "2023-08-30 13:41:18.707051: W tensorflow/stream_executor/platform/default/dso_loader.cc:64] Could not load dynamic library 'libnvinfer.so.7'; dlerror: libnvinfer.so.7: cannot open shared object file: No such file or directory\n",
      "2023-08-30 13:41:18.707104: W tensorflow/stream_executor/platform/default/dso_loader.cc:64] Could not load dynamic library 'libnvinfer_plugin.so.7'; dlerror: libnvinfer_plugin.so.7: cannot open shared object file: No such file or directory\n",
      "2023-08-30 13:41:18.707110: W tensorflow/compiler/tf2tensorrt/utils/py_utils.cc:38] TF-TRT Warning: Cannot dlopen some TensorRT libraries. If you would like to use Nvidia GPU with TensorRT, please make sure the missing libraries mentioned above are installed properly.\n",
      "/home/bishwa/mambaforge-pypy3/envs/multimodal/lib/python3.8/site-packages/tqdm/auto.py:21: TqdmWarning: IProgress not found. Please update jupyter and ipywidgets. See https://ipywidgets.readthedocs.io/en/stable/user_install.html\n",
      "  from .autonotebook import tqdm as notebook_tqdm\n"
     ]
    }
   ],
   "source": [
    "from data import \\\n",
    "    (\n",
    "        DermDataset, \n",
    "        derm_data, \n",
    "        clinic_train, \n",
    "        clinic_validate, \n",
    "        clinic_test,\n",
    "        dermoscopic_train,\n",
    "        dermoscopic_validate,\n",
    "        dermoscopic_test,\n",
    "        label_train_diag,\n",
    "        label_validate_diag,\n",
    "        label_test_diag,\n",
    "        label_train_crit,\n",
    "        label_validate_crit,\n",
    "        label_test_crit\n",
    "    )   \n",
    "from torchvision import transforms\n",
    "import pandas as pd\n",
    "import torch"
   ]
  },
  {
   "cell_type": "code",
   "execution_count": 2,
   "id": "published-fellow",
   "metadata": {
    "scrolled": false
   },
   "outputs": [
    {
     "name": "stdout",
     "output_type": "stream",
     "text": [
      "Number of cases: 1011\n",
      "Number of cases to train: 413\n",
      "Number of cases to validate: 203\n",
      "Number of cases to test: 395\n"
     ]
    }
   ],
   "source": [
    "derm_data.dataset_stats()"
   ]
  },
  {
   "cell_type": "code",
   "execution_count": 3,
   "id": "arranged-background",
   "metadata": {
    "scrolled": true
   },
   "outputs": [
    {
     "name": "stdout",
     "output_type": "stream",
     "text": [
      "413 203 395\n"
     ]
    }
   ],
   "source": [
    "print(len(clinic_train), len(clinic_validate), len(clinic_test))\n",
    "# print(clinic_train)"
   ]
  },
  {
   "cell_type": "code",
   "execution_count": 4,
   "id": "rural-liabilities",
   "metadata": {},
   "outputs": [],
   "source": [
    "train_transforms = transforms.Compose([transforms.Resize([299, 299]),\n",
    "                                       # transforms.Pad(padding=10, fill=(255, 176, 145)),\n",
    "                                       transforms.RandomCrop([299, 299], padding=20, padding_mode='edge'),\n",
    "                                       transforms.RandomHorizontalFlip(p=0.5),\n",
    "                                       transforms.RandomRotation([-45, 45]),\n",
    "                                       transforms.ToTensor(),\n",
    "                                       transforms.Normalize((0.5 , 0.5 , 0.5), (0.5 , 0.5 , 0.5))])\n",
    "test_transforms = transforms.Compose([transforms.Resize([299, 299]),\n",
    "    transforms.ToTensor(),\n",
    "    transforms.Normalize((0.5 , 0.5 , 0.5), (0.5 , 0.5 , 0.5))\n",
    "])\n",
    "image_transforms = {'train':train_transforms, 'test':test_transforms}\n",
    "\n",
    "train = list(zip(clinic_train, dermoscopic_train, label_train_diag, label_train_crit))\n",
    "train_df = pd.DataFrame(train, columns=['c_path','d_path','lab_diag', 'lab_crit'])\n",
    "train_dataset = DermDataset(train_df, transform=image_transforms['train'])\n",
    "\n",
    "validate = list(zip(clinic_validate, dermoscopic_validate, label_validate_diag, label_validate_crit))\n",
    "validate_df = pd.DataFrame(validate, columns=['c_path','d_path','lab_diag', 'lab_crit'])\n",
    "validate_dataset = DermDataset(validate_df, transform=image_transforms['test'])\n",
    "\n",
    "test = list(zip(clinic_test, dermoscopic_test, label_test_diag, label_test_crit))\n",
    "test_df = pd.DataFrame(test, columns=['c_path','d_path','lab_diag', 'lab_crit'])\n",
    "test_dataset = DermDataset(test_df, transform=image_transforms['test'])"
   ]
  },
  {
   "cell_type": "code",
   "execution_count": 5,
   "id": "ea8c948d",
   "metadata": {},
   "outputs": [
    {
     "data": {
      "text/html": [
       "<div>\n",
       "<style scoped>\n",
       "    .dataframe tbody tr th:only-of-type {\n",
       "        vertical-align: middle;\n",
       "    }\n",
       "\n",
       "    .dataframe tbody tr th {\n",
       "        vertical-align: top;\n",
       "    }\n",
       "\n",
       "    .dataframe thead th {\n",
       "        text-align: right;\n",
       "    }\n",
       "</style>\n",
       "<table border=\"1\" class=\"dataframe\">\n",
       "  <thead>\n",
       "    <tr style=\"text-align: right;\">\n",
       "      <th></th>\n",
       "      <th>c_path</th>\n",
       "      <th>d_path</th>\n",
       "      <th>lab_diag</th>\n",
       "      <th>lab_crit</th>\n",
       "    </tr>\n",
       "  </thead>\n",
       "  <tbody>\n",
       "    <tr>\n",
       "      <th>0</th>\n",
       "      <td>../data/release_v0/images/NEL/NEL025.JPG</td>\n",
       "      <td>../data/release_v0/images/NEL/Nel026.jpg</td>\n",
       "      <td>0</td>\n",
       "      <td>[0, 0, 0, 0, 0, 0, 1]</td>\n",
       "    </tr>\n",
       "    <tr>\n",
       "      <th>1</th>\n",
       "      <td>../data/release_v0/images/NEL/Nel032.jpg</td>\n",
       "      <td>../data/release_v0/images/NEL/Nel033.jpg</td>\n",
       "      <td>0</td>\n",
       "      <td>[0, 0, 0, 0, 2, 0, 1]</td>\n",
       "    </tr>\n",
       "    <tr>\n",
       "      <th>2</th>\n",
       "      <td>../data/release_v0/images/NEL/NEL036.JPG</td>\n",
       "      <td>../data/release_v0/images/NEL/Nel037.jpg</td>\n",
       "      <td>0</td>\n",
       "      <td>[0, 0, 2, 0, 0, 0, 0]</td>\n",
       "    </tr>\n",
       "    <tr>\n",
       "      <th>3</th>\n",
       "      <td>../data/release_v0/images/NEL/Nel084.jpg</td>\n",
       "      <td>../data/release_v0/images/NEL/Nel085.jpg</td>\n",
       "      <td>0</td>\n",
       "      <td>[0, 0, 2, 0, 2, 1, 0]</td>\n",
       "    </tr>\n",
       "    <tr>\n",
       "      <th>4</th>\n",
       "      <td>../data/release_v0/images/NEL/NEL088.JPG</td>\n",
       "      <td>../data/release_v0/images/NEL/Nel089.jpg</td>\n",
       "      <td>0</td>\n",
       "      <td>[0, 0, 2, 0, 2, 0, 1]</td>\n",
       "    </tr>\n",
       "    <tr>\n",
       "      <th>...</th>\n",
       "      <td>...</td>\n",
       "      <td>...</td>\n",
       "      <td>...</td>\n",
       "      <td>...</td>\n",
       "    </tr>\n",
       "    <tr>\n",
       "      <th>408</th>\n",
       "      <td>../data/release_v0/images/NEL/Nel067.jpg</td>\n",
       "      <td>../data/release_v0/images/NEL/Nel066.jpg</td>\n",
       "      <td>3</td>\n",
       "      <td>[0, 0, 0, 0, 0, 0, 0]</td>\n",
       "    </tr>\n",
       "    <tr>\n",
       "      <th>409</th>\n",
       "      <td>../data/release_v0/images/NEL/Nel069.jpg</td>\n",
       "      <td>../data/release_v0/images/NEL/Nel068.jpg</td>\n",
       "      <td>3</td>\n",
       "      <td>[0, 0, 0, 0, 0, 0, 0]</td>\n",
       "    </tr>\n",
       "    <tr>\n",
       "      <th>410</th>\n",
       "      <td>../data/release_v0/images/NEL/Nel070.jpg</td>\n",
       "      <td>../data/release_v0/images/NEL/Nel071.jpg</td>\n",
       "      <td>3</td>\n",
       "      <td>[0, 0, 0, 0, 0, 0, 0]</td>\n",
       "    </tr>\n",
       "    <tr>\n",
       "      <th>411</th>\n",
       "      <td>../data/release_v0/images/Ggl/Ggl011.jpg</td>\n",
       "      <td>../data/release_v0/images/Ggl/Ggl012.jpg</td>\n",
       "      <td>3</td>\n",
       "      <td>[0, 0, 0, 0, 0, 0, 0]</td>\n",
       "    </tr>\n",
       "    <tr>\n",
       "      <th>412</th>\n",
       "      <td>../data/release_v0/images/Fhl/Fhl059.jpg</td>\n",
       "      <td>../data/release_v0/images/Fhl/Fhl060.jpg</td>\n",
       "      <td>3</td>\n",
       "      <td>[0, 0, 0, 0, 0, 0, 0]</td>\n",
       "    </tr>\n",
       "  </tbody>\n",
       "</table>\n",
       "<p>413 rows × 4 columns</p>\n",
       "</div>"
      ],
      "text/plain": [
       "                                       c_path  \\\n",
       "0    ../data/release_v0/images/NEL/NEL025.JPG   \n",
       "1    ../data/release_v0/images/NEL/Nel032.jpg   \n",
       "2    ../data/release_v0/images/NEL/NEL036.JPG   \n",
       "3    ../data/release_v0/images/NEL/Nel084.jpg   \n",
       "4    ../data/release_v0/images/NEL/NEL088.JPG   \n",
       "..                                        ...   \n",
       "408  ../data/release_v0/images/NEL/Nel067.jpg   \n",
       "409  ../data/release_v0/images/NEL/Nel069.jpg   \n",
       "410  ../data/release_v0/images/NEL/Nel070.jpg   \n",
       "411  ../data/release_v0/images/Ggl/Ggl011.jpg   \n",
       "412  ../data/release_v0/images/Fhl/Fhl059.jpg   \n",
       "\n",
       "                                       d_path  lab_diag               lab_crit  \n",
       "0    ../data/release_v0/images/NEL/Nel026.jpg         0  [0, 0, 0, 0, 0, 0, 1]  \n",
       "1    ../data/release_v0/images/NEL/Nel033.jpg         0  [0, 0, 0, 0, 2, 0, 1]  \n",
       "2    ../data/release_v0/images/NEL/Nel037.jpg         0  [0, 0, 2, 0, 0, 0, 0]  \n",
       "3    ../data/release_v0/images/NEL/Nel085.jpg         0  [0, 0, 2, 0, 2, 1, 0]  \n",
       "4    ../data/release_v0/images/NEL/Nel089.jpg         0  [0, 0, 2, 0, 2, 0, 1]  \n",
       "..                                        ...       ...                    ...  \n",
       "408  ../data/release_v0/images/NEL/Nel066.jpg         3  [0, 0, 0, 0, 0, 0, 0]  \n",
       "409  ../data/release_v0/images/NEL/Nel068.jpg         3  [0, 0, 0, 0, 0, 0, 0]  \n",
       "410  ../data/release_v0/images/NEL/Nel071.jpg         3  [0, 0, 0, 0, 0, 0, 0]  \n",
       "411  ../data/release_v0/images/Ggl/Ggl012.jpg         3  [0, 0, 0, 0, 0, 0, 0]  \n",
       "412  ../data/release_v0/images/Fhl/Fhl060.jpg         3  [0, 0, 0, 0, 0, 0, 0]  \n",
       "\n",
       "[413 rows x 4 columns]"
      ]
     },
     "execution_count": 5,
     "metadata": {},
     "output_type": "execute_result"
    }
   ],
   "source": [
    "train_df"
   ]
  },
  {
   "cell_type": "code",
   "execution_count": 6,
   "id": "false-division",
   "metadata": {},
   "outputs": [],
   "source": [
    "from torchvision import models\n",
    "from model import \\\n",
    "    (\n",
    "        CNN,\n",
    "        Concate,\n",
    "        Discriminator,\n",
    "        ReconstructionNet\n",
    "    )"
   ]
  },
  {
   "cell_type": "code",
   "execution_count": 7,
   "id": "featured-algeria",
   "metadata": {},
   "outputs": [],
   "source": [
    "device = torch.device(\"cuda:0\")# (\"cuda:0\")\n",
    "\n",
    "    \n",
    "resnet50 = models.resnet50(pretrained=True)\n",
    "resnet501 = models.resnet50(pretrained=True)\n",
    "cnn_c = CNN(resnet50).to(device)\n",
    "cnn_d = CNN(resnet501).to(device)\n",
    "concate_net = Concate().to(device)\n",
    "discriminator = Discriminator().to(device)# 判别分布"
   ]
  },
  {
   "cell_type": "markdown",
   "id": "national-buyer",
   "metadata": {},
   "source": [
    "### Attention based reconstruction"
   ]
  },
  {
   "cell_type": "code",
   "execution_count": 8,
   "id": "dated-premium",
   "metadata": {},
   "outputs": [],
   "source": [
    "reconstruct_net_c = ReconstructionNet(in_feature=2048 * 2, output_size=(299, 299)).to(device)\n",
    "reconstruct_net_d = ReconstructionNet(in_feature=2048 * 2, output_size=(299, 299)).to(device)"
   ]
  },
  {
   "cell_type": "code",
   "execution_count": 9,
   "id": "6ba2fbbe",
   "metadata": {},
   "outputs": [],
   "source": [
    "import torch.nn as nn\n",
    "import torch.optim as optim\n",
    "from itertools import chain"
   ]
  },
  {
   "cell_type": "code",
   "execution_count": 10,
   "id": "international-typing",
   "metadata": {},
   "outputs": [],
   "source": [
    "learning_rate = 1e-5\n",
    "learning_rate_re = 1e-5\n",
    "criterion = nn.CrossEntropyLoss()\n",
    "opt_list = chain(cnn_c.parameters(), cnn_d.parameters(), concate_net.parameters(), reconstruct_net_c.parameters(), reconstruct_net_d.parameters(), discriminator.parameters())\n",
    "# optimizer = optim.Adam(chain(reconstruct_net_c.parameters(), reconstruct_net_d.parameters(), concate_net.parameters(), cnn_c.parameters(), cnn_d.parameters()), lr=learning_rate , weight_decay=0.0001) #\n",
    "optimizer = optim.Adam(opt_list, lr=learning_rate, weight_decay=0.0001) # , weight_decay=0.0001\n",
    "# optimizer_con = optim.Adam(chain(concate_net.parameters(), discriminator.parameters()), lr=learning_rate) # , weight_decay=0.0001\n",
    "# optimizer_re = optim.Adam(chain(reconstruct_net_c.parameters(), reconstruct_net_d.parameters()), lr=learning_rate_re) # , weight_decay=0.0001\n",
    "# criterion_recon = nn.MSELoss()\n",
    "criterion_recon = nn.MSELoss(reduction='none')\n",
    "criterion_l1 = nn.L1Loss(reduction='none')\n"
   ]
  },
  {
   "cell_type": "code",
   "execution_count": 11,
   "id": "continent-breath",
   "metadata": {
    "scrolled": true
   },
   "outputs": [],
   "source": [
    "from utils import \\\n",
    "    (\n",
    "        train_func,\n",
    "        test_func,\n",
    "        metric,\n",
    "        get_average_acc,\n",
    "        get_average_auc,\n",
    "        get_confusion_matrix,\n",
    "        get_specificity,\n",
    "    )\n",
    "        "
   ]
  },
  {
   "cell_type": "code",
   "execution_count": 12,
   "id": "c5e096fe",
   "metadata": {},
   "outputs": [
    {
     "name": "stdout",
     "output_type": "stream",
     "text": [
      "Epoch 0 begin train...\n",
      "Epoch: 0 train loss, Diag loss: 1.5440, PN loss: 1.1266, STR loss: 0.9855, PIG loss: 1.0613, RS loss: 0.6707, DaG loss: 1.1091, BWV loss: 0.5948, VS loss: 0.8804\n",
      "Train metics on epoch 0:\n",
      "{'diag': {0: 0.7475263852242744, 1: 0.20817766708177668, 2: 0.4084663568397656, 3: 0.33338028169014083, 4: 0.21206606942889136, 'micro': 0.6500032046146451, 'macro': 0.38412943119147197}, 'pn': {0: 0.4173371955798734, 1: 0.3597128238983331, 2: 0.39347005625578574, 'micro': 0.4518987341772152, 'macro': 0.3921482225266294}, 'str': {0: 0.34379405627925336, 1: 0.49799274799274806, 2: 0.3439245069626069, 'micro': 0.69819900656946, 'macro': 0.3976355732211596}, 'pig': {0: 0.4418343935759724, 1: 0.472202209414025, 2: 0.4894655398166885, 'micro': 0.6167825668963307, 'macro': 0.46997754176326034}, 'rs': {0: 0.46957628778481425, 1: 0.4695762877848143, 'micro': 0.6292004486460503, 'macro': 0.4727754432901762}, 'dag': {0: 0.44464406779661014, 1: 0.5056599155601786, 2: 0.4708184315554864, 'micro': 0.482089408748598, 'macro': 0.4755840689112117}, 'bwv': {0: 0.2635, 1: 0.2635, 'micro': 0.7360871655183464, 'macro': 0.2668858723958334}, 'vs': {0: 0.4289332190446505, 1: 0.554328324736488, 2: 0.25789954337899546, 'micro': 0.8307322544464029, 'macro': 0.41736933568876783}}\n",
      "{'diag': 0.3721518987341772, 'pn': 0.2708860759493671, 'str': 0.5873417721518988, 'pig': 0.4835443037974684, 'rs': 0.579746835443038, 'dag': 0.3265822784810127, 'bwv': 0.789873417721519, 'vs': 0.7417721518987341}\n",
      "Current best average ACC: 0.5190\n",
      "Current average AUC: 0.4152\n",
      "\n",
      "Epoch 1 begin train...\n",
      "Epoch: 1 train loss, Diag loss: 1.3352, PN loss: 1.0884, STR loss: 0.8811, PIG loss: 0.9669, RS loss: 0.5690, DaG loss: 1.0807, BWV loss: 0.5058, VS loss: 0.6852\n",
      "Train metics on epoch 1:\n",
      "{'diag': {0: 0.7719327176781002, 1: 0.3135896637608966, 2: 0.4050313194584765, 3: 0.3772535211267605, 4: 0.2541993281075028, 'micro': 0.7756978048389681, 'macro': 0.42656453422613855}, 'pn': {0: 0.5281890355112112, 1: 0.4939483963250262, 2: 0.5573951434878588, 'micro': 0.5628585162634193, 'macro': 0.528473516090195}, 'str': {0: 0.5114193875824734, 1: 0.6198523698523698, 2: 0.4993638227185975, 'micro': 0.7665502323345619, 'macro': 0.545732924514133}, 'pig': {0: 0.5452471582021067, 1: 0.5072046109510087, 2: 0.5952267587192, 'micro': 0.7294007370613684, 'macro': 0.5513874687292915}, 'rs': {0: 0.6475811190180845, 1: 0.6475811190180845, 'micro': 0.7895914116327512, 'macro': 0.6502887686321646}, 'dag': {0: 0.4886440677966102, 1: 0.5698770115645843, 2: 0.5347794536878661, 'micro': 0.5782727127062971, 'macro': 0.5330715150314161}, 'bwv': {0: 0.4624583333333333, 1: 0.46245833333333336, 'micro': 0.7985771510975804, 'macro': 0.46655551215277774}, 'vs': {0: 0.5810021039507521, 1: 0.705315093070195, 2: 0.4363470319634703, 'micro': 0.8756897933023555, 'macro': 0.5776089415517112}}\n",
      "{'diag': 0.5518987341772152, 'pn': 0.3822784810126582, 'str': 0.6506329113924051, 'pig': 0.5670886075949367, 'rs': 0.7291139240506329, 'dag': 0.40759493670886077, 'bwv': 0.810126582278481, 'vs': 0.7924050632911392}\n",
      "Current best average ACC: 0.6114\n",
      "Current average AUC: 0.5470\n",
      "\n",
      "Epoch 2 begin train...\n",
      "Epoch: 2 train loss, Diag loss: 1.2699, PN loss: 1.0707, STR loss: 0.8411, PIG loss: 0.9145, RS loss: 0.5525, DaG loss: 1.0462, BWV loss: 0.4756, VS loss: 0.6154\n",
      "Train metics on epoch 2:\n",
      "{'diag': {0: 0.6119722955145118, 1: 0.4054846409298464, 2: 0.3859028760018859, 3: 0.5249295774647887, 4: 0.3114501679731243, 'micro': 0.7899583400096137, 'macro': 0.449986263148726}, 'pn': {0: 0.5483585452204699, 1: 0.5292127413764647, 2: 0.5734529658904792, 'micro': 0.5959061047908989, 'macro': 0.5524413903161262}, 'str': {0: 0.6350589296791294, 1: 0.605089355089355, 2: 0.6449070474305507, 'micro': 0.806015061688832, 'macro': 0.6308079130262696}, 'pig': {0: 0.6516060068828866, 1: 0.6533381364073007, 2: 0.6432567551481967, 'micro': 0.7664669123537894, 'macro': 0.6516107377679023}, 'rs': {0: 0.6882875236665142, 1: 0.6882875236665142, 'micro': 0.805582438711745, 'macro': 0.6912144628154286}, 'dag': {0: 0.6069152542372882, 1: 0.6154622774276448, 2: 0.6327165293111492, 'micro': 0.6417689472840891, 'macro': 0.6203038364897023}, 'bwv': {0: 0.6078333333333332, 1: 0.6078333333333333, 'micro': 0.8433007530844416, 'macro': 0.6118176106770832}, 'vs': {0: 0.751188342554352, 1: 0.7766315317335726, 2: 0.6786301369863014, 'micro': 0.9083384073065214, 'macro': 0.7385871061661822}}\n",
      "{'diag': 0.5518987341772152, 'pn': 0.42278481012658226, 'str': 0.6506329113924051, 'pig': 0.569620253164557, 'rs': 0.7316455696202532, 'dag': 0.46329113924050636, 'bwv': 0.810126582278481, 'vs': 0.7924050632911392}\n",
      "Current best average ACC: 0.6241\n",
      "Current average AUC: 0.6388\n",
      "\n",
      "Epoch 3 begin train...\n",
      "Epoch: 3 train loss, Diag loss: 1.2464, PN loss: 1.0593, STR loss: 0.8096, PIG loss: 0.8877, RS loss: 0.5238, DaG loss: 1.0377, BWV loss: 0.4670, VS loss: 0.5797\n",
      "Train metics on epoch 3:\n",
      "{'diag': {0: 0.6144459102902375, 1: 0.426395807388958, 2: 0.3794706001212366, 3: 0.5526056338028169, 4: 0.4616461366181411, 'micro': 0.7961112001281847, 'macro': 0.4889420531083245}, 'pn': {0: 0.550852912777599, 1: 0.559113164988722, 2: 0.619988606423129, 'micro': 0.6121935587245634, 'macro': 0.5786313549786717}, 'str': {0: 0.7205774544634298, 1: 0.7740870240870241, 2: 0.6927617162649324, 'micro': 0.8340105752283288, 'macro': 0.7313741936256506}, 'pig': {0: 0.736859943685473, 1: 0.6286023054755043, 2: 0.7213426972979408, 'micro': 0.7842461144047428, 'macro': 0.6977819035797037}, 'rs': {0: 0.7801462427368284, 1: 0.7801462427368285, 'micro': 0.8417753565133791, 'macro': 0.7833563714834593}, 'dag': {0: 0.6283728813559322, 1: 0.6228660588631219, 2: 0.6323796195511324, 'micro': 0.6556481333119693, 'macro': 0.6297801212457341}, 'bwv': {0: 0.6374583333333333, 1: 0.6374583333333333, 'micro': 0.8524146771350745, 'macro': 0.6409263237847223}, 'vs': {0: 0.8166056261201591, 1: 0.8394258802422068, 2: 0.7715981735159817, 'micro': 0.9262938631629547, 'macro': 0.8121827513634188}}\n",
      "{'diag': 0.5544303797468354, 'pn': 0.4050632911392405, 'str': 0.6506329113924051, 'pig': 0.5822784810126582, 'rs': 0.739240506329114, 'dag': 0.4759493670886076, 'bwv': 0.810126582278481, 'vs': 0.7924050632911392}\n",
      "Current best average ACC: 0.6263\n",
      "Current average AUC: 0.6921\n",
      "\n",
      "Epoch 4 begin train...\n",
      "Epoch: 4 train loss, Diag loss: 1.2241, PN loss: 1.0081, STR loss: 0.7949, PIG loss: 0.8172, RS loss: 0.5131, DaG loss: 1.0173, BWV loss: 0.4373, VS loss: 0.5475\n",
      "Train metics on epoch 4:\n",
      "{'diag': {0: 0.674802110817942, 1: 0.4821762141967622, 2: 0.4158415841584159, 3: 0.49, 4: 0.5937849944008958, 'micro': 0.8045809966351546, 'macro': 0.5332985025415307}, 'pn': {0: 0.673881557772771, 1: 0.6789074104637728, 2: 0.71647796054974, 'micro': 0.6929081877904182, 'macro': 0.6915839374850369}, 'str': {0: 0.7645632436699936, 1: 0.6978114478114479, 2: 0.7557432671237717, 'micro': 0.8406793783047588, 'macro': 0.7415144586187837}, 'pig': {0: 0.8678433621858379, 1: 0.8361551392891451, 2: 0.8190096417093203, 'micro': 0.8309053036372377, 'macro': 0.8429057858288955}, 'rs': {0: 0.8080890513808188, 1: 0.8080890513808187, 'micro': 0.8526966832238423, 'macro': 0.8109453495065176}, 'dag': {0: 0.6499322033898305, 1: 0.6742030227008505, 2: 0.7138858653397605, 'micro': 0.6876045505527961, 'macro': 0.6811730779091169}, 'bwv': {0: 0.7729166666666667, 1: 0.7729166666666666, 'micro': 0.894087485979811, 'macro': 0.7761242621527777}, 'vs': {0: 0.8893867373178524, 1: 0.8884839650145773, 2: 0.8394520547945206, 'micro': 0.9428713347219997, 'macro': 0.8755218159988575}}\n",
      "{'diag': 0.5544303797468354, 'pn': 0.5063291139240507, 'str': 0.6506329113924051, 'pig': 0.6, 'rs': 0.739240506329114, 'dag': 0.4860759493670886, 'bwv': 0.810126582278481, 'vs': 0.7924050632911392}\n",
      "Current best average ACC: 0.6424\n",
      "Current average AUC: 0.7699\n",
      "\n"
     ]
    }
   ],
   "source": [
    "trainloader = torch.utils.data.DataLoader(test_dataset, batch_size=12, shuffle=False, num_workers=4)\n",
    "record_acc = 0.\n",
    "record_auc = 0.\n",
    "\n",
    "from time import time\n",
    "total_time_train = 0\n",
    "for epoch in range(5):\n",
    "        # training\n",
    "        start_time_epoch_train = time()\n",
    "\n",
    "        print(\"Epoch {} begin train...\".format(epoch))\n",
    "        pred_all_train, label_true_train = train_func(trainloader, \n",
    "                cnn_c, \n",
    "                cnn_d, \n",
    "                concate_net, \n",
    "                reconstruct_net_c, \n",
    "                reconstruct_net_d, \n",
    "                optimizer, \n",
    "                criterion, \n",
    "                device, \n",
    "                epoch\n",
    "            )\n",
    "        auc_all_train, acc_all_train, con_all_train = metric(pred_all_train, label_true_train, show=False)\n",
    "        avg_acc = get_average_acc(acc_all_train)# get the average acc\n",
    "        avg_auc = get_average_auc(auc_all_train)\n",
    "        con_metric = get_confusion_matrix(pred_all_train, label_true_train) # compute recall and precision\n",
    "        specificity = get_specificity(pred_all_train, label_true_train)\n",
    "        # sens, spec, prec = get_confusion_matrix(con_all_test)\n",
    "        # print(avg_acc, avg_auc)\n",
    "        # if i % 10 == 0 or i == (epochs - 1):\n",
    "        if (record_acc+record_auc) <= (avg_acc + avg_auc):\n",
    "            record_acc = avg_acc\n",
    "            record_auc = avg_auc\n",
    "            # print(\"Train metics on epoch {}:\".format(epoch))\n",
    "            print(auc_all_train)\n",
    "            print(acc_all_train)\n",
    "            print(\"Current best average ACC: {:.4f}\".format(avg_acc))\n",
    "            print(\"Current average AUC: {:.4f}\".format(avg_auc))\n",
    "            print()\n",
    "\n",
    "        end_time_epoch_train = time()\n",
    "        epoch_time_train = end_time_epoch_train - start_time_epoch_train\n",
    "        total_time_train += epoch_time_train"
   ]
  },
  {
   "cell_type": "code",
   "execution_count": null,
   "id": "0bea0530",
   "metadata": {},
   "outputs": [],
   "source": []
  },
  {
   "cell_type": "code",
   "execution_count": 15,
   "id": "a759936d",
   "metadata": {},
   "outputs": [
    {
     "name": "stdout",
     "output_type": "stream",
     "text": [
      "Epoch 1 begin testing...\n",
      "Epoch: 1 test loss, Diag loss: 0.8220, PN loss: 0.6805, STR loss: 0.5907, PIG loss: 0.7436, RS loss: 0.3653, DaG loss: 0.8746, BWV loss: 0.2866, VS loss: 0.4405\n",
      "0.7591772151898735 0.8473625607985668\n",
      "Test metics on epoch 1:\n",
      "{'diag': {0: 0.941787598944591, 1: 0.8965338314653383, 2: 0.8903482184953189, 3: 0.9059859154929577, 4: 0.8171892497200448, 'micro': 0.9339560967793622, 'macro': 0.8917050790802882}, 'pn': {0: 0.8919912026606587, 1: 0.8449139021840788, 2: 0.8205155593534144, 'micro': 0.8611632751161672, 'macro': 0.8542629397745594}, 'str': {0: 0.8300625951615632, 1: 0.8954286454286454, 2: 0.8072736269173676, 'micro': 0.8978464989585003, 'macro': 0.8462718635554005}, 'pig': {0: 0.8073573886745229, 1: 0.8515249759846302, 2: 0.8338590643970956, 'micro': 0.8701778561128024, 'macro': 0.8326071577107976}, 'rs': {0: 0.8676633805575505, 1: 0.8676633805575504, 'micro': 0.9067841692036532, 'macro': 0.8704126520852186}, 'dag': {0: 0.7717627118644068, 1: 0.7767851679618185, 2: 0.8191831234126367, 'micro': 0.8018170165037655, 'macro': 0.7909886447540199}, 'bwv': {0: 0.9107916666666667, 1: 0.9107916666666667, 'micro': 0.953257490786733, 'macro': 0.9131359917534722}, 'vs': {0: 0.8958544377776045, 1: 0.8876990356582193, 2: 0.8087671232876712, 'micro': 0.9475692997917, 'macro': 0.867285975559729}}\n",
      "{'diag': 0.7544303797468355, 'pn': 0.7037974683544304, 'str': 0.7468354430379747, 'pig': 0.7088607594936709, 'rs': 0.8075949367088607, 'dag': 0.6379746835443038, 'bwv': 0.8810126582278481, 'vs': 0.8329113924050633}\n",
      "Current best average ACC: 0.7592\n",
      "Current average AUC: 0.8474\n"
     ]
    }
   ],
   "source": [
    "record_acc = 0.\n",
    "record_auc = 0.\n",
    "\n",
    "model_name_c = './checkpoint/feature_extraction_c_fusion_9-12_21.pth'# './checkpoint/feature_extraction_concate_discrinimator_0713_c1_two_stream.pth' # 3 ahieved the best performance \n",
    "model_name_d = './checkpoint/feature_extraction_d_fusion_9-12_21.pth' #'./checkpoint/feature_extraction_concate_discrinimator_0713_d1_two_stream.pth'\n",
    "model_name_concate = './checkpoint/concatenate_fusion_9-12_21.pth'# './checkpoint/concate_discrinimator_0713_concatenate1_two_stream.pth'\n",
    "model_name_dis_c = './checkpoint/discriminator_fusion_9-12_21.pth'# './checkpoint/reconstruct_concate_discrinimator_0713_c1_two_stream.pth'\n",
    "model_name_recon_c = './checkpoint/reconstruct_c_fusion_9-12_21.pth'# './checkpoint/feature_extraction_concate_recon_0713_c1_two_stream.pth' # 3 ahieved the best performance\n",
    "model_name_recon_d = './checkpoint/reconstruct_c_fusion_9-12_21.pth'# './checkpoint/feature_extraction_concate_recon_0713_d1_two_stream.pth'\n",
    "\n",
    "checkpoint_c = torch.load(model_name_c)\n",
    "cnn_c.load_state_dict(checkpoint_c)\n",
    "checkpoint_d = torch.load(model_name_d)\n",
    "cnn_d.load_state_dict(checkpoint_d)\n",
    "checkpoint_concate_net = torch.load(model_name_concate)\n",
    "concate_net.load_state_dict(checkpoint_concate_net)\n",
    "\n",
    "testloader = torch.utils.data.DataLoader(test_dataset, batch_size=48,\n",
    "                                              shuffle=False, num_workers=4)\n",
    "i=1\n",
    "print(\"Epoch {} begin testing...\".format(i))\n",
    "pred_all_test, label_true_test = test_func(testloader, \n",
    "                        cnn_c, \n",
    "                        cnn_d, \n",
    "                        concate_net, \n",
    "                        reconstruct_net_c, \n",
    "                        reconstruct_net_d, \n",
    "                        criterion,\n",
    "                        device,\n",
    "                        i)\n",
    "auc_all_test, acc_all_test, con_all_test = metric(pred_all_test, label_true_test, show=False)\n",
    "avg_acc = get_average_acc(acc_all_test)# get the average acc\n",
    "avg_auc = get_average_auc(auc_all_test)\n",
    "con_metric = get_confusion_matrix(pred_all_test, label_true_test) # compute recall and precision\n",
    "specificity = get_specificity(pred_all_test, label_true_test)\n",
    "# sens, spec, prec = get_confusion_matrix(con_all_test)\n",
    "print(avg_acc, avg_auc)\n",
    "# if i % 10 == 0 or i == (epochs - 1):\n",
    "if (record_acc+record_auc) <= (avg_acc + avg_auc):\n",
    "    record_acc = avg_acc\n",
    "    record_auc = avg_auc\n",
    "    print(\"Test metics on epoch {}:\".format(i))\n",
    "    print(auc_all_test)\n",
    "    print(acc_all_test)\n",
    "    print(\"Current best average ACC: {:.4f}\".format(avg_acc))\n",
    "    print(\"Current average AUC: {:.4f}\".format(avg_auc))\n",
    "    # print('confusion_matrix' + str(con_metric))\n"
   ]
  },
  {
   "cell_type": "code",
   "execution_count": null,
   "id": "e55e9dde",
   "metadata": {},
   "outputs": [],
   "source": [
    "# Epoch 1 begin testing...\n",
    "# Epoch: 1 test loss, Diag loss: 1.2603, PN loss: 0.9970, STR loss: 0.7590, PIG loss: 0.8560, RS loss: 0.5059, DaG loss: 1.0333, BWV loss: 0.4149, VS loss: 0.5281\n",
    "# 0.6420886075949368 0.8651865120908606\n",
    "# Test metics on epoch 1:\n",
    "# {'diag': {0: 0.7076187335092349, 1: 0.6360782482357824, 2: 0.6217754428504074, 3: 0.5730281690140845, 4: 0.7340425531914894, 'micro': 0.8328168562730331, 'macro': 0.6561713272151666}, 'pn': {0: 0.8749061259521511, 1: 0.816333828464543, 2: 0.8398134301787368, 'micro': 0.7575484697965069, 'macro': 0.8453706595143892}, 'str': {0: 0.8349968984379406, 1: 0.8205128205128205, 2: 0.8478122570156217, 'micro': 0.8604999198846339, 'macro': 0.8366352876824144}, 'pig': {0: 0.9056731671707164, 1: 0.873859269932757, 2: 0.9168253779311987, 'micro': 0.8371767344976766, 'macro': 0.9008540747608589}, 'rs': {0: 0.8709277273617549, 1: 0.8709277273617549, 'micro': 0.8773017144688351, 'macro': 0.8732082053778082}, 'dag': {0: 0.8211525423728814, 1: 0.8106528789084011, 2: 0.8519670346757892, 'micro': 0.757224803717353, 'macro': 0.8297087122067603}, 'bwv': {0: 0.8657916666666666, 1: 0.8657916666666665, 'micro': 0.9226598301554237, 'macro': 0.8686601019965277}, 'vs': {0: 0.9313099041533548, 1: 0.9501569858712715, 2: 0.8691324200913243, 'micro': 0.9509277359397532, 'macro': 0.9201227966268323}}\n",
    "# {'diag': 0.5544303797468354, 'pn': 0.5721518987341773, 'str': 0.6506329113924051, 'pig': 0.5645569620253165, 'rs': 0.7316455696202532, 'dag': 0.4607594936708861, 'bwv': 0.810126582278481, 'vs': 0.7924050632911392}\n",
    "# Current best average ACC: 0.6421\n",
    "# Current average AUC: 0.8652"
   ]
  }
 ],
 "metadata": {
  "kernelspec": {
   "display_name": "Python 3 (ipykernel)",
   "language": "python",
   "name": "python3"
  },
  "language_info": {
   "codemirror_mode": {
    "name": "ipython",
    "version": 3
   },
   "file_extension": ".py",
   "mimetype": "text/x-python",
   "name": "python",
   "nbconvert_exporter": "python",
   "pygments_lexer": "ipython3",
   "version": "3.8.0"
  }
 },
 "nbformat": 4,
 "nbformat_minor": 5
}
